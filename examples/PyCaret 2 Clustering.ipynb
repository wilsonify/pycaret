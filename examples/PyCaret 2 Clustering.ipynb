{
 "cells": [
  {
   "cell_type": "markdown",
   "metadata": {},
   "source": [
    "# PyCaret 2 Clustering Example\n",
    "This notebook is created using PyCaret 2.0. Last updated : 31-07-2020"
   ]
  },
  {
   "cell_type": "code",
   "execution_count": 1,
   "metadata": {},
   "outputs": [
    {
     "name": "stdout",
     "output_type": "stream",
     "text": [
      "2.0\n"
     ]
    }
   ],
   "source": [
    "# check version\n",
    "from pycaret.utils import version\n",
    "version()"
   ]
  },
  {
   "cell_type": "markdown",
   "metadata": {},
   "source": [
    "# 1. Loading Dataset"
   ]
  },
  {
   "cell_type": "code",
   "execution_count": 2,
   "metadata": {},
   "outputs": [
    {
     "data": {
      "text/html": [
       "<div>\n",
       "<style scoped>\n",
       "    .dataframe tbody tr th:only-of-type {\n",
       "        vertical-align: middle;\n",
       "    }\n",
       "\n",
       "    .dataframe tbody tr th {\n",
       "        vertical-align: top;\n",
       "    }\n",
       "\n",
       "    .dataframe thead th {\n",
       "        text-align: right;\n",
       "    }\n",
       "</style>\n",
       "<table border=\"1\" class=\"dataframe\">\n",
       "  <thead>\n",
       "    <tr style=\"text-align: right;\">\n",
       "      <th></th>\n",
       "      <th>Country Name</th>\n",
       "      <th>1995</th>\n",
       "      <th>1996</th>\n",
       "      <th>1997</th>\n",
       "      <th>1998</th>\n",
       "      <th>1999</th>\n",
       "      <th>2000</th>\n",
       "      <th>2001</th>\n",
       "      <th>2002</th>\n",
       "      <th>2003</th>\n",
       "      <th>...</th>\n",
       "      <th>2005</th>\n",
       "      <th>2006</th>\n",
       "      <th>2007</th>\n",
       "      <th>2008</th>\n",
       "      <th>2009</th>\n",
       "      <th>2010</th>\n",
       "      <th>2011</th>\n",
       "      <th>2012</th>\n",
       "      <th>2013</th>\n",
       "      <th>2014</th>\n",
       "    </tr>\n",
       "  </thead>\n",
       "  <tbody>\n",
       "    <tr>\n",
       "      <th>0</th>\n",
       "      <td>Arab World</td>\n",
       "      <td>2.004868</td>\n",
       "      <td>2.014602</td>\n",
       "      <td>2.071309</td>\n",
       "      <td>2.177712</td>\n",
       "      <td>2.331000</td>\n",
       "      <td>2.333596</td>\n",
       "      <td>2.588751</td>\n",
       "      <td>2.540238</td>\n",
       "      <td>2.450415</td>\n",
       "      <td>...</td>\n",
       "      <td>2.134281</td>\n",
       "      <td>2.133038</td>\n",
       "      <td>2.166872</td>\n",
       "      <td>2.101233</td>\n",
       "      <td>2.830067</td>\n",
       "      <td>2.489631</td>\n",
       "      <td>2.539570</td>\n",
       "      <td>2.711262</td>\n",
       "      <td>2.895427</td>\n",
       "      <td>3.073161</td>\n",
       "    </tr>\n",
       "    <tr>\n",
       "      <th>1</th>\n",
       "      <td>Caribbean small states</td>\n",
       "      <td>2.801518</td>\n",
       "      <td>2.856684</td>\n",
       "      <td>2.997157</td>\n",
       "      <td>2.989451</td>\n",
       "      <td>2.767858</td>\n",
       "      <td>2.826752</td>\n",
       "      <td>2.679969</td>\n",
       "      <td>2.888693</td>\n",
       "      <td>2.740593</td>\n",
       "      <td>...</td>\n",
       "      <td>2.629580</td>\n",
       "      <td>2.650900</td>\n",
       "      <td>2.790665</td>\n",
       "      <td>2.822913</td>\n",
       "      <td>3.408651</td>\n",
       "      <td>3.264064</td>\n",
       "      <td>3.087653</td>\n",
       "      <td>3.314303</td>\n",
       "      <td>3.318432</td>\n",
       "      <td>3.260012</td>\n",
       "    </tr>\n",
       "    <tr>\n",
       "      <th>2</th>\n",
       "      <td>Central Europe and the Baltics</td>\n",
       "      <td>4.678528</td>\n",
       "      <td>4.753209</td>\n",
       "      <td>4.604574</td>\n",
       "      <td>4.499988</td>\n",
       "      <td>4.679082</td>\n",
       "      <td>4.539711</td>\n",
       "      <td>4.666272</td>\n",
       "      <td>4.900196</td>\n",
       "      <td>5.100249</td>\n",
       "      <td>...</td>\n",
       "      <td>4.970861</td>\n",
       "      <td>4.841450</td>\n",
       "      <td>4.809057</td>\n",
       "      <td>5.054785</td>\n",
       "      <td>5.394921</td>\n",
       "      <td>5.284380</td>\n",
       "      <td>5.096212</td>\n",
       "      <td>5.041317</td>\n",
       "      <td>5.029266</td>\n",
       "      <td>5.017717</td>\n",
       "    </tr>\n",
       "    <tr>\n",
       "      <th>3</th>\n",
       "      <td>Early-demographic dividend</td>\n",
       "      <td>2.203164</td>\n",
       "      <td>2.156632</td>\n",
       "      <td>2.227311</td>\n",
       "      <td>2.364100</td>\n",
       "      <td>2.454394</td>\n",
       "      <td>2.450555</td>\n",
       "      <td>2.527081</td>\n",
       "      <td>2.347702</td>\n",
       "      <td>2.363263</td>\n",
       "      <td>...</td>\n",
       "      <td>2.337347</td>\n",
       "      <td>2.369884</td>\n",
       "      <td>2.385251</td>\n",
       "      <td>2.405126</td>\n",
       "      <td>2.701260</td>\n",
       "      <td>2.507131</td>\n",
       "      <td>2.495491</td>\n",
       "      <td>2.497340</td>\n",
       "      <td>2.586701</td>\n",
       "      <td>2.665603</td>\n",
       "    </tr>\n",
       "    <tr>\n",
       "      <th>4</th>\n",
       "      <td>East Asia &amp; Pacific</td>\n",
       "      <td>4.429090</td>\n",
       "      <td>4.203152</td>\n",
       "      <td>4.244351</td>\n",
       "      <td>4.453984</td>\n",
       "      <td>4.626920</td>\n",
       "      <td>4.688849</td>\n",
       "      <td>4.684790</td>\n",
       "      <td>4.613537</td>\n",
       "      <td>4.635098</td>\n",
       "      <td>...</td>\n",
       "      <td>4.566215</td>\n",
       "      <td>4.367146</td>\n",
       "      <td>4.297394</td>\n",
       "      <td>4.434848</td>\n",
       "      <td>4.865241</td>\n",
       "      <td>4.775817</td>\n",
       "      <td>4.871727</td>\n",
       "      <td>4.866869</td>\n",
       "      <td>4.643221</td>\n",
       "      <td>4.571448</td>\n",
       "    </tr>\n",
       "  </tbody>\n",
       "</table>\n",
       "<p>5 rows × 21 columns</p>\n",
       "</div>"
      ],
      "text/plain": [
       "                     Country Name      1995      1996      1997      1998  \\\n",
       "0                      Arab World  2.004868  2.014602  2.071309  2.177712   \n",
       "1          Caribbean small states  2.801518  2.856684  2.997157  2.989451   \n",
       "2  Central Europe and the Baltics  4.678528  4.753209  4.604574  4.499988   \n",
       "3      Early-demographic dividend  2.203164  2.156632  2.227311  2.364100   \n",
       "4             East Asia & Pacific  4.429090  4.203152  4.244351  4.453984   \n",
       "\n",
       "       1999      2000      2001      2002      2003  ...      2005      2006  \\\n",
       "0  2.331000  2.333596  2.588751  2.540238  2.450415  ...  2.134281  2.133038   \n",
       "1  2.767858  2.826752  2.679969  2.888693  2.740593  ...  2.629580  2.650900   \n",
       "2  4.679082  4.539711  4.666272  4.900196  5.100249  ...  4.970861  4.841450   \n",
       "3  2.454394  2.450555  2.527081  2.347702  2.363263  ...  2.337347  2.369884   \n",
       "4  4.626920  4.688849  4.684790  4.613537  4.635098  ...  4.566215  4.367146   \n",
       "\n",
       "       2007      2008      2009      2010      2011      2012      2013  \\\n",
       "0  2.166872  2.101233  2.830067  2.489631  2.539570  2.711262  2.895427   \n",
       "1  2.790665  2.822913  3.408651  3.264064  3.087653  3.314303  3.318432   \n",
       "2  4.809057  5.054785  5.394921  5.284380  5.096212  5.041317  5.029266   \n",
       "3  2.385251  2.405126  2.701260  2.507131  2.495491  2.497340  2.586701   \n",
       "4  4.297394  4.434848  4.865241  4.775817  4.871727  4.866869  4.643221   \n",
       "\n",
       "       2014  \n",
       "0  3.073161  \n",
       "1  3.260012  \n",
       "2  5.017717  \n",
       "3  2.665603  \n",
       "4  4.571448  \n",
       "\n",
       "[5 rows x 21 columns]"
      ]
     },
     "metadata": {},
     "output_type": "display_data"
    }
   ],
   "source": [
    "from pycaret.datasets import get_data\n",
    "data = get_data('public_health')"
   ]
  },
  {
   "cell_type": "markdown",
   "metadata": {},
   "source": [
    "# 2. Initialize Setup"
   ]
  },
  {
   "cell_type": "code",
   "execution_count": 3,
   "metadata": {},
   "outputs": [
    {
     "name": "stdout",
     "output_type": "stream",
     "text": [
      "Setup Succesfully Completed!\n"
     ]
    },
    {
     "data": {
      "text/html": [
       "<style  type=\"text/css\" >\n",
       "</style><table id=\"T_05953c58_d32c_11ea_8998_5076af549583\" ><thead>    <tr>        <th class=\"blank level0\" ></th>        <th class=\"col_heading level0 col0\" >Description</th>        <th class=\"col_heading level0 col1\" >Value</th>    </tr></thead><tbody>\n",
       "                <tr>\n",
       "                        <th id=\"T_05953c58_d32c_11ea_8998_5076af549583level0_row0\" class=\"row_heading level0 row0\" >0</th>\n",
       "                        <td id=\"T_05953c58_d32c_11ea_8998_5076af549583row0_col0\" class=\"data row0 col0\" >session_id </td>\n",
       "                        <td id=\"T_05953c58_d32c_11ea_8998_5076af549583row0_col1\" class=\"data row0 col1\" >123</td>\n",
       "            </tr>\n",
       "            <tr>\n",
       "                        <th id=\"T_05953c58_d32c_11ea_8998_5076af549583level0_row1\" class=\"row_heading level0 row1\" >1</th>\n",
       "                        <td id=\"T_05953c58_d32c_11ea_8998_5076af549583row1_col0\" class=\"data row1 col0\" >Original Data </td>\n",
       "                        <td id=\"T_05953c58_d32c_11ea_8998_5076af549583row1_col1\" class=\"data row1 col1\" >(224, 21)</td>\n",
       "            </tr>\n",
       "            <tr>\n",
       "                        <th id=\"T_05953c58_d32c_11ea_8998_5076af549583level0_row2\" class=\"row_heading level0 row2\" >2</th>\n",
       "                        <td id=\"T_05953c58_d32c_11ea_8998_5076af549583row2_col0\" class=\"data row2 col0\" >Missing Values </td>\n",
       "                        <td id=\"T_05953c58_d32c_11ea_8998_5076af549583row2_col1\" class=\"data row2 col1\" >False</td>\n",
       "            </tr>\n",
       "            <tr>\n",
       "                        <th id=\"T_05953c58_d32c_11ea_8998_5076af549583level0_row3\" class=\"row_heading level0 row3\" >3</th>\n",
       "                        <td id=\"T_05953c58_d32c_11ea_8998_5076af549583row3_col0\" class=\"data row3 col0\" >Numeric Features </td>\n",
       "                        <td id=\"T_05953c58_d32c_11ea_8998_5076af549583row3_col1\" class=\"data row3 col1\" >20</td>\n",
       "            </tr>\n",
       "            <tr>\n",
       "                        <th id=\"T_05953c58_d32c_11ea_8998_5076af549583level0_row4\" class=\"row_heading level0 row4\" >4</th>\n",
       "                        <td id=\"T_05953c58_d32c_11ea_8998_5076af549583row4_col0\" class=\"data row4 col0\" >Categorical Features </td>\n",
       "                        <td id=\"T_05953c58_d32c_11ea_8998_5076af549583row4_col1\" class=\"data row4 col1\" >1</td>\n",
       "            </tr>\n",
       "            <tr>\n",
       "                        <th id=\"T_05953c58_d32c_11ea_8998_5076af549583level0_row5\" class=\"row_heading level0 row5\" >5</th>\n",
       "                        <td id=\"T_05953c58_d32c_11ea_8998_5076af549583row5_col0\" class=\"data row5 col0\" >Ordinal Features </td>\n",
       "                        <td id=\"T_05953c58_d32c_11ea_8998_5076af549583row5_col1\" class=\"data row5 col1\" >False</td>\n",
       "            </tr>\n",
       "            <tr>\n",
       "                        <th id=\"T_05953c58_d32c_11ea_8998_5076af549583level0_row6\" class=\"row_heading level0 row6\" >6</th>\n",
       "                        <td id=\"T_05953c58_d32c_11ea_8998_5076af549583row6_col0\" class=\"data row6 col0\" >High Cardinality Features </td>\n",
       "                        <td id=\"T_05953c58_d32c_11ea_8998_5076af549583row6_col1\" class=\"data row6 col1\" >False</td>\n",
       "            </tr>\n",
       "            <tr>\n",
       "                        <th id=\"T_05953c58_d32c_11ea_8998_5076af549583level0_row7\" class=\"row_heading level0 row7\" >7</th>\n",
       "                        <td id=\"T_05953c58_d32c_11ea_8998_5076af549583row7_col0\" class=\"data row7 col0\" >Transformed Data </td>\n",
       "                        <td id=\"T_05953c58_d32c_11ea_8998_5076af549583row7_col1\" class=\"data row7 col1\" >(224, 20)</td>\n",
       "            </tr>\n",
       "            <tr>\n",
       "                        <th id=\"T_05953c58_d32c_11ea_8998_5076af549583level0_row8\" class=\"row_heading level0 row8\" >8</th>\n",
       "                        <td id=\"T_05953c58_d32c_11ea_8998_5076af549583row8_col0\" class=\"data row8 col0\" >Numeric Imputer </td>\n",
       "                        <td id=\"T_05953c58_d32c_11ea_8998_5076af549583row8_col1\" class=\"data row8 col1\" >mean</td>\n",
       "            </tr>\n",
       "            <tr>\n",
       "                        <th id=\"T_05953c58_d32c_11ea_8998_5076af549583level0_row9\" class=\"row_heading level0 row9\" >9</th>\n",
       "                        <td id=\"T_05953c58_d32c_11ea_8998_5076af549583row9_col0\" class=\"data row9 col0\" >Categorical Imputer </td>\n",
       "                        <td id=\"T_05953c58_d32c_11ea_8998_5076af549583row9_col1\" class=\"data row9 col1\" >constant</td>\n",
       "            </tr>\n",
       "            <tr>\n",
       "                        <th id=\"T_05953c58_d32c_11ea_8998_5076af549583level0_row10\" class=\"row_heading level0 row10\" >10</th>\n",
       "                        <td id=\"T_05953c58_d32c_11ea_8998_5076af549583row10_col0\" class=\"data row10 col0\" >Normalize </td>\n",
       "                        <td id=\"T_05953c58_d32c_11ea_8998_5076af549583row10_col1\" class=\"data row10 col1\" >False</td>\n",
       "            </tr>\n",
       "            <tr>\n",
       "                        <th id=\"T_05953c58_d32c_11ea_8998_5076af549583level0_row11\" class=\"row_heading level0 row11\" >11</th>\n",
       "                        <td id=\"T_05953c58_d32c_11ea_8998_5076af549583row11_col0\" class=\"data row11 col0\" >Normalize Method </td>\n",
       "                        <td id=\"T_05953c58_d32c_11ea_8998_5076af549583row11_col1\" class=\"data row11 col1\" >None</td>\n",
       "            </tr>\n",
       "            <tr>\n",
       "                        <th id=\"T_05953c58_d32c_11ea_8998_5076af549583level0_row12\" class=\"row_heading level0 row12\" >12</th>\n",
       "                        <td id=\"T_05953c58_d32c_11ea_8998_5076af549583row12_col0\" class=\"data row12 col0\" >Transformation </td>\n",
       "                        <td id=\"T_05953c58_d32c_11ea_8998_5076af549583row12_col1\" class=\"data row12 col1\" >False</td>\n",
       "            </tr>\n",
       "            <tr>\n",
       "                        <th id=\"T_05953c58_d32c_11ea_8998_5076af549583level0_row13\" class=\"row_heading level0 row13\" >13</th>\n",
       "                        <td id=\"T_05953c58_d32c_11ea_8998_5076af549583row13_col0\" class=\"data row13 col0\" >Transformation Method </td>\n",
       "                        <td id=\"T_05953c58_d32c_11ea_8998_5076af549583row13_col1\" class=\"data row13 col1\" >None</td>\n",
       "            </tr>\n",
       "            <tr>\n",
       "                        <th id=\"T_05953c58_d32c_11ea_8998_5076af549583level0_row14\" class=\"row_heading level0 row14\" >14</th>\n",
       "                        <td id=\"T_05953c58_d32c_11ea_8998_5076af549583row14_col0\" class=\"data row14 col0\" >PCA </td>\n",
       "                        <td id=\"T_05953c58_d32c_11ea_8998_5076af549583row14_col1\" class=\"data row14 col1\" >False</td>\n",
       "            </tr>\n",
       "            <tr>\n",
       "                        <th id=\"T_05953c58_d32c_11ea_8998_5076af549583level0_row15\" class=\"row_heading level0 row15\" >15</th>\n",
       "                        <td id=\"T_05953c58_d32c_11ea_8998_5076af549583row15_col0\" class=\"data row15 col0\" >PCA Method </td>\n",
       "                        <td id=\"T_05953c58_d32c_11ea_8998_5076af549583row15_col1\" class=\"data row15 col1\" >None</td>\n",
       "            </tr>\n",
       "            <tr>\n",
       "                        <th id=\"T_05953c58_d32c_11ea_8998_5076af549583level0_row16\" class=\"row_heading level0 row16\" >16</th>\n",
       "                        <td id=\"T_05953c58_d32c_11ea_8998_5076af549583row16_col0\" class=\"data row16 col0\" >PCA components </td>\n",
       "                        <td id=\"T_05953c58_d32c_11ea_8998_5076af549583row16_col1\" class=\"data row16 col1\" >None</td>\n",
       "            </tr>\n",
       "            <tr>\n",
       "                        <th id=\"T_05953c58_d32c_11ea_8998_5076af549583level0_row17\" class=\"row_heading level0 row17\" >17</th>\n",
       "                        <td id=\"T_05953c58_d32c_11ea_8998_5076af549583row17_col0\" class=\"data row17 col0\" >Ignore Low Variance </td>\n",
       "                        <td id=\"T_05953c58_d32c_11ea_8998_5076af549583row17_col1\" class=\"data row17 col1\" >False</td>\n",
       "            </tr>\n",
       "            <tr>\n",
       "                        <th id=\"T_05953c58_d32c_11ea_8998_5076af549583level0_row18\" class=\"row_heading level0 row18\" >18</th>\n",
       "                        <td id=\"T_05953c58_d32c_11ea_8998_5076af549583row18_col0\" class=\"data row18 col0\" >Combine Rare Levels </td>\n",
       "                        <td id=\"T_05953c58_d32c_11ea_8998_5076af549583row18_col1\" class=\"data row18 col1\" >False</td>\n",
       "            </tr>\n",
       "            <tr>\n",
       "                        <th id=\"T_05953c58_d32c_11ea_8998_5076af549583level0_row19\" class=\"row_heading level0 row19\" >19</th>\n",
       "                        <td id=\"T_05953c58_d32c_11ea_8998_5076af549583row19_col0\" class=\"data row19 col0\" >Rare Level Threshold </td>\n",
       "                        <td id=\"T_05953c58_d32c_11ea_8998_5076af549583row19_col1\" class=\"data row19 col1\" >None</td>\n",
       "            </tr>\n",
       "            <tr>\n",
       "                        <th id=\"T_05953c58_d32c_11ea_8998_5076af549583level0_row20\" class=\"row_heading level0 row20\" >20</th>\n",
       "                        <td id=\"T_05953c58_d32c_11ea_8998_5076af549583row20_col0\" class=\"data row20 col0\" >Numeric Binning </td>\n",
       "                        <td id=\"T_05953c58_d32c_11ea_8998_5076af549583row20_col1\" class=\"data row20 col1\" >False</td>\n",
       "            </tr>\n",
       "            <tr>\n",
       "                        <th id=\"T_05953c58_d32c_11ea_8998_5076af549583level0_row21\" class=\"row_heading level0 row21\" >21</th>\n",
       "                        <td id=\"T_05953c58_d32c_11ea_8998_5076af549583row21_col0\" class=\"data row21 col0\" >Remove Multicollinearity </td>\n",
       "                        <td id=\"T_05953c58_d32c_11ea_8998_5076af549583row21_col1\" class=\"data row21 col1\" >False</td>\n",
       "            </tr>\n",
       "            <tr>\n",
       "                        <th id=\"T_05953c58_d32c_11ea_8998_5076af549583level0_row22\" class=\"row_heading level0 row22\" >22</th>\n",
       "                        <td id=\"T_05953c58_d32c_11ea_8998_5076af549583row22_col0\" class=\"data row22 col0\" >Multicollinearity Threshold </td>\n",
       "                        <td id=\"T_05953c58_d32c_11ea_8998_5076af549583row22_col1\" class=\"data row22 col1\" >None</td>\n",
       "            </tr>\n",
       "            <tr>\n",
       "                        <th id=\"T_05953c58_d32c_11ea_8998_5076af549583level0_row23\" class=\"row_heading level0 row23\" >23</th>\n",
       "                        <td id=\"T_05953c58_d32c_11ea_8998_5076af549583row23_col0\" class=\"data row23 col0\" >Group Features </td>\n",
       "                        <td id=\"T_05953c58_d32c_11ea_8998_5076af549583row23_col1\" class=\"data row23 col1\" >False</td>\n",
       "            </tr>\n",
       "    </tbody></table>"
      ],
      "text/plain": [
       "<pandas.io.formats.style.Styler at 0x23648434c08>"
      ]
     },
     "metadata": {},
     "output_type": "display_data"
    },
    {
     "name": "stderr",
     "output_type": "stream",
     "text": [
      "2020/07/31 08:47:41 WARNING mlflow.tracking.context.git_context: Failed to import Git (the Git executable is probably not on your PATH), so Git SHA is not available. Error: No module named 'repository'\n"
     ]
    }
   ],
   "source": [
    "from pycaret.clustering import *\n",
    "clu1 = setup(data, ignore_features = ['Country Name'], session_id=123, log_experiment=True, log_plots = True, \n",
    "             experiment_name='health1')"
   ]
  },
  {
   "cell_type": "markdown",
   "metadata": {},
   "source": [
    "# 3. Create Model"
   ]
  },
  {
   "cell_type": "code",
   "execution_count": 4,
   "metadata": {},
   "outputs": [
    {
     "data": {
      "text/html": [
       "<div>\n",
       "<style scoped>\n",
       "    .dataframe tbody tr th:only-of-type {\n",
       "        vertical-align: middle;\n",
       "    }\n",
       "\n",
       "    .dataframe tbody tr th {\n",
       "        vertical-align: top;\n",
       "    }\n",
       "\n",
       "    .dataframe thead th {\n",
       "        text-align: right;\n",
       "    }\n",
       "</style>\n",
       "<table border=\"1\" class=\"dataframe\">\n",
       "  <thead>\n",
       "    <tr style=\"text-align: right;\">\n",
       "      <th></th>\n",
       "      <th>Name</th>\n",
       "      <th>Reference</th>\n",
       "    </tr>\n",
       "    <tr>\n",
       "      <th>ID</th>\n",
       "      <th></th>\n",
       "      <th></th>\n",
       "    </tr>\n",
       "  </thead>\n",
       "  <tbody>\n",
       "    <tr>\n",
       "      <th>kmeans</th>\n",
       "      <td>K-Means Clustering</td>\n",
       "      <td>sklearn.cluster.KMeans</td>\n",
       "    </tr>\n",
       "    <tr>\n",
       "      <th>ap</th>\n",
       "      <td>Affinity Propagation</td>\n",
       "      <td>sklearn.cluster.AffinityPropagation</td>\n",
       "    </tr>\n",
       "    <tr>\n",
       "      <th>meanshift</th>\n",
       "      <td>Mean shift Clustering</td>\n",
       "      <td>sklearn.cluster.MeanShift</td>\n",
       "    </tr>\n",
       "    <tr>\n",
       "      <th>sc</th>\n",
       "      <td>Spectral Clustering</td>\n",
       "      <td>sklearn.cluster.SpectralClustering</td>\n",
       "    </tr>\n",
       "    <tr>\n",
       "      <th>hclust</th>\n",
       "      <td>Agglomerative Clustering</td>\n",
       "      <td>sklearn.cluster.AgglomerativeClustering</td>\n",
       "    </tr>\n",
       "    <tr>\n",
       "      <th>dbscan</th>\n",
       "      <td>Density-Based Spatial Clustering</td>\n",
       "      <td>sklearn.cluster.DBSCAN</td>\n",
       "    </tr>\n",
       "    <tr>\n",
       "      <th>optics</th>\n",
       "      <td>OPTICS Clustering</td>\n",
       "      <td>sklearn.cluster.OPTICS</td>\n",
       "    </tr>\n",
       "    <tr>\n",
       "      <th>birch</th>\n",
       "      <td>Birch Clustering</td>\n",
       "      <td>sklearn.cluster.Birch</td>\n",
       "    </tr>\n",
       "    <tr>\n",
       "      <th>kmodes</th>\n",
       "      <td>K-Modes Clustering</td>\n",
       "      <td>git/nicodv/kmodes</td>\n",
       "    </tr>\n",
       "  </tbody>\n",
       "</table>\n",
       "</div>"
      ],
      "text/plain": [
       "                                       Name  \\\n",
       "ID                                            \n",
       "kmeans                   K-Means Clustering   \n",
       "ap                     Affinity Propagation   \n",
       "meanshift             Mean shift Clustering   \n",
       "sc                      Spectral Clustering   \n",
       "hclust             Agglomerative Clustering   \n",
       "dbscan     Density-Based Spatial Clustering   \n",
       "optics                    OPTICS Clustering   \n",
       "birch                      Birch Clustering   \n",
       "kmodes                   K-Modes Clustering   \n",
       "\n",
       "                                         Reference  \n",
       "ID                                                  \n",
       "kmeans                      sklearn.cluster.KMeans  \n",
       "ap             sklearn.cluster.AffinityPropagation  \n",
       "meanshift                sklearn.cluster.MeanShift  \n",
       "sc              sklearn.cluster.SpectralClustering  \n",
       "hclust     sklearn.cluster.AgglomerativeClustering  \n",
       "dbscan                      sklearn.cluster.DBSCAN  \n",
       "optics                      sklearn.cluster.OPTICS  \n",
       "birch                        sklearn.cluster.Birch  \n",
       "kmodes                           git/nicodv/kmodes  "
      ]
     },
     "execution_count": 4,
     "metadata": {},
     "output_type": "execute_result"
    }
   ],
   "source": [
    "models()"
   ]
  },
  {
   "cell_type": "code",
   "execution_count": 5,
   "metadata": {},
   "outputs": [
    {
     "data": {
      "text/html": [
       "<div>\n",
       "<style scoped>\n",
       "    .dataframe tbody tr th:only-of-type {\n",
       "        vertical-align: middle;\n",
       "    }\n",
       "\n",
       "    .dataframe tbody tr th {\n",
       "        vertical-align: top;\n",
       "    }\n",
       "\n",
       "    .dataframe thead th {\n",
       "        text-align: right;\n",
       "    }\n",
       "</style>\n",
       "<table border=\"1\" class=\"dataframe\">\n",
       "  <thead>\n",
       "    <tr style=\"text-align: right;\">\n",
       "      <th></th>\n",
       "      <th>Metric</th>\n",
       "    </tr>\n",
       "  </thead>\n",
       "  <tbody>\n",
       "    <tr>\n",
       "      <th>Silhouette</th>\n",
       "      <td>0.4335</td>\n",
       "    </tr>\n",
       "    <tr>\n",
       "      <th>Calinski-Harabasz</th>\n",
       "      <td>322.9575</td>\n",
       "    </tr>\n",
       "    <tr>\n",
       "      <th>Davies-Bouldin</th>\n",
       "      <td>0.7471</td>\n",
       "    </tr>\n",
       "  </tbody>\n",
       "</table>\n",
       "</div>"
      ],
      "text/plain": [
       "                     Metric\n",
       "Silhouette           0.4335\n",
       "Calinski-Harabasz  322.9575\n",
       "Davies-Bouldin       0.7471"
      ]
     },
     "metadata": {},
     "output_type": "display_data"
    },
    {
     "data": {
      "text/plain": [
       "<Figure size 576x396 with 0 Axes>"
      ]
     },
     "metadata": {},
     "output_type": "display_data"
    }
   ],
   "source": [
    "kmeans = create_model('kmeans', num_clusters = 4)"
   ]
  },
  {
   "cell_type": "code",
   "execution_count": 6,
   "metadata": {},
   "outputs": [
    {
     "data": {
      "text/html": [
       "<div>\n",
       "<style scoped>\n",
       "    .dataframe tbody tr th:only-of-type {\n",
       "        vertical-align: middle;\n",
       "    }\n",
       "\n",
       "    .dataframe tbody tr th {\n",
       "        vertical-align: top;\n",
       "    }\n",
       "\n",
       "    .dataframe thead th {\n",
       "        text-align: right;\n",
       "    }\n",
       "</style>\n",
       "<table border=\"1\" class=\"dataframe\">\n",
       "  <thead>\n",
       "    <tr style=\"text-align: right;\">\n",
       "      <th></th>\n",
       "      <th>Metric</th>\n",
       "    </tr>\n",
       "  </thead>\n",
       "  <tbody>\n",
       "    <tr>\n",
       "      <th>Silhouette</th>\n",
       "      <td>-0.3632</td>\n",
       "    </tr>\n",
       "    <tr>\n",
       "      <th>Calinski-Harabasz</th>\n",
       "      <td>1.2468</td>\n",
       "    </tr>\n",
       "    <tr>\n",
       "      <th>Davies-Bouldin</th>\n",
       "      <td>1.2297</td>\n",
       "    </tr>\n",
       "  </tbody>\n",
       "</table>\n",
       "</div>"
      ],
      "text/plain": [
       "                   Metric\n",
       "Silhouette        -0.3632\n",
       "Calinski-Harabasz  1.2468\n",
       "Davies-Bouldin     1.2297"
      ]
     },
     "metadata": {},
     "output_type": "display_data"
    },
    {
     "data": {
      "text/plain": [
       "<Figure size 576x396 with 0 Axes>"
      ]
     },
     "metadata": {},
     "output_type": "display_data"
    }
   ],
   "source": [
    "kmodes = create_model('kmodes', num_clusters = 4)"
   ]
  },
  {
   "cell_type": "markdown",
   "metadata": {},
   "source": [
    "# 4. Assign Labels"
   ]
  },
  {
   "cell_type": "code",
   "execution_count": 7,
   "metadata": {},
   "outputs": [
    {
     "data": {
      "text/html": [
       "<div>\n",
       "<style scoped>\n",
       "    .dataframe tbody tr th:only-of-type {\n",
       "        vertical-align: middle;\n",
       "    }\n",
       "\n",
       "    .dataframe tbody tr th {\n",
       "        vertical-align: top;\n",
       "    }\n",
       "\n",
       "    .dataframe thead th {\n",
       "        text-align: right;\n",
       "    }\n",
       "</style>\n",
       "<table border=\"1\" class=\"dataframe\">\n",
       "  <thead>\n",
       "    <tr style=\"text-align: right;\">\n",
       "      <th></th>\n",
       "      <th>Country Name</th>\n",
       "      <th>1995</th>\n",
       "      <th>1996</th>\n",
       "      <th>1997</th>\n",
       "      <th>1998</th>\n",
       "      <th>1999</th>\n",
       "      <th>2000</th>\n",
       "      <th>2001</th>\n",
       "      <th>2002</th>\n",
       "      <th>2003</th>\n",
       "      <th>...</th>\n",
       "      <th>2006</th>\n",
       "      <th>2007</th>\n",
       "      <th>2008</th>\n",
       "      <th>2009</th>\n",
       "      <th>2010</th>\n",
       "      <th>2011</th>\n",
       "      <th>2012</th>\n",
       "      <th>2013</th>\n",
       "      <th>2014</th>\n",
       "      <th>Cluster</th>\n",
       "    </tr>\n",
       "  </thead>\n",
       "  <tbody>\n",
       "    <tr>\n",
       "      <th>0</th>\n",
       "      <td>Arab World</td>\n",
       "      <td>2.004868</td>\n",
       "      <td>2.014602</td>\n",
       "      <td>2.071309</td>\n",
       "      <td>2.177712</td>\n",
       "      <td>2.331000</td>\n",
       "      <td>2.333596</td>\n",
       "      <td>2.588751</td>\n",
       "      <td>2.540238</td>\n",
       "      <td>2.450415</td>\n",
       "      <td>...</td>\n",
       "      <td>2.133038</td>\n",
       "      <td>2.166872</td>\n",
       "      <td>2.101233</td>\n",
       "      <td>2.830067</td>\n",
       "      <td>2.489631</td>\n",
       "      <td>2.539570</td>\n",
       "      <td>2.711262</td>\n",
       "      <td>2.895427</td>\n",
       "      <td>3.073161</td>\n",
       "      <td>Cluster 2</td>\n",
       "    </tr>\n",
       "    <tr>\n",
       "      <th>1</th>\n",
       "      <td>Caribbean small states</td>\n",
       "      <td>2.801518</td>\n",
       "      <td>2.856684</td>\n",
       "      <td>2.997157</td>\n",
       "      <td>2.989451</td>\n",
       "      <td>2.767858</td>\n",
       "      <td>2.826752</td>\n",
       "      <td>2.679969</td>\n",
       "      <td>2.888693</td>\n",
       "      <td>2.740593</td>\n",
       "      <td>...</td>\n",
       "      <td>2.650900</td>\n",
       "      <td>2.790665</td>\n",
       "      <td>2.822913</td>\n",
       "      <td>3.408651</td>\n",
       "      <td>3.264064</td>\n",
       "      <td>3.087653</td>\n",
       "      <td>3.314303</td>\n",
       "      <td>3.318432</td>\n",
       "      <td>3.260012</td>\n",
       "      <td>Cluster 2</td>\n",
       "    </tr>\n",
       "    <tr>\n",
       "      <th>2</th>\n",
       "      <td>Central Europe and the Baltics</td>\n",
       "      <td>4.678528</td>\n",
       "      <td>4.753209</td>\n",
       "      <td>4.604574</td>\n",
       "      <td>4.499988</td>\n",
       "      <td>4.679082</td>\n",
       "      <td>4.539711</td>\n",
       "      <td>4.666272</td>\n",
       "      <td>4.900196</td>\n",
       "      <td>5.100249</td>\n",
       "      <td>...</td>\n",
       "      <td>4.841450</td>\n",
       "      <td>4.809057</td>\n",
       "      <td>5.054785</td>\n",
       "      <td>5.394921</td>\n",
       "      <td>5.284380</td>\n",
       "      <td>5.096212</td>\n",
       "      <td>5.041317</td>\n",
       "      <td>5.029266</td>\n",
       "      <td>5.017717</td>\n",
       "      <td>Cluster 0</td>\n",
       "    </tr>\n",
       "    <tr>\n",
       "      <th>3</th>\n",
       "      <td>Early-demographic dividend</td>\n",
       "      <td>2.203164</td>\n",
       "      <td>2.156632</td>\n",
       "      <td>2.227311</td>\n",
       "      <td>2.364100</td>\n",
       "      <td>2.454394</td>\n",
       "      <td>2.450555</td>\n",
       "      <td>2.527081</td>\n",
       "      <td>2.347702</td>\n",
       "      <td>2.363263</td>\n",
       "      <td>...</td>\n",
       "      <td>2.369884</td>\n",
       "      <td>2.385251</td>\n",
       "      <td>2.405126</td>\n",
       "      <td>2.701260</td>\n",
       "      <td>2.507131</td>\n",
       "      <td>2.495491</td>\n",
       "      <td>2.497340</td>\n",
       "      <td>2.586701</td>\n",
       "      <td>2.665603</td>\n",
       "      <td>Cluster 2</td>\n",
       "    </tr>\n",
       "    <tr>\n",
       "      <th>4</th>\n",
       "      <td>East Asia &amp; Pacific</td>\n",
       "      <td>4.429090</td>\n",
       "      <td>4.203152</td>\n",
       "      <td>4.244351</td>\n",
       "      <td>4.453984</td>\n",
       "      <td>4.626920</td>\n",
       "      <td>4.688849</td>\n",
       "      <td>4.684790</td>\n",
       "      <td>4.613537</td>\n",
       "      <td>4.635098</td>\n",
       "      <td>...</td>\n",
       "      <td>4.367146</td>\n",
       "      <td>4.297394</td>\n",
       "      <td>4.434848</td>\n",
       "      <td>4.865241</td>\n",
       "      <td>4.775817</td>\n",
       "      <td>4.871727</td>\n",
       "      <td>4.866869</td>\n",
       "      <td>4.643221</td>\n",
       "      <td>4.571448</td>\n",
       "      <td>Cluster 0</td>\n",
       "    </tr>\n",
       "  </tbody>\n",
       "</table>\n",
       "<p>5 rows × 22 columns</p>\n",
       "</div>"
      ],
      "text/plain": [
       "                     Country Name      1995      1996      1997      1998  \\\n",
       "0                      Arab World  2.004868  2.014602  2.071309  2.177712   \n",
       "1          Caribbean small states  2.801518  2.856684  2.997157  2.989451   \n",
       "2  Central Europe and the Baltics  4.678528  4.753209  4.604574  4.499988   \n",
       "3      Early-demographic dividend  2.203164  2.156632  2.227311  2.364100   \n",
       "4             East Asia & Pacific  4.429090  4.203152  4.244351  4.453984   \n",
       "\n",
       "       1999      2000      2001      2002      2003  ...      2006      2007  \\\n",
       "0  2.331000  2.333596  2.588751  2.540238  2.450415  ...  2.133038  2.166872   \n",
       "1  2.767858  2.826752  2.679969  2.888693  2.740593  ...  2.650900  2.790665   \n",
       "2  4.679082  4.539711  4.666272  4.900196  5.100249  ...  4.841450  4.809057   \n",
       "3  2.454394  2.450555  2.527081  2.347702  2.363263  ...  2.369884  2.385251   \n",
       "4  4.626920  4.688849  4.684790  4.613537  4.635098  ...  4.367146  4.297394   \n",
       "\n",
       "       2008      2009      2010      2011      2012      2013      2014  \\\n",
       "0  2.101233  2.830067  2.489631  2.539570  2.711262  2.895427  3.073161   \n",
       "1  2.822913  3.408651  3.264064  3.087653  3.314303  3.318432  3.260012   \n",
       "2  5.054785  5.394921  5.284380  5.096212  5.041317  5.029266  5.017717   \n",
       "3  2.405126  2.701260  2.507131  2.495491  2.497340  2.586701  2.665603   \n",
       "4  4.434848  4.865241  4.775817  4.871727  4.866869  4.643221  4.571448   \n",
       "\n",
       "     Cluster  \n",
       "0  Cluster 2  \n",
       "1  Cluster 2  \n",
       "2  Cluster 0  \n",
       "3  Cluster 2  \n",
       "4  Cluster 0  \n",
       "\n",
       "[5 rows x 22 columns]"
      ]
     },
     "execution_count": 7,
     "metadata": {},
     "output_type": "execute_result"
    }
   ],
   "source": [
    "kmeans_results = assign_model(kmeans)\n",
    "kmeans_results.head()"
   ]
  },
  {
   "cell_type": "markdown",
   "metadata": {},
   "source": [
    "# 5. Analyze Model"
   ]
  },
  {
   "cell_type": "code",
   "execution_count": 8,
   "metadata": {},
   "outputs": [
    {
     "data": {
      "text/html": [
       "        <script type=\"text/javascript\">\n",
       "        window.PlotlyConfig = {MathJaxConfig: 'local'};\n",
       "        if (window.MathJax) {MathJax.Hub.Config({SVG: {font: \"STIX-Web\"}});}\n",
       "        if (typeof require !== 'undefined') {\n",
       "        require.undef(\"plotly\");\n",
       "        requirejs.config({\n",
       "            paths: {\n",
       "                'plotly': ['https://cdn.plot.ly/plotly-latest.min']\n",
       "            }\n",
       "        });\n",
       "        require(['plotly'], function(Plotly) {\n",
       "            window._Plotly = Plotly;\n",
       "        });\n",
       "        }\n",
       "        </script>\n",
       "        "
      ]
     },
     "metadata": {},
     "output_type": "display_data"
    },
    {
     "data": {
      "application/vnd.plotly.v1+json": {
       "config": {
        "plotlyServerURL": "https://plot.ly"
       },
       "data": [
        {
         "customdata": [
          [
           "Honduras"
          ],
          [
           "Dominica"
          ],
          [
           "Djibouti"
          ],
          [
           "Samoa"
          ],
          [
           "San Marino"
          ],
          [
           "Sao Tome and Principe"
          ],
          [
           "Colombia"
          ],
          [
           "Chile"
          ],
          [
           "Cabo Verde"
          ],
          [
           "Solomon Islands"
          ],
          [
           "Bulgaria"
          ],
          [
           "South Africa"
          ],
          [
           "Brazil"
          ],
          [
           "Botswana"
          ],
          [
           "Bolivia"
          ],
          [
           "Bhutan"
          ],
          [
           "Belarus"
          ],
          [
           "Barbados"
          ],
          [
           "St. Lucia"
          ],
          [
           "St. Vincent and the Grenadines"
          ],
          [
           "Russian Federation"
          ],
          [
           "Suriname"
          ],
          [
           "Romania"
          ],
          [
           "Estonia"
          ],
          [
           "Moldova"
          ],
          [
           "Malawi"
          ],
          [
           "Monaco"
          ],
          [
           "Macedonia, FYR"
          ],
          [
           "Lithuania"
          ],
          [
           "Lebanon"
          ],
          [
           "Latvia"
          ],
          [
           "Montenegro"
          ],
          [
           "Mozambique"
          ],
          [
           "Namibia"
          ],
          [
           "Jordan"
          ],
          [
           "Israel"
          ],
          [
           "Nicaragua"
          ],
          [
           "Hungary"
          ],
          [
           "Guyana"
          ],
          [
           "Grenada"
          ],
          [
           "Panama"
          ],
          [
           "Papua New Guinea"
          ],
          [
           "Poland"
          ],
          [
           "El Salvador"
          ],
          [
           "Argentina"
          ],
          [
           "Seychelles"
          ],
          [
           "Swaziland"
          ],
          [
           "Small states"
          ],
          [
           "Tonga"
          ],
          [
           "Vanuatu"
          ],
          [
           "Pacific island small states"
          ],
          [
           "Other small states"
          ],
          [
           "Tunisia"
          ],
          [
           "East Asia & Pacific"
          ],
          [
           "Turkey"
          ],
          [
           "Ukraine"
          ],
          [
           "Antigua and Barbuda"
          ],
          [
           "Europe & Central Asia (IDA & IBRD countries)"
          ],
          [
           "Latin America & the Caribbean (IDA & IBRD countries)"
          ],
          [
           "Latin America & Caribbean (excluding high income)"
          ],
          [
           "Latin America & Caribbean"
          ],
          [
           "Europe & Central Asia (excluding high income)"
          ],
          [
           "Thailand"
          ],
          [
           "Uruguay"
          ],
          [
           "Central Europe and the Baltics"
          ],
          [
           "Algeria"
          ],
          [
           "Andorra"
          ]
         ],
         "hoverlabel": {
          "namelength": 0
         },
         "hovertemplate": "Cluster=Cluster 0<br>PCA1=%{x}<br>PCA2=%{y}<br>Feature=%{customdata[0]}",
         "legendgroup": "Cluster=Cluster 0",
         "marker": {
          "color": "#636efa",
          "opacity": 0.5,
          "symbol": "circle"
         },
         "mode": "markers",
         "name": "Cluster=Cluster 0",
         "showlegend": true,
         "textposition": "top center",
         "type": "scatter",
         "x": [
          0.0523809767042203,
          -0.6963165842730611,
          3.4963629024504157,
          2.239179963842626,
          2.996541555817924,
          -1.982879767134111,
          5.269249366144288,
          -2.982481930004971,
          -0.5993207982455239,
          6.323109784117417,
          0.9043237858037494,
          -0.41674848743597237,
          -1.8325711391061783,
          -1.686965814851076,
          -0.8536612634039066,
          2.8846255739114053,
          3.0973104640228657,
          0.5412716246977549,
          -1.7848088812854825,
          -0.5138111571569077,
          -0.36390899901084006,
          0.040582767506344375,
          0.7748426086098928,
          3.7119153029666663,
          4.882710147013893,
          3.4211056709118535,
          -2.011887424842368,
          4.811797590024579,
          3.3977115784363083,
          -1.0594868777708515,
          -0.15053431117056518,
          5.521664440212993,
          -1.5422464279154837,
          2.475123168426273,
          6.3793604633161785,
          4.232365223943223,
          -0.4234591695205206,
          6.877428452111309,
          2.7628508172347273,
          -2.710078590714615,
          6.182900164693898,
          1.7357732814693132,
          2.8915650781047106,
          0.4067357117267071,
          1.6549886134245433,
          -0.6367154259911892,
          3.477841724858415,
          -2.8033488749931306,
          0.688224693343187,
          -2.679774235079104,
          2.521124354529939,
          -2.678082879662622,
          -2.260400608016421,
          3.7321855099220653,
          -0.4374089529823035,
          0.6817178664409335,
          -2.7904247938703306,
          0.18827377624908267,
          -2.334515940063102,
          -2.0788610562518857,
          -2.0866140147954266,
          -0.5707423499700737,
          -0.13082493573547338,
          3.753184859247307,
          5.19653204627169,
          -2.5644440390142282,
          4.883437593508746
         ],
         "xaxis": "x",
         "y": [
          -1.0061914536857364,
          1.5305671961061875,
          -3.0016842207799743,
          -1.6875356484840207,
          -0.2740310411662722,
          1.7913403986410694,
          1.3359849927496932,
          0.16091627846989195,
          2.2543298469994255,
          -1.5474141205241485,
          0.5730460663408711,
          0.11355576223380467,
          -0.4294276179163997,
          -0.45382741503654317,
          -0.5170665696550727,
          3.8566195969433834,
          3.1486955568002464,
          -0.5683861330013134,
          0.03129894274702836,
          -0.06757513689428422,
          1.657514000735274,
          4.7341680137885565,
          -1.2385442803297109,
          1.264358496837327,
          0.25926155597166634,
          -6.448804007521148,
          -0.4154591228405269,
          3.387338823334593,
          0.9531860986338618,
          2.9931221367653293,
          0.8003393682777394,
          4.121262186928553,
          1.9141130390493308,
          0.5760168892285199,
          0.7145199934098242,
          1.70042370692386,
          -1.0957750164154723,
          2.506866811798524,
          2.1863935441044426,
          1.9233874084159046,
          0.6587191354538705,
          1.377242221635593,
          0.24184140169870277,
          -0.5631591457580744,
          3.973969905401959,
          3.142590570320148,
          -5.131259458682053,
          1.503215156474529,
          0.23043470667369545,
          -0.9892378763665283,
          0.519385857240113,
          1.7809406740110842,
          -0.8410240643570489,
          0.9928267617964195,
          -1.8311715877970052,
          1.1596543184112722,
          -0.6084592632583561,
          0.7463734591250084,
          0.13891010566730913,
          0.12929841063543973,
          0.09429419110350006,
          0.6820820860708171,
          -3.706588405460558,
          -4.1531049826228665,
          0.7126585487039374,
          -2.1296685616125792,
          -2.433941599042843
         ],
         "yaxis": "y"
        },
        {
         "customdata": [
          [
           "Micronesia, Fed. Sts."
          ],
          [
           "Kiribati"
          ],
          [
           "Finland"
          ],
          [
           "France"
          ],
          [
           "United Kingdom"
          ],
          [
           "Germany"
          ],
          [
           "Malta"
          ],
          [
           "Greece"
          ],
          [
           "Portugal"
          ],
          [
           "Austria"
          ],
          [
           "European Union"
          ],
          [
           "Japan"
          ],
          [
           "Australia"
          ],
          [
           "Norway"
          ],
          [
           "Netherlands"
          ],
          [
           "United States"
          ],
          [
           "Iceland"
          ],
          [
           "Italy"
          ],
          [
           "High income"
          ],
          [
           "New Zealand"
          ],
          [
           "Palau"
          ],
          [
           "World"
          ],
          [
           "Sweden"
          ],
          [
           "Cuba"
          ],
          [
           "Switzerland"
          ],
          [
           "Slovak Republic"
          ],
          [
           "Post-demographic dividend"
          ],
          [
           "Serbia"
          ],
          [
           "Spain"
          ],
          [
           "Lesotho"
          ],
          [
           "Europe & Central Asia"
          ],
          [
           "Maldives"
          ],
          [
           "Costa Rica"
          ],
          [
           "Canada"
          ],
          [
           "OECD members"
          ],
          [
           "Croatia"
          ],
          [
           "Ireland"
          ],
          [
           "North America"
          ],
          [
           "Czech Republic"
          ],
          [
           "Denmark"
          ],
          [
           "Euro area"
          ],
          [
           "Belgium"
          ],
          [
           "Slovenia"
          ],
          [
           "Bosnia and Herzegovina"
          ],
          [
           "Luxembourg"
          ]
         ],
         "hoverlabel": {
          "namelength": 0
         },
         "hovertemplate": "Cluster=Cluster 1<br>PCA1=%{x}<br>PCA2=%{y}<br>Feature=%{customdata[0]}",
         "legendgroup": "Cluster=Cluster 1",
         "marker": {
          "color": "#EF553B",
          "opacity": 0.5,
          "symbol": "circle"
         },
         "mode": "markers",
         "name": "Cluster=Cluster 1",
         "showlegend": true,
         "textposition": "top center",
         "type": "scatter",
         "x": [
          28.0262695538832,
          23.420927418009597,
          10.726724560722625,
          20.274410375468314,
          12.929593082081045,
          19.694842954903077,
          7.314091778152733,
          7.186477299903722,
          11.14119297927542,
          18.367344502907944,
          14.943239114650703,
          13.813253198680279,
          8.675223471375858,
          16.671662050148086,
          14.383614043780405,
          14.058971232804135,
          15.946916758968193,
          11.481683009232073,
          13.138218186033123,
          15.482183362753911,
          13.858864478915562,
          8.629457309687261,
          18.38721009205912,
          16.80945641164693,
          11.69398831763859,
          7.34823407837088,
          13.808128624207797,
          7.64716251857974,
          10.043412321500618,
          7.060532218142876,
          13.234086657329984,
          7.472880926088071,
          10.217763125731786,
          13.95454071375664,
          13.114383027129241,
          10.475304935117329,
          7.171364571949278,
          14.032324057252538,
          10.210283019050978,
          20.07095230754882,
          15.823770054445614,
          14.600979477284383,
          11.318080992622432,
          7.014345778510733,
          10.746653539988584
         ],
         "xaxis": "x",
         "y": [
          -6.041878648963877,
          1.823268170516312,
          -1.030749695397637,
          0.5893161257926888,
          -2.2661386247236397,
          1.2426452203194973,
          -1.6944069348771362,
          -1.361353560999246,
          -0.3178429143929311,
          0.21312339635189195,
          -0.41168663466966343,
          -2.6865792296916515,
          -0.3696795752168184,
          0.444650157035873,
          -6.075816075638619,
          -2.128293361440676,
          2.1692216402280793,
          -1.2206793438921009,
          -1.1393786999588782,
          -4.743207341003983,
          3.4424525494613616,
          0.39461364528283294,
          -2.2006955984502494,
          -6.478083184227868,
          -1.83393087984684,
          0.6291036683252442,
          -1.4098865373330882,
          -1.462348094961733,
          -0.9687378170947273,
          -6.859660089106432,
          0.26416370258018984,
          -4.919417342361275,
          -1.1138186475250478,
          -0.6679680569801177,
          -1.2698155947760223,
          0.35135324468989126,
          -0.25585213517749955,
          -2.0055644357724742,
          0.9972888247732347,
          -2.057592902176683,
          -0.144709221609351,
          -1.8679602899905683,
          0.4399174439131799,
          -3.5188569549087685,
          0.6763558407018944
         ],
         "yaxis": "y"
        },
        {
         "customdata": [
          [
           "Vietnam"
          ],
          [
           "Morocco"
          ],
          [
           "Nepal"
          ],
          [
           "Myanmar"
          ],
          [
           "Venezuela, RB"
          ],
          [
           "Mongolia"
          ],
          [
           "Uzbekistan"
          ],
          [
           "United Arab Emirates"
          ],
          [
           "Nigeria"
          ],
          [
           "Sudan"
          ],
          [
           "St. Kitts and Nevis"
          ],
          [
           "Sri Lanka"
          ],
          [
           "Syrian Arab Republic"
          ],
          [
           "Tajikistan"
          ],
          [
           "Tanzania"
          ],
          [
           "Togo"
          ],
          [
           "Singapore"
          ],
          [
           "Sierra Leone"
          ],
          [
           "Mexico"
          ],
          [
           "Niger"
          ],
          [
           "Senegal"
          ],
          [
           "Trinidad and Tobago"
          ],
          [
           "Rwanda"
          ],
          [
           "Turkmenistan"
          ],
          [
           "Uganda"
          ],
          [
           "Qatar"
          ],
          [
           "Philippines"
          ],
          [
           "Peru"
          ],
          [
           "Paraguay"
          ],
          [
           "Pakistan"
          ],
          [
           "Oman"
          ],
          [
           "Saudi Arabia"
          ],
          [
           "Mauritius"
          ],
          [
           "Arab World"
          ],
          [
           "Chad"
          ],
          [
           "Upper middle income"
          ],
          [
           "Albania"
          ],
          [
           "Angola"
          ],
          [
           "Armenia"
          ],
          [
           "Azerbaijan"
          ],
          [
           "Bahamas, The"
          ],
          [
           "Bahrain"
          ],
          [
           "Bangladesh"
          ],
          [
           "Belize"
          ],
          [
           "Benin"
          ],
          [
           "Brunei Darussalam"
          ],
          [
           "Burkina Faso"
          ],
          [
           "Burundi"
          ],
          [
           "Cambodia"
          ],
          [
           "Cameroon"
          ],
          [
           "Sub-Saharan Africa (IDA & IBRD countries)"
          ],
          [
           "Sub-Saharan Africa (excluding high income)"
          ],
          [
           "Sub-Saharan Africa"
          ],
          [
           "South Asia (IDA & IBRD)"
          ],
          [
           "Caribbean small states"
          ],
          [
           "Early-demographic dividend"
          ],
          [
           "East Asia & Pacific (excluding high income)"
          ],
          [
           "East Asia & Pacific (IDA & IBRD countries)"
          ],
          [
           "Heavily indebted poor countries (HIPC)"
          ],
          [
           "Late-demographic dividend"
          ],
          [
           "Least developed countries: UN classification"
          ],
          [
           "Central African Republic"
          ],
          [
           "Low & middle income"
          ],
          [
           "Lower middle income"
          ],
          [
           "Middle East & North Africa"
          ],
          [
           "Middle East & North Africa (excluding high income)"
          ],
          [
           "Middle East & North Africa (IDA & IBRD countries)"
          ],
          [
           "Middle income"
          ],
          [
           "Pre-demographic dividend"
          ],
          [
           "South Asia"
          ],
          [
           "Low income"
          ],
          [
           "Mauritania"
          ],
          [
           "Zambia"
          ],
          [
           "Comoros"
          ],
          [
           "Yemen, Rep."
          ],
          [
           "India"
          ],
          [
           "Indonesia"
          ],
          [
           "Iran, Islamic Rep."
          ],
          [
           "Jamaica"
          ],
          [
           "Kazakhstan"
          ],
          [
           "Kenya"
          ],
          [
           "Korea, Rep."
          ],
          [
           "Kuwait"
          ],
          [
           "Kyrgyz Republic"
          ],
          [
           "Lao PDR"
          ],
          [
           "Libya"
          ],
          [
           "Madagascar"
          ],
          [
           "Malaysia"
          ],
          [
           "Mali"
          ],
          [
           "China"
          ],
          [
           "Guinea-Bissau"
          ],
          [
           "Haiti"
          ],
          [
           "Guatemala"
          ],
          [
           "Congo, Dem. Rep."
          ],
          [
           "Congo, Rep."
          ],
          [
           "Cote d'Ivoire"
          ],
          [
           "Cyprus"
          ],
          [
           "Dominican Republic"
          ],
          [
           "Ecuador"
          ],
          [
           "Egypt, Arab Rep."
          ],
          [
           "Equatorial Guinea"
          ],
          [
           "Eritrea"
          ],
          [
           "Ethiopia"
          ],
          [
           "Fiji"
          ],
          [
           "Gabon"
          ],
          [
           "Gambia, The"
          ],
          [
           "Georgia"
          ],
          [
           "Ghana"
          ],
          [
           "Guinea"
          ]
         ],
         "hoverlabel": {
          "namelength": 0
         },
         "hovertemplate": "Cluster=Cluster 2<br>PCA1=%{x}<br>PCA2=%{y}<br>Feature=%{customdata[0]}",
         "legendgroup": "Cluster=Cluster 2",
         "marker": {
          "color": "#00cc96",
          "opacity": 0.5,
          "symbol": "circle"
         },
         "mode": "markers",
         "name": "Cluster=Cluster 2",
         "showlegend": true,
         "textposition": "top center",
         "type": "scatter",
         "x": [
          -6.838127133689372,
          -9.484297119000681,
          -7.481534537789983,
          -15.11526667768679,
          -8.0099704622005,
          -3.709945822543768,
          -4.343995899371722,
          -7.527412152427506,
          -12.093503451711781,
          -10.187893573210124,
          -5.982304037394747,
          -9.033280310482066,
          -8.34993440852866,
          -10.7401637209542,
          -6.704510490114223,
          -8.637772998311174,
          -10.783145859486595,
          -6.071121988048263,
          -4.862787780405474,
          -6.897017132517401,
          -7.128722124865843,
          -5.193398208285049,
          -4.536767858980432,
          -7.808119101950003,
          -7.410104286952265,
          -7.287596977267267,
          -10.375982305040118,
          -4.701430209018233,
          -3.3258792623976925,
          -13.274173398510674,
          -5.7830515182741244,
          -5.28060194247648,
          -7.183762362692117,
          -5.978111640505859,
          -8.739668478685987,
          -3.5565463908430774,
          -5.665968771045835,
          -6.1758384619265,
          -8.8877011054299,
          -11.990190347513366,
          -3.4727360186098393,
          -5.140448924477463,
          -12.279275148006182,
          -3.6782325952668047,
          -6.759047335826221,
          -5.553747628790428,
          -3.5927102273363105,
          -3.9114615341007193,
          -9.835625771928305,
          -11.816550848843821,
          -5.726460400774469,
          -5.733959228379499,
          -5.726460400774469,
          -11.717744407779506,
          -3.5335523602755807,
          -5.874889989411106,
          -7.338891894395104,
          -7.338891894395102,
          -6.779112802141312,
          -3.4865834565786367,
          -8.473369637629364,
          -8.328928193317836,
          -5.029770548401174,
          -10.12208829043547,
          -4.754617117667594,
          -5.6689371743232835,
          -5.6689371743232835,
          -5.002990850532889,
          -8.803685060464211,
          -11.717744407779506,
          -6.935487657597175,
          -8.209723823671501,
          -3.718335935066663,
          -7.131632386667641,
          -9.08405838904044,
          -11.64996360056128,
          -12.53819234803707,
          -6.29493372530749,
          -4.2763390860391794,
          -6.102007952138874,
          -7.505875796444623,
          -3.842269509289177,
          -5.756711635031171,
          -3.482951191502168,
          -11.157062106263886,
          -6.851591572318085,
          -6.318006421470661,
          -7.845046648174215,
          -4.999397273875959,
          -7.085967768499033,
          -10.52832969892298,
          -9.33543422069262,
          -7.2795343806145585,
          -12.749904411139479,
          -8.321722617418871,
          -9.491378675550758,
          -4.343442425602127,
          -7.780851195519921,
          -7.790551996098864,
          -7.622396289866976,
          -6.338709691007325,
          -9.859076847688465,
          -5.804870493017629,
          -4.139888379414401,
          -9.64411915861642,
          -5.068430173668127,
          -10.269095235769905,
          -5.329248830030671,
          -10.94554042621343
         ],
         "xaxis": "x",
         "y": [
          -2.1054224181312517,
          -0.6743398818959013,
          -0.837773061289016,
          -0.028339201058388965,
          0.8228560527689587,
          2.5255249894814966,
          1.289877638426681,
          -0.36883114624597113,
          0.31707827709695074,
          -1.5314700249093545,
          2.123293254630933,
          0.9368375328552409,
          1.9279965762758615,
          -0.35646060776214494,
          -1.212219561328002,
          -0.4796246484431998,
          0.3453398942374639,
          2.053568828482675,
          -0.6462077405756084,
          -0.8646847381552383,
          -0.4874435073466264,
          -0.14709501047151036,
          -0.5039192162486804,
          3.6314570197613825,
          -0.09849466670467585,
          1.7017615075616381,
          0.6894459850578996,
          0.41004174217124434,
          -1.7654684443955149,
          0.1519555139871271,
          1.8771059208222196,
          -0.005353811348649069,
          0.269614037976079,
          0.060087273871189145,
          2.0067347015121886,
          0.014294049568387578,
          -0.2991488213101728,
          1.0483999724431234,
          0.2338035573351899,
          0.6302439716252003,
          -0.4216974744697445,
          1.0191811139862552,
          0.9292942917451482,
          -1.553841067125939,
          0.2722175266084948,
          2.0371987618496568,
          -1.1581411492570501,
          -4.799628678285951,
          1.320370034410966,
          0.4203891767923587,
          0.855292406191082,
          0.8502496554360927,
          0.855292406191082,
          0.39968228249469306,
          0.4273170989236,
          0.5811594934368999,
          -0.9944962782369446,
          -0.9944962782369445,
          -0.5068844372590348,
          0.03421941894983672,
          -0.09237404974594536,
          0.5463133582843177,
          0.055592760544055694,
          0.47506045021065135,
          0.4487598516474099,
          -0.3826301018191773,
          -0.3826301018191773,
          0.06441920890858716,
          -0.17604580883604506,
          0.39968228249469306,
          -0.5257808006280743,
          2.0017941573755866,
          2.117893316914127,
          1.2418292146067682,
          1.9725459159480585,
          0.4387840994705089,
          0.15993643922619083,
          -0.4299112429353996,
          0.818304173500739,
          1.4083207333161525,
          -0.6464163056969573,
          -2.5218613664014,
          1.9781672804329198,
          -1.3346870062550664,
          1.9136966118668464,
          -0.8158920238856169,
          0.8693110544295612,
          0.02881027663560581,
          1.4976155459698757,
          -1.0585595028827899,
          1.029264975053775,
          2.009609502540951,
          -0.010123131376214865,
          -1.7875193250832506,
          -1.176103741966348,
          0.8968873316434841,
          -1.129575189688764,
          -0.7418307711572959,
          -1.9995631693860632,
          0.8432791724505591,
          -0.054473415667810145,
          1.4370530974830713,
          -1.6067288163268219,
          0.8117649007612818,
          -0.9218388760417181,
          -4.230259164337702,
          -0.2889516151239778,
          -1.758457647299846,
          -1.145121519851282
         ],
         "yaxis": "y"
        },
        {
         "customdata": [
          [
           "Nauru"
          ],
          [
           "Tuvalu"
          ],
          [
           "Marshall Islands"
          ]
         ],
         "hoverlabel": {
          "namelength": 0
         },
         "hovertemplate": "Cluster=Cluster 3<br>PCA1=%{x}<br>PCA2=%{y}<br>Feature=%{customdata[0]}",
         "legendgroup": "Cluster=Cluster 3",
         "marker": {
          "color": "#ab63fa",
          "opacity": 0.5,
          "symbol": "circle"
         },
         "mode": "markers",
         "name": "Cluster=Cluster 3",
         "showlegend": true,
         "textposition": "top center",
         "type": "scatter",
         "x": [
          32.54294615578061,
          49.13614546484315,
          55.908067724687456
         ],
         "xaxis": "x",
         "y": [
          14.525514048370503,
          -4.779342617786482,
          11.19015475718291
         ],
         "yaxis": "y"
        }
       ],
       "layout": {
        "autosize": true,
        "legend": {
         "tracegroupgap": 0
        },
        "margin": {
         "t": 60
        },
        "plot_bgcolor": "rgb(240,240,240)",
        "template": {
         "data": {
          "bar": [
           {
            "error_x": {
             "color": "#2a3f5f"
            },
            "error_y": {
             "color": "#2a3f5f"
            },
            "marker": {
             "line": {
              "color": "#E5ECF6",
              "width": 0.5
             }
            },
            "type": "bar"
           }
          ],
          "barpolar": [
           {
            "marker": {
             "line": {
              "color": "#E5ECF6",
              "width": 0.5
             }
            },
            "type": "barpolar"
           }
          ],
          "carpet": [
           {
            "aaxis": {
             "endlinecolor": "#2a3f5f",
             "gridcolor": "white",
             "linecolor": "white",
             "minorgridcolor": "white",
             "startlinecolor": "#2a3f5f"
            },
            "baxis": {
             "endlinecolor": "#2a3f5f",
             "gridcolor": "white",
             "linecolor": "white",
             "minorgridcolor": "white",
             "startlinecolor": "#2a3f5f"
            },
            "type": "carpet"
           }
          ],
          "choropleth": [
           {
            "colorbar": {
             "outlinewidth": 0,
             "ticks": ""
            },
            "type": "choropleth"
           }
          ],
          "contour": [
           {
            "colorbar": {
             "outlinewidth": 0,
             "ticks": ""
            },
            "colorscale": [
             [
              0,
              "#0d0887"
             ],
             [
              0.1111111111111111,
              "#46039f"
             ],
             [
              0.2222222222222222,
              "#7201a8"
             ],
             [
              0.3333333333333333,
              "#9c179e"
             ],
             [
              0.4444444444444444,
              "#bd3786"
             ],
             [
              0.5555555555555556,
              "#d8576b"
             ],
             [
              0.6666666666666666,
              "#ed7953"
             ],
             [
              0.7777777777777778,
              "#fb9f3a"
             ],
             [
              0.8888888888888888,
              "#fdca26"
             ],
             [
              1,
              "#f0f921"
             ]
            ],
            "type": "contour"
           }
          ],
          "contourcarpet": [
           {
            "colorbar": {
             "outlinewidth": 0,
             "ticks": ""
            },
            "type": "contourcarpet"
           }
          ],
          "heatmap": [
           {
            "colorbar": {
             "outlinewidth": 0,
             "ticks": ""
            },
            "colorscale": [
             [
              0,
              "#0d0887"
             ],
             [
              0.1111111111111111,
              "#46039f"
             ],
             [
              0.2222222222222222,
              "#7201a8"
             ],
             [
              0.3333333333333333,
              "#9c179e"
             ],
             [
              0.4444444444444444,
              "#bd3786"
             ],
             [
              0.5555555555555556,
              "#d8576b"
             ],
             [
              0.6666666666666666,
              "#ed7953"
             ],
             [
              0.7777777777777778,
              "#fb9f3a"
             ],
             [
              0.8888888888888888,
              "#fdca26"
             ],
             [
              1,
              "#f0f921"
             ]
            ],
            "type": "heatmap"
           }
          ],
          "heatmapgl": [
           {
            "colorbar": {
             "outlinewidth": 0,
             "ticks": ""
            },
            "colorscale": [
             [
              0,
              "#0d0887"
             ],
             [
              0.1111111111111111,
              "#46039f"
             ],
             [
              0.2222222222222222,
              "#7201a8"
             ],
             [
              0.3333333333333333,
              "#9c179e"
             ],
             [
              0.4444444444444444,
              "#bd3786"
             ],
             [
              0.5555555555555556,
              "#d8576b"
             ],
             [
              0.6666666666666666,
              "#ed7953"
             ],
             [
              0.7777777777777778,
              "#fb9f3a"
             ],
             [
              0.8888888888888888,
              "#fdca26"
             ],
             [
              1,
              "#f0f921"
             ]
            ],
            "type": "heatmapgl"
           }
          ],
          "histogram": [
           {
            "marker": {
             "colorbar": {
              "outlinewidth": 0,
              "ticks": ""
             }
            },
            "type": "histogram"
           }
          ],
          "histogram2d": [
           {
            "colorbar": {
             "outlinewidth": 0,
             "ticks": ""
            },
            "colorscale": [
             [
              0,
              "#0d0887"
             ],
             [
              0.1111111111111111,
              "#46039f"
             ],
             [
              0.2222222222222222,
              "#7201a8"
             ],
             [
              0.3333333333333333,
              "#9c179e"
             ],
             [
              0.4444444444444444,
              "#bd3786"
             ],
             [
              0.5555555555555556,
              "#d8576b"
             ],
             [
              0.6666666666666666,
              "#ed7953"
             ],
             [
              0.7777777777777778,
              "#fb9f3a"
             ],
             [
              0.8888888888888888,
              "#fdca26"
             ],
             [
              1,
              "#f0f921"
             ]
            ],
            "type": "histogram2d"
           }
          ],
          "histogram2dcontour": [
           {
            "colorbar": {
             "outlinewidth": 0,
             "ticks": ""
            },
            "colorscale": [
             [
              0,
              "#0d0887"
             ],
             [
              0.1111111111111111,
              "#46039f"
             ],
             [
              0.2222222222222222,
              "#7201a8"
             ],
             [
              0.3333333333333333,
              "#9c179e"
             ],
             [
              0.4444444444444444,
              "#bd3786"
             ],
             [
              0.5555555555555556,
              "#d8576b"
             ],
             [
              0.6666666666666666,
              "#ed7953"
             ],
             [
              0.7777777777777778,
              "#fb9f3a"
             ],
             [
              0.8888888888888888,
              "#fdca26"
             ],
             [
              1,
              "#f0f921"
             ]
            ],
            "type": "histogram2dcontour"
           }
          ],
          "mesh3d": [
           {
            "colorbar": {
             "outlinewidth": 0,
             "ticks": ""
            },
            "type": "mesh3d"
           }
          ],
          "parcoords": [
           {
            "line": {
             "colorbar": {
              "outlinewidth": 0,
              "ticks": ""
             }
            },
            "type": "parcoords"
           }
          ],
          "pie": [
           {
            "automargin": true,
            "type": "pie"
           }
          ],
          "scatter": [
           {
            "marker": {
             "colorbar": {
              "outlinewidth": 0,
              "ticks": ""
             }
            },
            "type": "scatter"
           }
          ],
          "scatter3d": [
           {
            "line": {
             "colorbar": {
              "outlinewidth": 0,
              "ticks": ""
             }
            },
            "marker": {
             "colorbar": {
              "outlinewidth": 0,
              "ticks": ""
             }
            },
            "type": "scatter3d"
           }
          ],
          "scattercarpet": [
           {
            "marker": {
             "colorbar": {
              "outlinewidth": 0,
              "ticks": ""
             }
            },
            "type": "scattercarpet"
           }
          ],
          "scattergeo": [
           {
            "marker": {
             "colorbar": {
              "outlinewidth": 0,
              "ticks": ""
             }
            },
            "type": "scattergeo"
           }
          ],
          "scattergl": [
           {
            "marker": {
             "colorbar": {
              "outlinewidth": 0,
              "ticks": ""
             }
            },
            "type": "scattergl"
           }
          ],
          "scattermapbox": [
           {
            "marker": {
             "colorbar": {
              "outlinewidth": 0,
              "ticks": ""
             }
            },
            "type": "scattermapbox"
           }
          ],
          "scatterpolar": [
           {
            "marker": {
             "colorbar": {
              "outlinewidth": 0,
              "ticks": ""
             }
            },
            "type": "scatterpolar"
           }
          ],
          "scatterpolargl": [
           {
            "marker": {
             "colorbar": {
              "outlinewidth": 0,
              "ticks": ""
             }
            },
            "type": "scatterpolargl"
           }
          ],
          "scatterternary": [
           {
            "marker": {
             "colorbar": {
              "outlinewidth": 0,
              "ticks": ""
             }
            },
            "type": "scatterternary"
           }
          ],
          "surface": [
           {
            "colorbar": {
             "outlinewidth": 0,
             "ticks": ""
            },
            "colorscale": [
             [
              0,
              "#0d0887"
             ],
             [
              0.1111111111111111,
              "#46039f"
             ],
             [
              0.2222222222222222,
              "#7201a8"
             ],
             [
              0.3333333333333333,
              "#9c179e"
             ],
             [
              0.4444444444444444,
              "#bd3786"
             ],
             [
              0.5555555555555556,
              "#d8576b"
             ],
             [
              0.6666666666666666,
              "#ed7953"
             ],
             [
              0.7777777777777778,
              "#fb9f3a"
             ],
             [
              0.8888888888888888,
              "#fdca26"
             ],
             [
              1,
              "#f0f921"
             ]
            ],
            "type": "surface"
           }
          ],
          "table": [
           {
            "cells": {
             "fill": {
              "color": "#EBF0F8"
             },
             "line": {
              "color": "white"
             }
            },
            "header": {
             "fill": {
              "color": "#C8D4E3"
             },
             "line": {
              "color": "white"
             }
            },
            "type": "table"
           }
          ]
         },
         "layout": {
          "annotationdefaults": {
           "arrowcolor": "#2a3f5f",
           "arrowhead": 0,
           "arrowwidth": 1
          },
          "coloraxis": {
           "colorbar": {
            "outlinewidth": 0,
            "ticks": ""
           }
          },
          "colorscale": {
           "diverging": [
            [
             0,
             "#8e0152"
            ],
            [
             0.1,
             "#c51b7d"
            ],
            [
             0.2,
             "#de77ae"
            ],
            [
             0.3,
             "#f1b6da"
            ],
            [
             0.4,
             "#fde0ef"
            ],
            [
             0.5,
             "#f7f7f7"
            ],
            [
             0.6,
             "#e6f5d0"
            ],
            [
             0.7,
             "#b8e186"
            ],
            [
             0.8,
             "#7fbc41"
            ],
            [
             0.9,
             "#4d9221"
            ],
            [
             1,
             "#276419"
            ]
           ],
           "sequential": [
            [
             0,
             "#0d0887"
            ],
            [
             0.1111111111111111,
             "#46039f"
            ],
            [
             0.2222222222222222,
             "#7201a8"
            ],
            [
             0.3333333333333333,
             "#9c179e"
            ],
            [
             0.4444444444444444,
             "#bd3786"
            ],
            [
             0.5555555555555556,
             "#d8576b"
            ],
            [
             0.6666666666666666,
             "#ed7953"
            ],
            [
             0.7777777777777778,
             "#fb9f3a"
            ],
            [
             0.8888888888888888,
             "#fdca26"
            ],
            [
             1,
             "#f0f921"
            ]
           ],
           "sequentialminus": [
            [
             0,
             "#0d0887"
            ],
            [
             0.1111111111111111,
             "#46039f"
            ],
            [
             0.2222222222222222,
             "#7201a8"
            ],
            [
             0.3333333333333333,
             "#9c179e"
            ],
            [
             0.4444444444444444,
             "#bd3786"
            ],
            [
             0.5555555555555556,
             "#d8576b"
            ],
            [
             0.6666666666666666,
             "#ed7953"
            ],
            [
             0.7777777777777778,
             "#fb9f3a"
            ],
            [
             0.8888888888888888,
             "#fdca26"
            ],
            [
             1,
             "#f0f921"
            ]
           ]
          },
          "colorway": [
           "#636efa",
           "#EF553B",
           "#00cc96",
           "#ab63fa",
           "#FFA15A",
           "#19d3f3",
           "#FF6692",
           "#B6E880",
           "#FF97FF",
           "#FECB52"
          ],
          "font": {
           "color": "#2a3f5f"
          },
          "geo": {
           "bgcolor": "white",
           "lakecolor": "white",
           "landcolor": "#E5ECF6",
           "showlakes": true,
           "showland": true,
           "subunitcolor": "white"
          },
          "hoverlabel": {
           "align": "left"
          },
          "hovermode": "closest",
          "mapbox": {
           "style": "light"
          },
          "paper_bgcolor": "white",
          "plot_bgcolor": "#E5ECF6",
          "polar": {
           "angularaxis": {
            "gridcolor": "white",
            "linecolor": "white",
            "ticks": ""
           },
           "bgcolor": "#E5ECF6",
           "radialaxis": {
            "gridcolor": "white",
            "linecolor": "white",
            "ticks": ""
           }
          },
          "scene": {
           "xaxis": {
            "backgroundcolor": "#E5ECF6",
            "gridcolor": "white",
            "gridwidth": 2,
            "linecolor": "white",
            "showbackground": true,
            "ticks": "",
            "zerolinecolor": "white"
           },
           "yaxis": {
            "backgroundcolor": "#E5ECF6",
            "gridcolor": "white",
            "gridwidth": 2,
            "linecolor": "white",
            "showbackground": true,
            "ticks": "",
            "zerolinecolor": "white"
           },
           "zaxis": {
            "backgroundcolor": "#E5ECF6",
            "gridcolor": "white",
            "gridwidth": 2,
            "linecolor": "white",
            "showbackground": true,
            "ticks": "",
            "zerolinecolor": "white"
           }
          },
          "shapedefaults": {
           "line": {
            "color": "#2a3f5f"
           }
          },
          "ternary": {
           "aaxis": {
            "gridcolor": "white",
            "linecolor": "white",
            "ticks": ""
           },
           "baxis": {
            "gridcolor": "white",
            "linecolor": "white",
            "ticks": ""
           },
           "bgcolor": "#E5ECF6",
           "caxis": {
            "gridcolor": "white",
            "linecolor": "white",
            "ticks": ""
           }
          },
          "title": {
           "x": 0.05
          },
          "xaxis": {
           "automargin": true,
           "gridcolor": "white",
           "linecolor": "white",
           "ticks": "",
           "title": {
            "standoff": 15
           },
           "zerolinecolor": "white",
           "zerolinewidth": 2
          },
          "yaxis": {
           "automargin": true,
           "gridcolor": "white",
           "linecolor": "white",
           "ticks": "",
           "title": {
            "standoff": 15
           },
           "zerolinecolor": "white",
           "zerolinewidth": 2
          }
         }
        },
        "title": {
         "text": "2D Cluster PCA Plot"
        },
        "xaxis": {
         "anchor": "y",
         "autorange": true,
         "domain": [
          0,
          1
         ],
         "range": [
          -19.67256060865129,
          60.465361655651954
         ],
         "title": {
          "text": "PCA1"
         },
         "type": "linear"
        },
        "yaxis": {
         "anchor": "x",
         "autorange": true,
         "domain": [
          0,
          1
         ],
         "range": [
          -8.26692554587767,
          15.932779505141742
         ],
         "title": {
          "text": "PCA2"
         },
         "type": "linear"
        }
       }
      },
      "image/png": "[encoded data removed]",
      "text/html": [
       "<div>\n",
       "        \n",
       "        \n",
       "            <div id=\"1fce4939-0d78-48a4-8872-f3ba3fcb68b3\" class=\"plotly-graph-div\" style=\"height:600px; width:100%;\"></div>\n",
       "            <script type=\"text/javascript\">\n",
       "                require([\"plotly\"], function(Plotly) {\n",
       "                    window.PLOTLYENV=window.PLOTLYENV || {};\n",
       "                    \n",
       "                if (document.getElementById(\"1fce4939-0d78-48a4-8872-f3ba3fcb68b3\")) {\n",
       "                    Plotly.newPlot(\n",
       "                        '1fce4939-0d78-48a4-8872-f3ba3fcb68b3',\n",
       "                        [{\"customdata\": [[\"Honduras\"], [\"Dominica\"], [\"Djibouti\"], [\"Samoa\"], [\"San Marino\"], [\"Sao Tome and Principe\"], [\"Colombia\"], [\"Chile\"], [\"Cabo Verde\"], [\"Solomon Islands\"], [\"Bulgaria\"], [\"South Africa\"], [\"Brazil\"], [\"Botswana\"], [\"Bolivia\"], [\"Bhutan\"], [\"Belarus\"], [\"Barbados\"], [\"St. Lucia\"], [\"St. Vincent and the Grenadines\"], [\"Russian Federation\"], [\"Suriname\"], [\"Romania\"], [\"Estonia\"], [\"Moldova\"], [\"Malawi\"], [\"Monaco\"], [\"Macedonia, FYR\"], [\"Lithuania\"], [\"Lebanon\"], [\"Latvia\"], [\"Montenegro\"], [\"Mozambique\"], [\"Namibia\"], [\"Jordan\"], [\"Israel\"], [\"Nicaragua\"], [\"Hungary\"], [\"Guyana\"], [\"Grenada\"], [\"Panama\"], [\"Papua New Guinea\"], [\"Poland\"], [\"El Salvador\"], [\"Argentina\"], [\"Seychelles\"], [\"Swaziland\"], [\"Small states\"], [\"Tonga\"], [\"Vanuatu\"], [\"Pacific island small states\"], [\"Other small states\"], [\"Tunisia\"], [\"East Asia & Pacific\"], [\"Turkey\"], [\"Ukraine\"], [\"Antigua and Barbuda\"], [\"Europe & Central Asia (IDA & IBRD countries)\"], [\"Latin America & the Caribbean (IDA & IBRD countries)\"], [\"Latin America & Caribbean (excluding high income)\"], [\"Latin America & Caribbean\"], [\"Europe & Central Asia (excluding high income)\"], [\"Thailand\"], [\"Uruguay\"], [\"Central Europe and the Baltics\"], [\"Algeria\"], [\"Andorra\"]], \"hoverlabel\": {\"namelength\": 0}, \"hovertemplate\": \"Cluster=Cluster 0<br>PCA1=%{x}<br>PCA2=%{y}<br>Feature=%{customdata[0]}\", \"legendgroup\": \"Cluster=Cluster 0\", \"marker\": {\"color\": \"#636efa\", \"opacity\": 0.5, \"symbol\": \"circle\"}, \"mode\": \"markers\", \"name\": \"Cluster=Cluster 0\", \"showlegend\": true, \"textposition\": \"top center\", \"type\": \"scatter\", \"x\": [0.0523809767042203, -0.6963165842730611, 3.4963629024504157, 2.239179963842626, 2.996541555817924, -1.982879767134111, 5.269249366144288, -2.982481930004971, -0.5993207982455239, 6.323109784117417, 0.9043237858037494, -0.41674848743597237, -1.8325711391061783, -1.686965814851076, -0.8536612634039066, 2.8846255739114053, 3.0973104640228657, 0.5412716246977549, -1.7848088812854825, -0.5138111571569077, -0.36390899901084006, 0.040582767506344375, 0.7748426086098928, 3.7119153029666663, 4.882710147013893, 3.4211056709118535, -2.011887424842368, 4.811797590024579, 3.3977115784363083, -1.0594868777708515, -0.15053431117056518, 5.521664440212993, -1.5422464279154837, 2.475123168426273, 6.3793604633161785, 4.232365223943223, -0.4234591695205206, 6.877428452111309, 2.7628508172347273, -2.710078590714615, 6.182900164693898, 1.7357732814693132, 2.8915650781047106, 0.4067357117267071, 1.6549886134245433, -0.6367154259911892, 3.477841724858415, -2.8033488749931306, 0.688224693343187, -2.679774235079104, 2.521124354529939, -2.678082879662622, -2.260400608016421, 3.7321855099220653, -0.4374089529823035, 0.6817178664409335, -2.7904247938703306, 0.18827377624908267, -2.334515940063102, -2.0788610562518857, -2.0866140147954266, -0.5707423499700737, -0.13082493573547338, 3.753184859247307, 5.19653204627169, -2.5644440390142282, 4.883437593508746], \"xaxis\": \"x\", \"y\": [-1.0061914536857364, 1.5305671961061875, -3.0016842207799743, -1.6875356484840207, -0.2740310411662722, 1.7913403986410694, 1.3359849927496932, 0.16091627846989195, 2.2543298469994255, -1.5474141205241485, 0.5730460663408711, 0.11355576223380467, -0.4294276179163997, -0.45382741503654317, -0.5170665696550727, 3.8566195969433834, 3.1486955568002464, -0.5683861330013134, 0.03129894274702836, -0.06757513689428422, 1.657514000735274, 4.7341680137885565, -1.2385442803297109, 1.264358496837327, 0.25926155597166634, -6.448804007521148, -0.4154591228405269, 3.387338823334593, 0.9531860986338618, 2.9931221367653293, 0.8003393682777394, 4.121262186928553, 1.9141130390493308, 0.5760168892285199, 0.7145199934098242, 1.70042370692386, -1.0957750164154723, 2.506866811798524, 2.1863935441044426, 1.9233874084159046, 0.6587191354538705, 1.377242221635593, 0.24184140169870277, -0.5631591457580744, 3.973969905401959, 3.142590570320148, -5.131259458682053, 1.503215156474529, 0.23043470667369545, -0.9892378763665283, 0.519385857240113, 1.7809406740110842, -0.8410240643570489, 0.9928267617964195, -1.8311715877970052, 1.1596543184112722, -0.6084592632583561, 0.7463734591250084, 0.13891010566730913, 0.12929841063543973, 0.09429419110350006, 0.6820820860708171, -3.706588405460558, -4.1531049826228665, 0.7126585487039374, -2.1296685616125792, -2.433941599042843], \"yaxis\": \"y\"}, {\"customdata\": [[\"Micronesia, Fed. Sts.\"], [\"Kiribati\"], [\"Finland\"], [\"France\"], [\"United Kingdom\"], [\"Germany\"], [\"Malta\"], [\"Greece\"], [\"Portugal\"], [\"Austria\"], [\"European Union\"], [\"Japan\"], [\"Australia\"], [\"Norway\"], [\"Netherlands\"], [\"United States\"], [\"Iceland\"], [\"Italy\"], [\"High income\"], [\"New Zealand\"], [\"Palau\"], [\"World\"], [\"Sweden\"], [\"Cuba\"], [\"Switzerland\"], [\"Slovak Republic\"], [\"Post-demographic dividend\"], [\"Serbia\"], [\"Spain\"], [\"Lesotho\"], [\"Europe & Central Asia\"], [\"Maldives\"], [\"Costa Rica\"], [\"Canada\"], [\"OECD members\"], [\"Croatia\"], [\"Ireland\"], [\"North America\"], [\"Czech Republic\"], [\"Denmark\"], [\"Euro area\"], [\"Belgium\"], [\"Slovenia\"], [\"Bosnia and Herzegovina\"], [\"Luxembourg\"]], \"hoverlabel\": {\"namelength\": 0}, \"hovertemplate\": \"Cluster=Cluster 1<br>PCA1=%{x}<br>PCA2=%{y}<br>Feature=%{customdata[0]}\", \"legendgroup\": \"Cluster=Cluster 1\", \"marker\": {\"color\": \"#EF553B\", \"opacity\": 0.5, \"symbol\": \"circle\"}, \"mode\": \"markers\", \"name\": \"Cluster=Cluster 1\", \"showlegend\": true, \"textposition\": \"top center\", \"type\": \"scatter\", \"x\": [28.0262695538832, 23.420927418009597, 10.726724560722625, 20.274410375468314, 12.929593082081045, 19.694842954903077, 7.314091778152733, 7.186477299903722, 11.14119297927542, 18.367344502907944, 14.943239114650703, 13.813253198680279, 8.675223471375858, 16.671662050148086, 14.383614043780405, 14.058971232804135, 15.946916758968193, 11.481683009232073, 13.138218186033123, 15.482183362753911, 13.858864478915562, 8.629457309687261, 18.38721009205912, 16.80945641164693, 11.69398831763859, 7.34823407837088, 13.808128624207797, 7.64716251857974, 10.043412321500618, 7.060532218142876, 13.234086657329984, 7.472880926088071, 10.217763125731786, 13.95454071375664, 13.114383027129241, 10.475304935117329, 7.171364571949278, 14.032324057252538, 10.210283019050978, 20.07095230754882, 15.823770054445614, 14.600979477284383, 11.318080992622432, 7.014345778510733, 10.746653539988584], \"xaxis\": \"x\", \"y\": [-6.041878648963877, 1.823268170516312, -1.030749695397637, 0.5893161257926888, -2.2661386247236397, 1.2426452203194973, -1.6944069348771362, -1.361353560999246, -0.3178429143929311, 0.21312339635189195, -0.41168663466966343, -2.6865792296916515, -0.3696795752168184, 0.444650157035873, -6.075816075638619, -2.128293361440676, 2.1692216402280793, -1.2206793438921009, -1.1393786999588782, -4.743207341003983, 3.4424525494613616, 0.39461364528283294, -2.2006955984502494, -6.478083184227868, -1.83393087984684, 0.6291036683252442, -1.4098865373330882, -1.462348094961733, -0.9687378170947273, -6.859660089106432, 0.26416370258018984, -4.919417342361275, -1.1138186475250478, -0.6679680569801177, -1.2698155947760223, 0.35135324468989126, -0.25585213517749955, -2.0055644357724742, 0.9972888247732347, -2.057592902176683, -0.144709221609351, -1.8679602899905683, 0.4399174439131799, -3.5188569549087685, 0.6763558407018944], \"yaxis\": \"y\"}, {\"customdata\": [[\"Vietnam\"], [\"Morocco\"], [\"Nepal\"], [\"Myanmar\"], [\"Venezuela, RB\"], [\"Mongolia\"], [\"Uzbekistan\"], [\"United Arab Emirates\"], [\"Nigeria\"], [\"Sudan\"], [\"St. Kitts and Nevis\"], [\"Sri Lanka\"], [\"Syrian Arab Republic\"], [\"Tajikistan\"], [\"Tanzania\"], [\"Togo\"], [\"Singapore\"], [\"Sierra Leone\"], [\"Mexico\"], [\"Niger\"], [\"Senegal\"], [\"Trinidad and Tobago\"], [\"Rwanda\"], [\"Turkmenistan\"], [\"Uganda\"], [\"Qatar\"], [\"Philippines\"], [\"Peru\"], [\"Paraguay\"], [\"Pakistan\"], [\"Oman\"], [\"Saudi Arabia\"], [\"Mauritius\"], [\"Arab World\"], [\"Chad\"], [\"Upper middle income\"], [\"Albania\"], [\"Angola\"], [\"Armenia\"], [\"Azerbaijan\"], [\"Bahamas, The\"], [\"Bahrain\"], [\"Bangladesh\"], [\"Belize\"], [\"Benin\"], [\"Brunei Darussalam\"], [\"Burkina Faso\"], [\"Burundi\"], [\"Cambodia\"], [\"Cameroon\"], [\"Sub-Saharan Africa (IDA & IBRD countries)\"], [\"Sub-Saharan Africa (excluding high income)\"], [\"Sub-Saharan Africa\"], [\"South Asia (IDA & IBRD)\"], [\"Caribbean small states\"], [\"Early-demographic dividend\"], [\"East Asia & Pacific (excluding high income)\"], [\"East Asia & Pacific (IDA & IBRD countries)\"], [\"Heavily indebted poor countries (HIPC)\"], [\"Late-demographic dividend\"], [\"Least developed countries: UN classification\"], [\"Central African Republic\"], [\"Low & middle income\"], [\"Lower middle income\"], [\"Middle East & North Africa\"], [\"Middle East & North Africa (excluding high income)\"], [\"Middle East & North Africa (IDA & IBRD countries)\"], [\"Middle income\"], [\"Pre-demographic dividend\"], [\"South Asia\"], [\"Low income\"], [\"Mauritania\"], [\"Zambia\"], [\"Comoros\"], [\"Yemen, Rep.\"], [\"India\"], [\"Indonesia\"], [\"Iran, Islamic Rep.\"], [\"Jamaica\"], [\"Kazakhstan\"], [\"Kenya\"], [\"Korea, Rep.\"], [\"Kuwait\"], [\"Kyrgyz Republic\"], [\"Lao PDR\"], [\"Libya\"], [\"Madagascar\"], [\"Malaysia\"], [\"Mali\"], [\"China\"], [\"Guinea-Bissau\"], [\"Haiti\"], [\"Guatemala\"], [\"Congo, Dem. Rep.\"], [\"Congo, Rep.\"], [\"Cote d'Ivoire\"], [\"Cyprus\"], [\"Dominican Republic\"], [\"Ecuador\"], [\"Egypt, Arab Rep.\"], [\"Equatorial Guinea\"], [\"Eritrea\"], [\"Ethiopia\"], [\"Fiji\"], [\"Gabon\"], [\"Gambia, The\"], [\"Georgia\"], [\"Ghana\"], [\"Guinea\"]], \"hoverlabel\": {\"namelength\": 0}, \"hovertemplate\": \"Cluster=Cluster 2<br>PCA1=%{x}<br>PCA2=%{y}<br>Feature=%{customdata[0]}\", \"legendgroup\": \"Cluster=Cluster 2\", \"marker\": {\"color\": \"#00cc96\", \"opacity\": 0.5, \"symbol\": \"circle\"}, \"mode\": \"markers\", \"name\": \"Cluster=Cluster 2\", \"showlegend\": true, \"textposition\": \"top center\", \"type\": \"scatter\", \"x\": [-6.838127133689372, -9.484297119000681, -7.481534537789983, -15.11526667768679, -8.0099704622005, -3.709945822543768, -4.343995899371722, -7.527412152427506, -12.093503451711781, -10.187893573210124, -5.982304037394747, -9.033280310482066, -8.34993440852866, -10.7401637209542, -6.704510490114223, -8.637772998311174, -10.783145859486595, -6.071121988048263, -4.862787780405474, -6.897017132517401, -7.128722124865843, -5.193398208285049, -4.536767858980432, -7.808119101950003, -7.410104286952265, -7.287596977267267, -10.375982305040118, -4.701430209018233, -3.3258792623976925, -13.274173398510674, -5.7830515182741244, -5.28060194247648, -7.183762362692117, -5.978111640505859, -8.739668478685987, -3.5565463908430774, -5.665968771045835, -6.1758384619265, -8.8877011054299, -11.990190347513366, -3.4727360186098393, -5.140448924477463, -12.279275148006182, -3.6782325952668047, -6.759047335826221, -5.553747628790428, -3.5927102273363105, -3.9114615341007193, -9.835625771928305, -11.816550848843821, -5.726460400774469, -5.733959228379499, -5.726460400774469, -11.717744407779506, -3.5335523602755807, -5.874889989411106, -7.338891894395104, -7.338891894395102, -6.779112802141312, -3.4865834565786367, -8.473369637629364, -8.328928193317836, -5.029770548401174, -10.12208829043547, -4.754617117667594, -5.6689371743232835, -5.6689371743232835, -5.002990850532889, -8.803685060464211, -11.717744407779506, -6.935487657597175, -8.209723823671501, -3.718335935066663, -7.131632386667641, -9.08405838904044, -11.64996360056128, -12.53819234803707, -6.29493372530749, -4.2763390860391794, -6.102007952138874, -7.505875796444623, -3.842269509289177, -5.756711635031171, -3.482951191502168, -11.157062106263886, -6.851591572318085, -6.318006421470661, -7.845046648174215, -4.999397273875959, -7.085967768499033, -10.52832969892298, -9.33543422069262, -7.2795343806145585, -12.749904411139479, -8.321722617418871, -9.491378675550758, -4.343442425602127, -7.780851195519921, -7.790551996098864, -7.622396289866976, -6.338709691007325, -9.859076847688465, -5.804870493017629, -4.139888379414401, -9.64411915861642, -5.068430173668127, -10.269095235769905, -5.329248830030671, -10.94554042621343], \"xaxis\": \"x\", \"y\": [-2.1054224181312517, -0.6743398818959013, -0.837773061289016, -0.028339201058388965, 0.8228560527689587, 2.5255249894814966, 1.289877638426681, -0.36883114624597113, 0.31707827709695074, -1.5314700249093545, 2.123293254630933, 0.9368375328552409, 1.9279965762758615, -0.35646060776214494, -1.212219561328002, -0.4796246484431998, 0.3453398942374639, 2.053568828482675, -0.6462077405756084, -0.8646847381552383, -0.4874435073466264, -0.14709501047151036, -0.5039192162486804, 3.6314570197613825, -0.09849466670467585, 1.7017615075616381, 0.6894459850578996, 0.41004174217124434, -1.7654684443955149, 0.1519555139871271, 1.8771059208222196, -0.005353811348649069, 0.269614037976079, 0.060087273871189145, 2.0067347015121886, 0.014294049568387578, -0.2991488213101728, 1.0483999724431234, 0.2338035573351899, 0.6302439716252003, -0.4216974744697445, 1.0191811139862552, 0.9292942917451482, -1.553841067125939, 0.2722175266084948, 2.0371987618496568, -1.1581411492570501, -4.799628678285951, 1.320370034410966, 0.4203891767923587, 0.855292406191082, 0.8502496554360927, 0.855292406191082, 0.39968228249469306, 0.4273170989236, 0.5811594934368999, -0.9944962782369446, -0.9944962782369445, -0.5068844372590348, 0.03421941894983672, -0.09237404974594536, 0.5463133582843177, 0.055592760544055694, 0.47506045021065135, 0.4487598516474099, -0.3826301018191773, -0.3826301018191773, 0.06441920890858716, -0.17604580883604506, 0.39968228249469306, -0.5257808006280743, 2.0017941573755866, 2.117893316914127, 1.2418292146067682, 1.9725459159480585, 0.4387840994705089, 0.15993643922619083, -0.4299112429353996, 0.818304173500739, 1.4083207333161525, -0.6464163056969573, -2.5218613664014, 1.9781672804329198, -1.3346870062550664, 1.9136966118668464, -0.8158920238856169, 0.8693110544295612, 0.02881027663560581, 1.4976155459698757, -1.0585595028827899, 1.029264975053775, 2.009609502540951, -0.010123131376214865, -1.7875193250832506, -1.176103741966348, 0.8968873316434841, -1.129575189688764, -0.7418307711572959, -1.9995631693860632, 0.8432791724505591, -0.054473415667810145, 1.4370530974830713, -1.6067288163268219, 0.8117649007612818, -0.9218388760417181, -4.230259164337702, -0.2889516151239778, -1.758457647299846, -1.145121519851282], \"yaxis\": \"y\"}, {\"customdata\": [[\"Nauru\"], [\"Tuvalu\"], [\"Marshall Islands\"]], \"hoverlabel\": {\"namelength\": 0}, \"hovertemplate\": \"Cluster=Cluster 3<br>PCA1=%{x}<br>PCA2=%{y}<br>Feature=%{customdata[0]}\", \"legendgroup\": \"Cluster=Cluster 3\", \"marker\": {\"color\": \"#ab63fa\", \"opacity\": 0.5, \"symbol\": \"circle\"}, \"mode\": \"markers\", \"name\": \"Cluster=Cluster 3\", \"showlegend\": true, \"textposition\": \"top center\", \"type\": \"scatter\", \"x\": [32.54294615578061, 49.13614546484315, 55.908067724687456], \"xaxis\": \"x\", \"y\": [14.525514048370503, -4.779342617786482, 11.19015475718291], \"yaxis\": \"y\"}],\n",
       "                        {\"height\": 600, \"legend\": {\"tracegroupgap\": 0}, \"margin\": {\"t\": 60}, \"plot_bgcolor\": \"rgb(240,240,240)\", \"template\": {\"data\": {\"bar\": [{\"error_x\": {\"color\": \"#2a3f5f\"}, \"error_y\": {\"color\": \"#2a3f5f\"}, \"marker\": {\"line\": {\"color\": \"#E5ECF6\", \"width\": 0.5}}, \"type\": \"bar\"}], \"barpolar\": [{\"marker\": {\"line\": {\"color\": \"#E5ECF6\", \"width\": 0.5}}, \"type\": \"barpolar\"}], \"carpet\": [{\"aaxis\": {\"endlinecolor\": \"#2a3f5f\", \"gridcolor\": \"white\", \"linecolor\": \"white\", \"minorgridcolor\": \"white\", \"startlinecolor\": \"#2a3f5f\"}, \"baxis\": {\"endlinecolor\": \"#2a3f5f\", \"gridcolor\": \"white\", \"linecolor\": \"white\", \"minorgridcolor\": \"white\", \"startlinecolor\": \"#2a3f5f\"}, \"type\": \"carpet\"}], \"choropleth\": [{\"colorbar\": {\"outlinewidth\": 0, \"ticks\": \"\"}, \"type\": \"choropleth\"}], \"contour\": [{\"colorbar\": {\"outlinewidth\": 0, \"ticks\": \"\"}, \"colorscale\": [[0.0, \"#0d0887\"], [0.1111111111111111, \"#46039f\"], [0.2222222222222222, \"#7201a8\"], [0.3333333333333333, \"#9c179e\"], [0.4444444444444444, \"#bd3786\"], [0.5555555555555556, \"#d8576b\"], [0.6666666666666666, \"#ed7953\"], [0.7777777777777778, \"#fb9f3a\"], [0.8888888888888888, \"#fdca26\"], [1.0, \"#f0f921\"]], \"type\": \"contour\"}], \"contourcarpet\": [{\"colorbar\": {\"outlinewidth\": 0, \"ticks\": \"\"}, \"type\": \"contourcarpet\"}], \"heatmap\": [{\"colorbar\": {\"outlinewidth\": 0, \"ticks\": \"\"}, \"colorscale\": [[0.0, \"#0d0887\"], [0.1111111111111111, \"#46039f\"], [0.2222222222222222, \"#7201a8\"], [0.3333333333333333, \"#9c179e\"], [0.4444444444444444, \"#bd3786\"], [0.5555555555555556, \"#d8576b\"], [0.6666666666666666, \"#ed7953\"], [0.7777777777777778, \"#fb9f3a\"], [0.8888888888888888, \"#fdca26\"], [1.0, \"#f0f921\"]], \"type\": \"heatmap\"}], \"heatmapgl\": [{\"colorbar\": {\"outlinewidth\": 0, \"ticks\": \"\"}, \"colorscale\": [[0.0, \"#0d0887\"], [0.1111111111111111, \"#46039f\"], [0.2222222222222222, \"#7201a8\"], [0.3333333333333333, \"#9c179e\"], [0.4444444444444444, \"#bd3786\"], [0.5555555555555556, \"#d8576b\"], [0.6666666666666666, \"#ed7953\"], [0.7777777777777778, \"#fb9f3a\"], [0.8888888888888888, \"#fdca26\"], [1.0, \"#f0f921\"]], \"type\": \"heatmapgl\"}], \"histogram\": [{\"marker\": {\"colorbar\": {\"outlinewidth\": 0, \"ticks\": \"\"}}, \"type\": \"histogram\"}], \"histogram2d\": [{\"colorbar\": {\"outlinewidth\": 0, \"ticks\": \"\"}, \"colorscale\": [[0.0, \"#0d0887\"], [0.1111111111111111, \"#46039f\"], [0.2222222222222222, \"#7201a8\"], [0.3333333333333333, \"#9c179e\"], [0.4444444444444444, \"#bd3786\"], [0.5555555555555556, \"#d8576b\"], [0.6666666666666666, \"#ed7953\"], [0.7777777777777778, \"#fb9f3a\"], [0.8888888888888888, \"#fdca26\"], [1.0, \"#f0f921\"]], \"type\": \"histogram2d\"}], \"histogram2dcontour\": [{\"colorbar\": {\"outlinewidth\": 0, \"ticks\": \"\"}, \"colorscale\": [[0.0, \"#0d0887\"], [0.1111111111111111, \"#46039f\"], [0.2222222222222222, \"#7201a8\"], [0.3333333333333333, \"#9c179e\"], [0.4444444444444444, \"#bd3786\"], [0.5555555555555556, \"#d8576b\"], [0.6666666666666666, \"#ed7953\"], [0.7777777777777778, \"#fb9f3a\"], [0.8888888888888888, \"#fdca26\"], [1.0, \"#f0f921\"]], \"type\": \"histogram2dcontour\"}], \"mesh3d\": [{\"colorbar\": {\"outlinewidth\": 0, \"ticks\": \"\"}, \"type\": \"mesh3d\"}], \"parcoords\": [{\"line\": {\"colorbar\": {\"outlinewidth\": 0, \"ticks\": \"\"}}, \"type\": \"parcoords\"}], \"pie\": [{\"automargin\": true, \"type\": \"pie\"}], \"scatter\": [{\"marker\": {\"colorbar\": {\"outlinewidth\": 0, \"ticks\": \"\"}}, \"type\": \"scatter\"}], \"scatter3d\": [{\"line\": {\"colorbar\": {\"outlinewidth\": 0, \"ticks\": \"\"}}, \"marker\": {\"colorbar\": {\"outlinewidth\": 0, \"ticks\": \"\"}}, \"type\": \"scatter3d\"}], \"scattercarpet\": [{\"marker\": {\"colorbar\": {\"outlinewidth\": 0, \"ticks\": \"\"}}, \"type\": \"scattercarpet\"}], \"scattergeo\": [{\"marker\": {\"colorbar\": {\"outlinewidth\": 0, \"ticks\": \"\"}}, \"type\": \"scattergeo\"}], \"scattergl\": [{\"marker\": {\"colorbar\": {\"outlinewidth\": 0, \"ticks\": \"\"}}, \"type\": \"scattergl\"}], \"scattermapbox\": [{\"marker\": {\"colorbar\": {\"outlinewidth\": 0, \"ticks\": \"\"}}, \"type\": \"scattermapbox\"}], \"scatterpolar\": [{\"marker\": {\"colorbar\": {\"outlinewidth\": 0, \"ticks\": \"\"}}, \"type\": \"scatterpolar\"}], \"scatterpolargl\": [{\"marker\": {\"colorbar\": {\"outlinewidth\": 0, \"ticks\": \"\"}}, \"type\": \"scatterpolargl\"}], \"scatterternary\": [{\"marker\": {\"colorbar\": {\"outlinewidth\": 0, \"ticks\": \"\"}}, \"type\": \"scatterternary\"}], \"surface\": [{\"colorbar\": {\"outlinewidth\": 0, \"ticks\": \"\"}, \"colorscale\": [[0.0, \"#0d0887\"], [0.1111111111111111, \"#46039f\"], [0.2222222222222222, \"#7201a8\"], [0.3333333333333333, \"#9c179e\"], [0.4444444444444444, \"#bd3786\"], [0.5555555555555556, \"#d8576b\"], [0.6666666666666666, \"#ed7953\"], [0.7777777777777778, \"#fb9f3a\"], [0.8888888888888888, \"#fdca26\"], [1.0, \"#f0f921\"]], \"type\": \"surface\"}], \"table\": [{\"cells\": {\"fill\": {\"color\": \"#EBF0F8\"}, \"line\": {\"color\": \"white\"}}, \"header\": {\"fill\": {\"color\": \"#C8D4E3\"}, \"line\": {\"color\": \"white\"}}, \"type\": \"table\"}]}, \"layout\": {\"annotationdefaults\": {\"arrowcolor\": \"#2a3f5f\", \"arrowhead\": 0, \"arrowwidth\": 1}, \"coloraxis\": {\"colorbar\": {\"outlinewidth\": 0, \"ticks\": \"\"}}, \"colorscale\": {\"diverging\": [[0, \"#8e0152\"], [0.1, \"#c51b7d\"], [0.2, \"#de77ae\"], [0.3, \"#f1b6da\"], [0.4, \"#fde0ef\"], [0.5, \"#f7f7f7\"], [0.6, \"#e6f5d0\"], [0.7, \"#b8e186\"], [0.8, \"#7fbc41\"], [0.9, \"#4d9221\"], [1, \"#276419\"]], \"sequential\": [[0.0, \"#0d0887\"], [0.1111111111111111, \"#46039f\"], [0.2222222222222222, \"#7201a8\"], [0.3333333333333333, \"#9c179e\"], [0.4444444444444444, \"#bd3786\"], [0.5555555555555556, \"#d8576b\"], [0.6666666666666666, \"#ed7953\"], [0.7777777777777778, \"#fb9f3a\"], [0.8888888888888888, \"#fdca26\"], [1.0, \"#f0f921\"]], \"sequentialminus\": [[0.0, \"#0d0887\"], [0.1111111111111111, \"#46039f\"], [0.2222222222222222, \"#7201a8\"], [0.3333333333333333, \"#9c179e\"], [0.4444444444444444, \"#bd3786\"], [0.5555555555555556, \"#d8576b\"], [0.6666666666666666, \"#ed7953\"], [0.7777777777777778, \"#fb9f3a\"], [0.8888888888888888, \"#fdca26\"], [1.0, \"#f0f921\"]]}, \"colorway\": [\"#636efa\", \"#EF553B\", \"#00cc96\", \"#ab63fa\", \"#FFA15A\", \"#19d3f3\", \"#FF6692\", \"#B6E880\", \"#FF97FF\", \"#FECB52\"], \"font\": {\"color\": \"#2a3f5f\"}, \"geo\": {\"bgcolor\": \"white\", \"lakecolor\": \"white\", \"landcolor\": \"#E5ECF6\", \"showlakes\": true, \"showland\": true, \"subunitcolor\": \"white\"}, \"hoverlabel\": {\"align\": \"left\"}, \"hovermode\": \"closest\", \"mapbox\": {\"style\": \"light\"}, \"paper_bgcolor\": \"white\", \"plot_bgcolor\": \"#E5ECF6\", \"polar\": {\"angularaxis\": {\"gridcolor\": \"white\", \"linecolor\": \"white\", \"ticks\": \"\"}, \"bgcolor\": \"#E5ECF6\", \"radialaxis\": {\"gridcolor\": \"white\", \"linecolor\": \"white\", \"ticks\": \"\"}}, \"scene\": {\"xaxis\": {\"backgroundcolor\": \"#E5ECF6\", \"gridcolor\": \"white\", \"gridwidth\": 2, \"linecolor\": \"white\", \"showbackground\": true, \"ticks\": \"\", \"zerolinecolor\": \"white\"}, \"yaxis\": {\"backgroundcolor\": \"#E5ECF6\", \"gridcolor\": \"white\", \"gridwidth\": 2, \"linecolor\": \"white\", \"showbackground\": true, \"ticks\": \"\", \"zerolinecolor\": \"white\"}, \"zaxis\": {\"backgroundcolor\": \"#E5ECF6\", \"gridcolor\": \"white\", \"gridwidth\": 2, \"linecolor\": \"white\", \"showbackground\": true, \"ticks\": \"\", \"zerolinecolor\": \"white\"}}, \"shapedefaults\": {\"line\": {\"color\": \"#2a3f5f\"}}, \"ternary\": {\"aaxis\": {\"gridcolor\": \"white\", \"linecolor\": \"white\", \"ticks\": \"\"}, \"baxis\": {\"gridcolor\": \"white\", \"linecolor\": \"white\", \"ticks\": \"\"}, \"bgcolor\": \"#E5ECF6\", \"caxis\": {\"gridcolor\": \"white\", \"linecolor\": \"white\", \"ticks\": \"\"}}, \"title\": {\"x\": 0.05}, \"xaxis\": {\"automargin\": true, \"gridcolor\": \"white\", \"linecolor\": \"white\", \"ticks\": \"\", \"title\": {\"standoff\": 15}, \"zerolinecolor\": \"white\", \"zerolinewidth\": 2}, \"yaxis\": {\"automargin\": true, \"gridcolor\": \"white\", \"linecolor\": \"white\", \"ticks\": \"\", \"title\": {\"standoff\": 15}, \"zerolinecolor\": \"white\", \"zerolinewidth\": 2}}}, \"title\": {\"text\": \"2D Cluster PCA Plot\"}, \"xaxis\": {\"anchor\": \"y\", \"domain\": [0.0, 1.0], \"title\": {\"text\": \"PCA1\"}}, \"yaxis\": {\"anchor\": \"x\", \"domain\": [0.0, 1.0], \"title\": {\"text\": \"PCA2\"}}},\n",
       "                        {\"responsive\": true}\n",
       "                    ).then(function(){\n",
       "                            \n",
       "var gd = document.getElementById('1fce4939-0d78-48a4-8872-f3ba3fcb68b3');\n",
       "var x = new MutationObserver(function (mutations, observer) {{\n",
       "        var display = window.getComputedStyle(gd).display;\n",
       "        if (!display || display === 'none') {{\n",
       "            console.log([gd, 'removed!']);\n",
       "            Plotly.purge(gd);\n",
       "            observer.disconnect();\n",
       "        }}\n",
       "}});\n",
       "\n",
       "// Listen for the removal of the full notebook cells\n",
       "var notebookContainer = gd.closest('#notebook-container');\n",
       "if (notebookContainer) {{\n",
       "    x.observe(notebookContainer, {childList: true});\n",
       "}}\n",
       "\n",
       "// Listen for the clearing of the current output cell\n",
       "var outputEl = gd.closest('.output');\n",
       "if (outputEl) {{\n",
       "    x.observe(outputEl, {childList: true});\n",
       "}}\n",
       "\n",
       "                        })\n",
       "                };\n",
       "                });\n",
       "            </script>\n",
       "        </div>"
      ]
     },
     "metadata": {},
     "output_type": "display_data"
    }
   ],
   "source": [
    "plot_model(kmeans)"
   ]
  },
  {
   "cell_type": "code",
   "execution_count": 9,
   "metadata": {},
   "outputs": [
    {
     "data": {
      "text/html": [
       "        <script type=\"text/javascript\">\n",
       "        window.PlotlyConfig = {MathJaxConfig: 'local'};\n",
       "        if (window.MathJax) {MathJax.Hub.Config({SVG: {font: \"STIX-Web\"}});}\n",
       "        if (typeof require !== 'undefined') {\n",
       "        require.undef(\"plotly\");\n",
       "        requirejs.config({\n",
       "            paths: {\n",
       "                'plotly': ['https://cdn.plot.ly/plotly-latest.min']\n",
       "            }\n",
       "        });\n",
       "        require(['plotly'], function(Plotly) {\n",
       "            window._Plotly = Plotly;\n",
       "        });\n",
       "        }\n",
       "        </script>\n",
       "        "
      ]
     },
     "metadata": {},
     "output_type": "display_data"
    },
    {
     "data": {
      "application/vnd.plotly.v1+json": {
       "config": {
        "plotlyServerURL": "https://plot.ly"
       },
       "data": [
        {
         "hoverlabel": {
          "namelength": 0
         },
         "hovertemplate": "Cluster=Cluster 0<br>PCA1=%{x}<br>PCA2=%{y}<br>Label=%{text}",
         "legendgroup": "Cluster=Cluster 0",
         "marker": {
          "color": "#636efa",
          "opacity": 0.5,
          "symbol": "circle"
         },
         "mode": "markers+text",
         "name": "Cluster=Cluster 0",
         "showlegend": true,
         "text": [
          "Honduras",
          "Dominica",
          "Djibouti",
          "Samoa",
          "San Marino",
          "Sao Tome and Principe",
          "Colombia",
          "Chile",
          "Cabo Verde",
          "Solomon Islands",
          "Bulgaria",
          "South Africa",
          "Brazil",
          "Botswana",
          "Bolivia",
          "Bhutan",
          "Belarus",
          "Barbados",
          "St. Lucia",
          "St. Vincent and the Grenadines",
          "Russian Federation",
          "Suriname",
          "Romania",
          "Estonia",
          "Moldova",
          "Malawi",
          "Monaco",
          "Macedonia, FYR",
          "Lithuania",
          "Lebanon",
          "Latvia",
          "Montenegro",
          "Mozambique",
          "Namibia",
          "Jordan",
          "Israel",
          "Nicaragua",
          "Hungary",
          "Guyana",
          "Grenada",
          "Panama",
          "Papua New Guinea",
          "Poland",
          "El Salvador",
          "Argentina",
          "Seychelles",
          "Swaziland",
          "Small states",
          "Tonga",
          "Vanuatu",
          "Pacific island small states",
          "Other small states",
          "Tunisia",
          "East Asia & Pacific",
          "Turkey",
          "Ukraine",
          "Antigua and Barbuda",
          "Europe & Central Asia (IDA & IBRD countries)",
          "Latin America & the Caribbean (IDA & IBRD countries)",
          "Latin America & Caribbean (excluding high income)",
          "Latin America & Caribbean",
          "Europe & Central Asia (excluding high income)",
          "Thailand",
          "Uruguay",
          "Central Europe and the Baltics",
          "Algeria",
          "Andorra"
         ],
         "textposition": "top center",
         "type": "scatter",
         "x": [
          0.0523809767042203,
          -0.6963165842730611,
          3.4963629024504157,
          2.239179963842626,
          2.996541555817924,
          -1.982879767134111,
          5.269249366144288,
          -2.982481930004971,
          -0.5993207982455239,
          6.323109784117417,
          0.9043237858037494,
          -0.41674848743597237,
          -1.8325711391061783,
          -1.686965814851076,
          -0.8536612634039066,
          2.8846255739114053,
          3.0973104640228657,
          0.5412716246977549,
          -1.7848088812854825,
          -0.5138111571569077,
          -0.36390899901084006,
          0.040582767506344375,
          0.7748426086098928,
          3.7119153029666663,
          4.882710147013893,
          3.4211056709118535,
          -2.011887424842368,
          4.811797590024579,
          3.3977115784363083,
          -1.0594868777708515,
          -0.15053431117056518,
          5.521664440212993,
          -1.5422464279154837,
          2.475123168426273,
          6.3793604633161785,
          4.232365223943223,
          -0.4234591695205206,
          6.877428452111309,
          2.7628508172347273,
          -2.710078590714615,
          6.182900164693898,
          1.7357732814693132,
          2.8915650781047106,
          0.4067357117267071,
          1.6549886134245433,
          -0.6367154259911892,
          3.477841724858415,
          -2.8033488749931306,
          0.688224693343187,
          -2.679774235079104,
          2.521124354529939,
          -2.678082879662622,
          -2.260400608016421,
          3.7321855099220653,
          -0.4374089529823035,
          0.6817178664409335,
          -2.7904247938703306,
          0.18827377624908267,
          -2.334515940063102,
          -2.0788610562518857,
          -2.0866140147954266,
          -0.5707423499700737,
          -0.13082493573547338,
          3.753184859247307,
          5.19653204627169,
          -2.5644440390142282,
          4.883437593508746
         ],
         "xaxis": "x",
         "y": [
          -1.0061914536857364,
          1.5305671961061875,
          -3.0016842207799743,
          -1.6875356484840207,
          -0.2740310411662722,
          1.7913403986410694,
          1.3359849927496932,
          0.16091627846989195,
          2.2543298469994255,
          -1.5474141205241485,
          0.5730460663408711,
          0.11355576223380467,
          -0.4294276179163997,
          -0.45382741503654317,
          -0.5170665696550727,
          3.8566195969433834,
          3.1486955568002464,
          -0.5683861330013134,
          0.03129894274702836,
          -0.06757513689428422,
          1.657514000735274,
          4.7341680137885565,
          -1.2385442803297109,
          1.264358496837327,
          0.25926155597166634,
          -6.448804007521148,
          -0.4154591228405269,
          3.387338823334593,
          0.9531860986338618,
          2.9931221367653293,
          0.8003393682777394,
          4.121262186928553,
          1.9141130390493308,
          0.5760168892285199,
          0.7145199934098242,
          1.70042370692386,
          -1.0957750164154723,
          2.506866811798524,
          2.1863935441044426,
          1.9233874084159046,
          0.6587191354538705,
          1.377242221635593,
          0.24184140169870277,
          -0.5631591457580744,
          3.973969905401959,
          3.142590570320148,
          -5.131259458682053,
          1.503215156474529,
          0.23043470667369545,
          -0.9892378763665283,
          0.519385857240113,
          1.7809406740110842,
          -0.8410240643570489,
          0.9928267617964195,
          -1.8311715877970052,
          1.1596543184112722,
          -0.6084592632583561,
          0.7463734591250084,
          0.13891010566730913,
          0.12929841063543973,
          0.09429419110350006,
          0.6820820860708171,
          -3.706588405460558,
          -4.1531049826228665,
          0.7126585487039374,
          -2.1296685616125792,
          -2.433941599042843
         ],
         "yaxis": "y"
        },
        {
         "hoverlabel": {
          "namelength": 0
         },
         "hovertemplate": "Cluster=Cluster 1<br>PCA1=%{x}<br>PCA2=%{y}<br>Label=%{text}",
         "legendgroup": "Cluster=Cluster 1",
         "marker": {
          "color": "#EF553B",
          "opacity": 0.5,
          "symbol": "circle"
         },
         "mode": "markers+text",
         "name": "Cluster=Cluster 1",
         "showlegend": true,
         "text": [
          "Micronesia, Fed. Sts.",
          "Kiribati",
          "Finland",
          "France",
          "United Kingdom",
          "Germany",
          "Malta",
          "Greece",
          "Portugal",
          "Austria",
          "European Union",
          "Japan",
          "Australia",
          "Norway",
          "Netherlands",
          "United States",
          "Iceland",
          "Italy",
          "High income",
          "New Zealand",
          "Palau",
          "World",
          "Sweden",
          "Cuba",
          "Switzerland",
          "Slovak Republic",
          "Post-demographic dividend",
          "Serbia",
          "Spain",
          "Lesotho",
          "Europe & Central Asia",
          "Maldives",
          "Costa Rica",
          "Canada",
          "OECD members",
          "Croatia",
          "Ireland",
          "North America",
          "Czech Republic",
          "Denmark",
          "Euro area",
          "Belgium",
          "Slovenia",
          "Bosnia and Herzegovina",
          "Luxembourg"
         ],
         "textposition": "top center",
         "type": "scatter",
         "x": [
          28.0262695538832,
          23.420927418009597,
          10.726724560722625,
          20.274410375468314,
          12.929593082081045,
          19.694842954903077,
          7.314091778152733,
          7.186477299903722,
          11.14119297927542,
          18.367344502907944,
          14.943239114650703,
          13.813253198680279,
          8.675223471375858,
          16.671662050148086,
          14.383614043780405,
          14.058971232804135,
          15.946916758968193,
          11.481683009232073,
          13.138218186033123,
          15.482183362753911,
          13.858864478915562,
          8.629457309687261,
          18.38721009205912,
          16.80945641164693,
          11.69398831763859,
          7.34823407837088,
          13.808128624207797,
          7.64716251857974,
          10.043412321500618,
          7.060532218142876,
          13.234086657329984,
          7.472880926088071,
          10.217763125731786,
          13.95454071375664,
          13.114383027129241,
          10.475304935117329,
          7.171364571949278,
          14.032324057252538,
          10.210283019050978,
          20.07095230754882,
          15.823770054445614,
          14.600979477284383,
          11.318080992622432,
          7.014345778510733,
          10.746653539988584
         ],
         "xaxis": "x",
         "y": [
          -6.041878648963877,
          1.823268170516312,
          -1.030749695397637,
          0.5893161257926888,
          -2.2661386247236397,
          1.2426452203194973,
          -1.6944069348771362,
          -1.361353560999246,
          -0.3178429143929311,
          0.21312339635189195,
          -0.41168663466966343,
          -2.6865792296916515,
          -0.3696795752168184,
          0.444650157035873,
          -6.075816075638619,
          -2.128293361440676,
          2.1692216402280793,
          -1.2206793438921009,
          -1.1393786999588782,
          -4.743207341003983,
          3.4424525494613616,
          0.39461364528283294,
          -2.2006955984502494,
          -6.478083184227868,
          -1.83393087984684,
          0.6291036683252442,
          -1.4098865373330882,
          -1.462348094961733,
          -0.9687378170947273,
          -6.859660089106432,
          0.26416370258018984,
          -4.919417342361275,
          -1.1138186475250478,
          -0.6679680569801177,
          -1.2698155947760223,
          0.35135324468989126,
          -0.25585213517749955,
          -2.0055644357724742,
          0.9972888247732347,
          -2.057592902176683,
          -0.144709221609351,
          -1.8679602899905683,
          0.4399174439131799,
          -3.5188569549087685,
          0.6763558407018944
         ],
         "yaxis": "y"
        },
        {
         "hoverlabel": {
          "namelength": 0
         },
         "hovertemplate": "Cluster=Cluster 2<br>PCA1=%{x}<br>PCA2=%{y}<br>Label=%{text}",
         "legendgroup": "Cluster=Cluster 2",
         "marker": {
          "color": "#00cc96",
          "opacity": 0.5,
          "symbol": "circle"
         },
         "mode": "markers+text",
         "name": "Cluster=Cluster 2",
         "showlegend": true,
         "text": [
          "Vietnam",
          "Morocco",
          "Nepal",
          "Myanmar",
          "Venezuela, RB",
          "Mongolia",
          "Uzbekistan",
          "United Arab Emirates",
          "Nigeria",
          "Sudan",
          "St. Kitts and Nevis",
          "Sri Lanka",
          "Syrian Arab Republic",
          "Tajikistan",
          "Tanzania",
          "Togo",
          "Singapore",
          "Sierra Leone",
          "Mexico",
          "Niger",
          "Senegal",
          "Trinidad and Tobago",
          "Rwanda",
          "Turkmenistan",
          "Uganda",
          "Qatar",
          "Philippines",
          "Peru",
          "Paraguay",
          "Pakistan",
          "Oman",
          "Saudi Arabia",
          "Mauritius",
          "Arab World",
          "Chad",
          "Upper middle income",
          "Albania",
          "Angola",
          "Armenia",
          "Azerbaijan",
          "Bahamas, The",
          "Bahrain",
          "Bangladesh",
          "Belize",
          "Benin",
          "Brunei Darussalam",
          "Burkina Faso",
          "Burundi",
          "Cambodia",
          "Cameroon",
          "Sub-Saharan Africa (IDA & IBRD countries)",
          "Sub-Saharan Africa (excluding high income)",
          "Sub-Saharan Africa",
          "South Asia (IDA & IBRD)",
          "Caribbean small states",
          "Early-demographic dividend",
          "East Asia & Pacific (excluding high income)",
          "East Asia & Pacific (IDA & IBRD countries)",
          "Heavily indebted poor countries (HIPC)",
          "Late-demographic dividend",
          "Least developed countries: UN classification",
          "Central African Republic",
          "Low & middle income",
          "Lower middle income",
          "Middle East & North Africa",
          "Middle East & North Africa (excluding high income)",
          "Middle East & North Africa (IDA & IBRD countries)",
          "Middle income",
          "Pre-demographic dividend",
          "South Asia",
          "Low income",
          "Mauritania",
          "Zambia",
          "Comoros",
          "Yemen, Rep.",
          "India",
          "Indonesia",
          "Iran, Islamic Rep.",
          "Jamaica",
          "Kazakhstan",
          "Kenya",
          "Korea, Rep.",
          "Kuwait",
          "Kyrgyz Republic",
          "Lao PDR",
          "Libya",
          "Madagascar",
          "Malaysia",
          "Mali",
          "China",
          "Guinea-Bissau",
          "Haiti",
          "Guatemala",
          "Congo, Dem. Rep.",
          "Congo, Rep.",
          "Cote d'Ivoire",
          "Cyprus",
          "Dominican Republic",
          "Ecuador",
          "Egypt, Arab Rep.",
          "Equatorial Guinea",
          "Eritrea",
          "Ethiopia",
          "Fiji",
          "Gabon",
          "Gambia, The",
          "Georgia",
          "Ghana",
          "Guinea"
         ],
         "textposition": "top center",
         "type": "scatter",
         "x": [
          -6.838127133689372,
          -9.484297119000681,
          -7.481534537789983,
          -15.11526667768679,
          -8.0099704622005,
          -3.709945822543768,
          -4.343995899371722,
          -7.527412152427506,
          -12.093503451711781,
          -10.187893573210124,
          -5.982304037394747,
          -9.033280310482066,
          -8.34993440852866,
          -10.7401637209542,
          -6.704510490114223,
          -8.637772998311174,
          -10.783145859486595,
          -6.071121988048263,
          -4.862787780405474,
          -6.897017132517401,
          -7.128722124865843,
          -5.193398208285049,
          -4.536767858980432,
          -7.808119101950003,
          -7.410104286952265,
          -7.287596977267267,
          -10.375982305040118,
          -4.701430209018233,
          -3.3258792623976925,
          -13.274173398510674,
          -5.7830515182741244,
          -5.28060194247648,
          -7.183762362692117,
          -5.978111640505859,
          -8.739668478685987,
          -3.5565463908430774,
          -5.665968771045835,
          -6.1758384619265,
          -8.8877011054299,
          -11.990190347513366,
          -3.4727360186098393,
          -5.140448924477463,
          -12.279275148006182,
          -3.6782325952668047,
          -6.759047335826221,
          -5.553747628790428,
          -3.5927102273363105,
          -3.9114615341007193,
          -9.835625771928305,
          -11.816550848843821,
          -5.726460400774469,
          -5.733959228379499,
          -5.726460400774469,
          -11.717744407779506,
          -3.5335523602755807,
          -5.874889989411106,
          -7.338891894395104,
          -7.338891894395102,
          -6.779112802141312,
          -3.4865834565786367,
          -8.473369637629364,
          -8.328928193317836,
          -5.029770548401174,
          -10.12208829043547,
          -4.754617117667594,
          -5.6689371743232835,
          -5.6689371743232835,
          -5.002990850532889,
          -8.803685060464211,
          -11.717744407779506,
          -6.935487657597175,
          -8.209723823671501,
          -3.718335935066663,
          -7.131632386667641,
          -9.08405838904044,
          -11.64996360056128,
          -12.53819234803707,
          -6.29493372530749,
          -4.2763390860391794,
          -6.102007952138874,
          -7.505875796444623,
          -3.842269509289177,
          -5.756711635031171,
          -3.482951191502168,
          -11.157062106263886,
          -6.851591572318085,
          -6.318006421470661,
          -7.845046648174215,
          -4.999397273875959,
          -7.085967768499033,
          -10.52832969892298,
          -9.33543422069262,
          -7.2795343806145585,
          -12.749904411139479,
          -8.321722617418871,
          -9.491378675550758,
          -4.343442425602127,
          -7.780851195519921,
          -7.790551996098864,
          -7.622396289866976,
          -6.338709691007325,
          -9.859076847688465,
          -5.804870493017629,
          -4.139888379414401,
          -9.64411915861642,
          -5.068430173668127,
          -10.269095235769905,
          -5.329248830030671,
          -10.94554042621343
         ],
         "xaxis": "x",
         "y": [
          -2.1054224181312517,
          -0.6743398818959013,
          -0.837773061289016,
          -0.028339201058388965,
          0.8228560527689587,
          2.5255249894814966,
          1.289877638426681,
          -0.36883114624597113,
          0.31707827709695074,
          -1.5314700249093545,
          2.123293254630933,
          0.9368375328552409,
          1.9279965762758615,
          -0.35646060776214494,
          -1.212219561328002,
          -0.4796246484431998,
          0.3453398942374639,
          2.053568828482675,
          -0.6462077405756084,
          -0.8646847381552383,
          -0.4874435073466264,
          -0.14709501047151036,
          -0.5039192162486804,
          3.6314570197613825,
          -0.09849466670467585,
          1.7017615075616381,
          0.6894459850578996,
          0.41004174217124434,
          -1.7654684443955149,
          0.1519555139871271,
          1.8771059208222196,
          -0.005353811348649069,
          0.269614037976079,
          0.060087273871189145,
          2.0067347015121886,
          0.014294049568387578,
          -0.2991488213101728,
          1.0483999724431234,
          0.2338035573351899,
          0.6302439716252003,
          -0.4216974744697445,
          1.0191811139862552,
          0.9292942917451482,
          -1.553841067125939,
          0.2722175266084948,
          2.0371987618496568,
          -1.1581411492570501,
          -4.799628678285951,
          1.320370034410966,
          0.4203891767923587,
          0.855292406191082,
          0.8502496554360927,
          0.855292406191082,
          0.39968228249469306,
          0.4273170989236,
          0.5811594934368999,
          -0.9944962782369446,
          -0.9944962782369445,
          -0.5068844372590348,
          0.03421941894983672,
          -0.09237404974594536,
          0.5463133582843177,
          0.055592760544055694,
          0.47506045021065135,
          0.4487598516474099,
          -0.3826301018191773,
          -0.3826301018191773,
          0.06441920890858716,
          -0.17604580883604506,
          0.39968228249469306,
          -0.5257808006280743,
          2.0017941573755866,
          2.117893316914127,
          1.2418292146067682,
          1.9725459159480585,
          0.4387840994705089,
          0.15993643922619083,
          -0.4299112429353996,
          0.818304173500739,
          1.4083207333161525,
          -0.6464163056969573,
          -2.5218613664014,
          1.9781672804329198,
          -1.3346870062550664,
          1.9136966118668464,
          -0.8158920238856169,
          0.8693110544295612,
          0.02881027663560581,
          1.4976155459698757,
          -1.0585595028827899,
          1.029264975053775,
          2.009609502540951,
          -0.010123131376214865,
          -1.7875193250832506,
          -1.176103741966348,
          0.8968873316434841,
          -1.129575189688764,
          -0.7418307711572959,
          -1.9995631693860632,
          0.8432791724505591,
          -0.054473415667810145,
          1.4370530974830713,
          -1.6067288163268219,
          0.8117649007612818,
          -0.9218388760417181,
          -4.230259164337702,
          -0.2889516151239778,
          -1.758457647299846,
          -1.145121519851282
         ],
         "yaxis": "y"
        },
        {
         "hoverlabel": {
          "namelength": 0
         },
         "hovertemplate": "Cluster=Cluster 3<br>PCA1=%{x}<br>PCA2=%{y}<br>Label=%{text}",
         "legendgroup": "Cluster=Cluster 3",
         "marker": {
          "color": "#ab63fa",
          "opacity": 0.5,
          "symbol": "circle"
         },
         "mode": "markers+text",
         "name": "Cluster=Cluster 3",
         "showlegend": true,
         "text": [
          "Nauru",
          "Tuvalu",
          "Marshall Islands"
         ],
         "textposition": "top center",
         "type": "scatter",
         "x": [
          32.54294615578061,
          49.13614546484315,
          55.908067724687456
         ],
         "xaxis": "x",
         "y": [
          14.525514048370503,
          -4.779342617786482,
          11.19015475718291
         ],
         "yaxis": "y"
        }
       ],
       "layout": {
        "autosize": true,
        "legend": {
         "tracegroupgap": 0
        },
        "margin": {
         "t": 60
        },
        "plot_bgcolor": "rgb(240,240,240)",
        "template": {
         "data": {
          "bar": [
           {
            "error_x": {
             "color": "#2a3f5f"
            },
            "error_y": {
             "color": "#2a3f5f"
            },
            "marker": {
             "line": {
              "color": "#E5ECF6",
              "width": 0.5
             }
            },
            "type": "bar"
           }
          ],
          "barpolar": [
           {
            "marker": {
             "line": {
              "color": "#E5ECF6",
              "width": 0.5
             }
            },
            "type": "barpolar"
           }
          ],
          "carpet": [
           {
            "aaxis": {
             "endlinecolor": "#2a3f5f",
             "gridcolor": "white",
             "linecolor": "white",
             "minorgridcolor": "white",
             "startlinecolor": "#2a3f5f"
            },
            "baxis": {
             "endlinecolor": "#2a3f5f",
             "gridcolor": "white",
             "linecolor": "white",
             "minorgridcolor": "white",
             "startlinecolor": "#2a3f5f"
            },
            "type": "carpet"
           }
          ],
          "choropleth": [
           {
            "colorbar": {
             "outlinewidth": 0,
             "ticks": ""
            },
            "type": "choropleth"
           }
          ],
          "contour": [
           {
            "colorbar": {
             "outlinewidth": 0,
             "ticks": ""
            },
            "colorscale": [
             [
              0,
              "#0d0887"
             ],
             [
              0.1111111111111111,
              "#46039f"
             ],
             [
              0.2222222222222222,
              "#7201a8"
             ],
             [
              0.3333333333333333,
              "#9c179e"
             ],
             [
              0.4444444444444444,
              "#bd3786"
             ],
             [
              0.5555555555555556,
              "#d8576b"
             ],
             [
              0.6666666666666666,
              "#ed7953"
             ],
             [
              0.7777777777777778,
              "#fb9f3a"
             ],
             [
              0.8888888888888888,
              "#fdca26"
             ],
             [
              1,
              "#f0f921"
             ]
            ],
            "type": "contour"
           }
          ],
          "contourcarpet": [
           {
            "colorbar": {
             "outlinewidth": 0,
             "ticks": ""
            },
            "type": "contourcarpet"
           }
          ],
          "heatmap": [
           {
            "colorbar": {
             "outlinewidth": 0,
             "ticks": ""
            },
            "colorscale": [
             [
              0,
              "#0d0887"
             ],
             [
              0.1111111111111111,
              "#46039f"
             ],
             [
              0.2222222222222222,
              "#7201a8"
             ],
             [
              0.3333333333333333,
              "#9c179e"
             ],
             [
              0.4444444444444444,
              "#bd3786"
             ],
             [
              0.5555555555555556,
              "#d8576b"
             ],
             [
              0.6666666666666666,
              "#ed7953"
             ],
             [
              0.7777777777777778,
              "#fb9f3a"
             ],
             [
              0.8888888888888888,
              "#fdca26"
             ],
             [
              1,
              "#f0f921"
             ]
            ],
            "type": "heatmap"
           }
          ],
          "heatmapgl": [
           {
            "colorbar": {
             "outlinewidth": 0,
             "ticks": ""
            },
            "colorscale": [
             [
              0,
              "#0d0887"
             ],
             [
              0.1111111111111111,
              "#46039f"
             ],
             [
              0.2222222222222222,
              "#7201a8"
             ],
             [
              0.3333333333333333,
              "#9c179e"
             ],
             [
              0.4444444444444444,
              "#bd3786"
             ],
             [
              0.5555555555555556,
              "#d8576b"
             ],
             [
              0.6666666666666666,
              "#ed7953"
             ],
             [
              0.7777777777777778,
              "#fb9f3a"
             ],
             [
              0.8888888888888888,
              "#fdca26"
             ],
             [
              1,
              "#f0f921"
             ]
            ],
            "type": "heatmapgl"
           }
          ],
          "histogram": [
           {
            "marker": {
             "colorbar": {
              "outlinewidth": 0,
              "ticks": ""
             }
            },
            "type": "histogram"
           }
          ],
          "histogram2d": [
           {
            "colorbar": {
             "outlinewidth": 0,
             "ticks": ""
            },
            "colorscale": [
             [
              0,
              "#0d0887"
             ],
             [
              0.1111111111111111,
              "#46039f"
             ],
             [
              0.2222222222222222,
              "#7201a8"
             ],
             [
              0.3333333333333333,
              "#9c179e"
             ],
             [
              0.4444444444444444,
              "#bd3786"
             ],
             [
              0.5555555555555556,
              "#d8576b"
             ],
             [
              0.6666666666666666,
              "#ed7953"
             ],
             [
              0.7777777777777778,
              "#fb9f3a"
             ],
             [
              0.8888888888888888,
              "#fdca26"
             ],
             [
              1,
              "#f0f921"
             ]
            ],
            "type": "histogram2d"
           }
          ],
          "histogram2dcontour": [
           {
            "colorbar": {
             "outlinewidth": 0,
             "ticks": ""
            },
            "colorscale": [
             [
              0,
              "#0d0887"
             ],
             [
              0.1111111111111111,
              "#46039f"
             ],
             [
              0.2222222222222222,
              "#7201a8"
             ],
             [
              0.3333333333333333,
              "#9c179e"
             ],
             [
              0.4444444444444444,
              "#bd3786"
             ],
             [
              0.5555555555555556,
              "#d8576b"
             ],
             [
              0.6666666666666666,
              "#ed7953"
             ],
             [
              0.7777777777777778,
              "#fb9f3a"
             ],
             [
              0.8888888888888888,
              "#fdca26"
             ],
             [
              1,
              "#f0f921"
             ]
            ],
            "type": "histogram2dcontour"
           }
          ],
          "mesh3d": [
           {
            "colorbar": {
             "outlinewidth": 0,
             "ticks": ""
            },
            "type": "mesh3d"
           }
          ],
          "parcoords": [
           {
            "line": {
             "colorbar": {
              "outlinewidth": 0,
              "ticks": ""
             }
            },
            "type": "parcoords"
           }
          ],
          "pie": [
           {
            "automargin": true,
            "type": "pie"
           }
          ],
          "scatter": [
           {
            "marker": {
             "colorbar": {
              "outlinewidth": 0,
              "ticks": ""
             }
            },
            "type": "scatter"
           }
          ],
          "scatter3d": [
           {
            "line": {
             "colorbar": {
              "outlinewidth": 0,
              "ticks": ""
             }
            },
            "marker": {
             "colorbar": {
              "outlinewidth": 0,
              "ticks": ""
             }
            },
            "type": "scatter3d"
           }
          ],
          "scattercarpet": [
           {
            "marker": {
             "colorbar": {
              "outlinewidth": 0,
              "ticks": ""
             }
            },
            "type": "scattercarpet"
           }
          ],
          "scattergeo": [
           {
            "marker": {
             "colorbar": {
              "outlinewidth": 0,
              "ticks": ""
             }
            },
            "type": "scattergeo"
           }
          ],
          "scattergl": [
           {
            "marker": {
             "colorbar": {
              "outlinewidth": 0,
              "ticks": ""
             }
            },
            "type": "scattergl"
           }
          ],
          "scattermapbox": [
           {
            "marker": {
             "colorbar": {
              "outlinewidth": 0,
              "ticks": ""
             }
            },
            "type": "scattermapbox"
           }
          ],
          "scatterpolar": [
           {
            "marker": {
             "colorbar": {
              "outlinewidth": 0,
              "ticks": ""
             }
            },
            "type": "scatterpolar"
           }
          ],
          "scatterpolargl": [
           {
            "marker": {
             "colorbar": {
              "outlinewidth": 0,
              "ticks": ""
             }
            },
            "type": "scatterpolargl"
           }
          ],
          "scatterternary": [
           {
            "marker": {
             "colorbar": {
              "outlinewidth": 0,
              "ticks": ""
             }
            },
            "type": "scatterternary"
           }
          ],
          "surface": [
           {
            "colorbar": {
             "outlinewidth": 0,
             "ticks": ""
            },
            "colorscale": [
             [
              0,
              "#0d0887"
             ],
             [
              0.1111111111111111,
              "#46039f"
             ],
             [
              0.2222222222222222,
              "#7201a8"
             ],
             [
              0.3333333333333333,
              "#9c179e"
             ],
             [
              0.4444444444444444,
              "#bd3786"
             ],
             [
              0.5555555555555556,
              "#d8576b"
             ],
             [
              0.6666666666666666,
              "#ed7953"
             ],
             [
              0.7777777777777778,
              "#fb9f3a"
             ],
             [
              0.8888888888888888,
              "#fdca26"
             ],
             [
              1,
              "#f0f921"
             ]
            ],
            "type": "surface"
           }
          ],
          "table": [
           {
            "cells": {
             "fill": {
              "color": "#EBF0F8"
             },
             "line": {
              "color": "white"
             }
            },
            "header": {
             "fill": {
              "color": "#C8D4E3"
             },
             "line": {
              "color": "white"
             }
            },
            "type": "table"
           }
          ]
         },
         "layout": {
          "annotationdefaults": {
           "arrowcolor": "#2a3f5f",
           "arrowhead": 0,
           "arrowwidth": 1
          },
          "coloraxis": {
           "colorbar": {
            "outlinewidth": 0,
            "ticks": ""
           }
          },
          "colorscale": {
           "diverging": [
            [
             0,
             "#8e0152"
            ],
            [
             0.1,
             "#c51b7d"
            ],
            [
             0.2,
             "#de77ae"
            ],
            [
             0.3,
             "#f1b6da"
            ],
            [
             0.4,
             "#fde0ef"
            ],
            [
             0.5,
             "#f7f7f7"
            ],
            [
             0.6,
             "#e6f5d0"
            ],
            [
             0.7,
             "#b8e186"
            ],
            [
             0.8,
             "#7fbc41"
            ],
            [
             0.9,
             "#4d9221"
            ],
            [
             1,
             "#276419"
            ]
           ],
           "sequential": [
            [
             0,
             "#0d0887"
            ],
            [
             0.1111111111111111,
             "#46039f"
            ],
            [
             0.2222222222222222,
             "#7201a8"
            ],
            [
             0.3333333333333333,
             "#9c179e"
            ],
            [
             0.4444444444444444,
             "#bd3786"
            ],
            [
             0.5555555555555556,
             "#d8576b"
            ],
            [
             0.6666666666666666,
             "#ed7953"
            ],
            [
             0.7777777777777778,
             "#fb9f3a"
            ],
            [
             0.8888888888888888,
             "#fdca26"
            ],
            [
             1,
             "#f0f921"
            ]
           ],
           "sequentialminus": [
            [
             0,
             "#0d0887"
            ],
            [
             0.1111111111111111,
             "#46039f"
            ],
            [
             0.2222222222222222,
             "#7201a8"
            ],
            [
             0.3333333333333333,
             "#9c179e"
            ],
            [
             0.4444444444444444,
             "#bd3786"
            ],
            [
             0.5555555555555556,
             "#d8576b"
            ],
            [
             0.6666666666666666,
             "#ed7953"
            ],
            [
             0.7777777777777778,
             "#fb9f3a"
            ],
            [
             0.8888888888888888,
             "#fdca26"
            ],
            [
             1,
             "#f0f921"
            ]
           ]
          },
          "colorway": [
           "#636efa",
           "#EF553B",
           "#00cc96",
           "#ab63fa",
           "#FFA15A",
           "#19d3f3",
           "#FF6692",
           "#B6E880",
           "#FF97FF",
           "#FECB52"
          ],
          "font": {
           "color": "#2a3f5f"
          },
          "geo": {
           "bgcolor": "white",
           "lakecolor": "white",
           "landcolor": "#E5ECF6",
           "showlakes": true,
           "showland": true,
           "subunitcolor": "white"
          },
          "hoverlabel": {
           "align": "left"
          },
          "hovermode": "closest",
          "mapbox": {
           "style": "light"
          },
          "paper_bgcolor": "white",
          "plot_bgcolor": "#E5ECF6",
          "polar": {
           "angularaxis": {
            "gridcolor": "white",
            "linecolor": "white",
            "ticks": ""
           },
           "bgcolor": "#E5ECF6",
           "radialaxis": {
            "gridcolor": "white",
            "linecolor": "white",
            "ticks": ""
           }
          },
          "scene": {
           "xaxis": {
            "backgroundcolor": "#E5ECF6",
            "gridcolor": "white",
            "gridwidth": 2,
            "linecolor": "white",
            "showbackground": true,
            "ticks": "",
            "zerolinecolor": "white"
           },
           "yaxis": {
            "backgroundcolor": "#E5ECF6",
            "gridcolor": "white",
            "gridwidth": 2,
            "linecolor": "white",
            "showbackground": true,
            "ticks": "",
            "zerolinecolor": "white"
           },
           "zaxis": {
            "backgroundcolor": "#E5ECF6",
            "gridcolor": "white",
            "gridwidth": 2,
            "linecolor": "white",
            "showbackground": true,
            "ticks": "",
            "zerolinecolor": "white"
           }
          },
          "shapedefaults": {
           "line": {
            "color": "#2a3f5f"
           }
          },
          "ternary": {
           "aaxis": {
            "gridcolor": "white",
            "linecolor": "white",
            "ticks": ""
           },
           "baxis": {
            "gridcolor": "white",
            "linecolor": "white",
            "ticks": ""
           },
           "bgcolor": "#E5ECF6",
           "caxis": {
            "gridcolor": "white",
            "linecolor": "white",
            "ticks": ""
           }
          },
          "title": {
           "x": 0.05
          },
          "xaxis": {
           "automargin": true,
           "gridcolor": "white",
           "linecolor": "white",
           "ticks": "",
           "title": {
            "standoff": 15
           },
           "zerolinecolor": "white",
           "zerolinewidth": 2
          },
          "yaxis": {
           "automargin": true,
           "gridcolor": "white",
           "linecolor": "white",
           "ticks": "",
           "title": {
            "standoff": 15
           },
           "zerolinecolor": "white",
           "zerolinewidth": 2
          }
         }
        },
        "title": {
         "text": "2D Cluster PCA Plot"
        },
        "xaxis": {
         "anchor": "y",
         "autorange": true,
         "domain": [
          0,
          1
         ],
         "range": [
          -19.67256060865129,
          60.465361655651954
         ],
         "title": {
          "text": "PCA1"
         },
         "type": "linear"
        },
        "yaxis": {
         "anchor": "x",
         "autorange": true,
         "domain": [
          0,
          1
         ],
         "range": [
          -8.26692554587767,
          15.932779505141742
         ],
         "title": {
          "text": "PCA2"
         },
         "type": "linear"
        }
       }
      },
      "image/png": "[encoded data removed]",
      "text/html": [
       "<div>\n",
       "        \n",
       "        \n",
       "            <div id=\"807c8121-36ac-4e89-9c04-f31a5369d666\" class=\"plotly-graph-div\" style=\"height:600px; width:100%;\"></div>\n",
       "            <script type=\"text/javascript\">\n",
       "                require([\"plotly\"], function(Plotly) {\n",
       "                    window.PLOTLYENV=window.PLOTLYENV || {};\n",
       "                    \n",
       "                if (document.getElementById(\"807c8121-36ac-4e89-9c04-f31a5369d666\")) {\n",
       "                    Plotly.newPlot(\n",
       "                        '807c8121-36ac-4e89-9c04-f31a5369d666',\n",
       "                        [{\"hoverlabel\": {\"namelength\": 0}, \"hovertemplate\": \"Cluster=Cluster 0<br>PCA1=%{x}<br>PCA2=%{y}<br>Label=%{text}\", \"legendgroup\": \"Cluster=Cluster 0\", \"marker\": {\"color\": \"#636efa\", \"opacity\": 0.5, \"symbol\": \"circle\"}, \"mode\": \"markers+text\", \"name\": \"Cluster=Cluster 0\", \"showlegend\": true, \"text\": [\"Honduras\", \"Dominica\", \"Djibouti\", \"Samoa\", \"San Marino\", \"Sao Tome and Principe\", \"Colombia\", \"Chile\", \"Cabo Verde\", \"Solomon Islands\", \"Bulgaria\", \"South Africa\", \"Brazil\", \"Botswana\", \"Bolivia\", \"Bhutan\", \"Belarus\", \"Barbados\", \"St. Lucia\", \"St. Vincent and the Grenadines\", \"Russian Federation\", \"Suriname\", \"Romania\", \"Estonia\", \"Moldova\", \"Malawi\", \"Monaco\", \"Macedonia, FYR\", \"Lithuania\", \"Lebanon\", \"Latvia\", \"Montenegro\", \"Mozambique\", \"Namibia\", \"Jordan\", \"Israel\", \"Nicaragua\", \"Hungary\", \"Guyana\", \"Grenada\", \"Panama\", \"Papua New Guinea\", \"Poland\", \"El Salvador\", \"Argentina\", \"Seychelles\", \"Swaziland\", \"Small states\", \"Tonga\", \"Vanuatu\", \"Pacific island small states\", \"Other small states\", \"Tunisia\", \"East Asia & Pacific\", \"Turkey\", \"Ukraine\", \"Antigua and Barbuda\", \"Europe & Central Asia (IDA & IBRD countries)\", \"Latin America & the Caribbean (IDA & IBRD countries)\", \"Latin America & Caribbean (excluding high income)\", \"Latin America & Caribbean\", \"Europe & Central Asia (excluding high income)\", \"Thailand\", \"Uruguay\", \"Central Europe and the Baltics\", \"Algeria\", \"Andorra\"], \"textposition\": \"top center\", \"type\": \"scatter\", \"x\": [0.0523809767042203, -0.6963165842730611, 3.4963629024504157, 2.239179963842626, 2.996541555817924, -1.982879767134111, 5.269249366144288, -2.982481930004971, -0.5993207982455239, 6.323109784117417, 0.9043237858037494, -0.41674848743597237, -1.8325711391061783, -1.686965814851076, -0.8536612634039066, 2.8846255739114053, 3.0973104640228657, 0.5412716246977549, -1.7848088812854825, -0.5138111571569077, -0.36390899901084006, 0.040582767506344375, 0.7748426086098928, 3.7119153029666663, 4.882710147013893, 3.4211056709118535, -2.011887424842368, 4.811797590024579, 3.3977115784363083, -1.0594868777708515, -0.15053431117056518, 5.521664440212993, -1.5422464279154837, 2.475123168426273, 6.3793604633161785, 4.232365223943223, -0.4234591695205206, 6.877428452111309, 2.7628508172347273, -2.710078590714615, 6.182900164693898, 1.7357732814693132, 2.8915650781047106, 0.4067357117267071, 1.6549886134245433, -0.6367154259911892, 3.477841724858415, -2.8033488749931306, 0.688224693343187, -2.679774235079104, 2.521124354529939, -2.678082879662622, -2.260400608016421, 3.7321855099220653, -0.4374089529823035, 0.6817178664409335, -2.7904247938703306, 0.18827377624908267, -2.334515940063102, -2.0788610562518857, -2.0866140147954266, -0.5707423499700737, -0.13082493573547338, 3.753184859247307, 5.19653204627169, -2.5644440390142282, 4.883437593508746], \"xaxis\": \"x\", \"y\": [-1.0061914536857364, 1.5305671961061875, -3.0016842207799743, -1.6875356484840207, -0.2740310411662722, 1.7913403986410694, 1.3359849927496932, 0.16091627846989195, 2.2543298469994255, -1.5474141205241485, 0.5730460663408711, 0.11355576223380467, -0.4294276179163997, -0.45382741503654317, -0.5170665696550727, 3.8566195969433834, 3.1486955568002464, -0.5683861330013134, 0.03129894274702836, -0.06757513689428422, 1.657514000735274, 4.7341680137885565, -1.2385442803297109, 1.264358496837327, 0.25926155597166634, -6.448804007521148, -0.4154591228405269, 3.387338823334593, 0.9531860986338618, 2.9931221367653293, 0.8003393682777394, 4.121262186928553, 1.9141130390493308, 0.5760168892285199, 0.7145199934098242, 1.70042370692386, -1.0957750164154723, 2.506866811798524, 2.1863935441044426, 1.9233874084159046, 0.6587191354538705, 1.377242221635593, 0.24184140169870277, -0.5631591457580744, 3.973969905401959, 3.142590570320148, -5.131259458682053, 1.503215156474529, 0.23043470667369545, -0.9892378763665283, 0.519385857240113, 1.7809406740110842, -0.8410240643570489, 0.9928267617964195, -1.8311715877970052, 1.1596543184112722, -0.6084592632583561, 0.7463734591250084, 0.13891010566730913, 0.12929841063543973, 0.09429419110350006, 0.6820820860708171, -3.706588405460558, -4.1531049826228665, 0.7126585487039374, -2.1296685616125792, -2.433941599042843], \"yaxis\": \"y\"}, {\"hoverlabel\": {\"namelength\": 0}, \"hovertemplate\": \"Cluster=Cluster 1<br>PCA1=%{x}<br>PCA2=%{y}<br>Label=%{text}\", \"legendgroup\": \"Cluster=Cluster 1\", \"marker\": {\"color\": \"#EF553B\", \"opacity\": 0.5, \"symbol\": \"circle\"}, \"mode\": \"markers+text\", \"name\": \"Cluster=Cluster 1\", \"showlegend\": true, \"text\": [\"Micronesia, Fed. Sts.\", \"Kiribati\", \"Finland\", \"France\", \"United Kingdom\", \"Germany\", \"Malta\", \"Greece\", \"Portugal\", \"Austria\", \"European Union\", \"Japan\", \"Australia\", \"Norway\", \"Netherlands\", \"United States\", \"Iceland\", \"Italy\", \"High income\", \"New Zealand\", \"Palau\", \"World\", \"Sweden\", \"Cuba\", \"Switzerland\", \"Slovak Republic\", \"Post-demographic dividend\", \"Serbia\", \"Spain\", \"Lesotho\", \"Europe & Central Asia\", \"Maldives\", \"Costa Rica\", \"Canada\", \"OECD members\", \"Croatia\", \"Ireland\", \"North America\", \"Czech Republic\", \"Denmark\", \"Euro area\", \"Belgium\", \"Slovenia\", \"Bosnia and Herzegovina\", \"Luxembourg\"], \"textposition\": \"top center\", \"type\": \"scatter\", \"x\": [28.0262695538832, 23.420927418009597, 10.726724560722625, 20.274410375468314, 12.929593082081045, 19.694842954903077, 7.314091778152733, 7.186477299903722, 11.14119297927542, 18.367344502907944, 14.943239114650703, 13.813253198680279, 8.675223471375858, 16.671662050148086, 14.383614043780405, 14.058971232804135, 15.946916758968193, 11.481683009232073, 13.138218186033123, 15.482183362753911, 13.858864478915562, 8.629457309687261, 18.38721009205912, 16.80945641164693, 11.69398831763859, 7.34823407837088, 13.808128624207797, 7.64716251857974, 10.043412321500618, 7.060532218142876, 13.234086657329984, 7.472880926088071, 10.217763125731786, 13.95454071375664, 13.114383027129241, 10.475304935117329, 7.171364571949278, 14.032324057252538, 10.210283019050978, 20.07095230754882, 15.823770054445614, 14.600979477284383, 11.318080992622432, 7.014345778510733, 10.746653539988584], \"xaxis\": \"x\", \"y\": [-6.041878648963877, 1.823268170516312, -1.030749695397637, 0.5893161257926888, -2.2661386247236397, 1.2426452203194973, -1.6944069348771362, -1.361353560999246, -0.3178429143929311, 0.21312339635189195, -0.41168663466966343, -2.6865792296916515, -0.3696795752168184, 0.444650157035873, -6.075816075638619, -2.128293361440676, 2.1692216402280793, -1.2206793438921009, -1.1393786999588782, -4.743207341003983, 3.4424525494613616, 0.39461364528283294, -2.2006955984502494, -6.478083184227868, -1.83393087984684, 0.6291036683252442, -1.4098865373330882, -1.462348094961733, -0.9687378170947273, -6.859660089106432, 0.26416370258018984, -4.919417342361275, -1.1138186475250478, -0.6679680569801177, -1.2698155947760223, 0.35135324468989126, -0.25585213517749955, -2.0055644357724742, 0.9972888247732347, -2.057592902176683, -0.144709221609351, -1.8679602899905683, 0.4399174439131799, -3.5188569549087685, 0.6763558407018944], \"yaxis\": \"y\"}, {\"hoverlabel\": {\"namelength\": 0}, \"hovertemplate\": \"Cluster=Cluster 2<br>PCA1=%{x}<br>PCA2=%{y}<br>Label=%{text}\", \"legendgroup\": \"Cluster=Cluster 2\", \"marker\": {\"color\": \"#00cc96\", \"opacity\": 0.5, \"symbol\": \"circle\"}, \"mode\": \"markers+text\", \"name\": \"Cluster=Cluster 2\", \"showlegend\": true, \"text\": [\"Vietnam\", \"Morocco\", \"Nepal\", \"Myanmar\", \"Venezuela, RB\", \"Mongolia\", \"Uzbekistan\", \"United Arab Emirates\", \"Nigeria\", \"Sudan\", \"St. Kitts and Nevis\", \"Sri Lanka\", \"Syrian Arab Republic\", \"Tajikistan\", \"Tanzania\", \"Togo\", \"Singapore\", \"Sierra Leone\", \"Mexico\", \"Niger\", \"Senegal\", \"Trinidad and Tobago\", \"Rwanda\", \"Turkmenistan\", \"Uganda\", \"Qatar\", \"Philippines\", \"Peru\", \"Paraguay\", \"Pakistan\", \"Oman\", \"Saudi Arabia\", \"Mauritius\", \"Arab World\", \"Chad\", \"Upper middle income\", \"Albania\", \"Angola\", \"Armenia\", \"Azerbaijan\", \"Bahamas, The\", \"Bahrain\", \"Bangladesh\", \"Belize\", \"Benin\", \"Brunei Darussalam\", \"Burkina Faso\", \"Burundi\", \"Cambodia\", \"Cameroon\", \"Sub-Saharan Africa (IDA & IBRD countries)\", \"Sub-Saharan Africa (excluding high income)\", \"Sub-Saharan Africa\", \"South Asia (IDA & IBRD)\", \"Caribbean small states\", \"Early-demographic dividend\", \"East Asia & Pacific (excluding high income)\", \"East Asia & Pacific (IDA & IBRD countries)\", \"Heavily indebted poor countries (HIPC)\", \"Late-demographic dividend\", \"Least developed countries: UN classification\", \"Central African Republic\", \"Low & middle income\", \"Lower middle income\", \"Middle East & North Africa\", \"Middle East & North Africa (excluding high income)\", \"Middle East & North Africa (IDA & IBRD countries)\", \"Middle income\", \"Pre-demographic dividend\", \"South Asia\", \"Low income\", \"Mauritania\", \"Zambia\", \"Comoros\", \"Yemen, Rep.\", \"India\", \"Indonesia\", \"Iran, Islamic Rep.\", \"Jamaica\", \"Kazakhstan\", \"Kenya\", \"Korea, Rep.\", \"Kuwait\", \"Kyrgyz Republic\", \"Lao PDR\", \"Libya\", \"Madagascar\", \"Malaysia\", \"Mali\", \"China\", \"Guinea-Bissau\", \"Haiti\", \"Guatemala\", \"Congo, Dem. Rep.\", \"Congo, Rep.\", \"Cote d'Ivoire\", \"Cyprus\", \"Dominican Republic\", \"Ecuador\", \"Egypt, Arab Rep.\", \"Equatorial Guinea\", \"Eritrea\", \"Ethiopia\", \"Fiji\", \"Gabon\", \"Gambia, The\", \"Georgia\", \"Ghana\", \"Guinea\"], \"textposition\": \"top center\", \"type\": \"scatter\", \"x\": [-6.838127133689372, -9.484297119000681, -7.481534537789983, -15.11526667768679, -8.0099704622005, -3.709945822543768, -4.343995899371722, -7.527412152427506, -12.093503451711781, -10.187893573210124, -5.982304037394747, -9.033280310482066, -8.34993440852866, -10.7401637209542, -6.704510490114223, -8.637772998311174, -10.783145859486595, -6.071121988048263, -4.862787780405474, -6.897017132517401, -7.128722124865843, -5.193398208285049, -4.536767858980432, -7.808119101950003, -7.410104286952265, -7.287596977267267, -10.375982305040118, -4.701430209018233, -3.3258792623976925, -13.274173398510674, -5.7830515182741244, -5.28060194247648, -7.183762362692117, -5.978111640505859, -8.739668478685987, -3.5565463908430774, -5.665968771045835, -6.1758384619265, -8.8877011054299, -11.990190347513366, -3.4727360186098393, -5.140448924477463, -12.279275148006182, -3.6782325952668047, -6.759047335826221, -5.553747628790428, -3.5927102273363105, -3.9114615341007193, -9.835625771928305, -11.816550848843821, -5.726460400774469, -5.733959228379499, -5.726460400774469, -11.717744407779506, -3.5335523602755807, -5.874889989411106, -7.338891894395104, -7.338891894395102, -6.779112802141312, -3.4865834565786367, -8.473369637629364, -8.328928193317836, -5.029770548401174, -10.12208829043547, -4.754617117667594, -5.6689371743232835, -5.6689371743232835, -5.002990850532889, -8.803685060464211, -11.717744407779506, -6.935487657597175, -8.209723823671501, -3.718335935066663, -7.131632386667641, -9.08405838904044, -11.64996360056128, -12.53819234803707, -6.29493372530749, -4.2763390860391794, -6.102007952138874, -7.505875796444623, -3.842269509289177, -5.756711635031171, -3.482951191502168, -11.157062106263886, -6.851591572318085, -6.318006421470661, -7.845046648174215, -4.999397273875959, -7.085967768499033, -10.52832969892298, -9.33543422069262, -7.2795343806145585, -12.749904411139479, -8.321722617418871, -9.491378675550758, -4.343442425602127, -7.780851195519921, -7.790551996098864, -7.622396289866976, -6.338709691007325, -9.859076847688465, -5.804870493017629, -4.139888379414401, -9.64411915861642, -5.068430173668127, -10.269095235769905, -5.329248830030671, -10.94554042621343], \"xaxis\": \"x\", \"y\": [-2.1054224181312517, -0.6743398818959013, -0.837773061289016, -0.028339201058388965, 0.8228560527689587, 2.5255249894814966, 1.289877638426681, -0.36883114624597113, 0.31707827709695074, -1.5314700249093545, 2.123293254630933, 0.9368375328552409, 1.9279965762758615, -0.35646060776214494, -1.212219561328002, -0.4796246484431998, 0.3453398942374639, 2.053568828482675, -0.6462077405756084, -0.8646847381552383, -0.4874435073466264, -0.14709501047151036, -0.5039192162486804, 3.6314570197613825, -0.09849466670467585, 1.7017615075616381, 0.6894459850578996, 0.41004174217124434, -1.7654684443955149, 0.1519555139871271, 1.8771059208222196, -0.005353811348649069, 0.269614037976079, 0.060087273871189145, 2.0067347015121886, 0.014294049568387578, -0.2991488213101728, 1.0483999724431234, 0.2338035573351899, 0.6302439716252003, -0.4216974744697445, 1.0191811139862552, 0.9292942917451482, -1.553841067125939, 0.2722175266084948, 2.0371987618496568, -1.1581411492570501, -4.799628678285951, 1.320370034410966, 0.4203891767923587, 0.855292406191082, 0.8502496554360927, 0.855292406191082, 0.39968228249469306, 0.4273170989236, 0.5811594934368999, -0.9944962782369446, -0.9944962782369445, -0.5068844372590348, 0.03421941894983672, -0.09237404974594536, 0.5463133582843177, 0.055592760544055694, 0.47506045021065135, 0.4487598516474099, -0.3826301018191773, -0.3826301018191773, 0.06441920890858716, -0.17604580883604506, 0.39968228249469306, -0.5257808006280743, 2.0017941573755866, 2.117893316914127, 1.2418292146067682, 1.9725459159480585, 0.4387840994705089, 0.15993643922619083, -0.4299112429353996, 0.818304173500739, 1.4083207333161525, -0.6464163056969573, -2.5218613664014, 1.9781672804329198, -1.3346870062550664, 1.9136966118668464, -0.8158920238856169, 0.8693110544295612, 0.02881027663560581, 1.4976155459698757, -1.0585595028827899, 1.029264975053775, 2.009609502540951, -0.010123131376214865, -1.7875193250832506, -1.176103741966348, 0.8968873316434841, -1.129575189688764, -0.7418307711572959, -1.9995631693860632, 0.8432791724505591, -0.054473415667810145, 1.4370530974830713, -1.6067288163268219, 0.8117649007612818, -0.9218388760417181, -4.230259164337702, -0.2889516151239778, -1.758457647299846, -1.145121519851282], \"yaxis\": \"y\"}, {\"hoverlabel\": {\"namelength\": 0}, \"hovertemplate\": \"Cluster=Cluster 3<br>PCA1=%{x}<br>PCA2=%{y}<br>Label=%{text}\", \"legendgroup\": \"Cluster=Cluster 3\", \"marker\": {\"color\": \"#ab63fa\", \"opacity\": 0.5, \"symbol\": \"circle\"}, \"mode\": \"markers+text\", \"name\": \"Cluster=Cluster 3\", \"showlegend\": true, \"text\": [\"Nauru\", \"Tuvalu\", \"Marshall Islands\"], \"textposition\": \"top center\", \"type\": \"scatter\", \"x\": [32.54294615578061, 49.13614546484315, 55.908067724687456], \"xaxis\": \"x\", \"y\": [14.525514048370503, -4.779342617786482, 11.19015475718291], \"yaxis\": \"y\"}],\n",
       "                        {\"height\": 600, \"legend\": {\"tracegroupgap\": 0}, \"margin\": {\"t\": 60}, \"plot_bgcolor\": \"rgb(240,240,240)\", \"template\": {\"data\": {\"bar\": [{\"error_x\": {\"color\": \"#2a3f5f\"}, \"error_y\": {\"color\": \"#2a3f5f\"}, \"marker\": {\"line\": {\"color\": \"#E5ECF6\", \"width\": 0.5}}, \"type\": \"bar\"}], \"barpolar\": [{\"marker\": {\"line\": {\"color\": \"#E5ECF6\", \"width\": 0.5}}, \"type\": \"barpolar\"}], \"carpet\": [{\"aaxis\": {\"endlinecolor\": \"#2a3f5f\", \"gridcolor\": \"white\", \"linecolor\": \"white\", \"minorgridcolor\": \"white\", \"startlinecolor\": \"#2a3f5f\"}, \"baxis\": {\"endlinecolor\": \"#2a3f5f\", \"gridcolor\": \"white\", \"linecolor\": \"white\", \"minorgridcolor\": \"white\", \"startlinecolor\": \"#2a3f5f\"}, \"type\": \"carpet\"}], \"choropleth\": [{\"colorbar\": {\"outlinewidth\": 0, \"ticks\": \"\"}, \"type\": \"choropleth\"}], \"contour\": [{\"colorbar\": {\"outlinewidth\": 0, \"ticks\": \"\"}, \"colorscale\": [[0.0, \"#0d0887\"], [0.1111111111111111, \"#46039f\"], [0.2222222222222222, \"#7201a8\"], [0.3333333333333333, \"#9c179e\"], [0.4444444444444444, \"#bd3786\"], [0.5555555555555556, \"#d8576b\"], [0.6666666666666666, \"#ed7953\"], [0.7777777777777778, \"#fb9f3a\"], [0.8888888888888888, \"#fdca26\"], [1.0, \"#f0f921\"]], \"type\": \"contour\"}], \"contourcarpet\": [{\"colorbar\": {\"outlinewidth\": 0, \"ticks\": \"\"}, \"type\": \"contourcarpet\"}], \"heatmap\": [{\"colorbar\": {\"outlinewidth\": 0, \"ticks\": \"\"}, \"colorscale\": [[0.0, \"#0d0887\"], [0.1111111111111111, \"#46039f\"], [0.2222222222222222, \"#7201a8\"], [0.3333333333333333, \"#9c179e\"], [0.4444444444444444, \"#bd3786\"], [0.5555555555555556, \"#d8576b\"], [0.6666666666666666, \"#ed7953\"], [0.7777777777777778, \"#fb9f3a\"], [0.8888888888888888, \"#fdca26\"], [1.0, \"#f0f921\"]], \"type\": \"heatmap\"}], \"heatmapgl\": [{\"colorbar\": {\"outlinewidth\": 0, \"ticks\": \"\"}, \"colorscale\": [[0.0, \"#0d0887\"], [0.1111111111111111, \"#46039f\"], [0.2222222222222222, \"#7201a8\"], [0.3333333333333333, \"#9c179e\"], [0.4444444444444444, \"#bd3786\"], [0.5555555555555556, \"#d8576b\"], [0.6666666666666666, \"#ed7953\"], [0.7777777777777778, \"#fb9f3a\"], [0.8888888888888888, \"#fdca26\"], [1.0, \"#f0f921\"]], \"type\": \"heatmapgl\"}], \"histogram\": [{\"marker\": {\"colorbar\": {\"outlinewidth\": 0, \"ticks\": \"\"}}, \"type\": \"histogram\"}], \"histogram2d\": [{\"colorbar\": {\"outlinewidth\": 0, \"ticks\": \"\"}, \"colorscale\": [[0.0, \"#0d0887\"], [0.1111111111111111, \"#46039f\"], [0.2222222222222222, \"#7201a8\"], [0.3333333333333333, \"#9c179e\"], [0.4444444444444444, \"#bd3786\"], [0.5555555555555556, \"#d8576b\"], [0.6666666666666666, \"#ed7953\"], [0.7777777777777778, \"#fb9f3a\"], [0.8888888888888888, \"#fdca26\"], [1.0, \"#f0f921\"]], \"type\": \"histogram2d\"}], \"histogram2dcontour\": [{\"colorbar\": {\"outlinewidth\": 0, \"ticks\": \"\"}, \"colorscale\": [[0.0, \"#0d0887\"], [0.1111111111111111, \"#46039f\"], [0.2222222222222222, \"#7201a8\"], [0.3333333333333333, \"#9c179e\"], [0.4444444444444444, \"#bd3786\"], [0.5555555555555556, \"#d8576b\"], [0.6666666666666666, \"#ed7953\"], [0.7777777777777778, \"#fb9f3a\"], [0.8888888888888888, \"#fdca26\"], [1.0, \"#f0f921\"]], \"type\": \"histogram2dcontour\"}], \"mesh3d\": [{\"colorbar\": {\"outlinewidth\": 0, \"ticks\": \"\"}, \"type\": \"mesh3d\"}], \"parcoords\": [{\"line\": {\"colorbar\": {\"outlinewidth\": 0, \"ticks\": \"\"}}, \"type\": \"parcoords\"}], \"pie\": [{\"automargin\": true, \"type\": \"pie\"}], \"scatter\": [{\"marker\": {\"colorbar\": {\"outlinewidth\": 0, \"ticks\": \"\"}}, \"type\": \"scatter\"}], \"scatter3d\": [{\"line\": {\"colorbar\": {\"outlinewidth\": 0, \"ticks\": \"\"}}, \"marker\": {\"colorbar\": {\"outlinewidth\": 0, \"ticks\": \"\"}}, \"type\": \"scatter3d\"}], \"scattercarpet\": [{\"marker\": {\"colorbar\": {\"outlinewidth\": 0, \"ticks\": \"\"}}, \"type\": \"scattercarpet\"}], \"scattergeo\": [{\"marker\": {\"colorbar\": {\"outlinewidth\": 0, \"ticks\": \"\"}}, \"type\": \"scattergeo\"}], \"scattergl\": [{\"marker\": {\"colorbar\": {\"outlinewidth\": 0, \"ticks\": \"\"}}, \"type\": \"scattergl\"}], \"scattermapbox\": [{\"marker\": {\"colorbar\": {\"outlinewidth\": 0, \"ticks\": \"\"}}, \"type\": \"scattermapbox\"}], \"scatterpolar\": [{\"marker\": {\"colorbar\": {\"outlinewidth\": 0, \"ticks\": \"\"}}, \"type\": \"scatterpolar\"}], \"scatterpolargl\": [{\"marker\": {\"colorbar\": {\"outlinewidth\": 0, \"ticks\": \"\"}}, \"type\": \"scatterpolargl\"}], \"scatterternary\": [{\"marker\": {\"colorbar\": {\"outlinewidth\": 0, \"ticks\": \"\"}}, \"type\": \"scatterternary\"}], \"surface\": [{\"colorbar\": {\"outlinewidth\": 0, \"ticks\": \"\"}, \"colorscale\": [[0.0, \"#0d0887\"], [0.1111111111111111, \"#46039f\"], [0.2222222222222222, \"#7201a8\"], [0.3333333333333333, \"#9c179e\"], [0.4444444444444444, \"#bd3786\"], [0.5555555555555556, \"#d8576b\"], [0.6666666666666666, \"#ed7953\"], [0.7777777777777778, \"#fb9f3a\"], [0.8888888888888888, \"#fdca26\"], [1.0, \"#f0f921\"]], \"type\": \"surface\"}], \"table\": [{\"cells\": {\"fill\": {\"color\": \"#EBF0F8\"}, \"line\": {\"color\": \"white\"}}, \"header\": {\"fill\": {\"color\": \"#C8D4E3\"}, \"line\": {\"color\": \"white\"}}, \"type\": \"table\"}]}, \"layout\": {\"annotationdefaults\": {\"arrowcolor\": \"#2a3f5f\", \"arrowhead\": 0, \"arrowwidth\": 1}, \"coloraxis\": {\"colorbar\": {\"outlinewidth\": 0, \"ticks\": \"\"}}, \"colorscale\": {\"diverging\": [[0, \"#8e0152\"], [0.1, \"#c51b7d\"], [0.2, \"#de77ae\"], [0.3, \"#f1b6da\"], [0.4, \"#fde0ef\"], [0.5, \"#f7f7f7\"], [0.6, \"#e6f5d0\"], [0.7, \"#b8e186\"], [0.8, \"#7fbc41\"], [0.9, \"#4d9221\"], [1, \"#276419\"]], \"sequential\": [[0.0, \"#0d0887\"], [0.1111111111111111, \"#46039f\"], [0.2222222222222222, \"#7201a8\"], [0.3333333333333333, \"#9c179e\"], [0.4444444444444444, \"#bd3786\"], [0.5555555555555556, \"#d8576b\"], [0.6666666666666666, \"#ed7953\"], [0.7777777777777778, \"#fb9f3a\"], [0.8888888888888888, \"#fdca26\"], [1.0, \"#f0f921\"]], \"sequentialminus\": [[0.0, \"#0d0887\"], [0.1111111111111111, \"#46039f\"], [0.2222222222222222, \"#7201a8\"], [0.3333333333333333, \"#9c179e\"], [0.4444444444444444, \"#bd3786\"], [0.5555555555555556, \"#d8576b\"], [0.6666666666666666, \"#ed7953\"], [0.7777777777777778, \"#fb9f3a\"], [0.8888888888888888, \"#fdca26\"], [1.0, \"#f0f921\"]]}, \"colorway\": [\"#636efa\", \"#EF553B\", \"#00cc96\", \"#ab63fa\", \"#FFA15A\", \"#19d3f3\", \"#FF6692\", \"#B6E880\", \"#FF97FF\", \"#FECB52\"], \"font\": {\"color\": \"#2a3f5f\"}, \"geo\": {\"bgcolor\": \"white\", \"lakecolor\": \"white\", \"landcolor\": \"#E5ECF6\", \"showlakes\": true, \"showland\": true, \"subunitcolor\": \"white\"}, \"hoverlabel\": {\"align\": \"left\"}, \"hovermode\": \"closest\", \"mapbox\": {\"style\": \"light\"}, \"paper_bgcolor\": \"white\", \"plot_bgcolor\": \"#E5ECF6\", \"polar\": {\"angularaxis\": {\"gridcolor\": \"white\", \"linecolor\": \"white\", \"ticks\": \"\"}, \"bgcolor\": \"#E5ECF6\", \"radialaxis\": {\"gridcolor\": \"white\", \"linecolor\": \"white\", \"ticks\": \"\"}}, \"scene\": {\"xaxis\": {\"backgroundcolor\": \"#E5ECF6\", \"gridcolor\": \"white\", \"gridwidth\": 2, \"linecolor\": \"white\", \"showbackground\": true, \"ticks\": \"\", \"zerolinecolor\": \"white\"}, \"yaxis\": {\"backgroundcolor\": \"#E5ECF6\", \"gridcolor\": \"white\", \"gridwidth\": 2, \"linecolor\": \"white\", \"showbackground\": true, \"ticks\": \"\", \"zerolinecolor\": \"white\"}, \"zaxis\": {\"backgroundcolor\": \"#E5ECF6\", \"gridcolor\": \"white\", \"gridwidth\": 2, \"linecolor\": \"white\", \"showbackground\": true, \"ticks\": \"\", \"zerolinecolor\": \"white\"}}, \"shapedefaults\": {\"line\": {\"color\": \"#2a3f5f\"}}, \"ternary\": {\"aaxis\": {\"gridcolor\": \"white\", \"linecolor\": \"white\", \"ticks\": \"\"}, \"baxis\": {\"gridcolor\": \"white\", \"linecolor\": \"white\", \"ticks\": \"\"}, \"bgcolor\": \"#E5ECF6\", \"caxis\": {\"gridcolor\": \"white\", \"linecolor\": \"white\", \"ticks\": \"\"}}, \"title\": {\"x\": 0.05}, \"xaxis\": {\"automargin\": true, \"gridcolor\": \"white\", \"linecolor\": \"white\", \"ticks\": \"\", \"title\": {\"standoff\": 15}, \"zerolinecolor\": \"white\", \"zerolinewidth\": 2}, \"yaxis\": {\"automargin\": true, \"gridcolor\": \"white\", \"linecolor\": \"white\", \"ticks\": \"\", \"title\": {\"standoff\": 15}, \"zerolinecolor\": \"white\", \"zerolinewidth\": 2}}}, \"title\": {\"text\": \"2D Cluster PCA Plot\"}, \"xaxis\": {\"anchor\": \"y\", \"domain\": [0.0, 1.0], \"title\": {\"text\": \"PCA1\"}}, \"yaxis\": {\"anchor\": \"x\", \"domain\": [0.0, 1.0], \"title\": {\"text\": \"PCA2\"}}},\n",
       "                        {\"responsive\": true}\n",
       "                    ).then(function(){\n",
       "                            \n",
       "var gd = document.getElementById('807c8121-36ac-4e89-9c04-f31a5369d666');\n",
       "var x = new MutationObserver(function (mutations, observer) {{\n",
       "        var display = window.getComputedStyle(gd).display;\n",
       "        if (!display || display === 'none') {{\n",
       "            console.log([gd, 'removed!']);\n",
       "            Plotly.purge(gd);\n",
       "            observer.disconnect();\n",
       "        }}\n",
       "}});\n",
       "\n",
       "// Listen for the removal of the full notebook cells\n",
       "var notebookContainer = gd.closest('#notebook-container');\n",
       "if (notebookContainer) {{\n",
       "    x.observe(notebookContainer, {childList: true});\n",
       "}}\n",
       "\n",
       "// Listen for the clearing of the current output cell\n",
       "var outputEl = gd.closest('.output');\n",
       "if (outputEl) {{\n",
       "    x.observe(outputEl, {childList: true});\n",
       "}}\n",
       "\n",
       "                        })\n",
       "                };\n",
       "                });\n",
       "            </script>\n",
       "        </div>"
      ]
     },
     "metadata": {},
     "output_type": "display_data"
    }
   ],
   "source": [
    "plot_model(kmeans, feature = 'Country Name', label=True)"
   ]
  },
  {
   "cell_type": "code",
   "execution_count": 10,
   "metadata": {},
   "outputs": [
    {
     "data": {
      "text/html": [
       "        <script type=\"text/javascript\">\n",
       "        window.PlotlyConfig = {MathJaxConfig: 'local'};\n",
       "        if (window.MathJax) {MathJax.Hub.Config({SVG: {font: \"STIX-Web\"}});}\n",
       "        if (typeof require !== 'undefined') {\n",
       "        require.undef(\"plotly\");\n",
       "        requirejs.config({\n",
       "            paths: {\n",
       "                'plotly': ['https://cdn.plot.ly/plotly-latest.min']\n",
       "            }\n",
       "        });\n",
       "        require(['plotly'], function(Plotly) {\n",
       "            window._Plotly = Plotly;\n",
       "        });\n",
       "        }\n",
       "        </script>\n",
       "        "
      ]
     },
     "metadata": {},
     "output_type": "display_data"
    },
    {
     "data": {
      "application/vnd.plotly.v1+json": {
       "config": {
        "plotlyServerURL": "https://plot.ly"
       },
       "data": [
        {
         "customdata": [
          [
           "Honduras"
          ],
          [
           "Dominica"
          ],
          [
           "Djibouti"
          ],
          [
           "Samoa"
          ],
          [
           "San Marino"
          ],
          [
           "Sao Tome and Principe"
          ],
          [
           "Colombia"
          ],
          [
           "Chile"
          ],
          [
           "Cabo Verde"
          ],
          [
           "Solomon Islands"
          ],
          [
           "Bulgaria"
          ],
          [
           "South Africa"
          ],
          [
           "Brazil"
          ],
          [
           "Botswana"
          ],
          [
           "Bolivia"
          ],
          [
           "Bhutan"
          ],
          [
           "Belarus"
          ],
          [
           "Barbados"
          ],
          [
           "St. Lucia"
          ],
          [
           "St. Vincent and the Grenadines"
          ],
          [
           "Russian Federation"
          ],
          [
           "Suriname"
          ],
          [
           "Romania"
          ],
          [
           "Estonia"
          ],
          [
           "Moldova"
          ],
          [
           "Malawi"
          ],
          [
           "Monaco"
          ],
          [
           "Macedonia, FYR"
          ],
          [
           "Lithuania"
          ],
          [
           "Lebanon"
          ],
          [
           "Latvia"
          ],
          [
           "Montenegro"
          ],
          [
           "Mozambique"
          ],
          [
           "Namibia"
          ],
          [
           "Jordan"
          ],
          [
           "Israel"
          ],
          [
           "Nicaragua"
          ],
          [
           "Hungary"
          ],
          [
           "Guyana"
          ],
          [
           "Grenada"
          ],
          [
           "Panama"
          ],
          [
           "Papua New Guinea"
          ],
          [
           "Poland"
          ],
          [
           "El Salvador"
          ],
          [
           "Argentina"
          ],
          [
           "Seychelles"
          ],
          [
           "Swaziland"
          ],
          [
           "Small states"
          ],
          [
           "Tonga"
          ],
          [
           "Vanuatu"
          ],
          [
           "Pacific island small states"
          ],
          [
           "Other small states"
          ],
          [
           "Tunisia"
          ],
          [
           "East Asia & Pacific"
          ],
          [
           "Turkey"
          ],
          [
           "Ukraine"
          ],
          [
           "Antigua and Barbuda"
          ],
          [
           "Europe & Central Asia (IDA & IBRD countries)"
          ],
          [
           "Latin America & the Caribbean (IDA & IBRD countries)"
          ],
          [
           "Latin America & Caribbean (excluding high income)"
          ],
          [
           "Latin America & Caribbean"
          ],
          [
           "Europe & Central Asia (excluding high income)"
          ],
          [
           "Thailand"
          ],
          [
           "Uruguay"
          ],
          [
           "Central Europe and the Baltics"
          ],
          [
           "Algeria"
          ],
          [
           "Andorra"
          ]
         ],
         "hoverlabel": {
          "namelength": 0
         },
         "hovertemplate": "Cluster=Cluster 0<br>0=%{x}<br>1=%{y}<br>2=%{z}<br>Feature=%{customdata[0]}",
         "legendgroup": "Cluster=Cluster 0",
         "marker": {
          "color": "#636efa",
          "opacity": 0.7,
          "symbol": "circle"
         },
         "mode": "markers",
         "name": "Cluster=Cluster 0",
         "scene": "scene",
         "showlegend": true,
         "type": "scatter3d",
         "x": [
          -126.78446960449219,
          -32.37543487548828,
          -19.36821746826172,
          -18.89223289489746,
          144.3787078857422,
          -73.21328735351562,
          -42.71407699584961,
          -27.84712028503418,
          74.90287780761719,
          11.832152366638184,
          -87.12774658203125,
          133.77809143066406,
          -90.86527252197266,
          -109.42573547363281,
          -88.20365142822266,
          -76.91995239257812,
          -91.02154541015625,
          -32.2028694152832,
          -27.2868595123291,
          -57.80535125732422,
          -108.08625030517578,
          -80.39252471923828,
          -107.40230560302734,
          -133.89035034179688,
          -124.98924255371094,
          8.11201000213623,
          -66.80313873291016,
          -78.32198333740234,
          -114.07943725585938,
          -2.4837732315063477,
          -116.26299285888672,
          -40.849178314208984,
          -66.57929992675781,
          -14.147893905639648,
          -37.86670684814453,
          -122.67259979248047,
          -52.52400588989258,
          -70.49372100830078,
          -101.6419448852539,
          -31.854501724243164,
          22.719388961791992,
          -106.13804626464844,
          -65.93650817871094,
          -70.15404510498047,
          -66.82675170898438,
          7.206932067871094,
          -45.80060577392578,
          -44.320133209228516,
          -124.49557495117188,
          -91.65505981445312,
          -43.67847442626953,
          -27.566049575805664,
          -50.18693161010742,
          -70.46929168701172,
          -45.12035369873047,
          -40.63631820678711,
          -59.46231460571289,
          104.69760131835938,
          102.19699096679688,
          -79.22418975830078,
          -79.26667785644531,
          -88.33302307128906,
          -9.479289054870605,
          -42.430625915527344,
          154.92051696777344,
          -60.429378509521484,
          82.88695526123047
         ],
         "y": [
          43.15277099609375,
          -10.89283275604248,
          -24.421171188354492,
          -92.1946029663086,
          129.49444580078125,
          41.3981819152832,
          -23.111337661743164,
          44.28285217285156,
          -116.93305206298828,
          -15.740466117858887,
          -21.407833099365234,
          -48.601226806640625,
          45.268795013427734,
          74.9503173828125,
          33.87964630126953,
          -37.77450942993164,
          -60.04612350463867,
          -47.31461715698242,
          19.260692596435547,
          24.68792724609375,
          -110.743408203125,
          -52.72629928588867,
          -3.811255693435669,
          -72.65250396728516,
          -44.520538330078125,
          -30.29142951965332,
          19.481428146362305,
          -32.62969970703125,
          -39.35870361328125,
          -23.85220718383789,
          20.2210750579834,
          -140.74462890625,
          7.367926120758057,
          -64.85199737548828,
          -86.46775817871094,
          -39.187164306640625,
          -4.034049987792969,
          -87.078857421875,
          -74.50845336914062,
          -10.110224723815918,
          -60.68466567993164,
          -2.7893710136413574,
          -45.02962112426758,
          2.2084994316101074,
          -71.01929473876953,
          -18.65491485595703,
          -85.18721008300781,
          -30.196495056152344,
          21.637052536010742,
          29.188814163208008,
          -21.467952728271484,
          -10.298230171203613,
          37.224632263183594,
          72.28972625732422,
          19.837854385375977,
          -39.084259033203125,
          64.85214233398438,
          -100.50811004638672,
          -79.002685546875,
          52.88836669921875,
          21.779090881347656,
          2.4989407062530518,
          23.948307037353516,
          -19.20369529724121,
          57.39501953125,
          62.94207000732422,
          -137.23312377929688
         ],
         "z": [
          29.807958602905273,
          -25.67173957824707,
          124.5315170288086,
          -40.57310485839844,
          -34.887657165527344,
          -89.9435806274414,
          83.33155822753906,
          -17.19514274597168,
          12.633121490478516,
          96.05663299560547,
          16.357215881347656,
          -13.559488296508789,
          48.78775405883789,
          -8.385662078857422,
          -34.03363800048828,
          -27.457378387451172,
          6.517147064208984,
          -44.499725341796875,
          18.380664825439453,
          -9.462685585021973,
          38.46765899658203,
          -66.57456970214844,
          46.36784744262695,
          14.267641067504883,
          -92.97856140136719,
          149.65750122070312,
          61.128910064697266,
          80.01795959472656,
          -23.70490074157715,
          0.8011439442634583,
          -3.233625888824463,
          -68.75605010986328,
          -83.13336181640625,
          -13.865184783935547,
          9.562644004821777,
          14.643394470214844,
          7.726006031036377,
          26.00888442993164,
          -27.922414779663086,
          -113.27445220947266,
          7.004746913909912,
          -73.03219604492188,
          37.03928756713867,
          -40.196353912353516,
          -25.442922592163086,
          32.239994049072266,
          -72.35624694824219,
          -86.91000366210938,
          -46.444637298583984,
          87.101806640625,
          41.75047302246094,
          -72.31778717041016,
          36.9173469543457,
          -45.84349822998047,
          112.41606903076172,
          3.3442492485046387,
          52.71244812011719,
          34.306846618652344,
          -16.136449813842773,
          13.833440780639648,
          25.74953842163086,
          -8.760519981384277,
          121.27063751220703,
          155.79559326171875,
          1.765377163887024,
          97.37370300292969,
          71.88475799560547
         ]
        },
        {
         "customdata": [
          [
           "Micronesia, Fed. Sts."
          ],
          [
           "Kiribati"
          ],
          [
           "Finland"
          ],
          [
           "France"
          ],
          [
           "United Kingdom"
          ],
          [
           "Germany"
          ],
          [
           "Malta"
          ],
          [
           "Greece"
          ],
          [
           "Portugal"
          ],
          [
           "Austria"
          ],
          [
           "European Union"
          ],
          [
           "Japan"
          ],
          [
           "Australia"
          ],
          [
           "Norway"
          ],
          [
           "Netherlands"
          ],
          [
           "United States"
          ],
          [
           "Iceland"
          ],
          [
           "Italy"
          ],
          [
           "High income"
          ],
          [
           "New Zealand"
          ],
          [
           "Palau"
          ],
          [
           "World"
          ],
          [
           "Sweden"
          ],
          [
           "Cuba"
          ],
          [
           "Switzerland"
          ],
          [
           "Slovak Republic"
          ],
          [
           "Post-demographic dividend"
          ],
          [
           "Serbia"
          ],
          [
           "Spain"
          ],
          [
           "Lesotho"
          ],
          [
           "Europe & Central Asia"
          ],
          [
           "Maldives"
          ],
          [
           "Costa Rica"
          ],
          [
           "Canada"
          ],
          [
           "OECD members"
          ],
          [
           "Croatia"
          ],
          [
           "Ireland"
          ],
          [
           "North America"
          ],
          [
           "Czech Republic"
          ],
          [
           "Denmark"
          ],
          [
           "Euro area"
          ],
          [
           "Belgium"
          ],
          [
           "Slovenia"
          ],
          [
           "Bosnia and Herzegovina"
          ],
          [
           "Luxembourg"
          ]
         ],
         "hoverlabel": {
          "namelength": 0
         },
         "hovertemplate": "Cluster=Cluster 1<br>0=%{x}<br>1=%{y}<br>2=%{z}<br>Feature=%{customdata[0]}",
         "legendgroup": "Cluster=Cluster 1",
         "marker": {
          "color": "#EF553B",
          "opacity": 0.7,
          "symbol": "circle"
         },
         "mode": "markers",
         "name": "Cluster=Cluster 1",
         "scene": "scene",
         "showlegend": true,
         "type": "scatter3d",
         "x": [
          -88.11402130126953,
          -77.82678985595703,
          -3.2598507404327393,
          69.15101623535156,
          62.150917053222656,
          -62.651519775390625,
          39.013641357421875,
          -165.47891235351562,
          28.766172409057617,
          -16.432161331176758,
          -45.083587646484375,
          3.839843511581421,
          133.85647583007812,
          119.4168472290039,
          -0.717315137386322,
          -20.354429244995117,
          -46.77958297729492,
          46.70835876464844,
          -121.00655364990234,
          -7.714614391326904,
          -49.09074020385742,
          -0.33314478397369385,
          -23.45708465576172,
          -70.70803833007812,
          -28.60447883605957,
          146.1763153076172,
          -61.69521713256836,
          33.783409118652344,
          -8.393195152282715,
          -54.229312896728516,
          35.87360763549805,
          -15.129674911499023,
          14.839582443237305,
          -95.42417907714844,
          -92.32735443115234,
          -24.840633392333984,
          -66.70491790771484,
          27.943151473999023,
          13.072808265686035,
          107.1348648071289,
          -0.721197783946991,
          124.7112808227539,
          57.04808044433594,
          -78.05878448486328,
          -6.431966304779053
         ],
         "y": [
          -126.9201431274414,
          -156.75404357910156,
          -79.89331817626953,
          144.38970947265625,
          -85.13299560546875,
          -158.81649780273438,
          -105.92500305175781,
          21.67371940612793,
          -54.23844528198242,
          -88.68746185302734,
          -124.76695251464844,
          -148.7276611328125,
          84.49352264404297,
          -59.72150421142578,
          -131.11471557617188,
          -128.93605041503906,
          -126.6605224609375,
          -49.89215850830078,
          -48.41311264038086,
          -154.22496032714844,
          -157.38629150390625,
          -86.60478973388672,
          -167.145263671875,
          -124.84716033935547,
          -90.49507904052734,
          38.930938720703125,
          -98.65646362304688,
          -74.273193359375,
          -54.480194091796875,
          -65.10554504394531,
          -100.59464263916016,
          -76.20425415039062,
          -88.88796997070312,
          -80.30970764160156,
          -76.20366668701172,
          -70.443115234375,
          -111.35395050048828,
          -130.28440856933594,
          -63.591773986816406,
          -23.377288818359375,
          -114.7765121459961,
          70.27677154541016,
          -73.69287109375,
          -70.50360870361328,
          -107.39778900146484
         ],
         "z": [
          -53.52519226074219,
          -26.66226577758789,
          104.28823852539062,
          101.33555603027344,
          72.46026611328125,
          11.565646171569824,
          105.19086456298828,
          -1.5903586149215698,
          87.3612289428711,
          -116.48747253417969,
          41.51200866699219,
          47.47815704345703,
          38.59931564331055,
          38.0098876953125,
          1.9415256977081299,
          86.91291809082031,
          -9.291139602661133,
          58.44478988647461,
          78.07772064208984,
          -24.594953536987305,
          65.52398681640625,
          23.265583038330078,
          18.08367347717285,
          104.923583984375,
          83.19931030273438,
          39.76939392089844,
          70.93531036376953,
          122.31250762939453,
          77.23844909667969,
          124.7575454711914,
          45.915184020996094,
          147.10231018066406,
          75.09368896484375,
          101.19279479980469,
          64.2965087890625,
          49.403751373291016,
          -106.01885986328125,
          26.022544860839844,
          47.3941535949707,
          22.0814266204834,
          -82.36180114746094,
          91.43154907226562,
          31.820758819580078,
          -111.32955932617188,
          52.63199234008789
         ]
        },
        {
         "customdata": [
          [
           "Vietnam"
          ],
          [
           "Morocco"
          ],
          [
           "Nepal"
          ],
          [
           "Myanmar"
          ],
          [
           "Venezuela, RB"
          ],
          [
           "Mongolia"
          ],
          [
           "Uzbekistan"
          ],
          [
           "United Arab Emirates"
          ],
          [
           "Nigeria"
          ],
          [
           "Sudan"
          ],
          [
           "St. Kitts and Nevis"
          ],
          [
           "Sri Lanka"
          ],
          [
           "Syrian Arab Republic"
          ],
          [
           "Tajikistan"
          ],
          [
           "Tanzania"
          ],
          [
           "Togo"
          ],
          [
           "Singapore"
          ],
          [
           "Sierra Leone"
          ],
          [
           "Mexico"
          ],
          [
           "Niger"
          ],
          [
           "Senegal"
          ],
          [
           "Trinidad and Tobago"
          ],
          [
           "Rwanda"
          ],
          [
           "Turkmenistan"
          ],
          [
           "Uganda"
          ],
          [
           "Qatar"
          ],
          [
           "Philippines"
          ],
          [
           "Peru"
          ],
          [
           "Paraguay"
          ],
          [
           "Pakistan"
          ],
          [
           "Oman"
          ],
          [
           "Saudi Arabia"
          ],
          [
           "Mauritius"
          ],
          [
           "Arab World"
          ],
          [
           "Chad"
          ],
          [
           "Upper middle income"
          ],
          [
           "Albania"
          ],
          [
           "Angola"
          ],
          [
           "Armenia"
          ],
          [
           "Azerbaijan"
          ],
          [
           "Bahamas, The"
          ],
          [
           "Bahrain"
          ],
          [
           "Bangladesh"
          ],
          [
           "Belize"
          ],
          [
           "Benin"
          ],
          [
           "Brunei Darussalam"
          ],
          [
           "Burkina Faso"
          ],
          [
           "Burundi"
          ],
          [
           "Cambodia"
          ],
          [
           "Cameroon"
          ],
          [
           "Sub-Saharan Africa (IDA & IBRD countries)"
          ],
          [
           "Sub-Saharan Africa (excluding high income)"
          ],
          [
           "Sub-Saharan Africa"
          ],
          [
           "South Asia (IDA & IBRD)"
          ],
          [
           "Caribbean small states"
          ],
          [
           "Early-demographic dividend"
          ],
          [
           "East Asia & Pacific (excluding high income)"
          ],
          [
           "East Asia & Pacific (IDA & IBRD countries)"
          ],
          [
           "Heavily indebted poor countries (HIPC)"
          ],
          [
           "Late-demographic dividend"
          ],
          [
           "Least developed countries: UN classification"
          ],
          [
           "Central African Republic"
          ],
          [
           "Low & middle income"
          ],
          [
           "Lower middle income"
          ],
          [
           "Middle East & North Africa"
          ],
          [
           "Middle East & North Africa (excluding high income)"
          ],
          [
           "Middle East & North Africa (IDA & IBRD countries)"
          ],
          [
           "Middle income"
          ],
          [
           "Pre-demographic dividend"
          ],
          [
           "South Asia"
          ],
          [
           "Low income"
          ],
          [
           "Mauritania"
          ],
          [
           "Zambia"
          ],
          [
           "Comoros"
          ],
          [
           "Yemen, Rep."
          ],
          [
           "India"
          ],
          [
           "Indonesia"
          ],
          [
           "Iran, Islamic Rep."
          ],
          [
           "Jamaica"
          ],
          [
           "Kazakhstan"
          ],
          [
           "Kenya"
          ],
          [
           "Korea, Rep."
          ],
          [
           "Kuwait"
          ],
          [
           "Kyrgyz Republic"
          ],
          [
           "Lao PDR"
          ],
          [
           "Libya"
          ],
          [
           "Madagascar"
          ],
          [
           "Malaysia"
          ],
          [
           "Mali"
          ],
          [
           "China"
          ],
          [
           "Guinea-Bissau"
          ],
          [
           "Haiti"
          ],
          [
           "Guatemala"
          ],
          [
           "Congo, Dem. Rep."
          ],
          [
           "Congo, Rep."
          ],
          [
           "Cote d'Ivoire"
          ],
          [
           "Cyprus"
          ],
          [
           "Dominican Republic"
          ],
          [
           "Ecuador"
          ],
          [
           "Egypt, Arab Rep."
          ],
          [
           "Equatorial Guinea"
          ],
          [
           "Eritrea"
          ],
          [
           "Ethiopia"
          ],
          [
           "Fiji"
          ],
          [
           "Gabon"
          ],
          [
           "Gambia, The"
          ],
          [
           "Georgia"
          ],
          [
           "Ghana"
          ],
          [
           "Guinea"
          ]
         ],
         "hoverlabel": {
          "namelength": 0
         },
         "hovertemplate": "Cluster=Cluster 2<br>0=%{x}<br>1=%{y}<br>2=%{z}<br>Feature=%{customdata[0]}",
         "legendgroup": "Cluster=Cluster 2",
         "marker": {
          "color": "#00cc96",
          "opacity": 0.7,
          "symbol": "circle"
         },
         "mode": "markers",
         "name": "Cluster=Cluster 2",
         "scene": "scene",
         "showlegend": true,
         "type": "scatter3d",
         "x": [
          35.51774215698242,
          49.959922790527344,
          97.00627136230469,
          -8.974799156188965,
          1.756780743598938,
          110.67847442626953,
          38.3427848815918,
          97.50794982910156,
          21.036909103393555,
          77.29632568359375,
          -7.557363510131836,
          22.124521255493164,
          98.8487777709961,
          89.51163482666016,
          63.263587951660156,
          104.09825897216797,
          57.12544631958008,
          -44.59601593017578,
          -48.0516471862793,
          60.092220306396484,
          -80.48674774169922,
          -42.8533935546875,
          -16.86318016052246,
          80.9300308227539,
          48.83266830444336,
          -28.058794021606445,
          87.8804702758789,
          20.00042724609375,
          -82.54764556884766,
          12.751977920532227,
          62.68305969238281,
          10.184957504272461,
          49.835636138916016,
          39.43074417114258,
          60.842079162597656,
          -46.23152542114258,
          12.279155731201172,
          143.78453063964844,
          50.9847526550293,
          21.534423828125,
          -19.452762603759766,
          66.55541229248047,
          92.21378326416016,
          -26.787494659423828,
          78.06719207763672,
          136.4708251953125,
          47.55731964111328,
          -1.3944733142852783,
          43.80042266845703,
          77.67610931396484,
          42.80725860595703,
          68.00390625,
          46.35131072998047,
          16.59248161315918,
          4.2512593269348145,
          91.16024780273438,
          61.532997131347656,
          27.364946365356445,
          55.3148307800293,
          10.863265991210938,
          -159.91925048828125,
          53.54957962036133,
          34.45584487915039,
          39.28474807739258,
          29.621797561645508,
          -27.884536743164062,
          56.14976501464844,
          2.3209922313690186,
          96.68293762207031,
          54.63113021850586,
          30.952590942382812,
          2.4865574836730957,
          -38.24899673461914,
          88.69066619873047,
          29.865819931030273,
          54.2628288269043,
          -18.805095672607422,
          42.29069900512695,
          44.05807876586914,
          63.83021926879883,
          70.3000717163086,
          -10.175737380981445,
          15.66401195526123,
          -21.97629737854004,
          95.2664566040039,
          35.04226303100586,
          87.1489486694336,
          -151.65048217773438,
          -1.678355097770691,
          35.30405044555664,
          78.0763931274414,
          66.00018310546875,
          89.95539093017578,
          126.9373550415039,
          77.37574005126953,
          119.95099639892578,
          -30.056663513183594,
          70.9675521850586,
          50.80670928955078,
          37.00065612792969,
          103.53599548339844,
          43.948814392089844,
          16.377910614013672,
          130.62411499023438,
          48.151432037353516,
          1.428124189376831,
          87.9597396850586,
          -37.089603424072266,
          84.31513214111328
         ],
         "y": [
          86.11861419677734,
          151.85350036621094,
          42.53098678588867,
          153.9085235595703,
          72.39804077148438,
          -37.44678497314453,
          -28.3231201171875,
          46.3528938293457,
          116.9840316772461,
          160.2217254638672,
          26.292734146118164,
          66.28407287597656,
          -24.869197845458984,
          9.763477325439453,
          9.357078552246094,
          50.154151916503906,
          106.84445190429688,
          64.37794494628906,
          115.95806121826172,
          45.53333282470703,
          1.5635287761688232,
          114.46210479736328,
          83.75853729248047,
          50.861351013183594,
          41.69894790649414,
          70.961669921875,
          92.66638946533203,
          -30.671457290649414,
          83.8593521118164,
          127.13004302978516,
          -32.8255615234375,
          -0.004149935208261013,
          48.83694839477539,
          3.0405452251434326,
          67.02842712402344,
          71.17982482910156,
          24.160755157470703,
          -2.866029977798462,
          6.350869178771973,
          -45.496646881103516,
          57.02355194091797,
          -68.80757141113281,
          114.5761947631836,
          68.81050109863281,
          18.279218673706055,
          -11.911029815673828,
          -1.9755653142929077,
          81.80469512939453,
          158.60107421875,
          85.61334991455078,
          -102.58647155761719,
          -98.5969009399414,
          -125.60010528564453,
          126.72012329101562,
          -43.857913970947266,
          6.927072525024414,
          42.797386169433594,
          -150.87738037109375,
          -6.679513454437256,
          -9.826323509216309,
          -20.47049331665039,
          49.222068786621094,
          -76.31359100341797,
          97.8327865600586,
          -57.29827880859375,
          134.44325256347656,
          -44.07075881958008,
          83.14803314208984,
          -71.80452728271484,
          89.81132507324219,
          53.70758819580078,
          82.70372009277344,
          26.26255226135254,
          13.54741096496582,
          59.91390609741211,
          125.4966049194336,
          122.30960845947266,
          17.092138290405273,
          -59.853797912597656,
          -7.135588645935059,
          61.16280746459961,
          96.15939331054688,
          1.4561012983322144,
          35.749420166015625,
          108.18864440917969,
          43.08784866333008,
          -13.24064826965332,
          -57.43830490112305,
          32.07301712036133,
          59.270713806152344,
          138.17596435546875,
          113.50666046142578,
          -15.672411918640137,
          80.99279022216797,
          95.73780059814453,
          -48.45591735839844,
          95.77444458007812,
          75.1473617553711,
          95.57159423828125,
          27.90198516845703,
          32.78878402709961,
          100.00543975830078,
          22.384517669677734,
          5.624805927276611,
          126.52156066894531,
          116.10196685791016,
          138.16004943847656,
          103.63263702392578,
          116.77137756347656
         ],
         "z": [
          66.11446380615234,
          -7.878054141998291,
          35.765384674072266,
          -32.94074630737305,
          -58.590911865234375,
          85.04874420166016,
          -118.80330657958984,
          -38.865291595458984,
          -14.068526268005371,
          15.291756629943848,
          -132.68995666503906,
          -91.11685943603516,
          -118.00121307373047,
          111.69256591796875,
          23.590957641601562,
          -0.6745773553848267,
          -3.916962146759033,
          -137.80848693847656,
          61.876129150390625,
          8.923430442810059,
          -133.58795166015625,
          0.3559304475784302,
          -19.630861282348633,
          -146.30206298828125,
          -39.74351119995117,
          -93.055419921875,
          -17.991783142089844,
          -49.04780578613281,
          82.7301025390625,
          -45.30446243286133,
          10.661585807800293,
          -31.399181365966797,
          122.66265869140625,
          -55.47542953491211,
          -119.45091247558594,
          14.388965606689453,
          4.403152942657471,
          -75.97978210449219,
          141.58326721191406,
          -160.31509399414062,
          38.06013107299805,
          -67.57469177246094,
          -49.09112548828125,
          74.23567962646484,
          -23.329309463500977,
          54.53202819824219,
          74.52362823486328,
          111.16339111328125,
          -74.96077728271484,
          -63.403987884521484,
          -63.87319564819336,
          -39.219146728515625,
          -38.194828033447266,
          -80.41859436035156,
          -91.44154357910156,
          59.5721549987793,
          52.12397384643555,
          100.87918090820312,
          -24.58880043029785,
          -87.10834503173828,
          -40.81977844238281,
          -78.04425811767578,
          -32.282493591308594,
          -64.45409393310547,
          -62.914947509765625,
          30.32049560546875,
          -31.711257934570312,
          18.049297332763672,
          -106.74824523925781,
          -34.496070861816406,
          -10.772473335266113,
          -125.51321411132812,
          -85.4994888305664,
          -118.17176055908203,
          -130.54376220703125,
          -42.73122024536133,
          -62.93001937866211,
          -8.273773193359375,
          -98.51644134521484,
          -93.38803100585938,
          85.25978088378906,
          73.7366714477539,
          -151.66749572753906,
          71.36871337890625,
          -92.11683654785156,
          85.09620666503906,
          -58.887489318847656,
          -52.473731994628906,
          -54.95683670043945,
          43.04727554321289,
          -78.57160949707031,
          -122.99945068359375,
          -20.77290916442871,
          -53.3505973815918,
          78.65189361572266,
          -72.87665557861328,
          42.01951217651367,
          38.67578887939453,
          97.65454864501953,
          -100.09162139892578,
          -72.15169525146484,
          -98.67756652832031,
          45.46915054321289,
          -27.213851928710938,
          30.882976531982422,
          98.3547592163086,
          -16.266990661621094,
          116.29129028320312,
          24.138912200927734
         ]
        },
        {
         "customdata": [
          [
           "Nauru"
          ],
          [
           "Tuvalu"
          ],
          [
           "Marshall Islands"
          ]
         ],
         "hoverlabel": {
          "namelength": 0
         },
         "hovertemplate": "Cluster=Cluster 3<br>0=%{x}<br>1=%{y}<br>2=%{z}<br>Feature=%{customdata[0]}",
         "legendgroup": "Cluster=Cluster 3",
         "marker": {
          "color": "#ab63fa",
          "opacity": 0.7,
          "symbol": "circle"
         },
         "mode": "markers",
         "name": "Cluster=Cluster 3",
         "scene": "scene",
         "showlegend": true,
         "type": "scatter3d",
         "x": [
          -96.54039001464844,
          89.89451599121094,
          -126.18791198730469
         ],
         "y": [
          -134.3475341796875,
          -74.43345642089844,
          -121.75009155273438
         ],
         "z": [
          -3.933764934539795,
          119.6111068725586,
          -26.51927947998047
         ]
        }
       ],
       "layout": {
        "height": 800,
        "legend": {
         "tracegroupgap": 0
        },
        "scene": {
         "aspectmode": "auto",
         "aspectratio": {
          "x": 0.9973244547287228,
          "y": 1.0190127511387985,
          "z": 0.9839746577239732
         },
         "domain": {
          "x": [
           0,
           1
          ],
          "y": [
           0,
           1
          ]
         },
         "xaxis": {
          "title": {
           "text": "0"
          },
          "type": "linear"
         },
         "yaxis": {
          "title": {
           "text": "1"
          },
          "type": "linear"
         },
         "zaxis": {
          "title": {
           "text": "2"
          },
          "type": "linear"
         }
        },
        "template": {
         "data": {
          "bar": [
           {
            "error_x": {
             "color": "#2a3f5f"
            },
            "error_y": {
             "color": "#2a3f5f"
            },
            "marker": {
             "line": {
              "color": "#E5ECF6",
              "width": 0.5
             }
            },
            "type": "bar"
           }
          ],
          "barpolar": [
           {
            "marker": {
             "line": {
              "color": "#E5ECF6",
              "width": 0.5
             }
            },
            "type": "barpolar"
           }
          ],
          "carpet": [
           {
            "aaxis": {
             "endlinecolor": "#2a3f5f",
             "gridcolor": "white",
             "linecolor": "white",
             "minorgridcolor": "white",
             "startlinecolor": "#2a3f5f"
            },
            "baxis": {
             "endlinecolor": "#2a3f5f",
             "gridcolor": "white",
             "linecolor": "white",
             "minorgridcolor": "white",
             "startlinecolor": "#2a3f5f"
            },
            "type": "carpet"
           }
          ],
          "choropleth": [
           {
            "colorbar": {
             "outlinewidth": 0,
             "ticks": ""
            },
            "type": "choropleth"
           }
          ],
          "contour": [
           {
            "colorbar": {
             "outlinewidth": 0,
             "ticks": ""
            },
            "colorscale": [
             [
              0,
              "#0d0887"
             ],
             [
              0.1111111111111111,
              "#46039f"
             ],
             [
              0.2222222222222222,
              "#7201a8"
             ],
             [
              0.3333333333333333,
              "#9c179e"
             ],
             [
              0.4444444444444444,
              "#bd3786"
             ],
             [
              0.5555555555555556,
              "#d8576b"
             ],
             [
              0.6666666666666666,
              "#ed7953"
             ],
             [
              0.7777777777777778,
              "#fb9f3a"
             ],
             [
              0.8888888888888888,
              "#fdca26"
             ],
             [
              1,
              "#f0f921"
             ]
            ],
            "type": "contour"
           }
          ],
          "contourcarpet": [
           {
            "colorbar": {
             "outlinewidth": 0,
             "ticks": ""
            },
            "type": "contourcarpet"
           }
          ],
          "heatmap": [
           {
            "colorbar": {
             "outlinewidth": 0,
             "ticks": ""
            },
            "colorscale": [
             [
              0,
              "#0d0887"
             ],
             [
              0.1111111111111111,
              "#46039f"
             ],
             [
              0.2222222222222222,
              "#7201a8"
             ],
             [
              0.3333333333333333,
              "#9c179e"
             ],
             [
              0.4444444444444444,
              "#bd3786"
             ],
             [
              0.5555555555555556,
              "#d8576b"
             ],
             [
              0.6666666666666666,
              "#ed7953"
             ],
             [
              0.7777777777777778,
              "#fb9f3a"
             ],
             [
              0.8888888888888888,
              "#fdca26"
             ],
             [
              1,
              "#f0f921"
             ]
            ],
            "type": "heatmap"
           }
          ],
          "heatmapgl": [
           {
            "colorbar": {
             "outlinewidth": 0,
             "ticks": ""
            },
            "colorscale": [
             [
              0,
              "#0d0887"
             ],
             [
              0.1111111111111111,
              "#46039f"
             ],
             [
              0.2222222222222222,
              "#7201a8"
             ],
             [
              0.3333333333333333,
              "#9c179e"
             ],
             [
              0.4444444444444444,
              "#bd3786"
             ],
             [
              0.5555555555555556,
              "#d8576b"
             ],
             [
              0.6666666666666666,
              "#ed7953"
             ],
             [
              0.7777777777777778,
              "#fb9f3a"
             ],
             [
              0.8888888888888888,
              "#fdca26"
             ],
             [
              1,
              "#f0f921"
             ]
            ],
            "type": "heatmapgl"
           }
          ],
          "histogram": [
           {
            "marker": {
             "colorbar": {
              "outlinewidth": 0,
              "ticks": ""
             }
            },
            "type": "histogram"
           }
          ],
          "histogram2d": [
           {
            "colorbar": {
             "outlinewidth": 0,
             "ticks": ""
            },
            "colorscale": [
             [
              0,
              "#0d0887"
             ],
             [
              0.1111111111111111,
              "#46039f"
             ],
             [
              0.2222222222222222,
              "#7201a8"
             ],
             [
              0.3333333333333333,
              "#9c179e"
             ],
             [
              0.4444444444444444,
              "#bd3786"
             ],
             [
              0.5555555555555556,
              "#d8576b"
             ],
             [
              0.6666666666666666,
              "#ed7953"
             ],
             [
              0.7777777777777778,
              "#fb9f3a"
             ],
             [
              0.8888888888888888,
              "#fdca26"
             ],
             [
              1,
              "#f0f921"
             ]
            ],
            "type": "histogram2d"
           }
          ],
          "histogram2dcontour": [
           {
            "colorbar": {
             "outlinewidth": 0,
             "ticks": ""
            },
            "colorscale": [
             [
              0,
              "#0d0887"
             ],
             [
              0.1111111111111111,
              "#46039f"
             ],
             [
              0.2222222222222222,
              "#7201a8"
             ],
             [
              0.3333333333333333,
              "#9c179e"
             ],
             [
              0.4444444444444444,
              "#bd3786"
             ],
             [
              0.5555555555555556,
              "#d8576b"
             ],
             [
              0.6666666666666666,
              "#ed7953"
             ],
             [
              0.7777777777777778,
              "#fb9f3a"
             ],
             [
              0.8888888888888888,
              "#fdca26"
             ],
             [
              1,
              "#f0f921"
             ]
            ],
            "type": "histogram2dcontour"
           }
          ],
          "mesh3d": [
           {
            "colorbar": {
             "outlinewidth": 0,
             "ticks": ""
            },
            "type": "mesh3d"
           }
          ],
          "parcoords": [
           {
            "line": {
             "colorbar": {
              "outlinewidth": 0,
              "ticks": ""
             }
            },
            "type": "parcoords"
           }
          ],
          "pie": [
           {
            "automargin": true,
            "type": "pie"
           }
          ],
          "scatter": [
           {
            "marker": {
             "colorbar": {
              "outlinewidth": 0,
              "ticks": ""
             }
            },
            "type": "scatter"
           }
          ],
          "scatter3d": [
           {
            "line": {
             "colorbar": {
              "outlinewidth": 0,
              "ticks": ""
             }
            },
            "marker": {
             "colorbar": {
              "outlinewidth": 0,
              "ticks": ""
             }
            },
            "type": "scatter3d"
           }
          ],
          "scattercarpet": [
           {
            "marker": {
             "colorbar": {
              "outlinewidth": 0,
              "ticks": ""
             }
            },
            "type": "scattercarpet"
           }
          ],
          "scattergeo": [
           {
            "marker": {
             "colorbar": {
              "outlinewidth": 0,
              "ticks": ""
             }
            },
            "type": "scattergeo"
           }
          ],
          "scattergl": [
           {
            "marker": {
             "colorbar": {
              "outlinewidth": 0,
              "ticks": ""
             }
            },
            "type": "scattergl"
           }
          ],
          "scattermapbox": [
           {
            "marker": {
             "colorbar": {
              "outlinewidth": 0,
              "ticks": ""
             }
            },
            "type": "scattermapbox"
           }
          ],
          "scatterpolar": [
           {
            "marker": {
             "colorbar": {
              "outlinewidth": 0,
              "ticks": ""
             }
            },
            "type": "scatterpolar"
           }
          ],
          "scatterpolargl": [
           {
            "marker": {
             "colorbar": {
              "outlinewidth": 0,
              "ticks": ""
             }
            },
            "type": "scatterpolargl"
           }
          ],
          "scatterternary": [
           {
            "marker": {
             "colorbar": {
              "outlinewidth": 0,
              "ticks": ""
             }
            },
            "type": "scatterternary"
           }
          ],
          "surface": [
           {
            "colorbar": {
             "outlinewidth": 0,
             "ticks": ""
            },
            "colorscale": [
             [
              0,
              "#0d0887"
             ],
             [
              0.1111111111111111,
              "#46039f"
             ],
             [
              0.2222222222222222,
              "#7201a8"
             ],
             [
              0.3333333333333333,
              "#9c179e"
             ],
             [
              0.4444444444444444,
              "#bd3786"
             ],
             [
              0.5555555555555556,
              "#d8576b"
             ],
             [
              0.6666666666666666,
              "#ed7953"
             ],
             [
              0.7777777777777778,
              "#fb9f3a"
             ],
             [
              0.8888888888888888,
              "#fdca26"
             ],
             [
              1,
              "#f0f921"
             ]
            ],
            "type": "surface"
           }
          ],
          "table": [
           {
            "cells": {
             "fill": {
              "color": "#EBF0F8"
             },
             "line": {
              "color": "white"
             }
            },
            "header": {
             "fill": {
              "color": "#C8D4E3"
             },
             "line": {
              "color": "white"
             }
            },
            "type": "table"
           }
          ]
         },
         "layout": {
          "annotationdefaults": {
           "arrowcolor": "#2a3f5f",
           "arrowhead": 0,
           "arrowwidth": 1
          },
          "coloraxis": {
           "colorbar": {
            "outlinewidth": 0,
            "ticks": ""
           }
          },
          "colorscale": {
           "diverging": [
            [
             0,
             "#8e0152"
            ],
            [
             0.1,
             "#c51b7d"
            ],
            [
             0.2,
             "#de77ae"
            ],
            [
             0.3,
             "#f1b6da"
            ],
            [
             0.4,
             "#fde0ef"
            ],
            [
             0.5,
             "#f7f7f7"
            ],
            [
             0.6,
             "#e6f5d0"
            ],
            [
             0.7,
             "#b8e186"
            ],
            [
             0.8,
             "#7fbc41"
            ],
            [
             0.9,
             "#4d9221"
            ],
            [
             1,
             "#276419"
            ]
           ],
           "sequential": [
            [
             0,
             "#0d0887"
            ],
            [
             0.1111111111111111,
             "#46039f"
            ],
            [
             0.2222222222222222,
             "#7201a8"
            ],
            [
             0.3333333333333333,
             "#9c179e"
            ],
            [
             0.4444444444444444,
             "#bd3786"
            ],
            [
             0.5555555555555556,
             "#d8576b"
            ],
            [
             0.6666666666666666,
             "#ed7953"
            ],
            [
             0.7777777777777778,
             "#fb9f3a"
            ],
            [
             0.8888888888888888,
             "#fdca26"
            ],
            [
             1,
             "#f0f921"
            ]
           ],
           "sequentialminus": [
            [
             0,
             "#0d0887"
            ],
            [
             0.1111111111111111,
             "#46039f"
            ],
            [
             0.2222222222222222,
             "#7201a8"
            ],
            [
             0.3333333333333333,
             "#9c179e"
            ],
            [
             0.4444444444444444,
             "#bd3786"
            ],
            [
             0.5555555555555556,
             "#d8576b"
            ],
            [
             0.6666666666666666,
             "#ed7953"
            ],
            [
             0.7777777777777778,
             "#fb9f3a"
            ],
            [
             0.8888888888888888,
             "#fdca26"
            ],
            [
             1,
             "#f0f921"
            ]
           ]
          },
          "colorway": [
           "#636efa",
           "#EF553B",
           "#00cc96",
           "#ab63fa",
           "#FFA15A",
           "#19d3f3",
           "#FF6692",
           "#B6E880",
           "#FF97FF",
           "#FECB52"
          ],
          "font": {
           "color": "#2a3f5f"
          },
          "geo": {
           "bgcolor": "white",
           "lakecolor": "white",
           "landcolor": "#E5ECF6",
           "showlakes": true,
           "showland": true,
           "subunitcolor": "white"
          },
          "hoverlabel": {
           "align": "left"
          },
          "hovermode": "closest",
          "mapbox": {
           "style": "light"
          },
          "paper_bgcolor": "white",
          "plot_bgcolor": "#E5ECF6",
          "polar": {
           "angularaxis": {
            "gridcolor": "white",
            "linecolor": "white",
            "ticks": ""
           },
           "bgcolor": "#E5ECF6",
           "radialaxis": {
            "gridcolor": "white",
            "linecolor": "white",
            "ticks": ""
           }
          },
          "scene": {
           "xaxis": {
            "backgroundcolor": "#E5ECF6",
            "gridcolor": "white",
            "gridwidth": 2,
            "linecolor": "white",
            "showbackground": true,
            "ticks": "",
            "zerolinecolor": "white"
           },
           "yaxis": {
            "backgroundcolor": "#E5ECF6",
            "gridcolor": "white",
            "gridwidth": 2,
            "linecolor": "white",
            "showbackground": true,
            "ticks": "",
            "zerolinecolor": "white"
           },
           "zaxis": {
            "backgroundcolor": "#E5ECF6",
            "gridcolor": "white",
            "gridwidth": 2,
            "linecolor": "white",
            "showbackground": true,
            "ticks": "",
            "zerolinecolor": "white"
           }
          },
          "shapedefaults": {
           "line": {
            "color": "#2a3f5f"
           }
          },
          "ternary": {
           "aaxis": {
            "gridcolor": "white",
            "linecolor": "white",
            "ticks": ""
           },
           "baxis": {
            "gridcolor": "white",
            "linecolor": "white",
            "ticks": ""
           },
           "bgcolor": "#E5ECF6",
           "caxis": {
            "gridcolor": "white",
            "linecolor": "white",
            "ticks": ""
           }
          },
          "title": {
           "x": 0.05
          },
          "xaxis": {
           "automargin": true,
           "gridcolor": "white",
           "linecolor": "white",
           "ticks": "",
           "title": {
            "standoff": 15
           },
           "zerolinecolor": "white",
           "zerolinewidth": 2
          },
          "yaxis": {
           "automargin": true,
           "gridcolor": "white",
           "linecolor": "white",
           "ticks": "",
           "title": {
            "standoff": 15
           },
           "zerolinecolor": "white",
           "zerolinewidth": 2
          }
         }
        },
        "title": {
         "text": "3d TSNE Plot for Clusters"
        },
        "width": 900
       }
      },
      "image/png": "[encoded data removed]",
      "text/html": [
       "<div>\n",
       "        \n",
       "        \n",
       "            <div id=\"3c70dac5-3bab-4844-8a9f-876a879f74d1\" class=\"plotly-graph-div\" style=\"height:800px; width:900px;\"></div>\n",
       "            <script type=\"text/javascript\">\n",
       "                require([\"plotly\"], function(Plotly) {\n",
       "                    window.PLOTLYENV=window.PLOTLYENV || {};\n",
       "                    \n",
       "                if (document.getElementById(\"3c70dac5-3bab-4844-8a9f-876a879f74d1\")) {\n",
       "                    Plotly.newPlot(\n",
       "                        '3c70dac5-3bab-4844-8a9f-876a879f74d1',\n",
       "                        [{\"customdata\": [[\"Honduras\"], [\"Dominica\"], [\"Djibouti\"], [\"Samoa\"], [\"San Marino\"], [\"Sao Tome and Principe\"], [\"Colombia\"], [\"Chile\"], [\"Cabo Verde\"], [\"Solomon Islands\"], [\"Bulgaria\"], [\"South Africa\"], [\"Brazil\"], [\"Botswana\"], [\"Bolivia\"], [\"Bhutan\"], [\"Belarus\"], [\"Barbados\"], [\"St. Lucia\"], [\"St. Vincent and the Grenadines\"], [\"Russian Federation\"], [\"Suriname\"], [\"Romania\"], [\"Estonia\"], [\"Moldova\"], [\"Malawi\"], [\"Monaco\"], [\"Macedonia, FYR\"], [\"Lithuania\"], [\"Lebanon\"], [\"Latvia\"], [\"Montenegro\"], [\"Mozambique\"], [\"Namibia\"], [\"Jordan\"], [\"Israel\"], [\"Nicaragua\"], [\"Hungary\"], [\"Guyana\"], [\"Grenada\"], [\"Panama\"], [\"Papua New Guinea\"], [\"Poland\"], [\"El Salvador\"], [\"Argentina\"], [\"Seychelles\"], [\"Swaziland\"], [\"Small states\"], [\"Tonga\"], [\"Vanuatu\"], [\"Pacific island small states\"], [\"Other small states\"], [\"Tunisia\"], [\"East Asia & Pacific\"], [\"Turkey\"], [\"Ukraine\"], [\"Antigua and Barbuda\"], [\"Europe & Central Asia (IDA & IBRD countries)\"], [\"Latin America & the Caribbean (IDA & IBRD countries)\"], [\"Latin America & Caribbean (excluding high income)\"], [\"Latin America & Caribbean\"], [\"Europe & Central Asia (excluding high income)\"], [\"Thailand\"], [\"Uruguay\"], [\"Central Europe and the Baltics\"], [\"Algeria\"], [\"Andorra\"]], \"hoverlabel\": {\"namelength\": 0}, \"hovertemplate\": \"Cluster=Cluster 0<br>0=%{x}<br>1=%{y}<br>2=%{z}<br>Feature=%{customdata[0]}\", \"legendgroup\": \"Cluster=Cluster 0\", \"marker\": {\"color\": \"#636efa\", \"opacity\": 0.7, \"symbol\": \"circle\"}, \"mode\": \"markers\", \"name\": \"Cluster=Cluster 0\", \"scene\": \"scene\", \"showlegend\": true, \"type\": \"scatter3d\", \"x\": [-126.78446960449219, -32.37543487548828, -19.36821746826172, -18.89223289489746, 144.3787078857422, -73.21328735351562, -42.71407699584961, -27.84712028503418, 74.90287780761719, 11.832152366638184, -87.12774658203125, 133.77809143066406, -90.86527252197266, -109.42573547363281, -88.20365142822266, -76.91995239257812, -91.02154541015625, -32.2028694152832, -27.2868595123291, -57.80535125732422, -108.08625030517578, -80.39252471923828, -107.40230560302734, -133.89035034179688, -124.98924255371094, 8.11201000213623, -66.80313873291016, -78.32198333740234, -114.07943725585938, -2.4837732315063477, -116.26299285888672, -40.849178314208984, -66.57929992675781, -14.147893905639648, -37.86670684814453, -122.67259979248047, -52.52400588989258, -70.49372100830078, -101.6419448852539, -31.854501724243164, 22.719388961791992, -106.13804626464844, -65.93650817871094, -70.15404510498047, -66.82675170898438, 7.206932067871094, -45.80060577392578, -44.320133209228516, -124.49557495117188, -91.65505981445312, -43.67847442626953, -27.566049575805664, -50.18693161010742, -70.46929168701172, -45.12035369873047, -40.63631820678711, -59.46231460571289, 104.69760131835938, 102.19699096679688, -79.22418975830078, -79.26667785644531, -88.33302307128906, -9.479289054870605, -42.430625915527344, 154.92051696777344, -60.429378509521484, 82.88695526123047], \"y\": [43.15277099609375, -10.89283275604248, -24.421171188354492, -92.1946029663086, 129.49444580078125, 41.3981819152832, -23.111337661743164, 44.28285217285156, -116.93305206298828, -15.740466117858887, -21.407833099365234, -48.601226806640625, 45.268795013427734, 74.9503173828125, 33.87964630126953, -37.77450942993164, -60.04612350463867, -47.31461715698242, 19.260692596435547, 24.68792724609375, -110.743408203125, -52.72629928588867, -3.811255693435669, -72.65250396728516, -44.520538330078125, -30.29142951965332, 19.481428146362305, -32.62969970703125, -39.35870361328125, -23.85220718383789, 20.2210750579834, -140.74462890625, 7.367926120758057, -64.85199737548828, -86.46775817871094, -39.187164306640625, -4.034049987792969, -87.078857421875, -74.50845336914062, -10.110224723815918, -60.68466567993164, -2.7893710136413574, -45.02962112426758, 2.2084994316101074, -71.01929473876953, -18.65491485595703, -85.18721008300781, -30.196495056152344, 21.637052536010742, 29.188814163208008, -21.467952728271484, -10.298230171203613, 37.224632263183594, 72.28972625732422, 19.837854385375977, -39.084259033203125, 64.85214233398438, -100.50811004638672, -79.002685546875, 52.88836669921875, 21.779090881347656, 2.4989407062530518, 23.948307037353516, -19.20369529724121, 57.39501953125, 62.94207000732422, -137.23312377929688], \"z\": [29.807958602905273, -25.67173957824707, 124.5315170288086, -40.57310485839844, -34.887657165527344, -89.9435806274414, 83.33155822753906, -17.19514274597168, 12.633121490478516, 96.05663299560547, 16.357215881347656, -13.559488296508789, 48.78775405883789, -8.385662078857422, -34.03363800048828, -27.457378387451172, 6.517147064208984, -44.499725341796875, 18.380664825439453, -9.462685585021973, 38.46765899658203, -66.57456970214844, 46.36784744262695, 14.267641067504883, -92.97856140136719, 149.65750122070312, 61.128910064697266, 80.01795959472656, -23.70490074157715, 0.8011439442634583, -3.233625888824463, -68.75605010986328, -83.13336181640625, -13.865184783935547, 9.562644004821777, 14.643394470214844, 7.726006031036377, 26.00888442993164, -27.922414779663086, -113.27445220947266, 7.004746913909912, -73.03219604492188, 37.03928756713867, -40.196353912353516, -25.442922592163086, 32.239994049072266, -72.35624694824219, -86.91000366210938, -46.444637298583984, 87.101806640625, 41.75047302246094, -72.31778717041016, 36.9173469543457, -45.84349822998047, 112.41606903076172, 3.3442492485046387, 52.71244812011719, 34.306846618652344, -16.136449813842773, 13.833440780639648, 25.74953842163086, -8.760519981384277, 121.27063751220703, 155.79559326171875, 1.765377163887024, 97.37370300292969, 71.88475799560547]}, {\"customdata\": [[\"Micronesia, Fed. Sts.\"], [\"Kiribati\"], [\"Finland\"], [\"France\"], [\"United Kingdom\"], [\"Germany\"], [\"Malta\"], [\"Greece\"], [\"Portugal\"], [\"Austria\"], [\"European Union\"], [\"Japan\"], [\"Australia\"], [\"Norway\"], [\"Netherlands\"], [\"United States\"], [\"Iceland\"], [\"Italy\"], [\"High income\"], [\"New Zealand\"], [\"Palau\"], [\"World\"], [\"Sweden\"], [\"Cuba\"], [\"Switzerland\"], [\"Slovak Republic\"], [\"Post-demographic dividend\"], [\"Serbia\"], [\"Spain\"], [\"Lesotho\"], [\"Europe & Central Asia\"], [\"Maldives\"], [\"Costa Rica\"], [\"Canada\"], [\"OECD members\"], [\"Croatia\"], [\"Ireland\"], [\"North America\"], [\"Czech Republic\"], [\"Denmark\"], [\"Euro area\"], [\"Belgium\"], [\"Slovenia\"], [\"Bosnia and Herzegovina\"], [\"Luxembourg\"]], \"hoverlabel\": {\"namelength\": 0}, \"hovertemplate\": \"Cluster=Cluster 1<br>0=%{x}<br>1=%{y}<br>2=%{z}<br>Feature=%{customdata[0]}\", \"legendgroup\": \"Cluster=Cluster 1\", \"marker\": {\"color\": \"#EF553B\", \"opacity\": 0.7, \"symbol\": \"circle\"}, \"mode\": \"markers\", \"name\": \"Cluster=Cluster 1\", \"scene\": \"scene\", \"showlegend\": true, \"type\": \"scatter3d\", \"x\": [-88.11402130126953, -77.82678985595703, -3.2598507404327393, 69.15101623535156, 62.150917053222656, -62.651519775390625, 39.013641357421875, -165.47891235351562, 28.766172409057617, -16.432161331176758, -45.083587646484375, 3.839843511581421, 133.85647583007812, 119.4168472290039, -0.717315137386322, -20.354429244995117, -46.77958297729492, 46.70835876464844, -121.00655364990234, -7.714614391326904, -49.09074020385742, -0.33314478397369385, -23.45708465576172, -70.70803833007812, -28.60447883605957, 146.1763153076172, -61.69521713256836, 33.783409118652344, -8.393195152282715, -54.229312896728516, 35.87360763549805, -15.129674911499023, 14.839582443237305, -95.42417907714844, -92.32735443115234, -24.840633392333984, -66.70491790771484, 27.943151473999023, 13.072808265686035, 107.1348648071289, -0.721197783946991, 124.7112808227539, 57.04808044433594, -78.05878448486328, -6.431966304779053], \"y\": [-126.9201431274414, -156.75404357910156, -79.89331817626953, 144.38970947265625, -85.13299560546875, -158.81649780273438, -105.92500305175781, 21.67371940612793, -54.23844528198242, -88.68746185302734, -124.76695251464844, -148.7276611328125, 84.49352264404297, -59.72150421142578, -131.11471557617188, -128.93605041503906, -126.6605224609375, -49.89215850830078, -48.41311264038086, -154.22496032714844, -157.38629150390625, -86.60478973388672, -167.145263671875, -124.84716033935547, -90.49507904052734, 38.930938720703125, -98.65646362304688, -74.273193359375, -54.480194091796875, -65.10554504394531, -100.59464263916016, -76.20425415039062, -88.88796997070312, -80.30970764160156, -76.20366668701172, -70.443115234375, -111.35395050048828, -130.28440856933594, -63.591773986816406, -23.377288818359375, -114.7765121459961, 70.27677154541016, -73.69287109375, -70.50360870361328, -107.39778900146484], \"z\": [-53.52519226074219, -26.66226577758789, 104.28823852539062, 101.33555603027344, 72.46026611328125, 11.565646171569824, 105.19086456298828, -1.5903586149215698, 87.3612289428711, -116.48747253417969, 41.51200866699219, 47.47815704345703, 38.59931564331055, 38.0098876953125, 1.9415256977081299, 86.91291809082031, -9.291139602661133, 58.44478988647461, 78.07772064208984, -24.594953536987305, 65.52398681640625, 23.265583038330078, 18.08367347717285, 104.923583984375, 83.19931030273438, 39.76939392089844, 70.93531036376953, 122.31250762939453, 77.23844909667969, 124.7575454711914, 45.915184020996094, 147.10231018066406, 75.09368896484375, 101.19279479980469, 64.2965087890625, 49.403751373291016, -106.01885986328125, 26.022544860839844, 47.3941535949707, 22.0814266204834, -82.36180114746094, 91.43154907226562, 31.820758819580078, -111.32955932617188, 52.63199234008789]}, {\"customdata\": [[\"Vietnam\"], [\"Morocco\"], [\"Nepal\"], [\"Myanmar\"], [\"Venezuela, RB\"], [\"Mongolia\"], [\"Uzbekistan\"], [\"United Arab Emirates\"], [\"Nigeria\"], [\"Sudan\"], [\"St. Kitts and Nevis\"], [\"Sri Lanka\"], [\"Syrian Arab Republic\"], [\"Tajikistan\"], [\"Tanzania\"], [\"Togo\"], [\"Singapore\"], [\"Sierra Leone\"], [\"Mexico\"], [\"Niger\"], [\"Senegal\"], [\"Trinidad and Tobago\"], [\"Rwanda\"], [\"Turkmenistan\"], [\"Uganda\"], [\"Qatar\"], [\"Philippines\"], [\"Peru\"], [\"Paraguay\"], [\"Pakistan\"], [\"Oman\"], [\"Saudi Arabia\"], [\"Mauritius\"], [\"Arab World\"], [\"Chad\"], [\"Upper middle income\"], [\"Albania\"], [\"Angola\"], [\"Armenia\"], [\"Azerbaijan\"], [\"Bahamas, The\"], [\"Bahrain\"], [\"Bangladesh\"], [\"Belize\"], [\"Benin\"], [\"Brunei Darussalam\"], [\"Burkina Faso\"], [\"Burundi\"], [\"Cambodia\"], [\"Cameroon\"], [\"Sub-Saharan Africa (IDA & IBRD countries)\"], [\"Sub-Saharan Africa (excluding high income)\"], [\"Sub-Saharan Africa\"], [\"South Asia (IDA & IBRD)\"], [\"Caribbean small states\"], [\"Early-demographic dividend\"], [\"East Asia & Pacific (excluding high income)\"], [\"East Asia & Pacific (IDA & IBRD countries)\"], [\"Heavily indebted poor countries (HIPC)\"], [\"Late-demographic dividend\"], [\"Least developed countries: UN classification\"], [\"Central African Republic\"], [\"Low & middle income\"], [\"Lower middle income\"], [\"Middle East & North Africa\"], [\"Middle East & North Africa (excluding high income)\"], [\"Middle East & North Africa (IDA & IBRD countries)\"], [\"Middle income\"], [\"Pre-demographic dividend\"], [\"South Asia\"], [\"Low income\"], [\"Mauritania\"], [\"Zambia\"], [\"Comoros\"], [\"Yemen, Rep.\"], [\"India\"], [\"Indonesia\"], [\"Iran, Islamic Rep.\"], [\"Jamaica\"], [\"Kazakhstan\"], [\"Kenya\"], [\"Korea, Rep.\"], [\"Kuwait\"], [\"Kyrgyz Republic\"], [\"Lao PDR\"], [\"Libya\"], [\"Madagascar\"], [\"Malaysia\"], [\"Mali\"], [\"China\"], [\"Guinea-Bissau\"], [\"Haiti\"], [\"Guatemala\"], [\"Congo, Dem. Rep.\"], [\"Congo, Rep.\"], [\"Cote d'Ivoire\"], [\"Cyprus\"], [\"Dominican Republic\"], [\"Ecuador\"], [\"Egypt, Arab Rep.\"], [\"Equatorial Guinea\"], [\"Eritrea\"], [\"Ethiopia\"], [\"Fiji\"], [\"Gabon\"], [\"Gambia, The\"], [\"Georgia\"], [\"Ghana\"], [\"Guinea\"]], \"hoverlabel\": {\"namelength\": 0}, \"hovertemplate\": \"Cluster=Cluster 2<br>0=%{x}<br>1=%{y}<br>2=%{z}<br>Feature=%{customdata[0]}\", \"legendgroup\": \"Cluster=Cluster 2\", \"marker\": {\"color\": \"#00cc96\", \"opacity\": 0.7, \"symbol\": \"circle\"}, \"mode\": \"markers\", \"name\": \"Cluster=Cluster 2\", \"scene\": \"scene\", \"showlegend\": true, \"type\": \"scatter3d\", \"x\": [35.51774215698242, 49.959922790527344, 97.00627136230469, -8.974799156188965, 1.756780743598938, 110.67847442626953, 38.3427848815918, 97.50794982910156, 21.036909103393555, 77.29632568359375, -7.557363510131836, 22.124521255493164, 98.8487777709961, 89.51163482666016, 63.263587951660156, 104.09825897216797, 57.12544631958008, -44.59601593017578, -48.0516471862793, 60.092220306396484, -80.48674774169922, -42.8533935546875, -16.86318016052246, 80.9300308227539, 48.83266830444336, -28.058794021606445, 87.8804702758789, 20.00042724609375, -82.54764556884766, 12.751977920532227, 62.68305969238281, 10.184957504272461, 49.835636138916016, 39.43074417114258, 60.842079162597656, -46.23152542114258, 12.279155731201172, 143.78453063964844, 50.9847526550293, 21.534423828125, -19.452762603759766, 66.55541229248047, 92.21378326416016, -26.787494659423828, 78.06719207763672, 136.4708251953125, 47.55731964111328, -1.3944733142852783, 43.80042266845703, 77.67610931396484, 42.80725860595703, 68.00390625, 46.35131072998047, 16.59248161315918, 4.2512593269348145, 91.16024780273438, 61.532997131347656, 27.364946365356445, 55.3148307800293, 10.863265991210938, -159.91925048828125, 53.54957962036133, 34.45584487915039, 39.28474807739258, 29.621797561645508, -27.884536743164062, 56.14976501464844, 2.3209922313690186, 96.68293762207031, 54.63113021850586, 30.952590942382812, 2.4865574836730957, -38.24899673461914, 88.69066619873047, 29.865819931030273, 54.2628288269043, -18.805095672607422, 42.29069900512695, 44.05807876586914, 63.83021926879883, 70.3000717163086, -10.175737380981445, 15.66401195526123, -21.97629737854004, 95.2664566040039, 35.04226303100586, 87.1489486694336, -151.65048217773438, -1.678355097770691, 35.30405044555664, 78.0763931274414, 66.00018310546875, 89.95539093017578, 126.9373550415039, 77.37574005126953, 119.95099639892578, -30.056663513183594, 70.9675521850586, 50.80670928955078, 37.00065612792969, 103.53599548339844, 43.948814392089844, 16.377910614013672, 130.62411499023438, 48.151432037353516, 1.428124189376831, 87.9597396850586, -37.089603424072266, 84.31513214111328], \"y\": [86.11861419677734, 151.85350036621094, 42.53098678588867, 153.9085235595703, 72.39804077148438, -37.44678497314453, -28.3231201171875, 46.3528938293457, 116.9840316772461, 160.2217254638672, 26.292734146118164, 66.28407287597656, -24.869197845458984, 9.763477325439453, 9.357078552246094, 50.154151916503906, 106.84445190429688, 64.37794494628906, 115.95806121826172, 45.53333282470703, 1.5635287761688232, 114.46210479736328, 83.75853729248047, 50.861351013183594, 41.69894790649414, 70.961669921875, 92.66638946533203, -30.671457290649414, 83.8593521118164, 127.13004302978516, -32.8255615234375, -0.004149935208261013, 48.83694839477539, 3.0405452251434326, 67.02842712402344, 71.17982482910156, 24.160755157470703, -2.866029977798462, 6.350869178771973, -45.496646881103516, 57.02355194091797, -68.80757141113281, 114.5761947631836, 68.81050109863281, 18.279218673706055, -11.911029815673828, -1.9755653142929077, 81.80469512939453, 158.60107421875, 85.61334991455078, -102.58647155761719, -98.5969009399414, -125.60010528564453, 126.72012329101562, -43.857913970947266, 6.927072525024414, 42.797386169433594, -150.87738037109375, -6.679513454437256, -9.826323509216309, -20.47049331665039, 49.222068786621094, -76.31359100341797, 97.8327865600586, -57.29827880859375, 134.44325256347656, -44.07075881958008, 83.14803314208984, -71.80452728271484, 89.81132507324219, 53.70758819580078, 82.70372009277344, 26.26255226135254, 13.54741096496582, 59.91390609741211, 125.4966049194336, 122.30960845947266, 17.092138290405273, -59.853797912597656, -7.135588645935059, 61.16280746459961, 96.15939331054688, 1.4561012983322144, 35.749420166015625, 108.18864440917969, 43.08784866333008, -13.24064826965332, -57.43830490112305, 32.07301712036133, 59.270713806152344, 138.17596435546875, 113.50666046142578, -15.672411918640137, 80.99279022216797, 95.73780059814453, -48.45591735839844, 95.77444458007812, 75.1473617553711, 95.57159423828125, 27.90198516845703, 32.78878402709961, 100.00543975830078, 22.384517669677734, 5.624805927276611, 126.52156066894531, 116.10196685791016, 138.16004943847656, 103.63263702392578, 116.77137756347656], \"z\": [66.11446380615234, -7.878054141998291, 35.765384674072266, -32.94074630737305, -58.590911865234375, 85.04874420166016, -118.80330657958984, -38.865291595458984, -14.068526268005371, 15.291756629943848, -132.68995666503906, -91.11685943603516, -118.00121307373047, 111.69256591796875, 23.590957641601562, -0.6745773553848267, -3.916962146759033, -137.80848693847656, 61.876129150390625, 8.923430442810059, -133.58795166015625, 0.3559304475784302, -19.630861282348633, -146.30206298828125, -39.74351119995117, -93.055419921875, -17.991783142089844, -49.04780578613281, 82.7301025390625, -45.30446243286133, 10.661585807800293, -31.399181365966797, 122.66265869140625, -55.47542953491211, -119.45091247558594, 14.388965606689453, 4.403152942657471, -75.97978210449219, 141.58326721191406, -160.31509399414062, 38.06013107299805, -67.57469177246094, -49.09112548828125, 74.23567962646484, -23.329309463500977, 54.53202819824219, 74.52362823486328, 111.16339111328125, -74.96077728271484, -63.403987884521484, -63.87319564819336, -39.219146728515625, -38.194828033447266, -80.41859436035156, -91.44154357910156, 59.5721549987793, 52.12397384643555, 100.87918090820312, -24.58880043029785, -87.10834503173828, -40.81977844238281, -78.04425811767578, -32.282493591308594, -64.45409393310547, -62.914947509765625, 30.32049560546875, -31.711257934570312, 18.049297332763672, -106.74824523925781, -34.496070861816406, -10.772473335266113, -125.51321411132812, -85.4994888305664, -118.17176055908203, -130.54376220703125, -42.73122024536133, -62.93001937866211, -8.273773193359375, -98.51644134521484, -93.38803100585938, 85.25978088378906, 73.7366714477539, -151.66749572753906, 71.36871337890625, -92.11683654785156, 85.09620666503906, -58.887489318847656, -52.473731994628906, -54.95683670043945, 43.04727554321289, -78.57160949707031, -122.99945068359375, -20.77290916442871, -53.3505973815918, 78.65189361572266, -72.87665557861328, 42.01951217651367, 38.67578887939453, 97.65454864501953, -100.09162139892578, -72.15169525146484, -98.67756652832031, 45.46915054321289, -27.213851928710938, 30.882976531982422, 98.3547592163086, -16.266990661621094, 116.29129028320312, 24.138912200927734]}, {\"customdata\": [[\"Nauru\"], [\"Tuvalu\"], [\"Marshall Islands\"]], \"hoverlabel\": {\"namelength\": 0}, \"hovertemplate\": \"Cluster=Cluster 3<br>0=%{x}<br>1=%{y}<br>2=%{z}<br>Feature=%{customdata[0]}\", \"legendgroup\": \"Cluster=Cluster 3\", \"marker\": {\"color\": \"#ab63fa\", \"opacity\": 0.7, \"symbol\": \"circle\"}, \"mode\": \"markers\", \"name\": \"Cluster=Cluster 3\", \"scene\": \"scene\", \"showlegend\": true, \"type\": \"scatter3d\", \"x\": [-96.54039001464844, 89.89451599121094, -126.18791198730469], \"y\": [-134.3475341796875, -74.43345642089844, -121.75009155273438], \"z\": [-3.933764934539795, 119.6111068725586, -26.51927947998047]}],\n",
       "                        {\"height\": 800, \"legend\": {\"tracegroupgap\": 0}, \"scene\": {\"domain\": {\"x\": [0.0, 1.0], \"y\": [0.0, 1.0]}, \"xaxis\": {\"title\": {\"text\": \"0\"}}, \"yaxis\": {\"title\": {\"text\": \"1\"}}, \"zaxis\": {\"title\": {\"text\": \"2\"}}}, \"template\": {\"data\": {\"bar\": [{\"error_x\": {\"color\": \"#2a3f5f\"}, \"error_y\": {\"color\": \"#2a3f5f\"}, \"marker\": {\"line\": {\"color\": \"#E5ECF6\", \"width\": 0.5}}, \"type\": \"bar\"}], \"barpolar\": [{\"marker\": {\"line\": {\"color\": \"#E5ECF6\", \"width\": 0.5}}, \"type\": \"barpolar\"}], \"carpet\": [{\"aaxis\": {\"endlinecolor\": \"#2a3f5f\", \"gridcolor\": \"white\", \"linecolor\": \"white\", \"minorgridcolor\": \"white\", \"startlinecolor\": \"#2a3f5f\"}, \"baxis\": {\"endlinecolor\": \"#2a3f5f\", \"gridcolor\": \"white\", \"linecolor\": \"white\", \"minorgridcolor\": \"white\", \"startlinecolor\": \"#2a3f5f\"}, \"type\": \"carpet\"}], \"choropleth\": [{\"colorbar\": {\"outlinewidth\": 0, \"ticks\": \"\"}, \"type\": \"choropleth\"}], \"contour\": [{\"colorbar\": {\"outlinewidth\": 0, \"ticks\": \"\"}, \"colorscale\": [[0.0, \"#0d0887\"], [0.1111111111111111, \"#46039f\"], [0.2222222222222222, \"#7201a8\"], [0.3333333333333333, \"#9c179e\"], [0.4444444444444444, \"#bd3786\"], [0.5555555555555556, \"#d8576b\"], [0.6666666666666666, \"#ed7953\"], [0.7777777777777778, \"#fb9f3a\"], [0.8888888888888888, \"#fdca26\"], [1.0, \"#f0f921\"]], \"type\": \"contour\"}], \"contourcarpet\": [{\"colorbar\": {\"outlinewidth\": 0, \"ticks\": \"\"}, \"type\": \"contourcarpet\"}], \"heatmap\": [{\"colorbar\": {\"outlinewidth\": 0, \"ticks\": \"\"}, \"colorscale\": [[0.0, \"#0d0887\"], [0.1111111111111111, \"#46039f\"], [0.2222222222222222, \"#7201a8\"], [0.3333333333333333, \"#9c179e\"], [0.4444444444444444, \"#bd3786\"], [0.5555555555555556, \"#d8576b\"], [0.6666666666666666, \"#ed7953\"], [0.7777777777777778, \"#fb9f3a\"], [0.8888888888888888, \"#fdca26\"], [1.0, \"#f0f921\"]], \"type\": \"heatmap\"}], \"heatmapgl\": [{\"colorbar\": {\"outlinewidth\": 0, \"ticks\": \"\"}, \"colorscale\": [[0.0, \"#0d0887\"], [0.1111111111111111, \"#46039f\"], [0.2222222222222222, \"#7201a8\"], [0.3333333333333333, \"#9c179e\"], [0.4444444444444444, \"#bd3786\"], [0.5555555555555556, \"#d8576b\"], [0.6666666666666666, \"#ed7953\"], [0.7777777777777778, \"#fb9f3a\"], [0.8888888888888888, \"#fdca26\"], [1.0, \"#f0f921\"]], \"type\": \"heatmapgl\"}], \"histogram\": [{\"marker\": {\"colorbar\": {\"outlinewidth\": 0, \"ticks\": \"\"}}, \"type\": \"histogram\"}], \"histogram2d\": [{\"colorbar\": {\"outlinewidth\": 0, \"ticks\": \"\"}, \"colorscale\": [[0.0, \"#0d0887\"], [0.1111111111111111, \"#46039f\"], [0.2222222222222222, \"#7201a8\"], [0.3333333333333333, \"#9c179e\"], [0.4444444444444444, \"#bd3786\"], [0.5555555555555556, \"#d8576b\"], [0.6666666666666666, \"#ed7953\"], [0.7777777777777778, \"#fb9f3a\"], [0.8888888888888888, \"#fdca26\"], [1.0, \"#f0f921\"]], \"type\": \"histogram2d\"}], \"histogram2dcontour\": [{\"colorbar\": {\"outlinewidth\": 0, \"ticks\": \"\"}, \"colorscale\": [[0.0, \"#0d0887\"], [0.1111111111111111, \"#46039f\"], [0.2222222222222222, \"#7201a8\"], [0.3333333333333333, \"#9c179e\"], [0.4444444444444444, \"#bd3786\"], [0.5555555555555556, \"#d8576b\"], [0.6666666666666666, \"#ed7953\"], [0.7777777777777778, \"#fb9f3a\"], [0.8888888888888888, \"#fdca26\"], [1.0, \"#f0f921\"]], \"type\": \"histogram2dcontour\"}], \"mesh3d\": [{\"colorbar\": {\"outlinewidth\": 0, \"ticks\": \"\"}, \"type\": \"mesh3d\"}], \"parcoords\": [{\"line\": {\"colorbar\": {\"outlinewidth\": 0, \"ticks\": \"\"}}, \"type\": \"parcoords\"}], \"pie\": [{\"automargin\": true, \"type\": \"pie\"}], \"scatter\": [{\"marker\": {\"colorbar\": {\"outlinewidth\": 0, \"ticks\": \"\"}}, \"type\": \"scatter\"}], \"scatter3d\": [{\"line\": {\"colorbar\": {\"outlinewidth\": 0, \"ticks\": \"\"}}, \"marker\": {\"colorbar\": {\"outlinewidth\": 0, \"ticks\": \"\"}}, \"type\": \"scatter3d\"}], \"scattercarpet\": [{\"marker\": {\"colorbar\": {\"outlinewidth\": 0, \"ticks\": \"\"}}, \"type\": \"scattercarpet\"}], \"scattergeo\": [{\"marker\": {\"colorbar\": {\"outlinewidth\": 0, \"ticks\": \"\"}}, \"type\": \"scattergeo\"}], \"scattergl\": [{\"marker\": {\"colorbar\": {\"outlinewidth\": 0, \"ticks\": \"\"}}, \"type\": \"scattergl\"}], \"scattermapbox\": [{\"marker\": {\"colorbar\": {\"outlinewidth\": 0, \"ticks\": \"\"}}, \"type\": \"scattermapbox\"}], \"scatterpolar\": [{\"marker\": {\"colorbar\": {\"outlinewidth\": 0, \"ticks\": \"\"}}, \"type\": \"scatterpolar\"}], \"scatterpolargl\": [{\"marker\": {\"colorbar\": {\"outlinewidth\": 0, \"ticks\": \"\"}}, \"type\": \"scatterpolargl\"}], \"scatterternary\": [{\"marker\": {\"colorbar\": {\"outlinewidth\": 0, \"ticks\": \"\"}}, \"type\": \"scatterternary\"}], \"surface\": [{\"colorbar\": {\"outlinewidth\": 0, \"ticks\": \"\"}, \"colorscale\": [[0.0, \"#0d0887\"], [0.1111111111111111, \"#46039f\"], [0.2222222222222222, \"#7201a8\"], [0.3333333333333333, \"#9c179e\"], [0.4444444444444444, \"#bd3786\"], [0.5555555555555556, \"#d8576b\"], [0.6666666666666666, \"#ed7953\"], [0.7777777777777778, \"#fb9f3a\"], [0.8888888888888888, \"#fdca26\"], [1.0, \"#f0f921\"]], \"type\": \"surface\"}], \"table\": [{\"cells\": {\"fill\": {\"color\": \"#EBF0F8\"}, \"line\": {\"color\": \"white\"}}, \"header\": {\"fill\": {\"color\": \"#C8D4E3\"}, \"line\": {\"color\": \"white\"}}, \"type\": \"table\"}]}, \"layout\": {\"annotationdefaults\": {\"arrowcolor\": \"#2a3f5f\", \"arrowhead\": 0, \"arrowwidth\": 1}, \"coloraxis\": {\"colorbar\": {\"outlinewidth\": 0, \"ticks\": \"\"}}, \"colorscale\": {\"diverging\": [[0, \"#8e0152\"], [0.1, \"#c51b7d\"], [0.2, \"#de77ae\"], [0.3, \"#f1b6da\"], [0.4, \"#fde0ef\"], [0.5, \"#f7f7f7\"], [0.6, \"#e6f5d0\"], [0.7, \"#b8e186\"], [0.8, \"#7fbc41\"], [0.9, \"#4d9221\"], [1, \"#276419\"]], \"sequential\": [[0.0, \"#0d0887\"], [0.1111111111111111, \"#46039f\"], [0.2222222222222222, \"#7201a8\"], [0.3333333333333333, \"#9c179e\"], [0.4444444444444444, \"#bd3786\"], [0.5555555555555556, \"#d8576b\"], [0.6666666666666666, \"#ed7953\"], [0.7777777777777778, \"#fb9f3a\"], [0.8888888888888888, \"#fdca26\"], [1.0, \"#f0f921\"]], \"sequentialminus\": [[0.0, \"#0d0887\"], [0.1111111111111111, \"#46039f\"], [0.2222222222222222, \"#7201a8\"], [0.3333333333333333, \"#9c179e\"], [0.4444444444444444, \"#bd3786\"], [0.5555555555555556, \"#d8576b\"], [0.6666666666666666, \"#ed7953\"], [0.7777777777777778, \"#fb9f3a\"], [0.8888888888888888, \"#fdca26\"], [1.0, \"#f0f921\"]]}, \"colorway\": [\"#636efa\", \"#EF553B\", \"#00cc96\", \"#ab63fa\", \"#FFA15A\", \"#19d3f3\", \"#FF6692\", \"#B6E880\", \"#FF97FF\", \"#FECB52\"], \"font\": {\"color\": \"#2a3f5f\"}, \"geo\": {\"bgcolor\": \"white\", \"lakecolor\": \"white\", \"landcolor\": \"#E5ECF6\", \"showlakes\": true, \"showland\": true, \"subunitcolor\": \"white\"}, \"hoverlabel\": {\"align\": \"left\"}, \"hovermode\": \"closest\", \"mapbox\": {\"style\": \"light\"}, \"paper_bgcolor\": \"white\", \"plot_bgcolor\": \"#E5ECF6\", \"polar\": {\"angularaxis\": {\"gridcolor\": \"white\", \"linecolor\": \"white\", \"ticks\": \"\"}, \"bgcolor\": \"#E5ECF6\", \"radialaxis\": {\"gridcolor\": \"white\", \"linecolor\": \"white\", \"ticks\": \"\"}}, \"scene\": {\"xaxis\": {\"backgroundcolor\": \"#E5ECF6\", \"gridcolor\": \"white\", \"gridwidth\": 2, \"linecolor\": \"white\", \"showbackground\": true, \"ticks\": \"\", \"zerolinecolor\": \"white\"}, \"yaxis\": {\"backgroundcolor\": \"#E5ECF6\", \"gridcolor\": \"white\", \"gridwidth\": 2, \"linecolor\": \"white\", \"showbackground\": true, \"ticks\": \"\", \"zerolinecolor\": \"white\"}, \"zaxis\": {\"backgroundcolor\": \"#E5ECF6\", \"gridcolor\": \"white\", \"gridwidth\": 2, \"linecolor\": \"white\", \"showbackground\": true, \"ticks\": \"\", \"zerolinecolor\": \"white\"}}, \"shapedefaults\": {\"line\": {\"color\": \"#2a3f5f\"}}, \"ternary\": {\"aaxis\": {\"gridcolor\": \"white\", \"linecolor\": \"white\", \"ticks\": \"\"}, \"baxis\": {\"gridcolor\": \"white\", \"linecolor\": \"white\", \"ticks\": \"\"}, \"bgcolor\": \"#E5ECF6\", \"caxis\": {\"gridcolor\": \"white\", \"linecolor\": \"white\", \"ticks\": \"\"}}, \"title\": {\"x\": 0.05}, \"xaxis\": {\"automargin\": true, \"gridcolor\": \"white\", \"linecolor\": \"white\", \"ticks\": \"\", \"title\": {\"standoff\": 15}, \"zerolinecolor\": \"white\", \"zerolinewidth\": 2}, \"yaxis\": {\"automargin\": true, \"gridcolor\": \"white\", \"linecolor\": \"white\", \"ticks\": \"\", \"title\": {\"standoff\": 15}, \"zerolinecolor\": \"white\", \"zerolinewidth\": 2}}}, \"title\": {\"text\": \"3d TSNE Plot for Clusters\"}, \"width\": 900},\n",
       "                        {\"responsive\": true}\n",
       "                    ).then(function(){\n",
       "                            \n",
       "var gd = document.getElementById('3c70dac5-3bab-4844-8a9f-876a879f74d1');\n",
       "var x = new MutationObserver(function (mutations, observer) {{\n",
       "        var display = window.getComputedStyle(gd).display;\n",
       "        if (!display || display === 'none') {{\n",
       "            console.log([gd, 'removed!']);\n",
       "            Plotly.purge(gd);\n",
       "            observer.disconnect();\n",
       "        }}\n",
       "}});\n",
       "\n",
       "// Listen for the removal of the full notebook cells\n",
       "var notebookContainer = gd.closest('#notebook-container');\n",
       "if (notebookContainer) {{\n",
       "    x.observe(notebookContainer, {childList: true});\n",
       "}}\n",
       "\n",
       "// Listen for the clearing of the current output cell\n",
       "var outputEl = gd.closest('.output');\n",
       "if (outputEl) {{\n",
       "    x.observe(outputEl, {childList: true});\n",
       "}}\n",
       "\n",
       "                        })\n",
       "                };\n",
       "                });\n",
       "            </script>\n",
       "        </div>"
      ]
     },
     "metadata": {},
     "output_type": "display_data"
    }
   ],
   "source": [
    "plot_model(kmeans, plot = 'tsne')"
   ]
  },
  {
   "cell_type": "code",
   "execution_count": 11,
   "metadata": {},
   "outputs": [
    {
     "data": {
      "text/html": [
       "        <script type=\"text/javascript\">\n",
       "        window.PlotlyConfig = {MathJaxConfig: 'local'};\n",
       "        if (window.MathJax) {MathJax.Hub.Config({SVG: {font: \"STIX-Web\"}});}\n",
       "        if (typeof require !== 'undefined') {\n",
       "        require.undef(\"plotly\");\n",
       "        requirejs.config({\n",
       "            paths: {\n",
       "                'plotly': ['https://cdn.plot.ly/plotly-latest.min']\n",
       "            }\n",
       "        });\n",
       "        require(['plotly'], function(Plotly) {\n",
       "            window._Plotly = Plotly;\n",
       "        });\n",
       "        }\n",
       "        </script>\n",
       "        "
      ]
     },
     "metadata": {},
     "output_type": "display_data"
    },
    {
     "data": {
      "image/png": "[encoded data removed]",
      "text/plain": [
       "<Figure size 576x396 with 1 Axes>"
      ]
     },
     "metadata": {},
     "output_type": "display_data"
    }
   ],
   "source": [
    "plot_model(kmeans, plot = 'elbow')"
   ]
  },
  {
   "cell_type": "code",
   "execution_count": 12,
   "metadata": {},
   "outputs": [
    {
     "data": {
      "text/html": [
       "        <script type=\"text/javascript\">\n",
       "        window.PlotlyConfig = {MathJaxConfig: 'local'};\n",
       "        if (window.MathJax) {MathJax.Hub.Config({SVG: {font: \"STIX-Web\"}});}\n",
       "        if (typeof require !== 'undefined') {\n",
       "        require.undef(\"plotly\");\n",
       "        requirejs.config({\n",
       "            paths: {\n",
       "                'plotly': ['https://cdn.plot.ly/plotly-latest.min']\n",
       "            }\n",
       "        });\n",
       "        require(['plotly'], function(Plotly) {\n",
       "            window._Plotly = Plotly;\n",
       "        });\n",
       "        }\n",
       "        </script>\n",
       "        "
      ]
     },
     "metadata": {},
     "output_type": "display_data"
    },
    {
     "data": {
      "image/png": "[encoded data removed]",
      "text/plain": [
       "<Figure size 576x396 with 1 Axes>"
      ]
     },
     "metadata": {},
     "output_type": "display_data"
    }
   ],
   "source": [
    "plot_model(kmeans, plot = 'silhouette')"
   ]
  },
  {
   "cell_type": "code",
   "execution_count": 13,
   "metadata": {},
   "outputs": [
    {
     "data": {
      "text/html": [
       "        <script type=\"text/javascript\">\n",
       "        window.PlotlyConfig = {MathJaxConfig: 'local'};\n",
       "        if (window.MathJax) {MathJax.Hub.Config({SVG: {font: \"STIX-Web\"}});}\n",
       "        if (typeof require !== 'undefined') {\n",
       "        require.undef(\"plotly\");\n",
       "        requirejs.config({\n",
       "            paths: {\n",
       "                'plotly': ['https://cdn.plot.ly/plotly-latest.min']\n",
       "            }\n",
       "        });\n",
       "        require(['plotly'], function(Plotly) {\n",
       "            window._Plotly = Plotly;\n",
       "        });\n",
       "        }\n",
       "        </script>\n",
       "        "
      ]
     },
     "metadata": {},
     "output_type": "display_data"
    },
    {
     "data": {
      "image/png": "[encoded data removed]",
      "text/plain": [
       "<Figure size 576x396 with 2 Axes>"
      ]
     },
     "metadata": {},
     "output_type": "display_data"
    }
   ],
   "source": [
    "plot_model(kmeans, plot = 'distance')"
   ]
  },
  {
   "cell_type": "code",
   "execution_count": 14,
   "metadata": {},
   "outputs": [
    {
     "data": {
      "text/html": [
       "        <script type=\"text/javascript\">\n",
       "        window.PlotlyConfig = {MathJaxConfig: 'local'};\n",
       "        if (window.MathJax) {MathJax.Hub.Config({SVG: {font: \"STIX-Web\"}});}\n",
       "        if (typeof require !== 'undefined') {\n",
       "        require.undef(\"plotly\");\n",
       "        requirejs.config({\n",
       "            paths: {\n",
       "                'plotly': ['https://cdn.plot.ly/plotly-latest.min']\n",
       "            }\n",
       "        });\n",
       "        require(['plotly'], function(Plotly) {\n",
       "            window._Plotly = Plotly;\n",
       "        });\n",
       "        }\n",
       "        </script>\n",
       "        "
      ]
     },
     "metadata": {},
     "output_type": "display_data"
    },
    {
     "data": {
      "application/vnd.plotly.v1+json": {
       "config": {
        "plotlyServerURL": "https://plot.ly"
       },
       "data": [
        {
         "alignmentgroup": "True",
         "bingroup": "x",
         "hoverlabel": {
          "namelength": 0
         },
         "hovertemplate": "Cluster=%{x}<br>count=%{y}",
         "legendgroup": "Cluster=Cluster 0",
         "marker": {
          "color": "#636efa",
          "opacity": 0.7
         },
         "name": "Cluster=Cluster 0",
         "offsetgroup": "Cluster=Cluster 0",
         "orientation": "v",
         "showlegend": true,
         "type": "histogram",
         "x": [
          "Cluster 0",
          "Cluster 0",
          "Cluster 0",
          "Cluster 0",
          "Cluster 0",
          "Cluster 0",
          "Cluster 0",
          "Cluster 0",
          "Cluster 0",
          "Cluster 0",
          "Cluster 0",
          "Cluster 0",
          "Cluster 0",
          "Cluster 0",
          "Cluster 0",
          "Cluster 0",
          "Cluster 0",
          "Cluster 0",
          "Cluster 0",
          "Cluster 0",
          "Cluster 0",
          "Cluster 0",
          "Cluster 0",
          "Cluster 0",
          "Cluster 0",
          "Cluster 0",
          "Cluster 0",
          "Cluster 0",
          "Cluster 0",
          "Cluster 0",
          "Cluster 0",
          "Cluster 0",
          "Cluster 0",
          "Cluster 0",
          "Cluster 0",
          "Cluster 0",
          "Cluster 0",
          "Cluster 0",
          "Cluster 0",
          "Cluster 0",
          "Cluster 0",
          "Cluster 0",
          "Cluster 0",
          "Cluster 0",
          "Cluster 0",
          "Cluster 0",
          "Cluster 0",
          "Cluster 0",
          "Cluster 0",
          "Cluster 0",
          "Cluster 0",
          "Cluster 0",
          "Cluster 0",
          "Cluster 0",
          "Cluster 0",
          "Cluster 0",
          "Cluster 0",
          "Cluster 0",
          "Cluster 0",
          "Cluster 0",
          "Cluster 0",
          "Cluster 0",
          "Cluster 0",
          "Cluster 0",
          "Cluster 0",
          "Cluster 0",
          "Cluster 0"
         ],
         "xaxis": "x",
         "yaxis": "y"
        },
        {
         "alignmentgroup": "True",
         "customdata": [
          [
           "Honduras",
           2.86657957,
           2.460607584,
           2.37295217,
           2.92390839,
           2.902757343,
           3.592970163,
           3.6164590089999997,
           3.906168524,
           4.7330869369999995,
           4.207177311000001,
           3.905898653,
           3.48897019,
           3.63946928,
           3.7255735989999996,
           4.554171531000001,
           4.215610713999999,
           3.916841875,
           4.453647583,
           4.457074848,
           4.41783425,
           "Cluster 0"
          ],
          [
           "Dominica",
           4.159861137,
           4.217261905,
           4.370036617,
           4.155978162,
           4.149951581,
           3.308396479,
           3.23826402,
           3.290272803,
           3.173775978,
           2.9741580819999998,
           3.0197000010000004,
           3.094683051,
           3.0779197789999997,
           2.96951027,
           3.6526046819999998,
           4.047182568999999,
           3.9743900930000002,
           3.6693638839999996,
           3.812216844,
           3.767972854,
           "Cluster 0"
          ],
          [
           "Djibouti",
           2.384148412,
           2.318293685,
           2.83292067,
           3.6097572010000003,
           4.407148156,
           3.9005062999999995,
           3.4863802660000003,
           3.516449396,
           4.167696582,
           4.600888287,
           4.939467764,
           4.702732187,
           5.337600592,
           5.745632858,
           5.957206032,
           5.149939099,
           5.019683712,
           5.25888563,
           5.322417486,
           6.750847587000001,
           "Cluster 0"
          ],
          [
           "Samoa",
           3.390716641,
           3.010723905,
           3.338794876,
           3.926948968,
           4.269501817,
           4.11544971,
           3.848022139,
           3.940851472,
           3.64949145,
           3.596860784,
           3.5879326000000002,
           3.925566538,
           4.509782876,
           3.8248453000000002,
           4.341031427,
           4.985224399,
           5.101682632,
           4.337641237,
           6.216667467000001,
           6.536868986,
           "Cluster 0"
          ],
          [
           "San Marino",
           4.5639391830000005,
           4.383787117,
           4.3124433369999995,
           4.248369167,
           4.300679912,
           4.385399883,
           4.296809438,
           4.26944922,
           3.90726845,
           3.832377435,
           3.7497484489999997,
           3.52237298,
           3.54154425,
           3.616263881,
           4.204062797,
           4.647450421,
           5.322357589,
           5.865948338,
           5.656072233,
           5.736058813,
           "Cluster 0"
          ],
          [
           "Sao Tome and Principe",
           2.805079353,
           1.966810767,
           2.938184371,
           2.9092363480000003,
           3.8562996519999997,
           3.823975859,
           3.792038305,
           3.8456142939999998,
           6.03861594,
           5.1383615769999995,
           5.29330423,
           2.5410377769999997,
           2.13790765,
           1.592076218,
           2.507352864,
           2.537331158,
           2.6053125880000003,
           2.48230437,
           3.5868170939999997,
           3.612254726,
           "Cluster 0"
          ],
          [
           "Colombia",
           3.7205698160000003,
           5.067606606,
           5.593914054,
           6.103439101,
           6.459251592,
           4.683826863999999,
           4.690523841,
           4.549736058,
           4.899277437,
           4.082866763999999,
           4.316017077,
           4.535042305,
           4.539526519,
           4.698007256,
           5.148273784,
           4.9756529380000005,
           5.016164698,
           5.277512194,
           5.2189183660000005,
           5.409943154,
           "Cluster 0"
          ],
          [
           "Chile",
           2.483034377,
           2.667579501,
           2.722896255,
           2.999279862,
           3.188783313,
           3.332061767,
           3.484542158,
           3.529890881,
           2.687549761,
           2.63814344,
           2.536291524,
           2.517617347,
           2.655656258,
           2.942588718,
           3.468102151,
           3.294925632,
           3.3326392360000003,
           3.4761647210000004,
           3.632821452,
           3.8513094239999996,
           "Cluster 0"
          ],
          [
           "Cabo Verde",
           4.252399745,
           3.9401934880000002,
           3.862837242,
           3.92627046,
           3.424656164,
           3.5249331219999998,
           3.9135356839999997,
           3.893120524,
           3.746871642,
           3.7893525489999997,
           3.649990513,
           3.962680293,
           3.3863364560000004,
           3.03734974,
           3.239265323,
           3.431766845,
           3.3357602589999997,
           3.33864148,
           3.120439872,
           3.557226753,
           "Cluster 0"
          ],
          [
           "Solomon Islands",
           3.013517642,
           2.7842825980000003,
           3.047041542,
           3.2772146280000003,
           3.544792113,
           4.299521273,
           6.162337203,
           5.8209578,
           5.537965968,
           5.180937453,
           7.370558602000001,
           6.205507441,
           5.9541656089999995,
           5.522732105,
           7.453790237000001,
           7.022895121,
           4.696250372,
           5.0946949560000006,
           4.99069527,
           4.640482319,
           "Cluster 0"
          ],
          [
           "Bulgaria",
           3.515523463,
           3.1825410080000003,
           3.397999988,
           3.262490099,
           3.883886627,
           3.6982741960000003,
           4.2243892810000006,
           4.536791795,
           4.617962963,
           4.30515357,
           4.312971455,
           3.800812847,
           3.730705859,
           3.8703163560000005,
           3.75184985,
           4.0342301,
           3.7596558460000002,
           3.9998185019999997,
           4.1228617419999996,
           4.60763146,
           "Cluster 0"
          ],
          [
           "South Africa",
           3.4277404380000003,
           3.8406204760000002,
           3.7549938330000003,
           3.584417155,
           3.418376453,
           3.290839079,
           3.330803407,
           3.231917455,
           3.3379947910000003,
           3.218086131,
           3.315898573,
           3.360932915,
           3.3985272369999997,
           3.595345502,
           3.94739833,
           3.990053885,
           4.1340834939999995,
           4.276293506,
           4.204760905,
           4.24326873,
           "Cluster 0"
          ],
          [
           "Brazil",
           2.800558403,
           2.700450075,
           2.874414942,
           2.7969900130000003,
           2.9525750339999997,
           2.832471845,
           3.040958916,
           3.1829922930000003,
           3.080328175,
           3.323675591,
           3.43190885,
           3.4926520919999997,
           3.4551482289999997,
           3.61158219,
           3.8413556489999996,
           3.786139623,
           3.6540019860000004,
           3.66135204,
           3.827307012,
           3.831759885,
           "Cluster 0"
          ],
          [
           "Botswana",
           2.126873521,
           2.123124439,
           2.429731822,
           2.1792576759999998,
           2.163569841,
           2.8998524210000003,
           4.146457238,
           4.894689856,
           2.969796404,
           3.888095917,
           4.090479196,
           3.479114149,
           3.3157118810000004,
           3.9283219289999995,
           4.494537231,
           3.544461785,
           3.236016942,
           3.9553822110000003,
           3.50694528,
           3.193884455,
           "Cluster 0"
          ],
          [
           "Bolivia",
           2.112215194,
           2.9782255189999995,
           2.66726091,
           3.122442061,
           3.602860899,
           3.245343618,
           3.744167609,
           4.101807461,
           3.4962789219999997,
           3.492276415,
           3.860740789,
           3.521340785,
           3.408827783,
           3.4068432439999996,
           3.9482262710000002,
           3.662996725,
           3.7521416939999996,
           3.772366172,
           4.238349186000001,
           4.565377537,
           "Cluster 0"
          ],
          [
           "Bhutan",
           2.655671226,
           4.92248937,
           5.589715842,
           5.420760961,
           5.060485995,
           5.325051654,
           4.849893798,
           6.60698513,
           3.749019455,
           3.193554605,
           4.166375755,
           4.29057998,
           5.118893938,
           5.5624086660000005,
           4.8912954719999995,
           4.544794957,
           4.142893462,
           2.7008609310000002,
           2.804824773,
           2.6150396540000003,
           "Cluster 0"
          ],
          [
           "Belarus",
           4.793950729,
           4.696646664,
           5.427282394,
           4.588919064,
           4.7158020689999995,
           4.626454599,
           4.739935352,
           4.560548727,
           4.8657554869999995,
           4.922950998,
           5.022738287,
           4.4504001230000005,
           4.451424325,
           3.871576451,
           3.895442402,
           4.3148055439999995,
           3.472557647,
           3.8657578999999997,
           4.022291167,
           3.7417552510000003,
           "Cluster 0"
          ],
          [
           "Barbados",
           3.541707878,
           3.461739847,
           3.3299528030000003,
           3.1894177860000004,
           3.277842886,
           3.392050008,
           3.6966440169999997,
           3.962990388,
           3.8432781069999997,
           3.7180714760000004,
           3.4632789969999997,
           3.415845805,
           3.7583009119999997,
           4.056312343,
           4.144961775,
           4.009928747,
           4.155989917,
           4.841513416000001,
           4.899894263,
           4.744632219,
           "Cluster 0"
          ],
          [
           "St. Lucia",
           3.044466017,
           3.540413289,
           3.011746972,
           3.0899609160000003,
           3.0860480160000003,
           2.8750947069999997,
           3.2434443760000002,
           3.2677446619999997,
           2.943800165,
           2.9480524710000005,
           2.8950996630000003,
           3.1148809789999996,
           2.979865278,
           3.573426446,
           4.401846474,
           4.034045185,
           3.262981082,
           4.207408698,
           3.535976399,
           3.599295246,
           "Cluster 0"
          ],
          [
           "St. Vincent and the Grenadines",
           3.78040306,
           3.7626628060000002,
           3.905015857,
           3.379166091,
           3.4596669789999996,
           3.067373134,
           2.950634745,
           3.231535161,
           3.2055298039999998,
           3.022706918,
           2.9590426830000003,
           3.1835519619999997,
           3.2201201989999997,
           3.946405784,
           4.33049775,
           3.8582360810000003,
           4.092983481,
           4.403446842,
           4.3086,
           4.385223105,
           "Cluster 0"
          ],
          [
           "Russian Federation",
           3.962243165,
           3.9654738039999997,
           5.026415056,
           4.308860664,
           3.585441199,
           3.2468243560000003,
           3.328637239,
           3.530756868,
           3.298708379,
           3.090936853,
           3.2304787619999997,
           3.35436078,
           3.452891195,
           3.520137222,
           4.159022037,
           3.696945486,
           3.58245544,
           3.795838898,
           3.7073014489999996,
           3.6909228080000003,
           "Cluster 0"
          ],
          [
           "Suriname",
           4.471885239,
           3.145059885,
           5.651223383,
           7.115667758,
           5.196504662,
           5.6175626670000005,
           4.184378634,
           3.551353558,
           3.3571448680000002,
           3.3271645260000002,
           3.469387753,
           3.177793139,
           2.9772981,
           2.709678901,
           3.196518003,
           2.930358668,
           2.921405525,
           3.215861695,
           3.202562051,
           2.94062408,
           "Cluster 0"
          ],
          [
           "Romania",
           2.397777108,
           2.353719196,
           3.3087963410000003,
           2.8352913060000002,
           3.344160172,
           3.5136997310000004,
           3.534191634,
           3.75783267,
           4.4933842660000005,
           4.0521396,
           4.398723805,
           4.030785785,
           4.278891084,
           4.374197997,
           4.391968392,
           4.68660531,
           4.37807867,
           4.397386285,
           4.520294731,
           4.47447755,
           "Cluster 0"
          ],
          [
           "Estonia",
           5.671494836,
           5.809624371,
           5.51790868,
           4.797024971,
           4.536437438,
           4.075514834,
           3.817487064,
           3.735725858,
           3.775009168,
           3.8771176830000003,
           3.850041558,
           3.6735492119999997,
           3.899242751,
           4.712423412,
           5.216716763,
           4.9273468000000005,
           4.625885477,
           5.115761648,
           5.138603368,
           5.028395902,
           "Cluster 0"
          ],
          [
           "Moldova",
           5.815895061,
           6.709797385,
           6.075025236,
           4.323722867,
           2.901963967,
           3.229712857,
           3.2075372680000003,
           4.040610039,
           3.9671964969999998,
           4.182380118999999,
           4.176139383,
           4.718684365,
           4.9197080269999995,
           5.389847747999999,
           6.0594371979999995,
           5.621478753,
           5.311539911000001,
           5.517522784,
           5.031340165,
           5.303988304,
           "Cluster 0"
          ],
          [
           "Malawi",
           1.865213739,
           1.26338764,
           1.600434006,
           1.88109678,
           2.274782235,
           2.7785565489999997,
           2.215081497,
           2.912550035,
           4.578496658,
           5.71696331,
           6.066366509,
           6.194908259,
           4.41611059,
           6.096624721,
           6.185752937,
           6.339254893,
           6.933702546,
           6.765934565,
           5.793450792000001,
           5.998620835,
           "Cluster 0"
          ],
          [
           "Monaco",
           2.7828046389999996,
           2.722031577,
           2.8387481,
           2.760402313,
           2.989907557,
           2.8661872330000002,
           2.911772468,
           2.956788105,
           3.466538501,
           3.5451300519999998,
           3.528936649,
           3.360320254,
           2.952654785,
           3.1897775960000003,
           3.8011578999999998,
           3.896460373,
           3.705257089,
           3.764195008,
           3.554960152,
           3.841098459,
           "Cluster 0"
          ],
          [
           "Macedonia, FYR",
           4.996397418,
           5.135953651,
           5.5549962939999995,
           6.489321372000001,
           5.341639155,
           4.787766545,
           4.631112465,
           5.191571141,
           5.226034904,
           5.039289244,
           4.781614783999999,
           4.87674973,
           4.445867739,
           4.7474917,
           4.456857728999999,
           4.292903636,
           4.272932737,
           4.42539678,
           4.204269092,
           4.1014206380000005,
           "Cluster 0"
          ],
          [
           "Lithuania",
           3.985217925,
           3.931004202,
           4.1614319669999995,
           4.616115978,
           4.64619213,
           4.501929246,
           4.5479188619999995,
           4.792172072,
           4.929875383,
           3.83247282,
           3.953664458,
           4.3067158469999995,
           4.542177272,
           4.784195764,
           5.485546619,
           5.020955675,
           4.739136876,
           4.349539439,
           4.312630815,
           4.446889612,
           "Cluster 0"
          ],
          [
           "Lebanon",
           4.242476487,
           4.991736717,
           5.0616362619999995,
           3.144910175,
           2.943009427,
           3.20634861,
           3.733963909,
           3.735593505,
           3.496375815,
           3.711970773,
           3.7443329469999997,
           3.631882475,
           3.7155355410000004,
           3.144813413,
           3.123417148,
           2.708551485,
           2.7443969960000003,
           3.235855284,
           3.054229695,
           3.043924599,
           "Cluster 0"
          ],
          [
           "Latvia",
           3.820164845,
           3.525870433,
           3.4596156560000004,
           3.6262617789999996,
           3.728657225,
           3.2654466760000003,
           3.1577079460000004,
           3.2790679739999997,
           3.2495228560000005,
           3.684698103,
           3.637151355,
           4.357857145,
           4.255979,
           4.124515045,
           4.070041625,
           3.9402581469999998,
           3.873401416,
           3.576955393,
           3.539843039,
           3.7152319819999997,
           "Cluster 0"
          ],
          [
           "Montenegro",
           5.196505917,
           5.196505919,
           5.196505921,
           5.1965059160000004,
           5.196505922,
           5.19650592,
           5.9571847689999995,
           5.880242121,
           6.663011347,
           6.232366722999999,
           6.022940018,
           5.613499871,
           4.5478217039999995,
           3.9917967869999997,
           3.61393065,
           4.173469442,
           4.186590285,
           4.4723783919999995,
           3.719088236,
           3.66738093,
           "Cluster 0"
          ],
          [
           "Mozambique",
           3.3965561789999996,
           2.598261241,
           2.955873935,
           2.9684768339999996,
           3.5660974999999997,
           4.311883073,
           3.9675961089999996,
           4.488862031,
           4.108240978,
           3.521927947,
           4.306135066,
           3.950981842,
           3.1000050960000003,
           2.606804503,
           2.515159938,
           3.0181028260000002,
           2.6645777330000002,
           2.776382768,
           3.1190876260000002,
           3.936734776,
           "Cluster 0"
          ],
          [
           "Namibia",
           4.413658721,
           4.750908805,
           4.924511725,
           4.952596648,
           5.111744353,
           4.214029426000001,
           3.474246902,
           3.576968668,
           3.722335405,
           3.207038753,
           3.579619723,
           3.129120087,
           3.800771171,
           3.89854309,
           4.417229575,
           4.594429367,
           5.315764413999999,
           4.854097749,
           5.029136422,
           5.357137699,
           "Cluster 0"
          ],
          [
           "Jordan",
           5.328898363,
           5.441182157,
           5.116392745,
           5.300589761,
           4.991069703,
           4.635309347,
           4.786093096,
           4.810691426,
           4.451036994,
           4.692325909,
           4.761008321,
           4.48990028,
           4.994181963,
           5.431250455,
           6.6959843029999995,
           5.921295616,
           5.905862126000001,
           5.5093025760000005,
           4.873555443,
           5.1931019460000005,
           "Cluster 0"
          ],
          [
           "Israel",
           4.950145432,
           5.108144225,
           5.144840787,
           4.762189233,
           4.6017821119999995,
           4.460361462,
           4.719172153,
           4.737818754,
           4.587586374,
           4.473436246,
           4.408425818,
           4.702560226,
           4.56088595,
           4.471592985,
           4.560773264,
           4.6122764819999995,
           4.618524658,
           4.865016995,
           4.857808386,
           4.751695808,
           "Cluster 0"
          ],
          [
           "Nicaragua",
           4.1750942769999995,
           3.7946175460000005,
           2.577101237,
           2.772020641,
           2.433647188,
           2.881102037,
           2.8359501239999996,
           2.995229948,
           3.46223108,
           3.389498166,
           3.45056744,
           3.473051685,
           3.792404173,
           3.830040753,
           4.286697443,
           4.288147231,
           4.081974306,
           4.260162572,
           4.420152655,
           5.095797672,
           "Cluster 0"
          ],
          [
           "Hungary",
           6.06578493,
           5.707631445,
           5.48077096,
           5.293047243,
           5.215692477,
           4.992262794,
           4.907747893,
           5.241660919,
           5.986829456000001,
           5.625904986,
           5.798315898999999,
           5.651159262,
           5.050828075,
           4.9125672730000005,
           4.958614911000001,
           5.117494816000001,
           5.029887063,
           4.910106031000001,
           4.905828404,
           4.8830819089999995,
           "Cluster 0"
          ],
          [
           "Guyana",
           4.1236919819999995,
           4.042182563,
           4.267222814,
           4.314013546,
           3.815805252,
           4.954943485,
           4.898010308,
           4.94658054,
           4.749728887,
           4.548307265,
           4.359658645,
           3.044944275,
           4.685796052,
           5.5972460139999995,
           5.30091141,
           4.460583707,
           4.57147769,
           4.339437853,
           2.896153441,
           3.119698091,
           "Cluster 0"
          ],
          [
           "Grenada",
           3.0064343160000004,
           3.0167429230000002,
           3.157869167,
           3.151488805,
           3.7073192410000004,
           3.4469993260000003,
           4.513238797,
           3.5245498769999997,
           3.055066908,
           2.7005638910000003,
           2.918936395,
           3.208181759,
           2.897890968,
           2.691541613,
           3.073334628,
           3.100526247,
           3.040190628,
           3.045941945,
           2.7824442680000003,
           2.827357413,
           "Cluster 0"
          ],
          [
           "Panama",
           5.246581756,
           4.628785357,
           4.875049583,
           4.727189573,
           4.543351694,
           5.284626305,
           5.179758628,
           5.544147842,
           5.046701513,
           5.688574188,
           5.205403273,
           4.7207796019999995,
           4.048878178,
           4.666452338,
           5.63276516,
           5.6500218460000005,
           5.08973241,
           4.9715198019999995,
           5.804010025,
           5.878366088,
           "Cluster 0"
          ],
          [
           "Papua New Guinea",
           2.449537747,
           2.585706214,
           2.9792040010000003,
           3.16658124,
           3.373244226,
           3.2561626969999997,
           5.895055792999999,
           6.716728432999999,
           6.024920708,
           7.601456272999999,
           5.47058434,
           5.05912292,
           3.123843205,
           3.0754131780000002,
           3.2208812860000005,
           3.1834109230000003,
           4.041347222,
           3.653279542,
           3.906003811,
           3.46554272,
           "Cluster 0"
          ],
          [
           "Poland",
           3.905037381,
           4.224738069,
           3.983748404,
           3.828606974,
           4.0329012760000005,
           3.852713136,
           4.210391357,
           4.497808461,
           4.349887106000001,
           4.242001236,
           4.298902044,
           4.313210083,
           4.4203601710000004,
           4.935315917,
           5.097181114,
           4.902807428,
           4.710355764,
           4.577515541,
           4.534424797,
           4.507639603,
           "Cluster 0"
          ],
          [
           "El Salvador",
           2.456765433,
           3.106327227,
           3.204772995,
           3.68357541,
           3.6517329339999995,
           3.796302763,
           3.753448667,
           3.8056802210000003,
           3.750173665,
           3.6353041960000003,
           3.8125530939999996,
           4.153138804,
           3.7447696460000004,
           3.706714781,
           4.133696927,
           4.29012069,
           4.327903341,
           4.2104711539999995,
           4.632291908,
           4.4695083239999995,
           "Cluster 0"
          ],
          [
           "Argentina",
           4.966443086,
           4.631641218,
           4.553044297,
           4.624211713999999,
           5.152315686000001,
           4.9658035819999995,
           5.065933992,
           4.4529400489999995,
           4.251023183,
           3.522396758,
           3.6642338480000003,
           3.654868936,
           3.7830748410000004,
           4.121097352,
           5.040785799,
           4.163482345,
           3.745392503,
           2.9589508739999997,
           2.735022008,
           2.652673798,
           "Cluster 0"
          ],
          [
           "Seychelles",
           4.22296599,
           4.451643869,
           4.820469327,
           4.185799521,
           4.236396955,
           3.785614663,
           3.758676506,
           3.636458774,
           4.145567132,
           3.812610542,
           3.620129416,
           3.4579109889999997,
           3.060728801,
           2.405118358,
           2.413078163,
           3.2088597510000003,
           3.1987716789999996,
           3.797892539,
           3.335699444,
           3.107242732,
           "Cluster 0"
          ],
          [
           "Swaziland",
           2.832071581,
           3.0579196060000005,
           2.812078497,
           2.879100714,
           3.003066511,
           2.9584121,
           2.933657283,
           3.0504573010000002,
           3.719224901,
           3.7224765680000003,
           4.591988907,
           4.559222042,
           4.817315257,
           5.70029508,
           5.768594858999999,
           5.9652663839999995,
           5.971125925,
           6.295393133999999,
           7.374204077999999,
           7.004909495,
           "Cluster 0"
          ],
          [
           "Small states",
           3.0834417839999997,
           3.155744645,
           3.18509596,
           3.337760802,
           3.2314720930000003,
           3.053471183,
           3.067515292,
           3.2739580310000003,
           3.46788155,
           3.3720450910000004,
           3.17828889,
           2.9852425910000004,
           2.963611867,
           2.787731202,
           3.320674555,
           3.01892481,
           2.816008951,
           3.0011255610000003,
           3.061103031,
           2.9930888060000003,
           "Cluster 0"
          ],
          [
           "Tonga",
           2.670824514,
           2.7968637689999998,
           3.040161598,
           3.2127216389999997,
           3.763892167,
           3.350358074,
           4.284100434,
           3.8079197839999996,
           4.233041111,
           4.050934622,
           5.680380494,
           4.879183916000001,
           4.762818289,
           4.186537045,
           3.705109958,
           3.6948683410000003,
           3.223524387,
           3.640530345,
           4.0556243080000005,
           4.265698947,
           "Cluster 0"
          ],
          [
           "Vanuatu",
           2.139305264,
           1.749746805,
           2.296830253,
           3.038570387,
           2.639952543,
           2.73692934,
           2.7885501360000005,
           2.9076602460000003,
           3.4189271389999996,
           3.524656985,
           3.292996247,
           3.427445317,
           3.161681536,
           3.1798915739999996,
           3.4023226980000003,
           4.182597639,
           3.3201783469999997,
           3.167396258,
           3.391475272,
           4.510749546,
           "Cluster 0"
          ],
          [
           "Pacific island small states",
           4.0892714539999995,
           3.644414077,
           3.8171409,
           3.801815827,
           3.794036075,
           4.478110937,
           4.4304985530000005,
           4.3275116780000005,
           4.223171686000001,
           4.262646193,
           4.517164031,
           4.531308472,
           4.42810272,
           4.253259024,
           4.7700180130000005,
           4.858082923,
           4.239523762,
           4.210439148,
           4.497317273,
           4.57632822,
           "Cluster 0"
          ],
          [
           "Other small states",
           3.116200718,
           3.224322602,
           3.2162667689999997,
           3.450544585,
           3.380267205,
           3.0803314939999997,
           3.1597630889999997,
           3.3745049989999996,
           3.6685363239999997,
           3.488791995,
           3.28108097,
           3.027816988,
           2.968221955,
           2.75019805,
           3.2710470039999997,
           2.934337826,
           2.74322401,
           2.926310097,
           2.99114702,
           2.916463762,
           "Cluster 0"
          ],
          [
           "Tunisia",
           2.8943399860000003,
           2.9873341,
           2.6998275119999997,
           2.9193048719999997,
           2.898708402,
           2.961609952,
           2.834447949,
           2.80141766,
           2.833405347,
           2.913685908,
           2.866036298,
           2.9550662180000002,
           2.95239633,
           3.041912298,
           3.5073788560000003,
           3.829212473,
           4.167224012,
           4.157872526,
           4.229623294,
           3.968816495,
           "Cluster 0"
          ],
          [
           "East Asia & Pacific",
           4.429089623,
           4.203151524,
           4.244351189,
           4.4539837680000005,
           4.626919635,
           4.688849242,
           4.684790174,
           4.6135370689999995,
           4.635098319,
           4.626696416000001,
           4.566215205,
           4.367145726,
           4.29739389,
           4.43484819,
           4.865241195,
           4.7758171439999995,
           4.871726678,
           4.866869481,
           4.643220952,
           4.571447568,
           "Cluster 0"
          ],
          [
           "Turkey",
           1.76287716,
           2.007166944,
           2.244024053,
           2.5846704,
           2.913115705,
           3.1142396469999998,
           3.512553806,
           3.786278215,
           3.839653198,
           3.826071088,
           3.696382908,
           3.971039668,
           4.095218575,
           4.435295202,
           4.922531997,
           4.412270438999999,
           4.205859804,
           4.1491432999999995,
           4.225639909,
           4.193778968999999,
           "Cluster 0"
          ],
          [
           "Ukraine",
           5.088198574,
           4.78908302,
           4.193678375,
           3.540202425,
           2.942150479,
           2.895454814,
           3.0721386930000003,
           3.514016208,
           4.042590061,
           3.869747013,
           3.811739442,
           3.884569232,
           3.9304539430000003,
           3.825090501,
           4.292353932,
           4.421334806,
           3.729821242,
           4.12524044,
           4.150794905,
           3.6045211210000003,
           "Cluster 0"
          ],
          [
           "Antigua and Barbuda",
           2.746344563,
           2.505800464,
           2.597402599,
           2.6720647769999997,
           2.744200045,
           2.78780548,
           2.949759953,
           2.950231444,
           2.950013005,
           2.67979353,
           2.950098595,
           2.9501058739999997,
           2.9499999960000003,
           3.3430313860000003,
           3.3438995960000004,
           3.893547142,
           3.8910395589999998,
           3.652332634,
           3.592597393,
           3.7846106760000002,
           "Cluster 0"
          ],
          [
           "Europe & Central Asia (IDA & IBRD countries)",
           3.537976062,
           3.612690525,
           4.047882124,
           3.552856873,
           3.4807646410000004,
           3.385148495,
           3.605372687,
           3.816964108,
           3.794325476,
           3.642164316,
           3.6815884189999997,
           3.721762687,
           3.7981816160000004,
           3.951117848,
           4.401010223,
           4.068056417,
           3.818966004,
           3.9016659039999997,
           3.8579794,
           3.846191068,
           "Cluster 0"
          ],
          [
           "Latin America & the Caribbean (IDA & IBRD countries)",
           2.956811011,
           2.8777881119999997,
           2.968040205,
           3.004957842,
           3.20538333,
           3.0270711969999997,
           3.1075857360000003,
           2.9494428210000003,
           2.962835975,
           3.036156959,
           3.0753731689999997,
           3.0956160919999998,
           3.153372508,
           3.2389997839999998,
           3.700609301,
           3.5632974539999998,
           3.5165400680000003,
           3.452393518,
           3.551660225,
           3.7318080030000003,
           "Cluster 0"
          ],
          [
           "Latin America & Caribbean (excluding high income)",
           2.996164912,
           2.9066398089999996,
           3.008480229,
           3.040838015,
           3.2475128189999998,
           3.059905096,
           3.146714937,
           2.9871068739999997,
           3.037261298,
           3.0705763210000003,
           3.166319862,
           3.1677693789999997,
           3.2753891889999998,
           3.337349586,
           3.804703623,
           3.638582097,
           3.591022045,
           3.496118138,
           3.606970928,
           3.7073110839999996,
           "Cluster 0"
          ],
          [
           "Latin America & Caribbean",
           2.984770895,
           2.9017704010000003,
           2.990421248,
           3.029994934,
           3.235733893,
           3.0606926660000005,
           3.144669013,
           2.998687771,
           3.012572927,
           3.0775050760000005,
           3.161939378,
           3.1608411760000004,
           3.255992195,
           3.335194417,
           3.8119949810000002,
           3.6386887339999996,
           3.592871857,
           3.509236607,
           3.6191427860000003,
           3.73231283,
           "Cluster 0"
          ],
          [
           "Europe & Central Asia (excluding high income)",
           3.401579475,
           3.4078958989999997,
           4.035214654,
           3.4127523760000003,
           3.222938325,
           3.1671554810000004,
           3.357613026,
           3.60566463,
           3.621672658,
           3.4729823339999997,
           3.506735617,
           3.566116863,
           3.6357801139999997,
           3.735160497,
           4.21818788,
           3.878112626,
           3.6528350869999997,
           3.7801599689999996,
           3.736001803,
           3.714756912,
           "Cluster 0"
          ],
          [
           "Thailand",
           1.9694428380000002,
           2.150730975,
           2.536894078,
           2.455703581,
           2.314820676,
           2.302887157,
           2.292282152,
           3.330872158,
           3.467646858,
           3.33413422,
           3.3812775669999997,
           3.904107096,
           4.608862415,
           4.7146609,
           4.734495331000001,
           4.441559229,
           4.995567322,
           5.237115011,
           5.265840143999999,
           5.615380522000001,
           "Cluster 0"
          ],
          [
           "Uruguay",
           3.880155497,
           3.424728604,
           2.61225038,
           2.586152727,
           2.918063853,
           2.711547548,
           2.314327052,
           2.044716466,
           1.7534277219999999,
           7.293884084,
           7.069810766,
           7.2450250910000005,
           4.593274899,
           5.297812748999999,
           5.352676888,
           5.372432,
           5.520950685,
           5.947088677999999,
           6.074635227999999,
           6.111484304,
           "Cluster 0"
          ],
          [
           "Central Europe and the Baltics",
           4.678528481,
           4.753208836000001,
           4.604573867,
           4.499987761,
           4.679082306000001,
           4.539710822,
           4.6662723889999995,
           4.900195789,
           5.100249244,
           4.913629428,
           4.9708614110000005,
           4.841450127,
           4.80905668,
           5.054785185,
           5.3949206279999995,
           5.284380429,
           5.096212404,
           5.041317268,
           5.029265785,
           5.017716676,
           "Cluster 0"
          ],
          [
           "Algeria",
           2.6735943559999997,
           2.50218252,
           2.553365736,
           2.527980384,
           2.383331292,
           2.55856124,
           2.97171746,
           2.85227361,
           2.802237023,
           2.566248072,
           2.280233074,
           2.334850671,
           2.7055707910000004,
           3.0628038930000003,
           3.83796598,
           3.593208526,
           3.7757293080000003,
           4.52025089,
           5.188359049,
           5.24414553,
           "Cluster 0"
          ],
          [
           "Andorra",
           3.9826832960000003,
           4.235647223,
           4.297070495,
           5.737580229,
           3.9334656389999996,
           3.976548227,
           3.979763508,
           4.109589041,
           3.946179815,
           3.91626014,
           3.4597088489999996,
           3.5661223730000002,
           4.586322912,
           4.825070819,
           5.037537144,
           6.242026697000001,
           4.926289306,
           5.747039877000001,
           9.692356794,
           6.341446004,
           "Cluster 0"
          ]
         ],
         "hoverlabel": {
          "namelength": 0
         },
         "hovertemplate": "Cluster=%{customdata[21]}<br>Country Name=%{customdata[0]}<br>1995=%{customdata[1]}<br>1996=%{customdata[2]}<br>1997=%{customdata[3]}<br>1998=%{customdata[4]}<br>1999=%{customdata[5]}<br>2000=%{customdata[6]}<br>2001=%{customdata[7]}<br>2002=%{customdata[8]}<br>2003=%{customdata[9]}<br>2004=%{customdata[10]}<br>2005=%{customdata[11]}<br>2006=%{customdata[12]}<br>2007=%{customdata[13]}<br>2008=%{customdata[14]}<br>2009=%{customdata[15]}<br>2010=%{customdata[16]}<br>2011=%{customdata[17]}<br>2012=%{customdata[18]}<br>2013=%{customdata[19]}<br>2014=%{customdata[20]}",
         "legendgroup": "Cluster=Cluster 0",
         "marker": {
          "color": "#636efa"
         },
         "name": "Cluster=Cluster 0",
         "notched": true,
         "offsetgroup": "Cluster=Cluster 0",
         "showlegend": false,
         "type": "box",
         "x": [
          "Cluster 0",
          "Cluster 0",
          "Cluster 0",
          "Cluster 0",
          "Cluster 0",
          "Cluster 0",
          "Cluster 0",
          "Cluster 0",
          "Cluster 0",
          "Cluster 0",
          "Cluster 0",
          "Cluster 0",
          "Cluster 0",
          "Cluster 0",
          "Cluster 0",
          "Cluster 0",
          "Cluster 0",
          "Cluster 0",
          "Cluster 0",
          "Cluster 0",
          "Cluster 0",
          "Cluster 0",
          "Cluster 0",
          "Cluster 0",
          "Cluster 0",
          "Cluster 0",
          "Cluster 0",
          "Cluster 0",
          "Cluster 0",
          "Cluster 0",
          "Cluster 0",
          "Cluster 0",
          "Cluster 0",
          "Cluster 0",
          "Cluster 0",
          "Cluster 0",
          "Cluster 0",
          "Cluster 0",
          "Cluster 0",
          "Cluster 0",
          "Cluster 0",
          "Cluster 0",
          "Cluster 0",
          "Cluster 0",
          "Cluster 0",
          "Cluster 0",
          "Cluster 0",
          "Cluster 0",
          "Cluster 0",
          "Cluster 0",
          "Cluster 0",
          "Cluster 0",
          "Cluster 0",
          "Cluster 0",
          "Cluster 0",
          "Cluster 0",
          "Cluster 0",
          "Cluster 0",
          "Cluster 0",
          "Cluster 0",
          "Cluster 0",
          "Cluster 0",
          "Cluster 0",
          "Cluster 0",
          "Cluster 0",
          "Cluster 0",
          "Cluster 0"
         ],
         "xaxis": "x2",
         "yaxis": "y2"
        },
        {
         "alignmentgroup": "True",
         "bingroup": "x",
         "hoverlabel": {
          "namelength": 0
         },
         "hovertemplate": "Cluster=%{x}<br>count=%{y}",
         "legendgroup": "Cluster=Cluster 1",
         "marker": {
          "color": "#EF553B",
          "opacity": 0.7
         },
         "name": "Cluster=Cluster 1",
         "offsetgroup": "Cluster=Cluster 1",
         "orientation": "v",
         "showlegend": true,
         "type": "histogram",
         "x": [
          "Cluster 1",
          "Cluster 1",
          "Cluster 1",
          "Cluster 1",
          "Cluster 1",
          "Cluster 1",
          "Cluster 1",
          "Cluster 1",
          "Cluster 1",
          "Cluster 1",
          "Cluster 1",
          "Cluster 1",
          "Cluster 1",
          "Cluster 1",
          "Cluster 1",
          "Cluster 1",
          "Cluster 1",
          "Cluster 1",
          "Cluster 1",
          "Cluster 1",
          "Cluster 1",
          "Cluster 1",
          "Cluster 1",
          "Cluster 1",
          "Cluster 1",
          "Cluster 1",
          "Cluster 1",
          "Cluster 1",
          "Cluster 1",
          "Cluster 1",
          "Cluster 1",
          "Cluster 1",
          "Cluster 1",
          "Cluster 1",
          "Cluster 1",
          "Cluster 1",
          "Cluster 1",
          "Cluster 1",
          "Cluster 1",
          "Cluster 1",
          "Cluster 1",
          "Cluster 1",
          "Cluster 1",
          "Cluster 1",
          "Cluster 1"
         ],
         "xaxis": "x",
         "yaxis": "y"
        },
        {
         "alignmentgroup": "True",
         "customdata": [
          [
           "Micronesia, Fed. Sts.",
           8.69618637,
           8.135027023,
           7.277088411,
           6.4621381829999995,
           7.064856562999999,
           7.353309875,
           8.006993747000001,
           7.414073857999999,
           9.029862856,
           9.899822595,
           11.3112,
           11.03399209,
           11.13554688,
           11.6954023,
           12.1732852,
           12.61078232,
           12.53821521,
           11.58813926,
           12.08993842,
           12.43375207,
           "Cluster 1"
          ],
          [
           "Kiribati",
           8.96847138,
           8.797772304,
           8.982999914,
           6.656954317,
           8.444216993,
           7.5829204820000005,
           8.491803281000001,
           8.563909775,
           9.467625904,
           9.892086335,
           9.460431655,
           9.359712228,
           11.40077075,
           10.31166521,
           10.36476503,
           8.725609752999999,
           8.568862275,
           8.313609463999999,
           8.232914284,
           8.291027024,
           "Cluster 1"
          ],
          [
           "Finland",
           5.627186976,
           5.753535627000001,
           5.563132051,
           5.326593103,
           5.268778053999999,
           5.144464163,
           5.343613088,
           5.657160032,
           5.932232517999999,
           6.017266103,
           6.2218654739999995,
           6.27918843,
           6.031731023,
           6.253821942999999,
           6.896822789,
           6.73883183,
           6.753551156,
           7.040839875,
           7.204016684,
           7.289814272999999,
           "Cluster 1"
          ],
          [
           "France",
           8.058218715,
           8.042808693,
           7.944487318999999,
           7.844248058,
           7.831247747999999,
           7.759499572999999,
           7.848666574,
           8.141653894,
           8.127820878,
           8.20640927,
           8.266337172,
           8.173183403,
           8.118287794,
           8.16933746,
           8.74652319,
           8.679104958,
           8.731135953999999,
           8.826051795,
           8.910694046,
           9.024514376,
           "Cluster 1"
          ],
          [
           "United Kingdom",
           5.613873295,
           5.574901951,
           5.216401283,
           5.273439395,
           5.503507084,
           5.523467366,
           5.765949885,
           6.040016206000001,
           6.209568,
           6.482429976000001,
           6.658344919,
           6.826598411,
           6.794481096,
           7.220152923,
           8.162898056,
           7.94167603,
           7.765411293,
           7.80263316,
           7.780480937999999,
           7.578850169,
           "Cluster 1"
          ],
          [
           "Germany",
           7.678673477,
           8.117369547000001,
           8.08569888,
           8.040406659,
           8.012330015,
           7.9987526429999996,
           8.03376379,
           8.181587749,
           8.289385968,
           7.9198192579999995,
           8.006701839,
           7.85851875,
           7.7325195110000005,
           7.9017386620000005,
           8.709862289,
           8.575730796,
           8.307622306,
           8.361114536,
           8.569493975,
           8.697237324,
           "Cluster 1"
          ],
          [
           "Malta",
           3.819517745,
           4.105345357,
           4.384384401,
           4.443696789,
           4.393656255,
           4.742394807,
           4.8342677489999994,
           5.429400948,
           5.542024248,
           5.653685894,
           5.997448889,
           6.0463126979999995,
           5.482240553,
           5.156232157,
           5.2500287619999995,
           5.219545076,
           6.462012081,
           6.6252345660000005,
           6.554282826000001,
           6.74343039,
           "Cluster 1"
          ],
          [
           "Greece",
           4.301359499,
           4.325647391,
           4.232330999999999,
           4.1185477530000005,
           4.34042636,
           4.5622111,
           5.146070341000001,
           5.055646368000001,
           5.14686853,
           4.90873744,
           5.627319096,
           5.790832345,
           5.677828365,
           5.84985855,
           6.781079862,
           6.2163537479999995,
           6.682802397000001,
           6.274430226000001,
           6.066287526,
           4.985039193,
           "Cluster 1"
          ],
          [
           "Portugal",
           4.645839437,
           5.024970483,
           5.049986861,
           5.117457254,
           5.3179309130000005,
           6.193279482,
           6.233144247999999,
           6.4624051929999995,
           6.564295702000001,
           6.8934000829999995,
           6.989928936,
           6.5834602,
           6.506712635,
           6.674037277,
           7.160521451,
           7.171492441,
           6.70065608,
           6.238911387000001,
           6.2321554379999995,
           6.158189113,
           "Cluster 1"
          ],
          [
           "Austria",
           7.137100143,
           7.096256981,
           7.356728587999999,
           7.478719544,
           7.648251788,
           7.536366526,
           7.503314227000001,
           7.606508347999999,
           7.736479762,
           7.791336459,
           7.83141883,
           7.737932786,
           7.775802592000001,
           7.995856889,
           8.466129609,
           8.400006947,
           8.213674722999999,
           8.417189562,
           8.370613437000001,
           8.72502572,
           "Cluster 1"
          ],
          [
           "European Union",
           6.506458015,
           6.584349032,
           6.447821826,
           6.395838336000001,
           6.453924272,
           6.4399001160000005,
           6.570972316000001,
           6.747120362,
           6.899522022999999,
           6.9109638470000005,
           7.051118847000001,
           7.087790266,
           7.002368177999999,
           7.256592777000001,
           7.936430028999999,
           7.820468929,
           7.744258462,
           7.79306822,
           7.8369536570000005,
           7.818446175,
           "Cluster 1"
          ],
          [
           "Japan",
           5.451500805,
           5.342586047,
           5.469916116,
           5.652911799,
           5.909097683,
           6.087614007000001,
           6.297406178999999,
           6.361552576,
           6.420410051,
           6.47273952,
           6.657459568999999,
           6.596439242000001,
           6.715044868,
           6.995021791,
           7.753493212,
           7.861969364,
           8.318249839,
           8.409920777,
           8.528219096,
           8.550081685,
           "Cluster 1"
          ],
          [
           "Australia",
           4.775232585,
           4.856308024,
           5.016476282,
           5.084647809,
           5.326927409,
           5.399511666,
           5.42099866,
           5.620660145,
           5.50612734,
           5.724898888999999,
           5.661448484,
           5.660886591000001,
           5.765876395,
           5.927631008,
           6.186556011,
           6.127334253,
           6.315378278,
           6.285633269,
           6.274917138999999,
           6.316592657999999,
           "Cluster 1"
          ],
          [
           "Norway",
           6.499858794,
           6.45280883,
           6.697116683,
           7.454887071,
           7.547604056,
           6.82382819,
           7.22396035,
           8.027209665,
           8.247464055,
           7.888860771,
           7.430282026,
           7.062887755,
           7.219227008,
           7.091172877000001,
           8.021737678,
           7.839228687,
           7.717230788999999,
           7.773855997999999,
           8.005414287,
           8.309618200000001,
           "Cluster 1"
          ],
          [
           "Netherlands",
           5.286854099999999,
           4.9482342180000005,
           5.071556448,
           4.849467046,
           4.722084285,
           4.682621338,
           4.89473375,
           5.2119207030000005,
           5.627419176,
           5.591158703,
           6.668937025,
           7.974464533,
           7.980489499,
           8.209741428,
           8.901516849,
           9.081296075,
           9.085857928,
           9.528421586,
           9.617134752,
           9.481132729,
           "Cluster 1"
          ],
          [
           "United States",
           5.9094787879999995,
           5.891274291,
           5.830750135,
           5.676669198,
           5.613684996,
           5.653471017999999,
           6.074098006,
           6.423940796,
           6.618867537000001,
           6.69810039,
           6.722608977999999,
           6.882532539,
           7.01636006,
           7.367883673,
           8.014549675,
           8.079784435,
           8.07412666,
           8.042357809,
           8.045006773999999,
           8.278517711000001,
           "Cluster 1"
          ],
          [
           "Iceland",
           6.88713759,
           6.797412968,
           6.493117315,
           7.037368982,
           7.77504317,
           7.5449804160000005,
           7.405369028,
           8.074375998999999,
           8.231289339,
           7.794296374,
           7.499485021,
           7.349510337999999,
           7.225443543,
           7.2743097820000004,
           7.479480519,
           7.116064072,
           6.972243353,
           6.994047937,
           7.067580829,
           7.179705939,
           "Cluster 1"
          ],
          [
           "Italy",
           5.020894767,
           5.084493833,
           5.286288745,
           5.300234371,
           5.384669776,
           5.704658031,
           5.973164167999999,
           6.07690275,
           6.07045375,
           6.414766985,
           6.644147576,
           6.7435972920000005,
           6.487839661000001,
           6.836653592999999,
           7.248665862999999,
           7.256673496,
           6.969185175,
           6.993120899,
           6.967351379,
           6.992651033,
           "Cluster 1"
          ],
          [
           "High income",
           5.8528186589999995,
           5.861951134,
           5.81180873,
           5.837542174,
           5.859037054,
           5.853669228999999,
           6.131478777000001,
           6.354331656,
           6.509857349,
           6.545027623999999,
           6.604202186,
           6.657364768,
           6.685402534,
           6.945781465,
           7.638854311,
           7.562423022000001,
           7.546564171,
           7.556054525,
           7.573148687000001,
           7.6586505670000005,
           "Cluster 1"
          ],
          [
           "New Zealand",
           5.362051931,
           5.283706171,
           5.486240926,
           5.787903257000001,
           5.731562231,
           5.827839126000001,
           5.791984927000001,
           6.146520495,
           6.041511196,
           6.281577112999999,
           6.572475187,
           6.922995765,
           6.883399708,
           8.906984606,
           9.323010285,
           9.305461872999999,
           9.342877083,
           9.547666612999999,
           9.226556936,
           9.082656345,
           "Cluster 1"
          ],
          [
           "Palau",
           8.650190111,
           8.769106997,
           8.390541575,
           7.07424594,
           7.624323455,
           6.370625003,
           6.1851190460000005,
           5.948520708999999,
           6.0942528739999995,
           6.490673575,
           5.895631066,
           6.342105263,
           6.559764147999999,
           6.540845072000001,
           6.614646467999999,
           7.641116751,
           6.548387094,
           6.739224139,
           6.599186992000001,
           6.531970262000001,
           "Cluster 1"
          ],
          [
           "World",
           5.286303621,
           5.246769791,
           5.19680285,
           5.227929882,
           5.2749122989999995,
           5.2211192539999995,
           5.444044382,
           5.633904668,
           5.765420482000001,
           5.755465472000001,
           5.733553112999999,
           5.701873011,
           5.65229917,
           5.78265714,
           6.32094847,
           6.075446192999999,
           5.982564844,
           5.940788187000001,
           5.921679595,
           5.994028234,
           "Cluster 1"
          ],
          [
           "Sweden",
           6.901266869,
           7.1283580970000004,
           6.888226931,
           6.962480445,
           7.027549767000001,
           6.943698089,
           7.188240259,
           7.513944417,
           7.634858717999999,
           7.3951965379999995,
           7.354150307,
           7.259516112999999,
           7.254788683999999,
           7.521564636,
           8.100547687,
           7.7183103289999995,
           9.914691787999999,
           9.955521086000001,
           10.05201524,
           10.02469431,
           "Cluster 1"
          ],
          [
           "Cuba",
           4.648496225,
           4.756708361,
           4.986951137,
           5.226020532,
           5.474999382999999,
           5.509533717,
           5.670491082000001,
           5.724849955,
           5.648789044,
           5.468185582,
           8.744448247000001,
           7.081250077999999,
           9.883198101,
           10.29335824,
           11.28391889,
           9.70382827,
           10.07101019,
           8.088255377000001,
           8.962294541,
           10.57366249,
           "Cluster 1"
          ],
          [
           "Switzerland",
           4.999426018,
           5.292310568,
           5.3136251660000005,
           5.381639812,
           5.51555988,
           5.492175839,
           5.852946307000001,
           6.123779435,
           6.379751456,
           6.4003113570000005,
           6.459405675,
           6.141737847999999,
           6.032418431,
           6.703738631,
           7.209714872999999,
           7.09727006,
           7.2009273579999995,
           7.498784843999999,
           7.733805564,
           7.695117355,
           "Cluster 1"
          ],
          [
           "Slovak Republic",
           5.367669133,
           5.708260171,
           5.302839859,
           5.179371767,
           5.157902597,
           4.915242275,
           4.914849534,
           5.013706746,
           5.138875209,
           5.319742082,
           5.241058358,
           5.020215772,
           5.184301959,
           5.4353000510000005,
           6.012034516,
           5.797130372000001,
           5.643904536,
           5.679221056,
           5.7880822,
           5.8395992020000005,
           "Cluster 1"
          ],
          [
           "Post-demographic dividend",
           5.923737902999999,
           5.937932599,
           5.892328742999999,
           5.914243707000001,
           5.932601223,
           5.939920697000001,
           6.2178511610000005,
           6.445490047000001,
           6.611676409,
           6.657098828,
           6.744363002999999,
           6.812281987,
           6.853256687000001,
           7.145683267000001,
           7.822250526,
           7.781963316000001,
           7.795102793,
           7.812069609,
           7.833116298999999,
           7.914720128,
           "Cluster 1"
          ],
          [
           "Serbia",
           4.267816797,
           4.267816799999999,
           4.267816797,
           4.2678168030000005,
           4.267816797,
           4.267816797,
           4.600455039,
           5.837583112999999,
           5.766948594,
           5.672611076,
           5.742701002,
           5.664904303999999,
           6.146621793,
           6.228211971,
           6.12657588,
           6.241991647000001,
           6.039682906,
           6.049713243999999,
           5.984362308,
           6.416505605,
           "Cluster 1"
          ],
          [
           "Spain",
           5.3735065539999995,
           5.400270122999999,
           5.314511603,
           5.284405916,
           5.269708002,
           5.16745964,
           5.155738488,
           5.168936096,
           5.727875546,
           5.79793601,
           5.875803104,
           6.0053206370000005,
           6.098790144,
           6.512856144,
           7.209759954,
           7.173242115,
           7.001061132,
           6.734615203,
           6.502610209,
           6.399991901,
           "Cluster 1"
          ],
          [
           "Lesotho",
           3.562259305,
           3.780533582,
           3.117609003,
           3.272044207,
           3.239233383,
           3.4740210489999996,
           4.372510108,
           3.831319315,
           4.034880661,
           3.938291734,
           3.309584005,
           4.175710594,
           5.597512217,
           6.059683765,
           7.000413737000001,
           8.079925072,
           9.087435867,
           8.447350944,
           8.408564819,
           8.082167603,
           "Cluster 1"
          ],
          [
           "Europe & Central Asia",
           6.258717592999999,
           6.339840985,
           6.249748329,
           6.19495497,
           6.269452692000001,
           6.207590774,
           6.357420652,
           6.543767225,
           6.68023106,
           6.643569576,
           6.70922848,
           6.691295997,
           6.590409565,
           6.775062286,
           7.489585233,
           7.256678468,
           7.09676356,
           7.10705862,
           7.143518692000001,
           7.184029645,
           "Cluster 1"
          ],
          [
           "Maldives",
           3.662613659,
           3.603093758,
           3.54408858,
           4.648466888,
           4.74957875,
           5.119448212,
           3.7002680060000004,
           3.567182597,
           3.778200959,
           3.8768776689999997,
           7.126649771,
           5.237830448,
           4.553267366,
           7.025877902,
           6.729711552,
           5.273435237,
           5.608781865,
           6.50292714,
           8.263833455,
           10.75705209,
           "Cluster 1"
          ],
          [
           "Costa Rica",
           4.9819644169999995,
           5.065507246,
           4.838992757,
           5.6371740610000005,
           5.362922535,
           5.61242476,
           5.485507511000001,
           6.2834759920000005,
           6.450275287,
           5.653259257,
           5.4657120589999995,
           5.397313924,
           5.627837325,
           6.261310673,
           7.022189965,
           7.092617051,
           7.149714006,
           7.000226946000001,
           6.914441165,
           6.76760152,
           "Cluster 1"
          ],
          [
           "Canada",
           6.3135005,
           6.112419052999999,
           6.033111823,
           6.228970762,
           6.107698328,
           6.098426758,
           6.3649046810000005,
           6.514305746000001,
           6.694243642999999,
           6.719901986,
           6.723559526,
           6.788407822999999,
           6.893501359,
           7.063453852,
           7.914158212,
           7.88439634,
           7.676792501,
           7.651144554,
           7.575664927999999,
           7.4119318839999995,
           "Cluster 1"
          ],
          [
           "OECD members",
           5.837047317000001,
           5.841498345,
           5.7873592060000005,
           5.793233257000001,
           5.816090555,
           5.809017258,
           6.0848777929999995,
           6.308109241,
           6.476244914,
           6.522930721,
           6.584750763,
           6.646100419,
           6.68397179,
           6.97570711,
           7.653295827000001,
           7.58452343,
           7.588942977,
           7.608825853,
           7.617928345,
           7.692358487999999,
           "Cluster 1"
          ],
          [
           "Croatia",
           5.8306697629999995,
           6.135021776,
           4.893760696,
           5.7330917679999995,
           6.326324594,
           6.6022750629999996,
           5.96435491,
           4.955064171,
           5.242817131,
           5.314158705,
           5.930617257000001,
           5.984641875,
           6.477622756000001,
           6.538722947999999,
           7.006867431,
           7.064964214,
           6.25541215,
           6.363207061000001,
           6.403028794,
           6.388287591,
           "Cluster 1"
          ],
          [
           "Ireland",
           4.669802976000001,
           4.541905478,
           4.6448398619999995,
           4.494538697,
           4.461866317,
           4.466601084,
           4.911672749,
           5.1711671,
           5.402683783,
           5.5962288860000005,
           5.520724187999999,
           5.443878625,
           5.729910174,
           6.513027123,
           6.917241581,
           6.101439901,
           5.5260434620000005,
           5.622416984,
           5.333288818,
           5.141484076,
           "Cluster 1"
          ],
          [
           "North America",
           5.9389948960000005,
           5.907198654,
           5.845014468,
           5.71256593,
           5.645996433,
           5.683423459,
           6.092951705,
           6.429777137,
           6.624290735,
           6.699777867000001,
           6.722686909,
           6.874371534,
           7.005070493,
           7.338893627999999,
           8.005831942999999,
           8.060768597000001,
           8.033060722,
           8.002663479,
           7.998392667,
           8.197720774,
           "Cluster 1"
          ],
          [
           "Czech Republic",
           6.084042522000001,
           5.812945806,
           5.779225055,
           5.803851213,
           5.744610454,
           5.702534921,
           5.7649027539999995,
           6.149834668,
           6.404474042,
           6.15449697,
           6.054044375,
           5.805408814,
           5.556626261,
           5.628784423,
           6.5696540279999995,
           6.22493667,
           6.314732469,
           6.341764994,
           6.313087853,
           6.264976383,
           "Cluster 1"
          ],
          [
           "Denmark",
           6.7053440470000005,
           6.76753736,
           6.706312228,
           6.694654162000001,
           7.517019335,
           7.29518541,
           7.660538886,
           7.885050087000001,
           8.039900364,
           8.152818891,
           8.253254964,
           8.399549167,
           8.429011642999999,
           8.621214821,
           9.756125393,
           9.433817543,
           9.26885262,
           9.419660272,
           9.593210322000001,
           9.158734109,
           "Cluster 1"
          ],
          [
           "Euro area",
           6.716641592,
           6.819911767000001,
           6.775234333999999,
           6.713451942000001,
           6.707802202000001,
           6.725721019,
           6.824762086000001,
           6.9704907160000005,
           7.100569779,
           7.08237852,
           7.243410635,
           7.2751367270000005,
           7.183725909,
           7.419702701,
           8.060334166,
           7.985294914,
           7.851059524,
           7.904805463,
           7.961558065,
           8.001479856,
           "Cluster 1"
          ],
          [
           "Belgium",
           5.845320714,
           6.184037715,
           5.853458122999999,
           5.899438234,
           6.023602106,
           6.058374214,
           6.2528146289999995,
           6.24450897,
           6.9180965510000005,
           7.127857092999999,
           7.112748229,
           6.962370453999999,
           6.952936769,
           7.396754446,
           8.043822364,
           7.896702726,
           8.006737375,
           8.186298971,
           8.226719108,
           8.249989468999999,
           "Cluster 1"
          ],
          [
           "Slovenia",
           5.792909005,
           5.819026492000001,
           5.819143855,
           5.897932514,
           5.900414841,
           6.116332806,
           6.280502195,
           6.32476385,
           6.314120889,
           6.221904529,
           6.212733312999999,
           6.122382991,
           5.773929573999999,
           6.291263917999999,
           6.9246336820000005,
           6.72862594,
           6.673550483,
           6.803887187000001,
           6.668260437000001,
           6.623821787000001,
           "Cluster 1"
          ],
          [
           "Bosnia and Herzegovina",
           3.3504531589999997,
           4.802890013,
           3.4999255760000003,
           3.329547245,
           4.7307526289999995,
           4.032095716000001,
           4.312505733,
           4.422546498,
           5.478547872,
           5.173272164,
           4.865928659,
           4.979969839,
           5.334221943,
           5.812860562000001,
           6.803551255,
           6.788921332,
           6.923006484,
           7.080212274,
           6.629772276000001,
           6.813077082,
           "Cluster 1"
          ],
          [
           "Luxembourg",
           5.145716534,
           5.245560163,
           5.173766337,
           5.237903806,
           5.232189737,
           6.361267183,
           6.236389009,
           7.070858488,
           6.457623507,
           6.958297657999999,
           6.747706438,
           6.597379851,
           5.82007398,
           6.492969779,
           7.025644269,
           6.594701877,
           6.26066183,
           5.988070914,
           5.9392373229999995,
           5.822836062,
           "Cluster 1"
          ]
         ],
         "hoverlabel": {
          "namelength": 0
         },
         "hovertemplate": "Cluster=%{customdata[21]}<br>Country Name=%{customdata[0]}<br>1995=%{customdata[1]}<br>1996=%{customdata[2]}<br>1997=%{customdata[3]}<br>1998=%{customdata[4]}<br>1999=%{customdata[5]}<br>2000=%{customdata[6]}<br>2001=%{customdata[7]}<br>2002=%{customdata[8]}<br>2003=%{customdata[9]}<br>2004=%{customdata[10]}<br>2005=%{customdata[11]}<br>2006=%{customdata[12]}<br>2007=%{customdata[13]}<br>2008=%{customdata[14]}<br>2009=%{customdata[15]}<br>2010=%{customdata[16]}<br>2011=%{customdata[17]}<br>2012=%{customdata[18]}<br>2013=%{customdata[19]}<br>2014=%{customdata[20]}",
         "legendgroup": "Cluster=Cluster 1",
         "marker": {
          "color": "#EF553B"
         },
         "name": "Cluster=Cluster 1",
         "notched": true,
         "offsetgroup": "Cluster=Cluster 1",
         "showlegend": false,
         "type": "box",
         "x": [
          "Cluster 1",
          "Cluster 1",
          "Cluster 1",
          "Cluster 1",
          "Cluster 1",
          "Cluster 1",
          "Cluster 1",
          "Cluster 1",
          "Cluster 1",
          "Cluster 1",
          "Cluster 1",
          "Cluster 1",
          "Cluster 1",
          "Cluster 1",
          "Cluster 1",
          "Cluster 1",
          "Cluster 1",
          "Cluster 1",
          "Cluster 1",
          "Cluster 1",
          "Cluster 1",
          "Cluster 1",
          "Cluster 1",
          "Cluster 1",
          "Cluster 1",
          "Cluster 1",
          "Cluster 1",
          "Cluster 1",
          "Cluster 1",
          "Cluster 1",
          "Cluster 1",
          "Cluster 1",
          "Cluster 1",
          "Cluster 1",
          "Cluster 1",
          "Cluster 1",
          "Cluster 1",
          "Cluster 1",
          "Cluster 1",
          "Cluster 1",
          "Cluster 1",
          "Cluster 1",
          "Cluster 1",
          "Cluster 1",
          "Cluster 1"
         ],
         "xaxis": "x2",
         "yaxis": "y2"
        },
        {
         "alignmentgroup": "True",
         "bingroup": "x",
         "hoverlabel": {
          "namelength": 0
         },
         "hovertemplate": "Cluster=%{x}<br>count=%{y}",
         "legendgroup": "Cluster=Cluster 2",
         "marker": {
          "color": "#00cc96",
          "opacity": 0.7
         },
         "name": "Cluster=Cluster 2",
         "offsetgroup": "Cluster=Cluster 2",
         "orientation": "v",
         "showlegend": true,
         "type": "histogram",
         "x": [
          "Cluster 2",
          "Cluster 2",
          "Cluster 2",
          "Cluster 2",
          "Cluster 2",
          "Cluster 2",
          "Cluster 2",
          "Cluster 2",
          "Cluster 2",
          "Cluster 2",
          "Cluster 2",
          "Cluster 2",
          "Cluster 2",
          "Cluster 2",
          "Cluster 2",
          "Cluster 2",
          "Cluster 2",
          "Cluster 2",
          "Cluster 2",
          "Cluster 2",
          "Cluster 2",
          "Cluster 2",
          "Cluster 2",
          "Cluster 2",
          "Cluster 2",
          "Cluster 2",
          "Cluster 2",
          "Cluster 2",
          "Cluster 2",
          "Cluster 2",
          "Cluster 2",
          "Cluster 2",
          "Cluster 2",
          "Cluster 2",
          "Cluster 2",
          "Cluster 2",
          "Cluster 2",
          "Cluster 2",
          "Cluster 2",
          "Cluster 2",
          "Cluster 2",
          "Cluster 2",
          "Cluster 2",
          "Cluster 2",
          "Cluster 2",
          "Cluster 2",
          "Cluster 2",
          "Cluster 2",
          "Cluster 2",
          "Cluster 2",
          "Cluster 2",
          "Cluster 2",
          "Cluster 2",
          "Cluster 2",
          "Cluster 2",
          "Cluster 2",
          "Cluster 2",
          "Cluster 2",
          "Cluster 2",
          "Cluster 2",
          "Cluster 2",
          "Cluster 2",
          "Cluster 2",
          "Cluster 2",
          "Cluster 2",
          "Cluster 2",
          "Cluster 2",
          "Cluster 2",
          "Cluster 2",
          "Cluster 2",
          "Cluster 2",
          "Cluster 2",
          "Cluster 2",
          "Cluster 2",
          "Cluster 2",
          "Cluster 2",
          "Cluster 2",
          "Cluster 2",
          "Cluster 2",
          "Cluster 2",
          "Cluster 2",
          "Cluster 2",
          "Cluster 2",
          "Cluster 2",
          "Cluster 2",
          "Cluster 2",
          "Cluster 2",
          "Cluster 2",
          "Cluster 2",
          "Cluster 2",
          "Cluster 2",
          "Cluster 2",
          "Cluster 2",
          "Cluster 2",
          "Cluster 2",
          "Cluster 2",
          "Cluster 2",
          "Cluster 2",
          "Cluster 2",
          "Cluster 2",
          "Cluster 2",
          "Cluster 2",
          "Cluster 2",
          "Cluster 2",
          "Cluster 2",
          "Cluster 2",
          "Cluster 2",
          "Cluster 2",
          "Cluster 2"
         ],
         "xaxis": "x",
         "yaxis": "y"
        },
        {
         "alignmentgroup": "True",
         "customdata": [
          [
           "Vietnam",
           1.757862744,
           1.632231732,
           1.604611275,
           1.731437579,
           1.717060034,
           1.513863444,
           1.627560706,
           1.447735609,
           1.551822426,
           1.393649581,
           1.4195695640000001,
           1.94486753,
           2.563552268,
           2.1319632019999997,
           2.5691874219999997,
           2.9609666289999996,
           2.805001867,
           3.722124141,
           3.796360562,
           3.820019105,
           "Cluster 2"
          ],
          [
           "Morocco",
           1.184133718,
           1.14335155,
           1.073390243,
           1.179102117,
           1.149141903,
           1.229737845,
           1.427759227,
           1.378808948,
           1.39499543,
           1.4295298019999998,
           1.4389258669999998,
           1.7144025040000002,
           1.8980773180000001,
           1.891971766,
           2.046396065,
           2.0675720369999997,
           2.08777206,
           2.181466365,
           1.95774948,
           2.001326276,
           "Cluster 2"
          ],
          [
           "Nepal",
           1.407378795,
           1.42214041,
           1.4710270630000002,
           2.554396091,
           1.763231864,
           1.352123349,
           1.5944633019999999,
           1.640840974,
           1.527687611,
           1.590326576,
           1.585328429,
           2.044874971,
           2.2831250830000003,
           2.725698705,
           2.824395263,
           2.867317073,
           3.24209748,
           2.466854595,
           2.2199025619999997,
           2.337819114,
           "Cluster 2"
          ],
          [
           "Myanmar",
           0.40560317,
           0.33454759,
           0.262807177,
           0.16829349300000002,
           0.170964179,
           0.26099717100000003,
           0.224982015,
           0.313588382,
           0.243334548,
           0.266961522,
           0.164974085,
           0.256312052,
           0.19819528600000003,
           0.207554701,
           0.232553662,
           0.299251928,
           0.297624635,
           0.819629102,
           0.826846155,
           1.0448998040000002,
           "Cluster 2"
          ],
          [
           "Venezuela, RB",
           1.803152127,
           1.482414909,
           1.3873164880000002,
           1.466015602,
           1.83342208,
           2.163059483,
           2.3407567019999997,
           2.1513320019999997,
           2.079300496,
           2.158140627,
           2.153332428,
           2.221770123,
           2.4647812030000003,
           1.230489115,
           2.496312442,
           2.088239278,
           2.33545129,
           1.675638027,
           1.5428590880000002,
           1.5427659459999998,
           "Cluster 2"
          ],
          [
           "Mongolia",
           2.598917911,
           3.0338893369999997,
           3.06342556,
           3.4813274830000003,
           3.417399945,
           3.828286275,
           3.89985284,
           3.455279064,
           2.918031289,
           2.92676436,
           2.484591225,
           2.3969135919999998,
           2.736412235,
           3.18351906,
           2.768372713,
           2.654478067,
           2.595706257,
           2.260514895,
           2.21159453,
           2.620572882,
           "Cluster 2"
          ],
          [
           "Uzbekistan",
           3.6000000030000003,
           3.7000000010000003,
           3.300000002,
           2.9445866919999997,
           2.804581287,
           2.5156908159999998,
           2.5501141069999997,
           2.424055326,
           2.3806037019999997,
           2.26249735,
           2.279013274,
           2.4548033890000003,
           2.298687476,
           2.529900054,
           2.619290185,
           2.7513171560000003,
           2.863900619,
           3.1273714530000003,
           3.117906257,
           3.11124825,
           "Cluster 2"
          ],
          [
           "United Arab Emirates",
           2.0817381580000003,
           1.948805565,
           1.9483958190000001,
           2.056706777,
           1.9176294719999998,
           1.6770585919999998,
           1.944492099,
           1.7139829819999999,
           1.67154037,
           1.45604253,
           1.36889725,
           1.3825069509999999,
           1.5553772380000002,
           1.9216341030000001,
           3.0341259469999997,
           2.834165586,
           2.732488042,
           2.550025889,
           2.557326087,
           2.636151579,
           "Cluster 2"
          ],
          [
           "Nigeria",
           0.658145013,
           0.6004809210000001,
           0.717612288,
           0.9066261859999999,
           0.9836661459999999,
           0.949286025,
           1.0177073509999999,
           0.622004345,
           0.9066617840000001,
           1.4147604390000001,
           1.19778681,
           1.204600858,
           1.472728808,
           1.470059403,
           1.324670016,
           0.908580697,
           1.151611248,
           1.033169532,
           0.8826272559999999,
           0.9225351270000001,
           "Cluster 2"
          ],
          [
           "Sudan",
           0.785822105,
           1.1132446329999999,
           0.8913511359999999,
           0.947423065,
           0.7634364029999999,
           0.887398963,
           0.755115843,
           0.7832779759999999,
           0.883215533,
           1.080722762,
           1.091364,
           1.270562706,
           1.511842397,
           2.630955513,
           2.356734868,
           2.698468913,
           2.557343508,
           1.8717955609999999,
           1.859793759,
           1.802361864,
           "Cluster 2"
          ],
          [
           "St. Kitts and Nevis",
           3.210272875,
           3.167420812,
           2.96495957,
           3.0322580639999996,
           3.038774765,
           2.572590516,
           2.262442891,
           2.091861802,
           2.087233898,
           1.8705093169999998,
           1.9221866930000002,
           2.336683006,
           2.154610635,
           2.030668845,
           2.193108956,
           2.532022242,
           2.26067011,
           2.375174636,
           2.183728661,
           2.144605023,
           "Cluster 2"
          ],
          [
           "Sri Lanka",
           1.615371713,
           1.611450175,
           1.520769471,
           1.878021898,
           1.7467114680000002,
           1.846321629,
           1.7582096980000002,
           1.6833360119999998,
           1.677615192,
           2.005508786,
           1.85010327,
           1.950059208,
           1.825976447,
           1.5815241269999998,
           1.53517067,
           1.5538039369999999,
           1.38092651,
           1.219599412,
           2.102564149,
           1.96395333,
           "Cluster 2"
          ],
          [
           "Syrian Arab Republic",
           2.189237706,
           1.9540946959999999,
           1.8777604769999998,
           1.960923229,
           2.01442573,
           1.989779169,
           2.173051471,
           2.262242934,
           2.4683381680000003,
           2.148408978,
           2.075568445,
           1.833546841,
           1.7896512969999998,
           1.5964767030000002,
           1.631376352,
           1.507165795,
           1.507165794,
           1.507165792,
           1.507165795,
           1.507165795,
           "Cluster 2"
          ],
          [
           "Tajikistan",
           1.289444392,
           1.296720852,
           1.601227323,
           1.141229192,
           1.040832288,
           0.946474655,
           0.9497662490000001,
           0.9065827479999999,
           0.910560376,
           0.94333442,
           1.1438192790000001,
           1.129053783,
           1.184751796,
           1.371774183,
           1.478536975,
           1.594683309,
           1.71027997,
           1.87760452,
           2.067731786,
           1.983765009,
           "Cluster 2"
          ],
          [
           "Tanzania",
           1.3671389859999998,
           1.174080484,
           1.127228367,
           1.009735219,
           1.1200299009999999,
           1.1459393759999998,
           1.769595394,
           2.106622222,
           2.573524874,
           2.565945049,
           2.965165865,
           4.763505728,
           3.038471158,
           2.435878095,
           2.109638156,
           2.072897335,
           2.4866151380000003,
           2.790460229,
           2.565408087,
           2.589958711,
           "Cluster 2"
          ],
          [
           "Togo",
           1.5142425659999998,
           1.476366118,
           1.263694426,
           1.5228179240000002,
           1.4206208740000001,
           1.420842968,
           1.25272483,
           0.906148993,
           1.441999812,
           1.6843732040000001,
           1.898455965,
           2.2596331419999998,
           2.157573571,
           2.416491795,
           3.2782154439999998,
           1.9385851369999998,
           1.655337459,
           1.947797344,
           2.148307048,
           2.01732113,
           "Cluster 2"
          ],
          [
           "Singapore",
           1.456150914,
           1.391903127,
           1.344772866,
           1.66411043,
           1.4782905990000001,
           1.217784989,
           0.887039769,
           1.0589667740000002,
           1.346161446,
           1.030256162,
           1.003758123,
           1.0010905540000001,
           0.955389862,
           1.20049011,
           1.526597419,
           1.3714286169999998,
           1.346479037,
           1.501077737,
           1.735920655,
           2.054683314,
           "Cluster 2"
          ],
          [
           "Sierra Leone",
           2.388388089,
           2.163428251,
           2.513163766,
           2.0471494480000003,
           3.064624564,
           3.49413205,
           2.824141502,
           2.9649160219999997,
           2.784261175,
           2.683917256,
           2.676174105,
           1.961695331,
           1.645375923,
           1.7879205000000002,
           2.2075173169999998,
           2.396940634,
           2.646933502,
           1.980878492,
           1.6946554809999999,
           1.8838018559999998,
           "Cluster 2"
          ],
          [
           "Mexico",
           2.130169342,
           1.9017575580000001,
           2.108606157,
           2.209776657,
           2.3947401530000003,
           2.318107511,
           2.39862085,
           2.4220273480000003,
           2.541277434,
           2.688003906,
           2.618877856,
           2.560345155,
           2.6423747680000003,
           2.7609368169999997,
           3.095935571,
           3.103295671,
           3.067131298,
           3.160971159,
           3.2569934060000003,
           3.2595515739999996,
           "Cluster 2"
          ],
          [
           "Niger",
           1.46894782,
           1.28448572,
           1.6847956030000002,
           1.6945951419999998,
           1.6988028130000001,
           1.5224654819999999,
           1.8667212,
           1.909258365,
           1.6804503130000001,
           1.845863957,
           2.978654315,
           3.175497048,
           2.662864682,
           2.6958767939999997,
           2.650386504,
           2.162436939,
           2.453245216,
           2.211834697,
           2.455677176,
           3.214493821,
           "Cluster 2"
          ],
          [
           "Senegal",
           1.2798538309999998,
           1.4840143330000002,
           1.2842599890000002,
           1.311168581,
           1.741001217,
           1.8955416319999998,
           2.135240269,
           1.95048094,
           2.09132832,
           2.1192570930000003,
           2.9824374189999996,
           3.149901608,
           2.3325124280000002,
           2.52752637,
           2.486263648,
           2.368547813,
           2.2798394,
           2.179866218,
           2.238315424,
           2.41795607,
           "Cluster 2"
          ],
          [
           "Trinidad and Tobago",
           2.638269986,
           2.386765057,
           2.344393146,
           1.952658896,
           2.344861306,
           1.9555948980000002,
           2.226981196,
           2.647006573,
           2.599973229,
           2.599777231,
           2.641981687,
           2.2319773019999998,
           2.37526743,
           2.164450301,
           3.2808106789999996,
           3.018338697,
           2.680151372,
           2.894988852,
           3.144494274,
           3.174627521,
           "Cluster 2"
          ],
          [
           "Rwanda",
           1.639887766,
           1.875693261,
           1.8534048269999999,
           2.558416099,
           2.083504954,
           1.65315324,
           2.138891489,
           2.182617409,
           3.345043303,
           2.875959967,
           3.1994948919999997,
           4.98059157,
           3.780193618,
           2.8301189489999996,
           2.402053946,
           2.928013553,
           2.810805898,
           2.835877205,
           2.9251774489999995,
           2.86940115,
           "Cluster 2"
          ],
          [
           "Turkmenistan",
           1.8558282190000002,
           2.261439427,
           3.479223681,
           3.501250448,
           2.385819704,
           3.214627605,
           2.817917069,
           2.43147657,
           2.708526219,
           2.4214305080000003,
           2.021050273,
           1.5455485169999998,
           1.388148149,
           0.946836468,
           1.163073225,
           1.223637874,
           1.268097271,
           1.273376388,
           1.4260022369999998,
           1.348530564,
           "Cluster 2"
          ],
          [
           "Uganda",
           1.419934953,
           1.4132376530000001,
           1.434781572,
           1.895182926,
           1.6585483509999999,
           1.837958926,
           1.9800486640000001,
           2.105321926,
           1.948108485,
           2.265551769,
           2.36197808,
           2.472357111,
           2.461809429,
           2.302819536,
           1.814334366,
           3.118358422,
           2.633267177,
           2.15389932,
           2.087896717,
           1.801251317,
           "Cluster 2"
          ],
          [
           "Qatar",
           2.3204105040000003,
           2.494258485,
           2.14754465,
           2.26219926,
           1.9516241730000001,
           1.574730065,
           1.9219924780000002,
           2.035923049,
           3.488087043,
           3.0369040139999997,
           2.535151656,
           2.172082184,
           1.9433211680000002,
           1.574182634,
           2.065527913,
           1.6208308630000001,
           1.5059314080000001,
           1.8314776730000002,
           1.85480107,
           1.87539141,
           "Cluster 2"
          ],
          [
           "Philippines",
           1.363656828,
           1.451424131,
           1.558107718,
           1.373206902,
           1.428355789,
           1.526761368,
           1.3244430759999999,
           1.116642339,
           1.306200566,
           1.3031314390000002,
           1.5016485869999998,
           1.452187111,
           1.367826516,
           1.332745624,
           1.54867658,
           1.57369151,
           1.306362975,
           1.386256358,
           1.449217044,
           1.614685219,
           "Cluster 2"
          ],
          [
           "Peru",
           2.4000535530000002,
           2.439421903,
           2.266327886,
           2.571913148,
           2.829916303,
           2.720831514,
           2.83143959,
           2.825705616,
           2.690862148,
           2.543761347,
           2.69389613,
           2.392145848,
           2.414623092,
           2.452033774,
           2.983444427,
           2.794287232,
           2.624140306,
           2.846647646,
           3.0451036680000003,
           3.31875118,
           "Cluster 2"
          ],
          [
           "Paraguay",
           2.1300236740000003,
           2.395655422,
           2.428081297,
           2.821045288,
           3.030939089,
           3.2306281489999997,
           2.654111955,
           2.16010372,
           1.94949197,
           2.031570671,
           2.355197356,
           2.610014991,
           2.6921865680000003,
           2.713075726,
           3.498680631,
           3.360902763,
           3.765919165,
           4.598601243,
           4.781259119,
           4.502240378,
           "Cluster 2"
          ],
          [
           "Pakistan",
           0.655509247,
           0.7153439309999999,
           0.6555669679999999,
           0.5714069,
           0.55473074,
           0.608602423,
           0.551524181,
           0.80938608,
           0.648320921,
           0.677300991,
           0.6859182840000001,
           0.7887748040000001,
           0.7988322409999999,
           0.839235884,
           0.802903527,
           0.954234466,
           0.919768299,
           1.0184630190000001,
           0.994330811,
           0.9188114740000001,
           "Cluster 2"
          ],
          [
           "Oman",
           3.060043613,
           2.984456681,
           2.782569753,
           3.0185177010000004,
           2.8937463589999997,
           2.51203413,
           2.528963608,
           2.654750721,
           2.629465786,
           2.437561733,
           2.130347883,
           1.8645977580000002,
           1.968289323,
           1.586300815,
           2.3007373269999998,
           2.269729033,
           2.039566518,
           2.079956768,
           2.4085738130000003,
           3.190228575,
           "Cluster 2"
          ],
          [
           "Saudi Arabia",
           1.5431946069999998,
           1.617271884,
           1.7527047119999999,
           1.945860041,
           2.8033962839999997,
           3.051834468,
           3.25646885,
           3.090089872,
           2.89642297,
           2.561828615,
           2.4783645,
           2.641391252,
           2.5073977469999997,
           1.8894052119999998,
           2.788237062,
           2.2652001090000002,
           2.495887158,
           2.7522826960000004,
           3.1003695560000004,
           3.4907897410000004,
           "Cluster 2"
          ],
          [
           "Mauritius",
           1.9791546869999999,
           1.904916232,
           1.91146883,
           1.954499964,
           1.8827777280000002,
           1.96954971,
           2.004170598,
           2.180551666,
           2.1883490930000002,
           2.349088838,
           2.214836795,
           2.047507497,
           1.872909835,
           1.782954216,
           2.168691339,
           2.5825881280000003,
           2.46122411,
           2.292702791,
           2.3655561919999997,
           2.364685746,
           "Cluster 2"
          ],
          [
           "Arab World",
           2.004867785,
           2.0146024280000003,
           2.071308732,
           2.177711645,
           2.331000345,
           2.3335961,
           2.58875078,
           2.54023836,
           2.450414915,
           2.314914077,
           2.134281009,
           2.133037666,
           2.16687238,
           2.101232726,
           2.830066845,
           2.4896314569999998,
           2.539570311,
           2.7112619789999997,
           2.895427378,
           3.0731609939999998,
           "Cluster 2"
          ],
          [
           "Chad",
           2.011375251,
           1.960913759,
           1.963588748,
           1.659397007,
           1.9898415530000002,
           2.66748418,
           2.396482425,
           2.691863992,
           2.268320284,
           2.299355155,
           1.55797137,
           1.128978799,
           1.2502512209999999,
           0.996604191,
           1.231522791,
           1.185137165,
           1.534874565,
           1.421939407,
           1.774692315,
           1.9789501619999998,
           "Cluster 2"
          ],
          [
           "Upper middle income",
           2.719154058,
           2.6691794090000003,
           2.8588169989999996,
           2.755691745,
           2.7583880960000005,
           2.64226068,
           2.6614438999999996,
           2.653640275,
           2.7072452680000003,
           2.71322832,
           2.754573558,
           2.798324718,
           2.916842398,
           3.039129579,
           3.401348935,
           3.258324431,
           3.26052306,
           3.3247364010000005,
           3.3759578180000003,
           3.424686871,
           "Cluster 2"
          ],
          [
           "Albania",
           1.713004455,
           1.7461975459999999,
           2.024509405,
           2.0951277569999998,
           2.510171417,
           2.2584179580000003,
           2.2922240190000003,
           2.256325893,
           2.2521041509999997,
           2.67940487,
           2.7064554430000003,
           2.5751360919999997,
           2.6291710999999998,
           2.69389845,
           2.833575743,
           2.47656803,
           2.84917086,
           2.7357041,
           2.8359842360000003,
           2.936373275,
           "Cluster 2"
          ],
          [
           "Angola",
           4.659118212,
           1.7397817740000001,
           2.0192194409999997,
           1.414705389,
           2.131797787,
           1.677216464,
           2.812403394,
           1.685217542,
           2.044369358,
           2.407840515,
           2.02464638,
           3.022435345,
           2.213764019,
           2.716334452,
           2.663917207,
           2.0612546640000002,
           2.155094274,
           2.137316503,
           3.080408392,
           2.124912195,
           "Cluster 2"
          ],
          [
           "Armenia",
           1.996272562,
           1.621148073,
           1.407496163,
           1.644913074,
           1.612414885,
           1.1375319990000001,
           1.5914746219999998,
           1.361332463,
           1.516570269,
           1.404450704,
           1.905053401,
           2.0528820530000003,
           2.099284998,
           1.764770313,
           2.010005376,
           1.9227140630000001,
           1.938903536,
           1.8756815409999998,
           1.946690997,
           1.925675667,
           "Cluster 2"
          ],
          [
           "Azerbaijan",
           1.3917525780000002,
           1.485547019,
           1.228625713,
           0.903807033,
           0.985430464,
           0.866892751,
           0.84650113,
           0.791817883,
           0.82967797,
           1.0286700359999998,
           0.880905375,
           0.86418436,
           0.980253879,
           0.824675486,
           1.33896972,
           1.168020723,
           1.080987674,
           1.210596594,
           1.150183905,
           1.230967479,
           "Cluster 2"
          ],
          [
           "Bahamas, The",
           2.729658793,
           2.773621504,
           2.357290763,
           2.539504821,
           2.467818788,
           2.502547587,
           2.466895954,
           2.5106654280000003,
           2.647886116,
           2.880435634,
           2.642189647,
           3.2726021,
           3.18150171,
           3.354877435,
           3.5265241489999997,
           3.4608155039999997,
           3.575056242,
           3.298249273,
           3.07695572,
           3.5506726960000004,
           "Cluster 2"
          ],
          [
           "Bahrain",
           2.818546496,
           2.7515132039999997,
           3.047721744,
           2.881320773,
           2.838727708,
           2.36241776,
           2.532878513,
           2.5843232030000003,
           2.501123649,
           2.267809586,
           2.156522233,
           2.125250656,
           2.184567246,
           2.313058037,
           2.748444379,
           2.593379391,
           2.383532755,
           2.7626622419999998,
           3.015994395,
           3.150500297,
           "Cluster 2"
          ],
          [
           "Bangladesh",
           1.199805247,
           1.0312841240000001,
           0.968124768,
           0.9353350979999999,
           0.9351601490000001,
           0.946712407,
           1.024926461,
           1.067809827,
           0.975548071,
           1.042067184,
           0.9668001420000001,
           1.038830186,
           0.987683698,
           0.9537524690000001,
           0.991099631,
           1.05017299,
           1.041090103,
           0.984483722,
           0.810323956,
           0.786532509,
           "Cluster 2"
          ],
          [
           "Belize",
           2.632365197,
           2.048040973,
           2.263610979,
           2.155696602,
           2.035489918,
           2.091697325,
           2.5894225509999997,
           2.456541789,
           2.589394307,
           2.507171752,
           2.647951095,
           2.669250969,
           3.022312925,
           3.290674586,
           3.862427163,
           3.858381866,
           3.725604295,
           3.5777434360000004,
           3.777130746,
           3.879657845,
           "Cluster 2"
          ],
          [
           "Benin",
           2.111729724,
           2.0315509240000003,
           1.814422789,
           1.939795897,
           2.109912315,
           1.917526784,
           2.308263635,
           1.888670405,
           2.2112665259999997,
           2.175232784,
           2.3524798909999998,
           2.385750932,
           2.307085606,
           2.137696725,
           2.328624079,
           2.688570362,
           2.9290097580000003,
           2.15409384,
           2.215456479,
           2.251196286,
           "Cluster 2"
          ],
          [
           "Brunei Darussalam",
           2.294038745,
           3.0164979919999997,
           3.01723691,
           3.7179108860000003,
           3.1839404819999997,
           2.59858883,
           2.576781266,
           2.5673854080000003,
           2.593538693,
           2.522266585,
           2.2158971480000003,
           1.929077942,
           2.03867096,
           2.015774515,
           2.591951691,
           2.520024437,
           2.066757971,
           2.112532457,
           2.407480899,
           2.485567877,
           "Cluster 2"
          ],
          [
           "Burkina Faso",
           1.8658619580000002,
           1.933787219,
           2.0678869680000003,
           2.061326682,
           2.191443603,
           2.016915355,
           1.832448876,
           2.256686535,
           2.6042529930000002,
           3.464384444,
           4.091775992,
           3.741064955,
           3.995721739,
           3.996973964,
           3.6583793260000004,
           3.9711797669999997,
           2.95514785,
           2.98036859,
           3.48939536,
           2.593973739,
           "Cluster 2"
          ],
          [
           "Burundi",
           1.34643228,
           1.4941034169999998,
           1.130843622,
           1.2478422040000001,
           1.238485735,
           1.4043644640000001,
           1.6344859109999998,
           1.55512254,
           1.345188237,
           2.544952098,
           2.937796431,
           3.5288293360000003,
           3.7804362,
           3.355311709,
           3.093040181,
           5.499656744,
           5.401877297,
           4.930865336,
           4.3966530530000005,
           3.9737275569999997,
           "Cluster 2"
          ],
          [
           "Cambodia",
           1.1239033040000002,
           2.642772374,
           2.0557185319999998,
           1.356775567,
           1.184934454,
           1.3401496179999999,
           1.30376831,
           1.520439279,
           2.416164271,
           2.3923241180000003,
           1.618218744,
           1.2352885740000001,
           1.321770862,
           1.1113312290000001,
           1.312468532,
           1.440774999,
           1.33985553,
           1.5033406980000001,
           1.397584709,
           1.251042011,
           "Cluster 2"
          ],
          [
           "Cameroon",
           0.9002687140000001,
           0.893368284,
           0.978965995,
           0.7846296140000001,
           0.8337348240000001,
           0.9326291859999999,
           1.1291992770000001,
           1.290383204,
           1.3317280120000001,
           1.129638122,
           1.120079177,
           1.076092314,
           1.065776207,
           1.049287334,
           1.28313286,
           1.5076022759999999,
           1.331447157,
           1.066747097,
           1.012469674,
           0.9386336909999999,
           "Cluster 2"
          ],
          [
           "Sub-Saharan Africa (IDA & IBRD countries)",
           2.449863298,
           2.516644595,
           2.494454088,
           2.437191306,
           2.374140004,
           2.271764359,
           2.36589666,
           2.179881571,
           2.392890886,
           2.48694164,
           2.485235818,
           2.510834419,
           2.4624205690000003,
           2.5124766309999997,
           2.71107721,
           2.48903738,
           2.624569905,
           2.543530054,
           2.4598089,
           2.314823041,
           "Cluster 2"
          ],
          [
           "Sub-Saharan Africa (excluding high income)",
           2.447084114,
           2.513732415,
           2.490668403,
           2.433949374,
           2.370627245,
           2.2691877519999997,
           2.363319605,
           2.177062415,
           2.3902048280000003,
           2.484998793,
           2.4836869530000003,
           2.509609703,
           2.4617436809999997,
           2.512576224,
           2.71133,
           2.4885153559999997,
           2.6241637030000002,
           2.5426359130000002,
           2.459070655,
           2.3141783609999997,
           "Cluster 2"
          ],
          [
           "Sub-Saharan Africa",
           2.449863298,
           2.516644595,
           2.494454088,
           2.437191306,
           2.374140004,
           2.271764359,
           2.36589666,
           2.179881571,
           2.392890886,
           2.48694164,
           2.485235818,
           2.510834419,
           2.4624205690000003,
           2.5124766309999997,
           2.71107721,
           2.48903738,
           2.624569905,
           2.543530054,
           2.4598089,
           2.314823041,
           "Cluster 2"
          ],
          [
           "South Asia (IDA & IBRD)",
           1.03503164,
           0.99799026,
           1.0374988109999999,
           1.070832413,
           1.081228019,
           1.0670523109999999,
           1.042238308,
           1.032538376,
           0.9733766779999999,
           1.018914387,
           1.103442311,
           1.103521575,
           1.09051214,
           1.151605829,
           1.205501388,
           1.181098088,
           1.181152879,
           1.19027209,
           1.28224814,
           1.3678991719999998,
           "Cluster 2"
          ],
          [
           "Caribbean small states",
           2.8015183710000002,
           2.856683624,
           2.9971566689999998,
           2.9894512000000004,
           2.7678577189999998,
           2.826752141,
           2.6799687530000003,
           2.888692649,
           2.740592575,
           2.845970706,
           2.629579982,
           2.650899715,
           2.79066499,
           2.8229131219999997,
           3.408651206,
           3.264063783,
           3.08765286,
           3.3143030839999996,
           3.318431579,
           3.2600123180000002,
           "Cluster 2"
          ],
          [
           "Early-demographic dividend",
           2.203164007,
           2.156631825,
           2.227311469,
           2.364099533,
           2.454393636,
           2.450554821,
           2.52708105,
           2.347701787,
           2.36326343,
           2.346823705,
           2.337346649,
           2.369883662,
           2.385250838,
           2.405125681,
           2.701259981,
           2.5071308709999998,
           2.495490968,
           2.497340218,
           2.586701422,
           2.665602603,
           "Cluster 2"
          ],
          [
           "East Asia & Pacific (excluding high income)",
           1.615852443,
           1.640251145,
           1.6783221080000001,
           1.764602604,
           1.75401335,
           1.689184662,
           1.626887281,
           1.736855763,
           1.8086373709999999,
           1.815666676,
           1.79631989,
           1.8752670930000002,
           2.076666145,
           2.256213902,
           2.5749937469999997,
           2.53842979,
           2.669787471,
           2.8114897130000003,
           2.881804892,
           2.975050955,
           "Cluster 2"
          ],
          [
           "East Asia & Pacific (IDA & IBRD countries)",
           1.615852443,
           1.640251145,
           1.6783221080000001,
           1.764602604,
           1.75401335,
           1.689184662,
           1.626887281,
           1.736855763,
           1.8086373709999999,
           1.815666676,
           1.79631989,
           1.8752670930000002,
           2.076666145,
           2.256213902,
           2.5749937469999997,
           2.53842979,
           2.669787471,
           2.8114897130000003,
           2.881804892,
           2.975050955,
           "Cluster 2"
          ],
          [
           "Heavily indebted poor countries (HIPC)",
           1.630562619,
           1.7167492340000001,
           1.65244635,
           1.7718702569999998,
           1.834357688,
           1.79637023,
           2.015090682,
           2.068192564,
           2.1669018159999998,
           2.216858939,
           2.345166979,
           2.4488834919999998,
           2.3024619090000003,
           2.429057526,
           2.539924114,
           2.712862763,
           2.661827679,
           2.58866833,
           2.580611781,
           2.532968767,
           "Cluster 2"
          ],
          [
           "Late-demographic dividend",
           2.749846218,
           2.750524463,
           2.94232719,
           2.7954760419999998,
           2.721888766,
           2.5495596369999998,
           2.589519016,
           2.719474646,
           2.735925695,
           2.744432242,
           2.775096107,
           2.818204592,
           2.932192624,
           3.090526918,
           3.408418886,
           3.27272891,
           3.265710729,
           3.349820181,
           3.376662873,
           3.4269252519999998,
           "Cluster 2"
          ],
          [
           "Least developed countries: UN classification",
           1.52548196,
           1.4297370919999999,
           1.430388652,
           1.471607242,
           1.522391719,
           1.465800489,
           1.689041896,
           1.690471391,
           1.800899345,
           1.880999571,
           1.898899247,
           2.157903627,
           1.9138546930000002,
           2.140700178,
           2.172629716,
           2.198171697,
           2.177006608,
           1.96354228,
           2.031209935,
           1.919877296,
           "Cluster 2"
          ],
          [
           "Central African Republic",
           1.363974592,
           2.023371914,
           1.216183896,
           1.4170993580000002,
           1.871718297,
           2.1021468359999997,
           1.863889207,
           2.062251945,
           2.0768119130000002,
           1.845115241,
           2.1146899390000002,
           1.923990235,
           2.036722449,
           2.290508965,
           1.497162132,
           1.9771464330000001,
           1.840226144,
           1.7680298669999999,
           1.913359234,
           2.0569429830000003,
           "Cluster 2"
          ],
          [
           "Low & middle income",
           2.401016022,
           2.351839879,
           2.507134082,
           2.4654399419999997,
           2.427530862,
           2.34705236,
           2.376884847,
           2.345132586,
           2.384587803,
           2.4076141769999997,
           2.458114132,
           2.506991643,
           2.6052197390000003,
           2.734475624,
           3.005713015,
           2.869481703,
           2.894131937,
           2.9566967039999996,
           3.0130862210000005,
           3.0383182860000004,
           "Cluster 2"
          ],
          [
           "Lower middle income",
           1.3821720169999998,
           1.344572554,
           1.355006184,
           1.4310212219999998,
           1.3888542769999999,
           1.384144461,
           1.4288831530000001,
           1.380571025,
           1.3841809880000002,
           1.400072101,
           1.4280820419999998,
           1.478788431,
           1.521790939,
           1.559230946,
           1.5884407409999999,
           1.5131299669999998,
           1.519120119,
           1.5812649540000001,
           1.639779694,
           1.6358329619999998,
           "Cluster 2"
          ],
          [
           "Middle East & North Africa",
           2.423456889,
           2.430438328,
           2.520586788,
           2.585412087,
           2.614487018,
           2.609441929,
           2.869833259,
           2.818405786,
           2.735597223,
           2.5723098419999997,
           2.411219853,
           2.45275055,
           2.439045576,
           2.352177305,
           3.016616398,
           2.714642506,
           2.711284804,
           2.895571978,
           3.06782614,
           3.224936356,
           "Cluster 2"
          ],
          [
           "Middle East & North Africa (excluding high income)",
           1.986615421,
           2.000319073,
           2.116533205,
           2.180356186,
           2.073848436,
           2.15353996,
           2.4061859269999997,
           2.452578692,
           2.404325255,
           2.413375024,
           2.277110381,
           2.33316934,
           2.38604766,
           2.4840236190000002,
           2.883655535,
           2.674039179,
           2.6663160009999998,
           2.946036225,
           3.1133615810000004,
           3.195117055,
           "Cluster 2"
          ],
          [
           "Middle East & North Africa (IDA & IBRD countries)",
           1.986615421,
           2.000319073,
           2.116533205,
           2.180356186,
           2.073848436,
           2.15353996,
           2.4061859269999997,
           2.452578692,
           2.404325255,
           2.413375024,
           2.277110381,
           2.33316934,
           2.38604766,
           2.4840236190000002,
           2.883655535,
           2.674039179,
           2.6663160009999998,
           2.946036225,
           3.1133615810000004,
           3.195117055,
           "Cluster 2"
          ],
          [
           "Middle income",
           2.412678871,
           2.36362262,
           2.5202424480000003,
           2.477042313,
           2.43762049,
           2.356948176,
           2.382038559,
           2.349752613,
           2.387242359,
           2.4088153219999997,
           2.458108718,
           2.504454687,
           2.60902103,
           2.73939142,
           3.0142344189999997,
           2.872383447,
           2.896995845,
           2.962450623,
           3.0212647560000003,
           3.0467369210000004,
           "Cluster 2"
          ],
          [
           "Pre-demographic dividend",
           1.410676744,
           1.300913774,
           1.3471565680000002,
           1.43327288,
           1.489741772,
           1.4058226130000002,
           1.6053387190000001,
           1.4385881090000001,
           1.6097842219999998,
           2.055879709,
           1.894072295,
           1.9102146830000002,
           1.9152088569999999,
           2.147427747,
           2.25671329,
           1.826936093,
           1.921276365,
           2.018579254,
           2.092089478,
           1.933374353,
           "Cluster 2"
          ],
          [
           "South Asia",
           1.03503164,
           0.99799026,
           1.0374988109999999,
           1.070832413,
           1.081228019,
           1.0670523109999999,
           1.042238308,
           1.032538376,
           0.9733766779999999,
           1.018914387,
           1.103442311,
           1.103521575,
           1.09051214,
           1.151605829,
           1.205501388,
           1.181098088,
           1.181152879,
           1.19027209,
           1.28224814,
           1.3678991719999998,
           "Cluster 2"
          ],
          [
           "Low income",
           1.5301250290000001,
           1.483895647,
           1.5211285190000001,
           1.657153759,
           1.738222289,
           1.7597896480000002,
           2.034208573,
           2.063321574,
           2.217968593,
           2.32876762,
           2.458480802,
           2.691171989,
           2.317963439,
           2.365497375,
           2.4214922619999997,
           2.642192573,
           2.6593637230000002,
           2.511732098,
           2.394346629,
           2.43910583,
           "Cluster 2"
          ],
          [
           "Mauritania",
           2.230334388,
           1.3288083929999999,
           1.49219146,
           2.084762022,
           2.901813013,
           2.770993523,
           1.879560462,
           2.862060366,
           2.179218351,
           2.464112525,
           2.033356056,
           1.4476164319999998,
           1.6517913519999998,
           1.3545647330000001,
           1.79980274,
           1.52105378,
           1.279141378,
           1.370247011,
           1.726038803,
           1.871016263,
           "Cluster 2"
          ],
          [
           "Zambia",
           2.152488857,
           2.484677806,
           2.585239318,
           3.1339650839999997,
           3.403697035,
           3.7198999230000003,
           3.5265592110000004,
           4.018109627,
           4.18766916,
           3.65708439,
           3.9569790069999997,
           2.75584562,
           1.885822023,
           2.18994158,
           2.261667785,
           2.27995642,
           2.148931957,
           2.536370459,
           2.7654047189999997,
           2.760094545,
           "Cluster 2"
          ],
          [
           "Comoros",
           2.8797862060000003,
           2.7139497039999996,
           2.584925576,
           2.185036147,
           1.964426649,
           1.5227230969999999,
           1.0946753390000001,
           1.6697581019999999,
           1.815474839,
           2.010438445,
           2.274051852,
           2.5071515140000002,
           2.80299141,
           3.094532063,
           1.72121212,
           1.454408898,
           1.656759335,
           2.646604021,
           2.003193245,
           2.2173203519999998,
           "Cluster 2"
          ],
          [
           "Yemen, Rep.",
           1.358739823,
           1.644500639,
           1.898410163,
           2.324037809,
           2.127391156,
           2.2352856269999997,
           2.294180651,
           2.142648503,
           2.1817307269999997,
           1.85433054,
           1.5511169759999999,
           1.5216019440000002,
           1.462789576,
           1.5650183009999998,
           1.3366978040000002,
           1.299130895,
           1.3504469030000001,
           1.5716278190000001,
           1.410009971,
           1.271870986,
           "Cluster 2"
          ],
          [
           "India",
           1.051510963,
           1.006714181,
           1.072536175,
           1.104334395,
           1.130458988,
           1.1124430090000001,
           1.0779961820000001,
           1.025761987,
           0.984930506,
           1.022681766,
           1.1342577,
           1.110610623,
           1.099600724,
           1.162740942,
           1.2209710809999998,
           1.161015809,
           1.175376637,
           1.183872748,
           1.2868865840000001,
           1.4072376180000001,
           "Cluster 2"
          ],
          [
           "Indonesia",
           0.708979047,
           0.726782129,
           0.676852206,
           0.7080650270000001,
           0.772645557,
           0.72468259,
           0.963565797,
           0.884272738,
           1.015301176,
           0.9348711359999999,
           0.803211001,
           0.912583094,
           1.126425894,
           1.005797618,
           1.019549421,
           1.03300414,
           1.028914047,
           1.147736521,
           1.153628987,
           1.0755363009999999,
           "Cluster 2"
          ],
          [
           "Iran, Islamic Rep.",
           1.6760716930000001,
           1.725678443,
           1.942216566,
           2.137651028,
           1.86003165,
           1.8631224999999998,
           2.194736416,
           2.189274716,
           2.348239338,
           2.23931692,
           2.333458198,
           2.568090196,
           2.4239648469999997,
           2.437820381,
           2.879141091,
           2.684682081,
           2.4790332630000003,
           2.687600161,
           2.7340401539999997,
           2.840802145,
           "Cluster 2"
          ],
          [
           "Jamaica",
           2.224280687,
           2.859074529,
           3.354873879,
           3.383751914,
           2.711113592,
           3.220452714,
           2.449632293,
           2.787349228,
           2.304267888,
           2.723855098,
           1.9858449269999998,
           2.3102109090000003,
           2.5349200819999997,
           2.893671205,
           2.8937382119999997,
           2.99010608,
           2.7952228110000004,
           3.273760445,
           3.380134876,
           2.8085780330000003,
           "Cluster 2"
          ],
          [
           "Kazakhstan",
           2.953489978,
           2.759064102,
           3.0026158069999997,
           3.092985258,
           2.296107627,
           2.1193106530000003,
           1.965795165,
           1.933120902,
           2.014321414,
           2.294666524,
           2.521541794,
           2.3057194,
           1.784132566,
           2.262578318,
           2.651119229,
           2.527218011,
           2.271552738,
           2.40821469,
           2.18920504,
           2.3679030869999997,
           "Cluster 2"
          ],
          [
           "Kenya",
           1.969355371,
           1.662980154,
           1.599507906,
           1.994903268,
           1.67225462,
           2.166725101,
           2.067304171,
           1.9431644419999998,
           1.9281390840000001,
           1.7957208980000001,
           1.845407496,
           1.624314663,
           1.596858528,
           1.40330995,
           1.641624369,
           1.418735549,
           2.623533409,
           3.3229374480000002,
           3.3464041819999997,
           3.5038660580000003,
           "Cluster 2"
          ],
          [
           "Korea, Rep.",
           1.37837002,
           1.567106233,
           1.661384573,
           1.896960077,
           2.0360782019999997,
           2.069427846,
           2.6287877219999998,
           2.496197951,
           2.567924451,
           2.604738563,
           2.8184627260000004,
           3.145604415,
           3.279317912,
           3.364369569,
           3.756141758,
           3.855133327,
           3.8213452130000003,
           3.851691628,
           3.909878493,
           3.985248041,
           "Cluster 2"
          ],
          [
           "Kuwait",
           3.0793817160000003,
           2.75312334,
           2.9512544810000003,
           3.5051093939999998,
           2.9118429619999997,
           1.9074589430000002,
           2.938514016,
           2.8451164789999996,
           2.591638049,
           2.197676413,
           1.8984359730000002,
           1.826202921,
           1.678892606,
           1.511862693,
           3.3709338939999998,
           2.334489191,
           2.255683318,
           2.187222399,
           2.1656254280000002,
           2.614422533,
           "Cluster 2"
          ],
          [
           "Kyrgyz Republic",
           3.0586966139999996,
           2.518306598,
           2.561680082,
           2.5370569880000002,
           2.251547927,
           2.0709018009999998,
           1.96892384,
           2.149216502,
           2.056844,
           2.275178259,
           2.38059842,
           3.276997235,
           3.530000425,
           3.1283246069999997,
           3.785352567,
           3.71014072,
           3.701089568,
           4.197243855,
           3.8799367869999997,
           3.639437553,
           "Cluster 2"
          ],
          [
           "Lao PDR",
           2.179347721,
           1.827522348,
           2.07175976,
           1.8517304780000001,
           1.111702922,
           1.13056391,
           1.177790717,
           1.0828706259999998,
           1.2709968,
           0.801898709,
           0.7346070859999999,
           1.1470211890000002,
           1.029730057,
           1.001469523,
           1.8583031069999998,
           1.278180688,
           0.835809612,
           0.79224628,
           0.964872836,
           0.942733752,
           "Cluster 2"
          ],
          [
           "Libya",
           1.5145279969999998,
           1.662741707,
           1.7901981919999999,
           1.884513389,
           1.6503777830000002,
           1.6598308590000002,
           2.210293692,
           3.056726273,
           2.692002637,
           2.276618671,
           1.7491174269999998,
           1.640166807,
           1.748097339,
           1.382407555,
           2.178180015,
           2.136789648,
           3.019999999,
           3.019999999,
           3.019999999,
           3.6540791589999997,
           "Cluster 2"
          ],
          [
           "Madagascar",
           1.4415262030000002,
           1.9149721119999998,
           2.14802212,
           1.96133518,
           2.0399136369999997,
           2.573304228,
           2.808515662,
           2.7432138360000002,
           2.260174188,
           2.43699522,
           2.621449986,
           2.817711615,
           2.7398218389999998,
           2.41891842,
           2.408212919,
           2.606558609,
           2.4358722790000003,
           1.8161052969999998,
           2.560444941,
           1.473414605,
           "Cluster 2"
          ],
          [
           "Malaysia",
           1.673580101,
           1.693100127,
           1.503468834,
           1.6234893730000002,
           1.682393231,
           1.6935325469999998,
           1.990382325,
           1.95887394,
           2.362041422,
           2.118040539,
           1.69082761,
           2.011816692,
           1.961867672,
           1.936706363,
           2.336639744,
           2.2862965859999997,
           2.135913733,
           2.21523329,
           2.2031471540000003,
           2.300290016,
           "Cluster 2"
          ],
          [
           "Mali",
           2.627422294,
           2.9937876169999997,
           2.478276148,
           2.136752933,
           1.819396693,
           2.069921322,
           2.872448632,
           2.538877445,
           2.757198984,
           3.091886553,
           3.0385294910000002,
           3.164633564,
           3.3665769610000003,
           3.1356973139999997,
           3.148995784,
           2.807459661,
           3.0152463110000003,
           2.250262582,
           1.134273081,
           1.568172106,
           "Cluster 2"
          ],
          [
           "China",
           1.780381954,
           1.763716129,
           1.7806565580000002,
           1.8120753459999999,
           1.8349422359999998,
           1.7598434680000001,
           1.621284224,
           1.7146722380000001,
           1.746529994,
           1.793429835,
           1.805920306,
           1.83853832,
           2.026592106,
           2.292123452,
           2.664482629,
           2.653820098,
           2.8106526560000002,
           2.945813766,
           3.005601408,
           3.095174286,
           "Cluster 2"
          ],
          [
           "Guinea-Bissau",
           1.59182256,
           2.107388011,
           2.249324138,
           2.207081665,
           1.458689029,
           0.5159652370000001,
           0.483604876,
           1.29016916,
           1.2961535690000001,
           0.8552961729999999,
           1.083538194,
           1.068546513,
           1.363201444,
           1.1577875359999998,
           1.916627082,
           1.849453411,
           1.0469749320000001,
           1.591370587,
           1.6250123669999998,
           1.145122307,
           "Cluster 2"
          ],
          [
           "Haiti",
           2.700778316,
           2.4568022959999998,
           2.444218128,
           2.031842786,
           1.696652901,
           1.679556587,
           1.472578763,
           1.411106475,
           1.585349102,
           2.029269522,
           0.938494956,
           1.355593535,
           1.326609423,
           1.355999841,
           1.3726482,
           1.410583252,
           1.80632117,
           0.980271294,
           1.724541255,
           1.559516418,
           "Cluster 2"
          ],
          [
           "Guatemala",
           1.568251834,
           1.4740888109999999,
           1.652352634,
           1.687897756,
           1.8225683169999998,
           1.906287984,
           2.1653825419999997,
           2.126950411,
           2.250780088,
           2.18862221,
           2.151933847,
           2.389327876,
           2.26818626,
           2.319787972,
           2.516993404,
           2.375496937,
           2.15314798,
           2.14774653,
           2.321889304,
           2.334729015,
           "Cluster 2"
          ],
          [
           "Congo, Dem. Rep.",
           0.151469658,
           0.113020059,
           0.20486781199999998,
           0.178185156,
           0.24769671199999999,
           0.044703612000000004,
           0.14417975,
           0.160080405,
           0.700026844,
           0.71835464,
           0.752462162,
           0.938991328,
           1.209434345,
           2.099872761,
           2.362979061,
           1.062595613,
           1.255268552,
           1.687173628,
           1.3234417509999998,
           1.59835647,
           "Cluster 2"
          ],
          [
           "Congo, Rep.",
           1.875942346,
           1.7216115490000001,
           1.9118363180000002,
           2.218401855,
           1.752764882,
           1.222592062,
           1.334532489,
           1.287959153,
           1.300179166,
           1.369675105,
           1.434608509,
           1.494032765,
           1.545764133,
           1.238592875,
           1.14114182,
           1.386578972,
           1.977375259,
           3.149421373,
           4.05731117,
           4.2119208519999995,
           "Cluster 2"
          ],
          [
           "Cote d'Ivoire",
           1.645869281,
           1.8541070080000002,
           2.003289854,
           1.8888131119999998,
           1.799667406,
           1.7880357040000001,
           1.290257864,
           1.40860098,
           1.338333609,
           1.4716744259999999,
           1.269719496,
           1.358403825,
           1.4282131319999998,
           1.528626424,
           1.6968101519999998,
           1.6761721680000001,
           1.635696974,
           1.885045493,
           1.7965878830000002,
           1.6785384909999999,
           "Cluster 2"
          ],
          [
           "Cyprus",
           1.697054395,
           1.774813392,
           1.948338097,
           2.338116275,
           2.388126932,
           2.402830234,
           2.449259438,
           2.7545184480000002,
           3.082626861,
           2.813460787,
           2.662677211,
           2.663821238,
           2.5780400130000003,
           2.8508256060000003,
           3.3114723930000003,
           3.425307365,
           3.5076350819999997,
           3.4116037089999995,
           3.4707913969999997,
           3.332019222,
           "Cluster 2"
          ],
          [
           "Dominican Republic",
           1.155220766,
           1.2382753,
           1.48835433,
           1.7989108280000001,
           2.00188919,
           2.192495065,
           1.925895905,
           2.008738541,
           1.8208773669999998,
           1.3886192519999998,
           1.4859490469999999,
           1.781605827,
           1.9925087609999999,
           2.051277828,
           2.245560221,
           2.263964847,
           2.604386077,
           2.7018122589999995,
           2.623467358,
           2.927375648,
           "Cluster 2"
          ],
          [
           "Ecuador",
           1.8815244230000001,
           2.204202458,
           1.9874813930000002,
           1.400740525,
           1.3751416319999998,
           0.8960031829999999,
           1.228463152,
           1.428875973,
           1.425714581,
           1.4293144180000001,
           1.309875442,
           1.423655771,
           1.5062408999999999,
           1.630354665,
           2.186591275,
           2.4594076240000002,
           2.597380991,
           2.957292999,
           3.858385301,
           4.508156573,
           "Cluster 2"
          ],
          [
           "Egypt, Arab Rep.",
           1.6460250419999998,
           1.620664666,
           1.785539455,
           1.969811265,
           2.1234134,
           2.246958395,
           2.327558282,
           2.403817061,
           2.068547965,
           1.985911495,
           1.9850409880000002,
           2.287519277,
           2.0466957359999998,
           2.0297271969999997,
           2.058126846,
           1.872592845,
           1.990804136,
           1.9092313269999999,
           2.057468101,
           2.155384501,
           "Cluster 2"
          ],
          [
           "Equatorial Guinea",
           3.883858135,
           2.7329980910000002,
           2.251245641,
           3.055954265,
           1.922256608,
           2.166271678,
           1.335525197,
           1.111721515,
           1.52759716,
           1.3524546240000002,
           0.9139821140000001,
           1.4674520659999999,
           1.640828358,
           1.795079572,
           4.461108402,
           3.057171112,
           2.596654331,
           3.325881938,
           2.961789903,
           2.932710442,
           "Cluster 2"
          ],
          [
           "Eritrea",
           2.171974402,
           1.321100351,
           1.770926971,
           1.85142628,
           1.996568895,
           1.588511165,
           1.386781377,
           1.6404693430000001,
           1.291688995,
           1.236014558,
           1.095939139,
           1.4704505280000002,
           1.490338129,
           1.9314296069999999,
           1.397960224,
           1.424863559,
           1.40782257,
           1.383976464,
           1.37826626,
           1.527464004,
           "Cluster 2"
          ],
          [
           "Ethiopia",
           1.201089905,
           1.113331724,
           1.308283107,
           1.634136008,
           1.842742815,
           2.382655413,
           2.230818205,
           2.550281355,
           2.556368908,
           2.37364068,
           2.580334349,
           2.529405628,
           2.571477099,
           2.221322189,
           2.421519695,
           3.716736035,
           3.735155728,
           3.3105951260000004,
           2.953637718,
           2.86756675,
           "Cluster 2"
          ],
          [
           "Fiji",
           2.463687222,
           2.643610757,
           2.8924071430000002,
           2.6044336130000003,
           2.50533762,
           3.2355711560000002,
           2.628178355,
           2.8544881930000003,
           2.7002647580000003,
           2.88766334,
           2.936055816,
           3.012361986,
           2.7919826010000004,
           2.780329042,
           2.953906158,
           2.9652059360000003,
           2.677144195,
           2.762148643,
           2.902243871,
           2.95320811,
           "Cluster 2"
          ],
          [
           "Gabon",
           1.257445299,
           1.28647559,
           1.192176302,
           1.731343904,
           1.213987698,
           1.154856156,
           1.285837405,
           1.207290008,
           1.467581307,
           1.36059829,
           1.114980978,
           1.235086135,
           1.2669780659999998,
           1.076241407,
           1.5480996480000002,
           2.44092455,
           2.103287948,
           2.210201203,
           2.931829623,
           2.350580925,
           "Cluster 2"
          ],
          [
           "Gambia, The",
           1.041104569,
           0.8962045120000001,
           0.921290897,
           1.194823096,
           1.25261532,
           1.234866709,
           1.55374665,
           1.4073568930000002,
           2.1239748780000003,
           2.5148502390000003,
           2.8975990080000003,
           3.244630936,
           3.40312534,
           3.527012899,
           3.482328264,
           3.4330868760000004,
           3.735121027,
           3.672212762,
           4.181628453,
           5.045612515,
           "Cluster 2"
          ],
          [
           "Georgia",
           0.267281215,
           0.8742158040000001,
           1.491279099,
           1.195657068,
           1.140527412,
           1.180608888,
           1.388194366,
           1.400350039,
           1.25729464,
           1.307242467,
           1.648504578,
           1.7716621019999998,
           1.449623425,
           1.7799744119999998,
           2.270258573,
           2.2899291330000002,
           1.7006243840000002,
           1.210348913,
           1.276120238,
           1.552730538,
           "Cluster 2"
          ],
          [
           "Ghana",
           1.6228713819999998,
           2.0189271019999997,
           1.4356055330000002,
           1.7727537830000002,
           1.5933775380000001,
           1.4980943409999998,
           2.045003688,
           1.508850229,
           1.580562376,
           2.399043819,
           2.923944957,
           3.0442281560000004,
           3.729887891,
           3.223054494,
           3.6749633619999997,
           3.829376748,
           3.5755204860000003,
           3.140675827,
           3.242160133,
           2.128885085,
           "Cluster 2"
          ],
          [
           "Guinea",
           1.24440635,
           0.7692242340000001,
           0.753971712,
           0.9485828709999999,
           1.0340789959999999,
           1.095939452,
           1.27041596,
           1.313300227,
           1.313311747,
           0.879682253,
           0.554865842,
           0.66542757,
           0.418226466,
           0.7846244029999999,
           1.346498634,
           2.011768888,
           1.977158975,
           2.0989461769999997,
           2.378242841,
           2.7362447810000003,
           "Cluster 2"
          ]
         ],
         "hoverlabel": {
          "namelength": 0
         },
         "hovertemplate": "Cluster=%{customdata[21]}<br>Country Name=%{customdata[0]}<br>1995=%{customdata[1]}<br>1996=%{customdata[2]}<br>1997=%{customdata[3]}<br>1998=%{customdata[4]}<br>1999=%{customdata[5]}<br>2000=%{customdata[6]}<br>2001=%{customdata[7]}<br>2002=%{customdata[8]}<br>2003=%{customdata[9]}<br>2004=%{customdata[10]}<br>2005=%{customdata[11]}<br>2006=%{customdata[12]}<br>2007=%{customdata[13]}<br>2008=%{customdata[14]}<br>2009=%{customdata[15]}<br>2010=%{customdata[16]}<br>2011=%{customdata[17]}<br>2012=%{customdata[18]}<br>2013=%{customdata[19]}<br>2014=%{customdata[20]}",
         "legendgroup": "Cluster=Cluster 2",
         "marker": {
          "color": "#00cc96"
         },
         "name": "Cluster=Cluster 2",
         "notched": true,
         "offsetgroup": "Cluster=Cluster 2",
         "showlegend": false,
         "type": "box",
         "x": [
          "Cluster 2",
          "Cluster 2",
          "Cluster 2",
          "Cluster 2",
          "Cluster 2",
          "Cluster 2",
          "Cluster 2",
          "Cluster 2",
          "Cluster 2",
          "Cluster 2",
          "Cluster 2",
          "Cluster 2",
          "Cluster 2",
          "Cluster 2",
          "Cluster 2",
          "Cluster 2",
          "Cluster 2",
          "Cluster 2",
          "Cluster 2",
          "Cluster 2",
          "Cluster 2",
          "Cluster 2",
          "Cluster 2",
          "Cluster 2",
          "Cluster 2",
          "Cluster 2",
          "Cluster 2",
          "Cluster 2",
          "Cluster 2",
          "Cluster 2",
          "Cluster 2",
          "Cluster 2",
          "Cluster 2",
          "Cluster 2",
          "Cluster 2",
          "Cluster 2",
          "Cluster 2",
          "Cluster 2",
          "Cluster 2",
          "Cluster 2",
          "Cluster 2",
          "Cluster 2",
          "Cluster 2",
          "Cluster 2",
          "Cluster 2",
          "Cluster 2",
          "Cluster 2",
          "Cluster 2",
          "Cluster 2",
          "Cluster 2",
          "Cluster 2",
          "Cluster 2",
          "Cluster 2",
          "Cluster 2",
          "Cluster 2",
          "Cluster 2",
          "Cluster 2",
          "Cluster 2",
          "Cluster 2",
          "Cluster 2",
          "Cluster 2",
          "Cluster 2",
          "Cluster 2",
          "Cluster 2",
          "Cluster 2",
          "Cluster 2",
          "Cluster 2",
          "Cluster 2",
          "Cluster 2",
          "Cluster 2",
          "Cluster 2",
          "Cluster 2",
          "Cluster 2",
          "Cluster 2",
          "Cluster 2",
          "Cluster 2",
          "Cluster 2",
          "Cluster 2",
          "Cluster 2",
          "Cluster 2",
          "Cluster 2",
          "Cluster 2",
          "Cluster 2",
          "Cluster 2",
          "Cluster 2",
          "Cluster 2",
          "Cluster 2",
          "Cluster 2",
          "Cluster 2",
          "Cluster 2",
          "Cluster 2",
          "Cluster 2",
          "Cluster 2",
          "Cluster 2",
          "Cluster 2",
          "Cluster 2",
          "Cluster 2",
          "Cluster 2",
          "Cluster 2",
          "Cluster 2",
          "Cluster 2",
          "Cluster 2",
          "Cluster 2",
          "Cluster 2",
          "Cluster 2",
          "Cluster 2",
          "Cluster 2",
          "Cluster 2",
          "Cluster 2"
         ],
         "xaxis": "x2",
         "yaxis": "y2"
        },
        {
         "alignmentgroup": "True",
         "bingroup": "x",
         "hoverlabel": {
          "namelength": 0
         },
         "hovertemplate": "Cluster=%{x}<br>count=%{y}",
         "legendgroup": "Cluster=Cluster 3",
         "marker": {
          "color": "#ab63fa",
          "opacity": 0.7
         },
         "name": "Cluster=Cluster 3",
         "offsetgroup": "Cluster=Cluster 3",
         "orientation": "v",
         "showlegend": true,
         "type": "histogram",
         "x": [
          "Cluster 3",
          "Cluster 3",
          "Cluster 3"
         ],
         "xaxis": "x",
         "yaxis": "y"
        },
        {
         "alignmentgroup": "True",
         "customdata": [
          [
           "Nauru",
           12.33493098,
           11.59428355,
           11.82601857,
           12.56498453,
           12.337983900000001,
           12.54768588,
           13.31280697,
           14.53541812,
           13.45467078,
           10.64962726,
           11.61777519,
           12.57633671,
           18.10282404,
           15.60670301,
           8.727534152,
           8.454551816,
           7.110556956,
           6.523965614,
           4.192163552,
           2.8676663239999995,
           "Cluster 3"
          ],
          [
           "Tuvalu",
           7.960185727000001,
           11.27466332,
           8.08774651,
           8.614014716,
           9.221982956,
           15.66666666,
           17.26923077,
           14.386206900000001,
           21.65409429,
           16.74897207,
           18.23437732,
           19.25675216,
           16.85609763,
           13.26834375,
           12.69334417,
           16.62857143,
           16.84210527,
           13.64102565,
           16.475,
           16.40476191,
           "Cluster 3"
          ],
          [
           "Marshall Islands",
           28.04978525,
           16.67889286,
           17.16813342,
           15.64522955,
           15.42742281,
           19.24043333,
           16.07197043,
           14.8351456,
           14.21128802,
           15.09092986,
           14.67971014,
           17.05555555,
           17.592,
           16.48169934,
           16.02894737,
           14.39817073,
           14.271676300000001,
           13.90652174,
           14.551897899999998,
           14.44916839,
           "Cluster 3"
          ]
         ],
         "hoverlabel": {
          "namelength": 0
         },
         "hovertemplate": "Cluster=%{customdata[21]}<br>Country Name=%{customdata[0]}<br>1995=%{customdata[1]}<br>1996=%{customdata[2]}<br>1997=%{customdata[3]}<br>1998=%{customdata[4]}<br>1999=%{customdata[5]}<br>2000=%{customdata[6]}<br>2001=%{customdata[7]}<br>2002=%{customdata[8]}<br>2003=%{customdata[9]}<br>2004=%{customdata[10]}<br>2005=%{customdata[11]}<br>2006=%{customdata[12]}<br>2007=%{customdata[13]}<br>2008=%{customdata[14]}<br>2009=%{customdata[15]}<br>2010=%{customdata[16]}<br>2011=%{customdata[17]}<br>2012=%{customdata[18]}<br>2013=%{customdata[19]}<br>2014=%{customdata[20]}",
         "legendgroup": "Cluster=Cluster 3",
         "marker": {
          "color": "#ab63fa"
         },
         "name": "Cluster=Cluster 3",
         "notched": true,
         "offsetgroup": "Cluster=Cluster 3",
         "showlegend": false,
         "type": "box",
         "x": [
          "Cluster 3",
          "Cluster 3",
          "Cluster 3"
         ],
         "xaxis": "x2",
         "yaxis": "y2"
        }
       ],
       "layout": {
        "autosize": true,
        "barmode": "relative",
        "legend": {
         "tracegroupgap": 0
        },
        "margin": {
         "t": 60
        },
        "template": {
         "data": {
          "bar": [
           {
            "error_x": {
             "color": "#2a3f5f"
            },
            "error_y": {
             "color": "#2a3f5f"
            },
            "marker": {
             "line": {
              "color": "#E5ECF6",
              "width": 0.5
             }
            },
            "type": "bar"
           }
          ],
          "barpolar": [
           {
            "marker": {
             "line": {
              "color": "#E5ECF6",
              "width": 0.5
             }
            },
            "type": "barpolar"
           }
          ],
          "carpet": [
           {
            "aaxis": {
             "endlinecolor": "#2a3f5f",
             "gridcolor": "white",
             "linecolor": "white",
             "minorgridcolor": "white",
             "startlinecolor": "#2a3f5f"
            },
            "baxis": {
             "endlinecolor": "#2a3f5f",
             "gridcolor": "white",
             "linecolor": "white",
             "minorgridcolor": "white",
             "startlinecolor": "#2a3f5f"
            },
            "type": "carpet"
           }
          ],
          "choropleth": [
           {
            "colorbar": {
             "outlinewidth": 0,
             "ticks": ""
            },
            "type": "choropleth"
           }
          ],
          "contour": [
           {
            "colorbar": {
             "outlinewidth": 0,
             "ticks": ""
            },
            "colorscale": [
             [
              0,
              "#0d0887"
             ],
             [
              0.1111111111111111,
              "#46039f"
             ],
             [
              0.2222222222222222,
              "#7201a8"
             ],
             [
              0.3333333333333333,
              "#9c179e"
             ],
             [
              0.4444444444444444,
              "#bd3786"
             ],
             [
              0.5555555555555556,
              "#d8576b"
             ],
             [
              0.6666666666666666,
              "#ed7953"
             ],
             [
              0.7777777777777778,
              "#fb9f3a"
             ],
             [
              0.8888888888888888,
              "#fdca26"
             ],
             [
              1,
              "#f0f921"
             ]
            ],
            "type": "contour"
           }
          ],
          "contourcarpet": [
           {
            "colorbar": {
             "outlinewidth": 0,
             "ticks": ""
            },
            "type": "contourcarpet"
           }
          ],
          "heatmap": [
           {
            "colorbar": {
             "outlinewidth": 0,
             "ticks": ""
            },
            "colorscale": [
             [
              0,
              "#0d0887"
             ],
             [
              0.1111111111111111,
              "#46039f"
             ],
             [
              0.2222222222222222,
              "#7201a8"
             ],
             [
              0.3333333333333333,
              "#9c179e"
             ],
             [
              0.4444444444444444,
              "#bd3786"
             ],
             [
              0.5555555555555556,
              "#d8576b"
             ],
             [
              0.6666666666666666,
              "#ed7953"
             ],
             [
              0.7777777777777778,
              "#fb9f3a"
             ],
             [
              0.8888888888888888,
              "#fdca26"
             ],
             [
              1,
              "#f0f921"
             ]
            ],
            "type": "heatmap"
           }
          ],
          "heatmapgl": [
           {
            "colorbar": {
             "outlinewidth": 0,
             "ticks": ""
            },
            "colorscale": [
             [
              0,
              "#0d0887"
             ],
             [
              0.1111111111111111,
              "#46039f"
             ],
             [
              0.2222222222222222,
              "#7201a8"
             ],
             [
              0.3333333333333333,
              "#9c179e"
             ],
             [
              0.4444444444444444,
              "#bd3786"
             ],
             [
              0.5555555555555556,
              "#d8576b"
             ],
             [
              0.6666666666666666,
              "#ed7953"
             ],
             [
              0.7777777777777778,
              "#fb9f3a"
             ],
             [
              0.8888888888888888,
              "#fdca26"
             ],
             [
              1,
              "#f0f921"
             ]
            ],
            "type": "heatmapgl"
           }
          ],
          "histogram": [
           {
            "marker": {
             "colorbar": {
              "outlinewidth": 0,
              "ticks": ""
             }
            },
            "type": "histogram"
           }
          ],
          "histogram2d": [
           {
            "colorbar": {
             "outlinewidth": 0,
             "ticks": ""
            },
            "colorscale": [
             [
              0,
              "#0d0887"
             ],
             [
              0.1111111111111111,
              "#46039f"
             ],
             [
              0.2222222222222222,
              "#7201a8"
             ],
             [
              0.3333333333333333,
              "#9c179e"
             ],
             [
              0.4444444444444444,
              "#bd3786"
             ],
             [
              0.5555555555555556,
              "#d8576b"
             ],
             [
              0.6666666666666666,
              "#ed7953"
             ],
             [
              0.7777777777777778,
              "#fb9f3a"
             ],
             [
              0.8888888888888888,
              "#fdca26"
             ],
             [
              1,
              "#f0f921"
             ]
            ],
            "type": "histogram2d"
           }
          ],
          "histogram2dcontour": [
           {
            "colorbar": {
             "outlinewidth": 0,
             "ticks": ""
            },
            "colorscale": [
             [
              0,
              "#0d0887"
             ],
             [
              0.1111111111111111,
              "#46039f"
             ],
             [
              0.2222222222222222,
              "#7201a8"
             ],
             [
              0.3333333333333333,
              "#9c179e"
             ],
             [
              0.4444444444444444,
              "#bd3786"
             ],
             [
              0.5555555555555556,
              "#d8576b"
             ],
             [
              0.6666666666666666,
              "#ed7953"
             ],
             [
              0.7777777777777778,
              "#fb9f3a"
             ],
             [
              0.8888888888888888,
              "#fdca26"
             ],
             [
              1,
              "#f0f921"
             ]
            ],
            "type": "histogram2dcontour"
           }
          ],
          "mesh3d": [
           {
            "colorbar": {
             "outlinewidth": 0,
             "ticks": ""
            },
            "type": "mesh3d"
           }
          ],
          "parcoords": [
           {
            "line": {
             "colorbar": {
              "outlinewidth": 0,
              "ticks": ""
             }
            },
            "type": "parcoords"
           }
          ],
          "pie": [
           {
            "automargin": true,
            "type": "pie"
           }
          ],
          "scatter": [
           {
            "marker": {
             "colorbar": {
              "outlinewidth": 0,
              "ticks": ""
             }
            },
            "type": "scatter"
           }
          ],
          "scatter3d": [
           {
            "line": {
             "colorbar": {
              "outlinewidth": 0,
              "ticks": ""
             }
            },
            "marker": {
             "colorbar": {
              "outlinewidth": 0,
              "ticks": ""
             }
            },
            "type": "scatter3d"
           }
          ],
          "scattercarpet": [
           {
            "marker": {
             "colorbar": {
              "outlinewidth": 0,
              "ticks": ""
             }
            },
            "type": "scattercarpet"
           }
          ],
          "scattergeo": [
           {
            "marker": {
             "colorbar": {
              "outlinewidth": 0,
              "ticks": ""
             }
            },
            "type": "scattergeo"
           }
          ],
          "scattergl": [
           {
            "marker": {
             "colorbar": {
              "outlinewidth": 0,
              "ticks": ""
             }
            },
            "type": "scattergl"
           }
          ],
          "scattermapbox": [
           {
            "marker": {
             "colorbar": {
              "outlinewidth": 0,
              "ticks": ""
             }
            },
            "type": "scattermapbox"
           }
          ],
          "scatterpolar": [
           {
            "marker": {
             "colorbar": {
              "outlinewidth": 0,
              "ticks": ""
             }
            },
            "type": "scatterpolar"
           }
          ],
          "scatterpolargl": [
           {
            "marker": {
             "colorbar": {
              "outlinewidth": 0,
              "ticks": ""
             }
            },
            "type": "scatterpolargl"
           }
          ],
          "scatterternary": [
           {
            "marker": {
             "colorbar": {
              "outlinewidth": 0,
              "ticks": ""
             }
            },
            "type": "scatterternary"
           }
          ],
          "surface": [
           {
            "colorbar": {
             "outlinewidth": 0,
             "ticks": ""
            },
            "colorscale": [
             [
              0,
              "#0d0887"
             ],
             [
              0.1111111111111111,
              "#46039f"
             ],
             [
              0.2222222222222222,
              "#7201a8"
             ],
             [
              0.3333333333333333,
              "#9c179e"
             ],
             [
              0.4444444444444444,
              "#bd3786"
             ],
             [
              0.5555555555555556,
              "#d8576b"
             ],
             [
              0.6666666666666666,
              "#ed7953"
             ],
             [
              0.7777777777777778,
              "#fb9f3a"
             ],
             [
              0.8888888888888888,
              "#fdca26"
             ],
             [
              1,
              "#f0f921"
             ]
            ],
            "type": "surface"
           }
          ],
          "table": [
           {
            "cells": {
             "fill": {
              "color": "#EBF0F8"
             },
             "line": {
              "color": "white"
             }
            },
            "header": {
             "fill": {
              "color": "#C8D4E3"
             },
             "line": {
              "color": "white"
             }
            },
            "type": "table"
           }
          ]
         },
         "layout": {
          "annotationdefaults": {
           "arrowcolor": "#2a3f5f",
           "arrowhead": 0,
           "arrowwidth": 1
          },
          "coloraxis": {
           "colorbar": {
            "outlinewidth": 0,
            "ticks": ""
           }
          },
          "colorscale": {
           "diverging": [
            [
             0,
             "#8e0152"
            ],
            [
             0.1,
             "#c51b7d"
            ],
            [
             0.2,
             "#de77ae"
            ],
            [
             0.3,
             "#f1b6da"
            ],
            [
             0.4,
             "#fde0ef"
            ],
            [
             0.5,
             "#f7f7f7"
            ],
            [
             0.6,
             "#e6f5d0"
            ],
            [
             0.7,
             "#b8e186"
            ],
            [
             0.8,
             "#7fbc41"
            ],
            [
             0.9,
             "#4d9221"
            ],
            [
             1,
             "#276419"
            ]
           ],
           "sequential": [
            [
             0,
             "#0d0887"
            ],
            [
             0.1111111111111111,
             "#46039f"
            ],
            [
             0.2222222222222222,
             "#7201a8"
            ],
            [
             0.3333333333333333,
             "#9c179e"
            ],
            [
             0.4444444444444444,
             "#bd3786"
            ],
            [
             0.5555555555555556,
             "#d8576b"
            ],
            [
             0.6666666666666666,
             "#ed7953"
            ],
            [
             0.7777777777777778,
             "#fb9f3a"
            ],
            [
             0.8888888888888888,
             "#fdca26"
            ],
            [
             1,
             "#f0f921"
            ]
           ],
           "sequentialminus": [
            [
             0,
             "#0d0887"
            ],
            [
             0.1111111111111111,
             "#46039f"
            ],
            [
             0.2222222222222222,
             "#7201a8"
            ],
            [
             0.3333333333333333,
             "#9c179e"
            ],
            [
             0.4444444444444444,
             "#bd3786"
            ],
            [
             0.5555555555555556,
             "#d8576b"
            ],
            [
             0.6666666666666666,
             "#ed7953"
            ],
            [
             0.7777777777777778,
             "#fb9f3a"
            ],
            [
             0.8888888888888888,
             "#fdca26"
            ],
            [
             1,
             "#f0f921"
            ]
           ]
          },
          "colorway": [
           "#636efa",
           "#EF553B",
           "#00cc96",
           "#ab63fa",
           "#FFA15A",
           "#19d3f3",
           "#FF6692",
           "#B6E880",
           "#FF97FF",
           "#FECB52"
          ],
          "font": {
           "color": "#2a3f5f"
          },
          "geo": {
           "bgcolor": "white",
           "lakecolor": "white",
           "landcolor": "#E5ECF6",
           "showlakes": true,
           "showland": true,
           "subunitcolor": "white"
          },
          "hoverlabel": {
           "align": "left"
          },
          "hovermode": "closest",
          "mapbox": {
           "style": "light"
          },
          "paper_bgcolor": "white",
          "plot_bgcolor": "#E5ECF6",
          "polar": {
           "angularaxis": {
            "gridcolor": "white",
            "linecolor": "white",
            "ticks": ""
           },
           "bgcolor": "#E5ECF6",
           "radialaxis": {
            "gridcolor": "white",
            "linecolor": "white",
            "ticks": ""
           }
          },
          "scene": {
           "xaxis": {
            "backgroundcolor": "#E5ECF6",
            "gridcolor": "white",
            "gridwidth": 2,
            "linecolor": "white",
            "showbackground": true,
            "ticks": "",
            "zerolinecolor": "white"
           },
           "yaxis": {
            "backgroundcolor": "#E5ECF6",
            "gridcolor": "white",
            "gridwidth": 2,
            "linecolor": "white",
            "showbackground": true,
            "ticks": "",
            "zerolinecolor": "white"
           },
           "zaxis": {
            "backgroundcolor": "#E5ECF6",
            "gridcolor": "white",
            "gridwidth": 2,
            "linecolor": "white",
            "showbackground": true,
            "ticks": "",
            "zerolinecolor": "white"
           }
          },
          "shapedefaults": {
           "line": {
            "color": "#2a3f5f"
           }
          },
          "ternary": {
           "aaxis": {
            "gridcolor": "white",
            "linecolor": "white",
            "ticks": ""
           },
           "baxis": {
            "gridcolor": "white",
            "linecolor": "white",
            "ticks": ""
           },
           "bgcolor": "#E5ECF6",
           "caxis": {
            "gridcolor": "white",
            "linecolor": "white",
            "ticks": ""
           }
          },
          "title": {
           "x": 0.05
          },
          "xaxis": {
           "automargin": true,
           "gridcolor": "white",
           "linecolor": "white",
           "ticks": "",
           "title": {
            "standoff": 15
           },
           "zerolinecolor": "white",
           "zerolinewidth": 2
          },
          "yaxis": {
           "automargin": true,
           "gridcolor": "white",
           "linecolor": "white",
           "ticks": "",
           "title": {
            "standoff": 15
           },
           "zerolinecolor": "white",
           "zerolinewidth": 2
          }
         }
        },
        "xaxis": {
         "anchor": "y",
         "autorange": true,
         "categoryarray": [
          "Cluster 0",
          "Cluster 1",
          "Cluster 2",
          "Cluster 3"
         ],
         "categoryorder": "array",
         "domain": [
          0,
          1
         ],
         "range": [
          -0.5,
          3.5
         ],
         "title": {
          "text": "Cluster"
         },
         "type": "category"
        },
        "xaxis2": {
         "anchor": "y2",
         "autorange": true,
         "domain": [
          0,
          1
         ],
         "matches": "x",
         "range": [
          -0.5,
          3.5
         ],
         "showgrid": true,
         "showticklabels": false,
         "type": "category"
        },
        "yaxis": {
         "anchor": "x",
         "autorange": true,
         "domain": [
          0,
          0.7326
         ],
         "range": [
          0,
          114.73684210526316
         ],
         "title": {
          "text": "count"
         }
        },
        "yaxis2": {
         "anchor": "x2",
         "autorange": true,
         "domain": [
          0.7426,
          1
         ],
         "matches": "y2",
         "range": [
          -0.5,
          3.5
         ],
         "showgrid": false,
         "showline": false,
         "showticklabels": false,
         "ticks": "",
         "type": "category"
        }
       }
      },
      "image/png": "[encoded data removed]",
      "text/html": [
       "<div>\n",
       "        \n",
       "        \n",
       "            <div id=\"03bf0c09-50b4-4af8-9d78-a2bdb3c93fe3\" class=\"plotly-graph-div\" style=\"height:525px; width:100%;\"></div>\n",
       "            <script type=\"text/javascript\">\n",
       "                require([\"plotly\"], function(Plotly) {\n",
       "                    window.PLOTLYENV=window.PLOTLYENV || {};\n",
       "                    \n",
       "                if (document.getElementById(\"03bf0c09-50b4-4af8-9d78-a2bdb3c93fe3\")) {\n",
       "                    Plotly.newPlot(\n",
       "                        '03bf0c09-50b4-4af8-9d78-a2bdb3c93fe3',\n",
       "                        [{\"alignmentgroup\": \"True\", \"bingroup\": \"x\", \"hoverlabel\": {\"namelength\": 0}, \"hovertemplate\": \"Cluster=%{x}<br>count=%{y}\", \"legendgroup\": \"Cluster=Cluster 0\", \"marker\": {\"color\": \"#636efa\", \"opacity\": 0.7}, \"name\": \"Cluster=Cluster 0\", \"offsetgroup\": \"Cluster=Cluster 0\", \"orientation\": \"v\", \"showlegend\": true, \"type\": \"histogram\", \"x\": [\"Cluster 0\", \"Cluster 0\", \"Cluster 0\", \"Cluster 0\", \"Cluster 0\", \"Cluster 0\", \"Cluster 0\", \"Cluster 0\", \"Cluster 0\", \"Cluster 0\", \"Cluster 0\", \"Cluster 0\", \"Cluster 0\", \"Cluster 0\", \"Cluster 0\", \"Cluster 0\", \"Cluster 0\", \"Cluster 0\", \"Cluster 0\", \"Cluster 0\", \"Cluster 0\", \"Cluster 0\", \"Cluster 0\", \"Cluster 0\", \"Cluster 0\", \"Cluster 0\", \"Cluster 0\", \"Cluster 0\", \"Cluster 0\", \"Cluster 0\", \"Cluster 0\", \"Cluster 0\", \"Cluster 0\", \"Cluster 0\", \"Cluster 0\", \"Cluster 0\", \"Cluster 0\", \"Cluster 0\", \"Cluster 0\", \"Cluster 0\", \"Cluster 0\", \"Cluster 0\", \"Cluster 0\", \"Cluster 0\", \"Cluster 0\", \"Cluster 0\", \"Cluster 0\", \"Cluster 0\", \"Cluster 0\", \"Cluster 0\", \"Cluster 0\", \"Cluster 0\", \"Cluster 0\", \"Cluster 0\", \"Cluster 0\", \"Cluster 0\", \"Cluster 0\", \"Cluster 0\", \"Cluster 0\", \"Cluster 0\", \"Cluster 0\", \"Cluster 0\", \"Cluster 0\", \"Cluster 0\", \"Cluster 0\", \"Cluster 0\", \"Cluster 0\"], \"xaxis\": \"x\", \"yaxis\": \"y\"}, {\"alignmentgroup\": \"True\", \"customdata\": [[\"Honduras\", 2.86657957, 2.460607584, 2.37295217, 2.92390839, 2.902757343, 3.592970163, 3.6164590089999997, 3.906168524, 4.7330869369999995, 4.207177311000001, 3.905898653, 3.48897019, 3.63946928, 3.7255735989999996, 4.554171531000001, 4.215610713999999, 3.916841875, 4.453647583, 4.457074848, 4.41783425, \"Cluster 0\"], [\"Dominica\", 4.159861137, 4.217261905, 4.370036617, 4.155978162, 4.149951581, 3.308396479, 3.23826402, 3.290272803, 3.173775978, 2.9741580819999998, 3.0197000010000004, 3.094683051, 3.0779197789999997, 2.96951027, 3.6526046819999998, 4.047182568999999, 3.9743900930000002, 3.6693638839999996, 3.812216844, 3.767972854, \"Cluster 0\"], [\"Djibouti\", 2.384148412, 2.318293685, 2.83292067, 3.6097572010000003, 4.407148156, 3.9005062999999995, 3.4863802660000003, 3.516449396, 4.167696582, 4.600888287, 4.939467764, 4.702732187, 5.337600592, 5.745632858, 5.957206032, 5.149939099, 5.019683712, 5.25888563, 5.322417486, 6.750847587000001, \"Cluster 0\"], [\"Samoa\", 3.390716641, 3.010723905, 3.338794876, 3.926948968, 4.269501817, 4.11544971, 3.848022139, 3.940851472, 3.64949145, 3.596860784, 3.5879326000000002, 3.925566538, 4.509782876, 3.8248453000000002, 4.341031427, 4.985224399, 5.101682632, 4.337641237, 6.216667467000001, 6.536868986, \"Cluster 0\"], [\"San Marino\", 4.5639391830000005, 4.383787117, 4.3124433369999995, 4.248369167, 4.300679912, 4.385399883, 4.296809438, 4.26944922, 3.90726845, 3.832377435, 3.7497484489999997, 3.52237298, 3.54154425, 3.616263881, 4.204062797, 4.647450421, 5.322357589, 5.865948338, 5.656072233, 5.736058813, \"Cluster 0\"], [\"Sao Tome and Principe\", 2.805079353, 1.966810767, 2.938184371, 2.9092363480000003, 3.8562996519999997, 3.823975859, 3.792038305, 3.8456142939999998, 6.03861594, 5.1383615769999995, 5.29330423, 2.5410377769999997, 2.13790765, 1.592076218, 2.507352864, 2.537331158, 2.6053125880000003, 2.48230437, 3.5868170939999997, 3.612254726, \"Cluster 0\"], [\"Colombia\", 3.7205698160000003, 5.067606606, 5.593914054, 6.103439101, 6.459251592, 4.683826863999999, 4.690523841, 4.549736058, 4.899277437, 4.082866763999999, 4.316017077, 4.535042305, 4.539526519, 4.698007256, 5.148273784, 4.9756529380000005, 5.016164698, 5.277512194, 5.2189183660000005, 5.409943154, \"Cluster 0\"], [\"Chile\", 2.483034377, 2.667579501, 2.722896255, 2.999279862, 3.188783313, 3.332061767, 3.484542158, 3.529890881, 2.687549761, 2.63814344, 2.536291524, 2.517617347, 2.655656258, 2.942588718, 3.468102151, 3.294925632, 3.3326392360000003, 3.4761647210000004, 3.632821452, 3.8513094239999996, \"Cluster 0\"], [\"Cabo Verde\", 4.252399745, 3.9401934880000002, 3.862837242, 3.92627046, 3.424656164, 3.5249331219999998, 3.9135356839999997, 3.893120524, 3.746871642, 3.7893525489999997, 3.649990513, 3.962680293, 3.3863364560000004, 3.03734974, 3.239265323, 3.431766845, 3.3357602589999997, 3.33864148, 3.120439872, 3.557226753, \"Cluster 0\"], [\"Solomon Islands\", 3.013517642, 2.7842825980000003, 3.047041542, 3.2772146280000003, 3.544792113, 4.299521273, 6.162337203, 5.8209578, 5.537965968, 5.180937453, 7.370558602000001, 6.205507441, 5.9541656089999995, 5.522732105, 7.453790237000001, 7.022895121, 4.696250372, 5.0946949560000006, 4.99069527, 4.640482319, \"Cluster 0\"], [\"Bulgaria\", 3.515523463, 3.1825410080000003, 3.397999988, 3.262490099, 3.883886627, 3.6982741960000003, 4.2243892810000006, 4.536791795, 4.617962963, 4.30515357, 4.312971455, 3.800812847, 3.730705859, 3.8703163560000005, 3.75184985, 4.0342301, 3.7596558460000002, 3.9998185019999997, 4.1228617419999996, 4.60763146, \"Cluster 0\"], [\"South Africa\", 3.4277404380000003, 3.8406204760000002, 3.7549938330000003, 3.584417155, 3.418376453, 3.290839079, 3.330803407, 3.231917455, 3.3379947910000003, 3.218086131, 3.315898573, 3.360932915, 3.3985272369999997, 3.595345502, 3.94739833, 3.990053885, 4.1340834939999995, 4.276293506, 4.204760905, 4.24326873, \"Cluster 0\"], [\"Brazil\", 2.800558403, 2.700450075, 2.874414942, 2.7969900130000003, 2.9525750339999997, 2.832471845, 3.040958916, 3.1829922930000003, 3.080328175, 3.323675591, 3.43190885, 3.4926520919999997, 3.4551482289999997, 3.61158219, 3.8413556489999996, 3.786139623, 3.6540019860000004, 3.66135204, 3.827307012, 3.831759885, \"Cluster 0\"], [\"Botswana\", 2.126873521, 2.123124439, 2.429731822, 2.1792576759999998, 2.163569841, 2.8998524210000003, 4.146457238, 4.894689856, 2.969796404, 3.888095917, 4.090479196, 3.479114149, 3.3157118810000004, 3.9283219289999995, 4.494537231, 3.544461785, 3.236016942, 3.9553822110000003, 3.50694528, 3.193884455, \"Cluster 0\"], [\"Bolivia\", 2.112215194, 2.9782255189999995, 2.66726091, 3.122442061, 3.602860899, 3.245343618, 3.744167609, 4.101807461, 3.4962789219999997, 3.492276415, 3.860740789, 3.521340785, 3.408827783, 3.4068432439999996, 3.9482262710000002, 3.662996725, 3.7521416939999996, 3.772366172, 4.238349186000001, 4.565377537, \"Cluster 0\"], [\"Bhutan\", 2.655671226, 4.92248937, 5.589715842, 5.420760961, 5.060485995, 5.325051654, 4.849893798, 6.60698513, 3.749019455, 3.193554605, 4.166375755, 4.29057998, 5.118893938, 5.5624086660000005, 4.8912954719999995, 4.544794957, 4.142893462, 2.7008609310000002, 2.804824773, 2.6150396540000003, \"Cluster 0\"], [\"Belarus\", 4.793950729, 4.696646664, 5.427282394, 4.588919064, 4.7158020689999995, 4.626454599, 4.739935352, 4.560548727, 4.8657554869999995, 4.922950998, 5.022738287, 4.4504001230000005, 4.451424325, 3.871576451, 3.895442402, 4.3148055439999995, 3.472557647, 3.8657578999999997, 4.022291167, 3.7417552510000003, \"Cluster 0\"], [\"Barbados\", 3.541707878, 3.461739847, 3.3299528030000003, 3.1894177860000004, 3.277842886, 3.392050008, 3.6966440169999997, 3.962990388, 3.8432781069999997, 3.7180714760000004, 3.4632789969999997, 3.415845805, 3.7583009119999997, 4.056312343, 4.144961775, 4.009928747, 4.155989917, 4.841513416000001, 4.899894263, 4.744632219, \"Cluster 0\"], [\"St. Lucia\", 3.044466017, 3.540413289, 3.011746972, 3.0899609160000003, 3.0860480160000003, 2.8750947069999997, 3.2434443760000002, 3.2677446619999997, 2.943800165, 2.9480524710000005, 2.8950996630000003, 3.1148809789999996, 2.979865278, 3.573426446, 4.401846474, 4.034045185, 3.262981082, 4.207408698, 3.535976399, 3.599295246, \"Cluster 0\"], [\"St. Vincent and the Grenadines\", 3.78040306, 3.7626628060000002, 3.905015857, 3.379166091, 3.4596669789999996, 3.067373134, 2.950634745, 3.231535161, 3.2055298039999998, 3.022706918, 2.9590426830000003, 3.1835519619999997, 3.2201201989999997, 3.946405784, 4.33049775, 3.8582360810000003, 4.092983481, 4.403446842, 4.3086, 4.385223105, \"Cluster 0\"], [\"Russian Federation\", 3.962243165, 3.9654738039999997, 5.026415056, 4.308860664, 3.585441199, 3.2468243560000003, 3.328637239, 3.530756868, 3.298708379, 3.090936853, 3.2304787619999997, 3.35436078, 3.452891195, 3.520137222, 4.159022037, 3.696945486, 3.58245544, 3.795838898, 3.7073014489999996, 3.6909228080000003, \"Cluster 0\"], [\"Suriname\", 4.471885239, 3.145059885, 5.651223383, 7.115667758, 5.196504662, 5.6175626670000005, 4.184378634, 3.551353558, 3.3571448680000002, 3.3271645260000002, 3.469387753, 3.177793139, 2.9772981, 2.709678901, 3.196518003, 2.930358668, 2.921405525, 3.215861695, 3.202562051, 2.94062408, \"Cluster 0\"], [\"Romania\", 2.397777108, 2.353719196, 3.3087963410000003, 2.8352913060000002, 3.344160172, 3.5136997310000004, 3.534191634, 3.75783267, 4.4933842660000005, 4.0521396, 4.398723805, 4.030785785, 4.278891084, 4.374197997, 4.391968392, 4.68660531, 4.37807867, 4.397386285, 4.520294731, 4.47447755, \"Cluster 0\"], [\"Estonia\", 5.671494836, 5.809624371, 5.51790868, 4.797024971, 4.536437438, 4.075514834, 3.817487064, 3.735725858, 3.775009168, 3.8771176830000003, 3.850041558, 3.6735492119999997, 3.899242751, 4.712423412, 5.216716763, 4.9273468000000005, 4.625885477, 5.115761648, 5.138603368, 5.028395902, \"Cluster 0\"], [\"Moldova\", 5.815895061, 6.709797385, 6.075025236, 4.323722867, 2.901963967, 3.229712857, 3.2075372680000003, 4.040610039, 3.9671964969999998, 4.182380118999999, 4.176139383, 4.718684365, 4.9197080269999995, 5.389847747999999, 6.0594371979999995, 5.621478753, 5.311539911000001, 5.517522784, 5.031340165, 5.303988304, \"Cluster 0\"], [\"Malawi\", 1.865213739, 1.26338764, 1.600434006, 1.88109678, 2.274782235, 2.7785565489999997, 2.215081497, 2.912550035, 4.578496658, 5.71696331, 6.066366509, 6.194908259, 4.41611059, 6.096624721, 6.185752937, 6.339254893, 6.933702546, 6.765934565, 5.793450792000001, 5.998620835, \"Cluster 0\"], [\"Monaco\", 2.7828046389999996, 2.722031577, 2.8387481, 2.760402313, 2.989907557, 2.8661872330000002, 2.911772468, 2.956788105, 3.466538501, 3.5451300519999998, 3.528936649, 3.360320254, 2.952654785, 3.1897775960000003, 3.8011578999999998, 3.896460373, 3.705257089, 3.764195008, 3.554960152, 3.841098459, \"Cluster 0\"], [\"Macedonia, FYR\", 4.996397418, 5.135953651, 5.5549962939999995, 6.489321372000001, 5.341639155, 4.787766545, 4.631112465, 5.191571141, 5.226034904, 5.039289244, 4.781614783999999, 4.87674973, 4.445867739, 4.7474917, 4.456857728999999, 4.292903636, 4.272932737, 4.42539678, 4.204269092, 4.1014206380000005, \"Cluster 0\"], [\"Lithuania\", 3.985217925, 3.931004202, 4.1614319669999995, 4.616115978, 4.64619213, 4.501929246, 4.5479188619999995, 4.792172072, 4.929875383, 3.83247282, 3.953664458, 4.3067158469999995, 4.542177272, 4.784195764, 5.485546619, 5.020955675, 4.739136876, 4.349539439, 4.312630815, 4.446889612, \"Cluster 0\"], [\"Lebanon\", 4.242476487, 4.991736717, 5.0616362619999995, 3.144910175, 2.943009427, 3.20634861, 3.733963909, 3.735593505, 3.496375815, 3.711970773, 3.7443329469999997, 3.631882475, 3.7155355410000004, 3.144813413, 3.123417148, 2.708551485, 2.7443969960000003, 3.235855284, 3.054229695, 3.043924599, \"Cluster 0\"], [\"Latvia\", 3.820164845, 3.525870433, 3.4596156560000004, 3.6262617789999996, 3.728657225, 3.2654466760000003, 3.1577079460000004, 3.2790679739999997, 3.2495228560000005, 3.684698103, 3.637151355, 4.357857145, 4.255979, 4.124515045, 4.070041625, 3.9402581469999998, 3.873401416, 3.576955393, 3.539843039, 3.7152319819999997, \"Cluster 0\"], [\"Montenegro\", 5.196505917, 5.196505919, 5.196505921, 5.1965059160000004, 5.196505922, 5.19650592, 5.9571847689999995, 5.880242121, 6.663011347, 6.232366722999999, 6.022940018, 5.613499871, 4.5478217039999995, 3.9917967869999997, 3.61393065, 4.173469442, 4.186590285, 4.4723783919999995, 3.719088236, 3.66738093, \"Cluster 0\"], [\"Mozambique\", 3.3965561789999996, 2.598261241, 2.955873935, 2.9684768339999996, 3.5660974999999997, 4.311883073, 3.9675961089999996, 4.488862031, 4.108240978, 3.521927947, 4.306135066, 3.950981842, 3.1000050960000003, 2.606804503, 2.515159938, 3.0181028260000002, 2.6645777330000002, 2.776382768, 3.1190876260000002, 3.936734776, \"Cluster 0\"], [\"Namibia\", 4.413658721, 4.750908805, 4.924511725, 4.952596648, 5.111744353, 4.214029426000001, 3.474246902, 3.576968668, 3.722335405, 3.207038753, 3.579619723, 3.129120087, 3.800771171, 3.89854309, 4.417229575, 4.594429367, 5.315764413999999, 4.854097749, 5.029136422, 5.357137699, \"Cluster 0\"], [\"Jordan\", 5.328898363, 5.441182157, 5.116392745, 5.300589761, 4.991069703, 4.635309347, 4.786093096, 4.810691426, 4.451036994, 4.692325909, 4.761008321, 4.48990028, 4.994181963, 5.431250455, 6.6959843029999995, 5.921295616, 5.905862126000001, 5.5093025760000005, 4.873555443, 5.1931019460000005, \"Cluster 0\"], [\"Israel\", 4.950145432, 5.108144225, 5.144840787, 4.762189233, 4.6017821119999995, 4.460361462, 4.719172153, 4.737818754, 4.587586374, 4.473436246, 4.408425818, 4.702560226, 4.56088595, 4.471592985, 4.560773264, 4.6122764819999995, 4.618524658, 4.865016995, 4.857808386, 4.751695808, \"Cluster 0\"], [\"Nicaragua\", 4.1750942769999995, 3.7946175460000005, 2.577101237, 2.772020641, 2.433647188, 2.881102037, 2.8359501239999996, 2.995229948, 3.46223108, 3.389498166, 3.45056744, 3.473051685, 3.792404173, 3.830040753, 4.286697443, 4.288147231, 4.081974306, 4.260162572, 4.420152655, 5.095797672, \"Cluster 0\"], [\"Hungary\", 6.06578493, 5.707631445, 5.48077096, 5.293047243, 5.215692477, 4.992262794, 4.907747893, 5.241660919, 5.986829456000001, 5.625904986, 5.798315898999999, 5.651159262, 5.050828075, 4.9125672730000005, 4.958614911000001, 5.117494816000001, 5.029887063, 4.910106031000001, 4.905828404, 4.8830819089999995, \"Cluster 0\"], [\"Guyana\", 4.1236919819999995, 4.042182563, 4.267222814, 4.314013546, 3.815805252, 4.954943485, 4.898010308, 4.94658054, 4.749728887, 4.548307265, 4.359658645, 3.044944275, 4.685796052, 5.5972460139999995, 5.30091141, 4.460583707, 4.57147769, 4.339437853, 2.896153441, 3.119698091, \"Cluster 0\"], [\"Grenada\", 3.0064343160000004, 3.0167429230000002, 3.157869167, 3.151488805, 3.7073192410000004, 3.4469993260000003, 4.513238797, 3.5245498769999997, 3.055066908, 2.7005638910000003, 2.918936395, 3.208181759, 2.897890968, 2.691541613, 3.073334628, 3.100526247, 3.040190628, 3.045941945, 2.7824442680000003, 2.827357413, \"Cluster 0\"], [\"Panama\", 5.246581756, 4.628785357, 4.875049583, 4.727189573, 4.543351694, 5.284626305, 5.179758628, 5.544147842, 5.046701513, 5.688574188, 5.205403273, 4.7207796019999995, 4.048878178, 4.666452338, 5.63276516, 5.6500218460000005, 5.08973241, 4.9715198019999995, 5.804010025, 5.878366088, \"Cluster 0\"], [\"Papua New Guinea\", 2.449537747, 2.585706214, 2.9792040010000003, 3.16658124, 3.373244226, 3.2561626969999997, 5.895055792999999, 6.716728432999999, 6.024920708, 7.601456272999999, 5.47058434, 5.05912292, 3.123843205, 3.0754131780000002, 3.2208812860000005, 3.1834109230000003, 4.041347222, 3.653279542, 3.906003811, 3.46554272, \"Cluster 0\"], [\"Poland\", 3.905037381, 4.224738069, 3.983748404, 3.828606974, 4.0329012760000005, 3.852713136, 4.210391357, 4.497808461, 4.349887106000001, 4.242001236, 4.298902044, 4.313210083, 4.4203601710000004, 4.935315917, 5.097181114, 4.902807428, 4.710355764, 4.577515541, 4.534424797, 4.507639603, \"Cluster 0\"], [\"El Salvador\", 2.456765433, 3.106327227, 3.204772995, 3.68357541, 3.6517329339999995, 3.796302763, 3.753448667, 3.8056802210000003, 3.750173665, 3.6353041960000003, 3.8125530939999996, 4.153138804, 3.7447696460000004, 3.706714781, 4.133696927, 4.29012069, 4.327903341, 4.2104711539999995, 4.632291908, 4.4695083239999995, \"Cluster 0\"], [\"Argentina\", 4.966443086, 4.631641218, 4.553044297, 4.624211713999999, 5.152315686000001, 4.9658035819999995, 5.065933992, 4.4529400489999995, 4.251023183, 3.522396758, 3.6642338480000003, 3.654868936, 3.7830748410000004, 4.121097352, 5.040785799, 4.163482345, 3.745392503, 2.9589508739999997, 2.735022008, 2.652673798, \"Cluster 0\"], [\"Seychelles\", 4.22296599, 4.451643869, 4.820469327, 4.185799521, 4.236396955, 3.785614663, 3.758676506, 3.636458774, 4.145567132, 3.812610542, 3.620129416, 3.4579109889999997, 3.060728801, 2.405118358, 2.413078163, 3.2088597510000003, 3.1987716789999996, 3.797892539, 3.335699444, 3.107242732, \"Cluster 0\"], [\"Swaziland\", 2.832071581, 3.0579196060000005, 2.812078497, 2.879100714, 3.003066511, 2.9584121, 2.933657283, 3.0504573010000002, 3.719224901, 3.7224765680000003, 4.591988907, 4.559222042, 4.817315257, 5.70029508, 5.768594858999999, 5.9652663839999995, 5.971125925, 6.295393133999999, 7.374204077999999, 7.004909495, \"Cluster 0\"], [\"Small states\", 3.0834417839999997, 3.155744645, 3.18509596, 3.337760802, 3.2314720930000003, 3.053471183, 3.067515292, 3.2739580310000003, 3.46788155, 3.3720450910000004, 3.17828889, 2.9852425910000004, 2.963611867, 2.787731202, 3.320674555, 3.01892481, 2.816008951, 3.0011255610000003, 3.061103031, 2.9930888060000003, \"Cluster 0\"], [\"Tonga\", 2.670824514, 2.7968637689999998, 3.040161598, 3.2127216389999997, 3.763892167, 3.350358074, 4.284100434, 3.8079197839999996, 4.233041111, 4.050934622, 5.680380494, 4.879183916000001, 4.762818289, 4.186537045, 3.705109958, 3.6948683410000003, 3.223524387, 3.640530345, 4.0556243080000005, 4.265698947, \"Cluster 0\"], [\"Vanuatu\", 2.139305264, 1.749746805, 2.296830253, 3.038570387, 2.639952543, 2.73692934, 2.7885501360000005, 2.9076602460000003, 3.4189271389999996, 3.524656985, 3.292996247, 3.427445317, 3.161681536, 3.1798915739999996, 3.4023226980000003, 4.182597639, 3.3201783469999997, 3.167396258, 3.391475272, 4.510749546, \"Cluster 0\"], [\"Pacific island small states\", 4.0892714539999995, 3.644414077, 3.8171409, 3.801815827, 3.794036075, 4.478110937, 4.4304985530000005, 4.3275116780000005, 4.223171686000001, 4.262646193, 4.517164031, 4.531308472, 4.42810272, 4.253259024, 4.7700180130000005, 4.858082923, 4.239523762, 4.210439148, 4.497317273, 4.57632822, \"Cluster 0\"], [\"Other small states\", 3.116200718, 3.224322602, 3.2162667689999997, 3.450544585, 3.380267205, 3.0803314939999997, 3.1597630889999997, 3.3745049989999996, 3.6685363239999997, 3.488791995, 3.28108097, 3.027816988, 2.968221955, 2.75019805, 3.2710470039999997, 2.934337826, 2.74322401, 2.926310097, 2.99114702, 2.916463762, \"Cluster 0\"], [\"Tunisia\", 2.8943399860000003, 2.9873341, 2.6998275119999997, 2.9193048719999997, 2.898708402, 2.961609952, 2.834447949, 2.80141766, 2.833405347, 2.913685908, 2.866036298, 2.9550662180000002, 2.95239633, 3.041912298, 3.5073788560000003, 3.829212473, 4.167224012, 4.157872526, 4.229623294, 3.968816495, \"Cluster 0\"], [\"East Asia & Pacific\", 4.429089623, 4.203151524, 4.244351189, 4.4539837680000005, 4.626919635, 4.688849242, 4.684790174, 4.6135370689999995, 4.635098319, 4.626696416000001, 4.566215205, 4.367145726, 4.29739389, 4.43484819, 4.865241195, 4.7758171439999995, 4.871726678, 4.866869481, 4.643220952, 4.571447568, \"Cluster 0\"], [\"Turkey\", 1.76287716, 2.007166944, 2.244024053, 2.5846704, 2.913115705, 3.1142396469999998, 3.512553806, 3.786278215, 3.839653198, 3.826071088, 3.696382908, 3.971039668, 4.095218575, 4.435295202, 4.922531997, 4.412270438999999, 4.205859804, 4.1491432999999995, 4.225639909, 4.193778968999999, \"Cluster 0\"], [\"Ukraine\", 5.088198574, 4.78908302, 4.193678375, 3.540202425, 2.942150479, 2.895454814, 3.0721386930000003, 3.514016208, 4.042590061, 3.869747013, 3.811739442, 3.884569232, 3.9304539430000003, 3.825090501, 4.292353932, 4.421334806, 3.729821242, 4.12524044, 4.150794905, 3.6045211210000003, \"Cluster 0\"], [\"Antigua and Barbuda\", 2.746344563, 2.505800464, 2.597402599, 2.6720647769999997, 2.744200045, 2.78780548, 2.949759953, 2.950231444, 2.950013005, 2.67979353, 2.950098595, 2.9501058739999997, 2.9499999960000003, 3.3430313860000003, 3.3438995960000004, 3.893547142, 3.8910395589999998, 3.652332634, 3.592597393, 3.7846106760000002, \"Cluster 0\"], [\"Europe & Central Asia (IDA & IBRD countries)\", 3.537976062, 3.612690525, 4.047882124, 3.552856873, 3.4807646410000004, 3.385148495, 3.605372687, 3.816964108, 3.794325476, 3.642164316, 3.6815884189999997, 3.721762687, 3.7981816160000004, 3.951117848, 4.401010223, 4.068056417, 3.818966004, 3.9016659039999997, 3.8579794, 3.846191068, \"Cluster 0\"], [\"Latin America & the Caribbean (IDA & IBRD countries)\", 2.956811011, 2.8777881119999997, 2.968040205, 3.004957842, 3.20538333, 3.0270711969999997, 3.1075857360000003, 2.9494428210000003, 2.962835975, 3.036156959, 3.0753731689999997, 3.0956160919999998, 3.153372508, 3.2389997839999998, 3.700609301, 3.5632974539999998, 3.5165400680000003, 3.452393518, 3.551660225, 3.7318080030000003, \"Cluster 0\"], [\"Latin America & Caribbean (excluding high income)\", 2.996164912, 2.9066398089999996, 3.008480229, 3.040838015, 3.2475128189999998, 3.059905096, 3.146714937, 2.9871068739999997, 3.037261298, 3.0705763210000003, 3.166319862, 3.1677693789999997, 3.2753891889999998, 3.337349586, 3.804703623, 3.638582097, 3.591022045, 3.496118138, 3.606970928, 3.7073110839999996, \"Cluster 0\"], [\"Latin America & Caribbean\", 2.984770895, 2.9017704010000003, 2.990421248, 3.029994934, 3.235733893, 3.0606926660000005, 3.144669013, 2.998687771, 3.012572927, 3.0775050760000005, 3.161939378, 3.1608411760000004, 3.255992195, 3.335194417, 3.8119949810000002, 3.6386887339999996, 3.592871857, 3.509236607, 3.6191427860000003, 3.73231283, \"Cluster 0\"], [\"Europe & Central Asia (excluding high income)\", 3.401579475, 3.4078958989999997, 4.035214654, 3.4127523760000003, 3.222938325, 3.1671554810000004, 3.357613026, 3.60566463, 3.621672658, 3.4729823339999997, 3.506735617, 3.566116863, 3.6357801139999997, 3.735160497, 4.21818788, 3.878112626, 3.6528350869999997, 3.7801599689999996, 3.736001803, 3.714756912, \"Cluster 0\"], [\"Thailand\", 1.9694428380000002, 2.150730975, 2.536894078, 2.455703581, 2.314820676, 2.302887157, 2.292282152, 3.330872158, 3.467646858, 3.33413422, 3.3812775669999997, 3.904107096, 4.608862415, 4.7146609, 4.734495331000001, 4.441559229, 4.995567322, 5.237115011, 5.265840143999999, 5.615380522000001, \"Cluster 0\"], [\"Uruguay\", 3.880155497, 3.424728604, 2.61225038, 2.586152727, 2.918063853, 2.711547548, 2.314327052, 2.044716466, 1.7534277219999999, 7.293884084, 7.069810766, 7.2450250910000005, 4.593274899, 5.297812748999999, 5.352676888, 5.372432, 5.520950685, 5.947088677999999, 6.074635227999999, 6.111484304, \"Cluster 0\"], [\"Central Europe and the Baltics\", 4.678528481, 4.753208836000001, 4.604573867, 4.499987761, 4.679082306000001, 4.539710822, 4.6662723889999995, 4.900195789, 5.100249244, 4.913629428, 4.9708614110000005, 4.841450127, 4.80905668, 5.054785185, 5.3949206279999995, 5.284380429, 5.096212404, 5.041317268, 5.029265785, 5.017716676, \"Cluster 0\"], [\"Algeria\", 2.6735943559999997, 2.50218252, 2.553365736, 2.527980384, 2.383331292, 2.55856124, 2.97171746, 2.85227361, 2.802237023, 2.566248072, 2.280233074, 2.334850671, 2.7055707910000004, 3.0628038930000003, 3.83796598, 3.593208526, 3.7757293080000003, 4.52025089, 5.188359049, 5.24414553, \"Cluster 0\"], [\"Andorra\", 3.9826832960000003, 4.235647223, 4.297070495, 5.737580229, 3.9334656389999996, 3.976548227, 3.979763508, 4.109589041, 3.946179815, 3.91626014, 3.4597088489999996, 3.5661223730000002, 4.586322912, 4.825070819, 5.037537144, 6.242026697000001, 4.926289306, 5.747039877000001, 9.692356794, 6.341446004, \"Cluster 0\"]], \"hoverlabel\": {\"namelength\": 0}, \"hovertemplate\": \"Cluster=%{customdata[21]}<br>Country Name=%{customdata[0]}<br>1995=%{customdata[1]}<br>1996=%{customdata[2]}<br>1997=%{customdata[3]}<br>1998=%{customdata[4]}<br>1999=%{customdata[5]}<br>2000=%{customdata[6]}<br>2001=%{customdata[7]}<br>2002=%{customdata[8]}<br>2003=%{customdata[9]}<br>2004=%{customdata[10]}<br>2005=%{customdata[11]}<br>2006=%{customdata[12]}<br>2007=%{customdata[13]}<br>2008=%{customdata[14]}<br>2009=%{customdata[15]}<br>2010=%{customdata[16]}<br>2011=%{customdata[17]}<br>2012=%{customdata[18]}<br>2013=%{customdata[19]}<br>2014=%{customdata[20]}\", \"legendgroup\": \"Cluster=Cluster 0\", \"marker\": {\"color\": \"#636efa\"}, \"name\": \"Cluster=Cluster 0\", \"notched\": true, \"offsetgroup\": \"Cluster=Cluster 0\", \"showlegend\": false, \"type\": \"box\", \"x\": [\"Cluster 0\", \"Cluster 0\", \"Cluster 0\", \"Cluster 0\", \"Cluster 0\", \"Cluster 0\", \"Cluster 0\", \"Cluster 0\", \"Cluster 0\", \"Cluster 0\", \"Cluster 0\", \"Cluster 0\", \"Cluster 0\", \"Cluster 0\", \"Cluster 0\", \"Cluster 0\", \"Cluster 0\", \"Cluster 0\", \"Cluster 0\", \"Cluster 0\", \"Cluster 0\", \"Cluster 0\", \"Cluster 0\", \"Cluster 0\", \"Cluster 0\", \"Cluster 0\", \"Cluster 0\", \"Cluster 0\", \"Cluster 0\", \"Cluster 0\", \"Cluster 0\", \"Cluster 0\", \"Cluster 0\", \"Cluster 0\", \"Cluster 0\", \"Cluster 0\", \"Cluster 0\", \"Cluster 0\", \"Cluster 0\", \"Cluster 0\", \"Cluster 0\", \"Cluster 0\", \"Cluster 0\", \"Cluster 0\", \"Cluster 0\", \"Cluster 0\", \"Cluster 0\", \"Cluster 0\", \"Cluster 0\", \"Cluster 0\", \"Cluster 0\", \"Cluster 0\", \"Cluster 0\", \"Cluster 0\", \"Cluster 0\", \"Cluster 0\", \"Cluster 0\", \"Cluster 0\", \"Cluster 0\", \"Cluster 0\", \"Cluster 0\", \"Cluster 0\", \"Cluster 0\", \"Cluster 0\", \"Cluster 0\", \"Cluster 0\", \"Cluster 0\"], \"xaxis\": \"x2\", \"yaxis\": \"y2\"}, {\"alignmentgroup\": \"True\", \"bingroup\": \"x\", \"hoverlabel\": {\"namelength\": 0}, \"hovertemplate\": \"Cluster=%{x}<br>count=%{y}\", \"legendgroup\": \"Cluster=Cluster 1\", \"marker\": {\"color\": \"#EF553B\", \"opacity\": 0.7}, \"name\": \"Cluster=Cluster 1\", \"offsetgroup\": \"Cluster=Cluster 1\", \"orientation\": \"v\", \"showlegend\": true, \"type\": \"histogram\", \"x\": [\"Cluster 1\", \"Cluster 1\", \"Cluster 1\", \"Cluster 1\", \"Cluster 1\", \"Cluster 1\", \"Cluster 1\", \"Cluster 1\", \"Cluster 1\", \"Cluster 1\", \"Cluster 1\", \"Cluster 1\", \"Cluster 1\", \"Cluster 1\", \"Cluster 1\", \"Cluster 1\", \"Cluster 1\", \"Cluster 1\", \"Cluster 1\", \"Cluster 1\", \"Cluster 1\", \"Cluster 1\", \"Cluster 1\", \"Cluster 1\", \"Cluster 1\", \"Cluster 1\", \"Cluster 1\", \"Cluster 1\", \"Cluster 1\", \"Cluster 1\", \"Cluster 1\", \"Cluster 1\", \"Cluster 1\", \"Cluster 1\", \"Cluster 1\", \"Cluster 1\", \"Cluster 1\", \"Cluster 1\", \"Cluster 1\", \"Cluster 1\", \"Cluster 1\", \"Cluster 1\", \"Cluster 1\", \"Cluster 1\", \"Cluster 1\"], \"xaxis\": \"x\", \"yaxis\": \"y\"}, {\"alignmentgroup\": \"True\", \"customdata\": [[\"Micronesia, Fed. Sts.\", 8.69618637, 8.135027023, 7.277088411, 6.4621381829999995, 7.064856562999999, 7.353309875, 8.006993747000001, 7.414073857999999, 9.029862856, 9.899822595, 11.3112, 11.03399209, 11.13554688, 11.6954023, 12.1732852, 12.61078232, 12.53821521, 11.58813926, 12.08993842, 12.43375207, \"Cluster 1\"], [\"Kiribati\", 8.96847138, 8.797772304, 8.982999914, 6.656954317, 8.444216993, 7.5829204820000005, 8.491803281000001, 8.563909775, 9.467625904, 9.892086335, 9.460431655, 9.359712228, 11.40077075, 10.31166521, 10.36476503, 8.725609752999999, 8.568862275, 8.313609463999999, 8.232914284, 8.291027024, \"Cluster 1\"], [\"Finland\", 5.627186976, 5.753535627000001, 5.563132051, 5.326593103, 5.268778053999999, 5.144464163, 5.343613088, 5.657160032, 5.932232517999999, 6.017266103, 6.2218654739999995, 6.27918843, 6.031731023, 6.253821942999999, 6.896822789, 6.73883183, 6.753551156, 7.040839875, 7.204016684, 7.289814272999999, \"Cluster 1\"], [\"France\", 8.058218715, 8.042808693, 7.944487318999999, 7.844248058, 7.831247747999999, 7.759499572999999, 7.848666574, 8.141653894, 8.127820878, 8.20640927, 8.266337172, 8.173183403, 8.118287794, 8.16933746, 8.74652319, 8.679104958, 8.731135953999999, 8.826051795, 8.910694046, 9.024514376, \"Cluster 1\"], [\"United Kingdom\", 5.613873295, 5.574901951, 5.216401283, 5.273439395, 5.503507084, 5.523467366, 5.765949885, 6.040016206000001, 6.209568, 6.482429976000001, 6.658344919, 6.826598411, 6.794481096, 7.220152923, 8.162898056, 7.94167603, 7.765411293, 7.80263316, 7.780480937999999, 7.578850169, \"Cluster 1\"], [\"Germany\", 7.678673477, 8.117369547000001, 8.08569888, 8.040406659, 8.012330015, 7.9987526429999996, 8.03376379, 8.181587749, 8.289385968, 7.9198192579999995, 8.006701839, 7.85851875, 7.7325195110000005, 7.9017386620000005, 8.709862289, 8.575730796, 8.307622306, 8.361114536, 8.569493975, 8.697237324, \"Cluster 1\"], [\"Malta\", 3.819517745, 4.105345357, 4.384384401, 4.443696789, 4.393656255, 4.742394807, 4.8342677489999994, 5.429400948, 5.542024248, 5.653685894, 5.997448889, 6.0463126979999995, 5.482240553, 5.156232157, 5.2500287619999995, 5.219545076, 6.462012081, 6.6252345660000005, 6.554282826000001, 6.74343039, \"Cluster 1\"], [\"Greece\", 4.301359499, 4.325647391, 4.232330999999999, 4.1185477530000005, 4.34042636, 4.5622111, 5.146070341000001, 5.055646368000001, 5.14686853, 4.90873744, 5.627319096, 5.790832345, 5.677828365, 5.84985855, 6.781079862, 6.2163537479999995, 6.682802397000001, 6.274430226000001, 6.066287526, 4.985039193, \"Cluster 1\"], [\"Portugal\", 4.645839437, 5.024970483, 5.049986861, 5.117457254, 5.3179309130000005, 6.193279482, 6.233144247999999, 6.4624051929999995, 6.564295702000001, 6.8934000829999995, 6.989928936, 6.5834602, 6.506712635, 6.674037277, 7.160521451, 7.171492441, 6.70065608, 6.238911387000001, 6.2321554379999995, 6.158189113, \"Cluster 1\"], [\"Austria\", 7.137100143, 7.096256981, 7.356728587999999, 7.478719544, 7.648251788, 7.536366526, 7.503314227000001, 7.606508347999999, 7.736479762, 7.791336459, 7.83141883, 7.737932786, 7.775802592000001, 7.995856889, 8.466129609, 8.400006947, 8.213674722999999, 8.417189562, 8.370613437000001, 8.72502572, \"Cluster 1\"], [\"European Union\", 6.506458015, 6.584349032, 6.447821826, 6.395838336000001, 6.453924272, 6.4399001160000005, 6.570972316000001, 6.747120362, 6.899522022999999, 6.9109638470000005, 7.051118847000001, 7.087790266, 7.002368177999999, 7.256592777000001, 7.936430028999999, 7.820468929, 7.744258462, 7.79306822, 7.8369536570000005, 7.818446175, \"Cluster 1\"], [\"Japan\", 5.451500805, 5.342586047, 5.469916116, 5.652911799, 5.909097683, 6.087614007000001, 6.297406178999999, 6.361552576, 6.420410051, 6.47273952, 6.657459568999999, 6.596439242000001, 6.715044868, 6.995021791, 7.753493212, 7.861969364, 8.318249839, 8.409920777, 8.528219096, 8.550081685, \"Cluster 1\"], [\"Australia\", 4.775232585, 4.856308024, 5.016476282, 5.084647809, 5.326927409, 5.399511666, 5.42099866, 5.620660145, 5.50612734, 5.724898888999999, 5.661448484, 5.660886591000001, 5.765876395, 5.927631008, 6.186556011, 6.127334253, 6.315378278, 6.285633269, 6.274917138999999, 6.316592657999999, \"Cluster 1\"], [\"Norway\", 6.499858794, 6.45280883, 6.697116683, 7.454887071, 7.547604056, 6.82382819, 7.22396035, 8.027209665, 8.247464055, 7.888860771, 7.430282026, 7.062887755, 7.219227008, 7.091172877000001, 8.021737678, 7.839228687, 7.717230788999999, 7.773855997999999, 8.005414287, 8.309618200000001, \"Cluster 1\"], [\"Netherlands\", 5.286854099999999, 4.9482342180000005, 5.071556448, 4.849467046, 4.722084285, 4.682621338, 4.89473375, 5.2119207030000005, 5.627419176, 5.591158703, 6.668937025, 7.974464533, 7.980489499, 8.209741428, 8.901516849, 9.081296075, 9.085857928, 9.528421586, 9.617134752, 9.481132729, \"Cluster 1\"], [\"United States\", 5.9094787879999995, 5.891274291, 5.830750135, 5.676669198, 5.613684996, 5.653471017999999, 6.074098006, 6.423940796, 6.618867537000001, 6.69810039, 6.722608977999999, 6.882532539, 7.01636006, 7.367883673, 8.014549675, 8.079784435, 8.07412666, 8.042357809, 8.045006773999999, 8.278517711000001, \"Cluster 1\"], [\"Iceland\", 6.88713759, 6.797412968, 6.493117315, 7.037368982, 7.77504317, 7.5449804160000005, 7.405369028, 8.074375998999999, 8.231289339, 7.794296374, 7.499485021, 7.349510337999999, 7.225443543, 7.2743097820000004, 7.479480519, 7.116064072, 6.972243353, 6.994047937, 7.067580829, 7.179705939, \"Cluster 1\"], [\"Italy\", 5.020894767, 5.084493833, 5.286288745, 5.300234371, 5.384669776, 5.704658031, 5.973164167999999, 6.07690275, 6.07045375, 6.414766985, 6.644147576, 6.7435972920000005, 6.487839661000001, 6.836653592999999, 7.248665862999999, 7.256673496, 6.969185175, 6.993120899, 6.967351379, 6.992651033, \"Cluster 1\"], [\"High income\", 5.8528186589999995, 5.861951134, 5.81180873, 5.837542174, 5.859037054, 5.853669228999999, 6.131478777000001, 6.354331656, 6.509857349, 6.545027623999999, 6.604202186, 6.657364768, 6.685402534, 6.945781465, 7.638854311, 7.562423022000001, 7.546564171, 7.556054525, 7.573148687000001, 7.6586505670000005, \"Cluster 1\"], [\"New Zealand\", 5.362051931, 5.283706171, 5.486240926, 5.787903257000001, 5.731562231, 5.827839126000001, 5.791984927000001, 6.146520495, 6.041511196, 6.281577112999999, 6.572475187, 6.922995765, 6.883399708, 8.906984606, 9.323010285, 9.305461872999999, 9.342877083, 9.547666612999999, 9.226556936, 9.082656345, \"Cluster 1\"], [\"Palau\", 8.650190111, 8.769106997, 8.390541575, 7.07424594, 7.624323455, 6.370625003, 6.1851190460000005, 5.948520708999999, 6.0942528739999995, 6.490673575, 5.895631066, 6.342105263, 6.559764147999999, 6.540845072000001, 6.614646467999999, 7.641116751, 6.548387094, 6.739224139, 6.599186992000001, 6.531970262000001, \"Cluster 1\"], [\"World\", 5.286303621, 5.246769791, 5.19680285, 5.227929882, 5.2749122989999995, 5.2211192539999995, 5.444044382, 5.633904668, 5.765420482000001, 5.755465472000001, 5.733553112999999, 5.701873011, 5.65229917, 5.78265714, 6.32094847, 6.075446192999999, 5.982564844, 5.940788187000001, 5.921679595, 5.994028234, \"Cluster 1\"], [\"Sweden\", 6.901266869, 7.1283580970000004, 6.888226931, 6.962480445, 7.027549767000001, 6.943698089, 7.188240259, 7.513944417, 7.634858717999999, 7.3951965379999995, 7.354150307, 7.259516112999999, 7.254788683999999, 7.521564636, 8.100547687, 7.7183103289999995, 9.914691787999999, 9.955521086000001, 10.05201524, 10.02469431, \"Cluster 1\"], [\"Cuba\", 4.648496225, 4.756708361, 4.986951137, 5.226020532, 5.474999382999999, 5.509533717, 5.670491082000001, 5.724849955, 5.648789044, 5.468185582, 8.744448247000001, 7.081250077999999, 9.883198101, 10.29335824, 11.28391889, 9.70382827, 10.07101019, 8.088255377000001, 8.962294541, 10.57366249, \"Cluster 1\"], [\"Switzerland\", 4.999426018, 5.292310568, 5.3136251660000005, 5.381639812, 5.51555988, 5.492175839, 5.852946307000001, 6.123779435, 6.379751456, 6.4003113570000005, 6.459405675, 6.141737847999999, 6.032418431, 6.703738631, 7.209714872999999, 7.09727006, 7.2009273579999995, 7.498784843999999, 7.733805564, 7.695117355, \"Cluster 1\"], [\"Slovak Republic\", 5.367669133, 5.708260171, 5.302839859, 5.179371767, 5.157902597, 4.915242275, 4.914849534, 5.013706746, 5.138875209, 5.319742082, 5.241058358, 5.020215772, 5.184301959, 5.4353000510000005, 6.012034516, 5.797130372000001, 5.643904536, 5.679221056, 5.7880822, 5.8395992020000005, \"Cluster 1\"], [\"Post-demographic dividend\", 5.923737902999999, 5.937932599, 5.892328742999999, 5.914243707000001, 5.932601223, 5.939920697000001, 6.2178511610000005, 6.445490047000001, 6.611676409, 6.657098828, 6.744363002999999, 6.812281987, 6.853256687000001, 7.145683267000001, 7.822250526, 7.781963316000001, 7.795102793, 7.812069609, 7.833116298999999, 7.914720128, \"Cluster 1\"], [\"Serbia\", 4.267816797, 4.267816799999999, 4.267816797, 4.2678168030000005, 4.267816797, 4.267816797, 4.600455039, 5.837583112999999, 5.766948594, 5.672611076, 5.742701002, 5.664904303999999, 6.146621793, 6.228211971, 6.12657588, 6.241991647000001, 6.039682906, 6.049713243999999, 5.984362308, 6.416505605, \"Cluster 1\"], [\"Spain\", 5.3735065539999995, 5.400270122999999, 5.314511603, 5.284405916, 5.269708002, 5.16745964, 5.155738488, 5.168936096, 5.727875546, 5.79793601, 5.875803104, 6.0053206370000005, 6.098790144, 6.512856144, 7.209759954, 7.173242115, 7.001061132, 6.734615203, 6.502610209, 6.399991901, \"Cluster 1\"], [\"Lesotho\", 3.562259305, 3.780533582, 3.117609003, 3.272044207, 3.239233383, 3.4740210489999996, 4.372510108, 3.831319315, 4.034880661, 3.938291734, 3.309584005, 4.175710594, 5.597512217, 6.059683765, 7.000413737000001, 8.079925072, 9.087435867, 8.447350944, 8.408564819, 8.082167603, \"Cluster 1\"], [\"Europe & Central Asia\", 6.258717592999999, 6.339840985, 6.249748329, 6.19495497, 6.269452692000001, 6.207590774, 6.357420652, 6.543767225, 6.68023106, 6.643569576, 6.70922848, 6.691295997, 6.590409565, 6.775062286, 7.489585233, 7.256678468, 7.09676356, 7.10705862, 7.143518692000001, 7.184029645, \"Cluster 1\"], [\"Maldives\", 3.662613659, 3.603093758, 3.54408858, 4.648466888, 4.74957875, 5.119448212, 3.7002680060000004, 3.567182597, 3.778200959, 3.8768776689999997, 7.126649771, 5.237830448, 4.553267366, 7.025877902, 6.729711552, 5.273435237, 5.608781865, 6.50292714, 8.263833455, 10.75705209, \"Cluster 1\"], [\"Costa Rica\", 4.9819644169999995, 5.065507246, 4.838992757, 5.6371740610000005, 5.362922535, 5.61242476, 5.485507511000001, 6.2834759920000005, 6.450275287, 5.653259257, 5.4657120589999995, 5.397313924, 5.627837325, 6.261310673, 7.022189965, 7.092617051, 7.149714006, 7.000226946000001, 6.914441165, 6.76760152, \"Cluster 1\"], [\"Canada\", 6.3135005, 6.112419052999999, 6.033111823, 6.228970762, 6.107698328, 6.098426758, 6.3649046810000005, 6.514305746000001, 6.694243642999999, 6.719901986, 6.723559526, 6.788407822999999, 6.893501359, 7.063453852, 7.914158212, 7.88439634, 7.676792501, 7.651144554, 7.575664927999999, 7.4119318839999995, \"Cluster 1\"], [\"OECD members\", 5.837047317000001, 5.841498345, 5.7873592060000005, 5.793233257000001, 5.816090555, 5.809017258, 6.0848777929999995, 6.308109241, 6.476244914, 6.522930721, 6.584750763, 6.646100419, 6.68397179, 6.97570711, 7.653295827000001, 7.58452343, 7.588942977, 7.608825853, 7.617928345, 7.692358487999999, \"Cluster 1\"], [\"Croatia\", 5.8306697629999995, 6.135021776, 4.893760696, 5.7330917679999995, 6.326324594, 6.6022750629999996, 5.96435491, 4.955064171, 5.242817131, 5.314158705, 5.930617257000001, 5.984641875, 6.477622756000001, 6.538722947999999, 7.006867431, 7.064964214, 6.25541215, 6.363207061000001, 6.403028794, 6.388287591, \"Cluster 1\"], [\"Ireland\", 4.669802976000001, 4.541905478, 4.6448398619999995, 4.494538697, 4.461866317, 4.466601084, 4.911672749, 5.1711671, 5.402683783, 5.5962288860000005, 5.520724187999999, 5.443878625, 5.729910174, 6.513027123, 6.917241581, 6.101439901, 5.5260434620000005, 5.622416984, 5.333288818, 5.141484076, \"Cluster 1\"], [\"North America\", 5.9389948960000005, 5.907198654, 5.845014468, 5.71256593, 5.645996433, 5.683423459, 6.092951705, 6.429777137, 6.624290735, 6.699777867000001, 6.722686909, 6.874371534, 7.005070493, 7.338893627999999, 8.005831942999999, 8.060768597000001, 8.033060722, 8.002663479, 7.998392667, 8.197720774, \"Cluster 1\"], [\"Czech Republic\", 6.084042522000001, 5.812945806, 5.779225055, 5.803851213, 5.744610454, 5.702534921, 5.7649027539999995, 6.149834668, 6.404474042, 6.15449697, 6.054044375, 5.805408814, 5.556626261, 5.628784423, 6.5696540279999995, 6.22493667, 6.314732469, 6.341764994, 6.313087853, 6.264976383, \"Cluster 1\"], [\"Denmark\", 6.7053440470000005, 6.76753736, 6.706312228, 6.694654162000001, 7.517019335, 7.29518541, 7.660538886, 7.885050087000001, 8.039900364, 8.152818891, 8.253254964, 8.399549167, 8.429011642999999, 8.621214821, 9.756125393, 9.433817543, 9.26885262, 9.419660272, 9.593210322000001, 9.158734109, \"Cluster 1\"], [\"Euro area\", 6.716641592, 6.819911767000001, 6.775234333999999, 6.713451942000001, 6.707802202000001, 6.725721019, 6.824762086000001, 6.9704907160000005, 7.100569779, 7.08237852, 7.243410635, 7.2751367270000005, 7.183725909, 7.419702701, 8.060334166, 7.985294914, 7.851059524, 7.904805463, 7.961558065, 8.001479856, \"Cluster 1\"], [\"Belgium\", 5.845320714, 6.184037715, 5.853458122999999, 5.899438234, 6.023602106, 6.058374214, 6.2528146289999995, 6.24450897, 6.9180965510000005, 7.127857092999999, 7.112748229, 6.962370453999999, 6.952936769, 7.396754446, 8.043822364, 7.896702726, 8.006737375, 8.186298971, 8.226719108, 8.249989468999999, \"Cluster 1\"], [\"Slovenia\", 5.792909005, 5.819026492000001, 5.819143855, 5.897932514, 5.900414841, 6.116332806, 6.280502195, 6.32476385, 6.314120889, 6.221904529, 6.212733312999999, 6.122382991, 5.773929573999999, 6.291263917999999, 6.9246336820000005, 6.72862594, 6.673550483, 6.803887187000001, 6.668260437000001, 6.623821787000001, \"Cluster 1\"], [\"Bosnia and Herzegovina\", 3.3504531589999997, 4.802890013, 3.4999255760000003, 3.329547245, 4.7307526289999995, 4.032095716000001, 4.312505733, 4.422546498, 5.478547872, 5.173272164, 4.865928659, 4.979969839, 5.334221943, 5.812860562000001, 6.803551255, 6.788921332, 6.923006484, 7.080212274, 6.629772276000001, 6.813077082, \"Cluster 1\"], [\"Luxembourg\", 5.145716534, 5.245560163, 5.173766337, 5.237903806, 5.232189737, 6.361267183, 6.236389009, 7.070858488, 6.457623507, 6.958297657999999, 6.747706438, 6.597379851, 5.82007398, 6.492969779, 7.025644269, 6.594701877, 6.26066183, 5.988070914, 5.9392373229999995, 5.822836062, \"Cluster 1\"]], \"hoverlabel\": {\"namelength\": 0}, \"hovertemplate\": \"Cluster=%{customdata[21]}<br>Country Name=%{customdata[0]}<br>1995=%{customdata[1]}<br>1996=%{customdata[2]}<br>1997=%{customdata[3]}<br>1998=%{customdata[4]}<br>1999=%{customdata[5]}<br>2000=%{customdata[6]}<br>2001=%{customdata[7]}<br>2002=%{customdata[8]}<br>2003=%{customdata[9]}<br>2004=%{customdata[10]}<br>2005=%{customdata[11]}<br>2006=%{customdata[12]}<br>2007=%{customdata[13]}<br>2008=%{customdata[14]}<br>2009=%{customdata[15]}<br>2010=%{customdata[16]}<br>2011=%{customdata[17]}<br>2012=%{customdata[18]}<br>2013=%{customdata[19]}<br>2014=%{customdata[20]}\", \"legendgroup\": \"Cluster=Cluster 1\", \"marker\": {\"color\": \"#EF553B\"}, \"name\": \"Cluster=Cluster 1\", \"notched\": true, \"offsetgroup\": \"Cluster=Cluster 1\", \"showlegend\": false, \"type\": \"box\", \"x\": [\"Cluster 1\", \"Cluster 1\", \"Cluster 1\", \"Cluster 1\", \"Cluster 1\", \"Cluster 1\", \"Cluster 1\", \"Cluster 1\", \"Cluster 1\", \"Cluster 1\", \"Cluster 1\", \"Cluster 1\", \"Cluster 1\", \"Cluster 1\", \"Cluster 1\", \"Cluster 1\", \"Cluster 1\", \"Cluster 1\", \"Cluster 1\", \"Cluster 1\", \"Cluster 1\", \"Cluster 1\", \"Cluster 1\", \"Cluster 1\", \"Cluster 1\", \"Cluster 1\", \"Cluster 1\", \"Cluster 1\", \"Cluster 1\", \"Cluster 1\", \"Cluster 1\", \"Cluster 1\", \"Cluster 1\", \"Cluster 1\", \"Cluster 1\", \"Cluster 1\", \"Cluster 1\", \"Cluster 1\", \"Cluster 1\", \"Cluster 1\", \"Cluster 1\", \"Cluster 1\", \"Cluster 1\", \"Cluster 1\", \"Cluster 1\"], \"xaxis\": \"x2\", \"yaxis\": \"y2\"}, {\"alignmentgroup\": \"True\", \"bingroup\": \"x\", \"hoverlabel\": {\"namelength\": 0}, \"hovertemplate\": \"Cluster=%{x}<br>count=%{y}\", \"legendgroup\": \"Cluster=Cluster 2\", \"marker\": {\"color\": \"#00cc96\", \"opacity\": 0.7}, \"name\": \"Cluster=Cluster 2\", \"offsetgroup\": \"Cluster=Cluster 2\", \"orientation\": \"v\", \"showlegend\": true, \"type\": \"histogram\", \"x\": [\"Cluster 2\", \"Cluster 2\", \"Cluster 2\", \"Cluster 2\", \"Cluster 2\", \"Cluster 2\", \"Cluster 2\", \"Cluster 2\", \"Cluster 2\", \"Cluster 2\", \"Cluster 2\", \"Cluster 2\", \"Cluster 2\", \"Cluster 2\", \"Cluster 2\", \"Cluster 2\", \"Cluster 2\", \"Cluster 2\", \"Cluster 2\", \"Cluster 2\", \"Cluster 2\", \"Cluster 2\", \"Cluster 2\", \"Cluster 2\", \"Cluster 2\", \"Cluster 2\", \"Cluster 2\", \"Cluster 2\", \"Cluster 2\", \"Cluster 2\", \"Cluster 2\", \"Cluster 2\", \"Cluster 2\", \"Cluster 2\", \"Cluster 2\", \"Cluster 2\", \"Cluster 2\", \"Cluster 2\", \"Cluster 2\", \"Cluster 2\", \"Cluster 2\", \"Cluster 2\", \"Cluster 2\", \"Cluster 2\", \"Cluster 2\", \"Cluster 2\", \"Cluster 2\", \"Cluster 2\", \"Cluster 2\", \"Cluster 2\", \"Cluster 2\", \"Cluster 2\", \"Cluster 2\", \"Cluster 2\", \"Cluster 2\", \"Cluster 2\", \"Cluster 2\", \"Cluster 2\", \"Cluster 2\", \"Cluster 2\", \"Cluster 2\", \"Cluster 2\", \"Cluster 2\", \"Cluster 2\", \"Cluster 2\", \"Cluster 2\", \"Cluster 2\", \"Cluster 2\", \"Cluster 2\", \"Cluster 2\", \"Cluster 2\", \"Cluster 2\", \"Cluster 2\", \"Cluster 2\", \"Cluster 2\", \"Cluster 2\", \"Cluster 2\", \"Cluster 2\", \"Cluster 2\", \"Cluster 2\", \"Cluster 2\", \"Cluster 2\", \"Cluster 2\", \"Cluster 2\", \"Cluster 2\", \"Cluster 2\", \"Cluster 2\", \"Cluster 2\", \"Cluster 2\", \"Cluster 2\", \"Cluster 2\", \"Cluster 2\", \"Cluster 2\", \"Cluster 2\", \"Cluster 2\", \"Cluster 2\", \"Cluster 2\", \"Cluster 2\", \"Cluster 2\", \"Cluster 2\", \"Cluster 2\", \"Cluster 2\", \"Cluster 2\", \"Cluster 2\", \"Cluster 2\", \"Cluster 2\", \"Cluster 2\", \"Cluster 2\", \"Cluster 2\"], \"xaxis\": \"x\", \"yaxis\": \"y\"}, {\"alignmentgroup\": \"True\", \"customdata\": [[\"Vietnam\", 1.757862744, 1.632231732, 1.604611275, 1.731437579, 1.717060034, 1.513863444, 1.627560706, 1.447735609, 1.551822426, 1.393649581, 1.4195695640000001, 1.94486753, 2.563552268, 2.1319632019999997, 2.5691874219999997, 2.9609666289999996, 2.805001867, 3.722124141, 3.796360562, 3.820019105, \"Cluster 2\"], [\"Morocco\", 1.184133718, 1.14335155, 1.073390243, 1.179102117, 1.149141903, 1.229737845, 1.427759227, 1.378808948, 1.39499543, 1.4295298019999998, 1.4389258669999998, 1.7144025040000002, 1.8980773180000001, 1.891971766, 2.046396065, 2.0675720369999997, 2.08777206, 2.181466365, 1.95774948, 2.001326276, \"Cluster 2\"], [\"Nepal\", 1.407378795, 1.42214041, 1.4710270630000002, 2.554396091, 1.763231864, 1.352123349, 1.5944633019999999, 1.640840974, 1.527687611, 1.590326576, 1.585328429, 2.044874971, 2.2831250830000003, 2.725698705, 2.824395263, 2.867317073, 3.24209748, 2.466854595, 2.2199025619999997, 2.337819114, \"Cluster 2\"], [\"Myanmar\", 0.40560317, 0.33454759, 0.262807177, 0.16829349300000002, 0.170964179, 0.26099717100000003, 0.224982015, 0.313588382, 0.243334548, 0.266961522, 0.164974085, 0.256312052, 0.19819528600000003, 0.207554701, 0.232553662, 0.299251928, 0.297624635, 0.819629102, 0.826846155, 1.0448998040000002, \"Cluster 2\"], [\"Venezuela, RB\", 1.803152127, 1.482414909, 1.3873164880000002, 1.466015602, 1.83342208, 2.163059483, 2.3407567019999997, 2.1513320019999997, 2.079300496, 2.158140627, 2.153332428, 2.221770123, 2.4647812030000003, 1.230489115, 2.496312442, 2.088239278, 2.33545129, 1.675638027, 1.5428590880000002, 1.5427659459999998, \"Cluster 2\"], [\"Mongolia\", 2.598917911, 3.0338893369999997, 3.06342556, 3.4813274830000003, 3.417399945, 3.828286275, 3.89985284, 3.455279064, 2.918031289, 2.92676436, 2.484591225, 2.3969135919999998, 2.736412235, 3.18351906, 2.768372713, 2.654478067, 2.595706257, 2.260514895, 2.21159453, 2.620572882, \"Cluster 2\"], [\"Uzbekistan\", 3.6000000030000003, 3.7000000010000003, 3.300000002, 2.9445866919999997, 2.804581287, 2.5156908159999998, 2.5501141069999997, 2.424055326, 2.3806037019999997, 2.26249735, 2.279013274, 2.4548033890000003, 2.298687476, 2.529900054, 2.619290185, 2.7513171560000003, 2.863900619, 3.1273714530000003, 3.117906257, 3.11124825, \"Cluster 2\"], [\"United Arab Emirates\", 2.0817381580000003, 1.948805565, 1.9483958190000001, 2.056706777, 1.9176294719999998, 1.6770585919999998, 1.944492099, 1.7139829819999999, 1.67154037, 1.45604253, 1.36889725, 1.3825069509999999, 1.5553772380000002, 1.9216341030000001, 3.0341259469999997, 2.834165586, 2.732488042, 2.550025889, 2.557326087, 2.636151579, \"Cluster 2\"], [\"Nigeria\", 0.658145013, 0.6004809210000001, 0.717612288, 0.9066261859999999, 0.9836661459999999, 0.949286025, 1.0177073509999999, 0.622004345, 0.9066617840000001, 1.4147604390000001, 1.19778681, 1.204600858, 1.472728808, 1.470059403, 1.324670016, 0.908580697, 1.151611248, 1.033169532, 0.8826272559999999, 0.9225351270000001, \"Cluster 2\"], [\"Sudan\", 0.785822105, 1.1132446329999999, 0.8913511359999999, 0.947423065, 0.7634364029999999, 0.887398963, 0.755115843, 0.7832779759999999, 0.883215533, 1.080722762, 1.091364, 1.270562706, 1.511842397, 2.630955513, 2.356734868, 2.698468913, 2.557343508, 1.8717955609999999, 1.859793759, 1.802361864, \"Cluster 2\"], [\"St. Kitts and Nevis\", 3.210272875, 3.167420812, 2.96495957, 3.0322580639999996, 3.038774765, 2.572590516, 2.262442891, 2.091861802, 2.087233898, 1.8705093169999998, 1.9221866930000002, 2.336683006, 2.154610635, 2.030668845, 2.193108956, 2.532022242, 2.26067011, 2.375174636, 2.183728661, 2.144605023, \"Cluster 2\"], [\"Sri Lanka\", 1.615371713, 1.611450175, 1.520769471, 1.878021898, 1.7467114680000002, 1.846321629, 1.7582096980000002, 1.6833360119999998, 1.677615192, 2.005508786, 1.85010327, 1.950059208, 1.825976447, 1.5815241269999998, 1.53517067, 1.5538039369999999, 1.38092651, 1.219599412, 2.102564149, 1.96395333, \"Cluster 2\"], [\"Syrian Arab Republic\", 2.189237706, 1.9540946959999999, 1.8777604769999998, 1.960923229, 2.01442573, 1.989779169, 2.173051471, 2.262242934, 2.4683381680000003, 2.148408978, 2.075568445, 1.833546841, 1.7896512969999998, 1.5964767030000002, 1.631376352, 1.507165795, 1.507165794, 1.507165792, 1.507165795, 1.507165795, \"Cluster 2\"], [\"Tajikistan\", 1.289444392, 1.296720852, 1.601227323, 1.141229192, 1.040832288, 0.946474655, 0.9497662490000001, 0.9065827479999999, 0.910560376, 0.94333442, 1.1438192790000001, 1.129053783, 1.184751796, 1.371774183, 1.478536975, 1.594683309, 1.71027997, 1.87760452, 2.067731786, 1.983765009, \"Cluster 2\"], [\"Tanzania\", 1.3671389859999998, 1.174080484, 1.127228367, 1.009735219, 1.1200299009999999, 1.1459393759999998, 1.769595394, 2.106622222, 2.573524874, 2.565945049, 2.965165865, 4.763505728, 3.038471158, 2.435878095, 2.109638156, 2.072897335, 2.4866151380000003, 2.790460229, 2.565408087, 2.589958711, \"Cluster 2\"], [\"Togo\", 1.5142425659999998, 1.476366118, 1.263694426, 1.5228179240000002, 1.4206208740000001, 1.420842968, 1.25272483, 0.906148993, 1.441999812, 1.6843732040000001, 1.898455965, 2.2596331419999998, 2.157573571, 2.416491795, 3.2782154439999998, 1.9385851369999998, 1.655337459, 1.947797344, 2.148307048, 2.01732113, \"Cluster 2\"], [\"Singapore\", 1.456150914, 1.391903127, 1.344772866, 1.66411043, 1.4782905990000001, 1.217784989, 0.887039769, 1.0589667740000002, 1.346161446, 1.030256162, 1.003758123, 1.0010905540000001, 0.955389862, 1.20049011, 1.526597419, 1.3714286169999998, 1.346479037, 1.501077737, 1.735920655, 2.054683314, \"Cluster 2\"], [\"Sierra Leone\", 2.388388089, 2.163428251, 2.513163766, 2.0471494480000003, 3.064624564, 3.49413205, 2.824141502, 2.9649160219999997, 2.784261175, 2.683917256, 2.676174105, 1.961695331, 1.645375923, 1.7879205000000002, 2.2075173169999998, 2.396940634, 2.646933502, 1.980878492, 1.6946554809999999, 1.8838018559999998, \"Cluster 2\"], [\"Mexico\", 2.130169342, 1.9017575580000001, 2.108606157, 2.209776657, 2.3947401530000003, 2.318107511, 2.39862085, 2.4220273480000003, 2.541277434, 2.688003906, 2.618877856, 2.560345155, 2.6423747680000003, 2.7609368169999997, 3.095935571, 3.103295671, 3.067131298, 3.160971159, 3.2569934060000003, 3.2595515739999996, \"Cluster 2\"], [\"Niger\", 1.46894782, 1.28448572, 1.6847956030000002, 1.6945951419999998, 1.6988028130000001, 1.5224654819999999, 1.8667212, 1.909258365, 1.6804503130000001, 1.845863957, 2.978654315, 3.175497048, 2.662864682, 2.6958767939999997, 2.650386504, 2.162436939, 2.453245216, 2.211834697, 2.455677176, 3.214493821, \"Cluster 2\"], [\"Senegal\", 1.2798538309999998, 1.4840143330000002, 1.2842599890000002, 1.311168581, 1.741001217, 1.8955416319999998, 2.135240269, 1.95048094, 2.09132832, 2.1192570930000003, 2.9824374189999996, 3.149901608, 2.3325124280000002, 2.52752637, 2.486263648, 2.368547813, 2.2798394, 2.179866218, 2.238315424, 2.41795607, \"Cluster 2\"], [\"Trinidad and Tobago\", 2.638269986, 2.386765057, 2.344393146, 1.952658896, 2.344861306, 1.9555948980000002, 2.226981196, 2.647006573, 2.599973229, 2.599777231, 2.641981687, 2.2319773019999998, 2.37526743, 2.164450301, 3.2808106789999996, 3.018338697, 2.680151372, 2.894988852, 3.144494274, 3.174627521, \"Cluster 2\"], [\"Rwanda\", 1.639887766, 1.875693261, 1.8534048269999999, 2.558416099, 2.083504954, 1.65315324, 2.138891489, 2.182617409, 3.345043303, 2.875959967, 3.1994948919999997, 4.98059157, 3.780193618, 2.8301189489999996, 2.402053946, 2.928013553, 2.810805898, 2.835877205, 2.9251774489999995, 2.86940115, \"Cluster 2\"], [\"Turkmenistan\", 1.8558282190000002, 2.261439427, 3.479223681, 3.501250448, 2.385819704, 3.214627605, 2.817917069, 2.43147657, 2.708526219, 2.4214305080000003, 2.021050273, 1.5455485169999998, 1.388148149, 0.946836468, 1.163073225, 1.223637874, 1.268097271, 1.273376388, 1.4260022369999998, 1.348530564, \"Cluster 2\"], [\"Uganda\", 1.419934953, 1.4132376530000001, 1.434781572, 1.895182926, 1.6585483509999999, 1.837958926, 1.9800486640000001, 2.105321926, 1.948108485, 2.265551769, 2.36197808, 2.472357111, 2.461809429, 2.302819536, 1.814334366, 3.118358422, 2.633267177, 2.15389932, 2.087896717, 1.801251317, \"Cluster 2\"], [\"Qatar\", 2.3204105040000003, 2.494258485, 2.14754465, 2.26219926, 1.9516241730000001, 1.574730065, 1.9219924780000002, 2.035923049, 3.488087043, 3.0369040139999997, 2.535151656, 2.172082184, 1.9433211680000002, 1.574182634, 2.065527913, 1.6208308630000001, 1.5059314080000001, 1.8314776730000002, 1.85480107, 1.87539141, \"Cluster 2\"], [\"Philippines\", 1.363656828, 1.451424131, 1.558107718, 1.373206902, 1.428355789, 1.526761368, 1.3244430759999999, 1.116642339, 1.306200566, 1.3031314390000002, 1.5016485869999998, 1.452187111, 1.367826516, 1.332745624, 1.54867658, 1.57369151, 1.306362975, 1.386256358, 1.449217044, 1.614685219, \"Cluster 2\"], [\"Peru\", 2.4000535530000002, 2.439421903, 2.266327886, 2.571913148, 2.829916303, 2.720831514, 2.83143959, 2.825705616, 2.690862148, 2.543761347, 2.69389613, 2.392145848, 2.414623092, 2.452033774, 2.983444427, 2.794287232, 2.624140306, 2.846647646, 3.0451036680000003, 3.31875118, \"Cluster 2\"], [\"Paraguay\", 2.1300236740000003, 2.395655422, 2.428081297, 2.821045288, 3.030939089, 3.2306281489999997, 2.654111955, 2.16010372, 1.94949197, 2.031570671, 2.355197356, 2.610014991, 2.6921865680000003, 2.713075726, 3.498680631, 3.360902763, 3.765919165, 4.598601243, 4.781259119, 4.502240378, \"Cluster 2\"], [\"Pakistan\", 0.655509247, 0.7153439309999999, 0.6555669679999999, 0.5714069, 0.55473074, 0.608602423, 0.551524181, 0.80938608, 0.648320921, 0.677300991, 0.6859182840000001, 0.7887748040000001, 0.7988322409999999, 0.839235884, 0.802903527, 0.954234466, 0.919768299, 1.0184630190000001, 0.994330811, 0.9188114740000001, \"Cluster 2\"], [\"Oman\", 3.060043613, 2.984456681, 2.782569753, 3.0185177010000004, 2.8937463589999997, 2.51203413, 2.528963608, 2.654750721, 2.629465786, 2.437561733, 2.130347883, 1.8645977580000002, 1.968289323, 1.586300815, 2.3007373269999998, 2.269729033, 2.039566518, 2.079956768, 2.4085738130000003, 3.190228575, \"Cluster 2\"], [\"Saudi Arabia\", 1.5431946069999998, 1.617271884, 1.7527047119999999, 1.945860041, 2.8033962839999997, 3.051834468, 3.25646885, 3.090089872, 2.89642297, 2.561828615, 2.4783645, 2.641391252, 2.5073977469999997, 1.8894052119999998, 2.788237062, 2.2652001090000002, 2.495887158, 2.7522826960000004, 3.1003695560000004, 3.4907897410000004, \"Cluster 2\"], [\"Mauritius\", 1.9791546869999999, 1.904916232, 1.91146883, 1.954499964, 1.8827777280000002, 1.96954971, 2.004170598, 2.180551666, 2.1883490930000002, 2.349088838, 2.214836795, 2.047507497, 1.872909835, 1.782954216, 2.168691339, 2.5825881280000003, 2.46122411, 2.292702791, 2.3655561919999997, 2.364685746, \"Cluster 2\"], [\"Arab World\", 2.004867785, 2.0146024280000003, 2.071308732, 2.177711645, 2.331000345, 2.3335961, 2.58875078, 2.54023836, 2.450414915, 2.314914077, 2.134281009, 2.133037666, 2.16687238, 2.101232726, 2.830066845, 2.4896314569999998, 2.539570311, 2.7112619789999997, 2.895427378, 3.0731609939999998, \"Cluster 2\"], [\"Chad\", 2.011375251, 1.960913759, 1.963588748, 1.659397007, 1.9898415530000002, 2.66748418, 2.396482425, 2.691863992, 2.268320284, 2.299355155, 1.55797137, 1.128978799, 1.2502512209999999, 0.996604191, 1.231522791, 1.185137165, 1.534874565, 1.421939407, 1.774692315, 1.9789501619999998, \"Cluster 2\"], [\"Upper middle income\", 2.719154058, 2.6691794090000003, 2.8588169989999996, 2.755691745, 2.7583880960000005, 2.64226068, 2.6614438999999996, 2.653640275, 2.7072452680000003, 2.71322832, 2.754573558, 2.798324718, 2.916842398, 3.039129579, 3.401348935, 3.258324431, 3.26052306, 3.3247364010000005, 3.3759578180000003, 3.424686871, \"Cluster 2\"], [\"Albania\", 1.713004455, 1.7461975459999999, 2.024509405, 2.0951277569999998, 2.510171417, 2.2584179580000003, 2.2922240190000003, 2.256325893, 2.2521041509999997, 2.67940487, 2.7064554430000003, 2.5751360919999997, 2.6291710999999998, 2.69389845, 2.833575743, 2.47656803, 2.84917086, 2.7357041, 2.8359842360000003, 2.936373275, \"Cluster 2\"], [\"Angola\", 4.659118212, 1.7397817740000001, 2.0192194409999997, 1.414705389, 2.131797787, 1.677216464, 2.812403394, 1.685217542, 2.044369358, 2.407840515, 2.02464638, 3.022435345, 2.213764019, 2.716334452, 2.663917207, 2.0612546640000002, 2.155094274, 2.137316503, 3.080408392, 2.124912195, \"Cluster 2\"], [\"Armenia\", 1.996272562, 1.621148073, 1.407496163, 1.644913074, 1.612414885, 1.1375319990000001, 1.5914746219999998, 1.361332463, 1.516570269, 1.404450704, 1.905053401, 2.0528820530000003, 2.099284998, 1.764770313, 2.010005376, 1.9227140630000001, 1.938903536, 1.8756815409999998, 1.946690997, 1.925675667, \"Cluster 2\"], [\"Azerbaijan\", 1.3917525780000002, 1.485547019, 1.228625713, 0.903807033, 0.985430464, 0.866892751, 0.84650113, 0.791817883, 0.82967797, 1.0286700359999998, 0.880905375, 0.86418436, 0.980253879, 0.824675486, 1.33896972, 1.168020723, 1.080987674, 1.210596594, 1.150183905, 1.230967479, \"Cluster 2\"], [\"Bahamas, The\", 2.729658793, 2.773621504, 2.357290763, 2.539504821, 2.467818788, 2.502547587, 2.466895954, 2.5106654280000003, 2.647886116, 2.880435634, 2.642189647, 3.2726021, 3.18150171, 3.354877435, 3.5265241489999997, 3.4608155039999997, 3.575056242, 3.298249273, 3.07695572, 3.5506726960000004, \"Cluster 2\"], [\"Bahrain\", 2.818546496, 2.7515132039999997, 3.047721744, 2.881320773, 2.838727708, 2.36241776, 2.532878513, 2.5843232030000003, 2.501123649, 2.267809586, 2.156522233, 2.125250656, 2.184567246, 2.313058037, 2.748444379, 2.593379391, 2.383532755, 2.7626622419999998, 3.015994395, 3.150500297, \"Cluster 2\"], [\"Bangladesh\", 1.199805247, 1.0312841240000001, 0.968124768, 0.9353350979999999, 0.9351601490000001, 0.946712407, 1.024926461, 1.067809827, 0.975548071, 1.042067184, 0.9668001420000001, 1.038830186, 0.987683698, 0.9537524690000001, 0.991099631, 1.05017299, 1.041090103, 0.984483722, 0.810323956, 0.786532509, \"Cluster 2\"], [\"Belize\", 2.632365197, 2.048040973, 2.263610979, 2.155696602, 2.035489918, 2.091697325, 2.5894225509999997, 2.456541789, 2.589394307, 2.507171752, 2.647951095, 2.669250969, 3.022312925, 3.290674586, 3.862427163, 3.858381866, 3.725604295, 3.5777434360000004, 3.777130746, 3.879657845, \"Cluster 2\"], [\"Benin\", 2.111729724, 2.0315509240000003, 1.814422789, 1.939795897, 2.109912315, 1.917526784, 2.308263635, 1.888670405, 2.2112665259999997, 2.175232784, 2.3524798909999998, 2.385750932, 2.307085606, 2.137696725, 2.328624079, 2.688570362, 2.9290097580000003, 2.15409384, 2.215456479, 2.251196286, \"Cluster 2\"], [\"Brunei Darussalam\", 2.294038745, 3.0164979919999997, 3.01723691, 3.7179108860000003, 3.1839404819999997, 2.59858883, 2.576781266, 2.5673854080000003, 2.593538693, 2.522266585, 2.2158971480000003, 1.929077942, 2.03867096, 2.015774515, 2.591951691, 2.520024437, 2.066757971, 2.112532457, 2.407480899, 2.485567877, \"Cluster 2\"], [\"Burkina Faso\", 1.8658619580000002, 1.933787219, 2.0678869680000003, 2.061326682, 2.191443603, 2.016915355, 1.832448876, 2.256686535, 2.6042529930000002, 3.464384444, 4.091775992, 3.741064955, 3.995721739, 3.996973964, 3.6583793260000004, 3.9711797669999997, 2.95514785, 2.98036859, 3.48939536, 2.593973739, \"Cluster 2\"], [\"Burundi\", 1.34643228, 1.4941034169999998, 1.130843622, 1.2478422040000001, 1.238485735, 1.4043644640000001, 1.6344859109999998, 1.55512254, 1.345188237, 2.544952098, 2.937796431, 3.5288293360000003, 3.7804362, 3.355311709, 3.093040181, 5.499656744, 5.401877297, 4.930865336, 4.3966530530000005, 3.9737275569999997, \"Cluster 2\"], [\"Cambodia\", 1.1239033040000002, 2.642772374, 2.0557185319999998, 1.356775567, 1.184934454, 1.3401496179999999, 1.30376831, 1.520439279, 2.416164271, 2.3923241180000003, 1.618218744, 1.2352885740000001, 1.321770862, 1.1113312290000001, 1.312468532, 1.440774999, 1.33985553, 1.5033406980000001, 1.397584709, 1.251042011, \"Cluster 2\"], [\"Cameroon\", 0.9002687140000001, 0.893368284, 0.978965995, 0.7846296140000001, 0.8337348240000001, 0.9326291859999999, 1.1291992770000001, 1.290383204, 1.3317280120000001, 1.129638122, 1.120079177, 1.076092314, 1.065776207, 1.049287334, 1.28313286, 1.5076022759999999, 1.331447157, 1.066747097, 1.012469674, 0.9386336909999999, \"Cluster 2\"], [\"Sub-Saharan Africa (IDA & IBRD countries)\", 2.449863298, 2.516644595, 2.494454088, 2.437191306, 2.374140004, 2.271764359, 2.36589666, 2.179881571, 2.392890886, 2.48694164, 2.485235818, 2.510834419, 2.4624205690000003, 2.5124766309999997, 2.71107721, 2.48903738, 2.624569905, 2.543530054, 2.4598089, 2.314823041, \"Cluster 2\"], [\"Sub-Saharan Africa (excluding high income)\", 2.447084114, 2.513732415, 2.490668403, 2.433949374, 2.370627245, 2.2691877519999997, 2.363319605, 2.177062415, 2.3902048280000003, 2.484998793, 2.4836869530000003, 2.509609703, 2.4617436809999997, 2.512576224, 2.71133, 2.4885153559999997, 2.6241637030000002, 2.5426359130000002, 2.459070655, 2.3141783609999997, \"Cluster 2\"], [\"Sub-Saharan Africa\", 2.449863298, 2.516644595, 2.494454088, 2.437191306, 2.374140004, 2.271764359, 2.36589666, 2.179881571, 2.392890886, 2.48694164, 2.485235818, 2.510834419, 2.4624205690000003, 2.5124766309999997, 2.71107721, 2.48903738, 2.624569905, 2.543530054, 2.4598089, 2.314823041, \"Cluster 2\"], [\"South Asia (IDA & IBRD)\", 1.03503164, 0.99799026, 1.0374988109999999, 1.070832413, 1.081228019, 1.0670523109999999, 1.042238308, 1.032538376, 0.9733766779999999, 1.018914387, 1.103442311, 1.103521575, 1.09051214, 1.151605829, 1.205501388, 1.181098088, 1.181152879, 1.19027209, 1.28224814, 1.3678991719999998, \"Cluster 2\"], [\"Caribbean small states\", 2.8015183710000002, 2.856683624, 2.9971566689999998, 2.9894512000000004, 2.7678577189999998, 2.826752141, 2.6799687530000003, 2.888692649, 2.740592575, 2.845970706, 2.629579982, 2.650899715, 2.79066499, 2.8229131219999997, 3.408651206, 3.264063783, 3.08765286, 3.3143030839999996, 3.318431579, 3.2600123180000002, \"Cluster 2\"], [\"Early-demographic dividend\", 2.203164007, 2.156631825, 2.227311469, 2.364099533, 2.454393636, 2.450554821, 2.52708105, 2.347701787, 2.36326343, 2.346823705, 2.337346649, 2.369883662, 2.385250838, 2.405125681, 2.701259981, 2.5071308709999998, 2.495490968, 2.497340218, 2.586701422, 2.665602603, \"Cluster 2\"], [\"East Asia & Pacific (excluding high income)\", 1.615852443, 1.640251145, 1.6783221080000001, 1.764602604, 1.75401335, 1.689184662, 1.626887281, 1.736855763, 1.8086373709999999, 1.815666676, 1.79631989, 1.8752670930000002, 2.076666145, 2.256213902, 2.5749937469999997, 2.53842979, 2.669787471, 2.8114897130000003, 2.881804892, 2.975050955, \"Cluster 2\"], [\"East Asia & Pacific (IDA & IBRD countries)\", 1.615852443, 1.640251145, 1.6783221080000001, 1.764602604, 1.75401335, 1.689184662, 1.626887281, 1.736855763, 1.8086373709999999, 1.815666676, 1.79631989, 1.8752670930000002, 2.076666145, 2.256213902, 2.5749937469999997, 2.53842979, 2.669787471, 2.8114897130000003, 2.881804892, 2.975050955, \"Cluster 2\"], [\"Heavily indebted poor countries (HIPC)\", 1.630562619, 1.7167492340000001, 1.65244635, 1.7718702569999998, 1.834357688, 1.79637023, 2.015090682, 2.068192564, 2.1669018159999998, 2.216858939, 2.345166979, 2.4488834919999998, 2.3024619090000003, 2.429057526, 2.539924114, 2.712862763, 2.661827679, 2.58866833, 2.580611781, 2.532968767, \"Cluster 2\"], [\"Late-demographic dividend\", 2.749846218, 2.750524463, 2.94232719, 2.7954760419999998, 2.721888766, 2.5495596369999998, 2.589519016, 2.719474646, 2.735925695, 2.744432242, 2.775096107, 2.818204592, 2.932192624, 3.090526918, 3.408418886, 3.27272891, 3.265710729, 3.349820181, 3.376662873, 3.4269252519999998, \"Cluster 2\"], [\"Least developed countries: UN classification\", 1.52548196, 1.4297370919999999, 1.430388652, 1.471607242, 1.522391719, 1.465800489, 1.689041896, 1.690471391, 1.800899345, 1.880999571, 1.898899247, 2.157903627, 1.9138546930000002, 2.140700178, 2.172629716, 2.198171697, 2.177006608, 1.96354228, 2.031209935, 1.919877296, \"Cluster 2\"], [\"Central African Republic\", 1.363974592, 2.023371914, 1.216183896, 1.4170993580000002, 1.871718297, 2.1021468359999997, 1.863889207, 2.062251945, 2.0768119130000002, 1.845115241, 2.1146899390000002, 1.923990235, 2.036722449, 2.290508965, 1.497162132, 1.9771464330000001, 1.840226144, 1.7680298669999999, 1.913359234, 2.0569429830000003, \"Cluster 2\"], [\"Low & middle income\", 2.401016022, 2.351839879, 2.507134082, 2.4654399419999997, 2.427530862, 2.34705236, 2.376884847, 2.345132586, 2.384587803, 2.4076141769999997, 2.458114132, 2.506991643, 2.6052197390000003, 2.734475624, 3.005713015, 2.869481703, 2.894131937, 2.9566967039999996, 3.0130862210000005, 3.0383182860000004, \"Cluster 2\"], [\"Lower middle income\", 1.3821720169999998, 1.344572554, 1.355006184, 1.4310212219999998, 1.3888542769999999, 1.384144461, 1.4288831530000001, 1.380571025, 1.3841809880000002, 1.400072101, 1.4280820419999998, 1.478788431, 1.521790939, 1.559230946, 1.5884407409999999, 1.5131299669999998, 1.519120119, 1.5812649540000001, 1.639779694, 1.6358329619999998, \"Cluster 2\"], [\"Middle East & North Africa\", 2.423456889, 2.430438328, 2.520586788, 2.585412087, 2.614487018, 2.609441929, 2.869833259, 2.818405786, 2.735597223, 2.5723098419999997, 2.411219853, 2.45275055, 2.439045576, 2.352177305, 3.016616398, 2.714642506, 2.711284804, 2.895571978, 3.06782614, 3.224936356, \"Cluster 2\"], [\"Middle East & North Africa (excluding high income)\", 1.986615421, 2.000319073, 2.116533205, 2.180356186, 2.073848436, 2.15353996, 2.4061859269999997, 2.452578692, 2.404325255, 2.413375024, 2.277110381, 2.33316934, 2.38604766, 2.4840236190000002, 2.883655535, 2.674039179, 2.6663160009999998, 2.946036225, 3.1133615810000004, 3.195117055, \"Cluster 2\"], [\"Middle East & North Africa (IDA & IBRD countries)\", 1.986615421, 2.000319073, 2.116533205, 2.180356186, 2.073848436, 2.15353996, 2.4061859269999997, 2.452578692, 2.404325255, 2.413375024, 2.277110381, 2.33316934, 2.38604766, 2.4840236190000002, 2.883655535, 2.674039179, 2.6663160009999998, 2.946036225, 3.1133615810000004, 3.195117055, \"Cluster 2\"], [\"Middle income\", 2.412678871, 2.36362262, 2.5202424480000003, 2.477042313, 2.43762049, 2.356948176, 2.382038559, 2.349752613, 2.387242359, 2.4088153219999997, 2.458108718, 2.504454687, 2.60902103, 2.73939142, 3.0142344189999997, 2.872383447, 2.896995845, 2.962450623, 3.0212647560000003, 3.0467369210000004, \"Cluster 2\"], [\"Pre-demographic dividend\", 1.410676744, 1.300913774, 1.3471565680000002, 1.43327288, 1.489741772, 1.4058226130000002, 1.6053387190000001, 1.4385881090000001, 1.6097842219999998, 2.055879709, 1.894072295, 1.9102146830000002, 1.9152088569999999, 2.147427747, 2.25671329, 1.826936093, 1.921276365, 2.018579254, 2.092089478, 1.933374353, \"Cluster 2\"], [\"South Asia\", 1.03503164, 0.99799026, 1.0374988109999999, 1.070832413, 1.081228019, 1.0670523109999999, 1.042238308, 1.032538376, 0.9733766779999999, 1.018914387, 1.103442311, 1.103521575, 1.09051214, 1.151605829, 1.205501388, 1.181098088, 1.181152879, 1.19027209, 1.28224814, 1.3678991719999998, \"Cluster 2\"], [\"Low income\", 1.5301250290000001, 1.483895647, 1.5211285190000001, 1.657153759, 1.738222289, 1.7597896480000002, 2.034208573, 2.063321574, 2.217968593, 2.32876762, 2.458480802, 2.691171989, 2.317963439, 2.365497375, 2.4214922619999997, 2.642192573, 2.6593637230000002, 2.511732098, 2.394346629, 2.43910583, \"Cluster 2\"], [\"Mauritania\", 2.230334388, 1.3288083929999999, 1.49219146, 2.084762022, 2.901813013, 2.770993523, 1.879560462, 2.862060366, 2.179218351, 2.464112525, 2.033356056, 1.4476164319999998, 1.6517913519999998, 1.3545647330000001, 1.79980274, 1.52105378, 1.279141378, 1.370247011, 1.726038803, 1.871016263, \"Cluster 2\"], [\"Zambia\", 2.152488857, 2.484677806, 2.585239318, 3.1339650839999997, 3.403697035, 3.7198999230000003, 3.5265592110000004, 4.018109627, 4.18766916, 3.65708439, 3.9569790069999997, 2.75584562, 1.885822023, 2.18994158, 2.261667785, 2.27995642, 2.148931957, 2.536370459, 2.7654047189999997, 2.760094545, \"Cluster 2\"], [\"Comoros\", 2.8797862060000003, 2.7139497039999996, 2.584925576, 2.185036147, 1.964426649, 1.5227230969999999, 1.0946753390000001, 1.6697581019999999, 1.815474839, 2.010438445, 2.274051852, 2.5071515140000002, 2.80299141, 3.094532063, 1.72121212, 1.454408898, 1.656759335, 2.646604021, 2.003193245, 2.2173203519999998, \"Cluster 2\"], [\"Yemen, Rep.\", 1.358739823, 1.644500639, 1.898410163, 2.324037809, 2.127391156, 2.2352856269999997, 2.294180651, 2.142648503, 2.1817307269999997, 1.85433054, 1.5511169759999999, 1.5216019440000002, 1.462789576, 1.5650183009999998, 1.3366978040000002, 1.299130895, 1.3504469030000001, 1.5716278190000001, 1.410009971, 1.271870986, \"Cluster 2\"], [\"India\", 1.051510963, 1.006714181, 1.072536175, 1.104334395, 1.130458988, 1.1124430090000001, 1.0779961820000001, 1.025761987, 0.984930506, 1.022681766, 1.1342577, 1.110610623, 1.099600724, 1.162740942, 1.2209710809999998, 1.161015809, 1.175376637, 1.183872748, 1.2868865840000001, 1.4072376180000001, \"Cluster 2\"], [\"Indonesia\", 0.708979047, 0.726782129, 0.676852206, 0.7080650270000001, 0.772645557, 0.72468259, 0.963565797, 0.884272738, 1.015301176, 0.9348711359999999, 0.803211001, 0.912583094, 1.126425894, 1.005797618, 1.019549421, 1.03300414, 1.028914047, 1.147736521, 1.153628987, 1.0755363009999999, \"Cluster 2\"], [\"Iran, Islamic Rep.\", 1.6760716930000001, 1.725678443, 1.942216566, 2.137651028, 1.86003165, 1.8631224999999998, 2.194736416, 2.189274716, 2.348239338, 2.23931692, 2.333458198, 2.568090196, 2.4239648469999997, 2.437820381, 2.879141091, 2.684682081, 2.4790332630000003, 2.687600161, 2.7340401539999997, 2.840802145, \"Cluster 2\"], [\"Jamaica\", 2.224280687, 2.859074529, 3.354873879, 3.383751914, 2.711113592, 3.220452714, 2.449632293, 2.787349228, 2.304267888, 2.723855098, 1.9858449269999998, 2.3102109090000003, 2.5349200819999997, 2.893671205, 2.8937382119999997, 2.99010608, 2.7952228110000004, 3.273760445, 3.380134876, 2.8085780330000003, \"Cluster 2\"], [\"Kazakhstan\", 2.953489978, 2.759064102, 3.0026158069999997, 3.092985258, 2.296107627, 2.1193106530000003, 1.965795165, 1.933120902, 2.014321414, 2.294666524, 2.521541794, 2.3057194, 1.784132566, 2.262578318, 2.651119229, 2.527218011, 2.271552738, 2.40821469, 2.18920504, 2.3679030869999997, \"Cluster 2\"], [\"Kenya\", 1.969355371, 1.662980154, 1.599507906, 1.994903268, 1.67225462, 2.166725101, 2.067304171, 1.9431644419999998, 1.9281390840000001, 1.7957208980000001, 1.845407496, 1.624314663, 1.596858528, 1.40330995, 1.641624369, 1.418735549, 2.623533409, 3.3229374480000002, 3.3464041819999997, 3.5038660580000003, \"Cluster 2\"], [\"Korea, Rep.\", 1.37837002, 1.567106233, 1.661384573, 1.896960077, 2.0360782019999997, 2.069427846, 2.6287877219999998, 2.496197951, 2.567924451, 2.604738563, 2.8184627260000004, 3.145604415, 3.279317912, 3.364369569, 3.756141758, 3.855133327, 3.8213452130000003, 3.851691628, 3.909878493, 3.985248041, \"Cluster 2\"], [\"Kuwait\", 3.0793817160000003, 2.75312334, 2.9512544810000003, 3.5051093939999998, 2.9118429619999997, 1.9074589430000002, 2.938514016, 2.8451164789999996, 2.591638049, 2.197676413, 1.8984359730000002, 1.826202921, 1.678892606, 1.511862693, 3.3709338939999998, 2.334489191, 2.255683318, 2.187222399, 2.1656254280000002, 2.614422533, \"Cluster 2\"], [\"Kyrgyz Republic\", 3.0586966139999996, 2.518306598, 2.561680082, 2.5370569880000002, 2.251547927, 2.0709018009999998, 1.96892384, 2.149216502, 2.056844, 2.275178259, 2.38059842, 3.276997235, 3.530000425, 3.1283246069999997, 3.785352567, 3.71014072, 3.701089568, 4.197243855, 3.8799367869999997, 3.639437553, \"Cluster 2\"], [\"Lao PDR\", 2.179347721, 1.827522348, 2.07175976, 1.8517304780000001, 1.111702922, 1.13056391, 1.177790717, 1.0828706259999998, 1.2709968, 0.801898709, 0.7346070859999999, 1.1470211890000002, 1.029730057, 1.001469523, 1.8583031069999998, 1.278180688, 0.835809612, 0.79224628, 0.964872836, 0.942733752, \"Cluster 2\"], [\"Libya\", 1.5145279969999998, 1.662741707, 1.7901981919999999, 1.884513389, 1.6503777830000002, 1.6598308590000002, 2.210293692, 3.056726273, 2.692002637, 2.276618671, 1.7491174269999998, 1.640166807, 1.748097339, 1.382407555, 2.178180015, 2.136789648, 3.019999999, 3.019999999, 3.019999999, 3.6540791589999997, \"Cluster 2\"], [\"Madagascar\", 1.4415262030000002, 1.9149721119999998, 2.14802212, 1.96133518, 2.0399136369999997, 2.573304228, 2.808515662, 2.7432138360000002, 2.260174188, 2.43699522, 2.621449986, 2.817711615, 2.7398218389999998, 2.41891842, 2.408212919, 2.606558609, 2.4358722790000003, 1.8161052969999998, 2.560444941, 1.473414605, \"Cluster 2\"], [\"Malaysia\", 1.673580101, 1.693100127, 1.503468834, 1.6234893730000002, 1.682393231, 1.6935325469999998, 1.990382325, 1.95887394, 2.362041422, 2.118040539, 1.69082761, 2.011816692, 1.961867672, 1.936706363, 2.336639744, 2.2862965859999997, 2.135913733, 2.21523329, 2.2031471540000003, 2.300290016, \"Cluster 2\"], [\"Mali\", 2.627422294, 2.9937876169999997, 2.478276148, 2.136752933, 1.819396693, 2.069921322, 2.872448632, 2.538877445, 2.757198984, 3.091886553, 3.0385294910000002, 3.164633564, 3.3665769610000003, 3.1356973139999997, 3.148995784, 2.807459661, 3.0152463110000003, 2.250262582, 1.134273081, 1.568172106, \"Cluster 2\"], [\"China\", 1.780381954, 1.763716129, 1.7806565580000002, 1.8120753459999999, 1.8349422359999998, 1.7598434680000001, 1.621284224, 1.7146722380000001, 1.746529994, 1.793429835, 1.805920306, 1.83853832, 2.026592106, 2.292123452, 2.664482629, 2.653820098, 2.8106526560000002, 2.945813766, 3.005601408, 3.095174286, \"Cluster 2\"], [\"Guinea-Bissau\", 1.59182256, 2.107388011, 2.249324138, 2.207081665, 1.458689029, 0.5159652370000001, 0.483604876, 1.29016916, 1.2961535690000001, 0.8552961729999999, 1.083538194, 1.068546513, 1.363201444, 1.1577875359999998, 1.916627082, 1.849453411, 1.0469749320000001, 1.591370587, 1.6250123669999998, 1.145122307, \"Cluster 2\"], [\"Haiti\", 2.700778316, 2.4568022959999998, 2.444218128, 2.031842786, 1.696652901, 1.679556587, 1.472578763, 1.411106475, 1.585349102, 2.029269522, 0.938494956, 1.355593535, 1.326609423, 1.355999841, 1.3726482, 1.410583252, 1.80632117, 0.980271294, 1.724541255, 1.559516418, \"Cluster 2\"], [\"Guatemala\", 1.568251834, 1.4740888109999999, 1.652352634, 1.687897756, 1.8225683169999998, 1.906287984, 2.1653825419999997, 2.126950411, 2.250780088, 2.18862221, 2.151933847, 2.389327876, 2.26818626, 2.319787972, 2.516993404, 2.375496937, 2.15314798, 2.14774653, 2.321889304, 2.334729015, \"Cluster 2\"], [\"Congo, Dem. Rep.\", 0.151469658, 0.113020059, 0.20486781199999998, 0.178185156, 0.24769671199999999, 0.044703612000000004, 0.14417975, 0.160080405, 0.700026844, 0.71835464, 0.752462162, 0.938991328, 1.209434345, 2.099872761, 2.362979061, 1.062595613, 1.255268552, 1.687173628, 1.3234417509999998, 1.59835647, \"Cluster 2\"], [\"Congo, Rep.\", 1.875942346, 1.7216115490000001, 1.9118363180000002, 2.218401855, 1.752764882, 1.222592062, 1.334532489, 1.287959153, 1.300179166, 1.369675105, 1.434608509, 1.494032765, 1.545764133, 1.238592875, 1.14114182, 1.386578972, 1.977375259, 3.149421373, 4.05731117, 4.2119208519999995, \"Cluster 2\"], [\"Cote d'Ivoire\", 1.645869281, 1.8541070080000002, 2.003289854, 1.8888131119999998, 1.799667406, 1.7880357040000001, 1.290257864, 1.40860098, 1.338333609, 1.4716744259999999, 1.269719496, 1.358403825, 1.4282131319999998, 1.528626424, 1.6968101519999998, 1.6761721680000001, 1.635696974, 1.885045493, 1.7965878830000002, 1.6785384909999999, \"Cluster 2\"], [\"Cyprus\", 1.697054395, 1.774813392, 1.948338097, 2.338116275, 2.388126932, 2.402830234, 2.449259438, 2.7545184480000002, 3.082626861, 2.813460787, 2.662677211, 2.663821238, 2.5780400130000003, 2.8508256060000003, 3.3114723930000003, 3.425307365, 3.5076350819999997, 3.4116037089999995, 3.4707913969999997, 3.332019222, \"Cluster 2\"], [\"Dominican Republic\", 1.155220766, 1.2382753, 1.48835433, 1.7989108280000001, 2.00188919, 2.192495065, 1.925895905, 2.008738541, 1.8208773669999998, 1.3886192519999998, 1.4859490469999999, 1.781605827, 1.9925087609999999, 2.051277828, 2.245560221, 2.263964847, 2.604386077, 2.7018122589999995, 2.623467358, 2.927375648, \"Cluster 2\"], [\"Ecuador\", 1.8815244230000001, 2.204202458, 1.9874813930000002, 1.400740525, 1.3751416319999998, 0.8960031829999999, 1.228463152, 1.428875973, 1.425714581, 1.4293144180000001, 1.309875442, 1.423655771, 1.5062408999999999, 1.630354665, 2.186591275, 2.4594076240000002, 2.597380991, 2.957292999, 3.858385301, 4.508156573, \"Cluster 2\"], [\"Egypt, Arab Rep.\", 1.6460250419999998, 1.620664666, 1.785539455, 1.969811265, 2.1234134, 2.246958395, 2.327558282, 2.403817061, 2.068547965, 1.985911495, 1.9850409880000002, 2.287519277, 2.0466957359999998, 2.0297271969999997, 2.058126846, 1.872592845, 1.990804136, 1.9092313269999999, 2.057468101, 2.155384501, \"Cluster 2\"], [\"Equatorial Guinea\", 3.883858135, 2.7329980910000002, 2.251245641, 3.055954265, 1.922256608, 2.166271678, 1.335525197, 1.111721515, 1.52759716, 1.3524546240000002, 0.9139821140000001, 1.4674520659999999, 1.640828358, 1.795079572, 4.461108402, 3.057171112, 2.596654331, 3.325881938, 2.961789903, 2.932710442, \"Cluster 2\"], [\"Eritrea\", 2.171974402, 1.321100351, 1.770926971, 1.85142628, 1.996568895, 1.588511165, 1.386781377, 1.6404693430000001, 1.291688995, 1.236014558, 1.095939139, 1.4704505280000002, 1.490338129, 1.9314296069999999, 1.397960224, 1.424863559, 1.40782257, 1.383976464, 1.37826626, 1.527464004, \"Cluster 2\"], [\"Ethiopia\", 1.201089905, 1.113331724, 1.308283107, 1.634136008, 1.842742815, 2.382655413, 2.230818205, 2.550281355, 2.556368908, 2.37364068, 2.580334349, 2.529405628, 2.571477099, 2.221322189, 2.421519695, 3.716736035, 3.735155728, 3.3105951260000004, 2.953637718, 2.86756675, \"Cluster 2\"], [\"Fiji\", 2.463687222, 2.643610757, 2.8924071430000002, 2.6044336130000003, 2.50533762, 3.2355711560000002, 2.628178355, 2.8544881930000003, 2.7002647580000003, 2.88766334, 2.936055816, 3.012361986, 2.7919826010000004, 2.780329042, 2.953906158, 2.9652059360000003, 2.677144195, 2.762148643, 2.902243871, 2.95320811, \"Cluster 2\"], [\"Gabon\", 1.257445299, 1.28647559, 1.192176302, 1.731343904, 1.213987698, 1.154856156, 1.285837405, 1.207290008, 1.467581307, 1.36059829, 1.114980978, 1.235086135, 1.2669780659999998, 1.076241407, 1.5480996480000002, 2.44092455, 2.103287948, 2.210201203, 2.931829623, 2.350580925, \"Cluster 2\"], [\"Gambia, The\", 1.041104569, 0.8962045120000001, 0.921290897, 1.194823096, 1.25261532, 1.234866709, 1.55374665, 1.4073568930000002, 2.1239748780000003, 2.5148502390000003, 2.8975990080000003, 3.244630936, 3.40312534, 3.527012899, 3.482328264, 3.4330868760000004, 3.735121027, 3.672212762, 4.181628453, 5.045612515, \"Cluster 2\"], [\"Georgia\", 0.267281215, 0.8742158040000001, 1.491279099, 1.195657068, 1.140527412, 1.180608888, 1.388194366, 1.400350039, 1.25729464, 1.307242467, 1.648504578, 1.7716621019999998, 1.449623425, 1.7799744119999998, 2.270258573, 2.2899291330000002, 1.7006243840000002, 1.210348913, 1.276120238, 1.552730538, \"Cluster 2\"], [\"Ghana\", 1.6228713819999998, 2.0189271019999997, 1.4356055330000002, 1.7727537830000002, 1.5933775380000001, 1.4980943409999998, 2.045003688, 1.508850229, 1.580562376, 2.399043819, 2.923944957, 3.0442281560000004, 3.729887891, 3.223054494, 3.6749633619999997, 3.829376748, 3.5755204860000003, 3.140675827, 3.242160133, 2.128885085, \"Cluster 2\"], [\"Guinea\", 1.24440635, 0.7692242340000001, 0.753971712, 0.9485828709999999, 1.0340789959999999, 1.095939452, 1.27041596, 1.313300227, 1.313311747, 0.879682253, 0.554865842, 0.66542757, 0.418226466, 0.7846244029999999, 1.346498634, 2.011768888, 1.977158975, 2.0989461769999997, 2.378242841, 2.7362447810000003, \"Cluster 2\"]], \"hoverlabel\": {\"namelength\": 0}, \"hovertemplate\": \"Cluster=%{customdata[21]}<br>Country Name=%{customdata[0]}<br>1995=%{customdata[1]}<br>1996=%{customdata[2]}<br>1997=%{customdata[3]}<br>1998=%{customdata[4]}<br>1999=%{customdata[5]}<br>2000=%{customdata[6]}<br>2001=%{customdata[7]}<br>2002=%{customdata[8]}<br>2003=%{customdata[9]}<br>2004=%{customdata[10]}<br>2005=%{customdata[11]}<br>2006=%{customdata[12]}<br>2007=%{customdata[13]}<br>2008=%{customdata[14]}<br>2009=%{customdata[15]}<br>2010=%{customdata[16]}<br>2011=%{customdata[17]}<br>2012=%{customdata[18]}<br>2013=%{customdata[19]}<br>2014=%{customdata[20]}\", \"legendgroup\": \"Cluster=Cluster 2\", \"marker\": {\"color\": \"#00cc96\"}, \"name\": \"Cluster=Cluster 2\", \"notched\": true, \"offsetgroup\": \"Cluster=Cluster 2\", \"showlegend\": false, \"type\": \"box\", \"x\": [\"Cluster 2\", \"Cluster 2\", \"Cluster 2\", \"Cluster 2\", \"Cluster 2\", \"Cluster 2\", \"Cluster 2\", \"Cluster 2\", \"Cluster 2\", \"Cluster 2\", \"Cluster 2\", \"Cluster 2\", \"Cluster 2\", \"Cluster 2\", \"Cluster 2\", \"Cluster 2\", \"Cluster 2\", \"Cluster 2\", \"Cluster 2\", \"Cluster 2\", \"Cluster 2\", \"Cluster 2\", \"Cluster 2\", \"Cluster 2\", \"Cluster 2\", \"Cluster 2\", \"Cluster 2\", \"Cluster 2\", \"Cluster 2\", \"Cluster 2\", \"Cluster 2\", \"Cluster 2\", \"Cluster 2\", \"Cluster 2\", \"Cluster 2\", \"Cluster 2\", \"Cluster 2\", \"Cluster 2\", \"Cluster 2\", \"Cluster 2\", \"Cluster 2\", \"Cluster 2\", \"Cluster 2\", \"Cluster 2\", \"Cluster 2\", \"Cluster 2\", \"Cluster 2\", \"Cluster 2\", \"Cluster 2\", \"Cluster 2\", \"Cluster 2\", \"Cluster 2\", \"Cluster 2\", \"Cluster 2\", \"Cluster 2\", \"Cluster 2\", \"Cluster 2\", \"Cluster 2\", \"Cluster 2\", \"Cluster 2\", \"Cluster 2\", \"Cluster 2\", \"Cluster 2\", \"Cluster 2\", \"Cluster 2\", \"Cluster 2\", \"Cluster 2\", \"Cluster 2\", \"Cluster 2\", \"Cluster 2\", \"Cluster 2\", \"Cluster 2\", \"Cluster 2\", \"Cluster 2\", \"Cluster 2\", \"Cluster 2\", \"Cluster 2\", \"Cluster 2\", \"Cluster 2\", \"Cluster 2\", \"Cluster 2\", \"Cluster 2\", \"Cluster 2\", \"Cluster 2\", \"Cluster 2\", \"Cluster 2\", \"Cluster 2\", \"Cluster 2\", \"Cluster 2\", \"Cluster 2\", \"Cluster 2\", \"Cluster 2\", \"Cluster 2\", \"Cluster 2\", \"Cluster 2\", \"Cluster 2\", \"Cluster 2\", \"Cluster 2\", \"Cluster 2\", \"Cluster 2\", \"Cluster 2\", \"Cluster 2\", \"Cluster 2\", \"Cluster 2\", \"Cluster 2\", \"Cluster 2\", \"Cluster 2\", \"Cluster 2\", \"Cluster 2\"], \"xaxis\": \"x2\", \"yaxis\": \"y2\"}, {\"alignmentgroup\": \"True\", \"bingroup\": \"x\", \"hoverlabel\": {\"namelength\": 0}, \"hovertemplate\": \"Cluster=%{x}<br>count=%{y}\", \"legendgroup\": \"Cluster=Cluster 3\", \"marker\": {\"color\": \"#ab63fa\", \"opacity\": 0.7}, \"name\": \"Cluster=Cluster 3\", \"offsetgroup\": \"Cluster=Cluster 3\", \"orientation\": \"v\", \"showlegend\": true, \"type\": \"histogram\", \"x\": [\"Cluster 3\", \"Cluster 3\", \"Cluster 3\"], \"xaxis\": \"x\", \"yaxis\": \"y\"}, {\"alignmentgroup\": \"True\", \"customdata\": [[\"Nauru\", 12.33493098, 11.59428355, 11.82601857, 12.56498453, 12.337983900000001, 12.54768588, 13.31280697, 14.53541812, 13.45467078, 10.64962726, 11.61777519, 12.57633671, 18.10282404, 15.60670301, 8.727534152, 8.454551816, 7.110556956, 6.523965614, 4.192163552, 2.8676663239999995, \"Cluster 3\"], [\"Tuvalu\", 7.960185727000001, 11.27466332, 8.08774651, 8.614014716, 9.221982956, 15.66666666, 17.26923077, 14.386206900000001, 21.65409429, 16.74897207, 18.23437732, 19.25675216, 16.85609763, 13.26834375, 12.69334417, 16.62857143, 16.84210527, 13.64102565, 16.475, 16.40476191, \"Cluster 3\"], [\"Marshall Islands\", 28.04978525, 16.67889286, 17.16813342, 15.64522955, 15.42742281, 19.24043333, 16.07197043, 14.8351456, 14.21128802, 15.09092986, 14.67971014, 17.05555555, 17.592, 16.48169934, 16.02894737, 14.39817073, 14.271676300000001, 13.90652174, 14.551897899999998, 14.44916839, \"Cluster 3\"]], \"hoverlabel\": {\"namelength\": 0}, \"hovertemplate\": \"Cluster=%{customdata[21]}<br>Country Name=%{customdata[0]}<br>1995=%{customdata[1]}<br>1996=%{customdata[2]}<br>1997=%{customdata[3]}<br>1998=%{customdata[4]}<br>1999=%{customdata[5]}<br>2000=%{customdata[6]}<br>2001=%{customdata[7]}<br>2002=%{customdata[8]}<br>2003=%{customdata[9]}<br>2004=%{customdata[10]}<br>2005=%{customdata[11]}<br>2006=%{customdata[12]}<br>2007=%{customdata[13]}<br>2008=%{customdata[14]}<br>2009=%{customdata[15]}<br>2010=%{customdata[16]}<br>2011=%{customdata[17]}<br>2012=%{customdata[18]}<br>2013=%{customdata[19]}<br>2014=%{customdata[20]}\", \"legendgroup\": \"Cluster=Cluster 3\", \"marker\": {\"color\": \"#ab63fa\"}, \"name\": \"Cluster=Cluster 3\", \"notched\": true, \"offsetgroup\": \"Cluster=Cluster 3\", \"showlegend\": false, \"type\": \"box\", \"x\": [\"Cluster 3\", \"Cluster 3\", \"Cluster 3\"], \"xaxis\": \"x2\", \"yaxis\": \"y2\"}],\n",
       "                        {\"barmode\": \"relative\", \"legend\": {\"tracegroupgap\": 0}, \"margin\": {\"t\": 60}, \"template\": {\"data\": {\"bar\": [{\"error_x\": {\"color\": \"#2a3f5f\"}, \"error_y\": {\"color\": \"#2a3f5f\"}, \"marker\": {\"line\": {\"color\": \"#E5ECF6\", \"width\": 0.5}}, \"type\": \"bar\"}], \"barpolar\": [{\"marker\": {\"line\": {\"color\": \"#E5ECF6\", \"width\": 0.5}}, \"type\": \"barpolar\"}], \"carpet\": [{\"aaxis\": {\"endlinecolor\": \"#2a3f5f\", \"gridcolor\": \"white\", \"linecolor\": \"white\", \"minorgridcolor\": \"white\", \"startlinecolor\": \"#2a3f5f\"}, \"baxis\": {\"endlinecolor\": \"#2a3f5f\", \"gridcolor\": \"white\", \"linecolor\": \"white\", \"minorgridcolor\": \"white\", \"startlinecolor\": \"#2a3f5f\"}, \"type\": \"carpet\"}], \"choropleth\": [{\"colorbar\": {\"outlinewidth\": 0, \"ticks\": \"\"}, \"type\": \"choropleth\"}], \"contour\": [{\"colorbar\": {\"outlinewidth\": 0, \"ticks\": \"\"}, \"colorscale\": [[0.0, \"#0d0887\"], [0.1111111111111111, \"#46039f\"], [0.2222222222222222, \"#7201a8\"], [0.3333333333333333, \"#9c179e\"], [0.4444444444444444, \"#bd3786\"], [0.5555555555555556, \"#d8576b\"], [0.6666666666666666, \"#ed7953\"], [0.7777777777777778, \"#fb9f3a\"], [0.8888888888888888, \"#fdca26\"], [1.0, \"#f0f921\"]], \"type\": \"contour\"}], \"contourcarpet\": [{\"colorbar\": {\"outlinewidth\": 0, \"ticks\": \"\"}, \"type\": \"contourcarpet\"}], \"heatmap\": [{\"colorbar\": {\"outlinewidth\": 0, \"ticks\": \"\"}, \"colorscale\": [[0.0, \"#0d0887\"], [0.1111111111111111, \"#46039f\"], [0.2222222222222222, \"#7201a8\"], [0.3333333333333333, \"#9c179e\"], [0.4444444444444444, \"#bd3786\"], [0.5555555555555556, \"#d8576b\"], [0.6666666666666666, \"#ed7953\"], [0.7777777777777778, \"#fb9f3a\"], [0.8888888888888888, \"#fdca26\"], [1.0, \"#f0f921\"]], \"type\": \"heatmap\"}], \"heatmapgl\": [{\"colorbar\": {\"outlinewidth\": 0, \"ticks\": \"\"}, \"colorscale\": [[0.0, \"#0d0887\"], [0.1111111111111111, \"#46039f\"], [0.2222222222222222, \"#7201a8\"], [0.3333333333333333, \"#9c179e\"], [0.4444444444444444, \"#bd3786\"], [0.5555555555555556, \"#d8576b\"], [0.6666666666666666, \"#ed7953\"], [0.7777777777777778, \"#fb9f3a\"], [0.8888888888888888, \"#fdca26\"], [1.0, \"#f0f921\"]], \"type\": \"heatmapgl\"}], \"histogram\": [{\"marker\": {\"colorbar\": {\"outlinewidth\": 0, \"ticks\": \"\"}}, \"type\": \"histogram\"}], \"histogram2d\": [{\"colorbar\": {\"outlinewidth\": 0, \"ticks\": \"\"}, \"colorscale\": [[0.0, \"#0d0887\"], [0.1111111111111111, \"#46039f\"], [0.2222222222222222, \"#7201a8\"], [0.3333333333333333, \"#9c179e\"], [0.4444444444444444, \"#bd3786\"], [0.5555555555555556, \"#d8576b\"], [0.6666666666666666, \"#ed7953\"], [0.7777777777777778, \"#fb9f3a\"], [0.8888888888888888, \"#fdca26\"], [1.0, \"#f0f921\"]], \"type\": \"histogram2d\"}], \"histogram2dcontour\": [{\"colorbar\": {\"outlinewidth\": 0, \"ticks\": \"\"}, \"colorscale\": [[0.0, \"#0d0887\"], [0.1111111111111111, \"#46039f\"], [0.2222222222222222, \"#7201a8\"], [0.3333333333333333, \"#9c179e\"], [0.4444444444444444, \"#bd3786\"], [0.5555555555555556, \"#d8576b\"], [0.6666666666666666, \"#ed7953\"], [0.7777777777777778, \"#fb9f3a\"], [0.8888888888888888, \"#fdca26\"], [1.0, \"#f0f921\"]], \"type\": \"histogram2dcontour\"}], \"mesh3d\": [{\"colorbar\": {\"outlinewidth\": 0, \"ticks\": \"\"}, \"type\": \"mesh3d\"}], \"parcoords\": [{\"line\": {\"colorbar\": {\"outlinewidth\": 0, \"ticks\": \"\"}}, \"type\": \"parcoords\"}], \"pie\": [{\"automargin\": true, \"type\": \"pie\"}], \"scatter\": [{\"marker\": {\"colorbar\": {\"outlinewidth\": 0, \"ticks\": \"\"}}, \"type\": \"scatter\"}], \"scatter3d\": [{\"line\": {\"colorbar\": {\"outlinewidth\": 0, \"ticks\": \"\"}}, \"marker\": {\"colorbar\": {\"outlinewidth\": 0, \"ticks\": \"\"}}, \"type\": \"scatter3d\"}], \"scattercarpet\": [{\"marker\": {\"colorbar\": {\"outlinewidth\": 0, \"ticks\": \"\"}}, \"type\": \"scattercarpet\"}], \"scattergeo\": [{\"marker\": {\"colorbar\": {\"outlinewidth\": 0, \"ticks\": \"\"}}, \"type\": \"scattergeo\"}], \"scattergl\": [{\"marker\": {\"colorbar\": {\"outlinewidth\": 0, \"ticks\": \"\"}}, \"type\": \"scattergl\"}], \"scattermapbox\": [{\"marker\": {\"colorbar\": {\"outlinewidth\": 0, \"ticks\": \"\"}}, \"type\": \"scattermapbox\"}], \"scatterpolar\": [{\"marker\": {\"colorbar\": {\"outlinewidth\": 0, \"ticks\": \"\"}}, \"type\": \"scatterpolar\"}], \"scatterpolargl\": [{\"marker\": {\"colorbar\": {\"outlinewidth\": 0, \"ticks\": \"\"}}, \"type\": \"scatterpolargl\"}], \"scatterternary\": [{\"marker\": {\"colorbar\": {\"outlinewidth\": 0, \"ticks\": \"\"}}, \"type\": \"scatterternary\"}], \"surface\": [{\"colorbar\": {\"outlinewidth\": 0, \"ticks\": \"\"}, \"colorscale\": [[0.0, \"#0d0887\"], [0.1111111111111111, \"#46039f\"], [0.2222222222222222, \"#7201a8\"], [0.3333333333333333, \"#9c179e\"], [0.4444444444444444, \"#bd3786\"], [0.5555555555555556, \"#d8576b\"], [0.6666666666666666, \"#ed7953\"], [0.7777777777777778, \"#fb9f3a\"], [0.8888888888888888, \"#fdca26\"], [1.0, \"#f0f921\"]], \"type\": \"surface\"}], \"table\": [{\"cells\": {\"fill\": {\"color\": \"#EBF0F8\"}, \"line\": {\"color\": \"white\"}}, \"header\": {\"fill\": {\"color\": \"#C8D4E3\"}, \"line\": {\"color\": \"white\"}}, \"type\": \"table\"}]}, \"layout\": {\"annotationdefaults\": {\"arrowcolor\": \"#2a3f5f\", \"arrowhead\": 0, \"arrowwidth\": 1}, \"coloraxis\": {\"colorbar\": {\"outlinewidth\": 0, \"ticks\": \"\"}}, \"colorscale\": {\"diverging\": [[0, \"#8e0152\"], [0.1, \"#c51b7d\"], [0.2, \"#de77ae\"], [0.3, \"#f1b6da\"], [0.4, \"#fde0ef\"], [0.5, \"#f7f7f7\"], [0.6, \"#e6f5d0\"], [0.7, \"#b8e186\"], [0.8, \"#7fbc41\"], [0.9, \"#4d9221\"], [1, \"#276419\"]], \"sequential\": [[0.0, \"#0d0887\"], [0.1111111111111111, \"#46039f\"], [0.2222222222222222, \"#7201a8\"], [0.3333333333333333, \"#9c179e\"], [0.4444444444444444, \"#bd3786\"], [0.5555555555555556, \"#d8576b\"], [0.6666666666666666, \"#ed7953\"], [0.7777777777777778, \"#fb9f3a\"], [0.8888888888888888, \"#fdca26\"], [1.0, \"#f0f921\"]], \"sequentialminus\": [[0.0, \"#0d0887\"], [0.1111111111111111, \"#46039f\"], [0.2222222222222222, \"#7201a8\"], [0.3333333333333333, \"#9c179e\"], [0.4444444444444444, \"#bd3786\"], [0.5555555555555556, \"#d8576b\"], [0.6666666666666666, \"#ed7953\"], [0.7777777777777778, \"#fb9f3a\"], [0.8888888888888888, \"#fdca26\"], [1.0, \"#f0f921\"]]}, \"colorway\": [\"#636efa\", \"#EF553B\", \"#00cc96\", \"#ab63fa\", \"#FFA15A\", \"#19d3f3\", \"#FF6692\", \"#B6E880\", \"#FF97FF\", \"#FECB52\"], \"font\": {\"color\": \"#2a3f5f\"}, \"geo\": {\"bgcolor\": \"white\", \"lakecolor\": \"white\", \"landcolor\": \"#E5ECF6\", \"showlakes\": true, \"showland\": true, \"subunitcolor\": \"white\"}, \"hoverlabel\": {\"align\": \"left\"}, \"hovermode\": \"closest\", \"mapbox\": {\"style\": \"light\"}, \"paper_bgcolor\": \"white\", \"plot_bgcolor\": \"#E5ECF6\", \"polar\": {\"angularaxis\": {\"gridcolor\": \"white\", \"linecolor\": \"white\", \"ticks\": \"\"}, \"bgcolor\": \"#E5ECF6\", \"radialaxis\": {\"gridcolor\": \"white\", \"linecolor\": \"white\", \"ticks\": \"\"}}, \"scene\": {\"xaxis\": {\"backgroundcolor\": \"#E5ECF6\", \"gridcolor\": \"white\", \"gridwidth\": 2, \"linecolor\": \"white\", \"showbackground\": true, \"ticks\": \"\", \"zerolinecolor\": \"white\"}, \"yaxis\": {\"backgroundcolor\": \"#E5ECF6\", \"gridcolor\": \"white\", \"gridwidth\": 2, \"linecolor\": \"white\", \"showbackground\": true, \"ticks\": \"\", \"zerolinecolor\": \"white\"}, \"zaxis\": {\"backgroundcolor\": \"#E5ECF6\", \"gridcolor\": \"white\", \"gridwidth\": 2, \"linecolor\": \"white\", \"showbackground\": true, \"ticks\": \"\", \"zerolinecolor\": \"white\"}}, \"shapedefaults\": {\"line\": {\"color\": \"#2a3f5f\"}}, \"ternary\": {\"aaxis\": {\"gridcolor\": \"white\", \"linecolor\": \"white\", \"ticks\": \"\"}, \"baxis\": {\"gridcolor\": \"white\", \"linecolor\": \"white\", \"ticks\": \"\"}, \"bgcolor\": \"#E5ECF6\", \"caxis\": {\"gridcolor\": \"white\", \"linecolor\": \"white\", \"ticks\": \"\"}}, \"title\": {\"x\": 0.05}, \"xaxis\": {\"automargin\": true, \"gridcolor\": \"white\", \"linecolor\": \"white\", \"ticks\": \"\", \"title\": {\"standoff\": 15}, \"zerolinecolor\": \"white\", \"zerolinewidth\": 2}, \"yaxis\": {\"automargin\": true, \"gridcolor\": \"white\", \"linecolor\": \"white\", \"ticks\": \"\", \"title\": {\"standoff\": 15}, \"zerolinecolor\": \"white\", \"zerolinewidth\": 2}}}, \"xaxis\": {\"anchor\": \"y\", \"categoryarray\": [\"Cluster 0\", \"Cluster 1\", \"Cluster 2\", \"Cluster 3\"], \"categoryorder\": \"array\", \"domain\": [0.0, 1.0], \"title\": {\"text\": \"Cluster\"}}, \"xaxis2\": {\"anchor\": \"y2\", \"domain\": [0.0, 1.0], \"matches\": \"x\", \"showgrid\": true, \"showticklabels\": false}, \"yaxis\": {\"anchor\": \"x\", \"domain\": [0.0, 0.7326], \"title\": {\"text\": \"count\"}}, \"yaxis2\": {\"anchor\": \"x2\", \"domain\": [0.7426, 1.0], \"matches\": \"y2\", \"showgrid\": false, \"showline\": false, \"showticklabels\": false, \"ticks\": \"\"}},\n",
       "                        {\"responsive\": true}\n",
       "                    ).then(function(){\n",
       "                            \n",
       "var gd = document.getElementById('03bf0c09-50b4-4af8-9d78-a2bdb3c93fe3');\n",
       "var x = new MutationObserver(function (mutations, observer) {{\n",
       "        var display = window.getComputedStyle(gd).display;\n",
       "        if (!display || display === 'none') {{\n",
       "            console.log([gd, 'removed!']);\n",
       "            Plotly.purge(gd);\n",
       "            observer.disconnect();\n",
       "        }}\n",
       "}});\n",
       "\n",
       "// Listen for the removal of the full notebook cells\n",
       "var notebookContainer = gd.closest('#notebook-container');\n",
       "if (notebookContainer) {{\n",
       "    x.observe(notebookContainer, {childList: true});\n",
       "}}\n",
       "\n",
       "// Listen for the clearing of the current output cell\n",
       "var outputEl = gd.closest('.output');\n",
       "if (outputEl) {{\n",
       "    x.observe(outputEl, {childList: true});\n",
       "}}\n",
       "\n",
       "                        })\n",
       "                };\n",
       "                });\n",
       "            </script>\n",
       "        </div>"
      ]
     },
     "metadata": {},
     "output_type": "display_data"
    }
   ],
   "source": [
    "plot_model(kmeans, plot = 'distribution')"
   ]
  },
  {
   "cell_type": "markdown",
   "metadata": {},
   "source": [
    "# 6. Predict Model"
   ]
  },
  {
   "cell_type": "code",
   "execution_count": 15,
   "metadata": {},
   "outputs": [
    {
     "data": {
      "text/html": [
       "<div>\n",
       "<style scoped>\n",
       "    .dataframe tbody tr th:only-of-type {\n",
       "        vertical-align: middle;\n",
       "    }\n",
       "\n",
       "    .dataframe tbody tr th {\n",
       "        vertical-align: top;\n",
       "    }\n",
       "\n",
       "    .dataframe thead th {\n",
       "        text-align: right;\n",
       "    }\n",
       "</style>\n",
       "<table border=\"1\" class=\"dataframe\">\n",
       "  <thead>\n",
       "    <tr style=\"text-align: right;\">\n",
       "      <th></th>\n",
       "      <th>Country Name</th>\n",
       "      <th>1995</th>\n",
       "      <th>1996</th>\n",
       "      <th>1997</th>\n",
       "      <th>1998</th>\n",
       "      <th>1999</th>\n",
       "      <th>2000</th>\n",
       "      <th>2001</th>\n",
       "      <th>2002</th>\n",
       "      <th>2003</th>\n",
       "      <th>...</th>\n",
       "      <th>2006</th>\n",
       "      <th>2007</th>\n",
       "      <th>2008</th>\n",
       "      <th>2009</th>\n",
       "      <th>2010</th>\n",
       "      <th>2011</th>\n",
       "      <th>2012</th>\n",
       "      <th>2013</th>\n",
       "      <th>2014</th>\n",
       "      <th>Cluster</th>\n",
       "    </tr>\n",
       "  </thead>\n",
       "  <tbody>\n",
       "    <tr>\n",
       "      <th>0</th>\n",
       "      <td>Arab World</td>\n",
       "      <td>2.004868</td>\n",
       "      <td>2.014602</td>\n",
       "      <td>2.071309</td>\n",
       "      <td>2.177712</td>\n",
       "      <td>2.331000</td>\n",
       "      <td>2.333596</td>\n",
       "      <td>2.588751</td>\n",
       "      <td>2.540238</td>\n",
       "      <td>2.450415</td>\n",
       "      <td>...</td>\n",
       "      <td>2.133038</td>\n",
       "      <td>2.166872</td>\n",
       "      <td>2.101233</td>\n",
       "      <td>2.830067</td>\n",
       "      <td>2.489631</td>\n",
       "      <td>2.539570</td>\n",
       "      <td>2.711262</td>\n",
       "      <td>2.895427</td>\n",
       "      <td>3.073161</td>\n",
       "      <td>Cluster 2</td>\n",
       "    </tr>\n",
       "    <tr>\n",
       "      <th>1</th>\n",
       "      <td>Caribbean small states</td>\n",
       "      <td>2.801518</td>\n",
       "      <td>2.856684</td>\n",
       "      <td>2.997157</td>\n",
       "      <td>2.989451</td>\n",
       "      <td>2.767858</td>\n",
       "      <td>2.826752</td>\n",
       "      <td>2.679969</td>\n",
       "      <td>2.888693</td>\n",
       "      <td>2.740593</td>\n",
       "      <td>...</td>\n",
       "      <td>2.650900</td>\n",
       "      <td>2.790665</td>\n",
       "      <td>2.822913</td>\n",
       "      <td>3.408651</td>\n",
       "      <td>3.264064</td>\n",
       "      <td>3.087653</td>\n",
       "      <td>3.314303</td>\n",
       "      <td>3.318432</td>\n",
       "      <td>3.260012</td>\n",
       "      <td>Cluster 2</td>\n",
       "    </tr>\n",
       "    <tr>\n",
       "      <th>2</th>\n",
       "      <td>Central Europe and the Baltics</td>\n",
       "      <td>4.678528</td>\n",
       "      <td>4.753209</td>\n",
       "      <td>4.604574</td>\n",
       "      <td>4.499988</td>\n",
       "      <td>4.679082</td>\n",
       "      <td>4.539711</td>\n",
       "      <td>4.666272</td>\n",
       "      <td>4.900196</td>\n",
       "      <td>5.100249</td>\n",
       "      <td>...</td>\n",
       "      <td>4.841450</td>\n",
       "      <td>4.809057</td>\n",
       "      <td>5.054785</td>\n",
       "      <td>5.394921</td>\n",
       "      <td>5.284380</td>\n",
       "      <td>5.096212</td>\n",
       "      <td>5.041317</td>\n",
       "      <td>5.029266</td>\n",
       "      <td>5.017717</td>\n",
       "      <td>Cluster 0</td>\n",
       "    </tr>\n",
       "    <tr>\n",
       "      <th>3</th>\n",
       "      <td>Early-demographic dividend</td>\n",
       "      <td>2.203164</td>\n",
       "      <td>2.156632</td>\n",
       "      <td>2.227311</td>\n",
       "      <td>2.364100</td>\n",
       "      <td>2.454394</td>\n",
       "      <td>2.450555</td>\n",
       "      <td>2.527081</td>\n",
       "      <td>2.347702</td>\n",
       "      <td>2.363263</td>\n",
       "      <td>...</td>\n",
       "      <td>2.369884</td>\n",
       "      <td>2.385251</td>\n",
       "      <td>2.405126</td>\n",
       "      <td>2.701260</td>\n",
       "      <td>2.507131</td>\n",
       "      <td>2.495491</td>\n",
       "      <td>2.497340</td>\n",
       "      <td>2.586701</td>\n",
       "      <td>2.665603</td>\n",
       "      <td>Cluster 2</td>\n",
       "    </tr>\n",
       "    <tr>\n",
       "      <th>4</th>\n",
       "      <td>East Asia &amp; Pacific</td>\n",
       "      <td>4.429090</td>\n",
       "      <td>4.203152</td>\n",
       "      <td>4.244351</td>\n",
       "      <td>4.453984</td>\n",
       "      <td>4.626920</td>\n",
       "      <td>4.688849</td>\n",
       "      <td>4.684790</td>\n",
       "      <td>4.613537</td>\n",
       "      <td>4.635098</td>\n",
       "      <td>...</td>\n",
       "      <td>4.367146</td>\n",
       "      <td>4.297394</td>\n",
       "      <td>4.434848</td>\n",
       "      <td>4.865241</td>\n",
       "      <td>4.775817</td>\n",
       "      <td>4.871727</td>\n",
       "      <td>4.866869</td>\n",
       "      <td>4.643221</td>\n",
       "      <td>4.571448</td>\n",
       "      <td>Cluster 0</td>\n",
       "    </tr>\n",
       "  </tbody>\n",
       "</table>\n",
       "<p>5 rows × 22 columns</p>\n",
       "</div>"
      ],
      "text/plain": [
       "                     Country Name      1995      1996      1997      1998  \\\n",
       "0                      Arab World  2.004868  2.014602  2.071309  2.177712   \n",
       "1          Caribbean small states  2.801518  2.856684  2.997157  2.989451   \n",
       "2  Central Europe and the Baltics  4.678528  4.753209  4.604574  4.499988   \n",
       "3      Early-demographic dividend  2.203164  2.156632  2.227311  2.364100   \n",
       "4             East Asia & Pacific  4.429090  4.203152  4.244351  4.453984   \n",
       "\n",
       "       1999      2000      2001      2002      2003  ...      2006      2007  \\\n",
       "0  2.331000  2.333596  2.588751  2.540238  2.450415  ...  2.133038  2.166872   \n",
       "1  2.767858  2.826752  2.679969  2.888693  2.740593  ...  2.650900  2.790665   \n",
       "2  4.679082  4.539711  4.666272  4.900196  5.100249  ...  4.841450  4.809057   \n",
       "3  2.454394  2.450555  2.527081  2.347702  2.363263  ...  2.369884  2.385251   \n",
       "4  4.626920  4.688849  4.684790  4.613537  4.635098  ...  4.367146  4.297394   \n",
       "\n",
       "       2008      2009      2010      2011      2012      2013      2014  \\\n",
       "0  2.101233  2.830067  2.489631  2.539570  2.711262  2.895427  3.073161   \n",
       "1  2.822913  3.408651  3.264064  3.087653  3.314303  3.318432  3.260012   \n",
       "2  5.054785  5.394921  5.284380  5.096212  5.041317  5.029266  5.017717   \n",
       "3  2.405126  2.701260  2.507131  2.495491  2.497340  2.586701  2.665603   \n",
       "4  4.434848  4.865241  4.775817  4.871727  4.866869  4.643221  4.571448   \n",
       "\n",
       "     Cluster  \n",
       "0  Cluster 2  \n",
       "1  Cluster 2  \n",
       "2  Cluster 0  \n",
       "3  Cluster 2  \n",
       "4  Cluster 0  \n",
       "\n",
       "[5 rows x 22 columns]"
      ]
     },
     "execution_count": 15,
     "metadata": {},
     "output_type": "execute_result"
    }
   ],
   "source": [
    "pred_new = predict_model(kmeans, data=data)\n",
    "pred_new.head()"
   ]
  },
  {
   "cell_type": "markdown",
   "metadata": {},
   "source": [
    "# 7. Save / Load Model"
   ]
  },
  {
   "cell_type": "code",
   "execution_count": 16,
   "metadata": {},
   "outputs": [
    {
     "name": "stdout",
     "output_type": "stream",
     "text": [
      "Transformation Pipeline and Model Succesfully Saved\n"
     ]
    }
   ],
   "source": [
    "save_model(kmeans, model_name='kmeans')"
   ]
  },
  {
   "cell_type": "code",
   "execution_count": 17,
   "metadata": {},
   "outputs": [
    {
     "name": "stdout",
     "output_type": "stream",
     "text": [
      "Transformation Pipeline and Model Sucessfully Loaded\n",
      "[Pipeline(memory=None,\n",
      "         steps=[('dtypes',\n",
      "                 DataTypes_Auto_infer(categorical_features=[],\n",
      "                                      display_types=True,\n",
      "                                      features_todrop=['Country Name'],\n",
      "                                      ml_usecase='regression',\n",
      "                                      numerical_features=[],\n",
      "                                      target='dummy_target',\n",
      "                                      time_features=[])),\n",
      "                ('imputer',\n",
      "                 Simple_Imputer(categorical_strategy='not_available',\n",
      "                                numeric_strategy='mean',\n",
      "                                target_variable=None)),\n",
      "                ('new_levels1',\n",
      "                 New_...\n",
      "                                                    target='dummy_target')),\n",
      "                ('feature_time',\n",
      "                 Make_Time_Features(list_of_features=None, time_feature=[])),\n",
      "                ('group', Empty()), ('scaling', Empty()),\n",
      "                ('P_transform', Empty()), ('binn', Empty()),\n",
      "                ('fix_perfect', Empty()), ('rem_outliers', Empty()),\n",
      "                ('dummy', Dummify(target='dummy_target')),\n",
      "                ('clean_names', Clean_Colum_Names()), ('fix_multi', Empty()),\n",
      "                ('pca', Empty())],\n",
      "         verbose=False), KMeans(algorithm='auto', copy_x=True, init='k-means++', max_iter=300,\n",
      "       n_clusters=4, n_init=10, n_jobs=-1, precompute_distances='deprecated',\n",
      "       random_state=123, tol=0.0001, verbose=0)]\n"
     ]
    }
   ],
   "source": [
    "loaded_kmeans = load_model('kmeans')\n",
    "print(loaded_kmeans)"
   ]
  },
  {
   "cell_type": "code",
   "execution_count": 24,
   "metadata": {},
   "outputs": [
    {
     "data": {
      "text/html": [
       "<style>div.sk-top-container {color: black;background-color: white;}div.sk-toggleable {background-color: white;}label.sk-toggleable__label {cursor: pointer;display: block;width: 100%;margin-bottom: 0;padding: 0.2em 0.3em;box-sizing: border-box;text-align: center;}div.sk-toggleable__content {max-height: 0;max-width: 0;overflow: hidden;text-align: left;background-color: #f0f8ff;}div.sk-toggleable__content pre {margin: 0.2em;color: black;border-radius: 0.25em;background-color: #f0f8ff;}input.sk-toggleable__control:checked~div.sk-toggleable__content {max-height: 200px;max-width: 100%;overflow: auto;}div.sk-estimator input.sk-toggleable__control:checked~label.sk-toggleable__label {background-color: #d4ebff;}div.sk-label input.sk-toggleable__control:checked~label.sk-toggleable__label {background-color: #d4ebff;}input.sk-hidden--visually {border: 0;clip: rect(1px 1px 1px 1px);clip: rect(1px, 1px, 1px, 1px);height: 1px;margin: -1px;overflow: hidden;padding: 0;position: absolute;width: 1px;}div.sk-estimator {font-family: monospace;background-color: #f0f8ff;margin: 0.25em 0.25em;border: 1px dotted black;border-radius: 0.25em;box-sizing: border-box;}div.sk-estimator:hover {background-color: #d4ebff;}div.sk-parallel-item::after {content: \"\";width: 100%;border-bottom: 1px solid gray;flex-grow: 1;}div.sk-label:hover label.sk-toggleable__label {background-color: #d4ebff;}div.sk-serial::before {content: \"\";position: absolute;border-left: 1px solid gray;box-sizing: border-box;top: 2em;bottom: 0;left: 50%;}div.sk-serial {display: flex;flex-direction: column;align-items: center;background-color: white;}div.sk-item {z-index: 1;}div.sk-parallel {display: flex;align-items: stretch;justify-content: center;background-color: white;}div.sk-parallel-item {display: flex;flex-direction: column;position: relative;background-color: white;}div.sk-parallel-item:first-child::after {align-self: flex-end;width: 50%;}div.sk-parallel-item:last-child::after {align-self: flex-start;width: 50%;}div.sk-parallel-item:only-child::after {width: 0;}div.sk-dashed-wrapped {border: 1px dashed gray;margin: 0.2em;box-sizing: border-box;padding-bottom: 0.1em;background-color: white;position: relative;}div.sk-label label {font-family: monospace;font-weight: bold;background-color: white;display: inline-block;line-height: 1.2em;}div.sk-label-container {position: relative;z-index: 2;text-align: center;}div.sk-container {display: inline-block;position: relative;}</style><div class=\"sk-top-container\"><div class=\"sk-container\"><div class=\"sk-item sk-dashed-wrapped\"><div class=\"sk-label-container\"><div class=\"sk-label sk-toggleable\"><input class=\"sk-toggleable__control sk-hidden--visually\" id=\"e13cc33d-9b11-4e88-a365-93bce126d9e2\" type=\"checkbox\" ><label class=\"sk-toggleable__label\" for=\"e13cc33d-9b11-4e88-a365-93bce126d9e2\">Pipeline</label><div class=\"sk-toggleable__content\"><pre>Pipeline(memory=None,\n",
       "         steps=[('dtypes',\n",
       "                 DataTypes_Auto_infer(categorical_features=[],\n",
       "                                      display_types=True,\n",
       "                                      features_todrop=['Country Name'],\n",
       "                                      ml_usecase='regression',\n",
       "                                      numerical_features=[],\n",
       "                                      target='dummy_target',\n",
       "                                      time_features=[])),\n",
       "                ('imputer',\n",
       "                 Simple_Imputer(categorical_strategy='not_available',\n",
       "                                numeric_strategy='mean',\n",
       "                                target_variable=None)),\n",
       "                ('new_levels1',\n",
       "                 New_...\n",
       "                                                    target='dummy_target')),\n",
       "                ('feature_time',\n",
       "                 Make_Time_Features(list_of_features=None, time_feature=[])),\n",
       "                ('group', Empty()), ('scaling', Empty()),\n",
       "                ('P_transform', Empty()), ('binn', Empty()),\n",
       "                ('fix_perfect', Empty()), ('rem_outliers', Empty()),\n",
       "                ('dummy', Dummify(target='dummy_target')),\n",
       "                ('clean_names', Clean_Colum_Names()), ('fix_multi', Empty()),\n",
       "                ('pca', Empty())],\n",
       "         verbose=False)</pre></div></div></div><div class=\"sk-serial\"><div class=\"sk-item\"><div class=\"sk-estimator sk-toggleable\"><input class=\"sk-toggleable__control sk-hidden--visually\" id=\"2d053f8e-ddfe-47f8-8568-3304def0828d\" type=\"checkbox\" ><label class=\"sk-toggleable__label\" for=\"2d053f8e-ddfe-47f8-8568-3304def0828d\">DataTypes_Auto_infer</label><div class=\"sk-toggleable__content\"><pre>DataTypes_Auto_infer(features_todrop=['Country Name'], ml_usecase='regression',\n",
       "                     target='dummy_target')</pre></div></div></div><div class=\"sk-item\"><div class=\"sk-estimator sk-toggleable\"><input class=\"sk-toggleable__control sk-hidden--visually\" id=\"5d94da30-28be-4e28-ab49-295410271ddc\" type=\"checkbox\" ><label class=\"sk-toggleable__label\" for=\"5d94da30-28be-4e28-ab49-295410271ddc\">Simple_Imputer</label><div class=\"sk-toggleable__content\"><pre>Simple_Imputer(categorical_strategy='not_available', numeric_strategy='mean',\n",
       "               target_variable=None)</pre></div></div></div><div class=\"sk-item\"><div class=\"sk-estimator sk-toggleable\"><input class=\"sk-toggleable__control sk-hidden--visually\" id=\"382b7432-2a84-40e3-9df9-e6b2d4eb08e8\" type=\"checkbox\" ><label class=\"sk-toggleable__label\" for=\"382b7432-2a84-40e3-9df9-e6b2d4eb08e8\">New_Catagorical_Levels_in_TestData</label><div class=\"sk-toggleable__content\"><pre>New_Catagorical_Levels_in_TestData(replacement_strategy='least frequent',\n",
       "                                   target='dummy_target')</pre></div></div></div><div class=\"sk-item\"><div class=\"sk-estimator sk-toggleable\"><input class=\"sk-toggleable__control sk-hidden--visually\" id=\"53131778-ce77-4a72-8a16-cec360702c76\" type=\"checkbox\" ><label class=\"sk-toggleable__label\" for=\"53131778-ce77-4a72-8a16-cec360702c76\">Empty</label><div class=\"sk-toggleable__content\"><pre>Empty()</pre></div></div></div><div class=\"sk-item\"><div class=\"sk-estimator sk-toggleable\"><input class=\"sk-toggleable__control sk-hidden--visually\" id=\"939bf9d6-707d-4553-85a4-490a7281419e\" type=\"checkbox\" ><label class=\"sk-toggleable__label\" for=\"939bf9d6-707d-4553-85a4-490a7281419e\">Empty</label><div class=\"sk-toggleable__content\"><pre>Empty()</pre></div></div></div><div class=\"sk-item\"><div class=\"sk-estimator sk-toggleable\"><input class=\"sk-toggleable__control sk-hidden--visually\" id=\"39bd1050-4265-41c0-9b89-74fbea8fdf18\" type=\"checkbox\" ><label class=\"sk-toggleable__label\" for=\"39bd1050-4265-41c0-9b89-74fbea8fdf18\">Empty</label><div class=\"sk-toggleable__content\"><pre>Empty()</pre></div></div></div><div class=\"sk-item\"><div class=\"sk-estimator sk-toggleable\"><input class=\"sk-toggleable__control sk-hidden--visually\" id=\"fa786f12-fce3-4c1e-b5e1-50051f26e91e\" type=\"checkbox\" ><label class=\"sk-toggleable__label\" for=\"fa786f12-fce3-4c1e-b5e1-50051f26e91e\">Empty</label><div class=\"sk-toggleable__content\"><pre>Empty()</pre></div></div></div><div class=\"sk-item\"><div class=\"sk-estimator sk-toggleable\"><input class=\"sk-toggleable__control sk-hidden--visually\" id=\"af2c29cc-128e-4fc5-9b5e-94790ad06cf8\" type=\"checkbox\" ><label class=\"sk-toggleable__label\" for=\"af2c29cc-128e-4fc5-9b5e-94790ad06cf8\">New_Catagorical_Levels_in_TestData</label><div class=\"sk-toggleable__content\"><pre>New_Catagorical_Levels_in_TestData(replacement_strategy='least frequent',\n",
       "                                   target='dummy_target')</pre></div></div></div><div class=\"sk-item\"><div class=\"sk-estimator sk-toggleable\"><input class=\"sk-toggleable__control sk-hidden--visually\" id=\"231522fc-f440-4223-a555-9d84799adba4\" type=\"checkbox\" ><label class=\"sk-toggleable__label\" for=\"231522fc-f440-4223-a555-9d84799adba4\">Make_Time_Features</label><div class=\"sk-toggleable__content\"><pre>Make_Time_Features(list_of_features=None)</pre></div></div></div><div class=\"sk-item\"><div class=\"sk-estimator sk-toggleable\"><input class=\"sk-toggleable__control sk-hidden--visually\" id=\"479cd0e1-ae05-40c5-adaa-91803ad603b9\" type=\"checkbox\" ><label class=\"sk-toggleable__label\" for=\"479cd0e1-ae05-40c5-adaa-91803ad603b9\">Empty</label><div class=\"sk-toggleable__content\"><pre>Empty()</pre></div></div></div><div class=\"sk-item\"><div class=\"sk-estimator sk-toggleable\"><input class=\"sk-toggleable__control sk-hidden--visually\" id=\"bcbbeb81-d5bd-4689-8dcb-451e2da1ebb7\" type=\"checkbox\" ><label class=\"sk-toggleable__label\" for=\"bcbbeb81-d5bd-4689-8dcb-451e2da1ebb7\">Empty</label><div class=\"sk-toggleable__content\"><pre>Empty()</pre></div></div></div><div class=\"sk-item\"><div class=\"sk-estimator sk-toggleable\"><input class=\"sk-toggleable__control sk-hidden--visually\" id=\"2f20f4f6-4ceb-4bf9-9a5d-6bf1b1cee285\" type=\"checkbox\" ><label class=\"sk-toggleable__label\" for=\"2f20f4f6-4ceb-4bf9-9a5d-6bf1b1cee285\">Empty</label><div class=\"sk-toggleable__content\"><pre>Empty()</pre></div></div></div><div class=\"sk-item\"><div class=\"sk-estimator sk-toggleable\"><input class=\"sk-toggleable__control sk-hidden--visually\" id=\"b4fb28b8-6ad9-42be-8283-82e22386d784\" type=\"checkbox\" ><label class=\"sk-toggleable__label\" for=\"b4fb28b8-6ad9-42be-8283-82e22386d784\">Empty</label><div class=\"sk-toggleable__content\"><pre>Empty()</pre></div></div></div><div class=\"sk-item\"><div class=\"sk-estimator sk-toggleable\"><input class=\"sk-toggleable__control sk-hidden--visually\" id=\"99fc11de-8393-40ac-aacd-a13411db3216\" type=\"checkbox\" ><label class=\"sk-toggleable__label\" for=\"99fc11de-8393-40ac-aacd-a13411db3216\">Empty</label><div class=\"sk-toggleable__content\"><pre>Empty()</pre></div></div></div><div class=\"sk-item\"><div class=\"sk-estimator sk-toggleable\"><input class=\"sk-toggleable__control sk-hidden--visually\" id=\"0bc0a1e8-fb2b-49c0-9c98-62698e02acc3\" type=\"checkbox\" ><label class=\"sk-toggleable__label\" for=\"0bc0a1e8-fb2b-49c0-9c98-62698e02acc3\">Empty</label><div class=\"sk-toggleable__content\"><pre>Empty()</pre></div></div></div><div class=\"sk-item\"><div class=\"sk-estimator sk-toggleable\"><input class=\"sk-toggleable__control sk-hidden--visually\" id=\"5c26838a-2492-4090-98fc-cd23e4c6ef91\" type=\"checkbox\" ><label class=\"sk-toggleable__label\" for=\"5c26838a-2492-4090-98fc-cd23e4c6ef91\">Dummify</label><div class=\"sk-toggleable__content\"><pre>Dummify(target='dummy_target')</pre></div></div></div><div class=\"sk-item\"><div class=\"sk-estimator sk-toggleable\"><input class=\"sk-toggleable__control sk-hidden--visually\" id=\"8a9aaa55-e5ff-4d46-913d-1e2c82ec6acc\" type=\"checkbox\" ><label class=\"sk-toggleable__label\" for=\"8a9aaa55-e5ff-4d46-913d-1e2c82ec6acc\">Clean_Colum_Names</label><div class=\"sk-toggleable__content\"><pre>Clean_Colum_Names()</pre></div></div></div><div class=\"sk-item\"><div class=\"sk-estimator sk-toggleable\"><input class=\"sk-toggleable__control sk-hidden--visually\" id=\"99da2ccc-b3d5-47a5-a362-13b0c7133bbf\" type=\"checkbox\" ><label class=\"sk-toggleable__label\" for=\"99da2ccc-b3d5-47a5-a362-13b0c7133bbf\">Empty</label><div class=\"sk-toggleable__content\"><pre>Empty()</pre></div></div></div><div class=\"sk-item\"><div class=\"sk-estimator sk-toggleable\"><input class=\"sk-toggleable__control sk-hidden--visually\" id=\"4cc8bf68-46b5-4f98-ac98-7872445b8774\" type=\"checkbox\" ><label class=\"sk-toggleable__label\" for=\"4cc8bf68-46b5-4f98-ac98-7872445b8774\">Empty</label><div class=\"sk-toggleable__content\"><pre>Empty()</pre></div></div></div></div></div></div></div>"
      ],
      "text/plain": [
       "Pipeline(memory=None,\n",
       "         steps=[('dtypes',\n",
       "                 DataTypes_Auto_infer(categorical_features=[],\n",
       "                                      display_types=True,\n",
       "                                      features_todrop=['Country Name'],\n",
       "                                      ml_usecase='regression',\n",
       "                                      numerical_features=[],\n",
       "                                      target='dummy_target',\n",
       "                                      time_features=[])),\n",
       "                ('imputer',\n",
       "                 Simple_Imputer(categorical_strategy='not_available',\n",
       "                                numeric_strategy='mean',\n",
       "                                target_variable=None)),\n",
       "                ('new_levels1',\n",
       "                 New_...\n",
       "                                                    target='dummy_target')),\n",
       "                ('feature_time',\n",
       "                 Make_Time_Features(list_of_features=None, time_feature=[])),\n",
       "                ('group', Empty()), ('scaling', Empty()),\n",
       "                ('P_transform', Empty()), ('binn', Empty()),\n",
       "                ('fix_perfect', Empty()), ('rem_outliers', Empty()),\n",
       "                ('dummy', Dummify(target='dummy_target')),\n",
       "                ('clean_names', Clean_Colum_Names()), ('fix_multi', Empty()),\n",
       "                ('pca', Empty())],\n",
       "         verbose=False)"
      ]
     },
     "execution_count": 24,
     "metadata": {},
     "output_type": "execute_result"
    }
   ],
   "source": [
    "from sklearn import set_config\n",
    "set_config(display='diagram')\n",
    "loaded_kmeans[0]"
   ]
  },
  {
   "cell_type": "code",
   "execution_count": 18,
   "metadata": {},
   "outputs": [],
   "source": [
    "from sklearn import set_config\n",
    "set_config(display='text')"
   ]
  },
  {
   "cell_type": "markdown",
   "metadata": {},
   "source": [
    "# 8. Deploy Model"
   ]
  },
  {
   "cell_type": "code",
   "execution_count": 19,
   "metadata": {},
   "outputs": [
    {
     "name": "stdout",
     "output_type": "stream",
     "text": [
      "Model Succesfully Deployed on AWS S3\n"
     ]
    }
   ],
   "source": [
    "deploy_model(kmeans, model_name = 'kmeans-aws', authentication = {'bucket' : 'pycaret-test'})"
   ]
  },
  {
   "cell_type": "markdown",
   "metadata": {},
   "source": [
    "# 9. Get Config / Set Config"
   ]
  },
  {
   "cell_type": "code",
   "execution_count": 20,
   "metadata": {},
   "outputs": [
    {
     "data": {
      "text/html": [
       "<div>\n",
       "<style scoped>\n",
       "    .dataframe tbody tr th:only-of-type {\n",
       "        vertical-align: middle;\n",
       "    }\n",
       "\n",
       "    .dataframe tbody tr th {\n",
       "        vertical-align: top;\n",
       "    }\n",
       "\n",
       "    .dataframe thead th {\n",
       "        text-align: right;\n",
       "    }\n",
       "</style>\n",
       "<table border=\"1\" class=\"dataframe\">\n",
       "  <thead>\n",
       "    <tr style=\"text-align: right;\">\n",
       "      <th></th>\n",
       "      <th>1995</th>\n",
       "      <th>1996</th>\n",
       "      <th>1997</th>\n",
       "      <th>1998</th>\n",
       "      <th>1999</th>\n",
       "      <th>2000</th>\n",
       "      <th>2001</th>\n",
       "      <th>2002</th>\n",
       "      <th>2003</th>\n",
       "      <th>2004</th>\n",
       "      <th>2005</th>\n",
       "      <th>2006</th>\n",
       "      <th>2007</th>\n",
       "      <th>2008</th>\n",
       "      <th>2009</th>\n",
       "      <th>2010</th>\n",
       "      <th>2011</th>\n",
       "      <th>2012</th>\n",
       "      <th>2013</th>\n",
       "      <th>2014</th>\n",
       "    </tr>\n",
       "  </thead>\n",
       "  <tbody>\n",
       "    <tr>\n",
       "      <th>0</th>\n",
       "      <td>2.004868</td>\n",
       "      <td>2.014602</td>\n",
       "      <td>2.071309</td>\n",
       "      <td>2.177712</td>\n",
       "      <td>2.331000</td>\n",
       "      <td>2.333596</td>\n",
       "      <td>2.588751</td>\n",
       "      <td>2.540238</td>\n",
       "      <td>2.450415</td>\n",
       "      <td>2.314914</td>\n",
       "      <td>2.134281</td>\n",
       "      <td>2.133038</td>\n",
       "      <td>2.166872</td>\n",
       "      <td>2.101233</td>\n",
       "      <td>2.830067</td>\n",
       "      <td>2.489631</td>\n",
       "      <td>2.539570</td>\n",
       "      <td>2.711262</td>\n",
       "      <td>2.895427</td>\n",
       "      <td>3.073161</td>\n",
       "    </tr>\n",
       "    <tr>\n",
       "      <th>1</th>\n",
       "      <td>2.801518</td>\n",
       "      <td>2.856684</td>\n",
       "      <td>2.997157</td>\n",
       "      <td>2.989451</td>\n",
       "      <td>2.767858</td>\n",
       "      <td>2.826752</td>\n",
       "      <td>2.679969</td>\n",
       "      <td>2.888693</td>\n",
       "      <td>2.740593</td>\n",
       "      <td>2.845971</td>\n",
       "      <td>2.629580</td>\n",
       "      <td>2.650900</td>\n",
       "      <td>2.790665</td>\n",
       "      <td>2.822913</td>\n",
       "      <td>3.408651</td>\n",
       "      <td>3.264064</td>\n",
       "      <td>3.087653</td>\n",
       "      <td>3.314303</td>\n",
       "      <td>3.318432</td>\n",
       "      <td>3.260012</td>\n",
       "    </tr>\n",
       "    <tr>\n",
       "      <th>2</th>\n",
       "      <td>4.678528</td>\n",
       "      <td>4.753209</td>\n",
       "      <td>4.604574</td>\n",
       "      <td>4.499988</td>\n",
       "      <td>4.679082</td>\n",
       "      <td>4.539711</td>\n",
       "      <td>4.666272</td>\n",
       "      <td>4.900196</td>\n",
       "      <td>5.100249</td>\n",
       "      <td>4.913629</td>\n",
       "      <td>4.970861</td>\n",
       "      <td>4.841450</td>\n",
       "      <td>4.809057</td>\n",
       "      <td>5.054785</td>\n",
       "      <td>5.394921</td>\n",
       "      <td>5.284380</td>\n",
       "      <td>5.096212</td>\n",
       "      <td>5.041317</td>\n",
       "      <td>5.029266</td>\n",
       "      <td>5.017717</td>\n",
       "    </tr>\n",
       "    <tr>\n",
       "      <th>3</th>\n",
       "      <td>2.203164</td>\n",
       "      <td>2.156632</td>\n",
       "      <td>2.227311</td>\n",
       "      <td>2.364100</td>\n",
       "      <td>2.454394</td>\n",
       "      <td>2.450555</td>\n",
       "      <td>2.527081</td>\n",
       "      <td>2.347702</td>\n",
       "      <td>2.363263</td>\n",
       "      <td>2.346824</td>\n",
       "      <td>2.337347</td>\n",
       "      <td>2.369884</td>\n",
       "      <td>2.385251</td>\n",
       "      <td>2.405126</td>\n",
       "      <td>2.701260</td>\n",
       "      <td>2.507131</td>\n",
       "      <td>2.495491</td>\n",
       "      <td>2.497340</td>\n",
       "      <td>2.586701</td>\n",
       "      <td>2.665603</td>\n",
       "    </tr>\n",
       "    <tr>\n",
       "      <th>4</th>\n",
       "      <td>4.429090</td>\n",
       "      <td>4.203152</td>\n",
       "      <td>4.244351</td>\n",
       "      <td>4.453984</td>\n",
       "      <td>4.626920</td>\n",
       "      <td>4.688849</td>\n",
       "      <td>4.684790</td>\n",
       "      <td>4.613537</td>\n",
       "      <td>4.635098</td>\n",
       "      <td>4.626696</td>\n",
       "      <td>4.566215</td>\n",
       "      <td>4.367146</td>\n",
       "      <td>4.297394</td>\n",
       "      <td>4.434848</td>\n",
       "      <td>4.865241</td>\n",
       "      <td>4.775817</td>\n",
       "      <td>4.871727</td>\n",
       "      <td>4.866869</td>\n",
       "      <td>4.643221</td>\n",
       "      <td>4.571448</td>\n",
       "    </tr>\n",
       "  </tbody>\n",
       "</table>\n",
       "</div>"
      ],
      "text/plain": [
       "       1995      1996      1997      1998      1999      2000      2001  \\\n",
       "0  2.004868  2.014602  2.071309  2.177712  2.331000  2.333596  2.588751   \n",
       "1  2.801518  2.856684  2.997157  2.989451  2.767858  2.826752  2.679969   \n",
       "2  4.678528  4.753209  4.604574  4.499988  4.679082  4.539711  4.666272   \n",
       "3  2.203164  2.156632  2.227311  2.364100  2.454394  2.450555  2.527081   \n",
       "4  4.429090  4.203152  4.244351  4.453984  4.626920  4.688849  4.684790   \n",
       "\n",
       "       2002      2003      2004      2005      2006      2007      2008  \\\n",
       "0  2.540238  2.450415  2.314914  2.134281  2.133038  2.166872  2.101233   \n",
       "1  2.888693  2.740593  2.845971  2.629580  2.650900  2.790665  2.822913   \n",
       "2  4.900196  5.100249  4.913629  4.970861  4.841450  4.809057  5.054785   \n",
       "3  2.347702  2.363263  2.346824  2.337347  2.369884  2.385251  2.405126   \n",
       "4  4.613537  4.635098  4.626696  4.566215  4.367146  4.297394  4.434848   \n",
       "\n",
       "       2009      2010      2011      2012      2013      2014  \n",
       "0  2.830067  2.489631  2.539570  2.711262  2.895427  3.073161  \n",
       "1  3.408651  3.264064  3.087653  3.314303  3.318432  3.260012  \n",
       "2  5.394921  5.284380  5.096212  5.041317  5.029266  5.017717  \n",
       "3  2.701260  2.507131  2.495491  2.497340  2.586701  2.665603  \n",
       "4  4.865241  4.775817  4.871727  4.866869  4.643221  4.571448  "
      ]
     },
     "execution_count": 20,
     "metadata": {},
     "output_type": "execute_result"
    }
   ],
   "source": [
    "X = get_config('X')\n",
    "X.head()"
   ]
  },
  {
   "cell_type": "code",
   "execution_count": 21,
   "metadata": {},
   "outputs": [
    {
     "data": {
      "text/plain": [
       "123"
      ]
     },
     "execution_count": 21,
     "metadata": {},
     "output_type": "execute_result"
    }
   ],
   "source": [
    "get_config('seed')"
   ]
  },
  {
   "cell_type": "code",
   "execution_count": 22,
   "metadata": {},
   "outputs": [],
   "source": [
    "from pycaret.clustering import set_config\n",
    "set_config('seed', 999)"
   ]
  },
  {
   "cell_type": "code",
   "execution_count": 23,
   "metadata": {},
   "outputs": [
    {
     "data": {
      "text/plain": [
       "999"
      ]
     },
     "execution_count": 23,
     "metadata": {},
     "output_type": "execute_result"
    }
   ],
   "source": [
    "get_config('seed')"
   ]
  },
  {
   "cell_type": "markdown",
   "metadata": {},
   "source": [
    "# 10. MLFlow UI"
   ]
  },
  {
   "cell_type": "code",
   "execution_count": 34,
   "metadata": {},
   "outputs": [
    {
     "name": "stdout",
     "output_type": "stream",
     "text": [
      "^C\n"
     ]
    }
   ],
   "source": [
    "!mlflow ui"
   ]
  },
  {
   "cell_type": "markdown",
   "metadata": {},
   "source": [
    "# End\n",
    "Thank you. For more information / tutorials on PyCaret, please visit https://www.pycaret.org"
   ]
  }
 ],
 "metadata": {
  "jupytext": {
   "formats": "ipynb,py:light"
  },
  "kernelspec": {
   "display_name": "Python 3",
   "language": "python",
   "name": "python3"
  },
  "language_info": {
   "codemirror_mode": {
    "name": "ipython",
    "version": 3
   },
   "file_extension": ".py",
   "mimetype": "text/x-python",
   "name": "python",
   "nbconvert_exporter": "python",
   "pygments_lexer": "ipython3",
   "version": "3.8.5"
  }
 },
 "nbformat": 4,
 "nbformat_minor": 4
}
