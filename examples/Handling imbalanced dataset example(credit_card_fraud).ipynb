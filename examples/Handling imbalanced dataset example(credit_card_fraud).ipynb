{
 "cells": [
  {
   "cell_type": "code",
   "execution_count": 3,
   "metadata": {
    "colab": {},
    "colab_type": "code",
    "id": "JsQcMBDJjmM-"
   },
   "outputs": [],
   "source": [
    "#Importing libraries\n",
    "\n",
    "import pandas as pd\n",
    "import numpy as np\n",
    "import pycaret\n"
   ]
  },
  {
   "cell_type": "markdown",
   "metadata": {
    "colab_type": "text",
    "id": "zx-m_QyMk0X4"
   },
   "source": [
    "## Loading the data"
   ]
  },
  {
   "cell_type": "markdown",
   "metadata": {
    "colab_type": "text",
    "id": "1a5iBP3Nk3DE"
   },
   "source": [
    "Dataset information: The datasets contains transactions made by credit cards in September 2013 by european cardholders.\n",
    "This dataset presents transactions that occurred in two days, where we have 492 frauds out of 284,807 transactions. The dataset is highly unbalanced, the positive class (frauds) account for 0.172% of all transactions.\n",
    "\n",
    "It contains only numerical input variables which are the result of a PCA transformation.\n",
    "\n",
    "This dataset was a part of Kaggle Competition too, where the participants needed to predict wether the transaction was a fraud one or normal.\n",
    "\n",
    "Link to the competition: https://www.kaggle.com/mlg-ulb/creditcardfraud"
   ]
  },
  {
   "cell_type": "code",
   "execution_count": 4,
   "metadata": {
    "colab": {
     "base_uri": "https://localhost:8080/",
     "height": 216
    },
    "colab_type": "code",
    "id": "WnXMK-pOj7Yc",
    "outputId": "81fead06-4c27-4c93-d3b8-999caaf9ff14"
   },
   "outputs": [
    {
     "data": {
      "text/html": [
       "<div>\n",
       "<style scoped>\n",
       "    .dataframe tbody tr th:only-of-type {\n",
       "        vertical-align: middle;\n",
       "    }\n",
       "\n",
       "    .dataframe tbody tr th {\n",
       "        vertical-align: top;\n",
       "    }\n",
       "\n",
       "    .dataframe thead th {\n",
       "        text-align: right;\n",
       "    }\n",
       "</style>\n",
       "<table border=\"1\" class=\"dataframe\">\n",
       "  <thead>\n",
       "    <tr style=\"text-align: right;\">\n",
       "      <th></th>\n",
       "      <th>Time</th>\n",
       "      <th>V1</th>\n",
       "      <th>V2</th>\n",
       "      <th>V3</th>\n",
       "      <th>V4</th>\n",
       "      <th>V5</th>\n",
       "      <th>V6</th>\n",
       "      <th>V7</th>\n",
       "      <th>V8</th>\n",
       "      <th>V9</th>\n",
       "      <th>V10</th>\n",
       "      <th>V11</th>\n",
       "      <th>V12</th>\n",
       "      <th>V13</th>\n",
       "      <th>V14</th>\n",
       "      <th>V15</th>\n",
       "      <th>V16</th>\n",
       "      <th>V17</th>\n",
       "      <th>V18</th>\n",
       "      <th>V19</th>\n",
       "      <th>V20</th>\n",
       "      <th>V21</th>\n",
       "      <th>V22</th>\n",
       "      <th>V23</th>\n",
       "      <th>V24</th>\n",
       "      <th>V25</th>\n",
       "      <th>V26</th>\n",
       "      <th>V27</th>\n",
       "      <th>V28</th>\n",
       "      <th>Amount</th>\n",
       "      <th>Class</th>\n",
       "    </tr>\n",
       "  </thead>\n",
       "  <tbody>\n",
       "    <tr>\n",
       "      <th>0</th>\n",
       "      <td>0.0</td>\n",
       "      <td>-1.359807</td>\n",
       "      <td>-0.072781</td>\n",
       "      <td>2.536347</td>\n",
       "      <td>1.378155</td>\n",
       "      <td>-0.338321</td>\n",
       "      <td>0.462388</td>\n",
       "      <td>0.239599</td>\n",
       "      <td>0.098698</td>\n",
       "      <td>0.363787</td>\n",
       "      <td>0.090794</td>\n",
       "      <td>-0.551600</td>\n",
       "      <td>-0.617801</td>\n",
       "      <td>-0.991390</td>\n",
       "      <td>-0.311169</td>\n",
       "      <td>1.468177</td>\n",
       "      <td>-0.470401</td>\n",
       "      <td>0.207971</td>\n",
       "      <td>0.025791</td>\n",
       "      <td>0.403993</td>\n",
       "      <td>0.251412</td>\n",
       "      <td>-0.018307</td>\n",
       "      <td>0.277838</td>\n",
       "      <td>-0.110474</td>\n",
       "      <td>0.066928</td>\n",
       "      <td>0.128539</td>\n",
       "      <td>-0.189115</td>\n",
       "      <td>0.133558</td>\n",
       "      <td>-0.021053</td>\n",
       "      <td>149.62</td>\n",
       "      <td>0</td>\n",
       "    </tr>\n",
       "    <tr>\n",
       "      <th>1</th>\n",
       "      <td>0.0</td>\n",
       "      <td>1.191857</td>\n",
       "      <td>0.266151</td>\n",
       "      <td>0.166480</td>\n",
       "      <td>0.448154</td>\n",
       "      <td>0.060018</td>\n",
       "      <td>-0.082361</td>\n",
       "      <td>-0.078803</td>\n",
       "      <td>0.085102</td>\n",
       "      <td>-0.255425</td>\n",
       "      <td>-0.166974</td>\n",
       "      <td>1.612727</td>\n",
       "      <td>1.065235</td>\n",
       "      <td>0.489095</td>\n",
       "      <td>-0.143772</td>\n",
       "      <td>0.635558</td>\n",
       "      <td>0.463917</td>\n",
       "      <td>-0.114805</td>\n",
       "      <td>-0.183361</td>\n",
       "      <td>-0.145783</td>\n",
       "      <td>-0.069083</td>\n",
       "      <td>-0.225775</td>\n",
       "      <td>-0.638672</td>\n",
       "      <td>0.101288</td>\n",
       "      <td>-0.339846</td>\n",
       "      <td>0.167170</td>\n",
       "      <td>0.125895</td>\n",
       "      <td>-0.008983</td>\n",
       "      <td>0.014724</td>\n",
       "      <td>2.69</td>\n",
       "      <td>0</td>\n",
       "    </tr>\n",
       "    <tr>\n",
       "      <th>2</th>\n",
       "      <td>1.0</td>\n",
       "      <td>-1.358354</td>\n",
       "      <td>-1.340163</td>\n",
       "      <td>1.773209</td>\n",
       "      <td>0.379780</td>\n",
       "      <td>-0.503198</td>\n",
       "      <td>1.800499</td>\n",
       "      <td>0.791461</td>\n",
       "      <td>0.247676</td>\n",
       "      <td>-1.514654</td>\n",
       "      <td>0.207643</td>\n",
       "      <td>0.624501</td>\n",
       "      <td>0.066084</td>\n",
       "      <td>0.717293</td>\n",
       "      <td>-0.165946</td>\n",
       "      <td>2.345865</td>\n",
       "      <td>-2.890083</td>\n",
       "      <td>1.109969</td>\n",
       "      <td>-0.121359</td>\n",
       "      <td>-2.261857</td>\n",
       "      <td>0.524980</td>\n",
       "      <td>0.247998</td>\n",
       "      <td>0.771679</td>\n",
       "      <td>0.909412</td>\n",
       "      <td>-0.689281</td>\n",
       "      <td>-0.327642</td>\n",
       "      <td>-0.139097</td>\n",
       "      <td>-0.055353</td>\n",
       "      <td>-0.059752</td>\n",
       "      <td>378.66</td>\n",
       "      <td>0</td>\n",
       "    </tr>\n",
       "    <tr>\n",
       "      <th>3</th>\n",
       "      <td>1.0</td>\n",
       "      <td>-0.966272</td>\n",
       "      <td>-0.185226</td>\n",
       "      <td>1.792993</td>\n",
       "      <td>-0.863291</td>\n",
       "      <td>-0.010309</td>\n",
       "      <td>1.247203</td>\n",
       "      <td>0.237609</td>\n",
       "      <td>0.377436</td>\n",
       "      <td>-1.387024</td>\n",
       "      <td>-0.054952</td>\n",
       "      <td>-0.226487</td>\n",
       "      <td>0.178228</td>\n",
       "      <td>0.507757</td>\n",
       "      <td>-0.287924</td>\n",
       "      <td>-0.631418</td>\n",
       "      <td>-1.059647</td>\n",
       "      <td>-0.684093</td>\n",
       "      <td>1.965775</td>\n",
       "      <td>-1.232622</td>\n",
       "      <td>-0.208038</td>\n",
       "      <td>-0.108300</td>\n",
       "      <td>0.005274</td>\n",
       "      <td>-0.190321</td>\n",
       "      <td>-1.175575</td>\n",
       "      <td>0.647376</td>\n",
       "      <td>-0.221929</td>\n",
       "      <td>0.062723</td>\n",
       "      <td>0.061458</td>\n",
       "      <td>123.50</td>\n",
       "      <td>0</td>\n",
       "    </tr>\n",
       "    <tr>\n",
       "      <th>4</th>\n",
       "      <td>2.0</td>\n",
       "      <td>-1.158233</td>\n",
       "      <td>0.877737</td>\n",
       "      <td>1.548718</td>\n",
       "      <td>0.403034</td>\n",
       "      <td>-0.407193</td>\n",
       "      <td>0.095921</td>\n",
       "      <td>0.592941</td>\n",
       "      <td>-0.270533</td>\n",
       "      <td>0.817739</td>\n",
       "      <td>0.753074</td>\n",
       "      <td>-0.822843</td>\n",
       "      <td>0.538196</td>\n",
       "      <td>1.345852</td>\n",
       "      <td>-1.119670</td>\n",
       "      <td>0.175121</td>\n",
       "      <td>-0.451449</td>\n",
       "      <td>-0.237033</td>\n",
       "      <td>-0.038195</td>\n",
       "      <td>0.803487</td>\n",
       "      <td>0.408542</td>\n",
       "      <td>-0.009431</td>\n",
       "      <td>0.798278</td>\n",
       "      <td>-0.137458</td>\n",
       "      <td>0.141267</td>\n",
       "      <td>-0.206010</td>\n",
       "      <td>0.502292</td>\n",
       "      <td>0.219422</td>\n",
       "      <td>0.215153</td>\n",
       "      <td>69.99</td>\n",
       "      <td>0</td>\n",
       "    </tr>\n",
       "  </tbody>\n",
       "</table>\n",
       "</div>"
      ],
      "text/plain": [
       "   Time        V1        V2        V3  ...       V27       V28  Amount  Class\n",
       "0   0.0 -1.359807 -0.072781  2.536347  ...  0.133558 -0.021053  149.62      0\n",
       "1   0.0  1.191857  0.266151  0.166480  ... -0.008983  0.014724    2.69      0\n",
       "2   1.0 -1.358354 -1.340163  1.773209  ... -0.055353 -0.059752  378.66      0\n",
       "3   1.0 -0.966272 -0.185226  1.792993  ...  0.062723  0.061458  123.50      0\n",
       "4   2.0 -1.158233  0.877737  1.548718  ...  0.219422  0.215153   69.99      0\n",
       "\n",
       "[5 rows x 31 columns]"
      ]
     },
     "execution_count": 4,
     "metadata": {
      "tags": []
     },
     "output_type": "execute_result"
    }
   ],
   "source": [
    "df=pd.read_csv(\"/content/drive/My Drive/creditcard.csv\")\n",
    "df.head()"
   ]
  },
  {
   "cell_type": "code",
   "execution_count": 5,
   "metadata": {
    "colab": {
     "base_uri": "https://localhost:8080/",
     "height": 33
    },
    "colab_type": "code",
    "id": "Fqex7yyBkU0k",
    "outputId": "f5db4211-3266-4ac0-cbdd-f8553a55c1db"
   },
   "outputs": [
    {
     "data": {
      "text/plain": [
       "(284807, 31)"
      ]
     },
     "execution_count": 5,
     "metadata": {
      "tags": []
     },
     "output_type": "execute_result"
    }
   ],
   "source": [
    "df.shape"
   ]
  },
  {
   "cell_type": "markdown",
   "metadata": {
    "colab_type": "text",
    "id": "10VMelselhZp"
   },
   "source": [
    "Our dataset contains 24000 rows and 24 columns"
   ]
  },
  {
   "cell_type": "code",
   "execution_count": 6,
   "metadata": {
    "colab": {
     "base_uri": "https://localhost:8080/",
     "height": 552
    },
    "colab_type": "code",
    "id": "gtKOmecwkC1c",
    "outputId": "0ec8b121-5283-4fb0-e74b-8e110bfbdd51"
   },
   "outputs": [
    {
     "data": {
      "text/plain": [
       "Time      0\n",
       "V1        0\n",
       "V2        0\n",
       "V3        0\n",
       "V4        0\n",
       "V5        0\n",
       "V6        0\n",
       "V7        0\n",
       "V8        0\n",
       "V9        0\n",
       "V10       0\n",
       "V11       0\n",
       "V12       0\n",
       "V13       0\n",
       "V14       0\n",
       "V15       0\n",
       "V16       0\n",
       "V17       0\n",
       "V18       0\n",
       "V19       0\n",
       "V20       0\n",
       "V21       0\n",
       "V22       0\n",
       "V23       0\n",
       "V24       0\n",
       "V25       0\n",
       "V26       0\n",
       "V27       0\n",
       "V28       0\n",
       "Amount    0\n",
       "Class     0\n",
       "dtype: int64"
      ]
     },
     "execution_count": 6,
     "metadata": {
      "tags": []
     },
     "output_type": "execute_result"
    }
   ],
   "source": [
    "df.isnull().sum()"
   ]
  },
  {
   "cell_type": "markdown",
   "metadata": {
    "colab_type": "text",
    "id": "KIL4GyhQloaz"
   },
   "source": [
    "There are no null values as observed from above table"
   ]
  },
  {
   "cell_type": "markdown",
   "metadata": {
    "colab_type": "text",
    "id": "MLFyMW2Gppu7"
   },
   "source": [
    "Now, let's check for the count of positive and negative classes in our dataset"
   ]
  },
  {
   "cell_type": "code",
   "execution_count": 7,
   "metadata": {
    "colab": {
     "base_uri": "https://localhost:8080/",
     "height": 278
    },
    "colab_type": "code",
    "id": "rCPuWVd8kKYc",
    "outputId": "51bd3ee9-6c05-427a-bbcd-6c183a24cf82"
   },
   "outputs": [
    {
     "data": {
      "text/plain": [
       "<matplotlib.axes._subplots.AxesSubplot at 0x7f937f1abeb8>"
      ]
     },
     "execution_count": 7,
     "metadata": {
      "tags": []
     },
     "output_type": "execute_result"
    },
    {
     "data": {
      "image/png": "[encoded data removed]",
      "text/plain": [
       "<Figure size 432x288 with 1 Axes>"
      ]
     },
     "metadata": {
      "needs_background": "light",
      "tags": []
     },
     "output_type": "display_data"
    }
   ],
   "source": [
    "df[\"Class\"].value_counts().plot.bar(legend=None)"
   ]
  },
  {
   "cell_type": "markdown",
   "metadata": {
    "colab_type": "text",
    "id": "x7kKRuulE72M"
   },
   "source": [
    "This is a highly imablanced dataset."
   ]
  },
  {
   "cell_type": "markdown",
   "metadata": {
    "colab_type": "text",
    "id": "hGF3OuZMq1ra"
   },
   "source": [
    "## Problem with imbalanced dataset: \n",
    "We need to deal with the dataset in a correct way. When we will train our model than our model will achieve high accuracy but our trained model will predict a negative class in maximum number of cases. So, we also need to keep in mind the precision and recall score in such scenarios. \n",
    "\n",
    "This problem is predominant in scenarios where anomaly detection is crucial like electricity pilferage, fraudulent transactions in banks, identification of rare diseases, etc. In this situation, the predictive model developed using conventional machine learning algorithms could be biased and inaccurate.\n",
    "\n",
    "This happens because Machine Learning Algorithms are usually designed to improve accuracy by reducing the error. Thus, they do not take into account the class distribution / proportion or balance of classes.\n",
    "\n",
    "This guide describes various approaches for solving such class imbalance problems using Pycaret. "
   ]
  },
  {
   "cell_type": "markdown",
   "metadata": {
    "colab_type": "text",
    "id": "Uch03o6zsn-h"
   },
   "source": [
    "## Prepairing the setup"
   ]
  },
  {
   "cell_type": "code",
   "execution_count": 8,
   "metadata": {
    "colab": {},
    "colab_type": "code",
    "id": "_gxUecGVsnAM"
   },
   "outputs": [],
   "source": [
    "from pycaret.classification import *\n"
   ]
  },
  {
   "cell_type": "code",
   "execution_count": 9,
   "metadata": {
    "colab": {
     "base_uri": "https://localhost:8080/",
     "height": 918,
     "referenced_widgets": [
      "0955e5b8be8042bbae4ee23c230a61eb",
      "7d901db567184b758cd7e56ab776f1d3",
      "9169f9e763314fddb72dfea8cabd09a4",
      "727e71d800a742bcb3c81ed2e8e964ee",
      "f9a6f7e7b553446392ca730a47f4bb3a",
      "a84f1abc70714e33a58147e1c6f995ef"
     ]
    },
    "colab_type": "code",
    "id": "0MDZGQo6p9bC",
    "outputId": "32779414-a475-48a6-bba2-df9d97d9551f"
   },
   "outputs": [
    {
     "name": "stdout",
     "output_type": "stream",
     "text": [
      "Setup Succesfully Completed!\n"
     ]
    },
    {
     "data": {
      "text/html": [
       "<style  type=\"text/css\" >\n",
       "    #T_a5902e2e_da15_11ea_ad49_0242ac1c0002row42_col1 {\n",
       "            background-color:  lightgreen;\n",
       "        }</style><table id=\"T_a5902e2e_da15_11ea_ad49_0242ac1c0002\" ><thead>    <tr>        <th class=\"blank level0\" ></th>        <th class=\"col_heading level0 col0\" >Description</th>        <th class=\"col_heading level0 col1\" >Value</th>    </tr></thead><tbody>\n",
       "                <tr>\n",
       "                        <th id=\"T_a5902e2e_da15_11ea_ad49_0242ac1c0002level0_row0\" class=\"row_heading level0 row0\" >0</th>\n",
       "                        <td id=\"T_a5902e2e_da15_11ea_ad49_0242ac1c0002row0_col0\" class=\"data row0 col0\" >session_id</td>\n",
       "                        <td id=\"T_a5902e2e_da15_11ea_ad49_0242ac1c0002row0_col1\" class=\"data row0 col1\" >3458</td>\n",
       "            </tr>\n",
       "            <tr>\n",
       "                        <th id=\"T_a5902e2e_da15_11ea_ad49_0242ac1c0002level0_row1\" class=\"row_heading level0 row1\" >1</th>\n",
       "                        <td id=\"T_a5902e2e_da15_11ea_ad49_0242ac1c0002row1_col0\" class=\"data row1 col0\" >Target Type</td>\n",
       "                        <td id=\"T_a5902e2e_da15_11ea_ad49_0242ac1c0002row1_col1\" class=\"data row1 col1\" >Binary</td>\n",
       "            </tr>\n",
       "            <tr>\n",
       "                        <th id=\"T_a5902e2e_da15_11ea_ad49_0242ac1c0002level0_row2\" class=\"row_heading level0 row2\" >2</th>\n",
       "                        <td id=\"T_a5902e2e_da15_11ea_ad49_0242ac1c0002row2_col0\" class=\"data row2 col0\" >Label Encoded</td>\n",
       "                        <td id=\"T_a5902e2e_da15_11ea_ad49_0242ac1c0002row2_col1\" class=\"data row2 col1\" >None</td>\n",
       "            </tr>\n",
       "            <tr>\n",
       "                        <th id=\"T_a5902e2e_da15_11ea_ad49_0242ac1c0002level0_row3\" class=\"row_heading level0 row3\" >3</th>\n",
       "                        <td id=\"T_a5902e2e_da15_11ea_ad49_0242ac1c0002row3_col0\" class=\"data row3 col0\" >Original Data</td>\n",
       "                        <td id=\"T_a5902e2e_da15_11ea_ad49_0242ac1c0002row3_col1\" class=\"data row3 col1\" >(284807, 31)</td>\n",
       "            </tr>\n",
       "            <tr>\n",
       "                        <th id=\"T_a5902e2e_da15_11ea_ad49_0242ac1c0002level0_row4\" class=\"row_heading level0 row4\" >4</th>\n",
       "                        <td id=\"T_a5902e2e_da15_11ea_ad49_0242ac1c0002row4_col0\" class=\"data row4 col0\" >Missing Values </td>\n",
       "                        <td id=\"T_a5902e2e_da15_11ea_ad49_0242ac1c0002row4_col1\" class=\"data row4 col1\" >False</td>\n",
       "            </tr>\n",
       "            <tr>\n",
       "                        <th id=\"T_a5902e2e_da15_11ea_ad49_0242ac1c0002level0_row5\" class=\"row_heading level0 row5\" >5</th>\n",
       "                        <td id=\"T_a5902e2e_da15_11ea_ad49_0242ac1c0002row5_col0\" class=\"data row5 col0\" >Numeric Features </td>\n",
       "                        <td id=\"T_a5902e2e_da15_11ea_ad49_0242ac1c0002row5_col1\" class=\"data row5 col1\" >30</td>\n",
       "            </tr>\n",
       "            <tr>\n",
       "                        <th id=\"T_a5902e2e_da15_11ea_ad49_0242ac1c0002level0_row6\" class=\"row_heading level0 row6\" >6</th>\n",
       "                        <td id=\"T_a5902e2e_da15_11ea_ad49_0242ac1c0002row6_col0\" class=\"data row6 col0\" >Categorical Features </td>\n",
       "                        <td id=\"T_a5902e2e_da15_11ea_ad49_0242ac1c0002row6_col1\" class=\"data row6 col1\" >0</td>\n",
       "            </tr>\n",
       "            <tr>\n",
       "                        <th id=\"T_a5902e2e_da15_11ea_ad49_0242ac1c0002level0_row7\" class=\"row_heading level0 row7\" >7</th>\n",
       "                        <td id=\"T_a5902e2e_da15_11ea_ad49_0242ac1c0002row7_col0\" class=\"data row7 col0\" >Ordinal Features </td>\n",
       "                        <td id=\"T_a5902e2e_da15_11ea_ad49_0242ac1c0002row7_col1\" class=\"data row7 col1\" >False</td>\n",
       "            </tr>\n",
       "            <tr>\n",
       "                        <th id=\"T_a5902e2e_da15_11ea_ad49_0242ac1c0002level0_row8\" class=\"row_heading level0 row8\" >8</th>\n",
       "                        <td id=\"T_a5902e2e_da15_11ea_ad49_0242ac1c0002row8_col0\" class=\"data row8 col0\" >High Cardinality Features </td>\n",
       "                        <td id=\"T_a5902e2e_da15_11ea_ad49_0242ac1c0002row8_col1\" class=\"data row8 col1\" >False</td>\n",
       "            </tr>\n",
       "            <tr>\n",
       "                        <th id=\"T_a5902e2e_da15_11ea_ad49_0242ac1c0002level0_row9\" class=\"row_heading level0 row9\" >9</th>\n",
       "                        <td id=\"T_a5902e2e_da15_11ea_ad49_0242ac1c0002row9_col0\" class=\"data row9 col0\" >High Cardinality Method </td>\n",
       "                        <td id=\"T_a5902e2e_da15_11ea_ad49_0242ac1c0002row9_col1\" class=\"data row9 col1\" >None</td>\n",
       "            </tr>\n",
       "            <tr>\n",
       "                        <th id=\"T_a5902e2e_da15_11ea_ad49_0242ac1c0002level0_row10\" class=\"row_heading level0 row10\" >10</th>\n",
       "                        <td id=\"T_a5902e2e_da15_11ea_ad49_0242ac1c0002row10_col0\" class=\"data row10 col0\" >Sampled Data</td>\n",
       "                        <td id=\"T_a5902e2e_da15_11ea_ad49_0242ac1c0002row10_col1\" class=\"data row10 col1\" >(199364, 31)</td>\n",
       "            </tr>\n",
       "            <tr>\n",
       "                        <th id=\"T_a5902e2e_da15_11ea_ad49_0242ac1c0002level0_row11\" class=\"row_heading level0 row11\" >11</th>\n",
       "                        <td id=\"T_a5902e2e_da15_11ea_ad49_0242ac1c0002row11_col0\" class=\"data row11 col0\" >Transformed Train Set</td>\n",
       "                        <td id=\"T_a5902e2e_da15_11ea_ad49_0242ac1c0002row11_col1\" class=\"data row11 col1\" >(139554, 30)</td>\n",
       "            </tr>\n",
       "            <tr>\n",
       "                        <th id=\"T_a5902e2e_da15_11ea_ad49_0242ac1c0002level0_row12\" class=\"row_heading level0 row12\" >12</th>\n",
       "                        <td id=\"T_a5902e2e_da15_11ea_ad49_0242ac1c0002row12_col0\" class=\"data row12 col0\" >Transformed Test Set</td>\n",
       "                        <td id=\"T_a5902e2e_da15_11ea_ad49_0242ac1c0002row12_col1\" class=\"data row12 col1\" >(59810, 30)</td>\n",
       "            </tr>\n",
       "            <tr>\n",
       "                        <th id=\"T_a5902e2e_da15_11ea_ad49_0242ac1c0002level0_row13\" class=\"row_heading level0 row13\" >13</th>\n",
       "                        <td id=\"T_a5902e2e_da15_11ea_ad49_0242ac1c0002row13_col0\" class=\"data row13 col0\" >Numeric Imputer </td>\n",
       "                        <td id=\"T_a5902e2e_da15_11ea_ad49_0242ac1c0002row13_col1\" class=\"data row13 col1\" >mean</td>\n",
       "            </tr>\n",
       "            <tr>\n",
       "                        <th id=\"T_a5902e2e_da15_11ea_ad49_0242ac1c0002level0_row14\" class=\"row_heading level0 row14\" >14</th>\n",
       "                        <td id=\"T_a5902e2e_da15_11ea_ad49_0242ac1c0002row14_col0\" class=\"data row14 col0\" >Categorical Imputer </td>\n",
       "                        <td id=\"T_a5902e2e_da15_11ea_ad49_0242ac1c0002row14_col1\" class=\"data row14 col1\" >constant</td>\n",
       "            </tr>\n",
       "            <tr>\n",
       "                        <th id=\"T_a5902e2e_da15_11ea_ad49_0242ac1c0002level0_row15\" class=\"row_heading level0 row15\" >15</th>\n",
       "                        <td id=\"T_a5902e2e_da15_11ea_ad49_0242ac1c0002row15_col0\" class=\"data row15 col0\" >Normalize </td>\n",
       "                        <td id=\"T_a5902e2e_da15_11ea_ad49_0242ac1c0002row15_col1\" class=\"data row15 col1\" >False</td>\n",
       "            </tr>\n",
       "            <tr>\n",
       "                        <th id=\"T_a5902e2e_da15_11ea_ad49_0242ac1c0002level0_row16\" class=\"row_heading level0 row16\" >16</th>\n",
       "                        <td id=\"T_a5902e2e_da15_11ea_ad49_0242ac1c0002row16_col0\" class=\"data row16 col0\" >Normalize Method </td>\n",
       "                        <td id=\"T_a5902e2e_da15_11ea_ad49_0242ac1c0002row16_col1\" class=\"data row16 col1\" >None</td>\n",
       "            </tr>\n",
       "            <tr>\n",
       "                        <th id=\"T_a5902e2e_da15_11ea_ad49_0242ac1c0002level0_row17\" class=\"row_heading level0 row17\" >17</th>\n",
       "                        <td id=\"T_a5902e2e_da15_11ea_ad49_0242ac1c0002row17_col0\" class=\"data row17 col0\" >Transformation </td>\n",
       "                        <td id=\"T_a5902e2e_da15_11ea_ad49_0242ac1c0002row17_col1\" class=\"data row17 col1\" >False</td>\n",
       "            </tr>\n",
       "            <tr>\n",
       "                        <th id=\"T_a5902e2e_da15_11ea_ad49_0242ac1c0002level0_row18\" class=\"row_heading level0 row18\" >18</th>\n",
       "                        <td id=\"T_a5902e2e_da15_11ea_ad49_0242ac1c0002row18_col0\" class=\"data row18 col0\" >Transformation Method </td>\n",
       "                        <td id=\"T_a5902e2e_da15_11ea_ad49_0242ac1c0002row18_col1\" class=\"data row18 col1\" >None</td>\n",
       "            </tr>\n",
       "            <tr>\n",
       "                        <th id=\"T_a5902e2e_da15_11ea_ad49_0242ac1c0002level0_row19\" class=\"row_heading level0 row19\" >19</th>\n",
       "                        <td id=\"T_a5902e2e_da15_11ea_ad49_0242ac1c0002row19_col0\" class=\"data row19 col0\" >PCA </td>\n",
       "                        <td id=\"T_a5902e2e_da15_11ea_ad49_0242ac1c0002row19_col1\" class=\"data row19 col1\" >False</td>\n",
       "            </tr>\n",
       "            <tr>\n",
       "                        <th id=\"T_a5902e2e_da15_11ea_ad49_0242ac1c0002level0_row20\" class=\"row_heading level0 row20\" >20</th>\n",
       "                        <td id=\"T_a5902e2e_da15_11ea_ad49_0242ac1c0002row20_col0\" class=\"data row20 col0\" >PCA Method </td>\n",
       "                        <td id=\"T_a5902e2e_da15_11ea_ad49_0242ac1c0002row20_col1\" class=\"data row20 col1\" >None</td>\n",
       "            </tr>\n",
       "            <tr>\n",
       "                        <th id=\"T_a5902e2e_da15_11ea_ad49_0242ac1c0002level0_row21\" class=\"row_heading level0 row21\" >21</th>\n",
       "                        <td id=\"T_a5902e2e_da15_11ea_ad49_0242ac1c0002row21_col0\" class=\"data row21 col0\" >PCA Components </td>\n",
       "                        <td id=\"T_a5902e2e_da15_11ea_ad49_0242ac1c0002row21_col1\" class=\"data row21 col1\" >None</td>\n",
       "            </tr>\n",
       "            <tr>\n",
       "                        <th id=\"T_a5902e2e_da15_11ea_ad49_0242ac1c0002level0_row22\" class=\"row_heading level0 row22\" >22</th>\n",
       "                        <td id=\"T_a5902e2e_da15_11ea_ad49_0242ac1c0002row22_col0\" class=\"data row22 col0\" >Ignore Low Variance </td>\n",
       "                        <td id=\"T_a5902e2e_da15_11ea_ad49_0242ac1c0002row22_col1\" class=\"data row22 col1\" >False</td>\n",
       "            </tr>\n",
       "            <tr>\n",
       "                        <th id=\"T_a5902e2e_da15_11ea_ad49_0242ac1c0002level0_row23\" class=\"row_heading level0 row23\" >23</th>\n",
       "                        <td id=\"T_a5902e2e_da15_11ea_ad49_0242ac1c0002row23_col0\" class=\"data row23 col0\" >Combine Rare Levels </td>\n",
       "                        <td id=\"T_a5902e2e_da15_11ea_ad49_0242ac1c0002row23_col1\" class=\"data row23 col1\" >False</td>\n",
       "            </tr>\n",
       "            <tr>\n",
       "                        <th id=\"T_a5902e2e_da15_11ea_ad49_0242ac1c0002level0_row24\" class=\"row_heading level0 row24\" >24</th>\n",
       "                        <td id=\"T_a5902e2e_da15_11ea_ad49_0242ac1c0002row24_col0\" class=\"data row24 col0\" >Rare Level Threshold </td>\n",
       "                        <td id=\"T_a5902e2e_da15_11ea_ad49_0242ac1c0002row24_col1\" class=\"data row24 col1\" >None</td>\n",
       "            </tr>\n",
       "            <tr>\n",
       "                        <th id=\"T_a5902e2e_da15_11ea_ad49_0242ac1c0002level0_row25\" class=\"row_heading level0 row25\" >25</th>\n",
       "                        <td id=\"T_a5902e2e_da15_11ea_ad49_0242ac1c0002row25_col0\" class=\"data row25 col0\" >Numeric Binning </td>\n",
       "                        <td id=\"T_a5902e2e_da15_11ea_ad49_0242ac1c0002row25_col1\" class=\"data row25 col1\" >False</td>\n",
       "            </tr>\n",
       "            <tr>\n",
       "                        <th id=\"T_a5902e2e_da15_11ea_ad49_0242ac1c0002level0_row26\" class=\"row_heading level0 row26\" >26</th>\n",
       "                        <td id=\"T_a5902e2e_da15_11ea_ad49_0242ac1c0002row26_col0\" class=\"data row26 col0\" >Remove Outliers </td>\n",
       "                        <td id=\"T_a5902e2e_da15_11ea_ad49_0242ac1c0002row26_col1\" class=\"data row26 col1\" >False</td>\n",
       "            </tr>\n",
       "            <tr>\n",
       "                        <th id=\"T_a5902e2e_da15_11ea_ad49_0242ac1c0002level0_row27\" class=\"row_heading level0 row27\" >27</th>\n",
       "                        <td id=\"T_a5902e2e_da15_11ea_ad49_0242ac1c0002row27_col0\" class=\"data row27 col0\" >Outliers Threshold </td>\n",
       "                        <td id=\"T_a5902e2e_da15_11ea_ad49_0242ac1c0002row27_col1\" class=\"data row27 col1\" >None</td>\n",
       "            </tr>\n",
       "            <tr>\n",
       "                        <th id=\"T_a5902e2e_da15_11ea_ad49_0242ac1c0002level0_row28\" class=\"row_heading level0 row28\" >28</th>\n",
       "                        <td id=\"T_a5902e2e_da15_11ea_ad49_0242ac1c0002row28_col0\" class=\"data row28 col0\" >Remove Multicollinearity </td>\n",
       "                        <td id=\"T_a5902e2e_da15_11ea_ad49_0242ac1c0002row28_col1\" class=\"data row28 col1\" >False</td>\n",
       "            </tr>\n",
       "            <tr>\n",
       "                        <th id=\"T_a5902e2e_da15_11ea_ad49_0242ac1c0002level0_row29\" class=\"row_heading level0 row29\" >29</th>\n",
       "                        <td id=\"T_a5902e2e_da15_11ea_ad49_0242ac1c0002row29_col0\" class=\"data row29 col0\" >Multicollinearity Threshold </td>\n",
       "                        <td id=\"T_a5902e2e_da15_11ea_ad49_0242ac1c0002row29_col1\" class=\"data row29 col1\" >None</td>\n",
       "            </tr>\n",
       "            <tr>\n",
       "                        <th id=\"T_a5902e2e_da15_11ea_ad49_0242ac1c0002level0_row30\" class=\"row_heading level0 row30\" >30</th>\n",
       "                        <td id=\"T_a5902e2e_da15_11ea_ad49_0242ac1c0002row30_col0\" class=\"data row30 col0\" >Clustering </td>\n",
       "                        <td id=\"T_a5902e2e_da15_11ea_ad49_0242ac1c0002row30_col1\" class=\"data row30 col1\" >False</td>\n",
       "            </tr>\n",
       "            <tr>\n",
       "                        <th id=\"T_a5902e2e_da15_11ea_ad49_0242ac1c0002level0_row31\" class=\"row_heading level0 row31\" >31</th>\n",
       "                        <td id=\"T_a5902e2e_da15_11ea_ad49_0242ac1c0002row31_col0\" class=\"data row31 col0\" >Clustering Iteration </td>\n",
       "                        <td id=\"T_a5902e2e_da15_11ea_ad49_0242ac1c0002row31_col1\" class=\"data row31 col1\" >None</td>\n",
       "            </tr>\n",
       "            <tr>\n",
       "                        <th id=\"T_a5902e2e_da15_11ea_ad49_0242ac1c0002level0_row32\" class=\"row_heading level0 row32\" >32</th>\n",
       "                        <td id=\"T_a5902e2e_da15_11ea_ad49_0242ac1c0002row32_col0\" class=\"data row32 col0\" >Polynomial Features </td>\n",
       "                        <td id=\"T_a5902e2e_da15_11ea_ad49_0242ac1c0002row32_col1\" class=\"data row32 col1\" >False</td>\n",
       "            </tr>\n",
       "            <tr>\n",
       "                        <th id=\"T_a5902e2e_da15_11ea_ad49_0242ac1c0002level0_row33\" class=\"row_heading level0 row33\" >33</th>\n",
       "                        <td id=\"T_a5902e2e_da15_11ea_ad49_0242ac1c0002row33_col0\" class=\"data row33 col0\" >Polynomial Degree </td>\n",
       "                        <td id=\"T_a5902e2e_da15_11ea_ad49_0242ac1c0002row33_col1\" class=\"data row33 col1\" >None</td>\n",
       "            </tr>\n",
       "            <tr>\n",
       "                        <th id=\"T_a5902e2e_da15_11ea_ad49_0242ac1c0002level0_row34\" class=\"row_heading level0 row34\" >34</th>\n",
       "                        <td id=\"T_a5902e2e_da15_11ea_ad49_0242ac1c0002row34_col0\" class=\"data row34 col0\" >Trignometry Features </td>\n",
       "                        <td id=\"T_a5902e2e_da15_11ea_ad49_0242ac1c0002row34_col1\" class=\"data row34 col1\" >False</td>\n",
       "            </tr>\n",
       "            <tr>\n",
       "                        <th id=\"T_a5902e2e_da15_11ea_ad49_0242ac1c0002level0_row35\" class=\"row_heading level0 row35\" >35</th>\n",
       "                        <td id=\"T_a5902e2e_da15_11ea_ad49_0242ac1c0002row35_col0\" class=\"data row35 col0\" >Polynomial Threshold </td>\n",
       "                        <td id=\"T_a5902e2e_da15_11ea_ad49_0242ac1c0002row35_col1\" class=\"data row35 col1\" >None</td>\n",
       "            </tr>\n",
       "            <tr>\n",
       "                        <th id=\"T_a5902e2e_da15_11ea_ad49_0242ac1c0002level0_row36\" class=\"row_heading level0 row36\" >36</th>\n",
       "                        <td id=\"T_a5902e2e_da15_11ea_ad49_0242ac1c0002row36_col0\" class=\"data row36 col0\" >Group Features </td>\n",
       "                        <td id=\"T_a5902e2e_da15_11ea_ad49_0242ac1c0002row36_col1\" class=\"data row36 col1\" >False</td>\n",
       "            </tr>\n",
       "            <tr>\n",
       "                        <th id=\"T_a5902e2e_da15_11ea_ad49_0242ac1c0002level0_row37\" class=\"row_heading level0 row37\" >37</th>\n",
       "                        <td id=\"T_a5902e2e_da15_11ea_ad49_0242ac1c0002row37_col0\" class=\"data row37 col0\" >Feature Selection </td>\n",
       "                        <td id=\"T_a5902e2e_da15_11ea_ad49_0242ac1c0002row37_col1\" class=\"data row37 col1\" >False</td>\n",
       "            </tr>\n",
       "            <tr>\n",
       "                        <th id=\"T_a5902e2e_da15_11ea_ad49_0242ac1c0002level0_row38\" class=\"row_heading level0 row38\" >38</th>\n",
       "                        <td id=\"T_a5902e2e_da15_11ea_ad49_0242ac1c0002row38_col0\" class=\"data row38 col0\" >Features Selection Threshold </td>\n",
       "                        <td id=\"T_a5902e2e_da15_11ea_ad49_0242ac1c0002row38_col1\" class=\"data row38 col1\" >None</td>\n",
       "            </tr>\n",
       "            <tr>\n",
       "                        <th id=\"T_a5902e2e_da15_11ea_ad49_0242ac1c0002level0_row39\" class=\"row_heading level0 row39\" >39</th>\n",
       "                        <td id=\"T_a5902e2e_da15_11ea_ad49_0242ac1c0002row39_col0\" class=\"data row39 col0\" >Feature Interaction </td>\n",
       "                        <td id=\"T_a5902e2e_da15_11ea_ad49_0242ac1c0002row39_col1\" class=\"data row39 col1\" >False</td>\n",
       "            </tr>\n",
       "            <tr>\n",
       "                        <th id=\"T_a5902e2e_da15_11ea_ad49_0242ac1c0002level0_row40\" class=\"row_heading level0 row40\" >40</th>\n",
       "                        <td id=\"T_a5902e2e_da15_11ea_ad49_0242ac1c0002row40_col0\" class=\"data row40 col0\" >Feature Ratio </td>\n",
       "                        <td id=\"T_a5902e2e_da15_11ea_ad49_0242ac1c0002row40_col1\" class=\"data row40 col1\" >False</td>\n",
       "            </tr>\n",
       "            <tr>\n",
       "                        <th id=\"T_a5902e2e_da15_11ea_ad49_0242ac1c0002level0_row41\" class=\"row_heading level0 row41\" >41</th>\n",
       "                        <td id=\"T_a5902e2e_da15_11ea_ad49_0242ac1c0002row41_col0\" class=\"data row41 col0\" >Interaction Threshold </td>\n",
       "                        <td id=\"T_a5902e2e_da15_11ea_ad49_0242ac1c0002row41_col1\" class=\"data row41 col1\" >None</td>\n",
       "            </tr>\n",
       "            <tr>\n",
       "                        <th id=\"T_a5902e2e_da15_11ea_ad49_0242ac1c0002level0_row42\" class=\"row_heading level0 row42\" >42</th>\n",
       "                        <td id=\"T_a5902e2e_da15_11ea_ad49_0242ac1c0002row42_col0\" class=\"data row42 col0\" >Fix Imbalance</td>\n",
       "                        <td id=\"T_a5902e2e_da15_11ea_ad49_0242ac1c0002row42_col1\" class=\"data row42 col1\" >True</td>\n",
       "            </tr>\n",
       "            <tr>\n",
       "                        <th id=\"T_a5902e2e_da15_11ea_ad49_0242ac1c0002level0_row43\" class=\"row_heading level0 row43\" >43</th>\n",
       "                        <td id=\"T_a5902e2e_da15_11ea_ad49_0242ac1c0002row43_col0\" class=\"data row43 col0\" >Fix Imbalance Method</td>\n",
       "                        <td id=\"T_a5902e2e_da15_11ea_ad49_0242ac1c0002row43_col1\" class=\"data row43 col1\" >SMOTE</td>\n",
       "            </tr>\n",
       "    </tbody></table>"
      ],
      "text/plain": [
       "<pandas.io.formats.style.Styler at 0x7f93503042e8>"
      ]
     },
     "metadata": {
      "tags": []
     },
     "output_type": "display_data"
    }
   ],
   "source": [
    "clf=setup(data=df,target='Class',fix_imbalance=True) #fix_imbalance will automaticaaly fix the imbalanced dataset by oversampling using the SMOTE method."
   ]
  },
  {
   "cell_type": "markdown",
   "metadata": {
    "colab_type": "text",
    "id": "nQyNyXctwAGx"
   },
   "source": [
    "### SMOTE method: SMOTe is a technique based on nearest neighbors judged by Euclidean Distance between data points in feature space. There is a percentage of Over-Sampling which indicates the number of synthetic samples to be created and this percentage parameter of Over-sampling is always a multiple of 100."
   ]
  },
  {
   "cell_type": "code",
   "execution_count": null,
   "metadata": {
    "colab": {},
    "colab_type": "code",
    "id": "SU3zRpKcVgi0"
   },
   "outputs": [],
   "source": [
    "#Uncomment the following code to compare the performance of all the classification models\n",
    "\n",
    "\n",
    "#compare_models() "
   ]
  },
  {
   "cell_type": "markdown",
   "metadata": {
    "colab_type": "text",
    "id": "PBAqx-IuPGb5"
   },
   "source": [
    "## We will choose the model with high precision because here we need to have a high precision than high accuracy or high recalls.\n",
    "\n",
    "This link will provide you some overview of precision and recall.\n",
    "Link: https://developers.google.com/machine-learning/crash-course/classification/precision-and-recall"
   ]
  },
  {
   "cell_type": "markdown",
   "metadata": {
    "colab_type": "text",
    "id": "wNdaW3J5V3rk"
   },
   "source": [
    "We are creating the random forest classifier because it works really well with these types of dataset. You can have a quick view of the different models using 'compare_models()'"
   ]
  },
  {
   "cell_type": "code",
   "execution_count": 12,
   "metadata": {
    "colab": {
     "base_uri": "https://localhost:8080/",
     "height": 407,
     "referenced_widgets": [
      "ac8d355c4fd04396a4b3962e69b57e78",
      "e359da09f13c44939189b6dd7a8f7c7f",
      "bb8c34bfea704c3ca6f5733b4ed15f4d"
     ]
    },
    "colab_type": "code",
    "id": "0RHd8qp1wL9Y",
    "outputId": "5571d088-6ef1-47fa-9377-a4f09258be91"
   },
   "outputs": [
    {
     "data": {
      "text/html": [
       "<style  type=\"text/css\" >\n",
       "    #T_846c3274_da1a_11ea_ad49_0242ac1c0002row10_col0 {\n",
       "            background:  yellow;\n",
       "        }    #T_846c3274_da1a_11ea_ad49_0242ac1c0002row10_col1 {\n",
       "            background:  yellow;\n",
       "        }    #T_846c3274_da1a_11ea_ad49_0242ac1c0002row10_col2 {\n",
       "            background:  yellow;\n",
       "        }    #T_846c3274_da1a_11ea_ad49_0242ac1c0002row10_col3 {\n",
       "            background:  yellow;\n",
       "        }    #T_846c3274_da1a_11ea_ad49_0242ac1c0002row10_col4 {\n",
       "            background:  yellow;\n",
       "        }    #T_846c3274_da1a_11ea_ad49_0242ac1c0002row10_col5 {\n",
       "            background:  yellow;\n",
       "        }    #T_846c3274_da1a_11ea_ad49_0242ac1c0002row10_col6 {\n",
       "            background:  yellow;\n",
       "        }</style><table id=\"T_846c3274_da1a_11ea_ad49_0242ac1c0002\" ><thead>    <tr>        <th class=\"blank level0\" ></th>        <th class=\"col_heading level0 col0\" >Accuracy</th>        <th class=\"col_heading level0 col1\" >AUC</th>        <th class=\"col_heading level0 col2\" >Recall</th>        <th class=\"col_heading level0 col3\" >Prec.</th>        <th class=\"col_heading level0 col4\" >F1</th>        <th class=\"col_heading level0 col5\" >Kappa</th>        <th class=\"col_heading level0 col6\" >MCC</th>    </tr></thead><tbody>\n",
       "                <tr>\n",
       "                        <th id=\"T_846c3274_da1a_11ea_ad49_0242ac1c0002level0_row0\" class=\"row_heading level0 row0\" >0</th>\n",
       "                        <td id=\"T_846c3274_da1a_11ea_ad49_0242ac1c0002row0_col0\" class=\"data row0 col0\" >0.9996</td>\n",
       "                        <td id=\"T_846c3274_da1a_11ea_ad49_0242ac1c0002row0_col1\" class=\"data row0 col1\" >0.9782</td>\n",
       "                        <td id=\"T_846c3274_da1a_11ea_ad49_0242ac1c0002row0_col2\" class=\"data row0 col2\" >0.8333</td>\n",
       "                        <td id=\"T_846c3274_da1a_11ea_ad49_0242ac1c0002row0_col3\" class=\"data row0 col3\" >0.9524</td>\n",
       "                        <td id=\"T_846c3274_da1a_11ea_ad49_0242ac1c0002row0_col4\" class=\"data row0 col4\" >0.8889</td>\n",
       "                        <td id=\"T_846c3274_da1a_11ea_ad49_0242ac1c0002row0_col5\" class=\"data row0 col5\" >0.8887</td>\n",
       "                        <td id=\"T_846c3274_da1a_11ea_ad49_0242ac1c0002row0_col6\" class=\"data row0 col6\" >0.8907</td>\n",
       "            </tr>\n",
       "            <tr>\n",
       "                        <th id=\"T_846c3274_da1a_11ea_ad49_0242ac1c0002level0_row1\" class=\"row_heading level0 row1\" >1</th>\n",
       "                        <td id=\"T_846c3274_da1a_11ea_ad49_0242ac1c0002row1_col0\" class=\"data row1 col0\" >0.9994</td>\n",
       "                        <td id=\"T_846c3274_da1a_11ea_ad49_0242ac1c0002row1_col1\" class=\"data row1 col1\" >0.8722</td>\n",
       "                        <td id=\"T_846c3274_da1a_11ea_ad49_0242ac1c0002row1_col2\" class=\"data row1 col2\" >0.7083</td>\n",
       "                        <td id=\"T_846c3274_da1a_11ea_ad49_0242ac1c0002row1_col3\" class=\"data row1 col3\" >0.8947</td>\n",
       "                        <td id=\"T_846c3274_da1a_11ea_ad49_0242ac1c0002row1_col4\" class=\"data row1 col4\" >0.7907</td>\n",
       "                        <td id=\"T_846c3274_da1a_11ea_ad49_0242ac1c0002row1_col5\" class=\"data row1 col5\" >0.7904</td>\n",
       "                        <td id=\"T_846c3274_da1a_11ea_ad49_0242ac1c0002row1_col6\" class=\"data row1 col6\" >0.7958</td>\n",
       "            </tr>\n",
       "            <tr>\n",
       "                        <th id=\"T_846c3274_da1a_11ea_ad49_0242ac1c0002level0_row2\" class=\"row_heading level0 row2\" >2</th>\n",
       "                        <td id=\"T_846c3274_da1a_11ea_ad49_0242ac1c0002row2_col0\" class=\"data row2 col0\" >0.9994</td>\n",
       "                        <td id=\"T_846c3274_da1a_11ea_ad49_0242ac1c0002row2_col1\" class=\"data row2 col1\" >0.9572</td>\n",
       "                        <td id=\"T_846c3274_da1a_11ea_ad49_0242ac1c0002row2_col2\" class=\"data row2 col2\" >0.8750</td>\n",
       "                        <td id=\"T_846c3274_da1a_11ea_ad49_0242ac1c0002row2_col3\" class=\"data row2 col3\" >0.8077</td>\n",
       "                        <td id=\"T_846c3274_da1a_11ea_ad49_0242ac1c0002row2_col4\" class=\"data row2 col4\" >0.8400</td>\n",
       "                        <td id=\"T_846c3274_da1a_11ea_ad49_0242ac1c0002row2_col5\" class=\"data row2 col5\" >0.8397</td>\n",
       "                        <td id=\"T_846c3274_da1a_11ea_ad49_0242ac1c0002row2_col6\" class=\"data row2 col6\" >0.8404</td>\n",
       "            </tr>\n",
       "            <tr>\n",
       "                        <th id=\"T_846c3274_da1a_11ea_ad49_0242ac1c0002level0_row3\" class=\"row_heading level0 row3\" >3</th>\n",
       "                        <td id=\"T_846c3274_da1a_11ea_ad49_0242ac1c0002row3_col0\" class=\"data row3 col0\" >0.9997</td>\n",
       "                        <td id=\"T_846c3274_da1a_11ea_ad49_0242ac1c0002row3_col1\" class=\"data row3 col1\" >0.9386</td>\n",
       "                        <td id=\"T_846c3274_da1a_11ea_ad49_0242ac1c0002row3_col2\" class=\"data row3 col2\" >0.8800</td>\n",
       "                        <td id=\"T_846c3274_da1a_11ea_ad49_0242ac1c0002row3_col3\" class=\"data row3 col3\" >0.9565</td>\n",
       "                        <td id=\"T_846c3274_da1a_11ea_ad49_0242ac1c0002row3_col4\" class=\"data row3 col4\" >0.9167</td>\n",
       "                        <td id=\"T_846c3274_da1a_11ea_ad49_0242ac1c0002row3_col5\" class=\"data row3 col5\" >0.9165</td>\n",
       "                        <td id=\"T_846c3274_da1a_11ea_ad49_0242ac1c0002row3_col6\" class=\"data row3 col6\" >0.9173</td>\n",
       "            </tr>\n",
       "            <tr>\n",
       "                        <th id=\"T_846c3274_da1a_11ea_ad49_0242ac1c0002level0_row4\" class=\"row_heading level0 row4\" >4</th>\n",
       "                        <td id=\"T_846c3274_da1a_11ea_ad49_0242ac1c0002row4_col0\" class=\"data row4 col0\" >0.9994</td>\n",
       "                        <td id=\"T_846c3274_da1a_11ea_ad49_0242ac1c0002row4_col1\" class=\"data row4 col1\" >0.9147</td>\n",
       "                        <td id=\"T_846c3274_da1a_11ea_ad49_0242ac1c0002row4_col2\" class=\"data row4 col2\" >0.7500</td>\n",
       "                        <td id=\"T_846c3274_da1a_11ea_ad49_0242ac1c0002row4_col3\" class=\"data row4 col3\" >0.8571</td>\n",
       "                        <td id=\"T_846c3274_da1a_11ea_ad49_0242ac1c0002row4_col4\" class=\"data row4 col4\" >0.8000</td>\n",
       "                        <td id=\"T_846c3274_da1a_11ea_ad49_0242ac1c0002row4_col5\" class=\"data row4 col5\" >0.7997</td>\n",
       "                        <td id=\"T_846c3274_da1a_11ea_ad49_0242ac1c0002row4_col6\" class=\"data row4 col6\" >0.8015</td>\n",
       "            </tr>\n",
       "            <tr>\n",
       "                        <th id=\"T_846c3274_da1a_11ea_ad49_0242ac1c0002level0_row5\" class=\"row_heading level0 row5\" >5</th>\n",
       "                        <td id=\"T_846c3274_da1a_11ea_ad49_0242ac1c0002row5_col0\" class=\"data row5 col0\" >0.9997</td>\n",
       "                        <td id=\"T_846c3274_da1a_11ea_ad49_0242ac1c0002row5_col1\" class=\"data row5 col1\" >0.9574</td>\n",
       "                        <td id=\"T_846c3274_da1a_11ea_ad49_0242ac1c0002row5_col2\" class=\"data row5 col2\" >0.9167</td>\n",
       "                        <td id=\"T_846c3274_da1a_11ea_ad49_0242ac1c0002row5_col3\" class=\"data row5 col3\" >0.9167</td>\n",
       "                        <td id=\"T_846c3274_da1a_11ea_ad49_0242ac1c0002row5_col4\" class=\"data row5 col4\" >0.9167</td>\n",
       "                        <td id=\"T_846c3274_da1a_11ea_ad49_0242ac1c0002row5_col5\" class=\"data row5 col5\" >0.9165</td>\n",
       "                        <td id=\"T_846c3274_da1a_11ea_ad49_0242ac1c0002row5_col6\" class=\"data row5 col6\" >0.9165</td>\n",
       "            </tr>\n",
       "            <tr>\n",
       "                        <th id=\"T_846c3274_da1a_11ea_ad49_0242ac1c0002level0_row6\" class=\"row_heading level0 row6\" >6</th>\n",
       "                        <td id=\"T_846c3274_da1a_11ea_ad49_0242ac1c0002row6_col0\" class=\"data row6 col0\" >0.9995</td>\n",
       "                        <td id=\"T_846c3274_da1a_11ea_ad49_0242ac1c0002row6_col1\" class=\"data row6 col1\" >0.9142</td>\n",
       "                        <td id=\"T_846c3274_da1a_11ea_ad49_0242ac1c0002row6_col2\" class=\"data row6 col2\" >0.7917</td>\n",
       "                        <td id=\"T_846c3274_da1a_11ea_ad49_0242ac1c0002row6_col3\" class=\"data row6 col3\" >0.9048</td>\n",
       "                        <td id=\"T_846c3274_da1a_11ea_ad49_0242ac1c0002row6_col4\" class=\"data row6 col4\" >0.8444</td>\n",
       "                        <td id=\"T_846c3274_da1a_11ea_ad49_0242ac1c0002row6_col5\" class=\"data row6 col5\" >0.8442</td>\n",
       "                        <td id=\"T_846c3274_da1a_11ea_ad49_0242ac1c0002row6_col6\" class=\"data row6 col6\" >0.8461</td>\n",
       "            </tr>\n",
       "            <tr>\n",
       "                        <th id=\"T_846c3274_da1a_11ea_ad49_0242ac1c0002level0_row7\" class=\"row_heading level0 row7\" >7</th>\n",
       "                        <td id=\"T_846c3274_da1a_11ea_ad49_0242ac1c0002row7_col0\" class=\"data row7 col0\" >0.9994</td>\n",
       "                        <td id=\"T_846c3274_da1a_11ea_ad49_0242ac1c0002row7_col1\" class=\"data row7 col1\" >0.9141</td>\n",
       "                        <td id=\"T_846c3274_da1a_11ea_ad49_0242ac1c0002row7_col2\" class=\"data row7 col2\" >0.7917</td>\n",
       "                        <td id=\"T_846c3274_da1a_11ea_ad49_0242ac1c0002row7_col3\" class=\"data row7 col3\" >0.8261</td>\n",
       "                        <td id=\"T_846c3274_da1a_11ea_ad49_0242ac1c0002row7_col4\" class=\"data row7 col4\" >0.8085</td>\n",
       "                        <td id=\"T_846c3274_da1a_11ea_ad49_0242ac1c0002row7_col5\" class=\"data row7 col5\" >0.8082</td>\n",
       "                        <td id=\"T_846c3274_da1a_11ea_ad49_0242ac1c0002row7_col6\" class=\"data row7 col6\" >0.8084</td>\n",
       "            </tr>\n",
       "            <tr>\n",
       "                        <th id=\"T_846c3274_da1a_11ea_ad49_0242ac1c0002level0_row8\" class=\"row_heading level0 row8\" >8</th>\n",
       "                        <td id=\"T_846c3274_da1a_11ea_ad49_0242ac1c0002row8_col0\" class=\"data row8 col0\" >0.9994</td>\n",
       "                        <td id=\"T_846c3274_da1a_11ea_ad49_0242ac1c0002row8_col1\" class=\"data row8 col1\" >0.9359</td>\n",
       "                        <td id=\"T_846c3274_da1a_11ea_ad49_0242ac1c0002row8_col2\" class=\"data row8 col2\" >0.8333</td>\n",
       "                        <td id=\"T_846c3274_da1a_11ea_ad49_0242ac1c0002row8_col3\" class=\"data row8 col3\" >0.8333</td>\n",
       "                        <td id=\"T_846c3274_da1a_11ea_ad49_0242ac1c0002row8_col4\" class=\"data row8 col4\" >0.8333</td>\n",
       "                        <td id=\"T_846c3274_da1a_11ea_ad49_0242ac1c0002row8_col5\" class=\"data row8 col5\" >0.8330</td>\n",
       "                        <td id=\"T_846c3274_da1a_11ea_ad49_0242ac1c0002row8_col6\" class=\"data row8 col6\" >0.8330</td>\n",
       "            </tr>\n",
       "            <tr>\n",
       "                        <th id=\"T_846c3274_da1a_11ea_ad49_0242ac1c0002level0_row9\" class=\"row_heading level0 row9\" >9</th>\n",
       "                        <td id=\"T_846c3274_da1a_11ea_ad49_0242ac1c0002row9_col0\" class=\"data row9 col0\" >0.9995</td>\n",
       "                        <td id=\"T_846c3274_da1a_11ea_ad49_0242ac1c0002row9_col1\" class=\"data row9 col1\" >0.9358</td>\n",
       "                        <td id=\"T_846c3274_da1a_11ea_ad49_0242ac1c0002row9_col2\" class=\"data row9 col2\" >0.7500</td>\n",
       "                        <td id=\"T_846c3274_da1a_11ea_ad49_0242ac1c0002row9_col3\" class=\"data row9 col3\" >0.9474</td>\n",
       "                        <td id=\"T_846c3274_da1a_11ea_ad49_0242ac1c0002row9_col4\" class=\"data row9 col4\" >0.8372</td>\n",
       "                        <td id=\"T_846c3274_da1a_11ea_ad49_0242ac1c0002row9_col5\" class=\"data row9 col5\" >0.8370</td>\n",
       "                        <td id=\"T_846c3274_da1a_11ea_ad49_0242ac1c0002row9_col6\" class=\"data row9 col6\" >0.8427</td>\n",
       "            </tr>\n",
       "            <tr>\n",
       "                        <th id=\"T_846c3274_da1a_11ea_ad49_0242ac1c0002level0_row10\" class=\"row_heading level0 row10\" >Mean</th>\n",
       "                        <td id=\"T_846c3274_da1a_11ea_ad49_0242ac1c0002row10_col0\" class=\"data row10 col0\" >0.9995</td>\n",
       "                        <td id=\"T_846c3274_da1a_11ea_ad49_0242ac1c0002row10_col1\" class=\"data row10 col1\" >0.9318</td>\n",
       "                        <td id=\"T_846c3274_da1a_11ea_ad49_0242ac1c0002row10_col2\" class=\"data row10 col2\" >0.8130</td>\n",
       "                        <td id=\"T_846c3274_da1a_11ea_ad49_0242ac1c0002row10_col3\" class=\"data row10 col3\" >0.8897</td>\n",
       "                        <td id=\"T_846c3274_da1a_11ea_ad49_0242ac1c0002row10_col4\" class=\"data row10 col4\" >0.8476</td>\n",
       "                        <td id=\"T_846c3274_da1a_11ea_ad49_0242ac1c0002row10_col5\" class=\"data row10 col5\" >0.8474</td>\n",
       "                        <td id=\"T_846c3274_da1a_11ea_ad49_0242ac1c0002row10_col6\" class=\"data row10 col6\" >0.8492</td>\n",
       "            </tr>\n",
       "            <tr>\n",
       "                        <th id=\"T_846c3274_da1a_11ea_ad49_0242ac1c0002level0_row11\" class=\"row_heading level0 row11\" >SD</th>\n",
       "                        <td id=\"T_846c3274_da1a_11ea_ad49_0242ac1c0002row11_col0\" class=\"data row11 col0\" >0.0001</td>\n",
       "                        <td id=\"T_846c3274_da1a_11ea_ad49_0242ac1c0002row11_col1\" class=\"data row11 col1\" >0.0283</td>\n",
       "                        <td id=\"T_846c3274_da1a_11ea_ad49_0242ac1c0002row11_col2\" class=\"data row11 col2\" >0.0630</td>\n",
       "                        <td id=\"T_846c3274_da1a_11ea_ad49_0242ac1c0002row11_col3\" class=\"data row11 col3\" >0.0526</td>\n",
       "                        <td id=\"T_846c3274_da1a_11ea_ad49_0242ac1c0002row11_col4\" class=\"data row11 col4\" >0.0432</td>\n",
       "                        <td id=\"T_846c3274_da1a_11ea_ad49_0242ac1c0002row11_col5\" class=\"data row11 col5\" >0.0433</td>\n",
       "                        <td id=\"T_846c3274_da1a_11ea_ad49_0242ac1c0002row11_col6\" class=\"data row11 col6\" >0.0425</td>\n",
       "            </tr>\n",
       "    </tbody></table>"
      ],
      "text/plain": [
       "<pandas.io.formats.style.Styler at 0x7f934b12bc50>"
      ]
     },
     "metadata": {
      "tags": []
     },
     "output_type": "display_data"
    },
    {
     "name": "stdout",
     "output_type": "stream",
     "text": [
      "RandomForestClassifier(bootstrap=True, ccp_alpha=0.0, class_weight=None,\n",
      "                       criterion='gini', max_depth=None, max_features='auto',\n",
      "                       max_leaf_nodes=None, max_samples=None,\n",
      "                       min_impurity_decrease=0.0, min_impurity_split=None,\n",
      "                       min_samples_leaf=1, min_samples_split=2,\n",
      "                       min_weight_fraction_leaf=0.0, n_estimators=10, n_jobs=-1,\n",
      "                       oob_score=False, random_state=3458, verbose=0,\n",
      "                       warm_start=False)\n"
     ]
    }
   ],
   "source": [
    "classifier=create_model('rf')\n",
    "print(classifier)"
   ]
  },
  {
   "cell_type": "markdown",
   "metadata": {
    "colab_type": "text",
    "id": "aOH_EldwQ5Rt"
   },
   "source": [
    "## Classification plots"
   ]
  },
  {
   "cell_type": "code",
   "execution_count": 16,
   "metadata": {
    "colab": {
     "base_uri": "https://localhost:8080/",
     "height": 401,
     "referenced_widgets": [
      "b974713bf81244b8ad8567b1b797b3a0",
      "1cc5d7149d994632a82330b094bd257f",
      "776d2b0cd8fc416790be305938018d61"
     ]
    },
    "colab_type": "code",
    "id": "kjbCMz7KQ43s",
    "outputId": "ed8ab10d-6a8a-4e9e-8f2c-234b2d5c9548"
   },
   "outputs": [
    {
     "data": {
      "image/png": "[encoded data removed]",
      "text/plain": [
       "<Figure size 576x396 with 2 Axes>"
      ]
     },
     "metadata": {
      "tags": []
     },
     "output_type": "display_data"
    }
   ],
   "source": [
    "# Plotting the classification report\n",
    "plot_model(classifier,plot='class_report')\n"
   ]
  },
  {
   "cell_type": "markdown",
   "metadata": {
    "colab_type": "text",
    "id": "8ib3-Oc7X_6s"
   },
   "source": [
    "### Here important point to notice is the precision, recall, and f1 score for the positive class that is '1'"
   ]
  },
  {
   "cell_type": "code",
   "execution_count": 17,
   "metadata": {
    "colab": {
     "base_uri": "https://localhost:8080/",
     "height": 374,
     "referenced_widgets": [
      "33b14c76463243c89e55d95509cab12d"
     ]
    },
    "colab_type": "code",
    "id": "ZdE1WS5cQ4q9",
    "outputId": "99306c54-e58b-40d3-c1b0-fe6a0956f314"
   },
   "outputs": [
    {
     "data": {
      "image/png": "[encoded data removed]",
      "text/plain": [
       "<Figure size 576x396 with 1 Axes>"
      ]
     },
     "metadata": {
      "tags": []
     },
     "output_type": "display_data"
    }
   ],
   "source": [
    "# Plotting the confusion matrix\n",
    "plot_model(classifier,plot='confusion_matrix')\n"
   ]
  },
  {
   "cell_type": "markdown",
   "metadata": {
    "colab_type": "text",
    "id": "BPKk8BRnRWcO"
   },
   "source": [
    "## Now, from the above plots we can easily conclude that we succesfully handled our highly imbalanced dataset as our precision score is high(90.1%). We would got a high accuracy score and recall score but a very low precision score, if we haven't succesfully handled our imbalanced dataset."
   ]
  },
  {
   "cell_type": "code",
   "execution_count": null,
   "metadata": {
    "colab": {},
    "colab_type": "code",
    "id": "vx-bh4yQXG7x"
   },
   "outputs": [],
   "source": []
  }
 ],
 "metadata": {
  "accelerator": "GPU",
  "colab": {
   "name": "Handling imbalanced dataset (credit card fraud) tutorial- Imbalanced101 ",
   "provenance": []
  },
  "kernelspec": {
   "display_name": "Python 3",
   "language": "python",
   "name": "python3"
  },
  "language_info": {
   "codemirror_mode": {
    "name": "ipython",
    "version": 3
   },
   "file_extension": ".py",
   "mimetype": "text/x-python",
   "name": "python",
   "nbconvert_exporter": "python",
   "pygments_lexer": "ipython3",
   "version": "3.8.5"
  },
  "widgets": {
   "application/vnd.jupyter.widget-state+json": {
    "0955e5b8be8042bbae4ee23c230a61eb": {
     "model_module": "@jupyter-widgets/controls",
     "model_name": "IntProgressModel",
     "state": {
      "_dom_classes": [],
      "_model_module": "@jupyter-widgets/controls",
      "_model_module_version": "1.5.0",
      "_model_name": "IntProgressModel",
      "_view_count": null,
      "_view_module": "@jupyter-widgets/controls",
      "_view_module_version": "1.5.0",
      "_view_name": "ProgressView",
      "bar_style": "",
      "description": "Processing: ",
      "description_tooltip": null,
      "layout": "IPY_MODEL_9169f9e763314fddb72dfea8cabd09a4",
      "max": 13,
      "min": 0,
      "orientation": "horizontal",
      "style": "IPY_MODEL_7d901db567184b758cd7e56ab776f1d3",
      "value": 12
     }
    },
    "1cc5d7149d994632a82330b094bd257f": {
     "model_module": "@jupyter-widgets/controls",
     "model_name": "ProgressStyleModel",
     "state": {
      "_model_module": "@jupyter-widgets/controls",
      "_model_module_version": "1.5.0",
      "_model_name": "ProgressStyleModel",
      "_view_count": null,
      "_view_module": "@jupyter-widgets/base",
      "_view_module_version": "1.2.0",
      "_view_name": "StyleView",
      "bar_color": null,
      "description_width": ""
     }
    },
    "33b14c76463243c89e55d95509cab12d": {
     "model_module": "@jupyter-widgets/controls",
     "model_name": "IntProgressModel",
     "state": {
      "_dom_classes": [],
      "_model_module": "@jupyter-widgets/controls",
      "_model_module_version": "1.5.0",
      "_model_name": "IntProgressModel",
      "_view_count": null,
      "_view_module": "@jupyter-widgets/controls",
      "_view_module_version": "1.5.0",
      "_view_name": "ProgressView",
      "bar_style": "",
      "description": "Processing: ",
      "description_tooltip": null,
      "layout": "IPY_MODEL_5238e99a800744fca29032b5bfb4465d",
      "max": 5,
      "min": 0,
      "orientation": "horizontal",
      "style": "IPY_MODEL_d86bb58f2d054918aba12090f680520b",
      "value": 5
     }
    },
    "727e71d800a742bcb3c81ed2e8e964ee": {
     "model_module": "@jupyter-widgets/controls",
     "model_name": "TextModel",
     "state": {
      "_dom_classes": [],
      "_model_module": "@jupyter-widgets/controls",
      "_model_module_version": "1.5.0",
      "_model_name": "TextModel",
      "_view_count": null,
      "_view_module": "@jupyter-widgets/controls",
      "_view_module_version": "1.5.0",
      "_view_name": "TextView",
      "continuous_update": true,
      "description": "",
      "description_tooltip": null,
      "disabled": false,
      "layout": "IPY_MODEL_a84f1abc70714e33a58147e1c6f995ef",
      "placeholder": "​",
      "style": "IPY_MODEL_f9a6f7e7b553446392ca730a47f4bb3a",
      "value": "Following data types have been inferred automatically, if they are correct press enter to continue or type 'quit' otherwise."
     }
    },
    "776d2b0cd8fc416790be305938018d61": {
     "model_module": "@jupyter-widgets/base",
     "model_name": "LayoutModel",
     "state": {
      "_model_module": "@jupyter-widgets/base",
      "_model_module_version": "1.2.0",
      "_model_name": "LayoutModel",
      "_view_count": null,
      "_view_module": "@jupyter-widgets/base",
      "_view_module_version": "1.2.0",
      "_view_name": "LayoutView",
      "align_content": null,
      "align_items": null,
      "align_self": null,
      "border": null,
      "bottom": null,
      "display": null,
      "flex": null,
      "flex_flow": null,
      "grid_area": null,
      "grid_auto_columns": null,
      "grid_auto_flow": null,
      "grid_auto_rows": null,
      "grid_column": null,
      "grid_gap": null,
      "grid_row": null,
      "grid_template_areas": null,
      "grid_template_columns": null,
      "grid_template_rows": null,
      "height": null,
      "justify_content": null,
      "justify_items": null,
      "left": null,
      "margin": null,
      "max_height": null,
      "max_width": null,
      "min_height": null,
      "min_width": null,
      "object_fit": null,
      "object_position": null,
      "order": null,
      "overflow": null,
      "overflow_x": null,
      "overflow_y": null,
      "padding": null,
      "right": null,
      "top": null,
      "visibility": null,
      "width": null
     }
    },
    "7d901db567184b758cd7e56ab776f1d3": {
     "model_module": "@jupyter-widgets/controls",
     "model_name": "ProgressStyleModel",
     "state": {
      "_model_module": "@jupyter-widgets/controls",
      "_model_module_version": "1.5.0",
      "_model_name": "ProgressStyleModel",
      "_view_count": null,
      "_view_module": "@jupyter-widgets/base",
      "_view_module_version": "1.2.0",
      "_view_name": "StyleView",
      "bar_color": null,
      "description_width": ""
     }
    },
    "9169f9e763314fddb72dfea8cabd09a4": {
     "model_module": "@jupyter-widgets/base",
     "model_name": "LayoutModel",
     "state": {
      "_model_module": "@jupyter-widgets/base",
      "_model_module_version": "1.2.0",
      "_model_name": "LayoutModel",
      "_view_count": null,
      "_view_module": "@jupyter-widgets/base",
      "_view_module_version": "1.2.0",
      "_view_name": "LayoutView",
      "align_content": null,
      "align_items": null,
      "align_self": null,
      "border": null,
      "bottom": null,
      "display": null,
      "flex": null,
      "flex_flow": null,
      "grid_area": null,
      "grid_auto_columns": null,
      "grid_auto_flow": null,
      "grid_auto_rows": null,
      "grid_column": null,
      "grid_gap": null,
      "grid_row": null,
      "grid_template_areas": null,
      "grid_template_columns": null,
      "grid_template_rows": null,
      "height": null,
      "justify_content": null,
      "justify_items": null,
      "left": null,
      "margin": null,
      "max_height": null,
      "max_width": null,
      "min_height": null,
      "min_width": null,
      "object_fit": null,
      "object_position": null,
      "order": null,
      "overflow": null,
      "overflow_x": null,
      "overflow_y": null,
      "padding": null,
      "right": null,
      "top": null,
      "visibility": null,
      "width": null
     }
    },
    "a84f1abc70714e33a58147e1c6f995ef": {
     "model_module": "@jupyter-widgets/base",
     "model_name": "LayoutModel",
     "state": {
      "_model_module": "@jupyter-widgets/base",
      "_model_module_version": "1.2.0",
      "_model_name": "LayoutModel",
      "_view_count": null,
      "_view_module": "@jupyter-widgets/base",
      "_view_module_version": "1.2.0",
      "_view_name": "LayoutView",
      "align_content": null,
      "align_items": null,
      "align_self": null,
      "border": null,
      "bottom": null,
      "display": null,
      "flex": null,
      "flex_flow": null,
      "grid_area": null,
      "grid_auto_columns": null,
      "grid_auto_flow": null,
      "grid_auto_rows": null,
      "grid_column": null,
      "grid_gap": null,
      "grid_row": null,
      "grid_template_areas": null,
      "grid_template_columns": null,
      "grid_template_rows": null,
      "height": null,
      "justify_content": null,
      "justify_items": null,
      "left": null,
      "margin": null,
      "max_height": null,
      "max_width": null,
      "min_height": null,
      "min_width": null,
      "object_fit": null,
      "object_position": null,
      "order": null,
      "overflow": null,
      "overflow_x": null,
      "overflow_y": null,
      "padding": null,
      "right": null,
      "top": null,
      "visibility": null,
      "width": "100%"
     }
    },
    "ac8d355c4fd04396a4b3962e69b57e78": {
     "model_module": "@jupyter-widgets/controls",
     "model_name": "IntProgressModel",
     "state": {
      "_dom_classes": [],
      "_model_module": "@jupyter-widgets/controls",
      "_model_module_version": "1.5.0",
      "_model_name": "IntProgressModel",
      "_view_count": null,
      "_view_module": "@jupyter-widgets/controls",
      "_view_module_version": "1.5.0",
      "_view_name": "ProgressView",
      "bar_style": "",
      "description": "Processing: ",
      "description_tooltip": null,
      "layout": "IPY_MODEL_bb8c34bfea704c3ca6f5733b4ed15f4d",
      "max": 14,
      "min": 0,
      "orientation": "horizontal",
      "style": "IPY_MODEL_e359da09f13c44939189b6dd7a8f7c7f",
      "value": 14
     }
    },
    "b974713bf81244b8ad8567b1b797b3a0": {
     "model_module": "@jupyter-widgets/controls",
     "model_name": "IntProgressModel",
     "state": {
      "_dom_classes": [],
      "_model_module": "@jupyter-widgets/controls",
      "_model_module_version": "1.5.0",
      "_model_name": "IntProgressModel",
      "_view_count": null,
      "_view_module": "@jupyter-widgets/controls",
      "_view_module_version": "1.5.0",
      "_view_name": "ProgressView",
      "bar_style": "",
      "description": "Processing: ",
      "description_tooltip": null,
      "layout": "IPY_MODEL_776d2b0cd8fc416790be305938018d61",
      "max": 5,
      "min": 0,
      "orientation": "horizontal",
      "style": "IPY_MODEL_1cc5d7149d994632a82330b094bd257f",
      "value": 5
     }
    },
    "bb8c34bfea704c3ca6f5733b4ed15f4d": {
     "model_module": "@jupyter-widgets/base",
     "model_name": "LayoutModel",
     "state": {
      "_model_module": "@jupyter-widgets/base",
      "_model_module_version": "1.2.0",
      "_model_name": "LayoutModel",
      "_view_count": null,
      "_view_module": "@jupyter-widgets/base",
      "_view_module_version": "1.2.0",
      "_view_name": "LayoutView",
      "align_content": null,
      "align_items": null,
      "align_self": null,
      "border": null,
      "bottom": null,
      "display": null,
      "flex": null,
      "flex_flow": null,
      "grid_area": null,
      "grid_auto_columns": null,
      "grid_auto_flow": null,
      "grid_auto_rows": null,
      "grid_column": null,
      "grid_gap": null,
      "grid_row": null,
      "grid_template_areas": null,
      "grid_template_columns": null,
      "grid_template_rows": null,
      "height": null,
      "justify_content": null,
      "justify_items": null,
      "left": null,
      "margin": null,
      "max_height": null,
      "max_width": null,
      "min_height": null,
      "min_width": null,
      "object_fit": null,
      "object_position": null,
      "order": null,
      "overflow": null,
      "overflow_x": null,
      "overflow_y": null,
      "padding": null,
      "right": null,
      "top": null,
      "visibility": null,
      "width": null
     }
    },
    "e359da09f13c44939189b6dd7a8f7c7f": {
     "model_module": "@jupyter-widgets/controls",
     "model_name": "ProgressStyleModel",
     "state": {
      "_model_module": "@jupyter-widgets/controls",
      "_model_module_version": "1.5.0",
      "_model_name": "ProgressStyleModel",
      "_view_count": null,
      "_view_module": "@jupyter-widgets/base",
      "_view_module_version": "1.2.0",
      "_view_name": "StyleView",
      "bar_color": null,
      "description_width": ""
     }
    },
    "f9a6f7e7b553446392ca730a47f4bb3a": {
     "model_module": "@jupyter-widgets/controls",
     "model_name": "DescriptionStyleModel",
     "state": {
      "_model_module": "@jupyter-widgets/controls",
      "_model_module_version": "1.5.0",
      "_model_name": "DescriptionStyleModel",
      "_view_count": null,
      "_view_module": "@jupyter-widgets/base",
      "_view_module_version": "1.2.0",
      "_view_name": "StyleView",
      "description_width": ""
     }
    }
   }
  }
 },
 "nbformat": 4,
 "nbformat_minor": 4
}
