{
 "cells": [
  {
   "cell_type": "markdown",
   "metadata": {},
   "source": [
    "# Text Similarity Classification\n",
    "<i>Last Update: 08/02/2020</i><br>\n",
    "<i>PyCaret Version: 2.0</i><br>\n",
    "<i>Author: Alexandre Farias</i><br>\n",
    "<i>Email: afarias@tuta.io</i>\n",
    "\n",
    "# Introduction\n",
    "This task consists in compare two sentences present on the dataset and identify if both have the same meaning.<br>\n",
    "An Exploratory Data Analysis is made to gain insights about the data, a Topic Modelling to get the features and the classification step, these last two steps are made with the Python Module PyCaret.<br>\n",
    "Importing the requires modules, PyCaret is imported later to avoid conflicts on the experiments.\n",
    "The dataset used on this work is the [Text Similarity](https://www.kaggle.com/rishisankineni/text-similarity) hosted on Kaggle, only using the data present on the train set, since the test set has a few samples doesn't has the labels do validate the model."
   ]
  },
  {
   "cell_type": "code",
   "execution_count": 1,
   "metadata": {},
   "outputs": [
    {
     "data": {
      "text/html": [
       "        <script type=\"text/javascript\">\n",
       "        window.PlotlyConfig = {MathJaxConfig: 'local'};\n",
       "        if (window.MathJax) {MathJax.Hub.Config({SVG: {font: \"STIX-Web\"}});}\n",
       "        if (typeof require !== 'undefined') {\n",
       "        require.undef(\"plotly\");\n",
       "        requirejs.config({\n",
       "            paths: {\n",
       "                'plotly': ['https://cdn.plot.ly/plotly-latest.min']\n",
       "            }\n",
       "        });\n",
       "        require(['plotly'], function(Plotly) {\n",
       "            window._Plotly = Plotly;\n",
       "        });\n",
       "        }\n",
       "        </script>\n",
       "        "
      ]
     },
     "metadata": {},
     "output_type": "display_data"
    }
   ],
   "source": [
    "# Standard\n",
    "import pandas as pd\n",
    "# Plots\n",
    "from plotly.offline import init_notebook_mode, iplot\n",
    "import plotly.graph_objects as go\n",
    "from plotly.subplots import make_subplots\n",
    "init_notebook_mode(connected=True)\n",
    "import seaborn as sns\n",
    "# Sklearn tools\n",
    "from sklearn.preprocessing import LabelEncoder\n",
    "from sklearn.metrics import *\n",
    "# PATH and setup\n",
    "import os\n",
    "os.chdir(\"..\")\n",
    "PATH = os.getcwd()+os.sep\n",
    "RANDOM_SEED = 42\n",
    "K_FOLDS = 5"
   ]
  },
  {
   "cell_type": "markdown",
   "metadata": {},
   "source": [
    "The helper functions used to plots, data sampling and scores."
   ]
  },
  {
   "cell_type": "code",
   "execution_count": 72,
   "metadata": {},
   "outputs": [],
   "source": [
    "## Dataset Sampling\n",
    "def data_sampling(dataset, frac: float, random_seed: int):\n",
    "    data_sampled_a = dataset.sample(frac=frac,\n",
    "                                    random_state=random_seed)\n",
    "    data_sampled_b =  dataset.drop(data_sampled_a.index).\\\n",
    "    reset_index(drop=True)\n",
    "    data_sampled_a.reset_index(drop=True, inplace=True)\n",
    "    return data_sampled_a, data_sampled_b  \n",
    "## Pie Chart\n",
    "def pie_plot(data, plot_title: str):\n",
    "    trace = go.Pie(labels=data.index, values=data.values)\n",
    "    layout = go.Layout(autosize=False,\n",
    "    title={\"text\" : plot_title,\n",
    "            \"y\" : 0.9,\n",
    "            \"x\" : 0.5,\n",
    "            \"xanchor\" : \"center\",\n",
    "            \"yanchor\" : \"top\"})\n",
    "    fig = go.Figure(data=trace, layout=layout)\n",
    "    fig.update_traces(textfont_size=14,\n",
    "                      marker=dict(line=dict(color=\"#000000\",\n",
    "                      width=2)))\n",
    "    fig.update_yaxes(automargin=True)\n",
    "    iplot(fig)\n",
    "## Histogram subplots\n",
    "def histogram_subplot(dataset_a, dataset_b, feature_a: str,\n",
    "feature_b: str, title: str, title_a:\n",
    "str, title_b: str):\n",
    "    fig = make_subplots(rows=1, cols=2, subplot_titles=(\n",
    "    title_a,\n",
    "    title_b\n",
    "    )\n",
    "    )\n",
    "    fig.add_trace(go.Histogram(x=dataset_a[feature_a],\n",
    "    showlegend=False), row=1, col=1)\n",
    "    fig.add_trace(go.Histogram(x=dataset_b[feature_b],\n",
    "    showlegend=False), row=1, col=2)\n",
    "    fig.update_layout(template=\"simple_white\")\n",
    "    fig.update_layout(autosize=False,\n",
    "    title={\"text\" : title,\n",
    "            \"y\" : 0.9,\n",
    "            \"x\" : 0.5,\n",
    "            \"xanchor\" : \"center\",\n",
    "            \"yanchor\" : \"top\"},\n",
    "            yaxis={\"title\" : \"<i>Frequency</i>\"})\n",
    "    fig.update_traces(marker=dict(line=dict(color=\"#000000\",\n",
    "    width=2)))\n",
    "    fig.update_yaxes(automargin=True)\n",
    "    iplot(fig)\n",
    "# Calculate scores with Test/Unseen labeled data\n",
    "def test_score_report(data_unseen, predict_unseen):\n",
    "    predict_unseen['Label'] = predict_unseen['Label'].map({\"Yes\":1,\"No\":0})\n",
    "    le = LabelEncoder()\n",
    "    data_unseen[\"Label\"] = le.fit_transform(data_unseen.same_security.values)\n",
    "    data_unseen[\"Label\"] = data_unseen[\"Label\"].astype(int)\n",
    "    accuracy = accuracy_score(data_unseen[\"Label\"],\n",
    "    predict_unseen[\"Label\"])\n",
    "    roc_auc = roc_auc_score(data_unseen[\"Label\"],\n",
    "    predict_unseen[\"Label\"])\n",
    "    precision = precision_score(data_unseen[\"Label\"],\n",
    "    predict_unseen[\"Label\"])\n",
    "    recall = recall_score(data_unseen[\"Label\"],\n",
    "    predict_unseen[\"Label\"])\n",
    "    f1 = f1_score(data_unseen[\"Label\"],\n",
    "    predict_unseen[\"Label\"])\n",
    "    df_unseen = pd.DataFrame({\n",
    "    \"Accuracy\" : [accuracy],\n",
    "    \"AUC\" : [roc_auc],\n",
    "    \"Recall\" : [recall],\n",
    "    \"Precision\" : [precision],\n",
    "    \"F1 Score\" : [f1]\n",
    "    })\n",
    "    return df_unseen\n",
    "# Confusion Matrix\n",
    "def conf_mat(data_unseen, predict_unseen):\n",
    "    predict_unseen['Label'] = predict_unseen['Label'].map({\"Yes\":1,\"No\":0})\n",
    "    unique_label = data_unseen[\"Label\"].unique()\n",
    "    cmtx = pd.DataFrame(\n",
    "    confusion_matrix(data_unseen[\"Label\"],\n",
    "                    predict_unseen[\"Label\"], labels=unique_label),\n",
    "                    index=['{:}'.format(x) for x in unique_label],\n",
    "                    columns=['{:}'.format(x) for x in unique_label])\n",
    "    ax = sns.heatmap(cmtx, annot=True, fmt=\"d\", cmap=\"YlGnBu\")\n",
    "    ax.set_ylabel('Predicted')\n",
    "    ax.set_xlabel('Target');\n",
    "    ax.set_title(\"Predict Unseen Confusion Matrix\", size=14);"
   ]
  },
  {
   "cell_type": "markdown",
   "metadata": {},
   "source": [
    "# 1. Data Loading and Initial Infos\n",
    "The data is loaded in a Dataframe."
   ]
  },
  {
   "cell_type": "code",
   "execution_count": 17,
   "metadata": {
    "scrolled": true
   },
   "outputs": [
    {
     "data": {
      "text/html": [
       "<div>\n",
       "<style scoped>\n",
       "    .dataframe tbody tr th:only-of-type {\n",
       "        vertical-align: middle;\n",
       "    }\n",
       "\n",
       "    .dataframe tbody tr th {\n",
       "        vertical-align: top;\n",
       "    }\n",
       "\n",
       "    .dataframe thead th {\n",
       "        text-align: right;\n",
       "    }\n",
       "</style>\n",
       "<table border=\"1\" class=\"dataframe\">\n",
       "  <thead>\n",
       "    <tr style=\"text-align: right;\">\n",
       "      <th></th>\n",
       "      <th>description_x</th>\n",
       "      <th>description_y</th>\n",
       "      <th>ticker_x</th>\n",
       "      <th>ticker_y</th>\n",
       "      <th>same_security</th>\n",
       "    </tr>\n",
       "  </thead>\n",
       "  <tbody>\n",
       "    <tr>\n",
       "      <th>0</th>\n",
       "      <td>first trust dow jones internet</td>\n",
       "      <td>first trust dj internet idx</td>\n",
       "      <td>FDN</td>\n",
       "      <td>FDN</td>\n",
       "      <td>True</td>\n",
       "    </tr>\n",
       "    <tr>\n",
       "      <th>1</th>\n",
       "      <td>schwab intl large company index etf</td>\n",
       "      <td>schwab strategic tr fundamental intl large co ...</td>\n",
       "      <td>FNDF</td>\n",
       "      <td>FNDF</td>\n",
       "      <td>True</td>\n",
       "    </tr>\n",
       "    <tr>\n",
       "      <th>2</th>\n",
       "      <td>vanguard small cap index adm</td>\n",
       "      <td>vanguard small-cap index fund inst</td>\n",
       "      <td>VSMAX</td>\n",
       "      <td>VSCIX</td>\n",
       "      <td>False</td>\n",
       "    </tr>\n",
       "    <tr>\n",
       "      <th>3</th>\n",
       "      <td>duke energy corp new com new isin #us4 sedol #...</td>\n",
       "      <td>duke energy corp new com new isin #us26441c204...</td>\n",
       "      <td>DUK</td>\n",
       "      <td>DUK</td>\n",
       "      <td>True</td>\n",
       "    </tr>\n",
       "    <tr>\n",
       "      <th>4</th>\n",
       "      <td>visa inc class a</td>\n",
       "      <td>visa inc.</td>\n",
       "      <td>V</td>\n",
       "      <td>V</td>\n",
       "      <td>True</td>\n",
       "    </tr>\n",
       "    <tr>\n",
       "      <th>...</th>\n",
       "      <td>...</td>\n",
       "      <td>...</td>\n",
       "      <td>...</td>\n",
       "      <td>...</td>\n",
       "      <td>...</td>\n",
       "    </tr>\n",
       "    <tr>\n",
       "      <th>2137</th>\n",
       "      <td>delta air lines inc com</td>\n",
       "      <td>delta air lines inc dela new</td>\n",
       "      <td>DAL</td>\n",
       "      <td>DAL</td>\n",
       "      <td>True</td>\n",
       "    </tr>\n",
       "    <tr>\n",
       "      <th>2138</th>\n",
       "      <td>cognizant tech solutns a</td>\n",
       "      <td>cognizant tech solutions corp</td>\n",
       "      <td>CTSH</td>\n",
       "      <td>CTSH</td>\n",
       "      <td>True</td>\n",
       "    </tr>\n",
       "    <tr>\n",
       "      <th>2139</th>\n",
       "      <td>pimco investment grade corporate bond fund - c...</td>\n",
       "      <td>fid conservative income bond fund</td>\n",
       "      <td>PBDAX</td>\n",
       "      <td>FCONX</td>\n",
       "      <td>False</td>\n",
       "    </tr>\n",
       "    <tr>\n",
       "      <th>2140</th>\n",
       "      <td>eli lilly &amp; co com</td>\n",
       "      <td>lilly eli &amp;co com npv</td>\n",
       "      <td>LLY</td>\n",
       "      <td>LLY</td>\n",
       "      <td>True</td>\n",
       "    </tr>\n",
       "    <tr>\n",
       "      <th>2141</th>\n",
       "      <td>dfa comm strategy i</td>\n",
       "      <td>dfa commodity strategy port</td>\n",
       "      <td>DCMSX</td>\n",
       "      <td>DCMSX</td>\n",
       "      <td>True</td>\n",
       "    </tr>\n",
       "  </tbody>\n",
       "</table>\n",
       "<p>2142 rows × 5 columns</p>\n",
       "</div>"
      ],
      "text/plain": [
       "                                          description_x  \\\n",
       "0                        first trust dow jones internet   \n",
       "1                   schwab intl large company index etf   \n",
       "2                          vanguard small cap index adm   \n",
       "3     duke energy corp new com new isin #us4 sedol #...   \n",
       "4                                      visa inc class a   \n",
       "...                                                 ...   \n",
       "2137                            delta air lines inc com   \n",
       "2138                           cognizant tech solutns a   \n",
       "2139  pimco investment grade corporate bond fund - c...   \n",
       "2140                                 eli lilly & co com   \n",
       "2141                                dfa comm strategy i   \n",
       "\n",
       "                                          description_y ticker_x ticker_y  \\\n",
       "0                           first trust dj internet idx      FDN      FDN   \n",
       "1     schwab strategic tr fundamental intl large co ...     FNDF     FNDF   \n",
       "2                    vanguard small-cap index fund inst    VSMAX    VSCIX   \n",
       "3     duke energy corp new com new isin #us26441c204...      DUK      DUK   \n",
       "4                                             visa inc.        V        V   \n",
       "...                                                 ...      ...      ...   \n",
       "2137                       delta air lines inc dela new      DAL      DAL   \n",
       "2138                      cognizant tech solutions corp     CTSH     CTSH   \n",
       "2139                  fid conservative income bond fund    PBDAX    FCONX   \n",
       "2140                              lilly eli &co com npv      LLY      LLY   \n",
       "2141                        dfa commodity strategy port    DCMSX    DCMSX   \n",
       "\n",
       "      same_security  \n",
       "0              True  \n",
       "1              True  \n",
       "2             False  \n",
       "3              True  \n",
       "4              True  \n",
       "...             ...  \n",
       "2137           True  \n",
       "2138           True  \n",
       "2139          False  \n",
       "2140           True  \n",
       "2141           True  \n",
       "\n",
       "[2142 rows x 5 columns]"
      ]
     },
     "execution_count": 17,
     "metadata": {},
     "output_type": "execute_result"
    }
   ],
   "source": [
    "\n",
    "data = pd.read_csv(\"/home/thom/Downloads/archive(1)/train.csv\",index_col=0)\n",
    "data"
   ]
  },
  {
   "cell_type": "markdown",
   "metadata": {},
   "source": [
    "A check for duplicated samples."
   ]
  },
  {
   "cell_type": "code",
   "execution_count": 18,
   "metadata": {},
   "outputs": [],
   "source": [
    "data.drop_duplicates(inplace=True, keep='first')"
   ]
  },
  {
   "cell_type": "markdown",
   "metadata": {},
   "source": [
    "There're no duplicated samples on the dataset.<br>\n",
    "Time to drop features that will not help on the prediction and get some information about the data."
   ]
  },
  {
   "cell_type": "code",
   "execution_count": 19,
   "metadata": {},
   "outputs": [
    {
     "name": "stdout",
     "output_type": "stream",
     "text": [
      "<class 'pandas.core.frame.DataFrame'>\n",
      "Int64Index: 2142 entries, 0 to 2141\n",
      "Data columns (total 3 columns):\n",
      " #   Column         Non-Null Count  Dtype \n",
      "---  ------         --------------  ----- \n",
      " 0   description_x  2142 non-null   object\n",
      " 1   description_y  2142 non-null   object\n",
      " 2   same_security  2142 non-null   bool  \n",
      "dtypes: bool(1), object(2)\n",
      "memory usage: 52.3+ KB\n"
     ]
    }
   ],
   "source": [
    "data.drop(\n",
    "    columns=['Unnamed: 0', 'ticker_x', 'ticker_y'],\n",
    "    inplace=True,\n",
    "    errors=\"ignore\"\n",
    ")\n",
    "data.info()"
   ]
  },
  {
   "cell_type": "code",
   "execution_count": 20,
   "metadata": {},
   "outputs": [
    {
     "data": {
      "text/html": [
       "<div>\n",
       "<style scoped>\n",
       "    .dataframe tbody tr th:only-of-type {\n",
       "        vertical-align: middle;\n",
       "    }\n",
       "\n",
       "    .dataframe tbody tr th {\n",
       "        vertical-align: top;\n",
       "    }\n",
       "\n",
       "    .dataframe thead th {\n",
       "        text-align: right;\n",
       "    }\n",
       "</style>\n",
       "<table border=\"1\" class=\"dataframe\">\n",
       "  <thead>\n",
       "    <tr style=\"text-align: right;\">\n",
       "      <th></th>\n",
       "      <th>description_x</th>\n",
       "      <th>description_y</th>\n",
       "      <th>same_security</th>\n",
       "    </tr>\n",
       "  </thead>\n",
       "  <tbody>\n",
       "    <tr>\n",
       "      <th>0</th>\n",
       "      <td>first trust dow jones internet</td>\n",
       "      <td>first trust dj internet idx</td>\n",
       "      <td>True</td>\n",
       "    </tr>\n",
       "    <tr>\n",
       "      <th>1</th>\n",
       "      <td>schwab intl large company index etf</td>\n",
       "      <td>schwab strategic tr fundamental intl large co ...</td>\n",
       "      <td>True</td>\n",
       "    </tr>\n",
       "    <tr>\n",
       "      <th>2</th>\n",
       "      <td>vanguard small cap index adm</td>\n",
       "      <td>vanguard small-cap index fund inst</td>\n",
       "      <td>False</td>\n",
       "    </tr>\n",
       "    <tr>\n",
       "      <th>3</th>\n",
       "      <td>duke energy corp new com new isin #us4 sedol #...</td>\n",
       "      <td>duke energy corp new com new isin #us26441c204...</td>\n",
       "      <td>True</td>\n",
       "    </tr>\n",
       "    <tr>\n",
       "      <th>4</th>\n",
       "      <td>visa inc class a</td>\n",
       "      <td>visa inc.</td>\n",
       "      <td>True</td>\n",
       "    </tr>\n",
       "    <tr>\n",
       "      <th>...</th>\n",
       "      <td>...</td>\n",
       "      <td>...</td>\n",
       "      <td>...</td>\n",
       "    </tr>\n",
       "    <tr>\n",
       "      <th>2137</th>\n",
       "      <td>delta air lines inc com</td>\n",
       "      <td>delta air lines inc dela new</td>\n",
       "      <td>True</td>\n",
       "    </tr>\n",
       "    <tr>\n",
       "      <th>2138</th>\n",
       "      <td>cognizant tech solutns a</td>\n",
       "      <td>cognizant tech solutions corp</td>\n",
       "      <td>True</td>\n",
       "    </tr>\n",
       "    <tr>\n",
       "      <th>2139</th>\n",
       "      <td>pimco investment grade corporate bond fund - c...</td>\n",
       "      <td>fid conservative income bond fund</td>\n",
       "      <td>False</td>\n",
       "    </tr>\n",
       "    <tr>\n",
       "      <th>2140</th>\n",
       "      <td>eli lilly &amp; co com</td>\n",
       "      <td>lilly eli &amp;co com npv</td>\n",
       "      <td>True</td>\n",
       "    </tr>\n",
       "    <tr>\n",
       "      <th>2141</th>\n",
       "      <td>dfa comm strategy i</td>\n",
       "      <td>dfa commodity strategy port</td>\n",
       "      <td>True</td>\n",
       "    </tr>\n",
       "  </tbody>\n",
       "</table>\n",
       "<p>2142 rows × 3 columns</p>\n",
       "</div>"
      ],
      "text/plain": [
       "                                          description_x  \\\n",
       "0                        first trust dow jones internet   \n",
       "1                   schwab intl large company index etf   \n",
       "2                          vanguard small cap index adm   \n",
       "3     duke energy corp new com new isin #us4 sedol #...   \n",
       "4                                      visa inc class a   \n",
       "...                                                 ...   \n",
       "2137                            delta air lines inc com   \n",
       "2138                           cognizant tech solutns a   \n",
       "2139  pimco investment grade corporate bond fund - c...   \n",
       "2140                                 eli lilly & co com   \n",
       "2141                                dfa comm strategy i   \n",
       "\n",
       "                                          description_y  same_security  \n",
       "0                           first trust dj internet idx           True  \n",
       "1     schwab strategic tr fundamental intl large co ...           True  \n",
       "2                    vanguard small-cap index fund inst          False  \n",
       "3     duke energy corp new com new isin #us26441c204...           True  \n",
       "4                                             visa inc.           True  \n",
       "...                                                 ...            ...  \n",
       "2137                       delta air lines inc dela new           True  \n",
       "2138                      cognizant tech solutions corp           True  \n",
       "2139                  fid conservative income bond fund          False  \n",
       "2140                              lilly eli &co com npv           True  \n",
       "2141                        dfa commodity strategy port           True  \n",
       "\n",
       "[2142 rows x 3 columns]"
      ]
     },
     "execution_count": 20,
     "metadata": {},
     "output_type": "execute_result"
    }
   ],
   "source": [
    "data"
   ]
  },
  {
   "cell_type": "markdown",
   "metadata": {},
   "source": [
    "And check for missing values."
   ]
  },
  {
   "cell_type": "code",
   "execution_count": 21,
   "metadata": {},
   "outputs": [
    {
     "data": {
      "text/plain": [
       "description_x    0\n",
       "description_y    0\n",
       "same_security    0\n",
       "dtype: int64"
      ]
     },
     "execution_count": 21,
     "metadata": {},
     "output_type": "execute_result"
    }
   ],
   "source": [
    "data.isnull().sum()"
   ]
  },
  {
   "cell_type": "markdown",
   "metadata": {},
   "source": [
    "The dataset doesn't contain any missing value, what is very good!\n",
    "A good approach to compare the sentences is check its characters length, let's create these features for each sentence."
   ]
  },
  {
   "cell_type": "code",
   "execution_count": 22,
   "metadata": {},
   "outputs": [],
   "source": [
    "data['len_x'] = data['description_x'].apply(len)\n",
    "data['len_y'] = data['description_y'].apply(len)"
   ]
  },
  {
   "cell_type": "markdown",
   "metadata": {},
   "source": [
    "# 2. EDA"
   ]
  },
  {
   "cell_type": "markdown",
   "metadata": {},
   "source": [
    "Let's check the distribution of the target feature, `same_security`."
   ]
  },
  {
   "cell_type": "code",
   "execution_count": 23,
   "metadata": {},
   "outputs": [
    {
     "data": {
      "application/vnd.plotly.v1+json": {
       "config": {
        "linkText": "Export to plot.ly",
        "plotlyServerURL": "https://plot.ly",
        "showLink": false
       },
       "data": [
        {
         "labels": [
          true,
          false
         ],
         "marker": {
          "line": {
           "color": "#000000",
           "width": 2
          }
         },
         "textfont": {
          "size": 14
         },
         "type": "pie",
         "values": [
          1613,
          529
         ]
        }
       ],
       "layout": {
        "autosize": false,
        "height": 450,
        "template": {
         "data": {
          "bar": [
           {
            "error_x": {
             "color": "#2a3f5f"
            },
            "error_y": {
             "color": "#2a3f5f"
            },
            "marker": {
             "line": {
              "color": "#E5ECF6",
              "width": 0.5
             }
            },
            "type": "bar"
           }
          ],
          "barpolar": [
           {
            "marker": {
             "line": {
              "color": "#E5ECF6",
              "width": 0.5
             }
            },
            "type": "barpolar"
           }
          ],
          "carpet": [
           {
            "aaxis": {
             "endlinecolor": "#2a3f5f",
             "gridcolor": "white",
             "linecolor": "white",
             "minorgridcolor": "white",
             "startlinecolor": "#2a3f5f"
            },
            "baxis": {
             "endlinecolor": "#2a3f5f",
             "gridcolor": "white",
             "linecolor": "white",
             "minorgridcolor": "white",
             "startlinecolor": "#2a3f5f"
            },
            "type": "carpet"
           }
          ],
          "choropleth": [
           {
            "colorbar": {
             "outlinewidth": 0,
             "ticks": ""
            },
            "type": "choropleth"
           }
          ],
          "contour": [
           {
            "colorbar": {
             "outlinewidth": 0,
             "ticks": ""
            },
            "colorscale": [
             [
              0,
              "#0d0887"
             ],
             [
              0.1111111111111111,
              "#46039f"
             ],
             [
              0.2222222222222222,
              "#7201a8"
             ],
             [
              0.3333333333333333,
              "#9c179e"
             ],
             [
              0.4444444444444444,
              "#bd3786"
             ],
             [
              0.5555555555555556,
              "#d8576b"
             ],
             [
              0.6666666666666666,
              "#ed7953"
             ],
             [
              0.7777777777777778,
              "#fb9f3a"
             ],
             [
              0.8888888888888888,
              "#fdca26"
             ],
             [
              1,
              "#f0f921"
             ]
            ],
            "type": "contour"
           }
          ],
          "contourcarpet": [
           {
            "colorbar": {
             "outlinewidth": 0,
             "ticks": ""
            },
            "type": "contourcarpet"
           }
          ],
          "heatmap": [
           {
            "colorbar": {
             "outlinewidth": 0,
             "ticks": ""
            },
            "colorscale": [
             [
              0,
              "#0d0887"
             ],
             [
              0.1111111111111111,
              "#46039f"
             ],
             [
              0.2222222222222222,
              "#7201a8"
             ],
             [
              0.3333333333333333,
              "#9c179e"
             ],
             [
              0.4444444444444444,
              "#bd3786"
             ],
             [
              0.5555555555555556,
              "#d8576b"
             ],
             [
              0.6666666666666666,
              "#ed7953"
             ],
             [
              0.7777777777777778,
              "#fb9f3a"
             ],
             [
              0.8888888888888888,
              "#fdca26"
             ],
             [
              1,
              "#f0f921"
             ]
            ],
            "type": "heatmap"
           }
          ],
          "heatmapgl": [
           {
            "colorbar": {
             "outlinewidth": 0,
             "ticks": ""
            },
            "colorscale": [
             [
              0,
              "#0d0887"
             ],
             [
              0.1111111111111111,
              "#46039f"
             ],
             [
              0.2222222222222222,
              "#7201a8"
             ],
             [
              0.3333333333333333,
              "#9c179e"
             ],
             [
              0.4444444444444444,
              "#bd3786"
             ],
             [
              0.5555555555555556,
              "#d8576b"
             ],
             [
              0.6666666666666666,
              "#ed7953"
             ],
             [
              0.7777777777777778,
              "#fb9f3a"
             ],
             [
              0.8888888888888888,
              "#fdca26"
             ],
             [
              1,
              "#f0f921"
             ]
            ],
            "type": "heatmapgl"
           }
          ],
          "histogram": [
           {
            "marker": {
             "colorbar": {
              "outlinewidth": 0,
              "ticks": ""
             }
            },
            "type": "histogram"
           }
          ],
          "histogram2d": [
           {
            "colorbar": {
             "outlinewidth": 0,
             "ticks": ""
            },
            "colorscale": [
             [
              0,
              "#0d0887"
             ],
             [
              0.1111111111111111,
              "#46039f"
             ],
             [
              0.2222222222222222,
              "#7201a8"
             ],
             [
              0.3333333333333333,
              "#9c179e"
             ],
             [
              0.4444444444444444,
              "#bd3786"
             ],
             [
              0.5555555555555556,
              "#d8576b"
             ],
             [
              0.6666666666666666,
              "#ed7953"
             ],
             [
              0.7777777777777778,
              "#fb9f3a"
             ],
             [
              0.8888888888888888,
              "#fdca26"
             ],
             [
              1,
              "#f0f921"
             ]
            ],
            "type": "histogram2d"
           }
          ],
          "histogram2dcontour": [
           {
            "colorbar": {
             "outlinewidth": 0,
             "ticks": ""
            },
            "colorscale": [
             [
              0,
              "#0d0887"
             ],
             [
              0.1111111111111111,
              "#46039f"
             ],
             [
              0.2222222222222222,
              "#7201a8"
             ],
             [
              0.3333333333333333,
              "#9c179e"
             ],
             [
              0.4444444444444444,
              "#bd3786"
             ],
             [
              0.5555555555555556,
              "#d8576b"
             ],
             [
              0.6666666666666666,
              "#ed7953"
             ],
             [
              0.7777777777777778,
              "#fb9f3a"
             ],
             [
              0.8888888888888888,
              "#fdca26"
             ],
             [
              1,
              "#f0f921"
             ]
            ],
            "type": "histogram2dcontour"
           }
          ],
          "mesh3d": [
           {
            "colorbar": {
             "outlinewidth": 0,
             "ticks": ""
            },
            "type": "mesh3d"
           }
          ],
          "parcoords": [
           {
            "line": {
             "colorbar": {
              "outlinewidth": 0,
              "ticks": ""
             }
            },
            "type": "parcoords"
           }
          ],
          "pie": [
           {
            "automargin": true,
            "type": "pie"
           }
          ],
          "scatter": [
           {
            "marker": {
             "colorbar": {
              "outlinewidth": 0,
              "ticks": ""
             }
            },
            "type": "scatter"
           }
          ],
          "scatter3d": [
           {
            "line": {
             "colorbar": {
              "outlinewidth": 0,
              "ticks": ""
             }
            },
            "marker": {
             "colorbar": {
              "outlinewidth": 0,
              "ticks": ""
             }
            },
            "type": "scatter3d"
           }
          ],
          "scattercarpet": [
           {
            "marker": {
             "colorbar": {
              "outlinewidth": 0,
              "ticks": ""
             }
            },
            "type": "scattercarpet"
           }
          ],
          "scattergeo": [
           {
            "marker": {
             "colorbar": {
              "outlinewidth": 0,
              "ticks": ""
             }
            },
            "type": "scattergeo"
           }
          ],
          "scattergl": [
           {
            "marker": {
             "colorbar": {
              "outlinewidth": 0,
              "ticks": ""
             }
            },
            "type": "scattergl"
           }
          ],
          "scattermapbox": [
           {
            "marker": {
             "colorbar": {
              "outlinewidth": 0,
              "ticks": ""
             }
            },
            "type": "scattermapbox"
           }
          ],
          "scatterpolar": [
           {
            "marker": {
             "colorbar": {
              "outlinewidth": 0,
              "ticks": ""
             }
            },
            "type": "scatterpolar"
           }
          ],
          "scatterpolargl": [
           {
            "marker": {
             "colorbar": {
              "outlinewidth": 0,
              "ticks": ""
             }
            },
            "type": "scatterpolargl"
           }
          ],
          "scatterternary": [
           {
            "marker": {
             "colorbar": {
              "outlinewidth": 0,
              "ticks": ""
             }
            },
            "type": "scatterternary"
           }
          ],
          "surface": [
           {
            "colorbar": {
             "outlinewidth": 0,
             "ticks": ""
            },
            "colorscale": [
             [
              0,
              "#0d0887"
             ],
             [
              0.1111111111111111,
              "#46039f"
             ],
             [
              0.2222222222222222,
              "#7201a8"
             ],
             [
              0.3333333333333333,
              "#9c179e"
             ],
             [
              0.4444444444444444,
              "#bd3786"
             ],
             [
              0.5555555555555556,
              "#d8576b"
             ],
             [
              0.6666666666666666,
              "#ed7953"
             ],
             [
              0.7777777777777778,
              "#fb9f3a"
             ],
             [
              0.8888888888888888,
              "#fdca26"
             ],
             [
              1,
              "#f0f921"
             ]
            ],
            "type": "surface"
           }
          ],
          "table": [
           {
            "cells": {
             "fill": {
              "color": "#EBF0F8"
             },
             "line": {
              "color": "white"
             }
            },
            "header": {
             "fill": {
              "color": "#C8D4E3"
             },
             "line": {
              "color": "white"
             }
            },
            "type": "table"
           }
          ]
         },
         "layout": {
          "annotationdefaults": {
           "arrowcolor": "#2a3f5f",
           "arrowhead": 0,
           "arrowwidth": 1
          },
          "autotypenumbers": "strict",
          "coloraxis": {
           "colorbar": {
            "outlinewidth": 0,
            "ticks": ""
           }
          },
          "colorscale": {
           "diverging": [
            [
             0,
             "#8e0152"
            ],
            [
             0.1,
             "#c51b7d"
            ],
            [
             0.2,
             "#de77ae"
            ],
            [
             0.3,
             "#f1b6da"
            ],
            [
             0.4,
             "#fde0ef"
            ],
            [
             0.5,
             "#f7f7f7"
            ],
            [
             0.6,
             "#e6f5d0"
            ],
            [
             0.7,
             "#b8e186"
            ],
            [
             0.8,
             "#7fbc41"
            ],
            [
             0.9,
             "#4d9221"
            ],
            [
             1,
             "#276419"
            ]
           ],
           "sequential": [
            [
             0,
             "#0d0887"
            ],
            [
             0.1111111111111111,
             "#46039f"
            ],
            [
             0.2222222222222222,
             "#7201a8"
            ],
            [
             0.3333333333333333,
             "#9c179e"
            ],
            [
             0.4444444444444444,
             "#bd3786"
            ],
            [
             0.5555555555555556,
             "#d8576b"
            ],
            [
             0.6666666666666666,
             "#ed7953"
            ],
            [
             0.7777777777777778,
             "#fb9f3a"
            ],
            [
             0.8888888888888888,
             "#fdca26"
            ],
            [
             1,
             "#f0f921"
            ]
           ],
           "sequentialminus": [
            [
             0,
             "#0d0887"
            ],
            [
             0.1111111111111111,
             "#46039f"
            ],
            [
             0.2222222222222222,
             "#7201a8"
            ],
            [
             0.3333333333333333,
             "#9c179e"
            ],
            [
             0.4444444444444444,
             "#bd3786"
            ],
            [
             0.5555555555555556,
             "#d8576b"
            ],
            [
             0.6666666666666666,
             "#ed7953"
            ],
            [
             0.7777777777777778,
             "#fb9f3a"
            ],
            [
             0.8888888888888888,
             "#fdca26"
            ],
            [
             1,
             "#f0f921"
            ]
           ]
          },
          "colorway": [
           "#636efa",
           "#EF553B",
           "#00cc96",
           "#ab63fa",
           "#FFA15A",
           "#19d3f3",
           "#FF6692",
           "#B6E880",
           "#FF97FF",
           "#FECB52"
          ],
          "font": {
           "color": "#2a3f5f"
          },
          "geo": {
           "bgcolor": "white",
           "lakecolor": "white",
           "landcolor": "#E5ECF6",
           "showlakes": true,
           "showland": true,
           "subunitcolor": "white"
          },
          "hoverlabel": {
           "align": "left"
          },
          "hovermode": "closest",
          "mapbox": {
           "style": "light"
          },
          "paper_bgcolor": "white",
          "plot_bgcolor": "#E5ECF6",
          "polar": {
           "angularaxis": {
            "gridcolor": "white",
            "linecolor": "white",
            "ticks": ""
           },
           "bgcolor": "#E5ECF6",
           "radialaxis": {
            "gridcolor": "white",
            "linecolor": "white",
            "ticks": ""
           }
          },
          "scene": {
           "xaxis": {
            "backgroundcolor": "#E5ECF6",
            "gridcolor": "white",
            "gridwidth": 2,
            "linecolor": "white",
            "showbackground": true,
            "ticks": "",
            "zerolinecolor": "white"
           },
           "yaxis": {
            "backgroundcolor": "#E5ECF6",
            "gridcolor": "white",
            "gridwidth": 2,
            "linecolor": "white",
            "showbackground": true,
            "ticks": "",
            "zerolinecolor": "white"
           },
           "zaxis": {
            "backgroundcolor": "#E5ECF6",
            "gridcolor": "white",
            "gridwidth": 2,
            "linecolor": "white",
            "showbackground": true,
            "ticks": "",
            "zerolinecolor": "white"
           }
          },
          "shapedefaults": {
           "line": {
            "color": "#2a3f5f"
           }
          },
          "ternary": {
           "aaxis": {
            "gridcolor": "white",
            "linecolor": "white",
            "ticks": ""
           },
           "baxis": {
            "gridcolor": "white",
            "linecolor": "white",
            "ticks": ""
           },
           "bgcolor": "#E5ECF6",
           "caxis": {
            "gridcolor": "white",
            "linecolor": "white",
            "ticks": ""
           }
          },
          "title": {
           "x": 0.05
          },
          "xaxis": {
           "automargin": true,
           "gridcolor": "white",
           "linecolor": "white",
           "ticks": "",
           "title": {
            "standoff": 15
           },
           "zerolinecolor": "white",
           "zerolinewidth": 2
          },
          "yaxis": {
           "automargin": true,
           "gridcolor": "white",
           "linecolor": "white",
           "ticks": "",
           "title": {
            "standoff": 15
           },
           "zerolinecolor": "white",
           "zerolinewidth": 2
          }
         }
        },
        "title": {
         "text": "Security Values",
         "x": 0.5,
         "xanchor": "center",
         "y": 0.9,
         "yanchor": "top"
        },
        "width": 700,
        "yaxis": {
         "automargin": true
        }
       }
      },
      "image/png": "[encoded data removed]",
      "text/html": [
       "<div>                            <div id=\"55cfab8d-284d-469e-a5b6-cc8333dfeacd\" class=\"plotly-graph-div\" style=\"height:525px; width:100%;\"></div>            <script type=\"text/javascript\">                require([\"plotly\"], function(Plotly) {                    window.PLOTLYENV=window.PLOTLYENV || {};                                    if (document.getElementById(\"55cfab8d-284d-469e-a5b6-cc8333dfeacd\")) {                    Plotly.newPlot(                        \"55cfab8d-284d-469e-a5b6-cc8333dfeacd\",                        [{\"labels\": [true, false], \"marker\": {\"line\": {\"color\": \"#000000\", \"width\": 2}}, \"textfont\": {\"size\": 14}, \"type\": \"pie\", \"values\": [1613, 529]}],                        {\"autosize\": false, \"template\": {\"data\": {\"bar\": [{\"error_x\": {\"color\": \"#2a3f5f\"}, \"error_y\": {\"color\": \"#2a3f5f\"}, \"marker\": {\"line\": {\"color\": \"#E5ECF6\", \"width\": 0.5}}, \"type\": \"bar\"}], \"barpolar\": [{\"marker\": {\"line\": {\"color\": \"#E5ECF6\", \"width\": 0.5}}, \"type\": \"barpolar\"}], \"carpet\": [{\"aaxis\": {\"endlinecolor\": \"#2a3f5f\", \"gridcolor\": \"white\", \"linecolor\": \"white\", \"minorgridcolor\": \"white\", \"startlinecolor\": \"#2a3f5f\"}, \"baxis\": {\"endlinecolor\": \"#2a3f5f\", \"gridcolor\": \"white\", \"linecolor\": \"white\", \"minorgridcolor\": \"white\", \"startlinecolor\": \"#2a3f5f\"}, \"type\": \"carpet\"}], \"choropleth\": [{\"colorbar\": {\"outlinewidth\": 0, \"ticks\": \"\"}, \"type\": \"choropleth\"}], \"contour\": [{\"colorbar\": {\"outlinewidth\": 0, \"ticks\": \"\"}, \"colorscale\": [[0.0, \"#0d0887\"], [0.1111111111111111, \"#46039f\"], [0.2222222222222222, \"#7201a8\"], [0.3333333333333333, \"#9c179e\"], [0.4444444444444444, \"#bd3786\"], [0.5555555555555556, \"#d8576b\"], [0.6666666666666666, \"#ed7953\"], [0.7777777777777778, \"#fb9f3a\"], [0.8888888888888888, \"#fdca26\"], [1.0, \"#f0f921\"]], \"type\": \"contour\"}], \"contourcarpet\": [{\"colorbar\": {\"outlinewidth\": 0, \"ticks\": \"\"}, \"type\": \"contourcarpet\"}], \"heatmap\": [{\"colorbar\": {\"outlinewidth\": 0, \"ticks\": \"\"}, \"colorscale\": [[0.0, \"#0d0887\"], [0.1111111111111111, \"#46039f\"], [0.2222222222222222, \"#7201a8\"], [0.3333333333333333, \"#9c179e\"], [0.4444444444444444, \"#bd3786\"], [0.5555555555555556, \"#d8576b\"], [0.6666666666666666, \"#ed7953\"], [0.7777777777777778, \"#fb9f3a\"], [0.8888888888888888, \"#fdca26\"], [1.0, \"#f0f921\"]], \"type\": \"heatmap\"}], \"heatmapgl\": [{\"colorbar\": {\"outlinewidth\": 0, \"ticks\": \"\"}, \"colorscale\": [[0.0, \"#0d0887\"], [0.1111111111111111, \"#46039f\"], [0.2222222222222222, \"#7201a8\"], [0.3333333333333333, \"#9c179e\"], [0.4444444444444444, \"#bd3786\"], [0.5555555555555556, \"#d8576b\"], [0.6666666666666666, \"#ed7953\"], [0.7777777777777778, \"#fb9f3a\"], [0.8888888888888888, \"#fdca26\"], [1.0, \"#f0f921\"]], \"type\": \"heatmapgl\"}], \"histogram\": [{\"marker\": {\"colorbar\": {\"outlinewidth\": 0, \"ticks\": \"\"}}, \"type\": \"histogram\"}], \"histogram2d\": [{\"colorbar\": {\"outlinewidth\": 0, \"ticks\": \"\"}, \"colorscale\": [[0.0, \"#0d0887\"], [0.1111111111111111, \"#46039f\"], [0.2222222222222222, \"#7201a8\"], [0.3333333333333333, \"#9c179e\"], [0.4444444444444444, \"#bd3786\"], [0.5555555555555556, \"#d8576b\"], [0.6666666666666666, \"#ed7953\"], [0.7777777777777778, \"#fb9f3a\"], [0.8888888888888888, \"#fdca26\"], [1.0, \"#f0f921\"]], \"type\": \"histogram2d\"}], \"histogram2dcontour\": [{\"colorbar\": {\"outlinewidth\": 0, \"ticks\": \"\"}, \"colorscale\": [[0.0, \"#0d0887\"], [0.1111111111111111, \"#46039f\"], [0.2222222222222222, \"#7201a8\"], [0.3333333333333333, \"#9c179e\"], [0.4444444444444444, \"#bd3786\"], [0.5555555555555556, \"#d8576b\"], [0.6666666666666666, \"#ed7953\"], [0.7777777777777778, \"#fb9f3a\"], [0.8888888888888888, \"#fdca26\"], [1.0, \"#f0f921\"]], \"type\": \"histogram2dcontour\"}], \"mesh3d\": [{\"colorbar\": {\"outlinewidth\": 0, \"ticks\": \"\"}, \"type\": \"mesh3d\"}], \"parcoords\": [{\"line\": {\"colorbar\": {\"outlinewidth\": 0, \"ticks\": \"\"}}, \"type\": \"parcoords\"}], \"pie\": [{\"automargin\": true, \"type\": \"pie\"}], \"scatter\": [{\"marker\": {\"colorbar\": {\"outlinewidth\": 0, \"ticks\": \"\"}}, \"type\": \"scatter\"}], \"scatter3d\": [{\"line\": {\"colorbar\": {\"outlinewidth\": 0, \"ticks\": \"\"}}, \"marker\": {\"colorbar\": {\"outlinewidth\": 0, \"ticks\": \"\"}}, \"type\": \"scatter3d\"}], \"scattercarpet\": [{\"marker\": {\"colorbar\": {\"outlinewidth\": 0, \"ticks\": \"\"}}, \"type\": \"scattercarpet\"}], \"scattergeo\": [{\"marker\": {\"colorbar\": {\"outlinewidth\": 0, \"ticks\": \"\"}}, \"type\": \"scattergeo\"}], \"scattergl\": [{\"marker\": {\"colorbar\": {\"outlinewidth\": 0, \"ticks\": \"\"}}, \"type\": \"scattergl\"}], \"scattermapbox\": [{\"marker\": {\"colorbar\": {\"outlinewidth\": 0, \"ticks\": \"\"}}, \"type\": \"scattermapbox\"}], \"scatterpolar\": [{\"marker\": {\"colorbar\": {\"outlinewidth\": 0, \"ticks\": \"\"}}, \"type\": \"scatterpolar\"}], \"scatterpolargl\": [{\"marker\": {\"colorbar\": {\"outlinewidth\": 0, \"ticks\": \"\"}}, \"type\": \"scatterpolargl\"}], \"scatterternary\": [{\"marker\": {\"colorbar\": {\"outlinewidth\": 0, \"ticks\": \"\"}}, \"type\": \"scatterternary\"}], \"surface\": [{\"colorbar\": {\"outlinewidth\": 0, \"ticks\": \"\"}, \"colorscale\": [[0.0, \"#0d0887\"], [0.1111111111111111, \"#46039f\"], [0.2222222222222222, \"#7201a8\"], [0.3333333333333333, \"#9c179e\"], [0.4444444444444444, \"#bd3786\"], [0.5555555555555556, \"#d8576b\"], [0.6666666666666666, \"#ed7953\"], [0.7777777777777778, \"#fb9f3a\"], [0.8888888888888888, \"#fdca26\"], [1.0, \"#f0f921\"]], \"type\": \"surface\"}], \"table\": [{\"cells\": {\"fill\": {\"color\": \"#EBF0F8\"}, \"line\": {\"color\": \"white\"}}, \"header\": {\"fill\": {\"color\": \"#C8D4E3\"}, \"line\": {\"color\": \"white\"}}, \"type\": \"table\"}]}, \"layout\": {\"annotationdefaults\": {\"arrowcolor\": \"#2a3f5f\", \"arrowhead\": 0, \"arrowwidth\": 1}, \"autotypenumbers\": \"strict\", \"coloraxis\": {\"colorbar\": {\"outlinewidth\": 0, \"ticks\": \"\"}}, \"colorscale\": {\"diverging\": [[0, \"#8e0152\"], [0.1, \"#c51b7d\"], [0.2, \"#de77ae\"], [0.3, \"#f1b6da\"], [0.4, \"#fde0ef\"], [0.5, \"#f7f7f7\"], [0.6, \"#e6f5d0\"], [0.7, \"#b8e186\"], [0.8, \"#7fbc41\"], [0.9, \"#4d9221\"], [1, \"#276419\"]], \"sequential\": [[0.0, \"#0d0887\"], [0.1111111111111111, \"#46039f\"], [0.2222222222222222, \"#7201a8\"], [0.3333333333333333, \"#9c179e\"], [0.4444444444444444, \"#bd3786\"], [0.5555555555555556, \"#d8576b\"], [0.6666666666666666, \"#ed7953\"], [0.7777777777777778, \"#fb9f3a\"], [0.8888888888888888, \"#fdca26\"], [1.0, \"#f0f921\"]], \"sequentialminus\": [[0.0, \"#0d0887\"], [0.1111111111111111, \"#46039f\"], [0.2222222222222222, \"#7201a8\"], [0.3333333333333333, \"#9c179e\"], [0.4444444444444444, \"#bd3786\"], [0.5555555555555556, \"#d8576b\"], [0.6666666666666666, \"#ed7953\"], [0.7777777777777778, \"#fb9f3a\"], [0.8888888888888888, \"#fdca26\"], [1.0, \"#f0f921\"]]}, \"colorway\": [\"#636efa\", \"#EF553B\", \"#00cc96\", \"#ab63fa\", \"#FFA15A\", \"#19d3f3\", \"#FF6692\", \"#B6E880\", \"#FF97FF\", \"#FECB52\"], \"font\": {\"color\": \"#2a3f5f\"}, \"geo\": {\"bgcolor\": \"white\", \"lakecolor\": \"white\", \"landcolor\": \"#E5ECF6\", \"showlakes\": true, \"showland\": true, \"subunitcolor\": \"white\"}, \"hoverlabel\": {\"align\": \"left\"}, \"hovermode\": \"closest\", \"mapbox\": {\"style\": \"light\"}, \"paper_bgcolor\": \"white\", \"plot_bgcolor\": \"#E5ECF6\", \"polar\": {\"angularaxis\": {\"gridcolor\": \"white\", \"linecolor\": \"white\", \"ticks\": \"\"}, \"bgcolor\": \"#E5ECF6\", \"radialaxis\": {\"gridcolor\": \"white\", \"linecolor\": \"white\", \"ticks\": \"\"}}, \"scene\": {\"xaxis\": {\"backgroundcolor\": \"#E5ECF6\", \"gridcolor\": \"white\", \"gridwidth\": 2, \"linecolor\": \"white\", \"showbackground\": true, \"ticks\": \"\", \"zerolinecolor\": \"white\"}, \"yaxis\": {\"backgroundcolor\": \"#E5ECF6\", \"gridcolor\": \"white\", \"gridwidth\": 2, \"linecolor\": \"white\", \"showbackground\": true, \"ticks\": \"\", \"zerolinecolor\": \"white\"}, \"zaxis\": {\"backgroundcolor\": \"#E5ECF6\", \"gridcolor\": \"white\", \"gridwidth\": 2, \"linecolor\": \"white\", \"showbackground\": true, \"ticks\": \"\", \"zerolinecolor\": \"white\"}}, \"shapedefaults\": {\"line\": {\"color\": \"#2a3f5f\"}}, \"ternary\": {\"aaxis\": {\"gridcolor\": \"white\", \"linecolor\": \"white\", \"ticks\": \"\"}, \"baxis\": {\"gridcolor\": \"white\", \"linecolor\": \"white\", \"ticks\": \"\"}, \"bgcolor\": \"#E5ECF6\", \"caxis\": {\"gridcolor\": \"white\", \"linecolor\": \"white\", \"ticks\": \"\"}}, \"title\": {\"x\": 0.05}, \"xaxis\": {\"automargin\": true, \"gridcolor\": \"white\", \"linecolor\": \"white\", \"ticks\": \"\", \"title\": {\"standoff\": 15}, \"zerolinecolor\": \"white\", \"zerolinewidth\": 2}, \"yaxis\": {\"automargin\": true, \"gridcolor\": \"white\", \"linecolor\": \"white\", \"ticks\": \"\", \"title\": {\"standoff\": 15}, \"zerolinecolor\": \"white\", \"zerolinewidth\": 2}}}, \"title\": {\"text\": \"Security Values\", \"x\": 0.5, \"xanchor\": \"center\", \"y\": 0.9, \"yanchor\": \"top\"}, \"yaxis\": {\"automargin\": true}},                        {\"responsive\": true}                    ).then(function(){\n",
       "                            \n",
       "var gd = document.getElementById('55cfab8d-284d-469e-a5b6-cc8333dfeacd');\n",
       "var x = new MutationObserver(function (mutations, observer) {{\n",
       "        var display = window.getComputedStyle(gd).display;\n",
       "        if (!display || display === 'none') {{\n",
       "            console.log([gd, 'removed!']);\n",
       "            Plotly.purge(gd);\n",
       "            observer.disconnect();\n",
       "        }}\n",
       "}});\n",
       "\n",
       "// Listen for the removal of the full notebook cells\n",
       "var notebookContainer = gd.closest('#notebook-container');\n",
       "if (notebookContainer) {{\n",
       "    x.observe(notebookContainer, {childList: true});\n",
       "}}\n",
       "\n",
       "// Listen for the clearing of the current output cell\n",
       "var outputEl = gd.closest('.output');\n",
       "if (outputEl) {{\n",
       "    x.observe(outputEl, {childList: true});\n",
       "}}\n",
       "\n",
       "                        })                };                });            </script>        </div>"
      ]
     },
     "metadata": {},
     "output_type": "display_data"
    }
   ],
   "source": [
    "series_aux = data['same_security'].value_counts()\n",
    "pie_plot(series_aux, 'Security Values')"
   ]
  },
  {
   "cell_type": "markdown",
   "metadata": {},
   "source": [
    "It's a case of imbalanced classes and it will be handled with a model evaluation using F1-Score. I will not use any resampling technique, as random oversampling, SMOTE, etc. <br>\n",
    "A good insight for this problem is see the distribution of character length of each sentence for the security values, starting with the True values."
   ]
  },
  {
   "cell_type": "code",
   "execution_count": 24,
   "metadata": {},
   "outputs": [
    {
     "data": {
      "application/vnd.plotly.v1+json": {
       "config": {
        "linkText": "Export to plot.ly",
        "plotlyServerURL": "https://plot.ly",
        "showLink": false
       },
       "data": [
        {
         "marker": {
          "line": {
           "color": "#000000",
           "width": 2
          }
         },
         "showlegend": false,
         "type": "histogram",
         "x": [
          30,
          35,
          53,
          16,
          28,
          24,
          43,
          28,
          17,
          31,
          14,
          31,
          19,
          64,
          18,
          16,
          12,
          28,
          15,
          22,
          10,
          39,
          19,
          18,
          25,
          20,
          26,
          36,
          20,
          20,
          33,
          29,
          27,
          13,
          35,
          35,
          32,
          25,
          30,
          39,
          29,
          33,
          10,
          39,
          25,
          66,
          14,
          44,
          40,
          15,
          33,
          19,
          18,
          24,
          24,
          31,
          33,
          38,
          25,
          33,
          18,
          40,
          37,
          22,
          16,
          30,
          18,
          17,
          20,
          40,
          24,
          23,
          32,
          13,
          31,
          32,
          32,
          27,
          21,
          32,
          12,
          17,
          28,
          14,
          24,
          27,
          36,
          21,
          45,
          36,
          29,
          29,
          34,
          14,
          24,
          19,
          8,
          32,
          15,
          39,
          22,
          27,
          29,
          44,
          35,
          42,
          18,
          8,
          15,
          21,
          19,
          17,
          19,
          24,
          27,
          17,
          33,
          25,
          23,
          20,
          33,
          29,
          10,
          23,
          31,
          24,
          35,
          26,
          16,
          38,
          18,
          34,
          21,
          22,
          36,
          28,
          26,
          31,
          19,
          28,
          16,
          20,
          41,
          34,
          23,
          54,
          17,
          32,
          21,
          28,
          18,
          28,
          24,
          32,
          53,
          32,
          60,
          46,
          27,
          58,
          27,
          30,
          22,
          35,
          30,
          29,
          26,
          34,
          55,
          35,
          12,
          48,
          27,
          18,
          28,
          18,
          27,
          35,
          22,
          22,
          20,
          51,
          34,
          39,
          13,
          20,
          32,
          25,
          24,
          30,
          18,
          30,
          18,
          12,
          31,
          21,
          20,
          23,
          24,
          40,
          18,
          26,
          12,
          27,
          33,
          21,
          27,
          16,
          48,
          26,
          11,
          37,
          28,
          35,
          35,
          22,
          36,
          35,
          14,
          32,
          15,
          12,
          14,
          15,
          17,
          35,
          37,
          16,
          32,
          40,
          16,
          23,
          33,
          20,
          31,
          22,
          31,
          44,
          12,
          34,
          19,
          28,
          47,
          24,
          19,
          53,
          20,
          32,
          19,
          25,
          18,
          22,
          17,
          29,
          21,
          45,
          18,
          11,
          20,
          41,
          28,
          14,
          20,
          30,
          18,
          23,
          13,
          21,
          25,
          37,
          19,
          25,
          26,
          10,
          27,
          31,
          19,
          17,
          32,
          34,
          19,
          19,
          24,
          21,
          35,
          26,
          58,
          17,
          28,
          40,
          21,
          50,
          27,
          30,
          43,
          34,
          12,
          18,
          27,
          32,
          26,
          40,
          34,
          20,
          22,
          35,
          34,
          26,
          14,
          20,
          28,
          22,
          40,
          54,
          32,
          15,
          12,
          19,
          34,
          29,
          24,
          13,
          60,
          19,
          16,
          25,
          29,
          29,
          27,
          20,
          34,
          23,
          24,
          34,
          19,
          11,
          24,
          10,
          36,
          33,
          35,
          44,
          29,
          18,
          19,
          37,
          26,
          9,
          27,
          31,
          36,
          43,
          21,
          41,
          29,
          20,
          29,
          12,
          31,
          14,
          51,
          59,
          29,
          34,
          32,
          10,
          23,
          36,
          23,
          30,
          14,
          38,
          32,
          21,
          28,
          25,
          19,
          22,
          19,
          18,
          33,
          17,
          15,
          11,
          35,
          21,
          17,
          39,
          30,
          33,
          17,
          30,
          33,
          29,
          20,
          14,
          21,
          10,
          20,
          22,
          52,
          10,
          31,
          32,
          24,
          45,
          52,
          29,
          28,
          24,
          22,
          16,
          30,
          22,
          19,
          34,
          30,
          24,
          26,
          19,
          15,
          28,
          16,
          43,
          14,
          26,
          13,
          26,
          15,
          23,
          26,
          30,
          30,
          45,
          19,
          53,
          29,
          32,
          32,
          22,
          38,
          21,
          20,
          27,
          27,
          26,
          17,
          18,
          19,
          20,
          32,
          24,
          26,
          58,
          40,
          20,
          47,
          36,
          39,
          25,
          59,
          21,
          10,
          20,
          37,
          35,
          34,
          21,
          15,
          36,
          34,
          60,
          27,
          36,
          15,
          30,
          34,
          56,
          31,
          27,
          17,
          50,
          21,
          30,
          31,
          12,
          34,
          18,
          28,
          13,
          18,
          24,
          16,
          21,
          17,
          38,
          16,
          24,
          29,
          18,
          31,
          33,
          25,
          31,
          40,
          22,
          28,
          20,
          35,
          28,
          48,
          25,
          15,
          7,
          47,
          12,
          24,
          24,
          27,
          28,
          34,
          23,
          16,
          22,
          31,
          14,
          25,
          34,
          50,
          13,
          29,
          21,
          24,
          23,
          31,
          36,
          51,
          29,
          23,
          29,
          40,
          31,
          33,
          44,
          29,
          31,
          49,
          19,
          34,
          17,
          41,
          18,
          26,
          26,
          30,
          28,
          15,
          20,
          48,
          32,
          58,
          34,
          24,
          11,
          15,
          18,
          22,
          18,
          8,
          17,
          29,
          53,
          34,
          31,
          44,
          19,
          30,
          27,
          18,
          31,
          41,
          28,
          33,
          32,
          33,
          30,
          29,
          20,
          27,
          10,
          49,
          14,
          26,
          24,
          30,
          39,
          18,
          79,
          48,
          44,
          23,
          29,
          23,
          14,
          24,
          27,
          11,
          29,
          22,
          59,
          18,
          33,
          18,
          36,
          59,
          34,
          15,
          29,
          41,
          36,
          30,
          37,
          31,
          42,
          27,
          19,
          50,
          18,
          15,
          25,
          27,
          29,
          26,
          37,
          25,
          16,
          60,
          23,
          38,
          22,
          50,
          34,
          36,
          18,
          30,
          19,
          22,
          22,
          15,
          20,
          38,
          28,
          45,
          44,
          39,
          28,
          36,
          18,
          30,
          30,
          31,
          29,
          29,
          53,
          19,
          31,
          25,
          11,
          20,
          19,
          38,
          24,
          32,
          30,
          18,
          30,
          28,
          26,
          30,
          20,
          23,
          29,
          39,
          28,
          23,
          29,
          37,
          11,
          27,
          18,
          11,
          39,
          27,
          31,
          20,
          17,
          18,
          25,
          20,
          20,
          16,
          30,
          19,
          22,
          55,
          58,
          30,
          23,
          28,
          30,
          28,
          17,
          23,
          50,
          15,
          17,
          21,
          40,
          19,
          28,
          28,
          24,
          25,
          17,
          19,
          60,
          13,
          39,
          23,
          44,
          28,
          15,
          68,
          23,
          8,
          37,
          31,
          60,
          56,
          22,
          60,
          14,
          34,
          38,
          32,
          20,
          19,
          25,
          23,
          48,
          36,
          21,
          35,
          18,
          13,
          28,
          20,
          36,
          32,
          14,
          32,
          28,
          30,
          17,
          24,
          30,
          30,
          53,
          51,
          36,
          9,
          22,
          27,
          27,
          23,
          26,
          24,
          36,
          15,
          20,
          30,
          39,
          13,
          44,
          30,
          35,
          46,
          15,
          79,
          22,
          25,
          34,
          28,
          31,
          31,
          20,
          12,
          21,
          18,
          24,
          36,
          28,
          18,
          26,
          19,
          59,
          29,
          17,
          11,
          20,
          32,
          18,
          27,
          27,
          21,
          26,
          14,
          28,
          39,
          31,
          23,
          47,
          16,
          49,
          22,
          38,
          52,
          30,
          23,
          36,
          9,
          78,
          23,
          32,
          19,
          23,
          26,
          27,
          19,
          28,
          30,
          27,
          50,
          28,
          19,
          40,
          28,
          27,
          24,
          18,
          22,
          30,
          23,
          16,
          14,
          15,
          22,
          43,
          25,
          12,
          20,
          21,
          40,
          28,
          34,
          37,
          32,
          26,
          32,
          25,
          31,
          17,
          40,
          48,
          41,
          30,
          27,
          33,
          17,
          48,
          35,
          48,
          21,
          18,
          64,
          34,
          17,
          13,
          19,
          17,
          38,
          37,
          31,
          36,
          18,
          16,
          17,
          27,
          11,
          19,
          20,
          22,
          47,
          39,
          25,
          46,
          30,
          30,
          19,
          39,
          24,
          34,
          15,
          21,
          33,
          16,
          23,
          17,
          37,
          28,
          44,
          41,
          31,
          28,
          18,
          36,
          28,
          49,
          11,
          27,
          40,
          33,
          32,
          18,
          30,
          17,
          26,
          37,
          26,
          35,
          18,
          20,
          20,
          47,
          15,
          23,
          39,
          52,
          24,
          18,
          18,
          22,
          26,
          24,
          14,
          29,
          29,
          32,
          23,
          26,
          27,
          30,
          27,
          29,
          17,
          57,
          33,
          28,
          23,
          25,
          38,
          41,
          23,
          20,
          27,
          20,
          30,
          21,
          35,
          38,
          14,
          20,
          35,
          28,
          37,
          21,
          36,
          17,
          18,
          30,
          44,
          32,
          23,
          42,
          44,
          60,
          31,
          44,
          28,
          17,
          27,
          18,
          12,
          23,
          22,
          20,
          21,
          15,
          20,
          18,
          40,
          27,
          18,
          23,
          21,
          35,
          40,
          18,
          25,
          64,
          36,
          24,
          34,
          9,
          31,
          15,
          68,
          26,
          28,
          16,
          38,
          32,
          50,
          27,
          14,
          27,
          39,
          29,
          52,
          20,
          19,
          32,
          39,
          39,
          23,
          38,
          26,
          24,
          30,
          24,
          56,
          29,
          23,
          34,
          20,
          13,
          36,
          60,
          15,
          42,
          23,
          53,
          25,
          20,
          18,
          22,
          18,
          24,
          27,
          30,
          60,
          25,
          21,
          27,
          35,
          18,
          15,
          22,
          41,
          23,
          19,
          35,
          13,
          35,
          14,
          32,
          17,
          37,
          35,
          29,
          40,
          36,
          36,
          30,
          7,
          21,
          58,
          24,
          28,
          27,
          40,
          46,
          16,
          30,
          18,
          21,
          18,
          21,
          25,
          28,
          30,
          28,
          27,
          17,
          59,
          20,
          12,
          31,
          18,
          49,
          17,
          18,
          20,
          25,
          28,
          32,
          29,
          26,
          34,
          24,
          26,
          22,
          30,
          33,
          40,
          56,
          33,
          19,
          36,
          15,
          42,
          35,
          29,
          34,
          18,
          11,
          14,
          18,
          33,
          24,
          43,
          22,
          25,
          33,
          16,
          25,
          52,
          19,
          16,
          18,
          34,
          28,
          12,
          37,
          30,
          28,
          26,
          27,
          25,
          39,
          18,
          35,
          15,
          17,
          22,
          26,
          60,
          53,
          17,
          51,
          20,
          16,
          10,
          20,
          27,
          11,
          30,
          19,
          28,
          36,
          31,
          51,
          28,
          29,
          11,
          30,
          25,
          35,
          39,
          18,
          29,
          14,
          25,
          36,
          30,
          19,
          28,
          21,
          14,
          22,
          45,
          32,
          30,
          23,
          30,
          32,
          15,
          34,
          25,
          52,
          34,
          29,
          27,
          36,
          10,
          13,
          33,
          21,
          37,
          12,
          20,
          18,
          30,
          35,
          34,
          14,
          19,
          25,
          30,
          44,
          36,
          32,
          28,
          13,
          30,
          18,
          21,
          32,
          26,
          17,
          68,
          23,
          27,
          35,
          57,
          21,
          35,
          50,
          36,
          27,
          60,
          11,
          23,
          16,
          22,
          67,
          20,
          30,
          21,
          29,
          17,
          16,
          28,
          24,
          35,
          20,
          28,
          32,
          28,
          20,
          60,
          22,
          31,
          41,
          33,
          20,
          25,
          9,
          36,
          34,
          51,
          26,
          46,
          34,
          26,
          30,
          17,
          18,
          41,
          20,
          17,
          26,
          15,
          53,
          28,
          33,
          23,
          17,
          23,
          18,
          25,
          23,
          22,
          39,
          18,
          27,
          26,
          19,
          33,
          32,
          19,
          23,
          22,
          36,
          38,
          20,
          28,
          30,
          26,
          31,
          20,
          26,
          9,
          41,
          26,
          26,
          31,
          13,
          34,
          38,
          15,
          20,
          24,
          25,
          32,
          55,
          36,
          27,
          20,
          30,
          23,
          18,
          71,
          23,
          29,
          29,
          19,
          38,
          24,
          39,
          32,
          20,
          36,
          11,
          50,
          25,
          31,
          16,
          14,
          24,
          33,
          14,
          38,
          19,
          24,
          35,
          23,
          47,
          39,
          20,
          30,
          36,
          46,
          18,
          22,
          14,
          16,
          21,
          33,
          18,
          25,
          28,
          12,
          18,
          17,
          18,
          21,
          27,
          22,
          27,
          14,
          36,
          26,
          18,
          28,
          18,
          19,
          27,
          23,
          35,
          16,
          26,
          21,
          33,
          22,
          40,
          10,
          48,
          20,
          9,
          17,
          37,
          23,
          19,
          43,
          32,
          35,
          20,
          19,
          19,
          48,
          15,
          36,
          29,
          23,
          27,
          32,
          29,
          33,
          22,
          28,
          24,
          33,
          25,
          41,
          32,
          33,
          31,
          10,
          33,
          41,
          20,
          21,
          18,
          32,
          25,
          20,
          31,
          20,
          21,
          58,
          36,
          42,
          28,
          26,
          24,
          10,
          24,
          36,
          36,
          20,
          33,
          18,
          33,
          26,
          27,
          45,
          26,
          17,
          45,
          21,
          28,
          32,
          20,
          27,
          41,
          19,
          36,
          13,
          28,
          33,
          31,
          14,
          36,
          18,
          19,
          40,
          28,
          17,
          22,
          21,
          11,
          33,
          37,
          20,
          35,
          37,
          19,
          24,
          53,
          27,
          18,
          12,
          24,
          11,
          29,
          28,
          24,
          31,
          29,
          29,
          79,
          24,
          23,
          43,
          25,
          34,
          21,
          27,
          43,
          14,
          38,
          27,
          25,
          33,
          18,
          16,
          17,
          35,
          29,
          22,
          38,
          12,
          33,
          17,
          31,
          25,
          7,
          59,
          21,
          9,
          21,
          28,
          27,
          13,
          60,
          23,
          36,
          60,
          20,
          28,
          13,
          26,
          31,
          24,
          23,
          53,
          33,
          24,
          29,
          38,
          20,
          10,
          54,
          23,
          37,
          12,
          27,
          17,
          47,
          32,
          22,
          14,
          14,
          34,
          21,
          33,
          30,
          14,
          26,
          30,
          33,
          27,
          18,
          32,
          9,
          23,
          40,
          41,
          30,
          35,
          44,
          29,
          21,
          30,
          27,
          20,
          9,
          39,
          23,
          24,
          18,
          19
         ],
         "xaxis": "x",
         "yaxis": "y"
        },
        {
         "marker": {
          "line": {
           "color": "#000000",
           "width": 2
          }
         },
         "showlegend": false,
         "type": "histogram",
         "x": [
          27,
          55,
          60,
          9,
          13,
          23,
          34,
          23,
          19,
          35,
          22,
          40,
          18,
          36,
          24,
          11,
          23,
          23,
          20,
          19,
          17,
          20,
          20,
          27,
          10,
          59,
          34,
          24,
          45,
          23,
          36,
          42,
          45,
          17,
          30,
          36,
          36,
          38,
          29,
          18,
          26,
          60,
          15,
          20,
          22,
          59,
          15,
          33,
          53,
          11,
          41,
          24,
          28,
          16,
          57,
          25,
          21,
          29,
          30,
          49,
          27,
          40,
          35,
          38,
          25,
          32,
          20,
          13,
          48,
          15,
          39,
          14,
          34,
          16,
          26,
          18,
          27,
          32,
          25,
          38,
          16,
          16,
          45,
          13,
          9,
          17,
          32,
          27,
          34,
          38,
          13,
          31,
          15,
          6,
          19,
          52,
          4,
          30,
          19,
          54,
          39,
          34,
          43,
          39,
          35,
          27,
          16,
          9,
          29,
          15,
          20,
          27,
          27,
          59,
          23,
          16,
          22,
          24,
          24,
          25,
          22,
          35,
          9,
          21,
          28,
          35,
          28,
          41,
          13,
          27,
          21,
          58,
          17,
          24,
          35,
          26,
          28,
          34,
          44,
          25,
          11,
          20,
          33,
          28,
          27,
          30,
          26,
          59,
          11,
          30,
          22,
          34,
          18,
          31,
          37,
          27,
          24,
          39,
          42,
          25,
          23,
          44,
          18,
          18,
          60,
          23,
          49,
          40,
          30,
          38,
          17,
          31,
          22,
          22,
          67,
          31,
          31,
          20,
          33,
          32,
          42,
          39,
          59,
          46,
          11,
          23,
          20,
          32,
          29,
          34,
          33,
          15,
          29,
          17,
          26,
          20,
          36,
          33,
          54,
          38,
          13,
          22,
          10,
          25,
          27,
          28,
          35,
          17,
          30,
          37,
          15,
          59,
          32,
          35,
          31,
          22,
          20,
          34,
          27,
          30,
          30,
          16,
          23,
          11,
          22,
          22,
          39,
          27,
          39,
          24,
          20,
          23,
          30,
          35,
          26,
          11,
          35,
          25,
          13,
          23,
          15,
          26,
          26,
          28,
          11,
          31,
          29,
          36,
          26,
          27,
          32,
          18,
          17,
          25,
          52,
          48,
          37,
          16,
          32,
          28,
          19,
          20,
          41,
          24,
          22,
          31,
          16,
          10,
          19,
          36,
          48,
          21,
          30,
          14,
          53,
          12,
          15,
          25,
          25,
          60,
          38,
          15,
          20,
          30,
          60,
          34,
          35,
          26,
          25,
          38,
          22,
          31,
          19,
          36,
          47,
          35,
          16,
          15,
          27,
          36,
          38,
          40,
          40,
          39,
          32,
          38,
          40,
          43,
          33,
          28,
          18,
          31,
          24,
          22,
          22,
          17,
          17,
          53,
          58,
          26,
          28,
          10,
          35,
          34,
          18,
          38,
          28,
          30,
          31,
          13,
          45,
          33,
          32,
          18,
          20,
          24,
          24,
          18,
          40,
          18,
          42,
          39,
          29,
          31,
          31,
          24,
          16,
          13,
          30,
          56,
          45,
          79,
          17,
          32,
          22,
          27,
          27,
          19,
          19,
          10,
          49,
          37,
          78,
          25,
          26,
          5,
          19,
          52,
          19,
          33,
          15,
          39,
          28,
          36,
          23,
          29,
          26,
          19,
          34,
          32,
          18,
          9,
          11,
          30,
          32,
          22,
          33,
          25,
          20,
          40,
          21,
          30,
          25,
          36,
          24,
          21,
          9,
          21,
          33,
          19,
          27,
          13,
          22,
          38,
          22,
          16,
          38,
          39,
          45,
          37,
          32,
          22,
          34,
          32,
          15,
          27,
          55,
          29,
          25,
          15,
          9,
          36,
          16,
          25,
          10,
          51,
          9,
          31,
          19,
          12,
          30,
          24,
          20,
          46,
          15,
          19,
          23,
          34,
          20,
          18,
          26,
          29,
          29,
          26,
          15,
          16,
          13,
          14,
          27,
          24,
          33,
          32,
          18,
          49,
          41,
          39,
          28,
          28,
          26,
          15,
          20,
          21,
          23,
          19,
          47,
          36,
          31,
          46,
          10,
          32,
          33,
          22,
          23,
          32,
          30,
          27,
          35,
          34,
          35,
          24,
          17,
          30,
          29,
          36,
          23,
          15,
          27,
          19,
          24,
          27,
          23,
          29,
          39,
          31,
          18,
          30,
          34,
          17,
          39,
          17,
          22,
          18,
          20,
          37,
          33,
          20,
          27,
          17,
          19,
          27,
          34,
          24,
          38,
          11,
          59,
          22,
          60,
          35,
          18,
          25,
          28,
          19,
          24,
          20,
          35,
          9,
          58,
          36,
          41,
          20,
          33,
          32,
          46,
          21,
          36,
          28,
          37,
          29,
          8,
          30,
          14,
          41,
          39,
          37,
          44,
          21,
          49,
          23,
          40,
          21,
          20,
          38,
          34,
          29,
          22,
          20,
          14,
          59,
          32,
          47,
          30,
          27,
          32,
          7,
          13,
          19,
          22,
          24,
          10,
          20,
          15,
          29,
          23,
          51,
          26,
          24,
          25,
          19,
          14,
          27,
          16,
          32,
          78,
          60,
          20,
          39,
          31,
          32,
          40,
          16,
          29,
          41,
          33,
          20,
          44,
          25,
          13,
          30,
          23,
          23,
          27,
          22,
          37,
          8,
          13,
          22,
          16,
          15,
          18,
          40,
          25,
          30,
          14,
          30,
          34,
          39,
          23,
          33,
          58,
          38,
          33,
          20,
          34,
          39,
          26,
          23,
          21,
          24,
          19,
          28,
          26,
          38,
          25,
          41,
          33,
          23,
          40,
          31,
          32,
          18,
          36,
          17,
          19,
          21,
          31,
          30,
          35,
          33,
          15,
          22,
          45,
          31,
          64,
          33,
          38,
          24,
          20,
          36,
          23,
          30,
          15,
          26,
          21,
          35,
          15,
          22,
          34,
          9,
          25,
          38,
          36,
          22,
          18,
          23,
          14,
          19,
          24,
          16,
          28,
          42,
          24,
          16,
          25,
          27,
          13,
          28,
          23,
          15,
          27,
          25,
          13,
          27,
          29,
          32,
          37,
          19,
          23,
          34,
          28,
          30,
          29,
          29,
          26,
          15,
          35,
          28,
          26,
          24,
          20,
          32,
          60,
          27,
          29,
          30,
          19,
          16,
          20,
          35,
          8,
          20,
          20,
          19,
          15,
          15,
          21,
          44,
          18,
          27,
          26,
          30,
          16,
          39,
          59,
          31,
          12,
          62,
          22,
          72,
          63,
          18,
          45,
          22,
          44,
          28,
          21,
          32,
          27,
          23,
          57,
          22,
          18,
          25,
          29,
          33,
          17,
          19,
          31,
          24,
          49,
          15,
          36,
          35,
          29,
          42,
          22,
          28,
          21,
          20,
          27,
          40,
          14,
          33,
          23,
          32,
          28,
          26,
          18,
          21,
          44,
          11,
          26,
          17,
          17,
          22,
          24,
          24,
          55,
          19,
          78,
          42,
          16,
          27,
          52,
          26,
          33,
          19,
          8,
          25,
          25,
          30,
          19,
          20,
          22,
          18,
          25,
          35,
          24,
          22,
          14,
          28,
          45,
          14,
          31,
          28,
          25,
          28,
          15,
          44,
          59,
          31,
          20,
          38,
          36,
          59,
          11,
          39,
          43,
          18,
          22,
          20,
          25,
          35,
          38,
          30,
          19,
          30,
          20,
          32,
          48,
          28,
          44,
          32,
          32,
          24,
          24,
          33,
          31,
          32,
          21,
          11,
          34,
          26,
          41,
          24,
          20,
          18,
          14,
          55,
          20,
          11,
          27,
          15,
          29,
          20,
          35,
          26,
          51,
          44,
          36,
          23,
          46,
          31,
          29,
          21,
          53,
          39,
          33,
          40,
          21,
          19,
          32,
          21,
          29,
          10,
          27,
          38,
          33,
          20,
          37,
          31,
          36,
          40,
          25,
          41,
          22,
          26,
          21,
          27,
          13,
          22,
          15,
          26,
          31,
          44,
          38,
          21,
          25,
          30,
          23,
          23,
          16,
          30,
          18,
          17,
          30,
          37,
          24,
          21,
          36,
          29,
          30,
          41,
          27,
          21,
          10,
          32,
          24,
          29,
          15,
          61,
          40,
          33,
          21,
          15,
          16,
          16,
          30,
          44,
          16,
          31,
          14,
          17,
          22,
          53,
          23,
          27,
          28,
          28,
          35,
          16,
          20,
          15,
          20,
          32,
          15,
          23,
          36,
          26,
          26,
          30,
          21,
          30,
          39,
          58,
          9,
          23,
          50,
          34,
          27,
          17,
          35,
          30,
          36,
          19,
          28,
          34,
          28,
          28,
          46,
          48,
          9,
          22,
          48,
          38,
          36,
          15,
          35,
          13,
          33,
          38,
          53,
          30,
          19,
          26,
          23,
          29,
          29,
          40,
          35,
          25,
          26,
          23,
          7,
          22,
          26,
          30,
          21,
          15,
          37,
          17,
          17,
          23,
          27,
          19,
          31,
          48,
          27,
          16,
          21,
          36,
          34,
          26,
          13,
          16,
          17,
          30,
          40,
          19,
          35,
          31,
          20,
          27,
          23,
          23,
          27,
          30,
          36,
          42,
          20,
          57,
          15,
          45,
          21,
          33,
          19,
          40,
          12,
          39,
          33,
          27,
          33,
          27,
          16,
          33,
          19,
          18,
          29,
          39,
          26,
          26,
          37,
          45,
          21,
          19,
          22,
          11,
          28,
          17,
          30,
          18,
          21,
          17,
          21,
          35,
          20,
          24,
          20,
          28,
          35,
          59,
          15,
          38,
          17,
          32,
          12,
          17,
          39,
          35,
          22,
          34,
          53,
          29,
          37,
          32,
          9,
          19,
          62,
          37,
          54,
          25,
          37,
          33,
          25,
          34,
          14,
          17,
          26,
          29,
          22,
          68,
          16,
          53,
          59,
          16,
          32,
          18,
          11,
          30,
          18,
          36,
          21,
          22,
          16,
          34,
          22,
          27,
          36,
          40,
          22,
          20,
          27,
          21,
          35,
          20,
          45,
          20,
          30,
          21,
          35,
          12,
          30,
          37,
          23,
          28,
          24,
          21,
          21,
          49,
          24,
          26,
          24,
          39,
          14,
          20,
          30,
          27,
          63,
          23,
          15,
          26,
          43,
          24,
          21,
          47,
          24,
          40,
          38,
          30,
          32,
          20,
          24,
          31,
          22,
          20,
          14,
          34,
          47,
          35,
          12,
          31,
          25,
          26,
          9,
          47,
          20,
          20,
          20,
          27,
          29,
          15,
          23,
          27,
          22,
          34,
          15,
          16,
          14,
          29,
          28,
          27,
          23,
          9,
          36,
          32,
          32,
          17,
          37,
          28,
          13,
          31,
          69,
          36,
          22,
          38,
          26,
          33,
          10,
          30,
          22,
          36,
          30,
          25,
          23,
          28,
          5,
          21,
          40,
          25,
          24,
          33,
          38,
          22,
          19,
          52,
          45,
          23,
          15,
          38,
          22,
          22,
          39,
          22,
          20,
          33,
          29,
          15,
          17,
          24,
          31,
          15,
          39,
          14,
          20,
          19,
          20,
          23,
          60,
          52,
          27,
          25,
          26,
          19,
          16,
          12,
          18,
          60,
          52,
          26,
          19,
          30,
          21,
          29,
          30,
          29,
          40,
          14,
          20,
          35,
          29,
          19,
          21,
          46,
          53,
          35,
          23,
          28,
          18,
          18,
          30,
          17,
          26,
          22,
          25,
          29,
          30,
          33,
          11,
          11,
          28,
          15,
          17,
          15,
          23,
          27,
          29,
          46,
          23,
          18,
          19,
          33,
          60,
          19,
          22,
          26,
          22,
          22,
          20,
          44,
          25,
          33,
          23,
          36,
          36,
          38,
          45,
          24,
          24,
          23,
          31,
          47,
          15,
          15,
          22,
          31,
          19,
          20,
          26,
          10,
          34,
          17,
          11,
          48,
          28,
          20,
          24,
          20,
          21,
          18,
          20,
          23,
          14,
          23,
          32,
          27,
          20,
          40,
          23,
          39,
          37,
          18,
          26,
          29,
          43,
          7,
          35,
          18,
          19,
          20,
          18,
          26,
          27,
          14,
          19,
          19,
          18,
          13,
          12,
          29,
          45,
          25,
          36,
          35,
          29,
          22,
          15,
          15,
          12,
          12,
          30,
          9,
          43,
          32,
          9,
          20,
          21,
          21,
          26,
          29,
          18,
          22,
          10,
          50,
          35,
          39,
          24,
          30,
          33,
          54,
          57,
          25,
          15,
          22,
          24,
          23,
          19,
          63,
          9,
          43,
          21,
          13,
          21,
          13,
          44,
          15,
          68,
          18,
          22,
          23,
          15,
          28,
          33,
          26,
          29,
          20,
          19,
          51,
          21,
          19,
          28,
          26,
          39,
          25,
          33,
          33,
          56,
          34,
          24,
          24,
          11,
          35,
          35,
          15,
          21,
          23,
          19,
          37,
          26,
          49,
          32,
          19,
          29,
          26,
          26,
          32,
          45,
          28,
          21,
          24,
          20,
          35,
          17,
          29,
          26,
          25,
          31,
          18,
          53,
          17,
          15,
          31,
          25,
          28,
          36,
          39,
          19,
          18,
          23,
          26,
          23,
          24,
          22,
          38,
          9,
          26,
          31,
          27,
          58,
          39,
          25,
          34,
          17,
          15,
          39,
          27,
          21,
          34,
          34,
          39,
          20,
          44,
          20,
          14,
          13,
          34,
          16,
          34,
          36,
          59,
          20,
          32,
          39,
          59,
          28,
          21,
          45,
          22,
          34,
          8,
          14,
          43,
          22,
          70,
          16,
          31,
          26,
          34,
          23,
          21,
          24,
          20,
          37,
          50,
          8,
          40,
          33,
          33,
          20,
          11,
          23,
          22,
          13,
          30,
          34,
          36,
          18,
          40,
          20,
          53,
          24,
          24,
          18,
          14,
          24,
          38,
          20,
          48,
          22,
          39,
          32,
          22,
          50,
          11,
          18,
          35,
          19,
          45,
          24,
          37,
          20,
          28,
          18,
          19,
          23,
          15,
          27,
          19,
          28,
          22,
          19,
          37,
          20,
          31,
          27,
          26,
          38,
          11,
          26,
          36,
          41,
          39,
          36,
          38,
          21,
          25,
          38,
          28,
          22,
          7,
          21,
          28,
          29,
          21,
          27
         ],
         "xaxis": "x2",
         "yaxis": "y2"
        }
       ],
       "layout": {
        "annotations": [
         {
          "font": {
           "size": 16
          },
          "showarrow": false,
          "text": "Description X Length",
          "x": 0.225,
          "xanchor": "center",
          "xref": "paper",
          "y": 1,
          "yanchor": "bottom",
          "yref": "paper"
         },
         {
          "font": {
           "size": 16
          },
          "showarrow": false,
          "text": "Description Y Length",
          "x": 0.775,
          "xanchor": "center",
          "xref": "paper",
          "y": 1,
          "yanchor": "bottom",
          "yref": "paper"
         }
        ],
        "autosize": false,
        "height": 450,
        "template": {
         "data": {
          "bar": [
           {
            "error_x": {
             "color": "rgb(36,36,36)"
            },
            "error_y": {
             "color": "rgb(36,36,36)"
            },
            "marker": {
             "line": {
              "color": "white",
              "width": 0.5
             }
            },
            "type": "bar"
           }
          ],
          "barpolar": [
           {
            "marker": {
             "line": {
              "color": "white",
              "width": 0.5
             }
            },
            "type": "barpolar"
           }
          ],
          "carpet": [
           {
            "aaxis": {
             "endlinecolor": "rgb(36,36,36)",
             "gridcolor": "white",
             "linecolor": "white",
             "minorgridcolor": "white",
             "startlinecolor": "rgb(36,36,36)"
            },
            "baxis": {
             "endlinecolor": "rgb(36,36,36)",
             "gridcolor": "white",
             "linecolor": "white",
             "minorgridcolor": "white",
             "startlinecolor": "rgb(36,36,36)"
            },
            "type": "carpet"
           }
          ],
          "choropleth": [
           {
            "colorbar": {
             "outlinewidth": 1,
             "tickcolor": "rgb(36,36,36)",
             "ticks": "outside"
            },
            "type": "choropleth"
           }
          ],
          "contour": [
           {
            "colorbar": {
             "outlinewidth": 1,
             "tickcolor": "rgb(36,36,36)",
             "ticks": "outside"
            },
            "colorscale": [
             [
              0,
              "#440154"
             ],
             [
              0.1111111111111111,
              "#482878"
             ],
             [
              0.2222222222222222,
              "#3e4989"
             ],
             [
              0.3333333333333333,
              "#31688e"
             ],
             [
              0.4444444444444444,
              "#26828e"
             ],
             [
              0.5555555555555556,
              "#1f9e89"
             ],
             [
              0.6666666666666666,
              "#35b779"
             ],
             [
              0.7777777777777778,
              "#6ece58"
             ],
             [
              0.8888888888888888,
              "#b5de2b"
             ],
             [
              1,
              "#fde725"
             ]
            ],
            "type": "contour"
           }
          ],
          "contourcarpet": [
           {
            "colorbar": {
             "outlinewidth": 1,
             "tickcolor": "rgb(36,36,36)",
             "ticks": "outside"
            },
            "type": "contourcarpet"
           }
          ],
          "heatmap": [
           {
            "colorbar": {
             "outlinewidth": 1,
             "tickcolor": "rgb(36,36,36)",
             "ticks": "outside"
            },
            "colorscale": [
             [
              0,
              "#440154"
             ],
             [
              0.1111111111111111,
              "#482878"
             ],
             [
              0.2222222222222222,
              "#3e4989"
             ],
             [
              0.3333333333333333,
              "#31688e"
             ],
             [
              0.4444444444444444,
              "#26828e"
             ],
             [
              0.5555555555555556,
              "#1f9e89"
             ],
             [
              0.6666666666666666,
              "#35b779"
             ],
             [
              0.7777777777777778,
              "#6ece58"
             ],
             [
              0.8888888888888888,
              "#b5de2b"
             ],
             [
              1,
              "#fde725"
             ]
            ],
            "type": "heatmap"
           }
          ],
          "heatmapgl": [
           {
            "colorbar": {
             "outlinewidth": 1,
             "tickcolor": "rgb(36,36,36)",
             "ticks": "outside"
            },
            "colorscale": [
             [
              0,
              "#440154"
             ],
             [
              0.1111111111111111,
              "#482878"
             ],
             [
              0.2222222222222222,
              "#3e4989"
             ],
             [
              0.3333333333333333,
              "#31688e"
             ],
             [
              0.4444444444444444,
              "#26828e"
             ],
             [
              0.5555555555555556,
              "#1f9e89"
             ],
             [
              0.6666666666666666,
              "#35b779"
             ],
             [
              0.7777777777777778,
              "#6ece58"
             ],
             [
              0.8888888888888888,
              "#b5de2b"
             ],
             [
              1,
              "#fde725"
             ]
            ],
            "type": "heatmapgl"
           }
          ],
          "histogram": [
           {
            "marker": {
             "line": {
              "color": "white",
              "width": 0.6
             }
            },
            "type": "histogram"
           }
          ],
          "histogram2d": [
           {
            "colorbar": {
             "outlinewidth": 1,
             "tickcolor": "rgb(36,36,36)",
             "ticks": "outside"
            },
            "colorscale": [
             [
              0,
              "#440154"
             ],
             [
              0.1111111111111111,
              "#482878"
             ],
             [
              0.2222222222222222,
              "#3e4989"
             ],
             [
              0.3333333333333333,
              "#31688e"
             ],
             [
              0.4444444444444444,
              "#26828e"
             ],
             [
              0.5555555555555556,
              "#1f9e89"
             ],
             [
              0.6666666666666666,
              "#35b779"
             ],
             [
              0.7777777777777778,
              "#6ece58"
             ],
             [
              0.8888888888888888,
              "#b5de2b"
             ],
             [
              1,
              "#fde725"
             ]
            ],
            "type": "histogram2d"
           }
          ],
          "histogram2dcontour": [
           {
            "colorbar": {
             "outlinewidth": 1,
             "tickcolor": "rgb(36,36,36)",
             "ticks": "outside"
            },
            "colorscale": [
             [
              0,
              "#440154"
             ],
             [
              0.1111111111111111,
              "#482878"
             ],
             [
              0.2222222222222222,
              "#3e4989"
             ],
             [
              0.3333333333333333,
              "#31688e"
             ],
             [
              0.4444444444444444,
              "#26828e"
             ],
             [
              0.5555555555555556,
              "#1f9e89"
             ],
             [
              0.6666666666666666,
              "#35b779"
             ],
             [
              0.7777777777777778,
              "#6ece58"
             ],
             [
              0.8888888888888888,
              "#b5de2b"
             ],
             [
              1,
              "#fde725"
             ]
            ],
            "type": "histogram2dcontour"
           }
          ],
          "mesh3d": [
           {
            "colorbar": {
             "outlinewidth": 1,
             "tickcolor": "rgb(36,36,36)",
             "ticks": "outside"
            },
            "type": "mesh3d"
           }
          ],
          "parcoords": [
           {
            "line": {
             "colorbar": {
              "outlinewidth": 1,
              "tickcolor": "rgb(36,36,36)",
              "ticks": "outside"
             }
            },
            "type": "parcoords"
           }
          ],
          "pie": [
           {
            "automargin": true,
            "type": "pie"
           }
          ],
          "scatter": [
           {
            "marker": {
             "colorbar": {
              "outlinewidth": 1,
              "tickcolor": "rgb(36,36,36)",
              "ticks": "outside"
             }
            },
            "type": "scatter"
           }
          ],
          "scatter3d": [
           {
            "line": {
             "colorbar": {
              "outlinewidth": 1,
              "tickcolor": "rgb(36,36,36)",
              "ticks": "outside"
             }
            },
            "marker": {
             "colorbar": {
              "outlinewidth": 1,
              "tickcolor": "rgb(36,36,36)",
              "ticks": "outside"
             }
            },
            "type": "scatter3d"
           }
          ],
          "scattercarpet": [
           {
            "marker": {
             "colorbar": {
              "outlinewidth": 1,
              "tickcolor": "rgb(36,36,36)",
              "ticks": "outside"
             }
            },
            "type": "scattercarpet"
           }
          ],
          "scattergeo": [
           {
            "marker": {
             "colorbar": {
              "outlinewidth": 1,
              "tickcolor": "rgb(36,36,36)",
              "ticks": "outside"
             }
            },
            "type": "scattergeo"
           }
          ],
          "scattergl": [
           {
            "marker": {
             "colorbar": {
              "outlinewidth": 1,
              "tickcolor": "rgb(36,36,36)",
              "ticks": "outside"
             }
            },
            "type": "scattergl"
           }
          ],
          "scattermapbox": [
           {
            "marker": {
             "colorbar": {
              "outlinewidth": 1,
              "tickcolor": "rgb(36,36,36)",
              "ticks": "outside"
             }
            },
            "type": "scattermapbox"
           }
          ],
          "scatterpolar": [
           {
            "marker": {
             "colorbar": {
              "outlinewidth": 1,
              "tickcolor": "rgb(36,36,36)",
              "ticks": "outside"
             }
            },
            "type": "scatterpolar"
           }
          ],
          "scatterpolargl": [
           {
            "marker": {
             "colorbar": {
              "outlinewidth": 1,
              "tickcolor": "rgb(36,36,36)",
              "ticks": "outside"
             }
            },
            "type": "scatterpolargl"
           }
          ],
          "scatterternary": [
           {
            "marker": {
             "colorbar": {
              "outlinewidth": 1,
              "tickcolor": "rgb(36,36,36)",
              "ticks": "outside"
             }
            },
            "type": "scatterternary"
           }
          ],
          "surface": [
           {
            "colorbar": {
             "outlinewidth": 1,
             "tickcolor": "rgb(36,36,36)",
             "ticks": "outside"
            },
            "colorscale": [
             [
              0,
              "#440154"
             ],
             [
              0.1111111111111111,
              "#482878"
             ],
             [
              0.2222222222222222,
              "#3e4989"
             ],
             [
              0.3333333333333333,
              "#31688e"
             ],
             [
              0.4444444444444444,
              "#26828e"
             ],
             [
              0.5555555555555556,
              "#1f9e89"
             ],
             [
              0.6666666666666666,
              "#35b779"
             ],
             [
              0.7777777777777778,
              "#6ece58"
             ],
             [
              0.8888888888888888,
              "#b5de2b"
             ],
             [
              1,
              "#fde725"
             ]
            ],
            "type": "surface"
           }
          ],
          "table": [
           {
            "cells": {
             "fill": {
              "color": "rgb(237,237,237)"
             },
             "line": {
              "color": "white"
             }
            },
            "header": {
             "fill": {
              "color": "rgb(217,217,217)"
             },
             "line": {
              "color": "white"
             }
            },
            "type": "table"
           }
          ]
         },
         "layout": {
          "annotationdefaults": {
           "arrowhead": 0,
           "arrowwidth": 1
          },
          "autotypenumbers": "strict",
          "coloraxis": {
           "colorbar": {
            "outlinewidth": 1,
            "tickcolor": "rgb(36,36,36)",
            "ticks": "outside"
           }
          },
          "colorscale": {
           "diverging": [
            [
             0,
             "rgb(103,0,31)"
            ],
            [
             0.1,
             "rgb(178,24,43)"
            ],
            [
             0.2,
             "rgb(214,96,77)"
            ],
            [
             0.3,
             "rgb(244,165,130)"
            ],
            [
             0.4,
             "rgb(253,219,199)"
            ],
            [
             0.5,
             "rgb(247,247,247)"
            ],
            [
             0.6,
             "rgb(209,229,240)"
            ],
            [
             0.7,
             "rgb(146,197,222)"
            ],
            [
             0.8,
             "rgb(67,147,195)"
            ],
            [
             0.9,
             "rgb(33,102,172)"
            ],
            [
             1,
             "rgb(5,48,97)"
            ]
           ],
           "sequential": [
            [
             0,
             "#440154"
            ],
            [
             0.1111111111111111,
             "#482878"
            ],
            [
             0.2222222222222222,
             "#3e4989"
            ],
            [
             0.3333333333333333,
             "#31688e"
            ],
            [
             0.4444444444444444,
             "#26828e"
            ],
            [
             0.5555555555555556,
             "#1f9e89"
            ],
            [
             0.6666666666666666,
             "#35b779"
            ],
            [
             0.7777777777777778,
             "#6ece58"
            ],
            [
             0.8888888888888888,
             "#b5de2b"
            ],
            [
             1,
             "#fde725"
            ]
           ],
           "sequentialminus": [
            [
             0,
             "#440154"
            ],
            [
             0.1111111111111111,
             "#482878"
            ],
            [
             0.2222222222222222,
             "#3e4989"
            ],
            [
             0.3333333333333333,
             "#31688e"
            ],
            [
             0.4444444444444444,
             "#26828e"
            ],
            [
             0.5555555555555556,
             "#1f9e89"
            ],
            [
             0.6666666666666666,
             "#35b779"
            ],
            [
             0.7777777777777778,
             "#6ece58"
            ],
            [
             0.8888888888888888,
             "#b5de2b"
            ],
            [
             1,
             "#fde725"
            ]
           ]
          },
          "colorway": [
           "#1F77B4",
           "#FF7F0E",
           "#2CA02C",
           "#D62728",
           "#9467BD",
           "#8C564B",
           "#E377C2",
           "#7F7F7F",
           "#BCBD22",
           "#17BECF"
          ],
          "font": {
           "color": "rgb(36,36,36)"
          },
          "geo": {
           "bgcolor": "white",
           "lakecolor": "white",
           "landcolor": "white",
           "showlakes": true,
           "showland": true,
           "subunitcolor": "white"
          },
          "hoverlabel": {
           "align": "left"
          },
          "hovermode": "closest",
          "mapbox": {
           "style": "light"
          },
          "paper_bgcolor": "white",
          "plot_bgcolor": "white",
          "polar": {
           "angularaxis": {
            "gridcolor": "rgb(232,232,232)",
            "linecolor": "rgb(36,36,36)",
            "showgrid": false,
            "showline": true,
            "ticks": "outside"
           },
           "bgcolor": "white",
           "radialaxis": {
            "gridcolor": "rgb(232,232,232)",
            "linecolor": "rgb(36,36,36)",
            "showgrid": false,
            "showline": true,
            "ticks": "outside"
           }
          },
          "scene": {
           "xaxis": {
            "backgroundcolor": "white",
            "gridcolor": "rgb(232,232,232)",
            "gridwidth": 2,
            "linecolor": "rgb(36,36,36)",
            "showbackground": true,
            "showgrid": false,
            "showline": true,
            "ticks": "outside",
            "zeroline": false,
            "zerolinecolor": "rgb(36,36,36)"
           },
           "yaxis": {
            "backgroundcolor": "white",
            "gridcolor": "rgb(232,232,232)",
            "gridwidth": 2,
            "linecolor": "rgb(36,36,36)",
            "showbackground": true,
            "showgrid": false,
            "showline": true,
            "ticks": "outside",
            "zeroline": false,
            "zerolinecolor": "rgb(36,36,36)"
           },
           "zaxis": {
            "backgroundcolor": "white",
            "gridcolor": "rgb(232,232,232)",
            "gridwidth": 2,
            "linecolor": "rgb(36,36,36)",
            "showbackground": true,
            "showgrid": false,
            "showline": true,
            "ticks": "outside",
            "zeroline": false,
            "zerolinecolor": "rgb(36,36,36)"
           }
          },
          "shapedefaults": {
           "fillcolor": "black",
           "line": {
            "width": 0
           },
           "opacity": 0.3
          },
          "ternary": {
           "aaxis": {
            "gridcolor": "rgb(232,232,232)",
            "linecolor": "rgb(36,36,36)",
            "showgrid": false,
            "showline": true,
            "ticks": "outside"
           },
           "baxis": {
            "gridcolor": "rgb(232,232,232)",
            "linecolor": "rgb(36,36,36)",
            "showgrid": false,
            "showline": true,
            "ticks": "outside"
           },
           "bgcolor": "white",
           "caxis": {
            "gridcolor": "rgb(232,232,232)",
            "linecolor": "rgb(36,36,36)",
            "showgrid": false,
            "showline": true,
            "ticks": "outside"
           }
          },
          "title": {
           "x": 0.05
          },
          "xaxis": {
           "automargin": true,
           "gridcolor": "rgb(232,232,232)",
           "linecolor": "rgb(36,36,36)",
           "showgrid": false,
           "showline": true,
           "ticks": "outside",
           "title": {
            "standoff": 15
           },
           "zeroline": false,
           "zerolinecolor": "rgb(36,36,36)"
          },
          "yaxis": {
           "automargin": true,
           "gridcolor": "rgb(232,232,232)",
           "linecolor": "rgb(36,36,36)",
           "showgrid": false,
           "showline": true,
           "ticks": "outside",
           "title": {
            "standoff": 15
           },
           "zeroline": false,
           "zerolinecolor": "rgb(36,36,36)"
          }
         }
        },
        "title": {
         "text": "<b>Character length distribution for True Security",
         "x": 0.5,
         "xanchor": "center",
         "y": 0.9,
         "yanchor": "top"
        },
        "width": 700,
        "xaxis": {
         "anchor": "y",
         "autorange": true,
         "domain": [
          0,
          0.45
         ],
         "range": [
          5.5,
          79.5
         ],
         "type": "linear"
        },
        "xaxis2": {
         "anchor": "y2",
         "autorange": true,
         "domain": [
          0.55,
          1
         ],
         "range": [
          3.5,
          79.5
         ],
         "type": "linear"
        },
        "yaxis": {
         "anchor": "x",
         "automargin": true,
         "autorange": true,
         "domain": [
          0,
          1
         ],
         "range": [
          0,
          151.57894736842104
         ],
         "title": {
          "text": "<i>Frequency</i>"
         }
        },
        "yaxis2": {
         "anchor": "x2",
         "automargin": true,
         "autorange": true,
         "domain": [
          0,
          1
         ],
         "range": [
          0,
          146.31578947368422
         ]
        }
       }
      },
      "image/png": "[encoded data removed]",
      "text/html": [
       "<div>                            <div id=\"80e329b4-1424-4a75-9c8b-440a55f97af1\" class=\"plotly-graph-div\" style=\"height:525px; width:100%;\"></div>            <script type=\"text/javascript\">                require([\"plotly\"], function(Plotly) {                    window.PLOTLYENV=window.PLOTLYENV || {};                                    if (document.getElementById(\"80e329b4-1424-4a75-9c8b-440a55f97af1\")) {                    Plotly.newPlot(                        \"80e329b4-1424-4a75-9c8b-440a55f97af1\",                        [{\"marker\": {\"line\": {\"color\": \"#000000\", \"width\": 2}}, \"showlegend\": false, \"type\": \"histogram\", \"x\": [30, 35, 53, 16, 28, 24, 43, 28, 17, 31, 14, 31, 19, 64, 18, 16, 12, 28, 15, 22, 10, 39, 19, 18, 25, 20, 26, 36, 20, 20, 33, 29, 27, 13, 35, 35, 32, 25, 30, 39, 29, 33, 10, 39, 25, 66, 14, 44, 40, 15, 33, 19, 18, 24, 24, 31, 33, 38, 25, 33, 18, 40, 37, 22, 16, 30, 18, 17, 20, 40, 24, 23, 32, 13, 31, 32, 32, 27, 21, 32, 12, 17, 28, 14, 24, 27, 36, 21, 45, 36, 29, 29, 34, 14, 24, 19, 8, 32, 15, 39, 22, 27, 29, 44, 35, 42, 18, 8, 15, 21, 19, 17, 19, 24, 27, 17, 33, 25, 23, 20, 33, 29, 10, 23, 31, 24, 35, 26, 16, 38, 18, 34, 21, 22, 36, 28, 26, 31, 19, 28, 16, 20, 41, 34, 23, 54, 17, 32, 21, 28, 18, 28, 24, 32, 53, 32, 60, 46, 27, 58, 27, 30, 22, 35, 30, 29, 26, 34, 55, 35, 12, 48, 27, 18, 28, 18, 27, 35, 22, 22, 20, 51, 34, 39, 13, 20, 32, 25, 24, 30, 18, 30, 18, 12, 31, 21, 20, 23, 24, 40, 18, 26, 12, 27, 33, 21, 27, 16, 48, 26, 11, 37, 28, 35, 35, 22, 36, 35, 14, 32, 15, 12, 14, 15, 17, 35, 37, 16, 32, 40, 16, 23, 33, 20, 31, 22, 31, 44, 12, 34, 19, 28, 47, 24, 19, 53, 20, 32, 19, 25, 18, 22, 17, 29, 21, 45, 18, 11, 20, 41, 28, 14, 20, 30, 18, 23, 13, 21, 25, 37, 19, 25, 26, 10, 27, 31, 19, 17, 32, 34, 19, 19, 24, 21, 35, 26, 58, 17, 28, 40, 21, 50, 27, 30, 43, 34, 12, 18, 27, 32, 26, 40, 34, 20, 22, 35, 34, 26, 14, 20, 28, 22, 40, 54, 32, 15, 12, 19, 34, 29, 24, 13, 60, 19, 16, 25, 29, 29, 27, 20, 34, 23, 24, 34, 19, 11, 24, 10, 36, 33, 35, 44, 29, 18, 19, 37, 26, 9, 27, 31, 36, 43, 21, 41, 29, 20, 29, 12, 31, 14, 51, 59, 29, 34, 32, 10, 23, 36, 23, 30, 14, 38, 32, 21, 28, 25, 19, 22, 19, 18, 33, 17, 15, 11, 35, 21, 17, 39, 30, 33, 17, 30, 33, 29, 20, 14, 21, 10, 20, 22, 52, 10, 31, 32, 24, 45, 52, 29, 28, 24, 22, 16, 30, 22, 19, 34, 30, 24, 26, 19, 15, 28, 16, 43, 14, 26, 13, 26, 15, 23, 26, 30, 30, 45, 19, 53, 29, 32, 32, 22, 38, 21, 20, 27, 27, 26, 17, 18, 19, 20, 32, 24, 26, 58, 40, 20, 47, 36, 39, 25, 59, 21, 10, 20, 37, 35, 34, 21, 15, 36, 34, 60, 27, 36, 15, 30, 34, 56, 31, 27, 17, 50, 21, 30, 31, 12, 34, 18, 28, 13, 18, 24, 16, 21, 17, 38, 16, 24, 29, 18, 31, 33, 25, 31, 40, 22, 28, 20, 35, 28, 48, 25, 15, 7, 47, 12, 24, 24, 27, 28, 34, 23, 16, 22, 31, 14, 25, 34, 50, 13, 29, 21, 24, 23, 31, 36, 51, 29, 23, 29, 40, 31, 33, 44, 29, 31, 49, 19, 34, 17, 41, 18, 26, 26, 30, 28, 15, 20, 48, 32, 58, 34, 24, 11, 15, 18, 22, 18, 8, 17, 29, 53, 34, 31, 44, 19, 30, 27, 18, 31, 41, 28, 33, 32, 33, 30, 29, 20, 27, 10, 49, 14, 26, 24, 30, 39, 18, 79, 48, 44, 23, 29, 23, 14, 24, 27, 11, 29, 22, 59, 18, 33, 18, 36, 59, 34, 15, 29, 41, 36, 30, 37, 31, 42, 27, 19, 50, 18, 15, 25, 27, 29, 26, 37, 25, 16, 60, 23, 38, 22, 50, 34, 36, 18, 30, 19, 22, 22, 15, 20, 38, 28, 45, 44, 39, 28, 36, 18, 30, 30, 31, 29, 29, 53, 19, 31, 25, 11, 20, 19, 38, 24, 32, 30, 18, 30, 28, 26, 30, 20, 23, 29, 39, 28, 23, 29, 37, 11, 27, 18, 11, 39, 27, 31, 20, 17, 18, 25, 20, 20, 16, 30, 19, 22, 55, 58, 30, 23, 28, 30, 28, 17, 23, 50, 15, 17, 21, 40, 19, 28, 28, 24, 25, 17, 19, 60, 13, 39, 23, 44, 28, 15, 68, 23, 8, 37, 31, 60, 56, 22, 60, 14, 34, 38, 32, 20, 19, 25, 23, 48, 36, 21, 35, 18, 13, 28, 20, 36, 32, 14, 32, 28, 30, 17, 24, 30, 30, 53, 51, 36, 9, 22, 27, 27, 23, 26, 24, 36, 15, 20, 30, 39, 13, 44, 30, 35, 46, 15, 79, 22, 25, 34, 28, 31, 31, 20, 12, 21, 18, 24, 36, 28, 18, 26, 19, 59, 29, 17, 11, 20, 32, 18, 27, 27, 21, 26, 14, 28, 39, 31, 23, 47, 16, 49, 22, 38, 52, 30, 23, 36, 9, 78, 23, 32, 19, 23, 26, 27, 19, 28, 30, 27, 50, 28, 19, 40, 28, 27, 24, 18, 22, 30, 23, 16, 14, 15, 22, 43, 25, 12, 20, 21, 40, 28, 34, 37, 32, 26, 32, 25, 31, 17, 40, 48, 41, 30, 27, 33, 17, 48, 35, 48, 21, 18, 64, 34, 17, 13, 19, 17, 38, 37, 31, 36, 18, 16, 17, 27, 11, 19, 20, 22, 47, 39, 25, 46, 30, 30, 19, 39, 24, 34, 15, 21, 33, 16, 23, 17, 37, 28, 44, 41, 31, 28, 18, 36, 28, 49, 11, 27, 40, 33, 32, 18, 30, 17, 26, 37, 26, 35, 18, 20, 20, 47, 15, 23, 39, 52, 24, 18, 18, 22, 26, 24, 14, 29, 29, 32, 23, 26, 27, 30, 27, 29, 17, 57, 33, 28, 23, 25, 38, 41, 23, 20, 27, 20, 30, 21, 35, 38, 14, 20, 35, 28, 37, 21, 36, 17, 18, 30, 44, 32, 23, 42, 44, 60, 31, 44, 28, 17, 27, 18, 12, 23, 22, 20, 21, 15, 20, 18, 40, 27, 18, 23, 21, 35, 40, 18, 25, 64, 36, 24, 34, 9, 31, 15, 68, 26, 28, 16, 38, 32, 50, 27, 14, 27, 39, 29, 52, 20, 19, 32, 39, 39, 23, 38, 26, 24, 30, 24, 56, 29, 23, 34, 20, 13, 36, 60, 15, 42, 23, 53, 25, 20, 18, 22, 18, 24, 27, 30, 60, 25, 21, 27, 35, 18, 15, 22, 41, 23, 19, 35, 13, 35, 14, 32, 17, 37, 35, 29, 40, 36, 36, 30, 7, 21, 58, 24, 28, 27, 40, 46, 16, 30, 18, 21, 18, 21, 25, 28, 30, 28, 27, 17, 59, 20, 12, 31, 18, 49, 17, 18, 20, 25, 28, 32, 29, 26, 34, 24, 26, 22, 30, 33, 40, 56, 33, 19, 36, 15, 42, 35, 29, 34, 18, 11, 14, 18, 33, 24, 43, 22, 25, 33, 16, 25, 52, 19, 16, 18, 34, 28, 12, 37, 30, 28, 26, 27, 25, 39, 18, 35, 15, 17, 22, 26, 60, 53, 17, 51, 20, 16, 10, 20, 27, 11, 30, 19, 28, 36, 31, 51, 28, 29, 11, 30, 25, 35, 39, 18, 29, 14, 25, 36, 30, 19, 28, 21, 14, 22, 45, 32, 30, 23, 30, 32, 15, 34, 25, 52, 34, 29, 27, 36, 10, 13, 33, 21, 37, 12, 20, 18, 30, 35, 34, 14, 19, 25, 30, 44, 36, 32, 28, 13, 30, 18, 21, 32, 26, 17, 68, 23, 27, 35, 57, 21, 35, 50, 36, 27, 60, 11, 23, 16, 22, 67, 20, 30, 21, 29, 17, 16, 28, 24, 35, 20, 28, 32, 28, 20, 60, 22, 31, 41, 33, 20, 25, 9, 36, 34, 51, 26, 46, 34, 26, 30, 17, 18, 41, 20, 17, 26, 15, 53, 28, 33, 23, 17, 23, 18, 25, 23, 22, 39, 18, 27, 26, 19, 33, 32, 19, 23, 22, 36, 38, 20, 28, 30, 26, 31, 20, 26, 9, 41, 26, 26, 31, 13, 34, 38, 15, 20, 24, 25, 32, 55, 36, 27, 20, 30, 23, 18, 71, 23, 29, 29, 19, 38, 24, 39, 32, 20, 36, 11, 50, 25, 31, 16, 14, 24, 33, 14, 38, 19, 24, 35, 23, 47, 39, 20, 30, 36, 46, 18, 22, 14, 16, 21, 33, 18, 25, 28, 12, 18, 17, 18, 21, 27, 22, 27, 14, 36, 26, 18, 28, 18, 19, 27, 23, 35, 16, 26, 21, 33, 22, 40, 10, 48, 20, 9, 17, 37, 23, 19, 43, 32, 35, 20, 19, 19, 48, 15, 36, 29, 23, 27, 32, 29, 33, 22, 28, 24, 33, 25, 41, 32, 33, 31, 10, 33, 41, 20, 21, 18, 32, 25, 20, 31, 20, 21, 58, 36, 42, 28, 26, 24, 10, 24, 36, 36, 20, 33, 18, 33, 26, 27, 45, 26, 17, 45, 21, 28, 32, 20, 27, 41, 19, 36, 13, 28, 33, 31, 14, 36, 18, 19, 40, 28, 17, 22, 21, 11, 33, 37, 20, 35, 37, 19, 24, 53, 27, 18, 12, 24, 11, 29, 28, 24, 31, 29, 29, 79, 24, 23, 43, 25, 34, 21, 27, 43, 14, 38, 27, 25, 33, 18, 16, 17, 35, 29, 22, 38, 12, 33, 17, 31, 25, 7, 59, 21, 9, 21, 28, 27, 13, 60, 23, 36, 60, 20, 28, 13, 26, 31, 24, 23, 53, 33, 24, 29, 38, 20, 10, 54, 23, 37, 12, 27, 17, 47, 32, 22, 14, 14, 34, 21, 33, 30, 14, 26, 30, 33, 27, 18, 32, 9, 23, 40, 41, 30, 35, 44, 29, 21, 30, 27, 20, 9, 39, 23, 24, 18, 19], \"xaxis\": \"x\", \"yaxis\": \"y\"}, {\"marker\": {\"line\": {\"color\": \"#000000\", \"width\": 2}}, \"showlegend\": false, \"type\": \"histogram\", \"x\": [27, 55, 60, 9, 13, 23, 34, 23, 19, 35, 22, 40, 18, 36, 24, 11, 23, 23, 20, 19, 17, 20, 20, 27, 10, 59, 34, 24, 45, 23, 36, 42, 45, 17, 30, 36, 36, 38, 29, 18, 26, 60, 15, 20, 22, 59, 15, 33, 53, 11, 41, 24, 28, 16, 57, 25, 21, 29, 30, 49, 27, 40, 35, 38, 25, 32, 20, 13, 48, 15, 39, 14, 34, 16, 26, 18, 27, 32, 25, 38, 16, 16, 45, 13, 9, 17, 32, 27, 34, 38, 13, 31, 15, 6, 19, 52, 4, 30, 19, 54, 39, 34, 43, 39, 35, 27, 16, 9, 29, 15, 20, 27, 27, 59, 23, 16, 22, 24, 24, 25, 22, 35, 9, 21, 28, 35, 28, 41, 13, 27, 21, 58, 17, 24, 35, 26, 28, 34, 44, 25, 11, 20, 33, 28, 27, 30, 26, 59, 11, 30, 22, 34, 18, 31, 37, 27, 24, 39, 42, 25, 23, 44, 18, 18, 60, 23, 49, 40, 30, 38, 17, 31, 22, 22, 67, 31, 31, 20, 33, 32, 42, 39, 59, 46, 11, 23, 20, 32, 29, 34, 33, 15, 29, 17, 26, 20, 36, 33, 54, 38, 13, 22, 10, 25, 27, 28, 35, 17, 30, 37, 15, 59, 32, 35, 31, 22, 20, 34, 27, 30, 30, 16, 23, 11, 22, 22, 39, 27, 39, 24, 20, 23, 30, 35, 26, 11, 35, 25, 13, 23, 15, 26, 26, 28, 11, 31, 29, 36, 26, 27, 32, 18, 17, 25, 52, 48, 37, 16, 32, 28, 19, 20, 41, 24, 22, 31, 16, 10, 19, 36, 48, 21, 30, 14, 53, 12, 15, 25, 25, 60, 38, 15, 20, 30, 60, 34, 35, 26, 25, 38, 22, 31, 19, 36, 47, 35, 16, 15, 27, 36, 38, 40, 40, 39, 32, 38, 40, 43, 33, 28, 18, 31, 24, 22, 22, 17, 17, 53, 58, 26, 28, 10, 35, 34, 18, 38, 28, 30, 31, 13, 45, 33, 32, 18, 20, 24, 24, 18, 40, 18, 42, 39, 29, 31, 31, 24, 16, 13, 30, 56, 45, 79, 17, 32, 22, 27, 27, 19, 19, 10, 49, 37, 78, 25, 26, 5, 19, 52, 19, 33, 15, 39, 28, 36, 23, 29, 26, 19, 34, 32, 18, 9, 11, 30, 32, 22, 33, 25, 20, 40, 21, 30, 25, 36, 24, 21, 9, 21, 33, 19, 27, 13, 22, 38, 22, 16, 38, 39, 45, 37, 32, 22, 34, 32, 15, 27, 55, 29, 25, 15, 9, 36, 16, 25, 10, 51, 9, 31, 19, 12, 30, 24, 20, 46, 15, 19, 23, 34, 20, 18, 26, 29, 29, 26, 15, 16, 13, 14, 27, 24, 33, 32, 18, 49, 41, 39, 28, 28, 26, 15, 20, 21, 23, 19, 47, 36, 31, 46, 10, 32, 33, 22, 23, 32, 30, 27, 35, 34, 35, 24, 17, 30, 29, 36, 23, 15, 27, 19, 24, 27, 23, 29, 39, 31, 18, 30, 34, 17, 39, 17, 22, 18, 20, 37, 33, 20, 27, 17, 19, 27, 34, 24, 38, 11, 59, 22, 60, 35, 18, 25, 28, 19, 24, 20, 35, 9, 58, 36, 41, 20, 33, 32, 46, 21, 36, 28, 37, 29, 8, 30, 14, 41, 39, 37, 44, 21, 49, 23, 40, 21, 20, 38, 34, 29, 22, 20, 14, 59, 32, 47, 30, 27, 32, 7, 13, 19, 22, 24, 10, 20, 15, 29, 23, 51, 26, 24, 25, 19, 14, 27, 16, 32, 78, 60, 20, 39, 31, 32, 40, 16, 29, 41, 33, 20, 44, 25, 13, 30, 23, 23, 27, 22, 37, 8, 13, 22, 16, 15, 18, 40, 25, 30, 14, 30, 34, 39, 23, 33, 58, 38, 33, 20, 34, 39, 26, 23, 21, 24, 19, 28, 26, 38, 25, 41, 33, 23, 40, 31, 32, 18, 36, 17, 19, 21, 31, 30, 35, 33, 15, 22, 45, 31, 64, 33, 38, 24, 20, 36, 23, 30, 15, 26, 21, 35, 15, 22, 34, 9, 25, 38, 36, 22, 18, 23, 14, 19, 24, 16, 28, 42, 24, 16, 25, 27, 13, 28, 23, 15, 27, 25, 13, 27, 29, 32, 37, 19, 23, 34, 28, 30, 29, 29, 26, 15, 35, 28, 26, 24, 20, 32, 60, 27, 29, 30, 19, 16, 20, 35, 8, 20, 20, 19, 15, 15, 21, 44, 18, 27, 26, 30, 16, 39, 59, 31, 12, 62, 22, 72, 63, 18, 45, 22, 44, 28, 21, 32, 27, 23, 57, 22, 18, 25, 29, 33, 17, 19, 31, 24, 49, 15, 36, 35, 29, 42, 22, 28, 21, 20, 27, 40, 14, 33, 23, 32, 28, 26, 18, 21, 44, 11, 26, 17, 17, 22, 24, 24, 55, 19, 78, 42, 16, 27, 52, 26, 33, 19, 8, 25, 25, 30, 19, 20, 22, 18, 25, 35, 24, 22, 14, 28, 45, 14, 31, 28, 25, 28, 15, 44, 59, 31, 20, 38, 36, 59, 11, 39, 43, 18, 22, 20, 25, 35, 38, 30, 19, 30, 20, 32, 48, 28, 44, 32, 32, 24, 24, 33, 31, 32, 21, 11, 34, 26, 41, 24, 20, 18, 14, 55, 20, 11, 27, 15, 29, 20, 35, 26, 51, 44, 36, 23, 46, 31, 29, 21, 53, 39, 33, 40, 21, 19, 32, 21, 29, 10, 27, 38, 33, 20, 37, 31, 36, 40, 25, 41, 22, 26, 21, 27, 13, 22, 15, 26, 31, 44, 38, 21, 25, 30, 23, 23, 16, 30, 18, 17, 30, 37, 24, 21, 36, 29, 30, 41, 27, 21, 10, 32, 24, 29, 15, 61, 40, 33, 21, 15, 16, 16, 30, 44, 16, 31, 14, 17, 22, 53, 23, 27, 28, 28, 35, 16, 20, 15, 20, 32, 15, 23, 36, 26, 26, 30, 21, 30, 39, 58, 9, 23, 50, 34, 27, 17, 35, 30, 36, 19, 28, 34, 28, 28, 46, 48, 9, 22, 48, 38, 36, 15, 35, 13, 33, 38, 53, 30, 19, 26, 23, 29, 29, 40, 35, 25, 26, 23, 7, 22, 26, 30, 21, 15, 37, 17, 17, 23, 27, 19, 31, 48, 27, 16, 21, 36, 34, 26, 13, 16, 17, 30, 40, 19, 35, 31, 20, 27, 23, 23, 27, 30, 36, 42, 20, 57, 15, 45, 21, 33, 19, 40, 12, 39, 33, 27, 33, 27, 16, 33, 19, 18, 29, 39, 26, 26, 37, 45, 21, 19, 22, 11, 28, 17, 30, 18, 21, 17, 21, 35, 20, 24, 20, 28, 35, 59, 15, 38, 17, 32, 12, 17, 39, 35, 22, 34, 53, 29, 37, 32, 9, 19, 62, 37, 54, 25, 37, 33, 25, 34, 14, 17, 26, 29, 22, 68, 16, 53, 59, 16, 32, 18, 11, 30, 18, 36, 21, 22, 16, 34, 22, 27, 36, 40, 22, 20, 27, 21, 35, 20, 45, 20, 30, 21, 35, 12, 30, 37, 23, 28, 24, 21, 21, 49, 24, 26, 24, 39, 14, 20, 30, 27, 63, 23, 15, 26, 43, 24, 21, 47, 24, 40, 38, 30, 32, 20, 24, 31, 22, 20, 14, 34, 47, 35, 12, 31, 25, 26, 9, 47, 20, 20, 20, 27, 29, 15, 23, 27, 22, 34, 15, 16, 14, 29, 28, 27, 23, 9, 36, 32, 32, 17, 37, 28, 13, 31, 69, 36, 22, 38, 26, 33, 10, 30, 22, 36, 30, 25, 23, 28, 5, 21, 40, 25, 24, 33, 38, 22, 19, 52, 45, 23, 15, 38, 22, 22, 39, 22, 20, 33, 29, 15, 17, 24, 31, 15, 39, 14, 20, 19, 20, 23, 60, 52, 27, 25, 26, 19, 16, 12, 18, 60, 52, 26, 19, 30, 21, 29, 30, 29, 40, 14, 20, 35, 29, 19, 21, 46, 53, 35, 23, 28, 18, 18, 30, 17, 26, 22, 25, 29, 30, 33, 11, 11, 28, 15, 17, 15, 23, 27, 29, 46, 23, 18, 19, 33, 60, 19, 22, 26, 22, 22, 20, 44, 25, 33, 23, 36, 36, 38, 45, 24, 24, 23, 31, 47, 15, 15, 22, 31, 19, 20, 26, 10, 34, 17, 11, 48, 28, 20, 24, 20, 21, 18, 20, 23, 14, 23, 32, 27, 20, 40, 23, 39, 37, 18, 26, 29, 43, 7, 35, 18, 19, 20, 18, 26, 27, 14, 19, 19, 18, 13, 12, 29, 45, 25, 36, 35, 29, 22, 15, 15, 12, 12, 30, 9, 43, 32, 9, 20, 21, 21, 26, 29, 18, 22, 10, 50, 35, 39, 24, 30, 33, 54, 57, 25, 15, 22, 24, 23, 19, 63, 9, 43, 21, 13, 21, 13, 44, 15, 68, 18, 22, 23, 15, 28, 33, 26, 29, 20, 19, 51, 21, 19, 28, 26, 39, 25, 33, 33, 56, 34, 24, 24, 11, 35, 35, 15, 21, 23, 19, 37, 26, 49, 32, 19, 29, 26, 26, 32, 45, 28, 21, 24, 20, 35, 17, 29, 26, 25, 31, 18, 53, 17, 15, 31, 25, 28, 36, 39, 19, 18, 23, 26, 23, 24, 22, 38, 9, 26, 31, 27, 58, 39, 25, 34, 17, 15, 39, 27, 21, 34, 34, 39, 20, 44, 20, 14, 13, 34, 16, 34, 36, 59, 20, 32, 39, 59, 28, 21, 45, 22, 34, 8, 14, 43, 22, 70, 16, 31, 26, 34, 23, 21, 24, 20, 37, 50, 8, 40, 33, 33, 20, 11, 23, 22, 13, 30, 34, 36, 18, 40, 20, 53, 24, 24, 18, 14, 24, 38, 20, 48, 22, 39, 32, 22, 50, 11, 18, 35, 19, 45, 24, 37, 20, 28, 18, 19, 23, 15, 27, 19, 28, 22, 19, 37, 20, 31, 27, 26, 38, 11, 26, 36, 41, 39, 36, 38, 21, 25, 38, 28, 22, 7, 21, 28, 29, 21, 27], \"xaxis\": \"x2\", \"yaxis\": \"y2\"}],                        {\"annotations\": [{\"font\": {\"size\": 16}, \"showarrow\": false, \"text\": \"Description X Length\", \"x\": 0.225, \"xanchor\": \"center\", \"xref\": \"paper\", \"y\": 1.0, \"yanchor\": \"bottom\", \"yref\": \"paper\"}, {\"font\": {\"size\": 16}, \"showarrow\": false, \"text\": \"Description Y Length\", \"x\": 0.775, \"xanchor\": \"center\", \"xref\": \"paper\", \"y\": 1.0, \"yanchor\": \"bottom\", \"yref\": \"paper\"}], \"autosize\": false, \"template\": {\"data\": {\"bar\": [{\"error_x\": {\"color\": \"rgb(36,36,36)\"}, \"error_y\": {\"color\": \"rgb(36,36,36)\"}, \"marker\": {\"line\": {\"color\": \"white\", \"width\": 0.5}}, \"type\": \"bar\"}], \"barpolar\": [{\"marker\": {\"line\": {\"color\": \"white\", \"width\": 0.5}}, \"type\": \"barpolar\"}], \"carpet\": [{\"aaxis\": {\"endlinecolor\": \"rgb(36,36,36)\", \"gridcolor\": \"white\", \"linecolor\": \"white\", \"minorgridcolor\": \"white\", \"startlinecolor\": \"rgb(36,36,36)\"}, \"baxis\": {\"endlinecolor\": \"rgb(36,36,36)\", \"gridcolor\": \"white\", \"linecolor\": \"white\", \"minorgridcolor\": \"white\", \"startlinecolor\": \"rgb(36,36,36)\"}, \"type\": \"carpet\"}], \"choropleth\": [{\"colorbar\": {\"outlinewidth\": 1, \"tickcolor\": \"rgb(36,36,36)\", \"ticks\": \"outside\"}, \"type\": \"choropleth\"}], \"contour\": [{\"colorbar\": {\"outlinewidth\": 1, \"tickcolor\": \"rgb(36,36,36)\", \"ticks\": \"outside\"}, \"colorscale\": [[0.0, \"#440154\"], [0.1111111111111111, \"#482878\"], [0.2222222222222222, \"#3e4989\"], [0.3333333333333333, \"#31688e\"], [0.4444444444444444, \"#26828e\"], [0.5555555555555556, \"#1f9e89\"], [0.6666666666666666, \"#35b779\"], [0.7777777777777778, \"#6ece58\"], [0.8888888888888888, \"#b5de2b\"], [1.0, \"#fde725\"]], \"type\": \"contour\"}], \"contourcarpet\": [{\"colorbar\": {\"outlinewidth\": 1, \"tickcolor\": \"rgb(36,36,36)\", \"ticks\": \"outside\"}, \"type\": \"contourcarpet\"}], \"heatmap\": [{\"colorbar\": {\"outlinewidth\": 1, \"tickcolor\": \"rgb(36,36,36)\", \"ticks\": \"outside\"}, \"colorscale\": [[0.0, \"#440154\"], [0.1111111111111111, \"#482878\"], [0.2222222222222222, \"#3e4989\"], [0.3333333333333333, \"#31688e\"], [0.4444444444444444, \"#26828e\"], [0.5555555555555556, \"#1f9e89\"], [0.6666666666666666, \"#35b779\"], [0.7777777777777778, \"#6ece58\"], [0.8888888888888888, \"#b5de2b\"], [1.0, \"#fde725\"]], \"type\": \"heatmap\"}], \"heatmapgl\": [{\"colorbar\": {\"outlinewidth\": 1, \"tickcolor\": \"rgb(36,36,36)\", \"ticks\": \"outside\"}, \"colorscale\": [[0.0, \"#440154\"], [0.1111111111111111, \"#482878\"], [0.2222222222222222, \"#3e4989\"], [0.3333333333333333, \"#31688e\"], [0.4444444444444444, \"#26828e\"], [0.5555555555555556, \"#1f9e89\"], [0.6666666666666666, \"#35b779\"], [0.7777777777777778, \"#6ece58\"], [0.8888888888888888, \"#b5de2b\"], [1.0, \"#fde725\"]], \"type\": \"heatmapgl\"}], \"histogram\": [{\"marker\": {\"line\": {\"color\": \"white\", \"width\": 0.6}}, \"type\": \"histogram\"}], \"histogram2d\": [{\"colorbar\": {\"outlinewidth\": 1, \"tickcolor\": \"rgb(36,36,36)\", \"ticks\": \"outside\"}, \"colorscale\": [[0.0, \"#440154\"], [0.1111111111111111, \"#482878\"], [0.2222222222222222, \"#3e4989\"], [0.3333333333333333, \"#31688e\"], [0.4444444444444444, \"#26828e\"], [0.5555555555555556, \"#1f9e89\"], [0.6666666666666666, \"#35b779\"], [0.7777777777777778, \"#6ece58\"], [0.8888888888888888, \"#b5de2b\"], [1.0, \"#fde725\"]], \"type\": \"histogram2d\"}], \"histogram2dcontour\": [{\"colorbar\": {\"outlinewidth\": 1, \"tickcolor\": \"rgb(36,36,36)\", \"ticks\": \"outside\"}, \"colorscale\": [[0.0, \"#440154\"], [0.1111111111111111, \"#482878\"], [0.2222222222222222, \"#3e4989\"], [0.3333333333333333, \"#31688e\"], [0.4444444444444444, \"#26828e\"], [0.5555555555555556, \"#1f9e89\"], [0.6666666666666666, \"#35b779\"], [0.7777777777777778, \"#6ece58\"], [0.8888888888888888, \"#b5de2b\"], [1.0, \"#fde725\"]], \"type\": \"histogram2dcontour\"}], \"mesh3d\": [{\"colorbar\": {\"outlinewidth\": 1, \"tickcolor\": \"rgb(36,36,36)\", \"ticks\": \"outside\"}, \"type\": \"mesh3d\"}], \"parcoords\": [{\"line\": {\"colorbar\": {\"outlinewidth\": 1, \"tickcolor\": \"rgb(36,36,36)\", \"ticks\": \"outside\"}}, \"type\": \"parcoords\"}], \"pie\": [{\"automargin\": true, \"type\": \"pie\"}], \"scatter\": [{\"marker\": {\"colorbar\": {\"outlinewidth\": 1, \"tickcolor\": \"rgb(36,36,36)\", \"ticks\": \"outside\"}}, \"type\": \"scatter\"}], \"scatter3d\": [{\"line\": {\"colorbar\": {\"outlinewidth\": 1, \"tickcolor\": \"rgb(36,36,36)\", \"ticks\": \"outside\"}}, \"marker\": {\"colorbar\": {\"outlinewidth\": 1, \"tickcolor\": \"rgb(36,36,36)\", \"ticks\": \"outside\"}}, \"type\": \"scatter3d\"}], \"scattercarpet\": [{\"marker\": {\"colorbar\": {\"outlinewidth\": 1, \"tickcolor\": \"rgb(36,36,36)\", \"ticks\": \"outside\"}}, \"type\": \"scattercarpet\"}], \"scattergeo\": [{\"marker\": {\"colorbar\": {\"outlinewidth\": 1, \"tickcolor\": \"rgb(36,36,36)\", \"ticks\": \"outside\"}}, \"type\": \"scattergeo\"}], \"scattergl\": [{\"marker\": {\"colorbar\": {\"outlinewidth\": 1, \"tickcolor\": \"rgb(36,36,36)\", \"ticks\": \"outside\"}}, \"type\": \"scattergl\"}], \"scattermapbox\": [{\"marker\": {\"colorbar\": {\"outlinewidth\": 1, \"tickcolor\": \"rgb(36,36,36)\", \"ticks\": \"outside\"}}, \"type\": \"scattermapbox\"}], \"scatterpolar\": [{\"marker\": {\"colorbar\": {\"outlinewidth\": 1, \"tickcolor\": \"rgb(36,36,36)\", \"ticks\": \"outside\"}}, \"type\": \"scatterpolar\"}], \"scatterpolargl\": [{\"marker\": {\"colorbar\": {\"outlinewidth\": 1, \"tickcolor\": \"rgb(36,36,36)\", \"ticks\": \"outside\"}}, \"type\": \"scatterpolargl\"}], \"scatterternary\": [{\"marker\": {\"colorbar\": {\"outlinewidth\": 1, \"tickcolor\": \"rgb(36,36,36)\", \"ticks\": \"outside\"}}, \"type\": \"scatterternary\"}], \"surface\": [{\"colorbar\": {\"outlinewidth\": 1, \"tickcolor\": \"rgb(36,36,36)\", \"ticks\": \"outside\"}, \"colorscale\": [[0.0, \"#440154\"], [0.1111111111111111, \"#482878\"], [0.2222222222222222, \"#3e4989\"], [0.3333333333333333, \"#31688e\"], [0.4444444444444444, \"#26828e\"], [0.5555555555555556, \"#1f9e89\"], [0.6666666666666666, \"#35b779\"], [0.7777777777777778, \"#6ece58\"], [0.8888888888888888, \"#b5de2b\"], [1.0, \"#fde725\"]], \"type\": \"surface\"}], \"table\": [{\"cells\": {\"fill\": {\"color\": \"rgb(237,237,237)\"}, \"line\": {\"color\": \"white\"}}, \"header\": {\"fill\": {\"color\": \"rgb(217,217,217)\"}, \"line\": {\"color\": \"white\"}}, \"type\": \"table\"}]}, \"layout\": {\"annotationdefaults\": {\"arrowhead\": 0, \"arrowwidth\": 1}, \"autotypenumbers\": \"strict\", \"coloraxis\": {\"colorbar\": {\"outlinewidth\": 1, \"tickcolor\": \"rgb(36,36,36)\", \"ticks\": \"outside\"}}, \"colorscale\": {\"diverging\": [[0.0, \"rgb(103,0,31)\"], [0.1, \"rgb(178,24,43)\"], [0.2, \"rgb(214,96,77)\"], [0.3, \"rgb(244,165,130)\"], [0.4, \"rgb(253,219,199)\"], [0.5, \"rgb(247,247,247)\"], [0.6, \"rgb(209,229,240)\"], [0.7, \"rgb(146,197,222)\"], [0.8, \"rgb(67,147,195)\"], [0.9, \"rgb(33,102,172)\"], [1.0, \"rgb(5,48,97)\"]], \"sequential\": [[0.0, \"#440154\"], [0.1111111111111111, \"#482878\"], [0.2222222222222222, \"#3e4989\"], [0.3333333333333333, \"#31688e\"], [0.4444444444444444, \"#26828e\"], [0.5555555555555556, \"#1f9e89\"], [0.6666666666666666, \"#35b779\"], [0.7777777777777778, \"#6ece58\"], [0.8888888888888888, \"#b5de2b\"], [1.0, \"#fde725\"]], \"sequentialminus\": [[0.0, \"#440154\"], [0.1111111111111111, \"#482878\"], [0.2222222222222222, \"#3e4989\"], [0.3333333333333333, \"#31688e\"], [0.4444444444444444, \"#26828e\"], [0.5555555555555556, \"#1f9e89\"], [0.6666666666666666, \"#35b779\"], [0.7777777777777778, \"#6ece58\"], [0.8888888888888888, \"#b5de2b\"], [1.0, \"#fde725\"]]}, \"colorway\": [\"#1F77B4\", \"#FF7F0E\", \"#2CA02C\", \"#D62728\", \"#9467BD\", \"#8C564B\", \"#E377C2\", \"#7F7F7F\", \"#BCBD22\", \"#17BECF\"], \"font\": {\"color\": \"rgb(36,36,36)\"}, \"geo\": {\"bgcolor\": \"white\", \"lakecolor\": \"white\", \"landcolor\": \"white\", \"showlakes\": true, \"showland\": true, \"subunitcolor\": \"white\"}, \"hoverlabel\": {\"align\": \"left\"}, \"hovermode\": \"closest\", \"mapbox\": {\"style\": \"light\"}, \"paper_bgcolor\": \"white\", \"plot_bgcolor\": \"white\", \"polar\": {\"angularaxis\": {\"gridcolor\": \"rgb(232,232,232)\", \"linecolor\": \"rgb(36,36,36)\", \"showgrid\": false, \"showline\": true, \"ticks\": \"outside\"}, \"bgcolor\": \"white\", \"radialaxis\": {\"gridcolor\": \"rgb(232,232,232)\", \"linecolor\": \"rgb(36,36,36)\", \"showgrid\": false, \"showline\": true, \"ticks\": \"outside\"}}, \"scene\": {\"xaxis\": {\"backgroundcolor\": \"white\", \"gridcolor\": \"rgb(232,232,232)\", \"gridwidth\": 2, \"linecolor\": \"rgb(36,36,36)\", \"showbackground\": true, \"showgrid\": false, \"showline\": true, \"ticks\": \"outside\", \"zeroline\": false, \"zerolinecolor\": \"rgb(36,36,36)\"}, \"yaxis\": {\"backgroundcolor\": \"white\", \"gridcolor\": \"rgb(232,232,232)\", \"gridwidth\": 2, \"linecolor\": \"rgb(36,36,36)\", \"showbackground\": true, \"showgrid\": false, \"showline\": true, \"ticks\": \"outside\", \"zeroline\": false, \"zerolinecolor\": \"rgb(36,36,36)\"}, \"zaxis\": {\"backgroundcolor\": \"white\", \"gridcolor\": \"rgb(232,232,232)\", \"gridwidth\": 2, \"linecolor\": \"rgb(36,36,36)\", \"showbackground\": true, \"showgrid\": false, \"showline\": true, \"ticks\": \"outside\", \"zeroline\": false, \"zerolinecolor\": \"rgb(36,36,36)\"}}, \"shapedefaults\": {\"fillcolor\": \"black\", \"line\": {\"width\": 0}, \"opacity\": 0.3}, \"ternary\": {\"aaxis\": {\"gridcolor\": \"rgb(232,232,232)\", \"linecolor\": \"rgb(36,36,36)\", \"showgrid\": false, \"showline\": true, \"ticks\": \"outside\"}, \"baxis\": {\"gridcolor\": \"rgb(232,232,232)\", \"linecolor\": \"rgb(36,36,36)\", \"showgrid\": false, \"showline\": true, \"ticks\": \"outside\"}, \"bgcolor\": \"white\", \"caxis\": {\"gridcolor\": \"rgb(232,232,232)\", \"linecolor\": \"rgb(36,36,36)\", \"showgrid\": false, \"showline\": true, \"ticks\": \"outside\"}}, \"title\": {\"x\": 0.05}, \"xaxis\": {\"automargin\": true, \"gridcolor\": \"rgb(232,232,232)\", \"linecolor\": \"rgb(36,36,36)\", \"showgrid\": false, \"showline\": true, \"ticks\": \"outside\", \"title\": {\"standoff\": 15}, \"zeroline\": false, \"zerolinecolor\": \"rgb(36,36,36)\"}, \"yaxis\": {\"automargin\": true, \"gridcolor\": \"rgb(232,232,232)\", \"linecolor\": \"rgb(36,36,36)\", \"showgrid\": false, \"showline\": true, \"ticks\": \"outside\", \"title\": {\"standoff\": 15}, \"zeroline\": false, \"zerolinecolor\": \"rgb(36,36,36)\"}}}, \"title\": {\"text\": \"<b>Character length distribution for True Security\", \"x\": 0.5, \"xanchor\": \"center\", \"y\": 0.9, \"yanchor\": \"top\"}, \"xaxis\": {\"anchor\": \"y\", \"domain\": [0.0, 0.45]}, \"xaxis2\": {\"anchor\": \"y2\", \"domain\": [0.55, 1.0]}, \"yaxis\": {\"anchor\": \"x\", \"automargin\": true, \"domain\": [0.0, 1.0], \"title\": {\"text\": \"<i>Frequency</i>\"}}, \"yaxis2\": {\"anchor\": \"x2\", \"automargin\": true, \"domain\": [0.0, 1.0]}},                        {\"responsive\": true}                    ).then(function(){\n",
       "                            \n",
       "var gd = document.getElementById('80e329b4-1424-4a75-9c8b-440a55f97af1');\n",
       "var x = new MutationObserver(function (mutations, observer) {{\n",
       "        var display = window.getComputedStyle(gd).display;\n",
       "        if (!display || display === 'none') {{\n",
       "            console.log([gd, 'removed!']);\n",
       "            Plotly.purge(gd);\n",
       "            observer.disconnect();\n",
       "        }}\n",
       "}});\n",
       "\n",
       "// Listen for the removal of the full notebook cells\n",
       "var notebookContainer = gd.closest('#notebook-container');\n",
       "if (notebookContainer) {{\n",
       "    x.observe(notebookContainer, {childList: true});\n",
       "}}\n",
       "\n",
       "// Listen for the clearing of the current output cell\n",
       "var outputEl = gd.closest('.output');\n",
       "if (outputEl) {{\n",
       "    x.observe(outputEl, {childList: true});\n",
       "}}\n",
       "\n",
       "                        })                };                });            </script>        </div>"
      ]
     },
     "metadata": {},
     "output_type": "display_data"
    }
   ],
   "source": [
    "data_true = data.query('same_security == True')\n",
    "histogram_subplot(data_true, data_true, 'len_x', 'len_y', \n",
    "                  '<b>Character length distribution for True Security', \n",
    "                  'Description X Length', 'Description Y Length')"
   ]
  },
  {
   "cell_type": "markdown",
   "metadata": {},
   "source": [
    "Sentences that are True on the comparing, have a similar distribution, even on the frequency for the values, for now, seems a good idea use the character length as a feature.<br>\n",
    "To make this idea better, let's check it for the False values."
   ]
  },
  {
   "cell_type": "code",
   "execution_count": 25,
   "metadata": {},
   "outputs": [
    {
     "data": {
      "application/vnd.plotly.v1+json": {
       "config": {
        "linkText": "Export to plot.ly",
        "plotlyServerURL": "https://plot.ly",
        "showLink": false
       },
       "data": [
        {
         "marker": {
          "line": {
           "color": "#000000",
           "width": 2
          }
         },
         "showlegend": false,
         "type": "histogram",
         "x": [
          28,
          52,
          40,
          39,
          56,
          20,
          17,
          24,
          38,
          31,
          19,
          31,
          37,
          40,
          56,
          39,
          31,
          47,
          34,
          28,
          23,
          22,
          32,
          30,
          36,
          40,
          35,
          49,
          56,
          30,
          24,
          63,
          20,
          27,
          17,
          36,
          43,
          34,
          50,
          26,
          29,
          40,
          26,
          35,
          15,
          44,
          17,
          23,
          38,
          17,
          19,
          20,
          31,
          46,
          36,
          49,
          29,
          37,
          40,
          36,
          19,
          28,
          19,
          43,
          39,
          46,
          29,
          32,
          23,
          20,
          26,
          38,
          15,
          24,
          24,
          28,
          28,
          60,
          38,
          28,
          40,
          25,
          36,
          29,
          36,
          24,
          29,
          28,
          46,
          33,
          49,
          32,
          52,
          33,
          40,
          36,
          63,
          51,
          40,
          22,
          33,
          25,
          20,
          33,
          33,
          34,
          62,
          28,
          31,
          24,
          36,
          32,
          39,
          27,
          24,
          33,
          52,
          35,
          29,
          29,
          40,
          17,
          35,
          49,
          16,
          28,
          28,
          32,
          29,
          48,
          39,
          31,
          32,
          40,
          28,
          24,
          56,
          21,
          43,
          27,
          63,
          15,
          34,
          35,
          45,
          22,
          45,
          35,
          33,
          25,
          17,
          24,
          24,
          20,
          31,
          50,
          22,
          18,
          37,
          31,
          44,
          28,
          24,
          34,
          23,
          44,
          20,
          29,
          15,
          30,
          23,
          50,
          36,
          17,
          25,
          34,
          28,
          17,
          22,
          34,
          30,
          23,
          22,
          28,
          28,
          29,
          42,
          17,
          26,
          19,
          24,
          24,
          32,
          30,
          34,
          38,
          20,
          38,
          24,
          40,
          24,
          63,
          33,
          42,
          17,
          42,
          33,
          45,
          35,
          20,
          25,
          30,
          51,
          44,
          30,
          17,
          27,
          27,
          20,
          19,
          18,
          39,
          62,
          11,
          36,
          29,
          20,
          19,
          25,
          44,
          31,
          56,
          20,
          30,
          45,
          26,
          24,
          57,
          30,
          18,
          28,
          28,
          28,
          31,
          31,
          25,
          34,
          52,
          40,
          25,
          34,
          39,
          14,
          34,
          29,
          36,
          28,
          17,
          34,
          38,
          71,
          39,
          69,
          40,
          40,
          44,
          19,
          49,
          43,
          29,
          20,
          38,
          32,
          24,
          34,
          33,
          19,
          38,
          37,
          38,
          19,
          20,
          38,
          14,
          45,
          52,
          20,
          26,
          33,
          22,
          29,
          27,
          28,
          31,
          57,
          30,
          22,
          25,
          29,
          19,
          25,
          32,
          19,
          33,
          33,
          36,
          48,
          52,
          30,
          35,
          37,
          28,
          24,
          31,
          32,
          19,
          26,
          32,
          20,
          26,
          18,
          18,
          28,
          32,
          50,
          14,
          24,
          24,
          28,
          33,
          36,
          23,
          34,
          40,
          28,
          35,
          52,
          35,
          29,
          25,
          25,
          15,
          37,
          30,
          57,
          24,
          45,
          36,
          22,
          24,
          43,
          26,
          62,
          25,
          34,
          16,
          11,
          34,
          31,
          30,
          20,
          44,
          36,
          29,
          30,
          45,
          30,
          24,
          32,
          49,
          16,
          17,
          24,
          22,
          24,
          36,
          58,
          20,
          56,
          20,
          34,
          29,
          36,
          20,
          36,
          22,
          24,
          40,
          28,
          63,
          49,
          32,
          55,
          31,
          37,
          30,
          32,
          28,
          33,
          29,
          39,
          40,
          40,
          38,
          29,
          21,
          40,
          19,
          39,
          20,
          43,
          20,
          41,
          20,
          44,
          20,
          24,
          22,
          31,
          26,
          40,
          26,
          24,
          23,
          33,
          38,
          35,
          31,
          32,
          35,
          30,
          29,
          31,
          30,
          20,
          28,
          31,
          39,
          37,
          36,
          34,
          38,
          57,
          24,
          36,
          17,
          17,
          50,
          29,
          34,
          58,
          33,
          20,
          50,
          40,
          32,
          39,
          49,
          28,
          39,
          56,
          42,
          31,
          17,
          24,
          36,
          35,
          32,
          21,
          33,
          36,
          31,
          29,
          49,
          20,
          24,
          35,
          35,
          40,
          40,
          30,
          26,
          30,
          30,
          20,
          33,
          17,
          18,
          39,
          23,
          25,
          28,
          21,
          28,
          29,
          39,
          28,
          34,
          24,
          33,
          20,
          44,
          22,
          29,
          16,
          52,
          40,
          25,
          29,
          24,
          60,
          40,
          28,
          25,
          40,
          26,
          22,
          33,
          26,
          20,
          32,
          20,
          28,
          17,
          26,
          39,
          37,
          26,
          52
         ],
         "xaxis": "x",
         "yaxis": "y"
        },
        {
         "marker": {
          "line": {
           "color": "#000000",
           "width": 2
          }
         },
         "showlegend": false,
         "type": "histogram",
         "x": [
          34,
          40,
          38,
          31,
          32,
          30,
          33,
          18,
          20,
          28,
          39,
          23,
          36,
          53,
          32,
          39,
          29,
          19,
          31,
          20,
          20,
          18,
          26,
          50,
          58,
          40,
          53,
          32,
          53,
          27,
          33,
          38,
          38,
          30,
          14,
          38,
          48,
          31,
          28,
          37,
          20,
          36,
          25,
          30,
          14,
          29,
          20,
          25,
          21,
          18,
          26,
          28,
          41,
          38,
          63,
          33,
          37,
          52,
          38,
          63,
          36,
          39,
          20,
          35,
          38,
          36,
          53,
          53,
          24,
          39,
          20,
          39,
          22,
          30,
          38,
          34,
          37,
          59,
          20,
          25,
          63,
          38,
          34,
          56,
          26,
          26,
          20,
          20,
          50,
          42,
          36,
          22,
          56,
          26,
          24,
          19,
          32,
          38,
          64,
          17,
          21,
          13,
          27,
          31,
          18,
          28,
          36,
          39,
          30,
          28,
          20,
          23,
          20,
          30,
          34,
          32,
          37,
          30,
          38,
          36,
          40,
          18,
          58,
          32,
          29,
          47,
          20,
          20,
          34,
          33,
          39,
          42,
          38,
          20,
          39,
          27,
          38,
          13,
          33,
          22,
          36,
          18,
          20,
          20,
          44,
          18,
          50,
          56,
          18,
          19,
          30,
          20,
          29,
          41,
          33,
          50,
          20,
          37,
          30,
          23,
          49,
          20,
          25,
          13,
          26,
          20,
          27,
          40,
          27,
          20,
          31,
          39,
          53,
          30,
          39,
          20,
          20,
          20,
          14,
          20,
          40,
          33,
          27,
          24,
          18,
          56,
          25,
          24,
          20,
          38,
          28,
          14,
          20,
          36,
          53,
          31,
          38,
          31,
          36,
          38,
          29,
          36,
          24,
          46,
          28,
          33,
          16,
          31,
          23,
          36,
          50,
          53,
          20,
          35,
          21,
          20,
          37,
          30,
          32,
          32,
          23,
          36,
          27,
          19,
          20,
          50,
          38,
          34,
          28,
          46,
          21,
          36,
          25,
          27,
          68,
          24,
          33,
          32,
          50,
          27,
          38,
          50,
          20,
          37,
          24,
          34,
          38,
          34,
          53,
          21,
          30,
          34,
          22,
          35,
          30,
          30,
          20,
          27,
          38,
          20,
          38,
          30,
          45,
          56,
          34,
          47,
          15,
          50,
          33,
          58,
          28,
          42,
          24,
          37,
          63,
          25,
          38,
          29,
          40,
          38,
          20,
          32,
          36,
          18,
          38,
          32,
          38,
          18,
          27,
          27,
          19,
          39,
          39,
          20,
          46,
          56,
          40,
          39,
          28,
          19,
          29,
          20,
          29,
          19,
          31,
          58,
          43,
          20,
          63,
          20,
          45,
          25,
          39,
          36,
          27,
          36,
          22,
          36,
          25,
          18,
          27,
          21,
          37,
          47,
          46,
          17,
          37,
          19,
          18,
          27,
          56,
          41,
          58,
          53,
          50,
          63,
          63,
          40,
          20,
          36,
          20,
          18,
          39,
          39,
          38,
          23,
          45,
          38,
          15,
          24,
          43,
          17,
          64,
          19,
          46,
          20,
          17,
          63,
          31,
          25,
          40,
          31,
          56,
          34,
          28,
          30,
          32,
          53,
          33,
          28,
          39,
          30,
          25,
          36,
          25,
          52,
          36,
          30,
          32,
          50,
          57,
          63,
          20,
          40,
          31,
          27,
          20,
          50,
          24,
          27,
          57,
          16,
          39,
          49,
          20,
          38,
          32,
          20,
          34,
          39,
          31,
          19,
          20,
          32,
          38,
          21,
          39,
          46,
          20,
          36,
          21,
          25,
          31,
          36,
          39,
          40,
          28,
          29,
          31,
          19,
          30,
          27,
          20,
          19,
          41,
          32,
          20,
          43,
          27,
          28,
          20,
          63,
          31,
          25,
          53,
          36,
          21,
          50,
          19,
          38,
          56,
          41,
          39,
          30,
          33,
          22,
          26,
          30,
          32,
          32,
          38,
          40,
          37,
          32,
          20,
          30,
          33,
          20,
          39,
          19,
          28,
          33,
          33,
          27,
          28,
          40,
          58,
          20,
          14,
          30,
          20,
          52,
          20,
          32,
          19,
          20,
          38,
          20,
          30,
          20,
          36,
          20,
          26,
          28,
          56,
          17,
          23,
          17,
          20,
          31,
          40,
          30,
          17,
          20,
          35,
          50,
          20,
          56,
          28,
          39,
          33,
          39,
          22,
          28,
          27,
          30,
          30,
          26,
          58,
          20,
          60,
          27,
          39,
          34,
          58,
          14,
          18,
          20,
          18,
          36,
          18,
          37,
          30,
          28,
          27,
          30,
          20,
          30,
          33
         ],
         "xaxis": "x2",
         "yaxis": "y2"
        }
       ],
       "layout": {
        "annotations": [
         {
          "font": {
           "size": 16
          },
          "showarrow": false,
          "text": "Description X Length",
          "x": 0.225,
          "xanchor": "center",
          "xref": "paper",
          "y": 1,
          "yanchor": "bottom",
          "yref": "paper"
         },
         {
          "font": {
           "size": 16
          },
          "showarrow": false,
          "text": "Description Y Length",
          "x": 0.775,
          "xanchor": "center",
          "xref": "paper",
          "y": 1,
          "yanchor": "bottom",
          "yref": "paper"
         }
        ],
        "autosize": false,
        "height": 450,
        "template": {
         "data": {
          "bar": [
           {
            "error_x": {
             "color": "rgb(36,36,36)"
            },
            "error_y": {
             "color": "rgb(36,36,36)"
            },
            "marker": {
             "line": {
              "color": "white",
              "width": 0.5
             }
            },
            "type": "bar"
           }
          ],
          "barpolar": [
           {
            "marker": {
             "line": {
              "color": "white",
              "width": 0.5
             }
            },
            "type": "barpolar"
           }
          ],
          "carpet": [
           {
            "aaxis": {
             "endlinecolor": "rgb(36,36,36)",
             "gridcolor": "white",
             "linecolor": "white",
             "minorgridcolor": "white",
             "startlinecolor": "rgb(36,36,36)"
            },
            "baxis": {
             "endlinecolor": "rgb(36,36,36)",
             "gridcolor": "white",
             "linecolor": "white",
             "minorgridcolor": "white",
             "startlinecolor": "rgb(36,36,36)"
            },
            "type": "carpet"
           }
          ],
          "choropleth": [
           {
            "colorbar": {
             "outlinewidth": 1,
             "tickcolor": "rgb(36,36,36)",
             "ticks": "outside"
            },
            "type": "choropleth"
           }
          ],
          "contour": [
           {
            "colorbar": {
             "outlinewidth": 1,
             "tickcolor": "rgb(36,36,36)",
             "ticks": "outside"
            },
            "colorscale": [
             [
              0,
              "#440154"
             ],
             [
              0.1111111111111111,
              "#482878"
             ],
             [
              0.2222222222222222,
              "#3e4989"
             ],
             [
              0.3333333333333333,
              "#31688e"
             ],
             [
              0.4444444444444444,
              "#26828e"
             ],
             [
              0.5555555555555556,
              "#1f9e89"
             ],
             [
              0.6666666666666666,
              "#35b779"
             ],
             [
              0.7777777777777778,
              "#6ece58"
             ],
             [
              0.8888888888888888,
              "#b5de2b"
             ],
             [
              1,
              "#fde725"
             ]
            ],
            "type": "contour"
           }
          ],
          "contourcarpet": [
           {
            "colorbar": {
             "outlinewidth": 1,
             "tickcolor": "rgb(36,36,36)",
             "ticks": "outside"
            },
            "type": "contourcarpet"
           }
          ],
          "heatmap": [
           {
            "colorbar": {
             "outlinewidth": 1,
             "tickcolor": "rgb(36,36,36)",
             "ticks": "outside"
            },
            "colorscale": [
             [
              0,
              "#440154"
             ],
             [
              0.1111111111111111,
              "#482878"
             ],
             [
              0.2222222222222222,
              "#3e4989"
             ],
             [
              0.3333333333333333,
              "#31688e"
             ],
             [
              0.4444444444444444,
              "#26828e"
             ],
             [
              0.5555555555555556,
              "#1f9e89"
             ],
             [
              0.6666666666666666,
              "#35b779"
             ],
             [
              0.7777777777777778,
              "#6ece58"
             ],
             [
              0.8888888888888888,
              "#b5de2b"
             ],
             [
              1,
              "#fde725"
             ]
            ],
            "type": "heatmap"
           }
          ],
          "heatmapgl": [
           {
            "colorbar": {
             "outlinewidth": 1,
             "tickcolor": "rgb(36,36,36)",
             "ticks": "outside"
            },
            "colorscale": [
             [
              0,
              "#440154"
             ],
             [
              0.1111111111111111,
              "#482878"
             ],
             [
              0.2222222222222222,
              "#3e4989"
             ],
             [
              0.3333333333333333,
              "#31688e"
             ],
             [
              0.4444444444444444,
              "#26828e"
             ],
             [
              0.5555555555555556,
              "#1f9e89"
             ],
             [
              0.6666666666666666,
              "#35b779"
             ],
             [
              0.7777777777777778,
              "#6ece58"
             ],
             [
              0.8888888888888888,
              "#b5de2b"
             ],
             [
              1,
              "#fde725"
             ]
            ],
            "type": "heatmapgl"
           }
          ],
          "histogram": [
           {
            "marker": {
             "line": {
              "color": "white",
              "width": 0.6
             }
            },
            "type": "histogram"
           }
          ],
          "histogram2d": [
           {
            "colorbar": {
             "outlinewidth": 1,
             "tickcolor": "rgb(36,36,36)",
             "ticks": "outside"
            },
            "colorscale": [
             [
              0,
              "#440154"
             ],
             [
              0.1111111111111111,
              "#482878"
             ],
             [
              0.2222222222222222,
              "#3e4989"
             ],
             [
              0.3333333333333333,
              "#31688e"
             ],
             [
              0.4444444444444444,
              "#26828e"
             ],
             [
              0.5555555555555556,
              "#1f9e89"
             ],
             [
              0.6666666666666666,
              "#35b779"
             ],
             [
              0.7777777777777778,
              "#6ece58"
             ],
             [
              0.8888888888888888,
              "#b5de2b"
             ],
             [
              1,
              "#fde725"
             ]
            ],
            "type": "histogram2d"
           }
          ],
          "histogram2dcontour": [
           {
            "colorbar": {
             "outlinewidth": 1,
             "tickcolor": "rgb(36,36,36)",
             "ticks": "outside"
            },
            "colorscale": [
             [
              0,
              "#440154"
             ],
             [
              0.1111111111111111,
              "#482878"
             ],
             [
              0.2222222222222222,
              "#3e4989"
             ],
             [
              0.3333333333333333,
              "#31688e"
             ],
             [
              0.4444444444444444,
              "#26828e"
             ],
             [
              0.5555555555555556,
              "#1f9e89"
             ],
             [
              0.6666666666666666,
              "#35b779"
             ],
             [
              0.7777777777777778,
              "#6ece58"
             ],
             [
              0.8888888888888888,
              "#b5de2b"
             ],
             [
              1,
              "#fde725"
             ]
            ],
            "type": "histogram2dcontour"
           }
          ],
          "mesh3d": [
           {
            "colorbar": {
             "outlinewidth": 1,
             "tickcolor": "rgb(36,36,36)",
             "ticks": "outside"
            },
            "type": "mesh3d"
           }
          ],
          "parcoords": [
           {
            "line": {
             "colorbar": {
              "outlinewidth": 1,
              "tickcolor": "rgb(36,36,36)",
              "ticks": "outside"
             }
            },
            "type": "parcoords"
           }
          ],
          "pie": [
           {
            "automargin": true,
            "type": "pie"
           }
          ],
          "scatter": [
           {
            "marker": {
             "colorbar": {
              "outlinewidth": 1,
              "tickcolor": "rgb(36,36,36)",
              "ticks": "outside"
             }
            },
            "type": "scatter"
           }
          ],
          "scatter3d": [
           {
            "line": {
             "colorbar": {
              "outlinewidth": 1,
              "tickcolor": "rgb(36,36,36)",
              "ticks": "outside"
             }
            },
            "marker": {
             "colorbar": {
              "outlinewidth": 1,
              "tickcolor": "rgb(36,36,36)",
              "ticks": "outside"
             }
            },
            "type": "scatter3d"
           }
          ],
          "scattercarpet": [
           {
            "marker": {
             "colorbar": {
              "outlinewidth": 1,
              "tickcolor": "rgb(36,36,36)",
              "ticks": "outside"
             }
            },
            "type": "scattercarpet"
           }
          ],
          "scattergeo": [
           {
            "marker": {
             "colorbar": {
              "outlinewidth": 1,
              "tickcolor": "rgb(36,36,36)",
              "ticks": "outside"
             }
            },
            "type": "scattergeo"
           }
          ],
          "scattergl": [
           {
            "marker": {
             "colorbar": {
              "outlinewidth": 1,
              "tickcolor": "rgb(36,36,36)",
              "ticks": "outside"
             }
            },
            "type": "scattergl"
           }
          ],
          "scattermapbox": [
           {
            "marker": {
             "colorbar": {
              "outlinewidth": 1,
              "tickcolor": "rgb(36,36,36)",
              "ticks": "outside"
             }
            },
            "type": "scattermapbox"
           }
          ],
          "scatterpolar": [
           {
            "marker": {
             "colorbar": {
              "outlinewidth": 1,
              "tickcolor": "rgb(36,36,36)",
              "ticks": "outside"
             }
            },
            "type": "scatterpolar"
           }
          ],
          "scatterpolargl": [
           {
            "marker": {
             "colorbar": {
              "outlinewidth": 1,
              "tickcolor": "rgb(36,36,36)",
              "ticks": "outside"
             }
            },
            "type": "scatterpolargl"
           }
          ],
          "scatterternary": [
           {
            "marker": {
             "colorbar": {
              "outlinewidth": 1,
              "tickcolor": "rgb(36,36,36)",
              "ticks": "outside"
             }
            },
            "type": "scatterternary"
           }
          ],
          "surface": [
           {
            "colorbar": {
             "outlinewidth": 1,
             "tickcolor": "rgb(36,36,36)",
             "ticks": "outside"
            },
            "colorscale": [
             [
              0,
              "#440154"
             ],
             [
              0.1111111111111111,
              "#482878"
             ],
             [
              0.2222222222222222,
              "#3e4989"
             ],
             [
              0.3333333333333333,
              "#31688e"
             ],
             [
              0.4444444444444444,
              "#26828e"
             ],
             [
              0.5555555555555556,
              "#1f9e89"
             ],
             [
              0.6666666666666666,
              "#35b779"
             ],
             [
              0.7777777777777778,
              "#6ece58"
             ],
             [
              0.8888888888888888,
              "#b5de2b"
             ],
             [
              1,
              "#fde725"
             ]
            ],
            "type": "surface"
           }
          ],
          "table": [
           {
            "cells": {
             "fill": {
              "color": "rgb(237,237,237)"
             },
             "line": {
              "color": "white"
             }
            },
            "header": {
             "fill": {
              "color": "rgb(217,217,217)"
             },
             "line": {
              "color": "white"
             }
            },
            "type": "table"
           }
          ]
         },
         "layout": {
          "annotationdefaults": {
           "arrowhead": 0,
           "arrowwidth": 1
          },
          "autotypenumbers": "strict",
          "coloraxis": {
           "colorbar": {
            "outlinewidth": 1,
            "tickcolor": "rgb(36,36,36)",
            "ticks": "outside"
           }
          },
          "colorscale": {
           "diverging": [
            [
             0,
             "rgb(103,0,31)"
            ],
            [
             0.1,
             "rgb(178,24,43)"
            ],
            [
             0.2,
             "rgb(214,96,77)"
            ],
            [
             0.3,
             "rgb(244,165,130)"
            ],
            [
             0.4,
             "rgb(253,219,199)"
            ],
            [
             0.5,
             "rgb(247,247,247)"
            ],
            [
             0.6,
             "rgb(209,229,240)"
            ],
            [
             0.7,
             "rgb(146,197,222)"
            ],
            [
             0.8,
             "rgb(67,147,195)"
            ],
            [
             0.9,
             "rgb(33,102,172)"
            ],
            [
             1,
             "rgb(5,48,97)"
            ]
           ],
           "sequential": [
            [
             0,
             "#440154"
            ],
            [
             0.1111111111111111,
             "#482878"
            ],
            [
             0.2222222222222222,
             "#3e4989"
            ],
            [
             0.3333333333333333,
             "#31688e"
            ],
            [
             0.4444444444444444,
             "#26828e"
            ],
            [
             0.5555555555555556,
             "#1f9e89"
            ],
            [
             0.6666666666666666,
             "#35b779"
            ],
            [
             0.7777777777777778,
             "#6ece58"
            ],
            [
             0.8888888888888888,
             "#b5de2b"
            ],
            [
             1,
             "#fde725"
            ]
           ],
           "sequentialminus": [
            [
             0,
             "#440154"
            ],
            [
             0.1111111111111111,
             "#482878"
            ],
            [
             0.2222222222222222,
             "#3e4989"
            ],
            [
             0.3333333333333333,
             "#31688e"
            ],
            [
             0.4444444444444444,
             "#26828e"
            ],
            [
             0.5555555555555556,
             "#1f9e89"
            ],
            [
             0.6666666666666666,
             "#35b779"
            ],
            [
             0.7777777777777778,
             "#6ece58"
            ],
            [
             0.8888888888888888,
             "#b5de2b"
            ],
            [
             1,
             "#fde725"
            ]
           ]
          },
          "colorway": [
           "#1F77B4",
           "#FF7F0E",
           "#2CA02C",
           "#D62728",
           "#9467BD",
           "#8C564B",
           "#E377C2",
           "#7F7F7F",
           "#BCBD22",
           "#17BECF"
          ],
          "font": {
           "color": "rgb(36,36,36)"
          },
          "geo": {
           "bgcolor": "white",
           "lakecolor": "white",
           "landcolor": "white",
           "showlakes": true,
           "showland": true,
           "subunitcolor": "white"
          },
          "hoverlabel": {
           "align": "left"
          },
          "hovermode": "closest",
          "mapbox": {
           "style": "light"
          },
          "paper_bgcolor": "white",
          "plot_bgcolor": "white",
          "polar": {
           "angularaxis": {
            "gridcolor": "rgb(232,232,232)",
            "linecolor": "rgb(36,36,36)",
            "showgrid": false,
            "showline": true,
            "ticks": "outside"
           },
           "bgcolor": "white",
           "radialaxis": {
            "gridcolor": "rgb(232,232,232)",
            "linecolor": "rgb(36,36,36)",
            "showgrid": false,
            "showline": true,
            "ticks": "outside"
           }
          },
          "scene": {
           "xaxis": {
            "backgroundcolor": "white",
            "gridcolor": "rgb(232,232,232)",
            "gridwidth": 2,
            "linecolor": "rgb(36,36,36)",
            "showbackground": true,
            "showgrid": false,
            "showline": true,
            "ticks": "outside",
            "zeroline": false,
            "zerolinecolor": "rgb(36,36,36)"
           },
           "yaxis": {
            "backgroundcolor": "white",
            "gridcolor": "rgb(232,232,232)",
            "gridwidth": 2,
            "linecolor": "rgb(36,36,36)",
            "showbackground": true,
            "showgrid": false,
            "showline": true,
            "ticks": "outside",
            "zeroline": false,
            "zerolinecolor": "rgb(36,36,36)"
           },
           "zaxis": {
            "backgroundcolor": "white",
            "gridcolor": "rgb(232,232,232)",
            "gridwidth": 2,
            "linecolor": "rgb(36,36,36)",
            "showbackground": true,
            "showgrid": false,
            "showline": true,
            "ticks": "outside",
            "zeroline": false,
            "zerolinecolor": "rgb(36,36,36)"
           }
          },
          "shapedefaults": {
           "fillcolor": "black",
           "line": {
            "width": 0
           },
           "opacity": 0.3
          },
          "ternary": {
           "aaxis": {
            "gridcolor": "rgb(232,232,232)",
            "linecolor": "rgb(36,36,36)",
            "showgrid": false,
            "showline": true,
            "ticks": "outside"
           },
           "baxis": {
            "gridcolor": "rgb(232,232,232)",
            "linecolor": "rgb(36,36,36)",
            "showgrid": false,
            "showline": true,
            "ticks": "outside"
           },
           "bgcolor": "white",
           "caxis": {
            "gridcolor": "rgb(232,232,232)",
            "linecolor": "rgb(36,36,36)",
            "showgrid": false,
            "showline": true,
            "ticks": "outside"
           }
          },
          "title": {
           "x": 0.05
          },
          "xaxis": {
           "automargin": true,
           "gridcolor": "rgb(232,232,232)",
           "linecolor": "rgb(36,36,36)",
           "showgrid": false,
           "showline": true,
           "ticks": "outside",
           "title": {
            "standoff": 15
           },
           "zeroline": false,
           "zerolinecolor": "rgb(36,36,36)"
          },
          "yaxis": {
           "automargin": true,
           "gridcolor": "rgb(232,232,232)",
           "linecolor": "rgb(36,36,36)",
           "showgrid": false,
           "showline": true,
           "ticks": "outside",
           "title": {
            "standoff": 15
           },
           "zeroline": false,
           "zerolinecolor": "rgb(36,36,36)"
          }
         }
        },
        "title": {
         "text": "<b>Character length distribution for False Security",
         "x": 0.5,
         "xanchor": "center",
         "y": 0.9,
         "yanchor": "top"
        },
        "width": 700,
        "xaxis": {
         "anchor": "y",
         "autorange": true,
         "domain": [
          0,
          0.45
         ],
         "range": [
          9.5,
          71.5
         ],
         "type": "linear"
        },
        "xaxis2": {
         "anchor": "y2",
         "autorange": true,
         "domain": [
          0.55,
          1
         ],
         "range": [
          11.5,
          69.5
         ],
         "type": "linear"
        },
        "yaxis": {
         "anchor": "x",
         "automargin": true,
         "autorange": true,
         "domain": [
          0,
          1
         ],
         "range": [
          0,
          62.10526315789474
         ],
         "title": {
          "text": "<i>Frequency</i>"
         }
        },
        "yaxis2": {
         "anchor": "x2",
         "automargin": true,
         "autorange": true,
         "domain": [
          0,
          1
         ],
         "range": [
          0,
          78.94736842105263
         ]
        }
       }
      },
      "image/png": "[encoded data removed]",
      "text/html": [
       "<div>                            <div id=\"77f4c8a2-5d2d-40d9-a051-118f7959d665\" class=\"plotly-graph-div\" style=\"height:525px; width:100%;\"></div>            <script type=\"text/javascript\">                require([\"plotly\"], function(Plotly) {                    window.PLOTLYENV=window.PLOTLYENV || {};                                    if (document.getElementById(\"77f4c8a2-5d2d-40d9-a051-118f7959d665\")) {                    Plotly.newPlot(                        \"77f4c8a2-5d2d-40d9-a051-118f7959d665\",                        [{\"marker\": {\"line\": {\"color\": \"#000000\", \"width\": 2}}, \"showlegend\": false, \"type\": \"histogram\", \"x\": [28, 52, 40, 39, 56, 20, 17, 24, 38, 31, 19, 31, 37, 40, 56, 39, 31, 47, 34, 28, 23, 22, 32, 30, 36, 40, 35, 49, 56, 30, 24, 63, 20, 27, 17, 36, 43, 34, 50, 26, 29, 40, 26, 35, 15, 44, 17, 23, 38, 17, 19, 20, 31, 46, 36, 49, 29, 37, 40, 36, 19, 28, 19, 43, 39, 46, 29, 32, 23, 20, 26, 38, 15, 24, 24, 28, 28, 60, 38, 28, 40, 25, 36, 29, 36, 24, 29, 28, 46, 33, 49, 32, 52, 33, 40, 36, 63, 51, 40, 22, 33, 25, 20, 33, 33, 34, 62, 28, 31, 24, 36, 32, 39, 27, 24, 33, 52, 35, 29, 29, 40, 17, 35, 49, 16, 28, 28, 32, 29, 48, 39, 31, 32, 40, 28, 24, 56, 21, 43, 27, 63, 15, 34, 35, 45, 22, 45, 35, 33, 25, 17, 24, 24, 20, 31, 50, 22, 18, 37, 31, 44, 28, 24, 34, 23, 44, 20, 29, 15, 30, 23, 50, 36, 17, 25, 34, 28, 17, 22, 34, 30, 23, 22, 28, 28, 29, 42, 17, 26, 19, 24, 24, 32, 30, 34, 38, 20, 38, 24, 40, 24, 63, 33, 42, 17, 42, 33, 45, 35, 20, 25, 30, 51, 44, 30, 17, 27, 27, 20, 19, 18, 39, 62, 11, 36, 29, 20, 19, 25, 44, 31, 56, 20, 30, 45, 26, 24, 57, 30, 18, 28, 28, 28, 31, 31, 25, 34, 52, 40, 25, 34, 39, 14, 34, 29, 36, 28, 17, 34, 38, 71, 39, 69, 40, 40, 44, 19, 49, 43, 29, 20, 38, 32, 24, 34, 33, 19, 38, 37, 38, 19, 20, 38, 14, 45, 52, 20, 26, 33, 22, 29, 27, 28, 31, 57, 30, 22, 25, 29, 19, 25, 32, 19, 33, 33, 36, 48, 52, 30, 35, 37, 28, 24, 31, 32, 19, 26, 32, 20, 26, 18, 18, 28, 32, 50, 14, 24, 24, 28, 33, 36, 23, 34, 40, 28, 35, 52, 35, 29, 25, 25, 15, 37, 30, 57, 24, 45, 36, 22, 24, 43, 26, 62, 25, 34, 16, 11, 34, 31, 30, 20, 44, 36, 29, 30, 45, 30, 24, 32, 49, 16, 17, 24, 22, 24, 36, 58, 20, 56, 20, 34, 29, 36, 20, 36, 22, 24, 40, 28, 63, 49, 32, 55, 31, 37, 30, 32, 28, 33, 29, 39, 40, 40, 38, 29, 21, 40, 19, 39, 20, 43, 20, 41, 20, 44, 20, 24, 22, 31, 26, 40, 26, 24, 23, 33, 38, 35, 31, 32, 35, 30, 29, 31, 30, 20, 28, 31, 39, 37, 36, 34, 38, 57, 24, 36, 17, 17, 50, 29, 34, 58, 33, 20, 50, 40, 32, 39, 49, 28, 39, 56, 42, 31, 17, 24, 36, 35, 32, 21, 33, 36, 31, 29, 49, 20, 24, 35, 35, 40, 40, 30, 26, 30, 30, 20, 33, 17, 18, 39, 23, 25, 28, 21, 28, 29, 39, 28, 34, 24, 33, 20, 44, 22, 29, 16, 52, 40, 25, 29, 24, 60, 40, 28, 25, 40, 26, 22, 33, 26, 20, 32, 20, 28, 17, 26, 39, 37, 26, 52], \"xaxis\": \"x\", \"yaxis\": \"y\"}, {\"marker\": {\"line\": {\"color\": \"#000000\", \"width\": 2}}, \"showlegend\": false, \"type\": \"histogram\", \"x\": [34, 40, 38, 31, 32, 30, 33, 18, 20, 28, 39, 23, 36, 53, 32, 39, 29, 19, 31, 20, 20, 18, 26, 50, 58, 40, 53, 32, 53, 27, 33, 38, 38, 30, 14, 38, 48, 31, 28, 37, 20, 36, 25, 30, 14, 29, 20, 25, 21, 18, 26, 28, 41, 38, 63, 33, 37, 52, 38, 63, 36, 39, 20, 35, 38, 36, 53, 53, 24, 39, 20, 39, 22, 30, 38, 34, 37, 59, 20, 25, 63, 38, 34, 56, 26, 26, 20, 20, 50, 42, 36, 22, 56, 26, 24, 19, 32, 38, 64, 17, 21, 13, 27, 31, 18, 28, 36, 39, 30, 28, 20, 23, 20, 30, 34, 32, 37, 30, 38, 36, 40, 18, 58, 32, 29, 47, 20, 20, 34, 33, 39, 42, 38, 20, 39, 27, 38, 13, 33, 22, 36, 18, 20, 20, 44, 18, 50, 56, 18, 19, 30, 20, 29, 41, 33, 50, 20, 37, 30, 23, 49, 20, 25, 13, 26, 20, 27, 40, 27, 20, 31, 39, 53, 30, 39, 20, 20, 20, 14, 20, 40, 33, 27, 24, 18, 56, 25, 24, 20, 38, 28, 14, 20, 36, 53, 31, 38, 31, 36, 38, 29, 36, 24, 46, 28, 33, 16, 31, 23, 36, 50, 53, 20, 35, 21, 20, 37, 30, 32, 32, 23, 36, 27, 19, 20, 50, 38, 34, 28, 46, 21, 36, 25, 27, 68, 24, 33, 32, 50, 27, 38, 50, 20, 37, 24, 34, 38, 34, 53, 21, 30, 34, 22, 35, 30, 30, 20, 27, 38, 20, 38, 30, 45, 56, 34, 47, 15, 50, 33, 58, 28, 42, 24, 37, 63, 25, 38, 29, 40, 38, 20, 32, 36, 18, 38, 32, 38, 18, 27, 27, 19, 39, 39, 20, 46, 56, 40, 39, 28, 19, 29, 20, 29, 19, 31, 58, 43, 20, 63, 20, 45, 25, 39, 36, 27, 36, 22, 36, 25, 18, 27, 21, 37, 47, 46, 17, 37, 19, 18, 27, 56, 41, 58, 53, 50, 63, 63, 40, 20, 36, 20, 18, 39, 39, 38, 23, 45, 38, 15, 24, 43, 17, 64, 19, 46, 20, 17, 63, 31, 25, 40, 31, 56, 34, 28, 30, 32, 53, 33, 28, 39, 30, 25, 36, 25, 52, 36, 30, 32, 50, 57, 63, 20, 40, 31, 27, 20, 50, 24, 27, 57, 16, 39, 49, 20, 38, 32, 20, 34, 39, 31, 19, 20, 32, 38, 21, 39, 46, 20, 36, 21, 25, 31, 36, 39, 40, 28, 29, 31, 19, 30, 27, 20, 19, 41, 32, 20, 43, 27, 28, 20, 63, 31, 25, 53, 36, 21, 50, 19, 38, 56, 41, 39, 30, 33, 22, 26, 30, 32, 32, 38, 40, 37, 32, 20, 30, 33, 20, 39, 19, 28, 33, 33, 27, 28, 40, 58, 20, 14, 30, 20, 52, 20, 32, 19, 20, 38, 20, 30, 20, 36, 20, 26, 28, 56, 17, 23, 17, 20, 31, 40, 30, 17, 20, 35, 50, 20, 56, 28, 39, 33, 39, 22, 28, 27, 30, 30, 26, 58, 20, 60, 27, 39, 34, 58, 14, 18, 20, 18, 36, 18, 37, 30, 28, 27, 30, 20, 30, 33], \"xaxis\": \"x2\", \"yaxis\": \"y2\"}],                        {\"annotations\": [{\"font\": {\"size\": 16}, \"showarrow\": false, \"text\": \"Description X Length\", \"x\": 0.225, \"xanchor\": \"center\", \"xref\": \"paper\", \"y\": 1.0, \"yanchor\": \"bottom\", \"yref\": \"paper\"}, {\"font\": {\"size\": 16}, \"showarrow\": false, \"text\": \"Description Y Length\", \"x\": 0.775, \"xanchor\": \"center\", \"xref\": \"paper\", \"y\": 1.0, \"yanchor\": \"bottom\", \"yref\": \"paper\"}], \"autosize\": false, \"template\": {\"data\": {\"bar\": [{\"error_x\": {\"color\": \"rgb(36,36,36)\"}, \"error_y\": {\"color\": \"rgb(36,36,36)\"}, \"marker\": {\"line\": {\"color\": \"white\", \"width\": 0.5}}, \"type\": \"bar\"}], \"barpolar\": [{\"marker\": {\"line\": {\"color\": \"white\", \"width\": 0.5}}, \"type\": \"barpolar\"}], \"carpet\": [{\"aaxis\": {\"endlinecolor\": \"rgb(36,36,36)\", \"gridcolor\": \"white\", \"linecolor\": \"white\", \"minorgridcolor\": \"white\", \"startlinecolor\": \"rgb(36,36,36)\"}, \"baxis\": {\"endlinecolor\": \"rgb(36,36,36)\", \"gridcolor\": \"white\", \"linecolor\": \"white\", \"minorgridcolor\": \"white\", \"startlinecolor\": \"rgb(36,36,36)\"}, \"type\": \"carpet\"}], \"choropleth\": [{\"colorbar\": {\"outlinewidth\": 1, \"tickcolor\": \"rgb(36,36,36)\", \"ticks\": \"outside\"}, \"type\": \"choropleth\"}], \"contour\": [{\"colorbar\": {\"outlinewidth\": 1, \"tickcolor\": \"rgb(36,36,36)\", \"ticks\": \"outside\"}, \"colorscale\": [[0.0, \"#440154\"], [0.1111111111111111, \"#482878\"], [0.2222222222222222, \"#3e4989\"], [0.3333333333333333, \"#31688e\"], [0.4444444444444444, \"#26828e\"], [0.5555555555555556, \"#1f9e89\"], [0.6666666666666666, \"#35b779\"], [0.7777777777777778, \"#6ece58\"], [0.8888888888888888, \"#b5de2b\"], [1.0, \"#fde725\"]], \"type\": \"contour\"}], \"contourcarpet\": [{\"colorbar\": {\"outlinewidth\": 1, \"tickcolor\": \"rgb(36,36,36)\", \"ticks\": \"outside\"}, \"type\": \"contourcarpet\"}], \"heatmap\": [{\"colorbar\": {\"outlinewidth\": 1, \"tickcolor\": \"rgb(36,36,36)\", \"ticks\": \"outside\"}, \"colorscale\": [[0.0, \"#440154\"], [0.1111111111111111, \"#482878\"], [0.2222222222222222, \"#3e4989\"], [0.3333333333333333, \"#31688e\"], [0.4444444444444444, \"#26828e\"], [0.5555555555555556, \"#1f9e89\"], [0.6666666666666666, \"#35b779\"], [0.7777777777777778, \"#6ece58\"], [0.8888888888888888, \"#b5de2b\"], [1.0, \"#fde725\"]], \"type\": \"heatmap\"}], \"heatmapgl\": [{\"colorbar\": {\"outlinewidth\": 1, \"tickcolor\": \"rgb(36,36,36)\", \"ticks\": \"outside\"}, \"colorscale\": [[0.0, \"#440154\"], [0.1111111111111111, \"#482878\"], [0.2222222222222222, \"#3e4989\"], [0.3333333333333333, \"#31688e\"], [0.4444444444444444, \"#26828e\"], [0.5555555555555556, \"#1f9e89\"], [0.6666666666666666, \"#35b779\"], [0.7777777777777778, \"#6ece58\"], [0.8888888888888888, \"#b5de2b\"], [1.0, \"#fde725\"]], \"type\": \"heatmapgl\"}], \"histogram\": [{\"marker\": {\"line\": {\"color\": \"white\", \"width\": 0.6}}, \"type\": \"histogram\"}], \"histogram2d\": [{\"colorbar\": {\"outlinewidth\": 1, \"tickcolor\": \"rgb(36,36,36)\", \"ticks\": \"outside\"}, \"colorscale\": [[0.0, \"#440154\"], [0.1111111111111111, \"#482878\"], [0.2222222222222222, \"#3e4989\"], [0.3333333333333333, \"#31688e\"], [0.4444444444444444, \"#26828e\"], [0.5555555555555556, \"#1f9e89\"], [0.6666666666666666, \"#35b779\"], [0.7777777777777778, \"#6ece58\"], [0.8888888888888888, \"#b5de2b\"], [1.0, \"#fde725\"]], \"type\": \"histogram2d\"}], \"histogram2dcontour\": [{\"colorbar\": {\"outlinewidth\": 1, \"tickcolor\": \"rgb(36,36,36)\", \"ticks\": \"outside\"}, \"colorscale\": [[0.0, \"#440154\"], [0.1111111111111111, \"#482878\"], [0.2222222222222222, \"#3e4989\"], [0.3333333333333333, \"#31688e\"], [0.4444444444444444, \"#26828e\"], [0.5555555555555556, \"#1f9e89\"], [0.6666666666666666, \"#35b779\"], [0.7777777777777778, \"#6ece58\"], [0.8888888888888888, \"#b5de2b\"], [1.0, \"#fde725\"]], \"type\": \"histogram2dcontour\"}], \"mesh3d\": [{\"colorbar\": {\"outlinewidth\": 1, \"tickcolor\": \"rgb(36,36,36)\", \"ticks\": \"outside\"}, \"type\": \"mesh3d\"}], \"parcoords\": [{\"line\": {\"colorbar\": {\"outlinewidth\": 1, \"tickcolor\": \"rgb(36,36,36)\", \"ticks\": \"outside\"}}, \"type\": \"parcoords\"}], \"pie\": [{\"automargin\": true, \"type\": \"pie\"}], \"scatter\": [{\"marker\": {\"colorbar\": {\"outlinewidth\": 1, \"tickcolor\": \"rgb(36,36,36)\", \"ticks\": \"outside\"}}, \"type\": \"scatter\"}], \"scatter3d\": [{\"line\": {\"colorbar\": {\"outlinewidth\": 1, \"tickcolor\": \"rgb(36,36,36)\", \"ticks\": \"outside\"}}, \"marker\": {\"colorbar\": {\"outlinewidth\": 1, \"tickcolor\": \"rgb(36,36,36)\", \"ticks\": \"outside\"}}, \"type\": \"scatter3d\"}], \"scattercarpet\": [{\"marker\": {\"colorbar\": {\"outlinewidth\": 1, \"tickcolor\": \"rgb(36,36,36)\", \"ticks\": \"outside\"}}, \"type\": \"scattercarpet\"}], \"scattergeo\": [{\"marker\": {\"colorbar\": {\"outlinewidth\": 1, \"tickcolor\": \"rgb(36,36,36)\", \"ticks\": \"outside\"}}, \"type\": \"scattergeo\"}], \"scattergl\": [{\"marker\": {\"colorbar\": {\"outlinewidth\": 1, \"tickcolor\": \"rgb(36,36,36)\", \"ticks\": \"outside\"}}, \"type\": \"scattergl\"}], \"scattermapbox\": [{\"marker\": {\"colorbar\": {\"outlinewidth\": 1, \"tickcolor\": \"rgb(36,36,36)\", \"ticks\": \"outside\"}}, \"type\": \"scattermapbox\"}], \"scatterpolar\": [{\"marker\": {\"colorbar\": {\"outlinewidth\": 1, \"tickcolor\": \"rgb(36,36,36)\", \"ticks\": \"outside\"}}, \"type\": \"scatterpolar\"}], \"scatterpolargl\": [{\"marker\": {\"colorbar\": {\"outlinewidth\": 1, \"tickcolor\": \"rgb(36,36,36)\", \"ticks\": \"outside\"}}, \"type\": \"scatterpolargl\"}], \"scatterternary\": [{\"marker\": {\"colorbar\": {\"outlinewidth\": 1, \"tickcolor\": \"rgb(36,36,36)\", \"ticks\": \"outside\"}}, \"type\": \"scatterternary\"}], \"surface\": [{\"colorbar\": {\"outlinewidth\": 1, \"tickcolor\": \"rgb(36,36,36)\", \"ticks\": \"outside\"}, \"colorscale\": [[0.0, \"#440154\"], [0.1111111111111111, \"#482878\"], [0.2222222222222222, \"#3e4989\"], [0.3333333333333333, \"#31688e\"], [0.4444444444444444, \"#26828e\"], [0.5555555555555556, \"#1f9e89\"], [0.6666666666666666, \"#35b779\"], [0.7777777777777778, \"#6ece58\"], [0.8888888888888888, \"#b5de2b\"], [1.0, \"#fde725\"]], \"type\": \"surface\"}], \"table\": [{\"cells\": {\"fill\": {\"color\": \"rgb(237,237,237)\"}, \"line\": {\"color\": \"white\"}}, \"header\": {\"fill\": {\"color\": \"rgb(217,217,217)\"}, \"line\": {\"color\": \"white\"}}, \"type\": \"table\"}]}, \"layout\": {\"annotationdefaults\": {\"arrowhead\": 0, \"arrowwidth\": 1}, \"autotypenumbers\": \"strict\", \"coloraxis\": {\"colorbar\": {\"outlinewidth\": 1, \"tickcolor\": \"rgb(36,36,36)\", \"ticks\": \"outside\"}}, \"colorscale\": {\"diverging\": [[0.0, \"rgb(103,0,31)\"], [0.1, \"rgb(178,24,43)\"], [0.2, \"rgb(214,96,77)\"], [0.3, \"rgb(244,165,130)\"], [0.4, \"rgb(253,219,199)\"], [0.5, \"rgb(247,247,247)\"], [0.6, \"rgb(209,229,240)\"], [0.7, \"rgb(146,197,222)\"], [0.8, \"rgb(67,147,195)\"], [0.9, \"rgb(33,102,172)\"], [1.0, \"rgb(5,48,97)\"]], \"sequential\": [[0.0, \"#440154\"], [0.1111111111111111, \"#482878\"], [0.2222222222222222, \"#3e4989\"], [0.3333333333333333, \"#31688e\"], [0.4444444444444444, \"#26828e\"], [0.5555555555555556, \"#1f9e89\"], [0.6666666666666666, \"#35b779\"], [0.7777777777777778, \"#6ece58\"], [0.8888888888888888, \"#b5de2b\"], [1.0, \"#fde725\"]], \"sequentialminus\": [[0.0, \"#440154\"], [0.1111111111111111, \"#482878\"], [0.2222222222222222, \"#3e4989\"], [0.3333333333333333, \"#31688e\"], [0.4444444444444444, \"#26828e\"], [0.5555555555555556, \"#1f9e89\"], [0.6666666666666666, \"#35b779\"], [0.7777777777777778, \"#6ece58\"], [0.8888888888888888, \"#b5de2b\"], [1.0, \"#fde725\"]]}, \"colorway\": [\"#1F77B4\", \"#FF7F0E\", \"#2CA02C\", \"#D62728\", \"#9467BD\", \"#8C564B\", \"#E377C2\", \"#7F7F7F\", \"#BCBD22\", \"#17BECF\"], \"font\": {\"color\": \"rgb(36,36,36)\"}, \"geo\": {\"bgcolor\": \"white\", \"lakecolor\": \"white\", \"landcolor\": \"white\", \"showlakes\": true, \"showland\": true, \"subunitcolor\": \"white\"}, \"hoverlabel\": {\"align\": \"left\"}, \"hovermode\": \"closest\", \"mapbox\": {\"style\": \"light\"}, \"paper_bgcolor\": \"white\", \"plot_bgcolor\": \"white\", \"polar\": {\"angularaxis\": {\"gridcolor\": \"rgb(232,232,232)\", \"linecolor\": \"rgb(36,36,36)\", \"showgrid\": false, \"showline\": true, \"ticks\": \"outside\"}, \"bgcolor\": \"white\", \"radialaxis\": {\"gridcolor\": \"rgb(232,232,232)\", \"linecolor\": \"rgb(36,36,36)\", \"showgrid\": false, \"showline\": true, \"ticks\": \"outside\"}}, \"scene\": {\"xaxis\": {\"backgroundcolor\": \"white\", \"gridcolor\": \"rgb(232,232,232)\", \"gridwidth\": 2, \"linecolor\": \"rgb(36,36,36)\", \"showbackground\": true, \"showgrid\": false, \"showline\": true, \"ticks\": \"outside\", \"zeroline\": false, \"zerolinecolor\": \"rgb(36,36,36)\"}, \"yaxis\": {\"backgroundcolor\": \"white\", \"gridcolor\": \"rgb(232,232,232)\", \"gridwidth\": 2, \"linecolor\": \"rgb(36,36,36)\", \"showbackground\": true, \"showgrid\": false, \"showline\": true, \"ticks\": \"outside\", \"zeroline\": false, \"zerolinecolor\": \"rgb(36,36,36)\"}, \"zaxis\": {\"backgroundcolor\": \"white\", \"gridcolor\": \"rgb(232,232,232)\", \"gridwidth\": 2, \"linecolor\": \"rgb(36,36,36)\", \"showbackground\": true, \"showgrid\": false, \"showline\": true, \"ticks\": \"outside\", \"zeroline\": false, \"zerolinecolor\": \"rgb(36,36,36)\"}}, \"shapedefaults\": {\"fillcolor\": \"black\", \"line\": {\"width\": 0}, \"opacity\": 0.3}, \"ternary\": {\"aaxis\": {\"gridcolor\": \"rgb(232,232,232)\", \"linecolor\": \"rgb(36,36,36)\", \"showgrid\": false, \"showline\": true, \"ticks\": \"outside\"}, \"baxis\": {\"gridcolor\": \"rgb(232,232,232)\", \"linecolor\": \"rgb(36,36,36)\", \"showgrid\": false, \"showline\": true, \"ticks\": \"outside\"}, \"bgcolor\": \"white\", \"caxis\": {\"gridcolor\": \"rgb(232,232,232)\", \"linecolor\": \"rgb(36,36,36)\", \"showgrid\": false, \"showline\": true, \"ticks\": \"outside\"}}, \"title\": {\"x\": 0.05}, \"xaxis\": {\"automargin\": true, \"gridcolor\": \"rgb(232,232,232)\", \"linecolor\": \"rgb(36,36,36)\", \"showgrid\": false, \"showline\": true, \"ticks\": \"outside\", \"title\": {\"standoff\": 15}, \"zeroline\": false, \"zerolinecolor\": \"rgb(36,36,36)\"}, \"yaxis\": {\"automargin\": true, \"gridcolor\": \"rgb(232,232,232)\", \"linecolor\": \"rgb(36,36,36)\", \"showgrid\": false, \"showline\": true, \"ticks\": \"outside\", \"title\": {\"standoff\": 15}, \"zeroline\": false, \"zerolinecolor\": \"rgb(36,36,36)\"}}}, \"title\": {\"text\": \"<b>Character length distribution for False Security\", \"x\": 0.5, \"xanchor\": \"center\", \"y\": 0.9, \"yanchor\": \"top\"}, \"xaxis\": {\"anchor\": \"y\", \"domain\": [0.0, 0.45]}, \"xaxis2\": {\"anchor\": \"y2\", \"domain\": [0.55, 1.0]}, \"yaxis\": {\"anchor\": \"x\", \"automargin\": true, \"domain\": [0.0, 1.0], \"title\": {\"text\": \"<i>Frequency</i>\"}}, \"yaxis2\": {\"anchor\": \"x2\", \"automargin\": true, \"domain\": [0.0, 1.0]}},                        {\"responsive\": true}                    ).then(function(){\n",
       "                            \n",
       "var gd = document.getElementById('77f4c8a2-5d2d-40d9-a051-118f7959d665');\n",
       "var x = new MutationObserver(function (mutations, observer) {{\n",
       "        var display = window.getComputedStyle(gd).display;\n",
       "        if (!display || display === 'none') {{\n",
       "            console.log([gd, 'removed!']);\n",
       "            Plotly.purge(gd);\n",
       "            observer.disconnect();\n",
       "        }}\n",
       "}});\n",
       "\n",
       "// Listen for the removal of the full notebook cells\n",
       "var notebookContainer = gd.closest('#notebook-container');\n",
       "if (notebookContainer) {{\n",
       "    x.observe(notebookContainer, {childList: true});\n",
       "}}\n",
       "\n",
       "// Listen for the clearing of the current output cell\n",
       "var outputEl = gd.closest('.output');\n",
       "if (outputEl) {{\n",
       "    x.observe(outputEl, {childList: true});\n",
       "}}\n",
       "\n",
       "                        })                };                });            </script>        </div>"
      ]
     },
     "metadata": {},
     "output_type": "display_data"
    }
   ],
   "source": [
    "data_false = data.query('same_security == False')\n",
    "histogram_subplot(data_false, data_false, 'len_x', 'len_y', \n",
    "                  '<b>Character length distribution for False Security', \n",
    "                  'Description X Length', 'Description Y Length')"
   ]
  },
  {
   "cell_type": "markdown",
   "metadata": {},
   "source": [
    "And for the False values the distribution for each sentence is different, I will use both features about the character length to feed the model."
   ]
  },
  {
   "cell_type": "markdown",
   "metadata": {},
   "source": [
    "# 3. Model Build\n",
    "PyCaret has a NLP module that can automatize most of the boring stuff, like lowering case, remove stop words, stemming, etc. So, a good amount of this part is just setting up PyCaret to run.<br>\n",
    "Let's import the module."
   ]
  },
  {
   "cell_type": "code",
   "execution_count": 26,
   "metadata": {},
   "outputs": [],
   "source": [
    "from pycaret.nlp import *"
   ]
  },
  {
   "cell_type": "markdown",
   "metadata": {},
   "source": [
    "The PyCaret setup is simple, just enter data, the text target to process and a random seed for the session.<br>\n",
    "It's possible to add custom stop words, but I will use the default from PyCaret.<br>\n",
    "Let's start with the text from `description_x`."
   ]
  },
  {
   "cell_type": "code",
   "execution_count": 27,
   "metadata": {},
   "outputs": [
    {
     "data": {
      "text/html": [
       "<style  type=\"text/css\" >\n",
       "</style><table id=\"T_b25ee_\" ><thead>    <tr>        <th class=\"col_heading level0 col0\" >Description</th>        <th class=\"col_heading level0 col1\" >Value</th>    </tr></thead><tbody>\n",
       "                <tr>\n",
       "                                <td id=\"T_b25ee_row0_col0\" class=\"data row0 col0\" >session_id</td>\n",
       "                        <td id=\"T_b25ee_row0_col1\" class=\"data row0 col1\" >6429</td>\n",
       "            </tr>\n",
       "            <tr>\n",
       "                                <td id=\"T_b25ee_row1_col0\" class=\"data row1 col0\" >Documents</td>\n",
       "                        <td id=\"T_b25ee_row1_col1\" class=\"data row1 col1\" >2142</td>\n",
       "            </tr>\n",
       "            <tr>\n",
       "                                <td id=\"T_b25ee_row2_col0\" class=\"data row2 col0\" >Vocab Size</td>\n",
       "                        <td id=\"T_b25ee_row2_col1\" class=\"data row2 col1\" >1152</td>\n",
       "            </tr>\n",
       "            <tr>\n",
       "                                <td id=\"T_b25ee_row3_col0\" class=\"data row3 col0\" >Custom Stopwords</td>\n",
       "                        <td id=\"T_b25ee_row3_col1\" class=\"data row3 col1\" >False</td>\n",
       "            </tr>\n",
       "    </tbody></table>"
      ],
      "text/plain": [
       "<pandas.io.formats.style.Styler at 0x7fc0b3a0eeb0>"
      ]
     },
     "metadata": {},
     "output_type": "display_data"
    }
   ],
   "source": [
    "exp_x = setup(data=data, target='description_x')"
   ]
  },
  {
   "cell_type": "markdown",
   "metadata": {},
   "source": [
    "There are 310 words present in the vocabulary for `sentence_x`.<br>\n",
    "To get the features for the model, is used a Topic Modelling with PyCaret, for it, the model is tuned (LDA Model) to see what is the best number of topics."
   ]
  },
  {
   "cell_type": "code",
   "execution_count": 28,
   "metadata": {},
   "outputs": [],
   "source": [
    "lda_model = create_model(model='lda', multi_core=True)"
   ]
  },
  {
   "cell_type": "code",
   "execution_count": 29,
   "metadata": {},
   "outputs": [],
   "source": [
    "lsi_model = create_model(model='lsi', multi_core=True)"
   ]
  },
  {
   "cell_type": "code",
   "execution_count": 30,
   "metadata": {},
   "outputs": [],
   "source": [
    "hdp_model = create_model(model='hdp', multi_core=True)"
   ]
  },
  {
   "cell_type": "code",
   "execution_count": 31,
   "metadata": {},
   "outputs": [],
   "source": [
    "nmf_model = create_model(model='nmf', multi_core=True)"
   ]
  },
  {
   "cell_type": "code",
   "execution_count": 32,
   "metadata": {},
   "outputs": [
    {
     "data": {
      "application/vnd.jupyter.widget-view+json": {
       "model_id": "",
       "version_major": 2,
       "version_minor": 0
      },
      "text/plain": [
       "IntProgress(value=0, description='Processing: ', max=25)"
      ]
     },
     "metadata": {},
     "output_type": "display_data"
    },
    {
     "data": {
      "application/vnd.jupyter.widget-view+json": {
       "model_id": "3c0f8983df264364b1d5639da466fc90",
       "version_major": 2,
       "version_minor": 0
      },
      "text/plain": [
       "Output()"
      ]
     },
     "metadata": {},
     "output_type": "display_data"
    },
    {
     "data": {
      "text/html": [
       "        <script type=\"text/javascript\">\n",
       "        window.PlotlyConfig = {MathJaxConfig: 'local'};\n",
       "        if (window.MathJax) {MathJax.Hub.Config({SVG: {font: \"STIX-Web\"}});}\n",
       "        if (typeof require !== 'undefined') {\n",
       "        require.undef(\"plotly\");\n",
       "        requirejs.config({\n",
       "            paths: {\n",
       "                'plotly': ['https://cdn.plot.ly/plotly-latest.min']\n",
       "            }\n",
       "        });\n",
       "        require(['plotly'], function(Plotly) {\n",
       "            window._Plotly = Plotly;\n",
       "        });\n",
       "        }\n",
       "        </script>\n",
       "        "
      ]
     },
     "metadata": {},
     "output_type": "display_data"
    },
    {
     "data": {
      "application/vnd.plotly.v1+json": {
       "config": {
        "plotlyServerURL": "https://plot.ly"
       },
       "data": [
        {
         "hovertemplate": "Metric=Coherence<br># Topics=%{x}<br>Score=%{y}<extra></extra>",
         "legendgroup": "Coherence",
         "line": {
          "color": "#636efa",
          "dash": "solid",
          "shape": "linear"
         },
         "mode": "lines",
         "name": "Coherence",
         "orientation": "v",
         "showlegend": true,
         "type": "scatter",
         "x": [
          2,
          4,
          8,
          16,
          32,
          64,
          100,
          200,
          300,
          400
         ],
         "xaxis": "x",
         "y": [
          0.48135628995413826,
          0.4547787564013589,
          0.4657197151604905,
          0.5348846036738764,
          0.5591942465007111,
          0.5089481891719458,
          0.5461184041732104,
          0.7479429057845732,
          0.8284466780634514,
          0.8284466780634514
         ],
         "yaxis": "y"
        }
       ],
       "layout": {
        "autosize": true,
        "legend": {
         "title": {
          "text": "Metric"
         },
         "tracegroupgap": 0
        },
        "plot_bgcolor": "rgb(245,245,245)",
        "template": {
         "data": {
          "bar": [
           {
            "error_x": {
             "color": "#2a3f5f"
            },
            "error_y": {
             "color": "#2a3f5f"
            },
            "marker": {
             "line": {
              "color": "#E5ECF6",
              "width": 0.5
             }
            },
            "type": "bar"
           }
          ],
          "barpolar": [
           {
            "marker": {
             "line": {
              "color": "#E5ECF6",
              "width": 0.5
             }
            },
            "type": "barpolar"
           }
          ],
          "carpet": [
           {
            "aaxis": {
             "endlinecolor": "#2a3f5f",
             "gridcolor": "white",
             "linecolor": "white",
             "minorgridcolor": "white",
             "startlinecolor": "#2a3f5f"
            },
            "baxis": {
             "endlinecolor": "#2a3f5f",
             "gridcolor": "white",
             "linecolor": "white",
             "minorgridcolor": "white",
             "startlinecolor": "#2a3f5f"
            },
            "type": "carpet"
           }
          ],
          "choropleth": [
           {
            "colorbar": {
             "outlinewidth": 0,
             "ticks": ""
            },
            "type": "choropleth"
           }
          ],
          "contour": [
           {
            "colorbar": {
             "outlinewidth": 0,
             "ticks": ""
            },
            "colorscale": [
             [
              0,
              "#0d0887"
             ],
             [
              0.1111111111111111,
              "#46039f"
             ],
             [
              0.2222222222222222,
              "#7201a8"
             ],
             [
              0.3333333333333333,
              "#9c179e"
             ],
             [
              0.4444444444444444,
              "#bd3786"
             ],
             [
              0.5555555555555556,
              "#d8576b"
             ],
             [
              0.6666666666666666,
              "#ed7953"
             ],
             [
              0.7777777777777778,
              "#fb9f3a"
             ],
             [
              0.8888888888888888,
              "#fdca26"
             ],
             [
              1,
              "#f0f921"
             ]
            ],
            "type": "contour"
           }
          ],
          "contourcarpet": [
           {
            "colorbar": {
             "outlinewidth": 0,
             "ticks": ""
            },
            "type": "contourcarpet"
           }
          ],
          "heatmap": [
           {
            "colorbar": {
             "outlinewidth": 0,
             "ticks": ""
            },
            "colorscale": [
             [
              0,
              "#0d0887"
             ],
             [
              0.1111111111111111,
              "#46039f"
             ],
             [
              0.2222222222222222,
              "#7201a8"
             ],
             [
              0.3333333333333333,
              "#9c179e"
             ],
             [
              0.4444444444444444,
              "#bd3786"
             ],
             [
              0.5555555555555556,
              "#d8576b"
             ],
             [
              0.6666666666666666,
              "#ed7953"
             ],
             [
              0.7777777777777778,
              "#fb9f3a"
             ],
             [
              0.8888888888888888,
              "#fdca26"
             ],
             [
              1,
              "#f0f921"
             ]
            ],
            "type": "heatmap"
           }
          ],
          "heatmapgl": [
           {
            "colorbar": {
             "outlinewidth": 0,
             "ticks": ""
            },
            "colorscale": [
             [
              0,
              "#0d0887"
             ],
             [
              0.1111111111111111,
              "#46039f"
             ],
             [
              0.2222222222222222,
              "#7201a8"
             ],
             [
              0.3333333333333333,
              "#9c179e"
             ],
             [
              0.4444444444444444,
              "#bd3786"
             ],
             [
              0.5555555555555556,
              "#d8576b"
             ],
             [
              0.6666666666666666,
              "#ed7953"
             ],
             [
              0.7777777777777778,
              "#fb9f3a"
             ],
             [
              0.8888888888888888,
              "#fdca26"
             ],
             [
              1,
              "#f0f921"
             ]
            ],
            "type": "heatmapgl"
           }
          ],
          "histogram": [
           {
            "marker": {
             "colorbar": {
              "outlinewidth": 0,
              "ticks": ""
             }
            },
            "type": "histogram"
           }
          ],
          "histogram2d": [
           {
            "colorbar": {
             "outlinewidth": 0,
             "ticks": ""
            },
            "colorscale": [
             [
              0,
              "#0d0887"
             ],
             [
              0.1111111111111111,
              "#46039f"
             ],
             [
              0.2222222222222222,
              "#7201a8"
             ],
             [
              0.3333333333333333,
              "#9c179e"
             ],
             [
              0.4444444444444444,
              "#bd3786"
             ],
             [
              0.5555555555555556,
              "#d8576b"
             ],
             [
              0.6666666666666666,
              "#ed7953"
             ],
             [
              0.7777777777777778,
              "#fb9f3a"
             ],
             [
              0.8888888888888888,
              "#fdca26"
             ],
             [
              1,
              "#f0f921"
             ]
            ],
            "type": "histogram2d"
           }
          ],
          "histogram2dcontour": [
           {
            "colorbar": {
             "outlinewidth": 0,
             "ticks": ""
            },
            "colorscale": [
             [
              0,
              "#0d0887"
             ],
             [
              0.1111111111111111,
              "#46039f"
             ],
             [
              0.2222222222222222,
              "#7201a8"
             ],
             [
              0.3333333333333333,
              "#9c179e"
             ],
             [
              0.4444444444444444,
              "#bd3786"
             ],
             [
              0.5555555555555556,
              "#d8576b"
             ],
             [
              0.6666666666666666,
              "#ed7953"
             ],
             [
              0.7777777777777778,
              "#fb9f3a"
             ],
             [
              0.8888888888888888,
              "#fdca26"
             ],
             [
              1,
              "#f0f921"
             ]
            ],
            "type": "histogram2dcontour"
           }
          ],
          "mesh3d": [
           {
            "colorbar": {
             "outlinewidth": 0,
             "ticks": ""
            },
            "type": "mesh3d"
           }
          ],
          "parcoords": [
           {
            "line": {
             "colorbar": {
              "outlinewidth": 0,
              "ticks": ""
             }
            },
            "type": "parcoords"
           }
          ],
          "pie": [
           {
            "automargin": true,
            "type": "pie"
           }
          ],
          "scatter": [
           {
            "marker": {
             "colorbar": {
              "outlinewidth": 0,
              "ticks": ""
             }
            },
            "type": "scatter"
           }
          ],
          "scatter3d": [
           {
            "line": {
             "colorbar": {
              "outlinewidth": 0,
              "ticks": ""
             }
            },
            "marker": {
             "colorbar": {
              "outlinewidth": 0,
              "ticks": ""
             }
            },
            "type": "scatter3d"
           }
          ],
          "scattercarpet": [
           {
            "marker": {
             "colorbar": {
              "outlinewidth": 0,
              "ticks": ""
             }
            },
            "type": "scattercarpet"
           }
          ],
          "scattergeo": [
           {
            "marker": {
             "colorbar": {
              "outlinewidth": 0,
              "ticks": ""
             }
            },
            "type": "scattergeo"
           }
          ],
          "scattergl": [
           {
            "marker": {
             "colorbar": {
              "outlinewidth": 0,
              "ticks": ""
             }
            },
            "type": "scattergl"
           }
          ],
          "scattermapbox": [
           {
            "marker": {
             "colorbar": {
              "outlinewidth": 0,
              "ticks": ""
             }
            },
            "type": "scattermapbox"
           }
          ],
          "scatterpolar": [
           {
            "marker": {
             "colorbar": {
              "outlinewidth": 0,
              "ticks": ""
             }
            },
            "type": "scatterpolar"
           }
          ],
          "scatterpolargl": [
           {
            "marker": {
             "colorbar": {
              "outlinewidth": 0,
              "ticks": ""
             }
            },
            "type": "scatterpolargl"
           }
          ],
          "scatterternary": [
           {
            "marker": {
             "colorbar": {
              "outlinewidth": 0,
              "ticks": ""
             }
            },
            "type": "scatterternary"
           }
          ],
          "surface": [
           {
            "colorbar": {
             "outlinewidth": 0,
             "ticks": ""
            },
            "colorscale": [
             [
              0,
              "#0d0887"
             ],
             [
              0.1111111111111111,
              "#46039f"
             ],
             [
              0.2222222222222222,
              "#7201a8"
             ],
             [
              0.3333333333333333,
              "#9c179e"
             ],
             [
              0.4444444444444444,
              "#bd3786"
             ],
             [
              0.5555555555555556,
              "#d8576b"
             ],
             [
              0.6666666666666666,
              "#ed7953"
             ],
             [
              0.7777777777777778,
              "#fb9f3a"
             ],
             [
              0.8888888888888888,
              "#fdca26"
             ],
             [
              1,
              "#f0f921"
             ]
            ],
            "type": "surface"
           }
          ],
          "table": [
           {
            "cells": {
             "fill": {
              "color": "#EBF0F8"
             },
             "line": {
              "color": "white"
             }
            },
            "header": {
             "fill": {
              "color": "#C8D4E3"
             },
             "line": {
              "color": "white"
             }
            },
            "type": "table"
           }
          ]
         },
         "layout": {
          "annotationdefaults": {
           "arrowcolor": "#2a3f5f",
           "arrowhead": 0,
           "arrowwidth": 1
          },
          "autotypenumbers": "strict",
          "coloraxis": {
           "colorbar": {
            "outlinewidth": 0,
            "ticks": ""
           }
          },
          "colorscale": {
           "diverging": [
            [
             0,
             "#8e0152"
            ],
            [
             0.1,
             "#c51b7d"
            ],
            [
             0.2,
             "#de77ae"
            ],
            [
             0.3,
             "#f1b6da"
            ],
            [
             0.4,
             "#fde0ef"
            ],
            [
             0.5,
             "#f7f7f7"
            ],
            [
             0.6,
             "#e6f5d0"
            ],
            [
             0.7,
             "#b8e186"
            ],
            [
             0.8,
             "#7fbc41"
            ],
            [
             0.9,
             "#4d9221"
            ],
            [
             1,
             "#276419"
            ]
           ],
           "sequential": [
            [
             0,
             "#0d0887"
            ],
            [
             0.1111111111111111,
             "#46039f"
            ],
            [
             0.2222222222222222,
             "#7201a8"
            ],
            [
             0.3333333333333333,
             "#9c179e"
            ],
            [
             0.4444444444444444,
             "#bd3786"
            ],
            [
             0.5555555555555556,
             "#d8576b"
            ],
            [
             0.6666666666666666,
             "#ed7953"
            ],
            [
             0.7777777777777778,
             "#fb9f3a"
            ],
            [
             0.8888888888888888,
             "#fdca26"
            ],
            [
             1,
             "#f0f921"
            ]
           ],
           "sequentialminus": [
            [
             0,
             "#0d0887"
            ],
            [
             0.1111111111111111,
             "#46039f"
            ],
            [
             0.2222222222222222,
             "#7201a8"
            ],
            [
             0.3333333333333333,
             "#9c179e"
            ],
            [
             0.4444444444444444,
             "#bd3786"
            ],
            [
             0.5555555555555556,
             "#d8576b"
            ],
            [
             0.6666666666666666,
             "#ed7953"
            ],
            [
             0.7777777777777778,
             "#fb9f3a"
            ],
            [
             0.8888888888888888,
             "#fdca26"
            ],
            [
             1,
             "#f0f921"
            ]
           ]
          },
          "colorway": [
           "#636efa",
           "#EF553B",
           "#00cc96",
           "#ab63fa",
           "#FFA15A",
           "#19d3f3",
           "#FF6692",
           "#B6E880",
           "#FF97FF",
           "#FECB52"
          ],
          "font": {
           "color": "#2a3f5f"
          },
          "geo": {
           "bgcolor": "white",
           "lakecolor": "white",
           "landcolor": "#E5ECF6",
           "showlakes": true,
           "showland": true,
           "subunitcolor": "white"
          },
          "hoverlabel": {
           "align": "left"
          },
          "hovermode": "closest",
          "mapbox": {
           "style": "light"
          },
          "paper_bgcolor": "white",
          "plot_bgcolor": "#E5ECF6",
          "polar": {
           "angularaxis": {
            "gridcolor": "white",
            "linecolor": "white",
            "ticks": ""
           },
           "bgcolor": "#E5ECF6",
           "radialaxis": {
            "gridcolor": "white",
            "linecolor": "white",
            "ticks": ""
           }
          },
          "scene": {
           "xaxis": {
            "backgroundcolor": "#E5ECF6",
            "gridcolor": "white",
            "gridwidth": 2,
            "linecolor": "white",
            "showbackground": true,
            "ticks": "",
            "zerolinecolor": "white"
           },
           "yaxis": {
            "backgroundcolor": "#E5ECF6",
            "gridcolor": "white",
            "gridwidth": 2,
            "linecolor": "white",
            "showbackground": true,
            "ticks": "",
            "zerolinecolor": "white"
           },
           "zaxis": {
            "backgroundcolor": "#E5ECF6",
            "gridcolor": "white",
            "gridwidth": 2,
            "linecolor": "white",
            "showbackground": true,
            "ticks": "",
            "zerolinecolor": "white"
           }
          },
          "shapedefaults": {
           "line": {
            "color": "#2a3f5f"
           }
          },
          "ternary": {
           "aaxis": {
            "gridcolor": "white",
            "linecolor": "white",
            "ticks": ""
           },
           "baxis": {
            "gridcolor": "white",
            "linecolor": "white",
            "ticks": ""
           },
           "bgcolor": "#E5ECF6",
           "caxis": {
            "gridcolor": "white",
            "linecolor": "white",
            "ticks": ""
           }
          },
          "title": {
           "x": 0.05
          },
          "xaxis": {
           "automargin": true,
           "gridcolor": "white",
           "linecolor": "white",
           "ticks": "",
           "title": {
            "standoff": 15
           },
           "zerolinecolor": "white",
           "zerolinewidth": 2
          },
          "yaxis": {
           "automargin": true,
           "gridcolor": "white",
           "linecolor": "white",
           "ticks": "",
           "title": {
            "standoff": 15
           },
           "zerolinecolor": "white",
           "zerolinewidth": 2
          }
         }
        },
        "title": {
         "text": "Coherence Value and # of Topics"
        },
        "xaxis": {
         "anchor": "y",
         "autorange": true,
         "domain": [
          0,
          1
         ],
         "range": [
          2,
          400
         ],
         "title": {
          "text": "# Topics"
         },
         "type": "linear"
        },
        "yaxis": {
         "anchor": "x",
         "autorange": true,
         "domain": [
          0,
          1
         ],
         "range": [
          0.43401942742013155,
          0.8492060070446787
         ],
         "title": {
          "text": "Score"
         },
         "type": "linear"
        }
       }
      },
      "text/html": [
       "<div>                            <div id=\"be662f7d-c81d-4a90-914b-f6d09c545b26\" class=\"plotly-graph-div\" style=\"height:525px; width:100%;\"></div>            <script type=\"text/javascript\">                require([\"plotly\"], function(Plotly) {                    window.PLOTLYENV=window.PLOTLYENV || {};                                    if (document.getElementById(\"be662f7d-c81d-4a90-914b-f6d09c545b26\")) {                    Plotly.newPlot(                        \"be662f7d-c81d-4a90-914b-f6d09c545b26\",                        [{\"hovertemplate\": \"Metric=Coherence<br># Topics=%{x}<br>Score=%{y}<extra></extra>\", \"legendgroup\": \"Coherence\", \"line\": {\"color\": \"#636efa\", \"dash\": \"solid\", \"shape\": \"linear\"}, \"mode\": \"lines\", \"name\": \"Coherence\", \"orientation\": \"v\", \"showlegend\": true, \"type\": \"scatter\", \"x\": [2, 4, 8, 16, 32, 64, 100, 200, 300, 400], \"xaxis\": \"x\", \"y\": [0.48135628995413826, 0.4547787564013589, 0.4657197151604905, 0.5348846036738764, 0.5591942465007111, 0.5089481891719458, 0.5461184041732104, 0.7479429057845732, 0.8284466780634514, 0.8284466780634514], \"yaxis\": \"y\"}],                        {\"legend\": {\"title\": {\"text\": \"Metric\"}, \"tracegroupgap\": 0}, \"plot_bgcolor\": \"rgb(245,245,245)\", \"template\": {\"data\": {\"bar\": [{\"error_x\": {\"color\": \"#2a3f5f\"}, \"error_y\": {\"color\": \"#2a3f5f\"}, \"marker\": {\"line\": {\"color\": \"#E5ECF6\", \"width\": 0.5}}, \"type\": \"bar\"}], \"barpolar\": [{\"marker\": {\"line\": {\"color\": \"#E5ECF6\", \"width\": 0.5}}, \"type\": \"barpolar\"}], \"carpet\": [{\"aaxis\": {\"endlinecolor\": \"#2a3f5f\", \"gridcolor\": \"white\", \"linecolor\": \"white\", \"minorgridcolor\": \"white\", \"startlinecolor\": \"#2a3f5f\"}, \"baxis\": {\"endlinecolor\": \"#2a3f5f\", \"gridcolor\": \"white\", \"linecolor\": \"white\", \"minorgridcolor\": \"white\", \"startlinecolor\": \"#2a3f5f\"}, \"type\": \"carpet\"}], \"choropleth\": [{\"colorbar\": {\"outlinewidth\": 0, \"ticks\": \"\"}, \"type\": \"choropleth\"}], \"contour\": [{\"colorbar\": {\"outlinewidth\": 0, \"ticks\": \"\"}, \"colorscale\": [[0.0, \"#0d0887\"], [0.1111111111111111, \"#46039f\"], [0.2222222222222222, \"#7201a8\"], [0.3333333333333333, \"#9c179e\"], [0.4444444444444444, \"#bd3786\"], [0.5555555555555556, \"#d8576b\"], [0.6666666666666666, \"#ed7953\"], [0.7777777777777778, \"#fb9f3a\"], [0.8888888888888888, \"#fdca26\"], [1.0, \"#f0f921\"]], \"type\": \"contour\"}], \"contourcarpet\": [{\"colorbar\": {\"outlinewidth\": 0, \"ticks\": \"\"}, \"type\": \"contourcarpet\"}], \"heatmap\": [{\"colorbar\": {\"outlinewidth\": 0, \"ticks\": \"\"}, \"colorscale\": [[0.0, \"#0d0887\"], [0.1111111111111111, \"#46039f\"], [0.2222222222222222, \"#7201a8\"], [0.3333333333333333, \"#9c179e\"], [0.4444444444444444, \"#bd3786\"], [0.5555555555555556, \"#d8576b\"], [0.6666666666666666, \"#ed7953\"], [0.7777777777777778, \"#fb9f3a\"], [0.8888888888888888, \"#fdca26\"], [1.0, \"#f0f921\"]], \"type\": \"heatmap\"}], \"heatmapgl\": [{\"colorbar\": {\"outlinewidth\": 0, \"ticks\": \"\"}, \"colorscale\": [[0.0, \"#0d0887\"], [0.1111111111111111, \"#46039f\"], [0.2222222222222222, \"#7201a8\"], [0.3333333333333333, \"#9c179e\"], [0.4444444444444444, \"#bd3786\"], [0.5555555555555556, \"#d8576b\"], [0.6666666666666666, \"#ed7953\"], [0.7777777777777778, \"#fb9f3a\"], [0.8888888888888888, \"#fdca26\"], [1.0, \"#f0f921\"]], \"type\": \"heatmapgl\"}], \"histogram\": [{\"marker\": {\"colorbar\": {\"outlinewidth\": 0, \"ticks\": \"\"}}, \"type\": \"histogram\"}], \"histogram2d\": [{\"colorbar\": {\"outlinewidth\": 0, \"ticks\": \"\"}, \"colorscale\": [[0.0, \"#0d0887\"], [0.1111111111111111, \"#46039f\"], [0.2222222222222222, \"#7201a8\"], [0.3333333333333333, \"#9c179e\"], [0.4444444444444444, \"#bd3786\"], [0.5555555555555556, \"#d8576b\"], [0.6666666666666666, \"#ed7953\"], [0.7777777777777778, \"#fb9f3a\"], [0.8888888888888888, \"#fdca26\"], [1.0, \"#f0f921\"]], \"type\": \"histogram2d\"}], \"histogram2dcontour\": [{\"colorbar\": {\"outlinewidth\": 0, \"ticks\": \"\"}, \"colorscale\": [[0.0, \"#0d0887\"], [0.1111111111111111, \"#46039f\"], [0.2222222222222222, \"#7201a8\"], [0.3333333333333333, \"#9c179e\"], [0.4444444444444444, \"#bd3786\"], [0.5555555555555556, \"#d8576b\"], [0.6666666666666666, \"#ed7953\"], [0.7777777777777778, \"#fb9f3a\"], [0.8888888888888888, \"#fdca26\"], [1.0, \"#f0f921\"]], \"type\": \"histogram2dcontour\"}], \"mesh3d\": [{\"colorbar\": {\"outlinewidth\": 0, \"ticks\": \"\"}, \"type\": \"mesh3d\"}], \"parcoords\": [{\"line\": {\"colorbar\": {\"outlinewidth\": 0, \"ticks\": \"\"}}, \"type\": \"parcoords\"}], \"pie\": [{\"automargin\": true, \"type\": \"pie\"}], \"scatter\": [{\"marker\": {\"colorbar\": {\"outlinewidth\": 0, \"ticks\": \"\"}}, \"type\": \"scatter\"}], \"scatter3d\": [{\"line\": {\"colorbar\": {\"outlinewidth\": 0, \"ticks\": \"\"}}, \"marker\": {\"colorbar\": {\"outlinewidth\": 0, \"ticks\": \"\"}}, \"type\": \"scatter3d\"}], \"scattercarpet\": [{\"marker\": {\"colorbar\": {\"outlinewidth\": 0, \"ticks\": \"\"}}, \"type\": \"scattercarpet\"}], \"scattergeo\": [{\"marker\": {\"colorbar\": {\"outlinewidth\": 0, \"ticks\": \"\"}}, \"type\": \"scattergeo\"}], \"scattergl\": [{\"marker\": {\"colorbar\": {\"outlinewidth\": 0, \"ticks\": \"\"}}, \"type\": \"scattergl\"}], \"scattermapbox\": [{\"marker\": {\"colorbar\": {\"outlinewidth\": 0, \"ticks\": \"\"}}, \"type\": \"scattermapbox\"}], \"scatterpolar\": [{\"marker\": {\"colorbar\": {\"outlinewidth\": 0, \"ticks\": \"\"}}, \"type\": \"scatterpolar\"}], \"scatterpolargl\": [{\"marker\": {\"colorbar\": {\"outlinewidth\": 0, \"ticks\": \"\"}}, \"type\": \"scatterpolargl\"}], \"scatterternary\": [{\"marker\": {\"colorbar\": {\"outlinewidth\": 0, \"ticks\": \"\"}}, \"type\": \"scatterternary\"}], \"surface\": [{\"colorbar\": {\"outlinewidth\": 0, \"ticks\": \"\"}, \"colorscale\": [[0.0, \"#0d0887\"], [0.1111111111111111, \"#46039f\"], [0.2222222222222222, \"#7201a8\"], [0.3333333333333333, \"#9c179e\"], [0.4444444444444444, \"#bd3786\"], [0.5555555555555556, \"#d8576b\"], [0.6666666666666666, \"#ed7953\"], [0.7777777777777778, \"#fb9f3a\"], [0.8888888888888888, \"#fdca26\"], [1.0, \"#f0f921\"]], \"type\": \"surface\"}], \"table\": [{\"cells\": {\"fill\": {\"color\": \"#EBF0F8\"}, \"line\": {\"color\": \"white\"}}, \"header\": {\"fill\": {\"color\": \"#C8D4E3\"}, \"line\": {\"color\": \"white\"}}, \"type\": \"table\"}]}, \"layout\": {\"annotationdefaults\": {\"arrowcolor\": \"#2a3f5f\", \"arrowhead\": 0, \"arrowwidth\": 1}, \"autotypenumbers\": \"strict\", \"coloraxis\": {\"colorbar\": {\"outlinewidth\": 0, \"ticks\": \"\"}}, \"colorscale\": {\"diverging\": [[0, \"#8e0152\"], [0.1, \"#c51b7d\"], [0.2, \"#de77ae\"], [0.3, \"#f1b6da\"], [0.4, \"#fde0ef\"], [0.5, \"#f7f7f7\"], [0.6, \"#e6f5d0\"], [0.7, \"#b8e186\"], [0.8, \"#7fbc41\"], [0.9, \"#4d9221\"], [1, \"#276419\"]], \"sequential\": [[0.0, \"#0d0887\"], [0.1111111111111111, \"#46039f\"], [0.2222222222222222, \"#7201a8\"], [0.3333333333333333, \"#9c179e\"], [0.4444444444444444, \"#bd3786\"], [0.5555555555555556, \"#d8576b\"], [0.6666666666666666, \"#ed7953\"], [0.7777777777777778, \"#fb9f3a\"], [0.8888888888888888, \"#fdca26\"], [1.0, \"#f0f921\"]], \"sequentialminus\": [[0.0, \"#0d0887\"], [0.1111111111111111, \"#46039f\"], [0.2222222222222222, \"#7201a8\"], [0.3333333333333333, \"#9c179e\"], [0.4444444444444444, \"#bd3786\"], [0.5555555555555556, \"#d8576b\"], [0.6666666666666666, \"#ed7953\"], [0.7777777777777778, \"#fb9f3a\"], [0.8888888888888888, \"#fdca26\"], [1.0, \"#f0f921\"]]}, \"colorway\": [\"#636efa\", \"#EF553B\", \"#00cc96\", \"#ab63fa\", \"#FFA15A\", \"#19d3f3\", \"#FF6692\", \"#B6E880\", \"#FF97FF\", \"#FECB52\"], \"font\": {\"color\": \"#2a3f5f\"}, \"geo\": {\"bgcolor\": \"white\", \"lakecolor\": \"white\", \"landcolor\": \"#E5ECF6\", \"showlakes\": true, \"showland\": true, \"subunitcolor\": \"white\"}, \"hoverlabel\": {\"align\": \"left\"}, \"hovermode\": \"closest\", \"mapbox\": {\"style\": \"light\"}, \"paper_bgcolor\": \"white\", \"plot_bgcolor\": \"#E5ECF6\", \"polar\": {\"angularaxis\": {\"gridcolor\": \"white\", \"linecolor\": \"white\", \"ticks\": \"\"}, \"bgcolor\": \"#E5ECF6\", \"radialaxis\": {\"gridcolor\": \"white\", \"linecolor\": \"white\", \"ticks\": \"\"}}, \"scene\": {\"xaxis\": {\"backgroundcolor\": \"#E5ECF6\", \"gridcolor\": \"white\", \"gridwidth\": 2, \"linecolor\": \"white\", \"showbackground\": true, \"ticks\": \"\", \"zerolinecolor\": \"white\"}, \"yaxis\": {\"backgroundcolor\": \"#E5ECF6\", \"gridcolor\": \"white\", \"gridwidth\": 2, \"linecolor\": \"white\", \"showbackground\": true, \"ticks\": \"\", \"zerolinecolor\": \"white\"}, \"zaxis\": {\"backgroundcolor\": \"#E5ECF6\", \"gridcolor\": \"white\", \"gridwidth\": 2, \"linecolor\": \"white\", \"showbackground\": true, \"ticks\": \"\", \"zerolinecolor\": \"white\"}}, \"shapedefaults\": {\"line\": {\"color\": \"#2a3f5f\"}}, \"ternary\": {\"aaxis\": {\"gridcolor\": \"white\", \"linecolor\": \"white\", \"ticks\": \"\"}, \"baxis\": {\"gridcolor\": \"white\", \"linecolor\": \"white\", \"ticks\": \"\"}, \"bgcolor\": \"#E5ECF6\", \"caxis\": {\"gridcolor\": \"white\", \"linecolor\": \"white\", \"ticks\": \"\"}}, \"title\": {\"x\": 0.05}, \"xaxis\": {\"automargin\": true, \"gridcolor\": \"white\", \"linecolor\": \"white\", \"ticks\": \"\", \"title\": {\"standoff\": 15}, \"zerolinecolor\": \"white\", \"zerolinewidth\": 2}, \"yaxis\": {\"automargin\": true, \"gridcolor\": \"white\", \"linecolor\": \"white\", \"ticks\": \"\", \"title\": {\"standoff\": 15}, \"zerolinecolor\": \"white\", \"zerolinewidth\": 2}}}, \"title\": {\"text\": \"Coherence Value and # of Topics\"}, \"xaxis\": {\"anchor\": \"y\", \"domain\": [0.0, 1.0], \"title\": {\"text\": \"# Topics\"}}, \"yaxis\": {\"anchor\": \"x\", \"domain\": [0.0, 1.0], \"title\": {\"text\": \"Score\"}}},                        {\"responsive\": true}                    ).then(function(){\n",
       "                            \n",
       "var gd = document.getElementById('be662f7d-c81d-4a90-914b-f6d09c545b26');\n",
       "var x = new MutationObserver(function (mutations, observer) {{\n",
       "        var display = window.getComputedStyle(gd).display;\n",
       "        if (!display || display === 'none') {{\n",
       "            console.log([gd, 'removed!']);\n",
       "            Plotly.purge(gd);\n",
       "            observer.disconnect();\n",
       "        }}\n",
       "}});\n",
       "\n",
       "// Listen for the removal of the full notebook cells\n",
       "var notebookContainer = gd.closest('#notebook-container');\n",
       "if (notebookContainer) {{\n",
       "    x.observe(notebookContainer, {childList: true});\n",
       "}}\n",
       "\n",
       "// Listen for the clearing of the current output cell\n",
       "var outputEl = gd.closest('.output');\n",
       "if (outputEl) {{\n",
       "    x.observe(outputEl, {childList: true});\n",
       "}}\n",
       "\n",
       "                        })                };                });            </script>        </div>"
      ]
     },
     "metadata": {},
     "output_type": "display_data"
    },
    {
     "name": "stdout",
     "output_type": "stream",
     "text": [
      "Best Model: Latent Dirichlet Allocation | # Topics: 300 | Coherence: 0.8284\n"
     ]
    }
   ],
   "source": [
    "tuned_model_x = tune_model(model='lda',multi_core=True)"
   ]
  },
  {
   "cell_type": "code",
   "execution_count": 33,
   "metadata": {},
   "outputs": [
    {
     "data": {
      "application/vnd.jupyter.widget-view+json": {
       "model_id": "849b91fe87eb4d6c8742245981fe414a",
       "version_major": 2,
       "version_minor": 0
      },
      "text/plain": [
       "interactive(children=(ToggleButtons(description='Plot Type:', icons=('',), options=(('Frequency Plot', 'freque…"
      ]
     },
     "metadata": {},
     "output_type": "display_data"
    }
   ],
   "source": [
    "evaluate_model(tuned_model_x)"
   ]
  },
  {
   "cell_type": "markdown",
   "metadata": {},
   "source": [
    "Based on the F1-Score, the model doesn't have a hievaluate_model variation on the score, so I will use 4 topics, to keep it simples.<br>\n",
    "Time to create a LDA model with 4 topics and see some informations about the topic modelled data.<br>\n",
    "You can click on each box to see infos like frequency of a word, word cloud, etc.<br>"
   ]
  },
  {
   "cell_type": "code",
   "execution_count": 34,
   "metadata": {},
   "outputs": [],
   "source": [
    "model_x = create_model('lda', num_topics=4)"
   ]
  },
  {
   "cell_type": "markdown",
   "metadata": {},
   "source": [
    "The model is assigned to the topic weights and other infos to use after in the classification task."
   ]
  },
  {
   "cell_type": "code",
   "execution_count": 35,
   "metadata": {},
   "outputs": [],
   "source": [
    "model_x_results = assign_model(model_x)"
   ]
  },
  {
   "cell_type": "markdown",
   "metadata": {},
   "source": [
    "Now, all the steps are made again for the `description_y`."
   ]
  },
  {
   "cell_type": "code",
   "execution_count": 36,
   "metadata": {},
   "outputs": [
    {
     "data": {
      "text/html": [
       "<style  type=\"text/css\" >\n",
       "</style><table id=\"T_e7aa8_\" ><thead>    <tr>        <th class=\"col_heading level0 col0\" >Description</th>        <th class=\"col_heading level0 col1\" >Value</th>    </tr></thead><tbody>\n",
       "                <tr>\n",
       "                                <td id=\"T_e7aa8_row0_col0\" class=\"data row0 col0\" >session_id</td>\n",
       "                        <td id=\"T_e7aa8_row0_col1\" class=\"data row0 col1\" >2826</td>\n",
       "            </tr>\n",
       "            <tr>\n",
       "                                <td id=\"T_e7aa8_row1_col0\" class=\"data row1 col0\" >Documents</td>\n",
       "                        <td id=\"T_e7aa8_row1_col1\" class=\"data row1 col1\" >2142</td>\n",
       "            </tr>\n",
       "            <tr>\n",
       "                                <td id=\"T_e7aa8_row2_col0\" class=\"data row2 col0\" >Vocab Size</td>\n",
       "                        <td id=\"T_e7aa8_row2_col1\" class=\"data row2 col1\" >1168</td>\n",
       "            </tr>\n",
       "            <tr>\n",
       "                                <td id=\"T_e7aa8_row3_col0\" class=\"data row3 col0\" >Custom Stopwords</td>\n",
       "                        <td id=\"T_e7aa8_row3_col1\" class=\"data row3 col1\" >False</td>\n",
       "            </tr>\n",
       "    </tbody></table>"
      ],
      "text/plain": [
       "<pandas.io.formats.style.Styler at 0x7fc0ecadce80>"
      ]
     },
     "metadata": {},
     "output_type": "display_data"
    }
   ],
   "source": [
    "exp_y = setup(data=data, target='description_y')"
   ]
  },
  {
   "cell_type": "markdown",
   "metadata": {},
   "source": [
    "Again, 310 words are present in the vocabulary for `sentence_y`."
   ]
  },
  {
   "cell_type": "code",
   "execution_count": 44,
   "metadata": {},
   "outputs": [
    {
     "data": {
      "application/vnd.jupyter.widget-view+json": {
       "model_id": "",
       "version_major": 2,
       "version_minor": 0
      },
      "text/plain": [
       "IntProgress(value=0, description='Processing: ', max=25)"
      ]
     },
     "metadata": {},
     "output_type": "display_data"
    },
    {
     "data": {
      "application/vnd.jupyter.widget-view+json": {
       "model_id": "1374c152a9af4fd5ad340cee35761496",
       "version_major": 2,
       "version_minor": 0
      },
      "text/plain": [
       "Output()"
      ]
     },
     "metadata": {},
     "output_type": "display_data"
    },
    {
     "data": {
      "text/html": [
       "        <script type=\"text/javascript\">\n",
       "        window.PlotlyConfig = {MathJaxConfig: 'local'};\n",
       "        if (window.MathJax) {MathJax.Hub.Config({SVG: {font: \"STIX-Web\"}});}\n",
       "        if (typeof require !== 'undefined') {\n",
       "        require.undef(\"plotly\");\n",
       "        requirejs.config({\n",
       "            paths: {\n",
       "                'plotly': ['https://cdn.plot.ly/plotly-latest.min']\n",
       "            }\n",
       "        });\n",
       "        require(['plotly'], function(Plotly) {\n",
       "            window._Plotly = Plotly;\n",
       "        });\n",
       "        }\n",
       "        </script>\n",
       "        "
      ]
     },
     "metadata": {},
     "output_type": "display_data"
    },
    {
     "data": {
      "application/vnd.plotly.v1+json": {
       "config": {
        "plotlyServerURL": "https://plot.ly"
       },
       "data": [
        {
         "hovertemplate": "Metric=Coherence<br># Topics=%{x}<br>Score=%{y}<extra></extra>",
         "legendgroup": "Coherence",
         "line": {
          "color": "#636efa",
          "dash": "solid",
          "shape": "linear"
         },
         "mode": "lines",
         "name": "Coherence",
         "orientation": "v",
         "showlegend": true,
         "type": "scatter",
         "x": [
          2,
          4,
          8,
          16,
          32,
          64,
          100,
          200,
          300,
          400
         ],
         "xaxis": "x",
         "y": [
          0.409921967149828,
          0.43934955708286605,
          0.4698602722139489,
          0.5242485519404203,
          0.5617427556661798,
          0.4996727748346486,
          0.5509098439402451,
          0.7409500461721973,
          0.8189359210922709,
          0.8189359210922709
         ],
         "yaxis": "y"
        }
       ],
       "layout": {
        "autosize": true,
        "legend": {
         "title": {
          "text": "Metric"
         },
         "tracegroupgap": 0
        },
        "plot_bgcolor": "rgb(245,245,245)",
        "template": {
         "data": {
          "bar": [
           {
            "error_x": {
             "color": "#2a3f5f"
            },
            "error_y": {
             "color": "#2a3f5f"
            },
            "marker": {
             "line": {
              "color": "#E5ECF6",
              "width": 0.5
             }
            },
            "type": "bar"
           }
          ],
          "barpolar": [
           {
            "marker": {
             "line": {
              "color": "#E5ECF6",
              "width": 0.5
             }
            },
            "type": "barpolar"
           }
          ],
          "carpet": [
           {
            "aaxis": {
             "endlinecolor": "#2a3f5f",
             "gridcolor": "white",
             "linecolor": "white",
             "minorgridcolor": "white",
             "startlinecolor": "#2a3f5f"
            },
            "baxis": {
             "endlinecolor": "#2a3f5f",
             "gridcolor": "white",
             "linecolor": "white",
             "minorgridcolor": "white",
             "startlinecolor": "#2a3f5f"
            },
            "type": "carpet"
           }
          ],
          "choropleth": [
           {
            "colorbar": {
             "outlinewidth": 0,
             "ticks": ""
            },
            "type": "choropleth"
           }
          ],
          "contour": [
           {
            "colorbar": {
             "outlinewidth": 0,
             "ticks": ""
            },
            "colorscale": [
             [
              0,
              "#0d0887"
             ],
             [
              0.1111111111111111,
              "#46039f"
             ],
             [
              0.2222222222222222,
              "#7201a8"
             ],
             [
              0.3333333333333333,
              "#9c179e"
             ],
             [
              0.4444444444444444,
              "#bd3786"
             ],
             [
              0.5555555555555556,
              "#d8576b"
             ],
             [
              0.6666666666666666,
              "#ed7953"
             ],
             [
              0.7777777777777778,
              "#fb9f3a"
             ],
             [
              0.8888888888888888,
              "#fdca26"
             ],
             [
              1,
              "#f0f921"
             ]
            ],
            "type": "contour"
           }
          ],
          "contourcarpet": [
           {
            "colorbar": {
             "outlinewidth": 0,
             "ticks": ""
            },
            "type": "contourcarpet"
           }
          ],
          "heatmap": [
           {
            "colorbar": {
             "outlinewidth": 0,
             "ticks": ""
            },
            "colorscale": [
             [
              0,
              "#0d0887"
             ],
             [
              0.1111111111111111,
              "#46039f"
             ],
             [
              0.2222222222222222,
              "#7201a8"
             ],
             [
              0.3333333333333333,
              "#9c179e"
             ],
             [
              0.4444444444444444,
              "#bd3786"
             ],
             [
              0.5555555555555556,
              "#d8576b"
             ],
             [
              0.6666666666666666,
              "#ed7953"
             ],
             [
              0.7777777777777778,
              "#fb9f3a"
             ],
             [
              0.8888888888888888,
              "#fdca26"
             ],
             [
              1,
              "#f0f921"
             ]
            ],
            "type": "heatmap"
           }
          ],
          "heatmapgl": [
           {
            "colorbar": {
             "outlinewidth": 0,
             "ticks": ""
            },
            "colorscale": [
             [
              0,
              "#0d0887"
             ],
             [
              0.1111111111111111,
              "#46039f"
             ],
             [
              0.2222222222222222,
              "#7201a8"
             ],
             [
              0.3333333333333333,
              "#9c179e"
             ],
             [
              0.4444444444444444,
              "#bd3786"
             ],
             [
              0.5555555555555556,
              "#d8576b"
             ],
             [
              0.6666666666666666,
              "#ed7953"
             ],
             [
              0.7777777777777778,
              "#fb9f3a"
             ],
             [
              0.8888888888888888,
              "#fdca26"
             ],
             [
              1,
              "#f0f921"
             ]
            ],
            "type": "heatmapgl"
           }
          ],
          "histogram": [
           {
            "marker": {
             "colorbar": {
              "outlinewidth": 0,
              "ticks": ""
             }
            },
            "type": "histogram"
           }
          ],
          "histogram2d": [
           {
            "colorbar": {
             "outlinewidth": 0,
             "ticks": ""
            },
            "colorscale": [
             [
              0,
              "#0d0887"
             ],
             [
              0.1111111111111111,
              "#46039f"
             ],
             [
              0.2222222222222222,
              "#7201a8"
             ],
             [
              0.3333333333333333,
              "#9c179e"
             ],
             [
              0.4444444444444444,
              "#bd3786"
             ],
             [
              0.5555555555555556,
              "#d8576b"
             ],
             [
              0.6666666666666666,
              "#ed7953"
             ],
             [
              0.7777777777777778,
              "#fb9f3a"
             ],
             [
              0.8888888888888888,
              "#fdca26"
             ],
             [
              1,
              "#f0f921"
             ]
            ],
            "type": "histogram2d"
           }
          ],
          "histogram2dcontour": [
           {
            "colorbar": {
             "outlinewidth": 0,
             "ticks": ""
            },
            "colorscale": [
             [
              0,
              "#0d0887"
             ],
             [
              0.1111111111111111,
              "#46039f"
             ],
             [
              0.2222222222222222,
              "#7201a8"
             ],
             [
              0.3333333333333333,
              "#9c179e"
             ],
             [
              0.4444444444444444,
              "#bd3786"
             ],
             [
              0.5555555555555556,
              "#d8576b"
             ],
             [
              0.6666666666666666,
              "#ed7953"
             ],
             [
              0.7777777777777778,
              "#fb9f3a"
             ],
             [
              0.8888888888888888,
              "#fdca26"
             ],
             [
              1,
              "#f0f921"
             ]
            ],
            "type": "histogram2dcontour"
           }
          ],
          "mesh3d": [
           {
            "colorbar": {
             "outlinewidth": 0,
             "ticks": ""
            },
            "type": "mesh3d"
           }
          ],
          "parcoords": [
           {
            "line": {
             "colorbar": {
              "outlinewidth": 0,
              "ticks": ""
             }
            },
            "type": "parcoords"
           }
          ],
          "pie": [
           {
            "automargin": true,
            "type": "pie"
           }
          ],
          "scatter": [
           {
            "marker": {
             "colorbar": {
              "outlinewidth": 0,
              "ticks": ""
             }
            },
            "type": "scatter"
           }
          ],
          "scatter3d": [
           {
            "line": {
             "colorbar": {
              "outlinewidth": 0,
              "ticks": ""
             }
            },
            "marker": {
             "colorbar": {
              "outlinewidth": 0,
              "ticks": ""
             }
            },
            "type": "scatter3d"
           }
          ],
          "scattercarpet": [
           {
            "marker": {
             "colorbar": {
              "outlinewidth": 0,
              "ticks": ""
             }
            },
            "type": "scattercarpet"
           }
          ],
          "scattergeo": [
           {
            "marker": {
             "colorbar": {
              "outlinewidth": 0,
              "ticks": ""
             }
            },
            "type": "scattergeo"
           }
          ],
          "scattergl": [
           {
            "marker": {
             "colorbar": {
              "outlinewidth": 0,
              "ticks": ""
             }
            },
            "type": "scattergl"
           }
          ],
          "scattermapbox": [
           {
            "marker": {
             "colorbar": {
              "outlinewidth": 0,
              "ticks": ""
             }
            },
            "type": "scattermapbox"
           }
          ],
          "scatterpolar": [
           {
            "marker": {
             "colorbar": {
              "outlinewidth": 0,
              "ticks": ""
             }
            },
            "type": "scatterpolar"
           }
          ],
          "scatterpolargl": [
           {
            "marker": {
             "colorbar": {
              "outlinewidth": 0,
              "ticks": ""
             }
            },
            "type": "scatterpolargl"
           }
          ],
          "scatterternary": [
           {
            "marker": {
             "colorbar": {
              "outlinewidth": 0,
              "ticks": ""
             }
            },
            "type": "scatterternary"
           }
          ],
          "surface": [
           {
            "colorbar": {
             "outlinewidth": 0,
             "ticks": ""
            },
            "colorscale": [
             [
              0,
              "#0d0887"
             ],
             [
              0.1111111111111111,
              "#46039f"
             ],
             [
              0.2222222222222222,
              "#7201a8"
             ],
             [
              0.3333333333333333,
              "#9c179e"
             ],
             [
              0.4444444444444444,
              "#bd3786"
             ],
             [
              0.5555555555555556,
              "#d8576b"
             ],
             [
              0.6666666666666666,
              "#ed7953"
             ],
             [
              0.7777777777777778,
              "#fb9f3a"
             ],
             [
              0.8888888888888888,
              "#fdca26"
             ],
             [
              1,
              "#f0f921"
             ]
            ],
            "type": "surface"
           }
          ],
          "table": [
           {
            "cells": {
             "fill": {
              "color": "#EBF0F8"
             },
             "line": {
              "color": "white"
             }
            },
            "header": {
             "fill": {
              "color": "#C8D4E3"
             },
             "line": {
              "color": "white"
             }
            },
            "type": "table"
           }
          ]
         },
         "layout": {
          "annotationdefaults": {
           "arrowcolor": "#2a3f5f",
           "arrowhead": 0,
           "arrowwidth": 1
          },
          "autotypenumbers": "strict",
          "coloraxis": {
           "colorbar": {
            "outlinewidth": 0,
            "ticks": ""
           }
          },
          "colorscale": {
           "diverging": [
            [
             0,
             "#8e0152"
            ],
            [
             0.1,
             "#c51b7d"
            ],
            [
             0.2,
             "#de77ae"
            ],
            [
             0.3,
             "#f1b6da"
            ],
            [
             0.4,
             "#fde0ef"
            ],
            [
             0.5,
             "#f7f7f7"
            ],
            [
             0.6,
             "#e6f5d0"
            ],
            [
             0.7,
             "#b8e186"
            ],
            [
             0.8,
             "#7fbc41"
            ],
            [
             0.9,
             "#4d9221"
            ],
            [
             1,
             "#276419"
            ]
           ],
           "sequential": [
            [
             0,
             "#0d0887"
            ],
            [
             0.1111111111111111,
             "#46039f"
            ],
            [
             0.2222222222222222,
             "#7201a8"
            ],
            [
             0.3333333333333333,
             "#9c179e"
            ],
            [
             0.4444444444444444,
             "#bd3786"
            ],
            [
             0.5555555555555556,
             "#d8576b"
            ],
            [
             0.6666666666666666,
             "#ed7953"
            ],
            [
             0.7777777777777778,
             "#fb9f3a"
            ],
            [
             0.8888888888888888,
             "#fdca26"
            ],
            [
             1,
             "#f0f921"
            ]
           ],
           "sequentialminus": [
            [
             0,
             "#0d0887"
            ],
            [
             0.1111111111111111,
             "#46039f"
            ],
            [
             0.2222222222222222,
             "#7201a8"
            ],
            [
             0.3333333333333333,
             "#9c179e"
            ],
            [
             0.4444444444444444,
             "#bd3786"
            ],
            [
             0.5555555555555556,
             "#d8576b"
            ],
            [
             0.6666666666666666,
             "#ed7953"
            ],
            [
             0.7777777777777778,
             "#fb9f3a"
            ],
            [
             0.8888888888888888,
             "#fdca26"
            ],
            [
             1,
             "#f0f921"
            ]
           ]
          },
          "colorway": [
           "#636efa",
           "#EF553B",
           "#00cc96",
           "#ab63fa",
           "#FFA15A",
           "#19d3f3",
           "#FF6692",
           "#B6E880",
           "#FF97FF",
           "#FECB52"
          ],
          "font": {
           "color": "#2a3f5f"
          },
          "geo": {
           "bgcolor": "white",
           "lakecolor": "white",
           "landcolor": "#E5ECF6",
           "showlakes": true,
           "showland": true,
           "subunitcolor": "white"
          },
          "hoverlabel": {
           "align": "left"
          },
          "hovermode": "closest",
          "mapbox": {
           "style": "light"
          },
          "paper_bgcolor": "white",
          "plot_bgcolor": "#E5ECF6",
          "polar": {
           "angularaxis": {
            "gridcolor": "white",
            "linecolor": "white",
            "ticks": ""
           },
           "bgcolor": "#E5ECF6",
           "radialaxis": {
            "gridcolor": "white",
            "linecolor": "white",
            "ticks": ""
           }
          },
          "scene": {
           "xaxis": {
            "backgroundcolor": "#E5ECF6",
            "gridcolor": "white",
            "gridwidth": 2,
            "linecolor": "white",
            "showbackground": true,
            "ticks": "",
            "zerolinecolor": "white"
           },
           "yaxis": {
            "backgroundcolor": "#E5ECF6",
            "gridcolor": "white",
            "gridwidth": 2,
            "linecolor": "white",
            "showbackground": true,
            "ticks": "",
            "zerolinecolor": "white"
           },
           "zaxis": {
            "backgroundcolor": "#E5ECF6",
            "gridcolor": "white",
            "gridwidth": 2,
            "linecolor": "white",
            "showbackground": true,
            "ticks": "",
            "zerolinecolor": "white"
           }
          },
          "shapedefaults": {
           "line": {
            "color": "#2a3f5f"
           }
          },
          "ternary": {
           "aaxis": {
            "gridcolor": "white",
            "linecolor": "white",
            "ticks": ""
           },
           "baxis": {
            "gridcolor": "white",
            "linecolor": "white",
            "ticks": ""
           },
           "bgcolor": "#E5ECF6",
           "caxis": {
            "gridcolor": "white",
            "linecolor": "white",
            "ticks": ""
           }
          },
          "title": {
           "x": 0.05
          },
          "xaxis": {
           "automargin": true,
           "gridcolor": "white",
           "linecolor": "white",
           "ticks": "",
           "title": {
            "standoff": 15
           },
           "zerolinecolor": "white",
           "zerolinewidth": 2
          },
          "yaxis": {
           "automargin": true,
           "gridcolor": "white",
           "linecolor": "white",
           "ticks": "",
           "title": {
            "standoff": 15
           },
           "zerolinecolor": "white",
           "zerolinewidth": 2
          }
         }
        },
        "title": {
         "text": "Coherence Value and # of Topics"
        },
        "xaxis": {
         "anchor": "y",
         "autorange": true,
         "domain": [
          0,
          1
         ],
         "range": [
          2,
          400
         ],
         "title": {
          "text": "# Topics"
         },
         "type": "linear"
        },
        "yaxis": {
         "anchor": "x",
         "autorange": true,
         "domain": [
          0,
          1
         ],
         "range": [
          0.38719896970858114,
          0.8416589185335177
         ],
         "title": {
          "text": "Score"
         },
         "type": "linear"
        }
       }
      },
      "image/png": "[encoded data removed]",
      "text/html": [
       "<div>                            <div id=\"ec251d4d-f1e5-4a3c-a15b-6c20bf73dbb2\" class=\"plotly-graph-div\" style=\"height:525px; width:100%;\"></div>            <script type=\"text/javascript\">                require([\"plotly\"], function(Plotly) {                    window.PLOTLYENV=window.PLOTLYENV || {};                                    if (document.getElementById(\"ec251d4d-f1e5-4a3c-a15b-6c20bf73dbb2\")) {                    Plotly.newPlot(                        \"ec251d4d-f1e5-4a3c-a15b-6c20bf73dbb2\",                        [{\"hovertemplate\": \"Metric=Coherence<br># Topics=%{x}<br>Score=%{y}<extra></extra>\", \"legendgroup\": \"Coherence\", \"line\": {\"color\": \"#636efa\", \"dash\": \"solid\", \"shape\": \"linear\"}, \"mode\": \"lines\", \"name\": \"Coherence\", \"orientation\": \"v\", \"showlegend\": true, \"type\": \"scatter\", \"x\": [2, 4, 8, 16, 32, 64, 100, 200, 300, 400], \"xaxis\": \"x\", \"y\": [0.409921967149828, 0.43934955708286605, 0.4698602722139489, 0.5242485519404203, 0.5617427556661798, 0.4996727748346486, 0.5509098439402451, 0.7409500461721973, 0.8189359210922709, 0.8189359210922709], \"yaxis\": \"y\"}],                        {\"legend\": {\"title\": {\"text\": \"Metric\"}, \"tracegroupgap\": 0}, \"plot_bgcolor\": \"rgb(245,245,245)\", \"template\": {\"data\": {\"bar\": [{\"error_x\": {\"color\": \"#2a3f5f\"}, \"error_y\": {\"color\": \"#2a3f5f\"}, \"marker\": {\"line\": {\"color\": \"#E5ECF6\", \"width\": 0.5}}, \"type\": \"bar\"}], \"barpolar\": [{\"marker\": {\"line\": {\"color\": \"#E5ECF6\", \"width\": 0.5}}, \"type\": \"barpolar\"}], \"carpet\": [{\"aaxis\": {\"endlinecolor\": \"#2a3f5f\", \"gridcolor\": \"white\", \"linecolor\": \"white\", \"minorgridcolor\": \"white\", \"startlinecolor\": \"#2a3f5f\"}, \"baxis\": {\"endlinecolor\": \"#2a3f5f\", \"gridcolor\": \"white\", \"linecolor\": \"white\", \"minorgridcolor\": \"white\", \"startlinecolor\": \"#2a3f5f\"}, \"type\": \"carpet\"}], \"choropleth\": [{\"colorbar\": {\"outlinewidth\": 0, \"ticks\": \"\"}, \"type\": \"choropleth\"}], \"contour\": [{\"colorbar\": {\"outlinewidth\": 0, \"ticks\": \"\"}, \"colorscale\": [[0.0, \"#0d0887\"], [0.1111111111111111, \"#46039f\"], [0.2222222222222222, \"#7201a8\"], [0.3333333333333333, \"#9c179e\"], [0.4444444444444444, \"#bd3786\"], [0.5555555555555556, \"#d8576b\"], [0.6666666666666666, \"#ed7953\"], [0.7777777777777778, \"#fb9f3a\"], [0.8888888888888888, \"#fdca26\"], [1.0, \"#f0f921\"]], \"type\": \"contour\"}], \"contourcarpet\": [{\"colorbar\": {\"outlinewidth\": 0, \"ticks\": \"\"}, \"type\": \"contourcarpet\"}], \"heatmap\": [{\"colorbar\": {\"outlinewidth\": 0, \"ticks\": \"\"}, \"colorscale\": [[0.0, \"#0d0887\"], [0.1111111111111111, \"#46039f\"], [0.2222222222222222, \"#7201a8\"], [0.3333333333333333, \"#9c179e\"], [0.4444444444444444, \"#bd3786\"], [0.5555555555555556, \"#d8576b\"], [0.6666666666666666, \"#ed7953\"], [0.7777777777777778, \"#fb9f3a\"], [0.8888888888888888, \"#fdca26\"], [1.0, \"#f0f921\"]], \"type\": \"heatmap\"}], \"heatmapgl\": [{\"colorbar\": {\"outlinewidth\": 0, \"ticks\": \"\"}, \"colorscale\": [[0.0, \"#0d0887\"], [0.1111111111111111, \"#46039f\"], [0.2222222222222222, \"#7201a8\"], [0.3333333333333333, \"#9c179e\"], [0.4444444444444444, \"#bd3786\"], [0.5555555555555556, \"#d8576b\"], [0.6666666666666666, \"#ed7953\"], [0.7777777777777778, \"#fb9f3a\"], [0.8888888888888888, \"#fdca26\"], [1.0, \"#f0f921\"]], \"type\": \"heatmapgl\"}], \"histogram\": [{\"marker\": {\"colorbar\": {\"outlinewidth\": 0, \"ticks\": \"\"}}, \"type\": \"histogram\"}], \"histogram2d\": [{\"colorbar\": {\"outlinewidth\": 0, \"ticks\": \"\"}, \"colorscale\": [[0.0, \"#0d0887\"], [0.1111111111111111, \"#46039f\"], [0.2222222222222222, \"#7201a8\"], [0.3333333333333333, \"#9c179e\"], [0.4444444444444444, \"#bd3786\"], [0.5555555555555556, \"#d8576b\"], [0.6666666666666666, \"#ed7953\"], [0.7777777777777778, \"#fb9f3a\"], [0.8888888888888888, \"#fdca26\"], [1.0, \"#f0f921\"]], \"type\": \"histogram2d\"}], \"histogram2dcontour\": [{\"colorbar\": {\"outlinewidth\": 0, \"ticks\": \"\"}, \"colorscale\": [[0.0, \"#0d0887\"], [0.1111111111111111, \"#46039f\"], [0.2222222222222222, \"#7201a8\"], [0.3333333333333333, \"#9c179e\"], [0.4444444444444444, \"#bd3786\"], [0.5555555555555556, \"#d8576b\"], [0.6666666666666666, \"#ed7953\"], [0.7777777777777778, \"#fb9f3a\"], [0.8888888888888888, \"#fdca26\"], [1.0, \"#f0f921\"]], \"type\": \"histogram2dcontour\"}], \"mesh3d\": [{\"colorbar\": {\"outlinewidth\": 0, \"ticks\": \"\"}, \"type\": \"mesh3d\"}], \"parcoords\": [{\"line\": {\"colorbar\": {\"outlinewidth\": 0, \"ticks\": \"\"}}, \"type\": \"parcoords\"}], \"pie\": [{\"automargin\": true, \"type\": \"pie\"}], \"scatter\": [{\"marker\": {\"colorbar\": {\"outlinewidth\": 0, \"ticks\": \"\"}}, \"type\": \"scatter\"}], \"scatter3d\": [{\"line\": {\"colorbar\": {\"outlinewidth\": 0, \"ticks\": \"\"}}, \"marker\": {\"colorbar\": {\"outlinewidth\": 0, \"ticks\": \"\"}}, \"type\": \"scatter3d\"}], \"scattercarpet\": [{\"marker\": {\"colorbar\": {\"outlinewidth\": 0, \"ticks\": \"\"}}, \"type\": \"scattercarpet\"}], \"scattergeo\": [{\"marker\": {\"colorbar\": {\"outlinewidth\": 0, \"ticks\": \"\"}}, \"type\": \"scattergeo\"}], \"scattergl\": [{\"marker\": {\"colorbar\": {\"outlinewidth\": 0, \"ticks\": \"\"}}, \"type\": \"scattergl\"}], \"scattermapbox\": [{\"marker\": {\"colorbar\": {\"outlinewidth\": 0, \"ticks\": \"\"}}, \"type\": \"scattermapbox\"}], \"scatterpolar\": [{\"marker\": {\"colorbar\": {\"outlinewidth\": 0, \"ticks\": \"\"}}, \"type\": \"scatterpolar\"}], \"scatterpolargl\": [{\"marker\": {\"colorbar\": {\"outlinewidth\": 0, \"ticks\": \"\"}}, \"type\": \"scatterpolargl\"}], \"scatterternary\": [{\"marker\": {\"colorbar\": {\"outlinewidth\": 0, \"ticks\": \"\"}}, \"type\": \"scatterternary\"}], \"surface\": [{\"colorbar\": {\"outlinewidth\": 0, \"ticks\": \"\"}, \"colorscale\": [[0.0, \"#0d0887\"], [0.1111111111111111, \"#46039f\"], [0.2222222222222222, \"#7201a8\"], [0.3333333333333333, \"#9c179e\"], [0.4444444444444444, \"#bd3786\"], [0.5555555555555556, \"#d8576b\"], [0.6666666666666666, \"#ed7953\"], [0.7777777777777778, \"#fb9f3a\"], [0.8888888888888888, \"#fdca26\"], [1.0, \"#f0f921\"]], \"type\": \"surface\"}], \"table\": [{\"cells\": {\"fill\": {\"color\": \"#EBF0F8\"}, \"line\": {\"color\": \"white\"}}, \"header\": {\"fill\": {\"color\": \"#C8D4E3\"}, \"line\": {\"color\": \"white\"}}, \"type\": \"table\"}]}, \"layout\": {\"annotationdefaults\": {\"arrowcolor\": \"#2a3f5f\", \"arrowhead\": 0, \"arrowwidth\": 1}, \"autotypenumbers\": \"strict\", \"coloraxis\": {\"colorbar\": {\"outlinewidth\": 0, \"ticks\": \"\"}}, \"colorscale\": {\"diverging\": [[0, \"#8e0152\"], [0.1, \"#c51b7d\"], [0.2, \"#de77ae\"], [0.3, \"#f1b6da\"], [0.4, \"#fde0ef\"], [0.5, \"#f7f7f7\"], [0.6, \"#e6f5d0\"], [0.7, \"#b8e186\"], [0.8, \"#7fbc41\"], [0.9, \"#4d9221\"], [1, \"#276419\"]], \"sequential\": [[0.0, \"#0d0887\"], [0.1111111111111111, \"#46039f\"], [0.2222222222222222, \"#7201a8\"], [0.3333333333333333, \"#9c179e\"], [0.4444444444444444, \"#bd3786\"], [0.5555555555555556, \"#d8576b\"], [0.6666666666666666, \"#ed7953\"], [0.7777777777777778, \"#fb9f3a\"], [0.8888888888888888, \"#fdca26\"], [1.0, \"#f0f921\"]], \"sequentialminus\": [[0.0, \"#0d0887\"], [0.1111111111111111, \"#46039f\"], [0.2222222222222222, \"#7201a8\"], [0.3333333333333333, \"#9c179e\"], [0.4444444444444444, \"#bd3786\"], [0.5555555555555556, \"#d8576b\"], [0.6666666666666666, \"#ed7953\"], [0.7777777777777778, \"#fb9f3a\"], [0.8888888888888888, \"#fdca26\"], [1.0, \"#f0f921\"]]}, \"colorway\": [\"#636efa\", \"#EF553B\", \"#00cc96\", \"#ab63fa\", \"#FFA15A\", \"#19d3f3\", \"#FF6692\", \"#B6E880\", \"#FF97FF\", \"#FECB52\"], \"font\": {\"color\": \"#2a3f5f\"}, \"geo\": {\"bgcolor\": \"white\", \"lakecolor\": \"white\", \"landcolor\": \"#E5ECF6\", \"showlakes\": true, \"showland\": true, \"subunitcolor\": \"white\"}, \"hoverlabel\": {\"align\": \"left\"}, \"hovermode\": \"closest\", \"mapbox\": {\"style\": \"light\"}, \"paper_bgcolor\": \"white\", \"plot_bgcolor\": \"#E5ECF6\", \"polar\": {\"angularaxis\": {\"gridcolor\": \"white\", \"linecolor\": \"white\", \"ticks\": \"\"}, \"bgcolor\": \"#E5ECF6\", \"radialaxis\": {\"gridcolor\": \"white\", \"linecolor\": \"white\", \"ticks\": \"\"}}, \"scene\": {\"xaxis\": {\"backgroundcolor\": \"#E5ECF6\", \"gridcolor\": \"white\", \"gridwidth\": 2, \"linecolor\": \"white\", \"showbackground\": true, \"ticks\": \"\", \"zerolinecolor\": \"white\"}, \"yaxis\": {\"backgroundcolor\": \"#E5ECF6\", \"gridcolor\": \"white\", \"gridwidth\": 2, \"linecolor\": \"white\", \"showbackground\": true, \"ticks\": \"\", \"zerolinecolor\": \"white\"}, \"zaxis\": {\"backgroundcolor\": \"#E5ECF6\", \"gridcolor\": \"white\", \"gridwidth\": 2, \"linecolor\": \"white\", \"showbackground\": true, \"ticks\": \"\", \"zerolinecolor\": \"white\"}}, \"shapedefaults\": {\"line\": {\"color\": \"#2a3f5f\"}}, \"ternary\": {\"aaxis\": {\"gridcolor\": \"white\", \"linecolor\": \"white\", \"ticks\": \"\"}, \"baxis\": {\"gridcolor\": \"white\", \"linecolor\": \"white\", \"ticks\": \"\"}, \"bgcolor\": \"#E5ECF6\", \"caxis\": {\"gridcolor\": \"white\", \"linecolor\": \"white\", \"ticks\": \"\"}}, \"title\": {\"x\": 0.05}, \"xaxis\": {\"automargin\": true, \"gridcolor\": \"white\", \"linecolor\": \"white\", \"ticks\": \"\", \"title\": {\"standoff\": 15}, \"zerolinecolor\": \"white\", \"zerolinewidth\": 2}, \"yaxis\": {\"automargin\": true, \"gridcolor\": \"white\", \"linecolor\": \"white\", \"ticks\": \"\", \"title\": {\"standoff\": 15}, \"zerolinecolor\": \"white\", \"zerolinewidth\": 2}}}, \"title\": {\"text\": \"Coherence Value and # of Topics\"}, \"xaxis\": {\"anchor\": \"y\", \"domain\": [0.0, 1.0], \"title\": {\"text\": \"# Topics\"}}, \"yaxis\": {\"anchor\": \"x\", \"domain\": [0.0, 1.0], \"title\": {\"text\": \"Score\"}}},                        {\"responsive\": true}                    ).then(function(){\n",
       "                            \n",
       "var gd = document.getElementById('ec251d4d-f1e5-4a3c-a15b-6c20bf73dbb2');\n",
       "var x = new MutationObserver(function (mutations, observer) {{\n",
       "        var display = window.getComputedStyle(gd).display;\n",
       "        if (!display || display === 'none') {{\n",
       "            console.log([gd, 'removed!']);\n",
       "            Plotly.purge(gd);\n",
       "            observer.disconnect();\n",
       "        }}\n",
       "}});\n",
       "\n",
       "// Listen for the removal of the full notebook cells\n",
       "var notebookContainer = gd.closest('#notebook-container');\n",
       "if (notebookContainer) {{\n",
       "    x.observe(notebookContainer, {childList: true});\n",
       "}}\n",
       "\n",
       "// Listen for the clearing of the current output cell\n",
       "var outputEl = gd.closest('.output');\n",
       "if (outputEl) {{\n",
       "    x.observe(outputEl, {childList: true});\n",
       "}}\n",
       "\n",
       "                        })                };                });            </script>        </div>"
      ]
     },
     "metadata": {},
     "output_type": "display_data"
    },
    {
     "name": "stdout",
     "output_type": "stream",
     "text": [
      "Best Model: Latent Dirichlet Allocation | # Topics: 300 | Coherence: 0.8189\n"
     ]
    }
   ],
   "source": [
    "tuned_model_y = tune_model(model='lda', multi_core=True)"
   ]
  },
  {
   "cell_type": "markdown",
   "metadata": {},
   "source": [
    "The result from the tuned model is similar from before, so 4 topics is used again."
   ]
  },
  {
   "cell_type": "code",
   "execution_count": 45,
   "metadata": {},
   "outputs": [],
   "source": [
    "model_y = create_model('lda', num_topics=4)"
   ]
  },
  {
   "cell_type": "markdown",
   "metadata": {},
   "source": [
    "And assign the topics to the model."
   ]
  },
  {
   "cell_type": "code",
   "execution_count": 46,
   "metadata": {},
   "outputs": [],
   "source": [
    "model_y_results = assign_model(model_y)"
   ]
  },
  {
   "cell_type": "markdown",
   "metadata": {},
   "source": [
    "Topic Modelling made and is time to make the classification."
   ]
  },
  {
   "cell_type": "markdown",
   "metadata": {},
   "source": [
    "# 4. Classification\n",
    "To start, the unused columns are dropped and the results are concatenated in one dataframe."
   ]
  },
  {
   "cell_type": "code",
   "execution_count": 42,
   "metadata": {},
   "outputs": [
    {
     "data": {
      "text/plain": [
       "<seaborn.axisgrid.PairGrid at 0x7fc11c8bcbb0>"
      ]
     },
     "execution_count": 42,
     "metadata": {},
     "output_type": "execute_result"
    },
    {
     "data": {
      "image/png": "[encoded data removed]",
      "text/plain": [
       "<Figure size 720x720 with 20 Axes>"
      ]
     },
     "metadata": {
      "needs_background": "light"
     },
     "output_type": "display_data"
    }
   ],
   "source": [
    "sns.pairplot(model_x_results.filter(regex='Topic_'))"
   ]
  },
  {
   "cell_type": "code",
   "execution_count": 47,
   "metadata": {},
   "outputs": [
    {
     "data": {
      "text/plain": [
       "<seaborn.axisgrid.PairGrid at 0x7fc11c91ed60>"
      ]
     },
     "execution_count": 47,
     "metadata": {},
     "output_type": "execute_result"
    },
    {
     "data": {
      "image/png": "[encoded data removed]",
      "text/plain": [
       "<Figure size 720x720 with 20 Axes>"
      ]
     },
     "metadata": {
      "needs_background": "light"
     },
     "output_type": "display_data"
    }
   ],
   "source": [
    "sns.pairplot(model_y_results.filter(regex='Topic_'))"
   ]
  },
  {
   "cell_type": "code",
   "execution_count": 48,
   "metadata": {},
   "outputs": [],
   "source": [
    "data_topics = model_x_results.drop(columns=[\n",
    "    'description_x',\n",
    "    'description_y',\n",
    "    'Dominant_Topic',\n",
    "    'Perc_Dominant_Topic'\n",
    "])\n",
    "data_topics['Topic_0_y'] = model_y_results['Topic_0']\n",
    "data_topics['Topic_1_y'] = model_y_results['Topic_1']\n",
    "data_topics['Topic_2_y'] = model_y_results['Topic_2']\n",
    "data_topics['Topic_3_y'] = model_y_results['Topic_3']"
   ]
  },
  {
   "cell_type": "markdown",
   "metadata": {},
   "source": [
    "To avoid errors with PyCaret on the label feature, `same_security` is converted to object and the labels are renamed to `Yes` for `True` and `No` for `False`.<br>\n",
    "10% of the data is sampled to be used as unseen data to validate the final model."
   ]
  },
  {
   "cell_type": "code",
   "execution_count": 49,
   "metadata": {},
   "outputs": [
    {
     "data": {
      "text/html": [
       "<div>\n",
       "<style scoped>\n",
       "    .dataframe tbody tr th:only-of-type {\n",
       "        vertical-align: middle;\n",
       "    }\n",
       "\n",
       "    .dataframe tbody tr th {\n",
       "        vertical-align: top;\n",
       "    }\n",
       "\n",
       "    .dataframe thead th {\n",
       "        text-align: right;\n",
       "    }\n",
       "</style>\n",
       "<table border=\"1\" class=\"dataframe\">\n",
       "  <thead>\n",
       "    <tr style=\"text-align: right;\">\n",
       "      <th></th>\n",
       "      <th>same_security</th>\n",
       "      <th>len_x</th>\n",
       "      <th>len_y</th>\n",
       "      <th>Topic_0</th>\n",
       "      <th>Topic_1</th>\n",
       "      <th>Topic_2</th>\n",
       "      <th>Topic_3</th>\n",
       "      <th>Topic_0_y</th>\n",
       "      <th>Topic_1_y</th>\n",
       "      <th>Topic_2_y</th>\n",
       "      <th>Topic_3_y</th>\n",
       "    </tr>\n",
       "  </thead>\n",
       "  <tbody>\n",
       "    <tr>\n",
       "      <th>0</th>\n",
       "      <td>Yes</td>\n",
       "      <td>30</td>\n",
       "      <td>27</td>\n",
       "      <td>0.019268</td>\n",
       "      <td>0.215140</td>\n",
       "      <td>0.042731</td>\n",
       "      <td>0.722860</td>\n",
       "      <td>0.029400</td>\n",
       "      <td>0.889270</td>\n",
       "      <td>0.032996</td>\n",
       "      <td>0.048333</td>\n",
       "    </tr>\n",
       "    <tr>\n",
       "      <th>1</th>\n",
       "      <td>Yes</td>\n",
       "      <td>35</td>\n",
       "      <td>55</td>\n",
       "      <td>0.016394</td>\n",
       "      <td>0.630121</td>\n",
       "      <td>0.184391</td>\n",
       "      <td>0.169094</td>\n",
       "      <td>0.117565</td>\n",
       "      <td>0.398301</td>\n",
       "      <td>0.016134</td>\n",
       "      <td>0.467999</td>\n",
       "    </tr>\n",
       "    <tr>\n",
       "      <th>2</th>\n",
       "      <td>No</td>\n",
       "      <td>28</td>\n",
       "      <td>34</td>\n",
       "      <td>0.019261</td>\n",
       "      <td>0.914312</td>\n",
       "      <td>0.042789</td>\n",
       "      <td>0.023638</td>\n",
       "      <td>0.024241</td>\n",
       "      <td>0.382552</td>\n",
       "      <td>0.027243</td>\n",
       "      <td>0.565963</td>\n",
       "    </tr>\n",
       "    <tr>\n",
       "      <th>3</th>\n",
       "      <td>Yes</td>\n",
       "      <td>53</td>\n",
       "      <td>60</td>\n",
       "      <td>0.011339</td>\n",
       "      <td>0.023220</td>\n",
       "      <td>0.025304</td>\n",
       "      <td>0.940137</td>\n",
       "      <td>0.012952</td>\n",
       "      <td>0.339940</td>\n",
       "      <td>0.625849</td>\n",
       "      <td>0.021259</td>\n",
       "    </tr>\n",
       "    <tr>\n",
       "      <th>4</th>\n",
       "      <td>Yes</td>\n",
       "      <td>16</td>\n",
       "      <td>9</td>\n",
       "      <td>0.029633</td>\n",
       "      <td>0.060624</td>\n",
       "      <td>0.873376</td>\n",
       "      <td>0.036366</td>\n",
       "      <td>0.051477</td>\n",
       "      <td>0.435845</td>\n",
       "      <td>0.428875</td>\n",
       "      <td>0.083803</td>\n",
       "    </tr>\n",
       "  </tbody>\n",
       "</table>\n",
       "</div>"
      ],
      "text/plain": [
       "  same_security  len_x  len_y   Topic_0   Topic_1   Topic_2   Topic_3  \\\n",
       "0           Yes     30     27  0.019268  0.215140  0.042731  0.722860   \n",
       "1           Yes     35     55  0.016394  0.630121  0.184391  0.169094   \n",
       "2            No     28     34  0.019261  0.914312  0.042789  0.023638   \n",
       "3           Yes     53     60  0.011339  0.023220  0.025304  0.940137   \n",
       "4           Yes     16      9  0.029633  0.060624  0.873376  0.036366   \n",
       "\n",
       "   Topic_0_y  Topic_1_y  Topic_2_y  Topic_3_y  \n",
       "0   0.029400   0.889270   0.032996   0.048333  \n",
       "1   0.117565   0.398301   0.016134   0.467999  \n",
       "2   0.024241   0.382552   0.027243   0.565963  \n",
       "3   0.012952   0.339940   0.625849   0.021259  \n",
       "4   0.051477   0.435845   0.428875   0.083803  "
      ]
     },
     "execution_count": 49,
     "metadata": {},
     "output_type": "execute_result"
    }
   ],
   "source": [
    "from pycaret.classification import *\n",
    "\n",
    "data_topics['same_security'] = data_topics['same_security'].astype('str')\n",
    "data_topics_dict = {'True' : 'Yes',  'False' : 'No'}\n",
    "data_topics['same_security'] = data_topics['same_security'].replace(data_topics_dict)\n",
    "train, unseen = data_sampling(data_topics, 0.9, RANDOM_SEED)\n",
    "data_topics.head(5)"
   ]
  },
  {
   "cell_type": "markdown",
   "metadata": {},
   "source": [
    "The same setting up from before, but now PyCaret split the dataset in 70% for Train and 30% for Test.<br>\n",
    "No feature transformation, scalling or normalization are used."
   ]
  },
  {
   "cell_type": "code",
   "execution_count": 50,
   "metadata": {},
   "outputs": [
    {
     "data": {
      "text/html": [
       "<style  type=\"text/css\" >\n",
       "</style><table id=\"T_74fa9_\" ><thead>    <tr>        <th class=\"blank level0\" ></th>        <th class=\"col_heading level0 col0\" >Description</th>        <th class=\"col_heading level0 col1\" >Value</th>    </tr></thead><tbody>\n",
       "                <tr>\n",
       "                        <th id=\"T_74fa9_level0_row0\" class=\"row_heading level0 row0\" >0</th>\n",
       "                        <td id=\"T_74fa9_row0_col0\" class=\"data row0 col0\" >session_id</td>\n",
       "                        <td id=\"T_74fa9_row0_col1\" class=\"data row0 col1\" >42</td>\n",
       "            </tr>\n",
       "            <tr>\n",
       "                        <th id=\"T_74fa9_level0_row1\" class=\"row_heading level0 row1\" >1</th>\n",
       "                        <td id=\"T_74fa9_row1_col0\" class=\"data row1 col0\" >Target</td>\n",
       "                        <td id=\"T_74fa9_row1_col1\" class=\"data row1 col1\" >same_security</td>\n",
       "            </tr>\n",
       "            <tr>\n",
       "                        <th id=\"T_74fa9_level0_row2\" class=\"row_heading level0 row2\" >2</th>\n",
       "                        <td id=\"T_74fa9_row2_col0\" class=\"data row2 col0\" >Target Type</td>\n",
       "                        <td id=\"T_74fa9_row2_col1\" class=\"data row2 col1\" >Binary</td>\n",
       "            </tr>\n",
       "            <tr>\n",
       "                        <th id=\"T_74fa9_level0_row3\" class=\"row_heading level0 row3\" >3</th>\n",
       "                        <td id=\"T_74fa9_row3_col0\" class=\"data row3 col0\" >Label Encoded</td>\n",
       "                        <td id=\"T_74fa9_row3_col1\" class=\"data row3 col1\" >No: 0, Yes: 1</td>\n",
       "            </tr>\n",
       "            <tr>\n",
       "                        <th id=\"T_74fa9_level0_row4\" class=\"row_heading level0 row4\" >4</th>\n",
       "                        <td id=\"T_74fa9_row4_col0\" class=\"data row4 col0\" >Original Data</td>\n",
       "                        <td id=\"T_74fa9_row4_col1\" class=\"data row4 col1\" >(1928, 11)</td>\n",
       "            </tr>\n",
       "            <tr>\n",
       "                        <th id=\"T_74fa9_level0_row5\" class=\"row_heading level0 row5\" >5</th>\n",
       "                        <td id=\"T_74fa9_row5_col0\" class=\"data row5 col0\" >Missing Values</td>\n",
       "                        <td id=\"T_74fa9_row5_col1\" class=\"data row5 col1\" >False</td>\n",
       "            </tr>\n",
       "            <tr>\n",
       "                        <th id=\"T_74fa9_level0_row6\" class=\"row_heading level0 row6\" >6</th>\n",
       "                        <td id=\"T_74fa9_row6_col0\" class=\"data row6 col0\" >Numeric Features</td>\n",
       "                        <td id=\"T_74fa9_row6_col1\" class=\"data row6 col1\" >10</td>\n",
       "            </tr>\n",
       "            <tr>\n",
       "                        <th id=\"T_74fa9_level0_row7\" class=\"row_heading level0 row7\" >7</th>\n",
       "                        <td id=\"T_74fa9_row7_col0\" class=\"data row7 col0\" >Categorical Features</td>\n",
       "                        <td id=\"T_74fa9_row7_col1\" class=\"data row7 col1\" >0</td>\n",
       "            </tr>\n",
       "            <tr>\n",
       "                        <th id=\"T_74fa9_level0_row8\" class=\"row_heading level0 row8\" >8</th>\n",
       "                        <td id=\"T_74fa9_row8_col0\" class=\"data row8 col0\" >Ordinal Features</td>\n",
       "                        <td id=\"T_74fa9_row8_col1\" class=\"data row8 col1\" >False</td>\n",
       "            </tr>\n",
       "            <tr>\n",
       "                        <th id=\"T_74fa9_level0_row9\" class=\"row_heading level0 row9\" >9</th>\n",
       "                        <td id=\"T_74fa9_row9_col0\" class=\"data row9 col0\" >High Cardinality Features</td>\n",
       "                        <td id=\"T_74fa9_row9_col1\" class=\"data row9 col1\" >False</td>\n",
       "            </tr>\n",
       "            <tr>\n",
       "                        <th id=\"T_74fa9_level0_row10\" class=\"row_heading level0 row10\" >10</th>\n",
       "                        <td id=\"T_74fa9_row10_col0\" class=\"data row10 col0\" >High Cardinality Method</td>\n",
       "                        <td id=\"T_74fa9_row10_col1\" class=\"data row10 col1\" >None</td>\n",
       "            </tr>\n",
       "            <tr>\n",
       "                        <th id=\"T_74fa9_level0_row11\" class=\"row_heading level0 row11\" >11</th>\n",
       "                        <td id=\"T_74fa9_row11_col0\" class=\"data row11 col0\" >Transformed Train Set</td>\n",
       "                        <td id=\"T_74fa9_row11_col1\" class=\"data row11 col1\" >(1349, 10)</td>\n",
       "            </tr>\n",
       "            <tr>\n",
       "                        <th id=\"T_74fa9_level0_row12\" class=\"row_heading level0 row12\" >12</th>\n",
       "                        <td id=\"T_74fa9_row12_col0\" class=\"data row12 col0\" >Transformed Test Set</td>\n",
       "                        <td id=\"T_74fa9_row12_col1\" class=\"data row12 col1\" >(579, 10)</td>\n",
       "            </tr>\n",
       "            <tr>\n",
       "                        <th id=\"T_74fa9_level0_row13\" class=\"row_heading level0 row13\" >13</th>\n",
       "                        <td id=\"T_74fa9_row13_col0\" class=\"data row13 col0\" >Shuffle Train-Test</td>\n",
       "                        <td id=\"T_74fa9_row13_col1\" class=\"data row13 col1\" >True</td>\n",
       "            </tr>\n",
       "            <tr>\n",
       "                        <th id=\"T_74fa9_level0_row14\" class=\"row_heading level0 row14\" >14</th>\n",
       "                        <td id=\"T_74fa9_row14_col0\" class=\"data row14 col0\" >Stratify Train-Test</td>\n",
       "                        <td id=\"T_74fa9_row14_col1\" class=\"data row14 col1\" >False</td>\n",
       "            </tr>\n",
       "            <tr>\n",
       "                        <th id=\"T_74fa9_level0_row15\" class=\"row_heading level0 row15\" >15</th>\n",
       "                        <td id=\"T_74fa9_row15_col0\" class=\"data row15 col0\" >Fold Generator</td>\n",
       "                        <td id=\"T_74fa9_row15_col1\" class=\"data row15 col1\" >StratifiedKFold</td>\n",
       "            </tr>\n",
       "            <tr>\n",
       "                        <th id=\"T_74fa9_level0_row16\" class=\"row_heading level0 row16\" >16</th>\n",
       "                        <td id=\"T_74fa9_row16_col0\" class=\"data row16 col0\" >Fold Number</td>\n",
       "                        <td id=\"T_74fa9_row16_col1\" class=\"data row16 col1\" >10</td>\n",
       "            </tr>\n",
       "            <tr>\n",
       "                        <th id=\"T_74fa9_level0_row17\" class=\"row_heading level0 row17\" >17</th>\n",
       "                        <td id=\"T_74fa9_row17_col0\" class=\"data row17 col0\" >CPU Jobs</td>\n",
       "                        <td id=\"T_74fa9_row17_col1\" class=\"data row17 col1\" >-1</td>\n",
       "            </tr>\n",
       "            <tr>\n",
       "                        <th id=\"T_74fa9_level0_row18\" class=\"row_heading level0 row18\" >18</th>\n",
       "                        <td id=\"T_74fa9_row18_col0\" class=\"data row18 col0\" >Use GPU</td>\n",
       "                        <td id=\"T_74fa9_row18_col1\" class=\"data row18 col1\" >False</td>\n",
       "            </tr>\n",
       "            <tr>\n",
       "                        <th id=\"T_74fa9_level0_row19\" class=\"row_heading level0 row19\" >19</th>\n",
       "                        <td id=\"T_74fa9_row19_col0\" class=\"data row19 col0\" >Log Experiment</td>\n",
       "                        <td id=\"T_74fa9_row19_col1\" class=\"data row19 col1\" >False</td>\n",
       "            </tr>\n",
       "            <tr>\n",
       "                        <th id=\"T_74fa9_level0_row20\" class=\"row_heading level0 row20\" >20</th>\n",
       "                        <td id=\"T_74fa9_row20_col0\" class=\"data row20 col0\" >Experiment Name</td>\n",
       "                        <td id=\"T_74fa9_row20_col1\" class=\"data row20 col1\" >clf-default-name</td>\n",
       "            </tr>\n",
       "            <tr>\n",
       "                        <th id=\"T_74fa9_level0_row21\" class=\"row_heading level0 row21\" >21</th>\n",
       "                        <td id=\"T_74fa9_row21_col0\" class=\"data row21 col0\" >USI</td>\n",
       "                        <td id=\"T_74fa9_row21_col1\" class=\"data row21 col1\" >0729</td>\n",
       "            </tr>\n",
       "            <tr>\n",
       "                        <th id=\"T_74fa9_level0_row22\" class=\"row_heading level0 row22\" >22</th>\n",
       "                        <td id=\"T_74fa9_row22_col0\" class=\"data row22 col0\" >Imputation Type</td>\n",
       "                        <td id=\"T_74fa9_row22_col1\" class=\"data row22 col1\" >simple</td>\n",
       "            </tr>\n",
       "            <tr>\n",
       "                        <th id=\"T_74fa9_level0_row23\" class=\"row_heading level0 row23\" >23</th>\n",
       "                        <td id=\"T_74fa9_row23_col0\" class=\"data row23 col0\" >Iterative Imputation Iteration</td>\n",
       "                        <td id=\"T_74fa9_row23_col1\" class=\"data row23 col1\" >None</td>\n",
       "            </tr>\n",
       "            <tr>\n",
       "                        <th id=\"T_74fa9_level0_row24\" class=\"row_heading level0 row24\" >24</th>\n",
       "                        <td id=\"T_74fa9_row24_col0\" class=\"data row24 col0\" >Numeric Imputer</td>\n",
       "                        <td id=\"T_74fa9_row24_col1\" class=\"data row24 col1\" >mean</td>\n",
       "            </tr>\n",
       "            <tr>\n",
       "                        <th id=\"T_74fa9_level0_row25\" class=\"row_heading level0 row25\" >25</th>\n",
       "                        <td id=\"T_74fa9_row25_col0\" class=\"data row25 col0\" >Iterative Imputation Numeric Model</td>\n",
       "                        <td id=\"T_74fa9_row25_col1\" class=\"data row25 col1\" >None</td>\n",
       "            </tr>\n",
       "            <tr>\n",
       "                        <th id=\"T_74fa9_level0_row26\" class=\"row_heading level0 row26\" >26</th>\n",
       "                        <td id=\"T_74fa9_row26_col0\" class=\"data row26 col0\" >Categorical Imputer</td>\n",
       "                        <td id=\"T_74fa9_row26_col1\" class=\"data row26 col1\" >constant</td>\n",
       "            </tr>\n",
       "            <tr>\n",
       "                        <th id=\"T_74fa9_level0_row27\" class=\"row_heading level0 row27\" >27</th>\n",
       "                        <td id=\"T_74fa9_row27_col0\" class=\"data row27 col0\" >Iterative Imputation Categorical Model</td>\n",
       "                        <td id=\"T_74fa9_row27_col1\" class=\"data row27 col1\" >None</td>\n",
       "            </tr>\n",
       "            <tr>\n",
       "                        <th id=\"T_74fa9_level0_row28\" class=\"row_heading level0 row28\" >28</th>\n",
       "                        <td id=\"T_74fa9_row28_col0\" class=\"data row28 col0\" >Unknown Categoricals Handling</td>\n",
       "                        <td id=\"T_74fa9_row28_col1\" class=\"data row28 col1\" >least_frequent</td>\n",
       "            </tr>\n",
       "            <tr>\n",
       "                        <th id=\"T_74fa9_level0_row29\" class=\"row_heading level0 row29\" >29</th>\n",
       "                        <td id=\"T_74fa9_row29_col0\" class=\"data row29 col0\" >Normalize</td>\n",
       "                        <td id=\"T_74fa9_row29_col1\" class=\"data row29 col1\" >False</td>\n",
       "            </tr>\n",
       "            <tr>\n",
       "                        <th id=\"T_74fa9_level0_row30\" class=\"row_heading level0 row30\" >30</th>\n",
       "                        <td id=\"T_74fa9_row30_col0\" class=\"data row30 col0\" >Normalize Method</td>\n",
       "                        <td id=\"T_74fa9_row30_col1\" class=\"data row30 col1\" >None</td>\n",
       "            </tr>\n",
       "            <tr>\n",
       "                        <th id=\"T_74fa9_level0_row31\" class=\"row_heading level0 row31\" >31</th>\n",
       "                        <td id=\"T_74fa9_row31_col0\" class=\"data row31 col0\" >Transformation</td>\n",
       "                        <td id=\"T_74fa9_row31_col1\" class=\"data row31 col1\" >False</td>\n",
       "            </tr>\n",
       "            <tr>\n",
       "                        <th id=\"T_74fa9_level0_row32\" class=\"row_heading level0 row32\" >32</th>\n",
       "                        <td id=\"T_74fa9_row32_col0\" class=\"data row32 col0\" >Transformation Method</td>\n",
       "                        <td id=\"T_74fa9_row32_col1\" class=\"data row32 col1\" >None</td>\n",
       "            </tr>\n",
       "            <tr>\n",
       "                        <th id=\"T_74fa9_level0_row33\" class=\"row_heading level0 row33\" >33</th>\n",
       "                        <td id=\"T_74fa9_row33_col0\" class=\"data row33 col0\" >PCA</td>\n",
       "                        <td id=\"T_74fa9_row33_col1\" class=\"data row33 col1\" >False</td>\n",
       "            </tr>\n",
       "            <tr>\n",
       "                        <th id=\"T_74fa9_level0_row34\" class=\"row_heading level0 row34\" >34</th>\n",
       "                        <td id=\"T_74fa9_row34_col0\" class=\"data row34 col0\" >PCA Method</td>\n",
       "                        <td id=\"T_74fa9_row34_col1\" class=\"data row34 col1\" >None</td>\n",
       "            </tr>\n",
       "            <tr>\n",
       "                        <th id=\"T_74fa9_level0_row35\" class=\"row_heading level0 row35\" >35</th>\n",
       "                        <td id=\"T_74fa9_row35_col0\" class=\"data row35 col0\" >PCA Components</td>\n",
       "                        <td id=\"T_74fa9_row35_col1\" class=\"data row35 col1\" >None</td>\n",
       "            </tr>\n",
       "            <tr>\n",
       "                        <th id=\"T_74fa9_level0_row36\" class=\"row_heading level0 row36\" >36</th>\n",
       "                        <td id=\"T_74fa9_row36_col0\" class=\"data row36 col0\" >Ignore Low Variance</td>\n",
       "                        <td id=\"T_74fa9_row36_col1\" class=\"data row36 col1\" >False</td>\n",
       "            </tr>\n",
       "            <tr>\n",
       "                        <th id=\"T_74fa9_level0_row37\" class=\"row_heading level0 row37\" >37</th>\n",
       "                        <td id=\"T_74fa9_row37_col0\" class=\"data row37 col0\" >Combine Rare Levels</td>\n",
       "                        <td id=\"T_74fa9_row37_col1\" class=\"data row37 col1\" >False</td>\n",
       "            </tr>\n",
       "            <tr>\n",
       "                        <th id=\"T_74fa9_level0_row38\" class=\"row_heading level0 row38\" >38</th>\n",
       "                        <td id=\"T_74fa9_row38_col0\" class=\"data row38 col0\" >Rare Level Threshold</td>\n",
       "                        <td id=\"T_74fa9_row38_col1\" class=\"data row38 col1\" >None</td>\n",
       "            </tr>\n",
       "            <tr>\n",
       "                        <th id=\"T_74fa9_level0_row39\" class=\"row_heading level0 row39\" >39</th>\n",
       "                        <td id=\"T_74fa9_row39_col0\" class=\"data row39 col0\" >Numeric Binning</td>\n",
       "                        <td id=\"T_74fa9_row39_col1\" class=\"data row39 col1\" >False</td>\n",
       "            </tr>\n",
       "            <tr>\n",
       "                        <th id=\"T_74fa9_level0_row40\" class=\"row_heading level0 row40\" >40</th>\n",
       "                        <td id=\"T_74fa9_row40_col0\" class=\"data row40 col0\" >Remove Outliers</td>\n",
       "                        <td id=\"T_74fa9_row40_col1\" class=\"data row40 col1\" >False</td>\n",
       "            </tr>\n",
       "            <tr>\n",
       "                        <th id=\"T_74fa9_level0_row41\" class=\"row_heading level0 row41\" >41</th>\n",
       "                        <td id=\"T_74fa9_row41_col0\" class=\"data row41 col0\" >Outliers Threshold</td>\n",
       "                        <td id=\"T_74fa9_row41_col1\" class=\"data row41 col1\" >None</td>\n",
       "            </tr>\n",
       "            <tr>\n",
       "                        <th id=\"T_74fa9_level0_row42\" class=\"row_heading level0 row42\" >42</th>\n",
       "                        <td id=\"T_74fa9_row42_col0\" class=\"data row42 col0\" >Remove Multicollinearity</td>\n",
       "                        <td id=\"T_74fa9_row42_col1\" class=\"data row42 col1\" >False</td>\n",
       "            </tr>\n",
       "            <tr>\n",
       "                        <th id=\"T_74fa9_level0_row43\" class=\"row_heading level0 row43\" >43</th>\n",
       "                        <td id=\"T_74fa9_row43_col0\" class=\"data row43 col0\" >Multicollinearity Threshold</td>\n",
       "                        <td id=\"T_74fa9_row43_col1\" class=\"data row43 col1\" >None</td>\n",
       "            </tr>\n",
       "            <tr>\n",
       "                        <th id=\"T_74fa9_level0_row44\" class=\"row_heading level0 row44\" >44</th>\n",
       "                        <td id=\"T_74fa9_row44_col0\" class=\"data row44 col0\" >Clustering</td>\n",
       "                        <td id=\"T_74fa9_row44_col1\" class=\"data row44 col1\" >False</td>\n",
       "            </tr>\n",
       "            <tr>\n",
       "                        <th id=\"T_74fa9_level0_row45\" class=\"row_heading level0 row45\" >45</th>\n",
       "                        <td id=\"T_74fa9_row45_col0\" class=\"data row45 col0\" >Clustering Iteration</td>\n",
       "                        <td id=\"T_74fa9_row45_col1\" class=\"data row45 col1\" >None</td>\n",
       "            </tr>\n",
       "            <tr>\n",
       "                        <th id=\"T_74fa9_level0_row46\" class=\"row_heading level0 row46\" >46</th>\n",
       "                        <td id=\"T_74fa9_row46_col0\" class=\"data row46 col0\" >Polynomial Features</td>\n",
       "                        <td id=\"T_74fa9_row46_col1\" class=\"data row46 col1\" >False</td>\n",
       "            </tr>\n",
       "            <tr>\n",
       "                        <th id=\"T_74fa9_level0_row47\" class=\"row_heading level0 row47\" >47</th>\n",
       "                        <td id=\"T_74fa9_row47_col0\" class=\"data row47 col0\" >Polynomial Degree</td>\n",
       "                        <td id=\"T_74fa9_row47_col1\" class=\"data row47 col1\" >None</td>\n",
       "            </tr>\n",
       "            <tr>\n",
       "                        <th id=\"T_74fa9_level0_row48\" class=\"row_heading level0 row48\" >48</th>\n",
       "                        <td id=\"T_74fa9_row48_col0\" class=\"data row48 col0\" >Trignometry Features</td>\n",
       "                        <td id=\"T_74fa9_row48_col1\" class=\"data row48 col1\" >False</td>\n",
       "            </tr>\n",
       "            <tr>\n",
       "                        <th id=\"T_74fa9_level0_row49\" class=\"row_heading level0 row49\" >49</th>\n",
       "                        <td id=\"T_74fa9_row49_col0\" class=\"data row49 col0\" >Polynomial Threshold</td>\n",
       "                        <td id=\"T_74fa9_row49_col1\" class=\"data row49 col1\" >None</td>\n",
       "            </tr>\n",
       "            <tr>\n",
       "                        <th id=\"T_74fa9_level0_row50\" class=\"row_heading level0 row50\" >50</th>\n",
       "                        <td id=\"T_74fa9_row50_col0\" class=\"data row50 col0\" >Group Features</td>\n",
       "                        <td id=\"T_74fa9_row50_col1\" class=\"data row50 col1\" >False</td>\n",
       "            </tr>\n",
       "            <tr>\n",
       "                        <th id=\"T_74fa9_level0_row51\" class=\"row_heading level0 row51\" >51</th>\n",
       "                        <td id=\"T_74fa9_row51_col0\" class=\"data row51 col0\" >Feature Selection</td>\n",
       "                        <td id=\"T_74fa9_row51_col1\" class=\"data row51 col1\" >False</td>\n",
       "            </tr>\n",
       "            <tr>\n",
       "                        <th id=\"T_74fa9_level0_row52\" class=\"row_heading level0 row52\" >52</th>\n",
       "                        <td id=\"T_74fa9_row52_col0\" class=\"data row52 col0\" >Feature Selection Method</td>\n",
       "                        <td id=\"T_74fa9_row52_col1\" class=\"data row52 col1\" >classic</td>\n",
       "            </tr>\n",
       "            <tr>\n",
       "                        <th id=\"T_74fa9_level0_row53\" class=\"row_heading level0 row53\" >53</th>\n",
       "                        <td id=\"T_74fa9_row53_col0\" class=\"data row53 col0\" >Features Selection Threshold</td>\n",
       "                        <td id=\"T_74fa9_row53_col1\" class=\"data row53 col1\" >None</td>\n",
       "            </tr>\n",
       "            <tr>\n",
       "                        <th id=\"T_74fa9_level0_row54\" class=\"row_heading level0 row54\" >54</th>\n",
       "                        <td id=\"T_74fa9_row54_col0\" class=\"data row54 col0\" >Feature Interaction</td>\n",
       "                        <td id=\"T_74fa9_row54_col1\" class=\"data row54 col1\" >False</td>\n",
       "            </tr>\n",
       "            <tr>\n",
       "                        <th id=\"T_74fa9_level0_row55\" class=\"row_heading level0 row55\" >55</th>\n",
       "                        <td id=\"T_74fa9_row55_col0\" class=\"data row55 col0\" >Feature Ratio</td>\n",
       "                        <td id=\"T_74fa9_row55_col1\" class=\"data row55 col1\" >False</td>\n",
       "            </tr>\n",
       "            <tr>\n",
       "                        <th id=\"T_74fa9_level0_row56\" class=\"row_heading level0 row56\" >56</th>\n",
       "                        <td id=\"T_74fa9_row56_col0\" class=\"data row56 col0\" >Interaction Threshold</td>\n",
       "                        <td id=\"T_74fa9_row56_col1\" class=\"data row56 col1\" >None</td>\n",
       "            </tr>\n",
       "            <tr>\n",
       "                        <th id=\"T_74fa9_level0_row57\" class=\"row_heading level0 row57\" >57</th>\n",
       "                        <td id=\"T_74fa9_row57_col0\" class=\"data row57 col0\" >Fix Imbalance</td>\n",
       "                        <td id=\"T_74fa9_row57_col1\" class=\"data row57 col1\" >False</td>\n",
       "            </tr>\n",
       "            <tr>\n",
       "                        <th id=\"T_74fa9_level0_row58\" class=\"row_heading level0 row58\" >58</th>\n",
       "                        <td id=\"T_74fa9_row58_col0\" class=\"data row58 col0\" >Fix Imbalance Method</td>\n",
       "                        <td id=\"T_74fa9_row58_col1\" class=\"data row58 col1\" >SMOTE</td>\n",
       "            </tr>\n",
       "    </tbody></table>"
      ],
      "text/plain": [
       "<pandas.io.formats.style.Styler at 0x7fc0b15289a0>"
      ]
     },
     "metadata": {},
     "output_type": "display_data"
    }
   ],
   "source": [
    "exp_clf = setup(data=train, \n",
    "                target='same_security',\n",
    "                session_id=RANDOM_SEED,                 \n",
    "                silent=True\n",
    "               )"
   ]
  },
  {
   "cell_type": "markdown",
   "metadata": {},
   "source": [
    "Compare the models sorted by F1-Score to get the best.`"
   ]
  },
  {
   "cell_type": "code",
   "execution_count": 51,
   "metadata": {},
   "outputs": [
    {
     "data": {
      "text/html": [
       "<style  type=\"text/css\" >\n",
       "    #T_aed7c_ th {\n",
       "          text-align: left;\n",
       "    }#T_aed7c_row0_col0,#T_aed7c_row0_col3,#T_aed7c_row0_col4,#T_aed7c_row1_col0,#T_aed7c_row1_col1,#T_aed7c_row1_col2,#T_aed7c_row1_col3,#T_aed7c_row1_col4,#T_aed7c_row1_col5,#T_aed7c_row1_col6,#T_aed7c_row1_col7,#T_aed7c_row2_col0,#T_aed7c_row2_col1,#T_aed7c_row2_col2,#T_aed7c_row2_col3,#T_aed7c_row2_col4,#T_aed7c_row2_col5,#T_aed7c_row2_col6,#T_aed7c_row2_col7,#T_aed7c_row3_col0,#T_aed7c_row3_col1,#T_aed7c_row3_col2,#T_aed7c_row3_col3,#T_aed7c_row3_col4,#T_aed7c_row3_col5,#T_aed7c_row3_col6,#T_aed7c_row3_col7,#T_aed7c_row4_col0,#T_aed7c_row4_col1,#T_aed7c_row4_col2,#T_aed7c_row4_col4,#T_aed7c_row4_col5,#T_aed7c_row4_col6,#T_aed7c_row4_col7,#T_aed7c_row5_col0,#T_aed7c_row5_col1,#T_aed7c_row5_col2,#T_aed7c_row5_col3,#T_aed7c_row5_col4,#T_aed7c_row5_col5,#T_aed7c_row5_col6,#T_aed7c_row5_col7,#T_aed7c_row6_col0,#T_aed7c_row6_col1,#T_aed7c_row6_col2,#T_aed7c_row6_col3,#T_aed7c_row6_col4,#T_aed7c_row6_col5,#T_aed7c_row6_col6,#T_aed7c_row6_col7,#T_aed7c_row7_col0,#T_aed7c_row7_col1,#T_aed7c_row7_col2,#T_aed7c_row7_col3,#T_aed7c_row7_col4,#T_aed7c_row7_col5,#T_aed7c_row7_col6,#T_aed7c_row7_col7,#T_aed7c_row8_col0,#T_aed7c_row8_col1,#T_aed7c_row8_col2,#T_aed7c_row8_col3,#T_aed7c_row8_col4,#T_aed7c_row8_col5,#T_aed7c_row8_col6,#T_aed7c_row8_col7,#T_aed7c_row9_col0,#T_aed7c_row9_col1,#T_aed7c_row9_col2,#T_aed7c_row9_col3,#T_aed7c_row9_col4,#T_aed7c_row9_col5,#T_aed7c_row9_col6,#T_aed7c_row9_col7,#T_aed7c_row10_col0,#T_aed7c_row10_col1,#T_aed7c_row10_col2,#T_aed7c_row10_col3,#T_aed7c_row10_col4,#T_aed7c_row10_col5,#T_aed7c_row10_col6,#T_aed7c_row10_col7,#T_aed7c_row11_col0,#T_aed7c_row11_col1,#T_aed7c_row11_col2,#T_aed7c_row11_col3,#T_aed7c_row11_col4,#T_aed7c_row11_col5,#T_aed7c_row11_col6,#T_aed7c_row11_col7,#T_aed7c_row12_col0,#T_aed7c_row12_col1,#T_aed7c_row12_col2,#T_aed7c_row12_col3,#T_aed7c_row12_col4,#T_aed7c_row12_col5,#T_aed7c_row12_col6,#T_aed7c_row12_col7,#T_aed7c_row13_col0,#T_aed7c_row13_col1,#T_aed7c_row13_col2,#T_aed7c_row13_col3,#T_aed7c_row13_col4,#T_aed7c_row13_col5,#T_aed7c_row13_col6,#T_aed7c_row13_col7,#T_aed7c_row14_col0,#T_aed7c_row14_col1,#T_aed7c_row14_col2,#T_aed7c_row14_col3,#T_aed7c_row14_col5,#T_aed7c_row14_col6,#T_aed7c_row14_col7{\n",
       "            text-align:  left;\n",
       "            text-align:  left;\n",
       "        }#T_aed7c_row0_col1,#T_aed7c_row0_col2,#T_aed7c_row0_col5,#T_aed7c_row0_col6,#T_aed7c_row0_col7,#T_aed7c_row4_col3,#T_aed7c_row14_col4{\n",
       "            text-align:  left;\n",
       "            text-align:  left;\n",
       "            background-color:  yellow;\n",
       "        }#T_aed7c_row0_col8,#T_aed7c_row1_col8,#T_aed7c_row2_col8,#T_aed7c_row3_col8,#T_aed7c_row4_col8,#T_aed7c_row5_col8,#T_aed7c_row6_col8,#T_aed7c_row7_col8,#T_aed7c_row8_col8,#T_aed7c_row9_col8,#T_aed7c_row10_col8,#T_aed7c_row11_col8,#T_aed7c_row12_col8,#T_aed7c_row14_col8{\n",
       "            text-align:  left;\n",
       "            text-align:  left;\n",
       "            background-color:  lightgrey;\n",
       "        }#T_aed7c_row13_col8{\n",
       "            text-align:  left;\n",
       "            text-align:  left;\n",
       "            background-color:  yellow;\n",
       "            background-color:  lightgrey;\n",
       "        }</style><table id=\"T_aed7c_\" ><thead>    <tr>        <th class=\"blank level0\" ></th>        <th class=\"col_heading level0 col0\" >Model</th>        <th class=\"col_heading level0 col1\" >Accuracy</th>        <th class=\"col_heading level0 col2\" >AUC</th>        <th class=\"col_heading level0 col3\" >Recall</th>        <th class=\"col_heading level0 col4\" >Prec.</th>        <th class=\"col_heading level0 col5\" >F1</th>        <th class=\"col_heading level0 col6\" >Kappa</th>        <th class=\"col_heading level0 col7\" >MCC</th>        <th class=\"col_heading level0 col8\" >TT (Sec)</th>    </tr></thead><tbody>\n",
       "                <tr>\n",
       "                        <th id=\"T_aed7c_level0_row0\" class=\"row_heading level0 row0\" >xgboost</th>\n",
       "                        <td id=\"T_aed7c_row0_col0\" class=\"data row0 col0\" >Extreme Gradient Boosting</td>\n",
       "                        <td id=\"T_aed7c_row0_col1\" class=\"data row0 col1\" >0.8703</td>\n",
       "                        <td id=\"T_aed7c_row0_col2\" class=\"data row0 col2\" >0.9099</td>\n",
       "                        <td id=\"T_aed7c_row0_col3\" class=\"data row0 col3\" >0.9258</td>\n",
       "                        <td id=\"T_aed7c_row0_col4\" class=\"data row0 col4\" >0.9014</td>\n",
       "                        <td id=\"T_aed7c_row0_col5\" class=\"data row0 col5\" >0.9134</td>\n",
       "                        <td id=\"T_aed7c_row0_col6\" class=\"data row0 col6\" >0.6549</td>\n",
       "                        <td id=\"T_aed7c_row0_col7\" class=\"data row0 col7\" >0.6559</td>\n",
       "                        <td id=\"T_aed7c_row0_col8\" class=\"data row0 col8\" >8.6920</td>\n",
       "            </tr>\n",
       "            <tr>\n",
       "                        <th id=\"T_aed7c_level0_row1\" class=\"row_heading level0 row1\" >et</th>\n",
       "                        <td id=\"T_aed7c_row1_col0\" class=\"data row1 col0\" >Extra Trees Classifier</td>\n",
       "                        <td id=\"T_aed7c_row1_col1\" class=\"data row1 col1\" >0.8680</td>\n",
       "                        <td id=\"T_aed7c_row1_col2\" class=\"data row1 col2\" >0.9076</td>\n",
       "                        <td id=\"T_aed7c_row1_col3\" class=\"data row1 col3\" >0.9389</td>\n",
       "                        <td id=\"T_aed7c_row1_col4\" class=\"data row1 col4\" >0.8891</td>\n",
       "                        <td id=\"T_aed7c_row1_col5\" class=\"data row1 col5\" >0.9132</td>\n",
       "                        <td id=\"T_aed7c_row1_col6\" class=\"data row1 col6\" >0.6388</td>\n",
       "                        <td id=\"T_aed7c_row1_col7\" class=\"data row1 col7\" >0.6437</td>\n",
       "                        <td id=\"T_aed7c_row1_col8\" class=\"data row1 col8\" >0.2160</td>\n",
       "            </tr>\n",
       "            <tr>\n",
       "                        <th id=\"T_aed7c_level0_row2\" class=\"row_heading level0 row2\" >lightgbm</th>\n",
       "                        <td id=\"T_aed7c_row2_col0\" class=\"data row2 col0\" >Light Gradient Boosting Machine</td>\n",
       "                        <td id=\"T_aed7c_row2_col1\" class=\"data row2 col1\" >0.8680</td>\n",
       "                        <td id=\"T_aed7c_row2_col2\" class=\"data row2 col2\" >0.9051</td>\n",
       "                        <td id=\"T_aed7c_row2_col3\" class=\"data row2 col3\" >0.9348</td>\n",
       "                        <td id=\"T_aed7c_row2_col4\" class=\"data row2 col4\" >0.8919</td>\n",
       "                        <td id=\"T_aed7c_row2_col5\" class=\"data row2 col5\" >0.9128</td>\n",
       "                        <td id=\"T_aed7c_row2_col6\" class=\"data row2 col6\" >0.6421</td>\n",
       "                        <td id=\"T_aed7c_row2_col7\" class=\"data row2 col7\" >0.6457</td>\n",
       "                        <td id=\"T_aed7c_row2_col8\" class=\"data row2 col8\" >0.1080</td>\n",
       "            </tr>\n",
       "            <tr>\n",
       "                        <th id=\"T_aed7c_level0_row3\" class=\"row_heading level0 row3\" >rf</th>\n",
       "                        <td id=\"T_aed7c_row3_col0\" class=\"data row3 col0\" >Random Forest Classifier</td>\n",
       "                        <td id=\"T_aed7c_row3_col1\" class=\"data row3 col1\" >0.8584</td>\n",
       "                        <td id=\"T_aed7c_row3_col2\" class=\"data row3 col2\" >0.9060</td>\n",
       "                        <td id=\"T_aed7c_row3_col3\" class=\"data row3 col3\" >0.9378</td>\n",
       "                        <td id=\"T_aed7c_row3_col4\" class=\"data row3 col4\" >0.8792</td>\n",
       "                        <td id=\"T_aed7c_row3_col5\" class=\"data row3 col5\" >0.9075</td>\n",
       "                        <td id=\"T_aed7c_row3_col6\" class=\"data row3 col6\" >0.6071</td>\n",
       "                        <td id=\"T_aed7c_row3_col7\" class=\"data row3 col7\" >0.6134</td>\n",
       "                        <td id=\"T_aed7c_row3_col8\" class=\"data row3 col8\" >0.2900</td>\n",
       "            </tr>\n",
       "            <tr>\n",
       "                        <th id=\"T_aed7c_level0_row4\" class=\"row_heading level0 row4\" >gbc</th>\n",
       "                        <td id=\"T_aed7c_row4_col0\" class=\"data row4 col0\" >Gradient Boosting Classifier</td>\n",
       "                        <td id=\"T_aed7c_row4_col1\" class=\"data row4 col1\" >0.8540</td>\n",
       "                        <td id=\"T_aed7c_row4_col2\" class=\"data row4 col2\" >0.8839</td>\n",
       "                        <td id=\"T_aed7c_row4_col3\" class=\"data row4 col3\" >0.9398</td>\n",
       "                        <td id=\"T_aed7c_row4_col4\" class=\"data row4 col4\" >0.8725</td>\n",
       "                        <td id=\"T_aed7c_row4_col5\" class=\"data row4 col5\" >0.9049</td>\n",
       "                        <td id=\"T_aed7c_row4_col6\" class=\"data row4 col6\" >0.5921</td>\n",
       "                        <td id=\"T_aed7c_row4_col7\" class=\"data row4 col7\" >0.6000</td>\n",
       "                        <td id=\"T_aed7c_row4_col8\" class=\"data row4 col8\" >0.1980</td>\n",
       "            </tr>\n",
       "            <tr>\n",
       "                        <th id=\"T_aed7c_level0_row5\" class=\"row_heading level0 row5\" >catboost</th>\n",
       "                        <td id=\"T_aed7c_row5_col0\" class=\"data row5 col0\" >CatBoost Classifier</td>\n",
       "                        <td id=\"T_aed7c_row5_col1\" class=\"data row5 col1\" >0.8525</td>\n",
       "                        <td id=\"T_aed7c_row5_col2\" class=\"data row5 col2\" >0.9006</td>\n",
       "                        <td id=\"T_aed7c_row5_col3\" class=\"data row5 col3\" >0.9388</td>\n",
       "                        <td id=\"T_aed7c_row5_col4\" class=\"data row5 col4\" >0.8717</td>\n",
       "                        <td id=\"T_aed7c_row5_col5\" class=\"data row5 col5\" >0.9040</td>\n",
       "                        <td id=\"T_aed7c_row5_col6\" class=\"data row5 col6\" >0.5876</td>\n",
       "                        <td id=\"T_aed7c_row5_col7\" class=\"data row5 col7\" >0.5960</td>\n",
       "                        <td id=\"T_aed7c_row5_col8\" class=\"data row5 col8\" >2.0880</td>\n",
       "            </tr>\n",
       "            <tr>\n",
       "                        <th id=\"T_aed7c_level0_row6\" class=\"row_heading level0 row6\" >ada</th>\n",
       "                        <td id=\"T_aed7c_row6_col0\" class=\"data row6 col0\" >Ada Boost Classifier</td>\n",
       "                        <td id=\"T_aed7c_row6_col1\" class=\"data row6 col1\" >0.8065</td>\n",
       "                        <td id=\"T_aed7c_row6_col2\" class=\"data row6 col2\" >0.8352</td>\n",
       "                        <td id=\"T_aed7c_row6_col3\" class=\"data row6 col3\" >0.9107</td>\n",
       "                        <td id=\"T_aed7c_row6_col4\" class=\"data row6 col4\" >0.8408</td>\n",
       "                        <td id=\"T_aed7c_row6_col5\" class=\"data row6 col5\" >0.8743</td>\n",
       "                        <td id=\"T_aed7c_row6_col6\" class=\"data row6 col6\" >0.4569</td>\n",
       "                        <td id=\"T_aed7c_row6_col7\" class=\"data row6 col7\" >0.4641</td>\n",
       "                        <td id=\"T_aed7c_row6_col8\" class=\"data row6 col8\" >0.1200</td>\n",
       "            </tr>\n",
       "            <tr>\n",
       "                        <th id=\"T_aed7c_level0_row7\" class=\"row_heading level0 row7\" >dt</th>\n",
       "                        <td id=\"T_aed7c_row7_col0\" class=\"data row7 col0\" >Decision Tree Classifier</td>\n",
       "                        <td id=\"T_aed7c_row7_col1\" class=\"data row7 col1\" >0.8102</td>\n",
       "                        <td id=\"T_aed7c_row7_col2\" class=\"data row7 col2\" >0.7631</td>\n",
       "                        <td id=\"T_aed7c_row7_col3\" class=\"data row7 col3\" >0.8616</td>\n",
       "                        <td id=\"T_aed7c_row7_col4\" class=\"data row7 col4\" >0.8793</td>\n",
       "                        <td id=\"T_aed7c_row7_col5\" class=\"data row7 col5\" >0.8703</td>\n",
       "                        <td id=\"T_aed7c_row7_col6\" class=\"data row7 col6\" >0.5168</td>\n",
       "                        <td id=\"T_aed7c_row7_col7\" class=\"data row7 col7\" >0.5175</td>\n",
       "                        <td id=\"T_aed7c_row7_col8\" class=\"data row7 col8\" >0.0240</td>\n",
       "            </tr>\n",
       "            <tr>\n",
       "                        <th id=\"T_aed7c_level0_row8\" class=\"row_heading level0 row8\" >ridge</th>\n",
       "                        <td id=\"T_aed7c_row8_col0\" class=\"data row8 col0\" >Ridge Classifier</td>\n",
       "                        <td id=\"T_aed7c_row8_col1\" class=\"data row8 col1\" >0.7813</td>\n",
       "                        <td id=\"T_aed7c_row8_col2\" class=\"data row8 col2\" >0.0000</td>\n",
       "                        <td id=\"T_aed7c_row8_col3\" class=\"data row8 col3\" >0.8876</td>\n",
       "                        <td id=\"T_aed7c_row8_col4\" class=\"data row8 col4\" >0.8286</td>\n",
       "                        <td id=\"T_aed7c_row8_col5\" class=\"data row8 col5\" >0.8570</td>\n",
       "                        <td id=\"T_aed7c_row8_col6\" class=\"data row8 col6\" >0.3942</td>\n",
       "                        <td id=\"T_aed7c_row8_col7\" class=\"data row8 col7\" >0.3992</td>\n",
       "                        <td id=\"T_aed7c_row8_col8\" class=\"data row8 col8\" >0.0200</td>\n",
       "            </tr>\n",
       "            <tr>\n",
       "                        <th id=\"T_aed7c_level0_row9\" class=\"row_heading level0 row9\" >lr</th>\n",
       "                        <td id=\"T_aed7c_row9_col0\" class=\"data row9 col0\" >Logistic Regression</td>\n",
       "                        <td id=\"T_aed7c_row9_col1\" class=\"data row9 col1\" >0.7776</td>\n",
       "                        <td id=\"T_aed7c_row9_col2\" class=\"data row9 col2\" >0.7924</td>\n",
       "                        <td id=\"T_aed7c_row9_col3\" class=\"data row9 col3\" >0.8906</td>\n",
       "                        <td id=\"T_aed7c_row9_col4\" class=\"data row9 col4\" >0.8228</td>\n",
       "                        <td id=\"T_aed7c_row9_col5\" class=\"data row9 col5\" >0.8553</td>\n",
       "                        <td id=\"T_aed7c_row9_col6\" class=\"data row9 col6\" >0.3775</td>\n",
       "                        <td id=\"T_aed7c_row9_col7\" class=\"data row9 col7\" >0.3843</td>\n",
       "                        <td id=\"T_aed7c_row9_col8\" class=\"data row9 col8\" >0.6660</td>\n",
       "            </tr>\n",
       "            <tr>\n",
       "                        <th id=\"T_aed7c_level0_row10\" class=\"row_heading level0 row10\" >lda</th>\n",
       "                        <td id=\"T_aed7c_row10_col0\" class=\"data row10 col0\" >Linear Discriminant Analysis</td>\n",
       "                        <td id=\"T_aed7c_row10_col1\" class=\"data row10 col1\" >0.7769</td>\n",
       "                        <td id=\"T_aed7c_row10_col2\" class=\"data row10 col2\" >0.7936</td>\n",
       "                        <td id=\"T_aed7c_row10_col3\" class=\"data row10 col3\" >0.8666</td>\n",
       "                        <td id=\"T_aed7c_row10_col4\" class=\"data row10 col4\" >0.8373</td>\n",
       "                        <td id=\"T_aed7c_row10_col5\" class=\"data row10 col5\" >0.8515</td>\n",
       "                        <td id=\"T_aed7c_row10_col6\" class=\"data row10 col6\" >0.4026</td>\n",
       "                        <td id=\"T_aed7c_row10_col7\" class=\"data row10 col7\" >0.4045</td>\n",
       "                        <td id=\"T_aed7c_row10_col8\" class=\"data row10 col8\" >0.0200</td>\n",
       "            </tr>\n",
       "            <tr>\n",
       "                        <th id=\"T_aed7c_level0_row11\" class=\"row_heading level0 row11\" >knn</th>\n",
       "                        <td id=\"T_aed7c_row11_col0\" class=\"data row11 col0\" >K Neighbors Classifier</td>\n",
       "                        <td id=\"T_aed7c_row11_col1\" class=\"data row11 col1\" >0.7235</td>\n",
       "                        <td id=\"T_aed7c_row11_col2\" class=\"data row11 col2\" >0.6800</td>\n",
       "                        <td id=\"T_aed7c_row11_col3\" class=\"data row11 col3\" >0.8666</td>\n",
       "                        <td id=\"T_aed7c_row11_col4\" class=\"data row11 col4\" >0.7832</td>\n",
       "                        <td id=\"T_aed7c_row11_col5\" class=\"data row11 col5\" >0.8225</td>\n",
       "                        <td id=\"T_aed7c_row11_col6\" class=\"data row11 col6\" >0.2024</td>\n",
       "                        <td id=\"T_aed7c_row11_col7\" class=\"data row11 col7\" >0.2074</td>\n",
       "                        <td id=\"T_aed7c_row11_col8\" class=\"data row11 col8\" >0.0420</td>\n",
       "            </tr>\n",
       "            <tr>\n",
       "                        <th id=\"T_aed7c_level0_row12\" class=\"row_heading level0 row12\" >qda</th>\n",
       "                        <td id=\"T_aed7c_row12_col0\" class=\"data row12 col0\" >Quadratic Discriminant Analysis</td>\n",
       "                        <td id=\"T_aed7c_row12_col1\" class=\"data row12 col1\" >0.7190</td>\n",
       "                        <td id=\"T_aed7c_row12_col2\" class=\"data row12 col2\" >0.7906</td>\n",
       "                        <td id=\"T_aed7c_row12_col3\" class=\"data row12 col3\" >0.7132</td>\n",
       "                        <td id=\"T_aed7c_row12_col4\" class=\"data row12 col4\" >0.8848</td>\n",
       "                        <td id=\"T_aed7c_row12_col5\" class=\"data row12 col5\" >0.7888</td>\n",
       "                        <td id=\"T_aed7c_row12_col6\" class=\"data row12 col6\" >0.3828</td>\n",
       "                        <td id=\"T_aed7c_row12_col7\" class=\"data row12 col7\" >0.4040</td>\n",
       "                        <td id=\"T_aed7c_row12_col8\" class=\"data row12 col8\" >0.0220</td>\n",
       "            </tr>\n",
       "            <tr>\n",
       "                        <th id=\"T_aed7c_level0_row13\" class=\"row_heading level0 row13\" >nb</th>\n",
       "                        <td id=\"T_aed7c_row13_col0\" class=\"data row13 col0\" >Naive Bayes</td>\n",
       "                        <td id=\"T_aed7c_row13_col1\" class=\"data row13 col1\" >0.6946</td>\n",
       "                        <td id=\"T_aed7c_row13_col2\" class=\"data row13 col2\" >0.7725</td>\n",
       "                        <td id=\"T_aed7c_row13_col3\" class=\"data row13 col3\" >0.6800</td>\n",
       "                        <td id=\"T_aed7c_row13_col4\" class=\"data row13 col4\" >0.8799</td>\n",
       "                        <td id=\"T_aed7c_row13_col5\" class=\"data row13 col5\" >0.7668</td>\n",
       "                        <td id=\"T_aed7c_row13_col6\" class=\"data row13 col6\" >0.3441</td>\n",
       "                        <td id=\"T_aed7c_row13_col7\" class=\"data row13 col7\" >0.3693</td>\n",
       "                        <td id=\"T_aed7c_row13_col8\" class=\"data row13 col8\" >0.0180</td>\n",
       "            </tr>\n",
       "            <tr>\n",
       "                        <th id=\"T_aed7c_level0_row14\" class=\"row_heading level0 row14\" >svm</th>\n",
       "                        <td id=\"T_aed7c_row14_col0\" class=\"data row14 col0\" >SVM - Linear Kernel</td>\n",
       "                        <td id=\"T_aed7c_row14_col1\" class=\"data row14 col1\" >0.6099</td>\n",
       "                        <td id=\"T_aed7c_row14_col2\" class=\"data row14 col2\" >0.0000</td>\n",
       "                        <td id=\"T_aed7c_row14_col3\" class=\"data row14 col3\" >0.5456</td>\n",
       "                        <td id=\"T_aed7c_row14_col4\" class=\"data row14 col4\" >0.9046</td>\n",
       "                        <td id=\"T_aed7c_row14_col5\" class=\"data row14 col5\" >0.6419</td>\n",
       "                        <td id=\"T_aed7c_row14_col6\" class=\"data row14 col6\" >0.2720</td>\n",
       "                        <td id=\"T_aed7c_row14_col7\" class=\"data row14 col7\" >0.3345</td>\n",
       "                        <td id=\"T_aed7c_row14_col8\" class=\"data row14 col8\" >0.0240</td>\n",
       "            </tr>\n",
       "    </tbody></table>"
      ],
      "text/plain": [
       "<pandas.io.formats.style.Styler at 0x7fc11c4bc340>"
      ]
     },
     "metadata": {},
     "output_type": "display_data"
    }
   ],
   "source": [
    "top_model = compare_models(\n",
    "    sort='F1',\n",
    "    fold=K_FOLDS,\n",
    "    n_select=3\n",
    ")"
   ]
  },
  {
   "cell_type": "markdown",
   "metadata": {},
   "source": [
    "The best model by F1-Score is the Catboost Classifier, but the difference from XGBoost is minimal and this model got a better score on the other metrics, let's take XGBoost as the base model.\n",
    "Tune the model to see if can get any improvement."
   ]
  },
  {
   "cell_type": "code",
   "execution_count": 52,
   "metadata": {},
   "outputs": [
    {
     "data": {
      "text/html": [
       "<style  type=\"text/css\" >\n",
       "#T_5f319_row5_col0,#T_5f319_row5_col1,#T_5f319_row5_col2,#T_5f319_row5_col3,#T_5f319_row5_col4,#T_5f319_row5_col5,#T_5f319_row5_col6{\n",
       "            background:  yellow;\n",
       "        }</style><table id=\"T_5f319_\" ><thead>    <tr>        <th class=\"blank level0\" ></th>        <th class=\"col_heading level0 col0\" >Accuracy</th>        <th class=\"col_heading level0 col1\" >AUC</th>        <th class=\"col_heading level0 col2\" >Recall</th>        <th class=\"col_heading level0 col3\" >Prec.</th>        <th class=\"col_heading level0 col4\" >F1</th>        <th class=\"col_heading level0 col5\" >Kappa</th>        <th class=\"col_heading level0 col6\" >MCC</th>    </tr></thead><tbody>\n",
       "                <tr>\n",
       "                        <th id=\"T_5f319_level0_row0\" class=\"row_heading level0 row0\" >0</th>\n",
       "                        <td id=\"T_5f319_row0_col0\" class=\"data row0 col0\" >0.8074</td>\n",
       "                        <td id=\"T_5f319_row0_col1\" class=\"data row0 col1\" >0.8182</td>\n",
       "                        <td id=\"T_5f319_row0_col2\" class=\"data row0 col2\" >0.9400</td>\n",
       "                        <td id=\"T_5f319_row0_col3\" class=\"data row0 col3\" >0.8246</td>\n",
       "                        <td id=\"T_5f319_row0_col4\" class=\"data row0 col4\" >0.8785</td>\n",
       "                        <td id=\"T_5f319_row0_col5\" class=\"data row0 col5\" >0.4236</td>\n",
       "                        <td id=\"T_5f319_row0_col6\" class=\"data row0 col6\" >0.4456</td>\n",
       "            </tr>\n",
       "            <tr>\n",
       "                        <th id=\"T_5f319_level0_row1\" class=\"row_heading level0 row1\" >1</th>\n",
       "                        <td id=\"T_5f319_row1_col0\" class=\"data row1 col0\" >0.8407</td>\n",
       "                        <td id=\"T_5f319_row1_col1\" class=\"data row1 col1\" >0.8431</td>\n",
       "                        <td id=\"T_5f319_row1_col2\" class=\"data row1 col2\" >0.9700</td>\n",
       "                        <td id=\"T_5f319_row1_col3\" class=\"data row1 col3\" >0.8398</td>\n",
       "                        <td id=\"T_5f319_row1_col4\" class=\"data row1 col4\" >0.9002</td>\n",
       "                        <td id=\"T_5f319_row1_col5\" class=\"data row1 col5\" >0.5156</td>\n",
       "                        <td id=\"T_5f319_row1_col6\" class=\"data row1 col6\" >0.5503</td>\n",
       "            </tr>\n",
       "            <tr>\n",
       "                        <th id=\"T_5f319_level0_row2\" class=\"row_heading level0 row2\" >2</th>\n",
       "                        <td id=\"T_5f319_row2_col0\" class=\"data row2 col0\" >0.8333</td>\n",
       "                        <td id=\"T_5f319_row2_col1\" class=\"data row2 col1\" >0.8955</td>\n",
       "                        <td id=\"T_5f319_row2_col2\" class=\"data row2 col2\" >0.9598</td>\n",
       "                        <td id=\"T_5f319_row2_col3\" class=\"data row2 col3\" >0.8377</td>\n",
       "                        <td id=\"T_5f319_row2_col4\" class=\"data row2 col4\" >0.8946</td>\n",
       "                        <td id=\"T_5f319_row2_col5\" class=\"data row2 col5\" >0.5050</td>\n",
       "                        <td id=\"T_5f319_row2_col6\" class=\"data row2 col6\" >0.5328</td>\n",
       "            </tr>\n",
       "            <tr>\n",
       "                        <th id=\"T_5f319_level0_row3\" class=\"row_heading level0 row3\" >3</th>\n",
       "                        <td id=\"T_5f319_row3_col0\" class=\"data row3 col0\" >0.8111</td>\n",
       "                        <td id=\"T_5f319_row3_col1\" class=\"data row3 col1\" >0.8619</td>\n",
       "                        <td id=\"T_5f319_row3_col2\" class=\"data row3 col2\" >0.9447</td>\n",
       "                        <td id=\"T_5f319_row3_col3\" class=\"data row3 col3\" >0.8246</td>\n",
       "                        <td id=\"T_5f319_row3_col4\" class=\"data row3 col4\" >0.8806</td>\n",
       "                        <td id=\"T_5f319_row3_col5\" class=\"data row3 col5\" >0.4390</td>\n",
       "                        <td id=\"T_5f319_row3_col6\" class=\"data row3 col6\" >0.4632</td>\n",
       "            </tr>\n",
       "            <tr>\n",
       "                        <th id=\"T_5f319_level0_row4\" class=\"row_heading level0 row4\" >4</th>\n",
       "                        <td id=\"T_5f319_row4_col0\" class=\"data row4 col0\" >0.7732</td>\n",
       "                        <td id=\"T_5f319_row4_col1\" class=\"data row4 col1\" >0.8243</td>\n",
       "                        <td id=\"T_5f319_row4_col2\" class=\"data row4 col2\" >0.9095</td>\n",
       "                        <td id=\"T_5f319_row4_col3\" class=\"data row4 col3\" >0.8080</td>\n",
       "                        <td id=\"T_5f319_row4_col4\" class=\"data row4 col4\" >0.8558</td>\n",
       "                        <td id=\"T_5f319_row4_col5\" class=\"data row4 col5\" >0.3339</td>\n",
       "                        <td id=\"T_5f319_row4_col6\" class=\"data row4 col6\" >0.3471</td>\n",
       "            </tr>\n",
       "            <tr>\n",
       "                        <th id=\"T_5f319_level0_row5\" class=\"row_heading level0 row5\" >Mean</th>\n",
       "                        <td id=\"T_5f319_row5_col0\" class=\"data row5 col0\" >0.8132</td>\n",
       "                        <td id=\"T_5f319_row5_col1\" class=\"data row5 col1\" >0.8486</td>\n",
       "                        <td id=\"T_5f319_row5_col2\" class=\"data row5 col2\" >0.9448</td>\n",
       "                        <td id=\"T_5f319_row5_col3\" class=\"data row5 col3\" >0.8269</td>\n",
       "                        <td id=\"T_5f319_row5_col4\" class=\"data row5 col4\" >0.8819</td>\n",
       "                        <td id=\"T_5f319_row5_col5\" class=\"data row5 col5\" >0.4434</td>\n",
       "                        <td id=\"T_5f319_row5_col6\" class=\"data row5 col6\" >0.4678</td>\n",
       "            </tr>\n",
       "            <tr>\n",
       "                        <th id=\"T_5f319_level0_row6\" class=\"row_heading level0 row6\" >SD</th>\n",
       "                        <td id=\"T_5f319_row6_col0\" class=\"data row6 col0\" >0.0237</td>\n",
       "                        <td id=\"T_5f319_row6_col1\" class=\"data row6 col1\" >0.0280</td>\n",
       "                        <td id=\"T_5f319_row6_col2\" class=\"data row6 col2\" >0.0206</td>\n",
       "                        <td id=\"T_5f319_row6_col3\" class=\"data row6 col3\" >0.0114</td>\n",
       "                        <td id=\"T_5f319_row6_col4\" class=\"data row6 col4\" >0.0154</td>\n",
       "                        <td id=\"T_5f319_row6_col5\" class=\"data row6 col5\" >0.0654</td>\n",
       "                        <td id=\"T_5f319_row6_col6\" class=\"data row6 col6\" >0.0723</td>\n",
       "            </tr>\n",
       "    </tbody></table>"
      ],
      "text/plain": [
       "<pandas.io.formats.style.Styler at 0x7fc0b155b490>"
      ]
     },
     "metadata": {},
     "output_type": "display_data"
    }
   ],
   "source": [
    "tuned_model = tune_model(\n",
    "    top_model[1], optimize='F1', choose_better=True, fold=K_FOLDS\n",
    ")"
   ]
  },
  {
   "cell_type": "markdown",
   "metadata": {},
   "source": [
    "The tuned model doesn't get any improvement, so the base model is the best.<br>\n",
    "Time to build a Bagging Ensemble."
   ]
  },
  {
   "cell_type": "code",
   "execution_count": 53,
   "metadata": {},
   "outputs": [
    {
     "data": {
      "text/html": [
       "<style  type=\"text/css\" >\n",
       "#T_8ec0f_row5_col0,#T_8ec0f_row5_col1,#T_8ec0f_row5_col2,#T_8ec0f_row5_col3,#T_8ec0f_row5_col4,#T_8ec0f_row5_col5,#T_8ec0f_row5_col6{\n",
       "            background:  yellow;\n",
       "        }</style><table id=\"T_8ec0f_\" ><thead>    <tr>        <th class=\"blank level0\" ></th>        <th class=\"col_heading level0 col0\" >Accuracy</th>        <th class=\"col_heading level0 col1\" >AUC</th>        <th class=\"col_heading level0 col2\" >Recall</th>        <th class=\"col_heading level0 col3\" >Prec.</th>        <th class=\"col_heading level0 col4\" >F1</th>        <th class=\"col_heading level0 col5\" >Kappa</th>        <th class=\"col_heading level0 col6\" >MCC</th>    </tr></thead><tbody>\n",
       "                <tr>\n",
       "                        <th id=\"T_8ec0f_level0_row0\" class=\"row_heading level0 row0\" >0</th>\n",
       "                        <td id=\"T_8ec0f_row0_col0\" class=\"data row0 col0\" >0.8259</td>\n",
       "                        <td id=\"T_8ec0f_row0_col1\" class=\"data row0 col1\" >0.8892</td>\n",
       "                        <td id=\"T_8ec0f_row0_col2\" class=\"data row0 col2\" >0.9350</td>\n",
       "                        <td id=\"T_8ec0f_row0_col3\" class=\"data row0 col3\" >0.8462</td>\n",
       "                        <td id=\"T_8ec0f_row0_col4\" class=\"data row0 col4\" >0.8884</td>\n",
       "                        <td id=\"T_8ec0f_row0_col5\" class=\"data row0 col5\" >0.4978</td>\n",
       "                        <td id=\"T_8ec0f_row0_col6\" class=\"data row0 col6\" >0.5108</td>\n",
       "            </tr>\n",
       "            <tr>\n",
       "                        <th id=\"T_8ec0f_level0_row1\" class=\"row_heading level0 row1\" >1</th>\n",
       "                        <td id=\"T_8ec0f_row1_col0\" class=\"data row1 col0\" >0.8556</td>\n",
       "                        <td id=\"T_8ec0f_row1_col1\" class=\"data row1 col1\" >0.8995</td>\n",
       "                        <td id=\"T_8ec0f_row1_col2\" class=\"data row1 col2\" >0.9550</td>\n",
       "                        <td id=\"T_8ec0f_row1_col3\" class=\"data row1 col3\" >0.8643</td>\n",
       "                        <td id=\"T_8ec0f_row1_col4\" class=\"data row1 col4\" >0.9074</td>\n",
       "                        <td id=\"T_8ec0f_row1_col5\" class=\"data row1 col5\" >0.5833</td>\n",
       "                        <td id=\"T_8ec0f_row1_col6\" class=\"data row1 col6\" >0.5986</td>\n",
       "            </tr>\n",
       "            <tr>\n",
       "                        <th id=\"T_8ec0f_level0_row2\" class=\"row_heading level0 row2\" >2</th>\n",
       "                        <td id=\"T_8ec0f_row2_col0\" class=\"data row2 col0\" >0.9000</td>\n",
       "                        <td id=\"T_8ec0f_row2_col1\" class=\"data row2 col1\" >0.9518</td>\n",
       "                        <td id=\"T_8ec0f_row2_col2\" class=\"data row2 col2\" >0.9598</td>\n",
       "                        <td id=\"T_8ec0f_row2_col3\" class=\"data row2 col3\" >0.9095</td>\n",
       "                        <td id=\"T_8ec0f_row2_col4\" class=\"data row2 col4\" >0.9340</td>\n",
       "                        <td id=\"T_8ec0f_row2_col5\" class=\"data row2 col5\" >0.7285</td>\n",
       "                        <td id=\"T_8ec0f_row2_col6\" class=\"data row2 col6\" >0.7330</td>\n",
       "            </tr>\n",
       "            <tr>\n",
       "                        <th id=\"T_8ec0f_level0_row3\" class=\"row_heading level0 row3\" >3</th>\n",
       "                        <td id=\"T_8ec0f_row3_col0\" class=\"data row3 col0\" >0.8704</td>\n",
       "                        <td id=\"T_8ec0f_row3_col1\" class=\"data row3 col1\" >0.9158</td>\n",
       "                        <td id=\"T_8ec0f_row3_col2\" class=\"data row3 col2\" >0.9497</td>\n",
       "                        <td id=\"T_8ec0f_row3_col3\" class=\"data row3 col3\" >0.8832</td>\n",
       "                        <td id=\"T_8ec0f_row3_col4\" class=\"data row3 col4\" >0.9153</td>\n",
       "                        <td id=\"T_8ec0f_row3_col5\" class=\"data row3 col5\" >0.6412</td>\n",
       "                        <td id=\"T_8ec0f_row3_col6\" class=\"data row3 col6\" >0.6489</td>\n",
       "            </tr>\n",
       "            <tr>\n",
       "                        <th id=\"T_8ec0f_level0_row4\" class=\"row_heading level0 row4\" >4</th>\n",
       "                        <td id=\"T_8ec0f_row4_col0\" class=\"data row4 col0\" >0.8587</td>\n",
       "                        <td id=\"T_8ec0f_row4_col1\" class=\"data row4 col1\" >0.8728</td>\n",
       "                        <td id=\"T_8ec0f_row4_col2\" class=\"data row4 col2\" >0.9397</td>\n",
       "                        <td id=\"T_8ec0f_row4_col3\" class=\"data row4 col3\" >0.8779</td>\n",
       "                        <td id=\"T_8ec0f_row4_col4\" class=\"data row4 col4\" >0.9078</td>\n",
       "                        <td id=\"T_8ec0f_row4_col5\" class=\"data row4 col5\" >0.6077</td>\n",
       "                        <td id=\"T_8ec0f_row4_col6\" class=\"data row4 col6\" >0.6141</td>\n",
       "            </tr>\n",
       "            <tr>\n",
       "                        <th id=\"T_8ec0f_level0_row5\" class=\"row_heading level0 row5\" >Mean</th>\n",
       "                        <td id=\"T_8ec0f_row5_col0\" class=\"data row5 col0\" >0.8621</td>\n",
       "                        <td id=\"T_8ec0f_row5_col1\" class=\"data row5 col1\" >0.9058</td>\n",
       "                        <td id=\"T_8ec0f_row5_col2\" class=\"data row5 col2\" >0.9478</td>\n",
       "                        <td id=\"T_8ec0f_row5_col3\" class=\"data row5 col3\" >0.8762</td>\n",
       "                        <td id=\"T_8ec0f_row5_col4\" class=\"data row5 col4\" >0.9105</td>\n",
       "                        <td id=\"T_8ec0f_row5_col5\" class=\"data row5 col5\" >0.6117</td>\n",
       "                        <td id=\"T_8ec0f_row5_col6\" class=\"data row5 col6\" >0.6211</td>\n",
       "            </tr>\n",
       "            <tr>\n",
       "                        <th id=\"T_8ec0f_level0_row6\" class=\"row_heading level0 row6\" >SD</th>\n",
       "                        <td id=\"T_8ec0f_row6_col0\" class=\"data row6 col0\" >0.0239</td>\n",
       "                        <td id=\"T_8ec0f_row6_col1\" class=\"data row6 col1\" >0.0269</td>\n",
       "                        <td id=\"T_8ec0f_row6_col2\" class=\"data row6 col2\" >0.0093</td>\n",
       "                        <td id=\"T_8ec0f_row6_col3\" class=\"data row6 col3\" >0.0210</td>\n",
       "                        <td id=\"T_8ec0f_row6_col4\" class=\"data row6 col4\" >0.0147</td>\n",
       "                        <td id=\"T_8ec0f_row6_col5\" class=\"data row6 col5\" >0.0752</td>\n",
       "                        <td id=\"T_8ec0f_row6_col6\" class=\"data row6 col6\" >0.0721</td>\n",
       "            </tr>\n",
       "    </tbody></table>"
      ],
      "text/plain": [
       "<pandas.io.formats.style.Styler at 0x7fc0b10a44c0>"
      ]
     },
     "metadata": {},
     "output_type": "display_data"
    }
   ],
   "source": [
    "bagged_model = ensemble_model(\n",
    "    tuned_model, optimize=\"F1\", fold=K_FOLDS\n",
    ") "
   ]
  },
  {
   "cell_type": "markdown",
   "metadata": {},
   "source": [
    "And now a Boosting Ensemble."
   ]
  },
  {
   "cell_type": "code",
   "execution_count": 54,
   "metadata": {},
   "outputs": [
    {
     "data": {
      "text/html": [
       "<style  type=\"text/css\" >\n",
       "#T_e51d2_row5_col0,#T_e51d2_row5_col1,#T_e51d2_row5_col2,#T_e51d2_row5_col3,#T_e51d2_row5_col4,#T_e51d2_row5_col5,#T_e51d2_row5_col6{\n",
       "            background:  yellow;\n",
       "        }</style><table id=\"T_e51d2_\" ><thead>    <tr>        <th class=\"blank level0\" ></th>        <th class=\"col_heading level0 col0\" >Accuracy</th>        <th class=\"col_heading level0 col1\" >AUC</th>        <th class=\"col_heading level0 col2\" >Recall</th>        <th class=\"col_heading level0 col3\" >Prec.</th>        <th class=\"col_heading level0 col4\" >F1</th>        <th class=\"col_heading level0 col5\" >Kappa</th>        <th class=\"col_heading level0 col6\" >MCC</th>    </tr></thead><tbody>\n",
       "                <tr>\n",
       "                        <th id=\"T_e51d2_level0_row0\" class=\"row_heading level0 row0\" >0</th>\n",
       "                        <td id=\"T_e51d2_row0_col0\" class=\"data row0 col0\" >0.8444</td>\n",
       "                        <td id=\"T_e51d2_row0_col1\" class=\"data row0 col1\" >0.9064</td>\n",
       "                        <td id=\"T_e51d2_row0_col2\" class=\"data row0 col2\" >0.9300</td>\n",
       "                        <td id=\"T_e51d2_row0_col3\" class=\"data row0 col3\" >0.8692</td>\n",
       "                        <td id=\"T_e51d2_row0_col4\" class=\"data row0 col4\" >0.8986</td>\n",
       "                        <td id=\"T_e51d2_row0_col5\" class=\"data row0 col5\" >0.5668</td>\n",
       "                        <td id=\"T_e51d2_row0_col6\" class=\"data row0 col6\" >0.5728</td>\n",
       "            </tr>\n",
       "            <tr>\n",
       "                        <th id=\"T_e51d2_level0_row1\" class=\"row_heading level0 row1\" >1</th>\n",
       "                        <td id=\"T_e51d2_row1_col0\" class=\"data row1 col0\" >0.8556</td>\n",
       "                        <td id=\"T_e51d2_row1_col1\" class=\"data row1 col1\" >0.9011</td>\n",
       "                        <td id=\"T_e51d2_row1_col2\" class=\"data row1 col2\" >0.9400</td>\n",
       "                        <td id=\"T_e51d2_row1_col3\" class=\"data row1 col3\" >0.8744</td>\n",
       "                        <td id=\"T_e51d2_row1_col4\" class=\"data row1 col4\" >0.9060</td>\n",
       "                        <td id=\"T_e51d2_row1_col5\" class=\"data row1 col5\" >0.5958</td>\n",
       "                        <td id=\"T_e51d2_row1_col6\" class=\"data row1 col6\" >0.6031</td>\n",
       "            </tr>\n",
       "            <tr>\n",
       "                        <th id=\"T_e51d2_level0_row2\" class=\"row_heading level0 row2\" >2</th>\n",
       "                        <td id=\"T_e51d2_row2_col0\" class=\"data row2 col0\" >0.9111</td>\n",
       "                        <td id=\"T_e51d2_row2_col1\" class=\"data row2 col1\" >0.9452</td>\n",
       "                        <td id=\"T_e51d2_row2_col2\" class=\"data row2 col2\" >0.9598</td>\n",
       "                        <td id=\"T_e51d2_row2_col3\" class=\"data row2 col3\" >0.9227</td>\n",
       "                        <td id=\"T_e51d2_row2_col4\" class=\"data row2 col4\" >0.9409</td>\n",
       "                        <td id=\"T_e51d2_row2_col5\" class=\"data row2 col5\" >0.7621</td>\n",
       "                        <td id=\"T_e51d2_row2_col6\" class=\"data row2 col6\" >0.7645</td>\n",
       "            </tr>\n",
       "            <tr>\n",
       "                        <th id=\"T_e51d2_level0_row3\" class=\"row_heading level0 row3\" >3</th>\n",
       "                        <td id=\"T_e51d2_row3_col0\" class=\"data row3 col0\" >0.8889</td>\n",
       "                        <td id=\"T_e51d2_row3_col1\" class=\"data row3 col1\" >0.9205</td>\n",
       "                        <td id=\"T_e51d2_row3_col2\" class=\"data row3 col2\" >0.9598</td>\n",
       "                        <td id=\"T_e51d2_row3_col3\" class=\"data row3 col3\" >0.8967</td>\n",
       "                        <td id=\"T_e51d2_row3_col4\" class=\"data row3 col4\" >0.9272</td>\n",
       "                        <td id=\"T_e51d2_row3_col5\" class=\"data row3 col5\" >0.6939</td>\n",
       "                        <td id=\"T_e51d2_row3_col6\" class=\"data row3 col6\" >0.7011</td>\n",
       "            </tr>\n",
       "            <tr>\n",
       "                        <th id=\"T_e51d2_level0_row4\" class=\"row_heading level0 row4\" >4</th>\n",
       "                        <td id=\"T_e51d2_row4_col0\" class=\"data row4 col0\" >0.8587</td>\n",
       "                        <td id=\"T_e51d2_row4_col1\" class=\"data row4 col1\" >0.8706</td>\n",
       "                        <td id=\"T_e51d2_row4_col2\" class=\"data row4 col2\" >0.9296</td>\n",
       "                        <td id=\"T_e51d2_row4_col3\" class=\"data row4 col3\" >0.8852</td>\n",
       "                        <td id=\"T_e51d2_row4_col4\" class=\"data row4 col4\" >0.9069</td>\n",
       "                        <td id=\"T_e51d2_row4_col5\" class=\"data row4 col5\" >0.6153</td>\n",
       "                        <td id=\"T_e51d2_row4_col6\" class=\"data row4 col6\" >0.6185</td>\n",
       "            </tr>\n",
       "            <tr>\n",
       "                        <th id=\"T_e51d2_level0_row5\" class=\"row_heading level0 row5\" >Mean</th>\n",
       "                        <td id=\"T_e51d2_row5_col0\" class=\"data row5 col0\" >0.8717</td>\n",
       "                        <td id=\"T_e51d2_row5_col1\" class=\"data row5 col1\" >0.9087</td>\n",
       "                        <td id=\"T_e51d2_row5_col2\" class=\"data row5 col2\" >0.9438</td>\n",
       "                        <td id=\"T_e51d2_row5_col3\" class=\"data row5 col3\" >0.8896</td>\n",
       "                        <td id=\"T_e51d2_row5_col4\" class=\"data row5 col4\" >0.9159</td>\n",
       "                        <td id=\"T_e51d2_row5_col5\" class=\"data row5 col5\" >0.6468</td>\n",
       "                        <td id=\"T_e51d2_row5_col6\" class=\"data row5 col6\" >0.6520</td>\n",
       "            </tr>\n",
       "            <tr>\n",
       "                        <th id=\"T_e51d2_level0_row6\" class=\"row_heading level0 row6\" >SD</th>\n",
       "                        <td id=\"T_e51d2_row6_col0\" class=\"data row6 col0\" >0.0246</td>\n",
       "                        <td id=\"T_e51d2_row6_col1\" class=\"data row6 col1\" >0.0244</td>\n",
       "                        <td id=\"T_e51d2_row6_col2\" class=\"data row6 col2\" >0.0135</td>\n",
       "                        <td id=\"T_e51d2_row6_col3\" class=\"data row6 col3\" >0.0191</td>\n",
       "                        <td id=\"T_e51d2_row6_col4\" class=\"data row6 col4\" >0.0157</td>\n",
       "                        <td id=\"T_e51d2_row6_col5\" class=\"data row6 col5\" >0.0714</td>\n",
       "                        <td id=\"T_e51d2_row6_col6\" class=\"data row6 col6\" >0.0705</td>\n",
       "            </tr>\n",
       "    </tbody></table>"
      ],
      "text/plain": [
       "<pandas.io.formats.style.Styler at 0x7fc0b0fd7070>"
      ]
     },
     "metadata": {},
     "output_type": "display_data"
    }
   ],
   "source": [
    "boosted_model = ensemble_model(\n",
    "    tuned_model, optimize=\"F1\",\n",
    "    fold=K_FOLDS, method=\"Boosting\"\n",
    ") "
   ]
  },
  {
   "cell_type": "markdown",
   "metadata": {},
   "source": [
    "The Bagged Model is the best and is saved as the best model and used to predict on the test set."
   ]
  },
  {
   "cell_type": "code",
   "execution_count": 55,
   "metadata": {},
   "outputs": [
    {
     "data": {
      "text/html": [
       "<style  type=\"text/css\" >\n",
       "</style><table id=\"T_ca69d_\" ><thead>    <tr>        <th class=\"blank level0\" ></th>        <th class=\"col_heading level0 col0\" >Model</th>        <th class=\"col_heading level0 col1\" >Accuracy</th>        <th class=\"col_heading level0 col2\" >AUC</th>        <th class=\"col_heading level0 col3\" >Recall</th>        <th class=\"col_heading level0 col4\" >Prec.</th>        <th class=\"col_heading level0 col5\" >F1</th>        <th class=\"col_heading level0 col6\" >Kappa</th>        <th class=\"col_heading level0 col7\" >MCC</th>    </tr></thead><tbody>\n",
       "                <tr>\n",
       "                        <th id=\"T_ca69d_level0_row0\" class=\"row_heading level0 row0\" >0</th>\n",
       "                        <td id=\"T_ca69d_row0_col0\" class=\"data row0 col0\" >Extra Trees Classifier</td>\n",
       "                        <td id=\"T_ca69d_row0_col1\" class=\"data row0 col1\" >0.8670</td>\n",
       "                        <td id=\"T_ca69d_row0_col2\" class=\"data row0 col2\" >0.8844</td>\n",
       "                        <td id=\"T_ca69d_row0_col3\" class=\"data row0 col3\" >0.9576</td>\n",
       "                        <td id=\"T_ca69d_row0_col4\" class=\"data row0 col4\" >0.8809</td>\n",
       "                        <td id=\"T_ca69d_row0_col5\" class=\"data row0 col5\" >0.9176</td>\n",
       "                        <td id=\"T_ca69d_row0_col6\" class=\"data row0 col6\" >0.5755</td>\n",
       "                        <td id=\"T_ca69d_row0_col7\" class=\"data row0 col7\" >0.5892</td>\n",
       "            </tr>\n",
       "    </tbody></table>"
      ],
      "text/plain": [
       "<pandas.io.formats.style.Styler at 0x7fc0b1185160>"
      ]
     },
     "metadata": {},
     "output_type": "display_data"
    }
   ],
   "source": [
    "best_model = bagged_model\n",
    "predict_model(best_model);"
   ]
  },
  {
   "cell_type": "markdown",
   "metadata": {},
   "source": [
    "Let's check the model hyperparameters."
   ]
  },
  {
   "cell_type": "code",
   "execution_count": 56,
   "metadata": {},
   "outputs": [
    {
     "data": {
      "text/html": [
       "<div>\n",
       "<style scoped>\n",
       "    .dataframe tbody tr th:only-of-type {\n",
       "        vertical-align: middle;\n",
       "    }\n",
       "\n",
       "    .dataframe tbody tr th {\n",
       "        vertical-align: top;\n",
       "    }\n",
       "\n",
       "    .dataframe thead th {\n",
       "        text-align: right;\n",
       "    }\n",
       "</style>\n",
       "<table border=\"1\" class=\"dataframe\">\n",
       "  <thead>\n",
       "    <tr style=\"text-align: right;\">\n",
       "      <th></th>\n",
       "      <th>Parameters</th>\n",
       "    </tr>\n",
       "  </thead>\n",
       "  <tbody>\n",
       "    <tr>\n",
       "      <th>base_estimator</th>\n",
       "      <td>ExtraTreesClassifier(bootstrap=False, ccp_alph...</td>\n",
       "    </tr>\n",
       "    <tr>\n",
       "      <th>bootstrap</th>\n",
       "      <td>True</td>\n",
       "    </tr>\n",
       "    <tr>\n",
       "      <th>bootstrap_features</th>\n",
       "      <td>False</td>\n",
       "    </tr>\n",
       "    <tr>\n",
       "      <th>max_features</th>\n",
       "      <td>1.0</td>\n",
       "    </tr>\n",
       "    <tr>\n",
       "      <th>max_samples</th>\n",
       "      <td>1.0</td>\n",
       "    </tr>\n",
       "    <tr>\n",
       "      <th>n_estimators</th>\n",
       "      <td>10</td>\n",
       "    </tr>\n",
       "    <tr>\n",
       "      <th>n_jobs</th>\n",
       "      <td>None</td>\n",
       "    </tr>\n",
       "    <tr>\n",
       "      <th>oob_score</th>\n",
       "      <td>False</td>\n",
       "    </tr>\n",
       "    <tr>\n",
       "      <th>random_state</th>\n",
       "      <td>42</td>\n",
       "    </tr>\n",
       "    <tr>\n",
       "      <th>verbose</th>\n",
       "      <td>0</td>\n",
       "    </tr>\n",
       "    <tr>\n",
       "      <th>warm_start</th>\n",
       "      <td>False</td>\n",
       "    </tr>\n",
       "  </tbody>\n",
       "</table>\n",
       "</div>"
      ],
      "text/plain": [
       "                                                           Parameters\n",
       "base_estimator      ExtraTreesClassifier(bootstrap=False, ccp_alph...\n",
       "bootstrap                                                        True\n",
       "bootstrap_features                                              False\n",
       "max_features                                                      1.0\n",
       "max_samples                                                       1.0\n",
       "n_estimators                                                       10\n",
       "n_jobs                                                           None\n",
       "oob_score                                                       False\n",
       "random_state                                                       42\n",
       "verbose                                                             0\n",
       "warm_start                                                      False"
      ]
     },
     "metadata": {},
     "output_type": "display_data"
    }
   ],
   "source": [
    "plot_model(best_model, plot=\"parameter\")"
   ]
  },
  {
   "cell_type": "markdown",
   "metadata": {},
   "source": [
    "Now, plot the AUC Score."
   ]
  },
  {
   "cell_type": "code",
   "execution_count": 57,
   "metadata": {
    "scrolled": true
   },
   "outputs": [
    {
     "data": {
      "image/png": "[encoded data removed]",
      "text/plain": [
       "<Figure size 576x396 with 1 Axes>"
      ]
     },
     "metadata": {},
     "output_type": "display_data"
    }
   ],
   "source": [
    "plot_model(best_model, plot=\"auc\")"
   ]
  },
  {
   "cell_type": "markdown",
   "metadata": {},
   "source": [
    "The AUC Score for both classes was good, 0.87.<br>\n",
    "Now, the confusion matrix and class report."
   ]
  },
  {
   "cell_type": "code",
   "execution_count": 58,
   "metadata": {},
   "outputs": [
    {
     "data": {
      "image/png": "[encoded data removed]",
      "text/plain": [
       "<Figure size 576x396 with 1 Axes>"
      ]
     },
     "metadata": {},
     "output_type": "display_data"
    }
   ],
   "source": [
    "plot_model(best_model, plot=\"confusion_matrix\")"
   ]
  },
  {
   "cell_type": "code",
   "execution_count": 86,
   "metadata": {},
   "outputs": [
    {
     "data": {
      "image/png": "[encoded data removed]",
      "text/plain": [
       "<Figure size 576x396 with 2 Axes>"
      ]
     },
     "metadata": {},
     "output_type": "display_data"
    }
   ],
   "source": [
    "plot_model(best_model, plot=\"class_report\")"
   ]
  },
  {
   "cell_type": "markdown",
   "metadata": {},
   "source": [
    "And the results are excellent for the class True (1), but good for the class False (0). <br>\n",
    "As the test data is well fitted on the model, let's use it to fit a final model."
   ]
  },
  {
   "cell_type": "code",
   "execution_count": 87,
   "metadata": {},
   "outputs": [],
   "source": [
    "final_model = finalize_model(best_model)"
   ]
  },
  {
   "cell_type": "markdown",
   "metadata": {},
   "source": [
    "# 5. Validation on Unseen Data\n",
    "To validadte the model, let's see the prediction with unseen data, which was not included on the final model fit."
   ]
  },
  {
   "cell_type": "code",
   "execution_count": 83,
   "metadata": {},
   "outputs": [],
   "source": [
    "predict_unseen = predict_model(final_model, data=unseen)"
   ]
  },
  {
   "cell_type": "code",
   "execution_count": 88,
   "metadata": {},
   "outputs": [
    {
     "ename": "ValueError",
     "evalue": "Input contains NaN, infinity or a value too large for dtype('float64').",
     "output_type": "error",
     "traceback": [
      "\u001b[0;31m---------------------------------------------------------------------------\u001b[0m",
      "\u001b[0;31mValueError\u001b[0m                                Traceback (most recent call last)",
      "\u001b[0;32m<ipython-input-88-ee25061536cc>\u001b[0m in \u001b[0;36m<module>\u001b[0;34m\u001b[0m\n\u001b[0;32m----> 1\u001b[0;31m \u001b[0mscore_unseen\u001b[0m \u001b[0;34m=\u001b[0m \u001b[0mtest_score_report\u001b[0m\u001b[0;34m(\u001b[0m\u001b[0munseen\u001b[0m\u001b[0;34m,\u001b[0m \u001b[0mpredict_unseen\u001b[0m\u001b[0;34m)\u001b[0m\u001b[0;34m\u001b[0m\u001b[0;34m\u001b[0m\u001b[0m\n\u001b[0m",
      "\u001b[0;32m<ipython-input-72-2e316cdfdced>\u001b[0m in \u001b[0;36mtest_score_report\u001b[0;34m(data_unseen, predict_unseen)\u001b[0m\n\u001b[1;32m     53\u001b[0m     \u001b[0mdata_unseen\u001b[0m\u001b[0;34m[\u001b[0m\u001b[0;34m\"Label\"\u001b[0m\u001b[0;34m]\u001b[0m \u001b[0;34m=\u001b[0m \u001b[0mle\u001b[0m\u001b[0;34m.\u001b[0m\u001b[0mfit_transform\u001b[0m\u001b[0;34m(\u001b[0m\u001b[0mdata_unseen\u001b[0m\u001b[0;34m.\u001b[0m\u001b[0msame_security\u001b[0m\u001b[0;34m.\u001b[0m\u001b[0mvalues\u001b[0m\u001b[0;34m)\u001b[0m\u001b[0;34m\u001b[0m\u001b[0;34m\u001b[0m\u001b[0m\n\u001b[1;32m     54\u001b[0m     \u001b[0mdata_unseen\u001b[0m\u001b[0;34m[\u001b[0m\u001b[0;34m\"Label\"\u001b[0m\u001b[0;34m]\u001b[0m \u001b[0;34m=\u001b[0m \u001b[0mdata_unseen\u001b[0m\u001b[0;34m[\u001b[0m\u001b[0;34m\"Label\"\u001b[0m\u001b[0;34m]\u001b[0m\u001b[0;34m.\u001b[0m\u001b[0mastype\u001b[0m\u001b[0;34m(\u001b[0m\u001b[0mint\u001b[0m\u001b[0;34m)\u001b[0m\u001b[0;34m\u001b[0m\u001b[0;34m\u001b[0m\u001b[0m\n\u001b[0;32m---> 55\u001b[0;31m     accuracy = accuracy_score(data_unseen[\"Label\"],\n\u001b[0m\u001b[1;32m     56\u001b[0m     predict_unseen[\"Label\"])\n\u001b[1;32m     57\u001b[0m     roc_auc = roc_auc_score(data_unseen[\"Label\"],\n",
      "\u001b[0;32m~/venvs/pycaret38/lib/python3.8/site-packages/sklearn/utils/validation.py\u001b[0m in \u001b[0;36minner_f\u001b[0;34m(*args, **kwargs)\u001b[0m\n\u001b[1;32m     61\u001b[0m             \u001b[0mextra_args\u001b[0m \u001b[0;34m=\u001b[0m \u001b[0mlen\u001b[0m\u001b[0;34m(\u001b[0m\u001b[0margs\u001b[0m\u001b[0;34m)\u001b[0m \u001b[0;34m-\u001b[0m \u001b[0mlen\u001b[0m\u001b[0;34m(\u001b[0m\u001b[0mall_args\u001b[0m\u001b[0;34m)\u001b[0m\u001b[0;34m\u001b[0m\u001b[0;34m\u001b[0m\u001b[0m\n\u001b[1;32m     62\u001b[0m             \u001b[0;32mif\u001b[0m \u001b[0mextra_args\u001b[0m \u001b[0;34m<=\u001b[0m \u001b[0;36m0\u001b[0m\u001b[0;34m:\u001b[0m\u001b[0;34m\u001b[0m\u001b[0;34m\u001b[0m\u001b[0m\n\u001b[0;32m---> 63\u001b[0;31m                 \u001b[0;32mreturn\u001b[0m \u001b[0mf\u001b[0m\u001b[0;34m(\u001b[0m\u001b[0;34m*\u001b[0m\u001b[0margs\u001b[0m\u001b[0;34m,\u001b[0m \u001b[0;34m**\u001b[0m\u001b[0mkwargs\u001b[0m\u001b[0;34m)\u001b[0m\u001b[0;34m\u001b[0m\u001b[0;34m\u001b[0m\u001b[0m\n\u001b[0m\u001b[1;32m     64\u001b[0m \u001b[0;34m\u001b[0m\u001b[0m\n\u001b[1;32m     65\u001b[0m             \u001b[0;31m# extra_args > 0\u001b[0m\u001b[0;34m\u001b[0m\u001b[0;34m\u001b[0m\u001b[0;34m\u001b[0m\u001b[0m\n",
      "\u001b[0;32m~/venvs/pycaret38/lib/python3.8/site-packages/sklearn/metrics/_classification.py\u001b[0m in \u001b[0;36maccuracy_score\u001b[0;34m(y_true, y_pred, normalize, sample_weight)\u001b[0m\n\u001b[1;32m    200\u001b[0m \u001b[0;34m\u001b[0m\u001b[0m\n\u001b[1;32m    201\u001b[0m     \u001b[0;31m# Compute accuracy for each possible representation\u001b[0m\u001b[0;34m\u001b[0m\u001b[0;34m\u001b[0m\u001b[0;34m\u001b[0m\u001b[0m\n\u001b[0;32m--> 202\u001b[0;31m     \u001b[0my_type\u001b[0m\u001b[0;34m,\u001b[0m \u001b[0my_true\u001b[0m\u001b[0;34m,\u001b[0m \u001b[0my_pred\u001b[0m \u001b[0;34m=\u001b[0m \u001b[0m_check_targets\u001b[0m\u001b[0;34m(\u001b[0m\u001b[0my_true\u001b[0m\u001b[0;34m,\u001b[0m \u001b[0my_pred\u001b[0m\u001b[0;34m)\u001b[0m\u001b[0;34m\u001b[0m\u001b[0;34m\u001b[0m\u001b[0m\n\u001b[0m\u001b[1;32m    203\u001b[0m     \u001b[0mcheck_consistent_length\u001b[0m\u001b[0;34m(\u001b[0m\u001b[0my_true\u001b[0m\u001b[0;34m,\u001b[0m \u001b[0my_pred\u001b[0m\u001b[0;34m,\u001b[0m \u001b[0msample_weight\u001b[0m\u001b[0;34m)\u001b[0m\u001b[0;34m\u001b[0m\u001b[0;34m\u001b[0m\u001b[0m\n\u001b[1;32m    204\u001b[0m     \u001b[0;32mif\u001b[0m \u001b[0my_type\u001b[0m\u001b[0;34m.\u001b[0m\u001b[0mstartswith\u001b[0m\u001b[0;34m(\u001b[0m\u001b[0;34m'multilabel'\u001b[0m\u001b[0;34m)\u001b[0m\u001b[0;34m:\u001b[0m\u001b[0;34m\u001b[0m\u001b[0;34m\u001b[0m\u001b[0m\n",
      "\u001b[0;32m~/venvs/pycaret38/lib/python3.8/site-packages/sklearn/metrics/_classification.py\u001b[0m in \u001b[0;36m_check_targets\u001b[0;34m(y_true, y_pred)\u001b[0m\n\u001b[1;32m     83\u001b[0m     \u001b[0mcheck_consistent_length\u001b[0m\u001b[0;34m(\u001b[0m\u001b[0my_true\u001b[0m\u001b[0;34m,\u001b[0m \u001b[0my_pred\u001b[0m\u001b[0;34m)\u001b[0m\u001b[0;34m\u001b[0m\u001b[0;34m\u001b[0m\u001b[0m\n\u001b[1;32m     84\u001b[0m     \u001b[0mtype_true\u001b[0m \u001b[0;34m=\u001b[0m \u001b[0mtype_of_target\u001b[0m\u001b[0;34m(\u001b[0m\u001b[0my_true\u001b[0m\u001b[0;34m)\u001b[0m\u001b[0;34m\u001b[0m\u001b[0;34m\u001b[0m\u001b[0m\n\u001b[0;32m---> 85\u001b[0;31m     \u001b[0mtype_pred\u001b[0m \u001b[0;34m=\u001b[0m \u001b[0mtype_of_target\u001b[0m\u001b[0;34m(\u001b[0m\u001b[0my_pred\u001b[0m\u001b[0;34m)\u001b[0m\u001b[0;34m\u001b[0m\u001b[0;34m\u001b[0m\u001b[0m\n\u001b[0m\u001b[1;32m     86\u001b[0m \u001b[0;34m\u001b[0m\u001b[0m\n\u001b[1;32m     87\u001b[0m     \u001b[0my_type\u001b[0m \u001b[0;34m=\u001b[0m \u001b[0;34m{\u001b[0m\u001b[0mtype_true\u001b[0m\u001b[0;34m,\u001b[0m \u001b[0mtype_pred\u001b[0m\u001b[0;34m}\u001b[0m\u001b[0;34m\u001b[0m\u001b[0;34m\u001b[0m\u001b[0m\n",
      "\u001b[0;32m~/venvs/pycaret38/lib/python3.8/site-packages/sklearn/utils/multiclass.py\u001b[0m in \u001b[0;36mtype_of_target\u001b[0;34m(y)\u001b[0m\n\u001b[1;32m    301\u001b[0m     \u001b[0;32mif\u001b[0m \u001b[0my\u001b[0m\u001b[0;34m.\u001b[0m\u001b[0mdtype\u001b[0m\u001b[0;34m.\u001b[0m\u001b[0mkind\u001b[0m \u001b[0;34m==\u001b[0m \u001b[0;34m'f'\u001b[0m \u001b[0;32mand\u001b[0m \u001b[0mnp\u001b[0m\u001b[0;34m.\u001b[0m\u001b[0many\u001b[0m\u001b[0;34m(\u001b[0m\u001b[0my\u001b[0m \u001b[0;34m!=\u001b[0m \u001b[0my\u001b[0m\u001b[0;34m.\u001b[0m\u001b[0mastype\u001b[0m\u001b[0;34m(\u001b[0m\u001b[0mint\u001b[0m\u001b[0;34m)\u001b[0m\u001b[0;34m)\u001b[0m\u001b[0;34m:\u001b[0m\u001b[0;34m\u001b[0m\u001b[0;34m\u001b[0m\u001b[0m\n\u001b[1;32m    302\u001b[0m         \u001b[0;31m# [.1, .2, 3] or [[.1, .2, 3]] or [[1., .2]] and not [1., 2., 3.]\u001b[0m\u001b[0;34m\u001b[0m\u001b[0;34m\u001b[0m\u001b[0;34m\u001b[0m\u001b[0m\n\u001b[0;32m--> 303\u001b[0;31m         \u001b[0m_assert_all_finite\u001b[0m\u001b[0;34m(\u001b[0m\u001b[0my\u001b[0m\u001b[0;34m)\u001b[0m\u001b[0;34m\u001b[0m\u001b[0;34m\u001b[0m\u001b[0m\n\u001b[0m\u001b[1;32m    304\u001b[0m         \u001b[0;32mreturn\u001b[0m \u001b[0;34m'continuous'\u001b[0m \u001b[0;34m+\u001b[0m \u001b[0msuffix\u001b[0m\u001b[0;34m\u001b[0m\u001b[0;34m\u001b[0m\u001b[0m\n\u001b[1;32m    305\u001b[0m \u001b[0;34m\u001b[0m\u001b[0m\n",
      "\u001b[0;32m~/venvs/pycaret38/lib/python3.8/site-packages/sklearn/utils/validation.py\u001b[0m in \u001b[0;36m_assert_all_finite\u001b[0;34m(X, allow_nan, msg_dtype)\u001b[0m\n\u001b[1;32m    101\u001b[0m                 not allow_nan and not np.isfinite(X).all()):\n\u001b[1;32m    102\u001b[0m             \u001b[0mtype_err\u001b[0m \u001b[0;34m=\u001b[0m \u001b[0;34m'infinity'\u001b[0m \u001b[0;32mif\u001b[0m \u001b[0mallow_nan\u001b[0m \u001b[0;32melse\u001b[0m \u001b[0;34m'NaN, infinity'\u001b[0m\u001b[0;34m\u001b[0m\u001b[0;34m\u001b[0m\u001b[0m\n\u001b[0;32m--> 103\u001b[0;31m             raise ValueError(\n\u001b[0m\u001b[1;32m    104\u001b[0m                     \u001b[0mmsg_err\u001b[0m\u001b[0;34m.\u001b[0m\u001b[0mformat\u001b[0m\u001b[0;34m\u001b[0m\u001b[0;34m\u001b[0m\u001b[0m\n\u001b[1;32m    105\u001b[0m                     (type_err,\n",
      "\u001b[0;31mValueError\u001b[0m: Input contains NaN, infinity or a value too large for dtype('float64')."
     ]
    }
   ],
   "source": [
    "score_unseen = test_score_report(unseen, predict_unseen)"
   ]
  },
  {
   "cell_type": "code",
   "execution_count": 85,
   "metadata": {},
   "outputs": [
    {
     "ename": "ValueError",
     "evalue": "Input contains NaN, infinity or a value too large for dtype('float64').",
     "output_type": "error",
     "traceback": [
      "\u001b[0;31m---------------------------------------------------------------------------\u001b[0m",
      "\u001b[0;31mValueError\u001b[0m                                Traceback (most recent call last)",
      "\u001b[0;32m<ipython-input-85-b278a326be3f>\u001b[0m in \u001b[0;36m<module>\u001b[0;34m\u001b[0m\n\u001b[1;32m      1\u001b[0m \u001b[0;31m#print(score_unseen.to_string(index=False))\u001b[0m\u001b[0;34m\u001b[0m\u001b[0;34m\u001b[0m\u001b[0;34m\u001b[0m\u001b[0m\n\u001b[0;32m----> 2\u001b[0;31m \u001b[0mconf_mat\u001b[0m\u001b[0;34m(\u001b[0m\u001b[0munseen\u001b[0m\u001b[0;34m,\u001b[0m \u001b[0mpredict_unseen\u001b[0m\u001b[0;34m)\u001b[0m\u001b[0;34m\u001b[0m\u001b[0;34m\u001b[0m\u001b[0m\n\u001b[0m",
      "\u001b[0;32m<ipython-input-72-2e316cdfdced>\u001b[0m in \u001b[0;36mconf_mat\u001b[0;34m(data_unseen, predict_unseen)\u001b[0m\n\u001b[1;32m     76\u001b[0m     \u001b[0munique_label\u001b[0m \u001b[0;34m=\u001b[0m \u001b[0mdata_unseen\u001b[0m\u001b[0;34m[\u001b[0m\u001b[0;34m\"Label\"\u001b[0m\u001b[0;34m]\u001b[0m\u001b[0;34m.\u001b[0m\u001b[0munique\u001b[0m\u001b[0;34m(\u001b[0m\u001b[0;34m)\u001b[0m\u001b[0;34m\u001b[0m\u001b[0;34m\u001b[0m\u001b[0m\n\u001b[1;32m     77\u001b[0m     cmtx = pd.DataFrame(\n\u001b[0;32m---> 78\u001b[0;31m     confusion_matrix(data_unseen[\"Label\"],\n\u001b[0m\u001b[1;32m     79\u001b[0m                     predict_unseen[\"Label\"], labels=unique_label),\n\u001b[1;32m     80\u001b[0m                     \u001b[0mindex\u001b[0m\u001b[0;34m=\u001b[0m\u001b[0;34m[\u001b[0m\u001b[0;34m'{:}'\u001b[0m\u001b[0;34m.\u001b[0m\u001b[0mformat\u001b[0m\u001b[0;34m(\u001b[0m\u001b[0mx\u001b[0m\u001b[0;34m)\u001b[0m \u001b[0;32mfor\u001b[0m \u001b[0mx\u001b[0m \u001b[0;32min\u001b[0m \u001b[0munique_label\u001b[0m\u001b[0;34m]\u001b[0m\u001b[0;34m,\u001b[0m\u001b[0;34m\u001b[0m\u001b[0;34m\u001b[0m\u001b[0m\n",
      "\u001b[0;32m~/venvs/pycaret38/lib/python3.8/site-packages/sklearn/utils/validation.py\u001b[0m in \u001b[0;36minner_f\u001b[0;34m(*args, **kwargs)\u001b[0m\n\u001b[1;32m     61\u001b[0m             \u001b[0mextra_args\u001b[0m \u001b[0;34m=\u001b[0m \u001b[0mlen\u001b[0m\u001b[0;34m(\u001b[0m\u001b[0margs\u001b[0m\u001b[0;34m)\u001b[0m \u001b[0;34m-\u001b[0m \u001b[0mlen\u001b[0m\u001b[0;34m(\u001b[0m\u001b[0mall_args\u001b[0m\u001b[0;34m)\u001b[0m\u001b[0;34m\u001b[0m\u001b[0;34m\u001b[0m\u001b[0m\n\u001b[1;32m     62\u001b[0m             \u001b[0;32mif\u001b[0m \u001b[0mextra_args\u001b[0m \u001b[0;34m<=\u001b[0m \u001b[0;36m0\u001b[0m\u001b[0;34m:\u001b[0m\u001b[0;34m\u001b[0m\u001b[0;34m\u001b[0m\u001b[0m\n\u001b[0;32m---> 63\u001b[0;31m                 \u001b[0;32mreturn\u001b[0m \u001b[0mf\u001b[0m\u001b[0;34m(\u001b[0m\u001b[0;34m*\u001b[0m\u001b[0margs\u001b[0m\u001b[0;34m,\u001b[0m \u001b[0;34m**\u001b[0m\u001b[0mkwargs\u001b[0m\u001b[0;34m)\u001b[0m\u001b[0;34m\u001b[0m\u001b[0;34m\u001b[0m\u001b[0m\n\u001b[0m\u001b[1;32m     64\u001b[0m \u001b[0;34m\u001b[0m\u001b[0m\n\u001b[1;32m     65\u001b[0m             \u001b[0;31m# extra_args > 0\u001b[0m\u001b[0;34m\u001b[0m\u001b[0;34m\u001b[0m\u001b[0;34m\u001b[0m\u001b[0m\n",
      "\u001b[0;32m~/venvs/pycaret38/lib/python3.8/site-packages/sklearn/metrics/_classification.py\u001b[0m in \u001b[0;36mconfusion_matrix\u001b[0;34m(y_true, y_pred, labels, sample_weight, normalize)\u001b[0m\n\u001b[1;32m    294\u001b[0m \u001b[0;34m\u001b[0m\u001b[0m\n\u001b[1;32m    295\u001b[0m     \"\"\"\n\u001b[0;32m--> 296\u001b[0;31m     \u001b[0my_type\u001b[0m\u001b[0;34m,\u001b[0m \u001b[0my_true\u001b[0m\u001b[0;34m,\u001b[0m \u001b[0my_pred\u001b[0m \u001b[0;34m=\u001b[0m \u001b[0m_check_targets\u001b[0m\u001b[0;34m(\u001b[0m\u001b[0my_true\u001b[0m\u001b[0;34m,\u001b[0m \u001b[0my_pred\u001b[0m\u001b[0;34m)\u001b[0m\u001b[0;34m\u001b[0m\u001b[0;34m\u001b[0m\u001b[0m\n\u001b[0m\u001b[1;32m    297\u001b[0m     \u001b[0;32mif\u001b[0m \u001b[0my_type\u001b[0m \u001b[0;32mnot\u001b[0m \u001b[0;32min\u001b[0m \u001b[0;34m(\u001b[0m\u001b[0;34m\"binary\"\u001b[0m\u001b[0;34m,\u001b[0m \u001b[0;34m\"multiclass\"\u001b[0m\u001b[0;34m)\u001b[0m\u001b[0;34m:\u001b[0m\u001b[0;34m\u001b[0m\u001b[0;34m\u001b[0m\u001b[0m\n\u001b[1;32m    298\u001b[0m         \u001b[0;32mraise\u001b[0m \u001b[0mValueError\u001b[0m\u001b[0;34m(\u001b[0m\u001b[0;34m\"%s is not supported\"\u001b[0m \u001b[0;34m%\u001b[0m \u001b[0my_type\u001b[0m\u001b[0;34m)\u001b[0m\u001b[0;34m\u001b[0m\u001b[0;34m\u001b[0m\u001b[0m\n",
      "\u001b[0;32m~/venvs/pycaret38/lib/python3.8/site-packages/sklearn/metrics/_classification.py\u001b[0m in \u001b[0;36m_check_targets\u001b[0;34m(y_true, y_pred)\u001b[0m\n\u001b[1;32m     83\u001b[0m     \u001b[0mcheck_consistent_length\u001b[0m\u001b[0;34m(\u001b[0m\u001b[0my_true\u001b[0m\u001b[0;34m,\u001b[0m \u001b[0my_pred\u001b[0m\u001b[0;34m)\u001b[0m\u001b[0;34m\u001b[0m\u001b[0;34m\u001b[0m\u001b[0m\n\u001b[1;32m     84\u001b[0m     \u001b[0mtype_true\u001b[0m \u001b[0;34m=\u001b[0m \u001b[0mtype_of_target\u001b[0m\u001b[0;34m(\u001b[0m\u001b[0my_true\u001b[0m\u001b[0;34m)\u001b[0m\u001b[0;34m\u001b[0m\u001b[0;34m\u001b[0m\u001b[0m\n\u001b[0;32m---> 85\u001b[0;31m     \u001b[0mtype_pred\u001b[0m \u001b[0;34m=\u001b[0m \u001b[0mtype_of_target\u001b[0m\u001b[0;34m(\u001b[0m\u001b[0my_pred\u001b[0m\u001b[0;34m)\u001b[0m\u001b[0;34m\u001b[0m\u001b[0;34m\u001b[0m\u001b[0m\n\u001b[0m\u001b[1;32m     86\u001b[0m \u001b[0;34m\u001b[0m\u001b[0m\n\u001b[1;32m     87\u001b[0m     \u001b[0my_type\u001b[0m \u001b[0;34m=\u001b[0m \u001b[0;34m{\u001b[0m\u001b[0mtype_true\u001b[0m\u001b[0;34m,\u001b[0m \u001b[0mtype_pred\u001b[0m\u001b[0;34m}\u001b[0m\u001b[0;34m\u001b[0m\u001b[0;34m\u001b[0m\u001b[0m\n",
      "\u001b[0;32m~/venvs/pycaret38/lib/python3.8/site-packages/sklearn/utils/multiclass.py\u001b[0m in \u001b[0;36mtype_of_target\u001b[0;34m(y)\u001b[0m\n\u001b[1;32m    301\u001b[0m     \u001b[0;32mif\u001b[0m \u001b[0my\u001b[0m\u001b[0;34m.\u001b[0m\u001b[0mdtype\u001b[0m\u001b[0;34m.\u001b[0m\u001b[0mkind\u001b[0m \u001b[0;34m==\u001b[0m \u001b[0;34m'f'\u001b[0m \u001b[0;32mand\u001b[0m \u001b[0mnp\u001b[0m\u001b[0;34m.\u001b[0m\u001b[0many\u001b[0m\u001b[0;34m(\u001b[0m\u001b[0my\u001b[0m \u001b[0;34m!=\u001b[0m \u001b[0my\u001b[0m\u001b[0;34m.\u001b[0m\u001b[0mastype\u001b[0m\u001b[0;34m(\u001b[0m\u001b[0mint\u001b[0m\u001b[0;34m)\u001b[0m\u001b[0;34m)\u001b[0m\u001b[0;34m:\u001b[0m\u001b[0;34m\u001b[0m\u001b[0;34m\u001b[0m\u001b[0m\n\u001b[1;32m    302\u001b[0m         \u001b[0;31m# [.1, .2, 3] or [[.1, .2, 3]] or [[1., .2]] and not [1., 2., 3.]\u001b[0m\u001b[0;34m\u001b[0m\u001b[0;34m\u001b[0m\u001b[0;34m\u001b[0m\u001b[0m\n\u001b[0;32m--> 303\u001b[0;31m         \u001b[0m_assert_all_finite\u001b[0m\u001b[0;34m(\u001b[0m\u001b[0my\u001b[0m\u001b[0;34m)\u001b[0m\u001b[0;34m\u001b[0m\u001b[0;34m\u001b[0m\u001b[0m\n\u001b[0m\u001b[1;32m    304\u001b[0m         \u001b[0;32mreturn\u001b[0m \u001b[0;34m'continuous'\u001b[0m \u001b[0;34m+\u001b[0m \u001b[0msuffix\u001b[0m\u001b[0;34m\u001b[0m\u001b[0;34m\u001b[0m\u001b[0m\n\u001b[1;32m    305\u001b[0m \u001b[0;34m\u001b[0m\u001b[0m\n",
      "\u001b[0;32m~/venvs/pycaret38/lib/python3.8/site-packages/sklearn/utils/validation.py\u001b[0m in \u001b[0;36m_assert_all_finite\u001b[0;34m(X, allow_nan, msg_dtype)\u001b[0m\n\u001b[1;32m    101\u001b[0m                 not allow_nan and not np.isfinite(X).all()):\n\u001b[1;32m    102\u001b[0m             \u001b[0mtype_err\u001b[0m \u001b[0;34m=\u001b[0m \u001b[0;34m'infinity'\u001b[0m \u001b[0;32mif\u001b[0m \u001b[0mallow_nan\u001b[0m \u001b[0;32melse\u001b[0m \u001b[0;34m'NaN, infinity'\u001b[0m\u001b[0;34m\u001b[0m\u001b[0;34m\u001b[0m\u001b[0m\n\u001b[0;32m--> 103\u001b[0;31m             raise ValueError(\n\u001b[0m\u001b[1;32m    104\u001b[0m                     \u001b[0mmsg_err\u001b[0m\u001b[0;34m.\u001b[0m\u001b[0mformat\u001b[0m\u001b[0;34m\u001b[0m\u001b[0;34m\u001b[0m\u001b[0m\n\u001b[1;32m    105\u001b[0m                     (type_err,\n",
      "\u001b[0;31mValueError\u001b[0m: Input contains NaN, infinity or a value too large for dtype('float64')."
     ]
    }
   ],
   "source": [
    "#print(score_unseen.to_string(index=False))\n",
    "conf_mat(unseen, predict_unseen)"
   ]
  },
  {
   "cell_type": "markdown",
   "metadata": {},
   "source": [
    "So, the unseen data was well predicted on the model, with a high F1-Score showing a good balance between Recall and precision."
   ]
  },
  {
   "cell_type": "markdown",
   "metadata": {},
   "source": [
    "# 6. Conclusion\n",
    "The following conclusions can be drawed:\n",
    "* The Model just needed 4 Topics Modelled to compare the sentences.\n",
    "* Character length is important to compare the sentences.\n",
    "* Recall was excellent, getting about 95% of the positive labels.\n",
    "* Precision was excellent too, predicting correctly about 90% of the values labeled as positives.\n",
    "* F1-Score was about 92% with a good balance between recall and precision.\n",
    "* The Length on the `sentence_y` is important to model prediction performance."
   ]
  }
 ],
 "metadata": {
  "jupytext": {
   "formats": "ipynb,py:light"
  },
  "kernelspec": {
   "display_name": "Python 3",
   "language": "python",
   "name": "python3"
  },
  "language_info": {
   "codemirror_mode": {
    "name": "ipython",
    "version": 3
   },
   "file_extension": ".py",
   "mimetype": "text/x-python",
   "name": "python",
   "nbconvert_exporter": "python",
   "pygments_lexer": "ipython3",
   "version": "3.8.5"
  },
  "nteract": {
   "version": "0.24.0"
  }
 },
 "nbformat": 4,
 "nbformat_minor": 4
}
